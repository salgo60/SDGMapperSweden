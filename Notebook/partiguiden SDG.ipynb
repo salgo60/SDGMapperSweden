{
 "cells": [
  {
   "cell_type": "markdown",
   "id": "a1454de2",
   "metadata": {},
   "source": [
    "SDG partier via [partiguiden.se](https://partiguiden.nu/) / [GITHUB](https://github.com/Ackuq/partiguiden/issues/1249)\n",
    "* [SDG mapper](https://knowsdgs.jrc.ec.europa.eu/sdgmapper)  \n",
    "\n",
    "* API https://backend.partiguiden.se/standpoints"
   ]
  },
  {
   "cell_type": "code",
   "execution_count": 1,
   "id": "56f5c57a",
   "metadata": {},
   "outputs": [
    {
     "name": "stdout",
     "output_type": "stream",
     "text": [
      "Last run:  2022-06-29 03:00:29.280934\n"
     ]
    }
   ],
   "source": [
    "from datetime import datetime\n",
    "start_time  = datetime.now()\n",
    "print(\"Last run: \", start_time)"
   ]
  },
  {
   "cell_type": "code",
   "execution_count": 2,
   "id": "51dabdf6",
   "metadata": {},
   "outputs": [
    {
     "data": {
      "text/html": [
       "<div>\n",
       "<style scoped>\n",
       "    .dataframe tbody tr th:only-of-type {\n",
       "        vertical-align: middle;\n",
       "    }\n",
       "\n",
       "    .dataframe tbody tr th {\n",
       "        vertical-align: top;\n",
       "    }\n",
       "\n",
       "    .dataframe thead th {\n",
       "        text-align: right;\n",
       "    }\n",
       "</style>\n",
       "<table border=\"1\" class=\"dataframe\">\n",
       "  <thead>\n",
       "    <tr style=\"text-align: right;\">\n",
       "      <th></th>\n",
       "      <th>id</th>\n",
       "      <th>title</th>\n",
       "      <th>content</th>\n",
       "      <th>date</th>\n",
       "      <th>link</th>\n",
       "      <th>party</th>\n",
       "      <th>subject</th>\n",
       "    </tr>\n",
       "  </thead>\n",
       "  <tbody>\n",
       "    <tr>\n",
       "      <th>0</th>\n",
       "      <td>aHR0cHM6Ly93d3cuY2VudGVycGFydGlldC5zZS92YXItcG...</td>\n",
       "      <td>Abort</td>\n",
       "      <td>[Att fria och säkra aborter ska vara en mänskl...</td>\n",
       "      <td>2022-06-25</td>\n",
       "      <td>https://www.centerpartiet.se/var-politik/polit...</td>\n",
       "      <td>C</td>\n",
       "      <td>15.0</td>\n",
       "    </tr>\n",
       "    <tr>\n",
       "      <th>1</th>\n",
       "      <td>aHR0cHM6Ly93d3cuY2VudGVycGFydGlldC5zZS92YXItcG...</td>\n",
       "      <td>Abort</td>\n",
       "      <td>[Rätt till fria och säkra aborter till och med...</td>\n",
       "      <td>2022-06-25</td>\n",
       "      <td>https://www.centerpartiet.se/var-politik/polit...</td>\n",
       "      <td>C</td>\n",
       "      <td>2.0</td>\n",
       "    </tr>\n",
       "    <tr>\n",
       "      <th>2</th>\n",
       "      <td>aHR0cHM6Ly93d3cuY2VudGVycGFydGlldC5zZS92YXItcG...</td>\n",
       "      <td>Adoption</td>\n",
       "      <td>[Barnets bästa ska styra när det handlar om ad...</td>\n",
       "      <td>2022-06-25</td>\n",
       "      <td>https://www.centerpartiet.se/var-politik/polit...</td>\n",
       "      <td>C</td>\n",
       "      <td>7.0</td>\n",
       "    </tr>\n",
       "    <tr>\n",
       "      <th>3</th>\n",
       "      <td>aHR0cHM6Ly93d3cuY2VudGVycGFydGlldC5zZS92YXItcG...</td>\n",
       "      <td>A-kassa och omställningsförsäkring</td>\n",
       "      <td>[Att a-kassan ska vara allmän och omfatta alla...</td>\n",
       "      <td>2022-06-25</td>\n",
       "      <td>https://www.centerpartiet.se/var-politik/polit...</td>\n",
       "      <td>C</td>\n",
       "      <td>20.0</td>\n",
       "    </tr>\n",
       "    <tr>\n",
       "      <th>4</th>\n",
       "      <td>aHR0cHM6Ly93d3cuY2VudGVycGFydGlldC5zZS92YXItcG...</td>\n",
       "      <td>Alkoholpolitik</td>\n",
       "      <td>[Tillåta gårdsförsäljning av alkoholhaltiga dr...</td>\n",
       "      <td>2022-06-25</td>\n",
       "      <td>https://www.centerpartiet.se/var-politik/polit...</td>\n",
       "      <td>C</td>\n",
       "      <td>2.0</td>\n",
       "    </tr>\n",
       "    <tr>\n",
       "      <th>...</th>\n",
       "      <td>...</td>\n",
       "      <td>...</td>\n",
       "      <td>...</td>\n",
       "      <td>...</td>\n",
       "      <td>...</td>\n",
       "      <td>...</td>\n",
       "      <td>...</td>\n",
       "    </tr>\n",
       "    <tr>\n",
       "      <th>1186</th>\n",
       "      <td>aHR0cHM6Ly93d3cudmFuc3RlcnBhcnRpZXQuc2UvcG9saX...</td>\n",
       "      <td>Vapen­export</td>\n",
       "      <td>[Vänsterpartiet vill att Sverige ska vara ett ...</td>\n",
       "      <td>2022-06-25</td>\n",
       "      <td>https://www.vansterpartiet.se/politik/vapenexp...</td>\n",
       "      <td>V</td>\n",
       "      <td>9.0</td>\n",
       "    </tr>\n",
       "    <tr>\n",
       "      <th>1187</th>\n",
       "      <td>aHR0cHM6Ly93d3cudmFuc3RlcnBhcnRpZXQuc2UvcG9saX...</td>\n",
       "      <td>Vinster i välfärden</td>\n",
       "      <td>[När vi går till vårdcentralen vill vi vara tr...</td>\n",
       "      <td>2022-06-25</td>\n",
       "      <td>https://www.vansterpartiet.se/politik/vinster-...</td>\n",
       "      <td>V</td>\n",
       "      <td>20.0</td>\n",
       "    </tr>\n",
       "    <tr>\n",
       "      <th>1188</th>\n",
       "      <td>aHR0cHM6Ly93d3cudmFuc3RlcnBhcnRpZXQuc2UvcG9saX...</td>\n",
       "      <td>Vålds­bejakande extremism</td>\n",
       "      <td>[Våldsbejakande extremism och terrorism är hot...</td>\n",
       "      <td>2022-06-25</td>\n",
       "      <td>https://www.vansterpartiet.se/politik/valdsbej...</td>\n",
       "      <td>V</td>\n",
       "      <td>9.0</td>\n",
       "    </tr>\n",
       "    <tr>\n",
       "      <th>1189</th>\n",
       "      <td>aHR0cHM6Ly93d3cudmFuc3RlcnBhcnRpZXQuc2UvcG9saX...</td>\n",
       "      <td>Välfärd</td>\n",
       "      <td>[Att välfärden fungerar är en förutsättning fö...</td>\n",
       "      <td>2022-06-25</td>\n",
       "      <td>https://www.vansterpartiet.se/politik/valfard/</td>\n",
       "      <td>V</td>\n",
       "      <td>20.0</td>\n",
       "    </tr>\n",
       "    <tr>\n",
       "      <th>1190</th>\n",
       "      <td>aHR0cHM6Ly93d3cudmFuc3RlcnBhcnRpZXQuc2UvcG9saX...</td>\n",
       "      <td>Äldreom­sorg</td>\n",
       "      <td>[Äldreomsorgen berör oss alla. Antingen är vi ...</td>\n",
       "      <td>2022-06-25</td>\n",
       "      <td>https://www.vansterpartiet.se/politik/aldreoms...</td>\n",
       "      <td>V</td>\n",
       "      <td>22.0</td>\n",
       "    </tr>\n",
       "  </tbody>\n",
       "</table>\n",
       "<p>1191 rows × 7 columns</p>\n",
       "</div>"
      ],
      "text/plain": [
       "                                                     id  \\\n",
       "0     aHR0cHM6Ly93d3cuY2VudGVycGFydGlldC5zZS92YXItcG...   \n",
       "1     aHR0cHM6Ly93d3cuY2VudGVycGFydGlldC5zZS92YXItcG...   \n",
       "2     aHR0cHM6Ly93d3cuY2VudGVycGFydGlldC5zZS92YXItcG...   \n",
       "3     aHR0cHM6Ly93d3cuY2VudGVycGFydGlldC5zZS92YXItcG...   \n",
       "4     aHR0cHM6Ly93d3cuY2VudGVycGFydGlldC5zZS92YXItcG...   \n",
       "...                                                 ...   \n",
       "1186  aHR0cHM6Ly93d3cudmFuc3RlcnBhcnRpZXQuc2UvcG9saX...   \n",
       "1187  aHR0cHM6Ly93d3cudmFuc3RlcnBhcnRpZXQuc2UvcG9saX...   \n",
       "1188  aHR0cHM6Ly93d3cudmFuc3RlcnBhcnRpZXQuc2UvcG9saX...   \n",
       "1189  aHR0cHM6Ly93d3cudmFuc3RlcnBhcnRpZXQuc2UvcG9saX...   \n",
       "1190  aHR0cHM6Ly93d3cudmFuc3RlcnBhcnRpZXQuc2UvcG9saX...   \n",
       "\n",
       "                                   title  \\\n",
       "0                                  Abort   \n",
       "1                                  Abort   \n",
       "2                               Adoption   \n",
       "3     A-kassa och omställningsförsäkring   \n",
       "4                         Alkoholpolitik   \n",
       "...                                  ...   \n",
       "1186                        Vapen­export   \n",
       "1187                 Vinster i välfärden   \n",
       "1188           Vålds­bejakande extremism   \n",
       "1189                             Välfärd   \n",
       "1190                        Äldreom­sorg   \n",
       "\n",
       "                                                content        date  \\\n",
       "0     [Att fria och säkra aborter ska vara en mänskl...  2022-06-25   \n",
       "1     [Rätt till fria och säkra aborter till och med...  2022-06-25   \n",
       "2     [Barnets bästa ska styra när det handlar om ad...  2022-06-25   \n",
       "3     [Att a-kassan ska vara allmän och omfatta alla...  2022-06-25   \n",
       "4     [Tillåta gårdsförsäljning av alkoholhaltiga dr...  2022-06-25   \n",
       "...                                                 ...         ...   \n",
       "1186  [Vänsterpartiet vill att Sverige ska vara ett ...  2022-06-25   \n",
       "1187  [När vi går till vårdcentralen vill vi vara tr...  2022-06-25   \n",
       "1188  [Våldsbejakande extremism och terrorism är hot...  2022-06-25   \n",
       "1189  [Att välfärden fungerar är en förutsättning fö...  2022-06-25   \n",
       "1190  [Äldreomsorgen berör oss alla. Antingen är vi ...  2022-06-25   \n",
       "\n",
       "                                                   link party  subject  \n",
       "0     https://www.centerpartiet.se/var-politik/polit...     C     15.0  \n",
       "1     https://www.centerpartiet.se/var-politik/polit...     C      2.0  \n",
       "2     https://www.centerpartiet.se/var-politik/polit...     C      7.0  \n",
       "3     https://www.centerpartiet.se/var-politik/polit...     C     20.0  \n",
       "4     https://www.centerpartiet.se/var-politik/polit...     C      2.0  \n",
       "...                                                 ...   ...      ...  \n",
       "1186  https://www.vansterpartiet.se/politik/vapenexp...     V      9.0  \n",
       "1187  https://www.vansterpartiet.se/politik/vinster-...     V     20.0  \n",
       "1188  https://www.vansterpartiet.se/politik/valdsbej...     V      9.0  \n",
       "1189     https://www.vansterpartiet.se/politik/valfard/     V     20.0  \n",
       "1190  https://www.vansterpartiet.se/politik/aldreoms...     V     22.0  \n",
       "\n",
       "[1191 rows x 7 columns]"
      ]
     },
     "execution_count": 2,
     "metadata": {},
     "output_type": "execute_result"
    }
   ],
   "source": [
    "import pandas\n",
    "import urllib3, json\n",
    "import pandas as pd   \n",
    "http = urllib3.PoolManager() \n",
    "\n",
    "def getdf(url):\n",
    "    r = http.request('GET', url) \n",
    "    data = json.loads(r.data)\n",
    "    return pd.json_normalize(data)\n",
    "\n",
    "urlStandpoints = \"https://backend.partiguiden.se/standpoints\"\n",
    "\n",
    "dfStandpoints = getdf(urlStandpoints)  \n",
    "dfStandpoints"
   ]
  },
  {
   "cell_type": "code",
   "execution_count": 4,
   "id": "e1ad0959",
   "metadata": {},
   "outputs": [
    {
     "name": "stderr",
     "output_type": "stream",
     "text": [
      "  1%|          | 6/1191 [00:15<51:12,  2.59s/it]"
     ]
    },
    {
     "name": "stdout",
     "output_type": "stream",
     "text": [
      "aHR0cHM6Ly93d3cuY2VudGVycGFydGlldC5zZS92YXItcG9saXRpay9wb2xpdGlrLWEtby92YXJkLW9jaC1vbXNvcmcvYW5ob3JpZ2E= \n",
      " Anhöriga Att det tas fram en nationell strategi för stöd till anhörigvårdare Att en ny lag om ersättning för vård av nära anhörig (”VAN”) utreds Ge bättre stöd till barn som är anhöriga \n",
      "\t [{'name': 'SDG 9', 'n_occurrences': 1, 'children': [{'n_occurrences': 1, 'name': 'Target 9.5'}]}] \n",
      "\n"
     ]
    },
    {
     "name": "stderr",
     "output_type": "stream",
     "text": [
      "  3%|▎         | 33/1191 [01:23<48:49,  2.53s/it]"
     ]
    },
    {
     "name": "stdout",
     "output_type": "stream",
     "text": [
      "aHR0cHM6Ly93d3cuY2VudGVycGFydGlldC5zZS92YXItcG9saXRpay9wb2xpdGlrLWEtby9kaWdpdGFsaXNlcmluZw== \n",
      " Digitalisering Att när du har en gång lämnat information ska du inte behöva göra det igen Att digitala tjänster i det offentligas tjänst ska bygga på öppen data, samtidigt som medborgarnas integritet är skyddad Stärka arbetet mot cyberattacker i Sverige \n",
      "\t [{'name': 'SDG 9', 'n_occurrences': 1, 'children': [{'n_occurrences': 1, 'name': 'SDG 9_undetected_target'}]}] \n",
      "\n"
     ]
    },
    {
     "name": "stderr",
     "output_type": "stream",
     "text": [
      "\r",
      "  3%|▎         | 34/1191 [01:26<47:11,  2.45s/it]"
     ]
    },
    {
     "name": "stdout",
     "output_type": "stream",
     "text": [
      "aHR0cHM6Ly93d3cuY2VudGVycGFydGlldC5zZS92YXItcG9saXRpay9wb2xpdGlrLWEtby9kaWdpdGFsaXNlcmluZy9kaWdpdGFsaXNlcmluZy1pLXNrb2xhbg== \n",
      " Digitalisering i skolan Att digitaliseringens möjligheter ses i alla delar av utbildningsväsendet. Ha en långsiktig satsning på ett nationellt digitalt lärarlyft. Att fjärrundervisning ska tillåtas i alla relevanta ämnen. \n",
      "\t [{'name': 'SDG 9', 'n_occurrences': 1, 'children': [{'n_occurrences': 1, 'name': 'SDG 9_undetected_target'}]}] \n",
      "\n"
     ]
    },
    {
     "name": "stderr",
     "output_type": "stream",
     "text": [
      "\r",
      "  3%|▎         | 35/1191 [01:29<49:33,  2.57s/it]"
     ]
    },
    {
     "name": "stdout",
     "output_type": "stream",
     "text": [
      "aHR0cHM6Ly93d3cuY2VudGVycGFydGlldC5zZS92YXItcG9saXRpay9wb2xpdGlrLWEtby9kaWdpdGFsaXNlcmluZy9kaWdpdGFsLXV0YmlsZG5pbmdzLS1vY2gtYXJiZXRzbWFya25hZA== \n",
      " Digital utbildnings- och arbetsmarknad Skapa bättre förutsättningar för livslångt lärande med digitala lösningar Att skolan utvecklas för att kunna tillmötesgå högre krav från arbetsmarknaden samtidigt som företag arbetar mer med kompetensutveckling. Stärka kompetenser för att kunna hantera den höga graden av automatisering och de nya jobb som skapas med digitaliseringen. \n",
      "\t [{'name': 'SDG 9', 'n_occurrences': 1, 'children': [{'n_occurrences': 1, 'name': 'SDG 9_undetected_target'}]}] \n",
      "\n"
     ]
    },
    {
     "name": "stderr",
     "output_type": "stream",
     "text": [
      "\r",
      "  3%|▎         | 36/1191 [01:31<49:27,  2.57s/it]"
     ]
    },
    {
     "name": "stdout",
     "output_type": "stream",
     "text": [
      "aHR0cHM6Ly93d3cuY2VudGVycGFydGlldC5zZS92YXItcG9saXRpay9wb2xpdGlrLWEtby9kaWdpdGFsaXNlcmluZy9kaWdpdGFsLXZhbGZhcmQ= \n",
      " Digital välfärd Att offentlig verksamhet digitaliseras mer, både när det gäller myndigheter och välfärdsverksamhet. Att ersättningsystemen förbättras, så att såväl privata som offentliga och ideella utförare har möjlighet att skapa nya digitala tjänster. Öka den digitala teknikanvändningen, som till exempel VR- och videosamtal inom sjuk- och äldrevård. \n",
      "\t [{'name': 'SDG 9', 'n_occurrences': 3, 'children': [{'n_occurrences': 2, 'name': 'Target 9.5'}, {'n_occurrences': 1, 'name': 'SDG 9_undetected_target'}]}] \n",
      "\n"
     ]
    },
    {
     "name": "stderr",
     "output_type": "stream",
     "text": [
      "  3%|▎         | 40/1191 [01:41<48:00,  2.50s/it]"
     ]
    },
    {
     "name": "stdout",
     "output_type": "stream",
     "text": [
      "aHR0cHM6Ly93d3cuY2VudGVycGFydGlldC5zZS92YXItcG9saXRpay9wb2xpdGlrLWEtby9tYXQvZGp1cnZhbGZhcmQ= \n",
      " Djurvälfärd Fortsätta att sänka avgifterna för svenska bönder Ge svenska bönder bra villkor så att de kan producera mat med världens bästa djurskydd Höja djurvälfärden på EU-nivå och arbeta för likvärdig tillämpning av EU-regelverken \n",
      "\t [{'name': 'SDG 9', 'n_occurrences': 1, 'children': [{'n_occurrences': 1, 'name': 'Target 9.5'}]}] \n",
      "\n"
     ]
    },
    {
     "name": "stderr",
     "output_type": "stream",
     "text": [
      "  4%|▎         | 42/1191 [01:46<48:30,  2.53s/it]"
     ]
    },
    {
     "name": "stdout",
     "output_type": "stream",
     "text": [
      "aHR0cHM6Ly93d3cuY2VudGVycGFydGlldC5zZS92YXItcG9saXRpay9wb2xpdGlrLWEtby92YXJkLW9jaC1vbXNvcmcvZG9kc2hqYWxw \n",
      " Dödshjälp Att den svenska vården inte erbjuder aktiv dödshjälp. Att alla döende patienter ska få god vård i livets slutskede. \n",
      "\t [{'name': 'SDG 9', 'n_occurrences': 1, 'children': [{'n_occurrences': 1, 'name': 'Target 9.5'}]}] \n",
      "\n"
     ]
    },
    {
     "name": "stderr",
     "output_type": "stream",
     "text": [
      "  6%|▌         | 66/1191 [02:47<48:05,  2.57s/it]"
     ]
    },
    {
     "name": "stdout",
     "output_type": "stream",
     "text": [
      "aHR0cHM6Ly93d3cuY2VudGVycGFydGlldC5zZS92YXItcG9saXRpay9wb2xpdGlrLWEtby92YXJkLW9jaC1vbXNvcmcvZm9ybG9zc25pbmdzdmFyZA== \n",
      " Förlossningsvård Se mer trygghet och valfrihet i förlossningsvården Säkerställa en bra arbetsmiljö för barnmorskor i hela landet Ge snabbare tillgång till vård för förlossningsskador \n",
      "\t [{'name': 'SDG 9', 'n_occurrences': 2, 'children': [{'n_occurrences': 2, 'name': 'Target 9.5'}]}] \n",
      "\n"
     ]
    },
    {
     "name": "stderr",
     "output_type": "stream",
     "text": [
      "  7%|▋         | 78/1191 [03:17<46:36,  2.51s/it]"
     ]
    },
    {
     "name": "stdout",
     "output_type": "stream",
     "text": [
      "aHR0cHM6Ly93d3cuY2VudGVycGFydGlldC5zZS92YXItcG9saXRpay9wb2xpdGlrLWEtby91dHJpa2VzLS1vY2gtYmlzdGFuZHNmcmFnb3IvaGFuZGVs \n",
      " Handel Att EU arbetar för fler frihandelsavtal Att värdebaserade handelsavtal sluts så att EU-standarder och normer sprids så att krav på miljö, livsmedel och djurvälfärd inte sänks Att EU skapar ett regelverk för företagsansvar som är effektivt för mänskliga rättigheter, miljö och klimat \n",
      "\t [{'name': 'SDG 9', 'n_occurrences': 1, 'children': [{'n_occurrences': 1, 'name': 'Target 9.5'}]}] \n",
      "\n"
     ]
    },
    {
     "name": "stderr",
     "output_type": "stream",
     "text": [
      "  7%|▋         | 87/1191 [03:39<45:27,  2.47s/it]"
     ]
    },
    {
     "name": "stdout",
     "output_type": "stream",
     "text": [
      "aHR0cHM6Ly93d3cuY2VudGVycGFydGlldC5zZS92YXItcG9saXRpay9wb2xpdGlrLWEtby9taWxqby9oYWxsYmFydC1za29nc2JydWs= \n",
      " Hållbart skogsbruk Ha flexibla metoder för naturvård som ekologisk kompensation och frivilliga skyddsformer Stärka de gröna näringarna för ett fossilfritt och förnybart samhälle Förbättra de gröna näringarnas konkurrenskraft med sänkta kostnader och regelförenklingar \n",
      "\t [{'name': 'SDG 9', 'n_occurrences': 1, 'children': [{'n_occurrences': 1, 'name': 'Target 9.5'}]}] \n",
      "\n"
     ]
    },
    {
     "name": "stderr",
     "output_type": "stream",
     "text": [
      "  8%|▊         | 90/1191 [03:46<45:26,  2.48s/it]"
     ]
    },
    {
     "name": "stdout",
     "output_type": "stream",
     "text": [
      "aHR0cHM6Ly93d3cuY2VudGVycGFydGlldC5zZS92YXItcG9saXRpay9wb2xpdGlrLWEtby9rdWx0dXItbWVkaWEtb2NoLWlkcm90dC9pZGVlbGxhLW9yZ2FuaXNhdGlvbmVy \n",
      " Ideella organisationer Att du som ger gåvor till en ideell organisation ska få dra av det på deklarationen. Att de ideella organisationerna ska få mer ansvar för integrationen. Underlätta för ideella organisationer att erbjuda vård, skola och omsorg. \n",
      "\t [{'name': 'SDG 9', 'n_occurrences': 1, 'children': [{'n_occurrences': 1, 'name': 'Target 9.5'}]}] \n",
      "\n"
     ]
    },
    {
     "name": "stderr",
     "output_type": "stream",
     "text": [
      "  8%|▊         | 100/1191 [04:12<46:20,  2.55s/it]"
     ]
    },
    {
     "name": "stdout",
     "output_type": "stream",
     "text": [
      "aHR0cHM6Ly93d3cuY2VudGVycGFydGlldC5zZS92YXItcG9saXRpay9wb2xpdGlrLWEtby9pdC1vY2gtbW9iaWx0ZWxlZm9uaQ== \n",
      " IT och mobiltelefoni Ha en digital allemansrätt som garanterar stabil och snabb uppkoppling i hela landet Att mer utrymme frigörs för bättre mobiltelefoni och surf i hela landet Att mobiloperatörerna tar sitt ansvar, samarbetar och bygger ut näten i hela landet \n",
      "\t [{'name': 'SDG 9', 'n_occurrences': 1, 'children': [{'n_occurrences': 1, 'name': 'SDG 9_undetected_target'}]}] \n",
      "\n"
     ]
    },
    {
     "name": "stderr",
     "output_type": "stream",
     "text": [
      "  9%|▉         | 109/1191 [04:35<45:30,  2.52s/it]"
     ]
    },
    {
     "name": "stdout",
     "output_type": "stream",
     "text": [
      "aHR0cHM6Ly93d3cuY2VudGVycGFydGlldC5zZS92YXItcG9saXRpay9wb2xpdGlrLWEtby9kaWdpdGFsaXNlcmluZy9qYW1zdGFsbGQtb2NoLWhhbGxiYXItZGlnaXRhbGlzZXJpbmc= \n",
      " Jämställd och hållbar digitalisering Se över hur digitala monopol, som exempelvis BankID, kan utmanas. Stärka förutsättningarna för en jämställd och hållbar digitalisering genom att allas expertis och erfarenhet tas tillvara på. \n",
      "\t [{'name': 'SDG 9', 'n_occurrences': 2, 'children': [{'n_occurrences': 2, 'name': 'SDG 9_undetected_target'}]}] \n",
      "\n"
     ]
    },
    {
     "name": "stderr",
     "output_type": "stream",
     "text": [
      "\r",
      "  9%|▉         | 110/1191 [04:37<44:44,  2.48s/it]"
     ]
    },
    {
     "name": "stdout",
     "output_type": "stream",
     "text": [
      "aHR0cHM6Ly93d3cuY2VudGVycGFydGlldC5zZS92YXItcG9saXRpay9wb2xpdGlrLWEtby92YXJkLW9jaC1vbXNvcmcvamFtc3RhbGxkLXZhcmQ= \n",
      " Jämställd vård Se till att kvinnor inte får vänta längre på akutsjukvård eller får kortare sjukskrivning än män för liknande sjukdomstillstånd. Inrätta ett forskningsprogram på tio år om sjukdomstillstånd som drabbar kvinnor. Ge Myndigheten för vård- och omsorgsanalys i uppdrag att löpande analysera ojämställdhet inom hälso- och sjukvården. \n",
      "\t [{'name': 'SDG 9', 'n_occurrences': 2, 'children': [{'n_occurrences': 2, 'name': 'Target 9.5'}]}] \n",
      "\n"
     ]
    },
    {
     "name": "stderr",
     "output_type": "stream",
     "text": [
      " 11%|█         | 127/1191 [05:22<45:44,  2.58s/it]"
     ]
    },
    {
     "name": "stdout",
     "output_type": "stream",
     "text": [
      "aHR0cHM6Ly93d3cuY2VudGVycGFydGlldC5zZS92YXItcG9saXRpay9wb2xpdGlrLWEtby9sYW5kc2J5Z2Q= \n",
      " Landsbygd Att besluten ska fattas nära de människor som berörs Ha en levande landsbygd med likvärdiga möjligheter till företagande, arbete, boende och välfärd Ta tillvara landsbygdens potential i den gröna omställningen \n",
      "\t [{'name': 'SDG 9', 'n_occurrences': 1, 'children': [{'n_occurrences': 1, 'name': 'Target 9.5'}]}] \n",
      "\n"
     ]
    },
    {
     "name": "stderr",
     "output_type": "stream",
     "text": [
      " 14%|█▍        | 164/1191 [06:53<42:22,  2.48s/it]"
     ]
    },
    {
     "name": "stdout",
     "output_type": "stream",
     "text": [
      "aHR0cHM6Ly93d3cuY2VudGVycGFydGlldC5zZS92YXItcG9saXRpay9wb2xpdGlrLWEtby92YXJkLW9jaC1vbXNvcmcvcHN5a2lzay1vaGFsc2E= \n",
      " Psykisk ohälsa Att alla regioner ska erbjuda enkel tillgång till internetbaserad kognitiv beteendeterapi Korta köerna i barn- och ungdomspsykiatrin Återinföra skattefriheten för hälso- och sjukvård som arbetsgivare erbjuder medarbetarna \n",
      "\t [{'name': 'SDG 9', 'n_occurrences': 1, 'children': [{'n_occurrences': 1, 'name': 'Target 9.5'}]}] \n",
      "\n"
     ]
    },
    {
     "name": "stderr",
     "output_type": "stream",
     "text": [
      " 15%|█▍        | 176/1191 [07:22<41:24,  2.45s/it]"
     ]
    },
    {
     "name": "stdout",
     "output_type": "stream",
     "text": [
      "aHR0cHM6Ly93d3cuY2VudGVycGFydGlldC5zZS92YXItcG9saXRpay9wb2xpdGlrLWEtby92YXJkLW9jaC1vbXNvcmcvc2p1a3ZhcmQ= \n",
      " Sjukvård Skapa en tryggare vård och ge alla patienter en fast läkarkontakt Korta köerna i sjukvården i hela landet Öka patientens valfrihet i sjukvården \n",
      "\t [{'name': 'SDG 9', 'n_occurrences': 2, 'children': [{'n_occurrences': 2, 'name': 'Target 9.5'}]}] \n",
      "\n"
     ]
    },
    {
     "name": "stderr",
     "output_type": "stream",
     "text": [
      " 15%|█▌        | 180/1191 [07:33<42:56,  2.55s/it]"
     ]
    },
    {
     "name": "stdout",
     "output_type": "stream",
     "text": [
      "aHR0cHM6Ly93d3cuY2VudGVycGFydGlldC5zZS92YXItcG9saXRpay9wb2xpdGlrLWEtby92YXJkLW9jaC1vbXNvcmcvc29jaWFsdGphbnN0 \n",
      " Socialtjänst Att alla anställda i socialtjänsten ska ha en relevant utbildning och erbjudas regelbunden kompetenshöjning Höja kvaliteten i tvångsvård av barn, unga och personer med missbruksproblematik Ge barn, unga och personer med missbruksproblematik systematiskt stöd efter avslutad tvångsvård \n",
      "\t [{'name': 'SDG 9', 'n_occurrences': 2, 'children': [{'n_occurrences': 2, 'name': 'Target 9.5'}]}] \n",
      "\n"
     ]
    },
    {
     "name": "stderr",
     "output_type": "stream",
     "text": [
      " 16%|█▌        | 185/1191 [07:45<42:29,  2.53s/it]"
     ]
    },
    {
     "name": "stdout",
     "output_type": "stream",
     "text": [
      "aHR0cHM6Ly93d3cuY2VudGVycGFydGlldC5zZS92YXItcG9saXRpay9wb2xpdGlrLWEtby92YXJkLW9jaC1vbXNvcmcvdGFuZHZhcmQ= \n",
      " Tandvård Att alla ska ha tillgång till bra tandvård till rimliga priser Stärka den förebyggande tandvården för äldre, sjuka och personer med funktionsnedsättning Se till att det utbildas fler tandläkare och tandhygienister i hela landet \n",
      "\t [{'name': 'SDG 9', 'n_occurrences': 2, 'children': [{'n_occurrences': 2, 'name': 'Target 9.5'}]}] \n",
      "\n"
     ]
    },
    {
     "name": "stderr",
     "output_type": "stream",
     "text": [
      " 17%|█▋        | 206/1191 [08:39<41:31,  2.53s/it]"
     ]
    },
    {
     "name": "stdout",
     "output_type": "stream",
     "text": [
      "aHR0cHM6Ly93d3cuY2VudGVycGFydGlldC5zZS92YXItcG9saXRpay9wb2xpdGlrLWEtby92YXJkLW9jaC1vbXNvcmcvdmFyZGtvZXI= \n",
      " Vårdköer Korta köerna i sjukvården och skapa fler vårdplatser i hela landet.. Utöka valfriheten för patienten så att fler kan välja var man vill få vård beroende på var köerna är kortast. Stärka ambulanssjukvården på landsbygden. \n",
      "\t [{'name': 'SDG 9', 'n_occurrences': 1, 'children': [{'n_occurrences': 1, 'name': 'Target 9.5'}]}] \n",
      "\n"
     ]
    },
    {
     "name": "stderr",
     "output_type": "stream",
     "text": [
      "\r",
      " 17%|█▋        | 207/1191 [08:42<41:24,  2.52s/it]"
     ]
    },
    {
     "name": "stdout",
     "output_type": "stream",
     "text": [
      "aHR0cHM6Ly93d3cuY2VudGVycGFydGlldC5zZS92YXItcG9saXRpay9wb2xpdGlrLWEtby92YXJkLW9jaC1vbXNvcmc= \n",
      " Vård och omsorg Vården ska vara tillgänglig och hålla hög kvalitet i hela landet Korta köerna i sjukvården och låt fler får en fast läkarkontakt Att det finns flera olika vårdalternativ så att du som patient får välja \n",
      "\t [{'name': 'SDG 9', 'n_occurrences': 1, 'children': [{'n_occurrences': 1, 'name': 'Target 9.5'}]}] \n",
      "\n"
     ]
    },
    {
     "name": "stderr",
     "output_type": "stream",
     "text": [
      "\r",
      " 17%|█▋        | 208/1191 [08:44<40:47,  2.49s/it]"
     ]
    },
    {
     "name": "stdout",
     "output_type": "stream",
     "text": [
      "aHR0cHM6Ly93d3cuY2VudGVycGFydGlldC5zZS92YXItcG9saXRpay9wb2xpdGlrLWEtby92YXJkLW9jaC1vbXNvcmcvdmFyZHBlcnNvbmFsZW4= \n",
      " Vårdpersonalen Ge rätt till kompetensutveckling för fler yrken inom hälso- och sjukvården Stärka möjligheterna till karriärutveckling och lönepåslag för specialistsjuksköterskor och specialistundersköterskor Att det högst får vara 25 medarbetare per chef inom vård och omsorg och se till att det inrättas en obligatorisk chefsutbildning för alla chefer inom sjukvården och äldreomsorgen \n",
      "\t [{'name': 'SDG 9', 'n_occurrences': 1, 'children': [{'n_occurrences': 1, 'name': 'Target 9.5'}]}] \n",
      "\n"
     ]
    },
    {
     "name": "stderr",
     "output_type": "stream",
     "text": [
      "\r",
      " 18%|█▊        | 209/1191 [08:47<41:13,  2.52s/it]"
     ]
    },
    {
     "name": "stdout",
     "output_type": "stream",
     "text": [
      "aHR0cHM6Ly93d3cuY2VudGVycGFydGlldC5zZS92YXItcG9saXRpay9wb2xpdGlrLWEtby9sYW5kc2J5Z2QvdmFyZC1wYS1sYW5kc2J5Z2Rlbg== \n",
      " Vård på landsbygden Att alla regioner ska erbjuda digitala besök i primärvården Inrätta vård- och omsorgsutbildningar på fler platser i landet och underlätta etablering av mindre vårdcentraler Stärka ambulanssjukvården med fler ambulanser och kortare responstid på landsbygden \n",
      "\t [{'name': 'SDG 9', 'n_occurrences': 1, 'children': [{'n_occurrences': 1, 'name': 'Target 9.5'}]}] \n",
      "\n"
     ]
    },
    {
     "name": "stderr",
     "output_type": "stream",
     "text": [
      " 18%|█▊        | 219/1191 [09:12<41:43,  2.58s/it]"
     ]
    },
    {
     "name": "stdout",
     "output_type": "stream",
     "text": [
      "aHR0cHM6Ly9rcmlzdGRlbW9rcmF0ZXJuYS5zZS92YXItcG9saXRpay9wb2xpdGlrLWEtby8jQW5ob3JpZ3ZhcmQ= \n",
      " Anhörigvård Dygnet runt, år ut och år in, görs vård- och omsorgsinsatser av anhöriga. Anhörigvårdarna avlastar stat, regioner och kommuner och det är hög tid att erkänna deras insatser och ge dem de verktyg och det stöd de behöver för att vilja och orka fortsätta i sin ovärderliga gärning. Att vara anhörigvårdare ska alltid vara ett frivilligt uppdrag. Kommunerna skall ge stöd till dem som är anhörigvårdare. Stödet ska vara individuellt, utformat tillsammans med vårdaren och utifrån dennes önskemål och förutsättningar. \n",
      "\t [{'name': 'SDG 9', 'n_occurrences': 1, 'children': [{'n_occurrences': 1, 'name': 'Target 9.5'}]}] \n",
      "\n"
     ]
    },
    {
     "name": "stderr",
     "output_type": "stream",
     "text": [
      " 20%|█▉        | 234/1191 [09:50<40:48,  2.56s/it]"
     ]
    },
    {
     "name": "stdout",
     "output_type": "stream",
     "text": [
      "aHR0cHM6Ly9rcmlzdGRlbW9rcmF0ZXJuYS5zZS92YXItcG9saXRpay9wb2xpdGlrLWEtby8jQmFybmtvbnZlbnRpb25lbg== \n",
      " Barnkonventionen Kristdemokraterna tog initiativ till att göra FN:s Barnkonvention till svensk lag för att ytterligare stärka barns rättigheter. Barnets bästa ska alltid komma i främsta rummet i alla åtgärder som rör barn. Familjen har huvudansvaret för sina barn men varje stat är skyldig att stödja familjerna att ta hand om sina barn. Nu när lagen är införd är det viktigt att den genomförs i hela landet så att vi säkerställer att barnens stärkta rättigheter också får genomslag i praktiken. \n",
      "\t [{'name': 'SDG 9', 'n_occurrences': 1, 'children': [{'n_occurrences': 1, 'name': 'Target 9.5'}]}] \n",
      "\n"
     ]
    },
    {
     "name": "stderr",
     "output_type": "stream",
     "text": [
      " 21%|██        | 251/1191 [10:32<38:56,  2.49s/it]"
     ]
    },
    {
     "name": "stdout",
     "output_type": "stream",
     "text": [
      "aHR0cHM6Ly9rcmlzdGRlbW9rcmF0ZXJuYS5zZS92YXItcG9saXRpay9wb2xpdGlrLWEtby8jQ2FuY2VyY2VudGVy \n",
      " Cancercenter Väntetiderna till vården varierar kraftigt beroende på bostadsort. För att säkra en mer jämlik vård och korta väntetiden införde Kristdemokraterna en nationell cancerstrategi och regional cancercentrum (RCC) under Alliansregeringen. Nu har regeringen valt att avbryta finansieringen av RCC efter 2018, vilket Kristdemokraterna menar är ett allvarligt misstag. Vi vill fortsätta utveckla arbetet med nivåstrukturering och det samlade strategiska arbetet inom RCC. \n",
      "\t [{'name': 'SDG 9', 'n_occurrences': 1, 'children': [{'n_occurrences': 1, 'name': 'Target 9.5'}]}] \n",
      "\n"
     ]
    },
    {
     "name": "stderr",
     "output_type": "stream",
     "text": [
      " 21%|██▏       | 256/1191 [10:45<38:55,  2.50s/it]"
     ]
    },
    {
     "name": "stdout",
     "output_type": "stream",
     "text": [
      "aHR0cHM6Ly9rcmlzdGRlbW9rcmF0ZXJuYS5zZS92YXItcG9saXRpay9wb2xpdGlrLWEtby8jRGlnaXRhbGlzZXJpbmc= \n",
      " Digitalisering För de allra flesta underlättas vardagen av den ökade digitaliseringen. Samtidigt måste utvecklingen ta hänsyn till äldre personer och personer med intellektuella eller kognitiva funktionsnedsättningar som av olika anledningar kan ha svårt att använda sig av digitala tjänster. Bredband måste också vara tillgängligt i hela landet för att människor i hela landet ska ha tillgång till god kommunikation, kunna driva företag samt jobba och studera på distans. \n",
      "\t [{'name': 'SDG 9', 'n_occurrences': 1, 'children': [{'n_occurrences': 1, 'name': 'SDG 9_undetected_target'}]}] \n",
      "\n"
     ]
    },
    {
     "name": "stderr",
     "output_type": "stream",
     "text": [
      " 22%|██▏       | 259/1191 [10:52<37:20,  2.40s/it]"
     ]
    },
    {
     "name": "stdout",
     "output_type": "stream",
     "text": [
      "aHR0cHM6Ly9rcmlzdGRlbW9rcmF0ZXJuYS5zZS92YXItcG9saXRpay9wb2xpdGlrLWEtby8jRGp1cnNreWRk \n",
      " Djurskydd Djur ska alltid behandlas med respekt och omtanke och aldrig utsättas för onödigt lidande, stress eller smärta. Ansvaret för djurens välmående ligger ytterst på djurägaren. Kristdemokraterna vill att EU ska stärka djurskyddslagstiftningen och främja investeringar för förbättrat djurskydd samt att EU ska motarbeta plågsamma men även långa djurtransporter. Sverige bör utnyttja möjligheten att utveckla metoder för slakt på gård eller genom mobila och gårdsnära slakterier. \n",
      "\t [{'name': 'SDG 9', 'n_occurrences': 1, 'children': [{'n_occurrences': 1, 'name': 'Target 9.5'}]}] \n",
      "\n"
     ]
    },
    {
     "name": "stderr",
     "output_type": "stream",
     "text": [
      " 22%|██▏       | 263/1191 [11:02<38:36,  2.50s/it]"
     ]
    },
    {
     "name": "stdout",
     "output_type": "stream",
     "text": [
      "aHR0cHM6Ly9rcmlzdGRlbW9rcmF0ZXJuYS5zZS92YXItcG9saXRpay9wb2xpdGlrLWEtby8jRWhhbHNh \n",
      " E-hälsa Kristdemokraterna vill förbättra vården genom ökad digitalisering. På så sätt underlättas direktkontakt med patienten, patienten kan bli mer delaktig i sin vård och arbetssätten mer effektiva med mindre administration. Digitala lösningar kan användas för att arbeta preventivt, ställa diagnos och ge behandling. Vi vill se en gemensam standard för journalsystem i hela landet för att underlätta för patienten när vården sker i olika regioner. \n",
      "\t [{'name': 'SDG 9', 'n_occurrences': 2, 'children': [{'n_occurrences': 1, 'name': 'Target 9.5'}, {'n_occurrences': 1, 'name': 'SDG 9_undetected_target'}]}] \n",
      "\n"
     ]
    },
    {
     "name": "stderr",
     "output_type": "stream",
     "text": [
      " 22%|██▏       | 265/1191 [11:07<39:09,  2.54s/it]"
     ]
    },
    {
     "name": "stdout",
     "output_type": "stream",
     "text": [
      "aHR0cHM6Ly9rcmlzdGRlbW9rcmF0ZXJuYS5zZS92YXItcG9saXRpay9wb2xpdGlrLWEtby8jRWtvbm9taXNrcG9saXRpaw== \n",
      " Ekonomisk politik Kristdemokraternas ekonomiska politik bygger på det som vi kallar social marknadsekonomi. Det innebär att marknadsekonomin måste kombineras med en socialt ansvarsfull politik för att bidra med välfärd och en rimlig levnadsnivå för alla. Skatte- och bidragssystem ska utformas så att människors egen kraft och engagemang uppmuntras och bidragsberoende motverkas. \n",
      "\t [{'name': 'SDG 9', 'n_occurrences': 1, 'children': [{'n_occurrences': 1, 'name': 'Target 9.5'}]}] \n",
      "\n"
     ]
    },
    {
     "name": "stderr",
     "output_type": "stream",
     "text": [
      "\r",
      " 22%|██▏       | 266/1191 [11:10<39:11,  2.54s/it]"
     ]
    },
    {
     "name": "stdout",
     "output_type": "stream",
     "text": [
      "aHR0cHM6Ly9rcmlzdGRlbW9rcmF0ZXJuYS5zZS92YXItcG9saXRpay9wb2xpdGlrLWEtby8jRWxldmhhbHNh \n",
      " Elevhälsa måste rustas för att långsiktigt kunna möta och stödja barn och unga med psykisk ohälsa. En väl utvecklad elevhälsovård främjar det förebyggande arbetet med detta. Vi vill ge landstingen/regionerna ett samlat uppdrag för hela barn- och ungdomshälsovården. Det innebär att elevhälsan inte längre får skolan som huvudman. Skolsköterskan, skolläkare, kurator och skolpsykologer bör finnas ute i verksamheterna men bör ha samma huvudman som övrig vårdpersonal. Den samlade barn- och ungdomshälsan ska ha ett nära samarbete med skolledningar, lärare, specialpedagoger och kommunernas socialtjänst. Vi vill även införa en elevhälsogaranti som innebär att en elev ska kunna komma i kontakt med elevhälsan inom ett dygn. \n",
      "\t [{'name': 'SDG 9', 'n_occurrences': 1, 'children': [{'n_occurrences': 1, 'name': 'Target 9.5'}]}] \n",
      "\n"
     ]
    },
    {
     "name": "stderr",
     "output_type": "stream",
     "text": [
      " 25%|██▌       | 303/1191 [12:43<36:12,  2.45s/it]"
     ]
    },
    {
     "name": "stdout",
     "output_type": "stream",
     "text": [
      "aHR0cHM6Ly9rcmlzdGRlbW9rcmF0ZXJuYS5zZS92YXItcG9saXRpay9wb2xpdGlrLWEtby8jRm9ybG9zc25pbmc= \n",
      " Förlossning Alla har rätt till en trygg förlossning. Vi föreslår nationella mål och ett kompetenscentrum för förlossnings- och eftervården. Fler barnmorskor måste anställas och fler utbildas. Vid hemgång ska kvinnan erbjudas hembesök av barnmorska och alla ska ha rätt till en fast barnmorska, med ett team som följer kvinnan genom graviditet, förlossning och eftervård samt en mamma-rehab-check som kan användas hos fysioterapeuter. \n",
      "\t [{'name': 'SDG 9', 'n_occurrences': 1, 'children': [{'n_occurrences': 1, 'name': 'Target 9.5'}]}] \n",
      "\n"
     ]
    },
    {
     "name": "stderr",
     "output_type": "stream",
     "text": [
      " 26%|██▌       | 310/1191 [13:01<37:40,  2.57s/it]"
     ]
    },
    {
     "name": "stdout",
     "output_type": "stream",
     "text": [
      "aHR0cHM6Ly9rcmlzdGRlbW9rcmF0ZXJuYS5zZS92YXItcG9saXRpay9wb2xpdGlrLWEtby8jR01P \n",
      " Genmodifierade produkter (GMO) GMO som teknik skapar både möjligheter och utmaningar. GMO kan exempelvis bidra till förädling av grödor som bättre tål ett förändrat klimat. Nya växtsorter bör granskas ur miljö- och hälsosynpunkt, innan de odlas och används. Tydliga regler för märkning och spårbarhet av GMO-produkter ska finnas. Det ska vara praktiskt möjligt för odlare att odla utan inblandning av GMO. \n",
      "\t [{'name': 'SDG 2', 'n_occurrences': 3, 'children': [{'n_occurrences': 3, 'name': 'Target 2.5'}]}] \n",
      "\n"
     ]
    },
    {
     "name": "stderr",
     "output_type": "stream",
     "text": [
      " 27%|██▋       | 320/1191 [13:27<37:17,  2.57s/it]"
     ]
    },
    {
     "name": "stdout",
     "output_type": "stream",
     "text": [
      "aHR0cHM6Ly9rcmlzdGRlbW9rcmF0ZXJuYS5zZS92YXItcG9saXRpay9wb2xpdGlrLWEtby8jSGVtc2p1a3ZhcmQ= \n",
      " Hemsjukvård Genom hemsjukvård får den äldre god vård utifrån individuella behov. Hemsjukvården ska bestå av team med undersköterskor, distriktsjuksköterskor, arbetsterapeuter, fysioterapeuter, dietister och demenssköterskor. För en fungerande vårdkedja krävs en kontinuerlig läkarmedverkan. \n",
      "\t [{'name': 'SDG 9', 'n_occurrences': 3, 'children': [{'n_occurrences': 3, 'name': 'Target 9.5'}]}] \n",
      "\n"
     ]
    },
    {
     "name": "stderr",
     "output_type": "stream",
     "text": [
      " 27%|██▋       | 323/1191 [13:34<35:47,  2.47s/it]"
     ]
    },
    {
     "name": "stdout",
     "output_type": "stream",
     "text": [
      "aHR0cHM6Ly9rcmlzdGRlbW9rcmF0ZXJuYS5zZS92YXItcG9saXRpay9wb2xpdGlrLWEtby8jSHVzaGFsbHN0amFuc3Rlcg== \n",
      " Hushållstjänster  Skatteavdrag för hushållstjänster, som infördes av Kristdemokraterna och alliansregeringen, har skapat många nya arbetstillfällen inom tjänstesektorn. Det har också gett många familjer, och även äldre, mer tid och större möjligheter att få vardagen att fungera och har dessutom minskat skattefusket. Vi vill utveckla RUT-avdraget till att exempelvis omfatta hundpassning och gravvård. \n",
      "\t [{'name': 'SDG 9', 'n_occurrences': 1, 'children': [{'n_occurrences': 1, 'name': 'Target 9.5'}]}] \n",
      "\n"
     ]
    },
    {
     "name": "stderr",
     "output_type": "stream",
     "text": [
      " 29%|██▉       | 347/1191 [14:35<36:46,  2.61s/it]"
     ]
    },
    {
     "name": "stdout",
     "output_type": "stream",
     "text": [
      "aHR0cHM6Ly9rcmlzdGRlbW9rcmF0ZXJuYS5zZS92YXItcG9saXRpay9wb2xpdGlrLWEtby8jS29tbXVuYWxhc2thdHRldXRqYW1uaW5nc3N5c3RlbQ== \n",
      " Kommunala skatteutjämningssystemet Sveriges kommuner har olika förutsättningar när det gäller skattekraft och demografi. Därför behövs ett utjämningssystem som ger alla Sveriges kommuner ekonomiska förutsättningar för att leverera trygg vård och omsorg, en välfungerande skola och trygga uppväxtvillkor för barn och ungdomar. Dagens utjämningssystem bör ses över i sin helhet för att se hur det kan bli bättre. Utredningen bör se över förutsättningarna för en mer regional modell och att staten tar ett ökat ansvar för utjämningen. Det är också viktigt att systemet tar hänsyn till tillväxtfaktorer. \n",
      "\t [{'name': 'SDG 9', 'n_occurrences': 1, 'children': [{'n_occurrences': 1, 'name': 'Target 9.5'}]}] \n",
      "\n"
     ]
    },
    {
     "name": "stderr",
     "output_type": "stream",
     "text": [
      " 31%|███       | 370/1191 [15:33<33:31,  2.45s/it]"
     ]
    },
    {
     "name": "stdout",
     "output_type": "stream",
     "text": [
      "aHR0cHM6Ly9rcmlzdGRlbW9rcmF0ZXJuYS5zZS92YXItcG9saXRpay9wb2xpdGlrLWEtby8jTW9iYm5pbmc= \n",
      " Mobbning Att barn mår bra och känner sig trygga i skolan är avgörande för hur de kan lyckas i sitt lärande och sin utveckling. Därför krävs att skolor använder sig av metoder för att hantera mobbning som är baserade på vetenskap och beprövad erfarenhet. Skolverket bör få i uppdrag att göra en utvärdering av metoder mot mobbning och rekommendera program som kan användas. Kristdemokraterna gör också en stor satsning på elevhälsan, för att en väl utvecklad elevhälsovård förebygger ohälsa hos barn och unga. \n",
      "\t [{'name': 'SDG 9', 'n_occurrences': 1, 'children': [{'n_occurrences': 1, 'name': 'Target 9.5'}]}] \n",
      "\n"
     ]
    },
    {
     "name": "stderr",
     "output_type": "stream",
     "text": [
      " 32%|███▏      | 377/1191 [15:50<33:15,  2.45s/it]"
     ]
    },
    {
     "name": "stdout",
     "output_type": "stream",
     "text": [
      "aHR0cHM6Ly9rcmlzdGRlbW9rcmF0ZXJuYS5zZS92YXItcG9saXRpay9wb2xpdGlrLWEtby8jTW90ZXNpbmR1c3RyaW4= \n",
      " Mötesindustrin Den del av besöksnäringen som handlar om när människor reser för att mötas – inom exempelvis yrkeslivet, föreningsliv eller i samband med musikevenemang – växer och är värd att satsa på. Kristdemokraterna vill att myndigheter, högskolor och andra offentliga verksamheter ska stimuleras att bjuda in till internationella möten i Sverige. Vi vill också att Sveriges ambassader och konsulat får bättre förutsättningar att marknadsföra Sverige. \n",
      "\t [{'name': 'SDG 9', 'n_occurrences': 1, 'children': [{'n_occurrences': 1, 'name': 'Target 9.5'}]}] \n",
      "\n"
     ]
    },
    {
     "name": "stderr",
     "output_type": "stream",
     "text": [
      "\r",
      " 32%|███▏      | 378/1191 [15:52<34:46,  2.57s/it]"
     ]
    },
    {
     "name": "stdout",
     "output_type": "stream",
     "text": [
      "aHR0cHM6Ly9rcmlzdGRlbW9rcmF0ZXJuYS5zZS92YXItcG9saXRpay9wb2xpdGlrLWEtby8jTmFya290aWth \n",
      " Narkotika Vi vill ha ett narkotikafritt samhälle och arbetar för att stoppa alla tendenser till drogliberalisering. Insatserna ska riktas främst mot de som profiterar på narkotikan, smugglarna och försäljarna. Det behövs ett förebyggande arbete, en bra vård och behandling om man fastnat i missbruk och en brottsbekämpande insats från tull och polis. Polis och tull har rätt att beslagta preparat som man misstänker är farliga. En åklagare kan besluta att varorna förstörs. Folkhälsoinstitutet och Läkemedelsverket kan också snabbt beställa preparat från Internet för att skynda på narkotikaklassningen. Hittills har samhället ofta legat steget efter, men vi ger inte upp kampen mot nätdrogerna. Straffen för den som smugglar och säljer narkotika ska skärpas. \n",
      "\t [{'name': 'SDG 9', 'n_occurrences': 1, 'children': [{'n_occurrences': 1, 'name': 'Target 9.5'}]}] \n",
      "\n"
     ]
    },
    {
     "name": "stderr",
     "output_type": "stream",
     "text": [
      " 33%|███▎      | 394/1191 [16:34<34:10,  2.57s/it]"
     ]
    },
    {
     "name": "stdout",
     "output_type": "stream",
     "text": [
      "aHR0cHM6Ly9rcmlzdGRlbW9rcmF0ZXJuYS5zZS92YXItcG9saXRpay9wb2xpdGlrLWEtby8jUHJpbWFydmFyZA== \n",
      " Primärvård En god nära vård ska finnas tillgänglig för alla. Primärvården är basen för det och man ska ha rätt till en fast namngiven läkarkontakt på samma sätt som man idag har rätt till en fast vårdkontakt. Primärvården har ett brett uppdrag och för att det ska kunna förverkligas krävs betydande tillskott av ekonomiska resurser så att fler medarbetare kan anställas. \n",
      "\t [{'name': 'SDG 9', 'n_occurrences': 2, 'children': [{'n_occurrences': 2, 'name': 'Target 9.5'}]}] \n",
      "\n"
     ]
    },
    {
     "name": "stderr",
     "output_type": "stream",
     "text": [
      "\r",
      " 33%|███▎      | 395/1191 [16:36<34:05,  2.57s/it]"
     ]
    },
    {
     "name": "stdout",
     "output_type": "stream",
     "text": [
      "aHR0cHM6Ly9rcmlzdGRlbW9rcmF0ZXJuYS5zZS92YXItcG9saXRpay9wb2xpdGlrLWEtby8jUHJpdmF0YXZhcmRmb3JzYWtyaW5nYXI= \n",
      " Privata vårdförsäkringar Den solidariskt finansierade vården ska hålla en så hög kvalitet att privata vårdförsäkringar inte ska behövas. Det är samhällsekonomiskt ineffektivt att människor betalar två gånger för vården. Vårt fokus är den gemensamt finansierade hälso- och sjukvården som ska erbjuda god vård på lika villkor till hela befolkningen. \n",
      "\t [{'name': 'SDG 9', 'n_occurrences': 1, 'children': [{'n_occurrences': 1, 'name': 'Target 9.5'}]}] \n",
      "\n"
     ]
    },
    {
     "name": "stderr",
     "output_type": "stream",
     "text": [
      " 33%|███▎      | 397/1191 [16:41<33:58,  2.57s/it]"
     ]
    },
    {
     "name": "stdout",
     "output_type": "stream",
     "text": [
      "aHR0cHM6Ly9rcmlzdGRlbW9rcmF0ZXJuYS5zZS92YXItcG9saXRpay9wb2xpdGlrLWEtby8jUHJpdmF0dmFyZA== \n",
      " Privat vård Sverige ska ha en solidariskt finansierad jämlik hälso- och sjukvård. Det är välfärdens kärna. Vården ska kännetecknas av värdighet, kvalitet och tillgänglighet och vi anser att vården och omsorgen behöver många olika utförare - för kvalitetsutveckling och valfrihet - och vi välkomnar privata, kooperativa och ideella vårdgivare. \n",
      "\t [{'name': 'SDG 9', 'n_occurrences': 2, 'children': [{'n_occurrences': 2, 'name': 'Target 9.5'}]}] \n",
      "\n"
     ]
    },
    {
     "name": "stderr",
     "output_type": "stream",
     "text": [
      " 34%|███▎      | 399/1191 [16:46<33:33,  2.54s/it]"
     ]
    },
    {
     "name": "stdout",
     "output_type": "stream",
     "text": [
      "aHR0cHM6Ly9rcmlzdGRlbW9rcmF0ZXJuYS5zZS92YXItcG9saXRpay9wb2xpdGlrLWEtby8jUHN5a2lhdHJp \n",
      " Psykiatri De som har svår psykisk ohälsa, neuropsykiatrisk funktionsnedsättning eller konstaterad psykiatrisk sjukdom måste få hjälp, stöd och vård i tid. Psykiatriska tillstånd och måste få lika hög prioritet som kroppsliga sjukdomar inom sjukvården. Sysselsättning och meningsfull vardaglig aktivitet är en förutsättning för rehabilitering vid psykisk sjuk och för att främja ett liv i delaktighet och gemenskap. Vi lägger resurser på att förstärka och korta köerna till barn- och ungdomspsykiatri (BUP). Vi måste också förbättra övergången från BUP till den specialiserade vuxenpsykiatrin samt öka tillgängligheten till psykiatriambulanser. \n",
      "\t [{'name': 'SDG 9', 'n_occurrences': 1, 'children': [{'n_occurrences': 1, 'name': 'Target 9.5'}]}] \n",
      "\n"
     ]
    },
    {
     "name": "stderr",
     "output_type": "stream",
     "text": [
      "\r",
      " 34%|███▎      | 400/1191 [16:49<34:38,  2.63s/it]"
     ]
    },
    {
     "name": "stdout",
     "output_type": "stream",
     "text": [
      "aHR0cHM6Ly9rcmlzdGRlbW9rcmF0ZXJuYS5zZS92YXItcG9saXRpay9wb2xpdGlrLWEtby8jUHN5a2lza29oYWxzYQ== \n",
      " Psykisk ohälsa hos unga Ökad psykisk ohälsa hos barn och unga är ett av vår tids största samhällsproblem. Kristdemokraterna vill ha en sammanhållen barn- och ungdomshälsovård genom att stärka den så kallade första linjen (primärvården, elevhälsan, ungdoms­mottagningar), införa en elevhälsogaranti så att varje elev ska kunna komma i kontakt med elevhälsan varje dag, ge tidigt stöd till barn med neuropsykiatriska funktions­nedsättningar samt korta köerna till BUP. Genom en sammanhållen barn- och ungdomshälsovård kan barn och unga tillsammans med deras familjer erbjudas tidiga och ihållande insatser. Det kan förhindra att lättare former av psykisk ohälsa utvecklas till svåra tillstånd. Vi vill också införa koordinatorer som hjälper familjer till barn med neuropsykiatriska funktionsnedsättningar med alla de myndighets- och vårdkontakter som krävs för att klara vardagen. \n",
      "\t [{'name': 'SDG 9', 'n_occurrences': 2, 'children': [{'n_occurrences': 2, 'name': 'Target 9.5'}]}] \n",
      "\n"
     ]
    },
    {
     "name": "stderr",
     "output_type": "stream",
     "text": [
      " 34%|███▍      | 408/1191 [17:09<33:48,  2.59s/it]"
     ]
    },
    {
     "name": "stdout",
     "output_type": "stream",
     "text": [
      "aHR0cHM6Ly9rcmlzdGRlbW9rcmF0ZXJuYS5zZS92YXItcG9saXRpay9wb2xpdGlrLWEtby8jUk9Ub2NoUlVU \n",
      " ROT- och RUT-avdrag ROT- och RUT-avdragen ger skattelättnader för dem som exempelvis renoverar sin bostad eller köper hushållstjänster som städning. Avdragen har minskat svartarbete och skapat nya arbetstillfällen. Vi vill bredda RUT att gälla exempelvis hundpassning och gravvård. \n",
      "\t [{'name': 'SDG 9', 'n_occurrences': 1, 'children': [{'n_occurrences': 1, 'name': 'Target 9.5'}]}] \n",
      "\n"
     ]
    },
    {
     "name": "stderr",
     "output_type": "stream",
     "text": [
      " 35%|███▍      | 412/1191 [17:19<32:48,  2.53s/it]"
     ]
    },
    {
     "name": "stdout",
     "output_type": "stream",
     "text": [
      "aHR0cHM6Ly9rcmlzdGRlbW9rcmF0ZXJuYS5zZS92YXItcG9saXRpay9wb2xpdGlrLWEtby8jUmF0dHN2YXNlbmRldA== \n",
      " Rättsväsendet Hela rättsväsendet behöver stärkas. Att Sverige behöver fler poliser är väl etablerat sedan länge. Men vi behöver också fler åklagare, fler domstolar och domare, en utbyggd kriminalvård och andra myndigheter så som Ekobrottsmyndigheten, Kronofogden, Tullverket med flera behöver också byggas ut för att bekämpas den allvarliga brottsligheten. \n",
      "\t [{'name': 'SDG 9', 'n_occurrences': 1, 'children': [{'n_occurrences': 1, 'name': 'Target 9.5'}]}] \n",
      "\n"
     ]
    },
    {
     "name": "stderr",
     "output_type": "stream",
     "text": [
      " 35%|███▌      | 422/1191 [17:44<31:10,  2.43s/it]"
     ]
    },
    {
     "name": "stdout",
     "output_type": "stream",
     "text": [
      "aHR0cHM6Ly9rcmlzdGRlbW9rcmF0ZXJuYS5zZS92YXItcG9saXRpay9wb2xpdGlrLWEtby8jU2p1a3ZhcmQ= \n",
      " Sjukvård Hälso- och sjukvårdens uppgift är att erbjuda en behovsanpassad, tillgänglig och effektiv vård av god kvalitet. Bota, lindra och trösta är sjukvårdens huvuduppgift och alla ska kunna känna trygghet och tillit till att den offentligt finansierade vården kan möta behoven. Grundprincipen är att hälso- och sjukvården ska vara solidariskt finansierad och behovsstyrd. Förebyggande arbete, vård på patientens villkor och kvalitet och patientsäkerhet är några för oss prioriterade områden. \n",
      "\t [{'name': 'SDG 9', 'n_occurrences': 3, 'children': [{'n_occurrences': 3, 'name': 'Target 9.5'}]}] \n",
      "\n"
     ]
    },
    {
     "name": "stderr",
     "output_type": "stream",
     "text": [
      " 36%|███▌      | 431/1191 [18:07<31:31,  2.49s/it]"
     ]
    },
    {
     "name": "stdout",
     "output_type": "stream",
     "text": [
      "aHR0cHM6Ly9rcmlzdGRlbW9rcmF0ZXJuYS5zZS92YXItcG9saXRpay9wb2xpdGlrLWEtby8jU21pdHRza3lkZA== \n",
      " Smittskydd Tack vare det allmänna vaccinationsprogrammet har vi i princip utrotat en rad smittsamma sjukdomar. Särskilda vaccinationsprogram bör utvecklas riktat till äldre. Därutöver rekommenderas vissa vaccinationer vid utlandsresa beroende på vilket område som ska besökas. Inom sjukvården finns fortfarande behov av att förbättra hygienen för att undvika smitta. Vaccin mot covid-19 har tagits fram och erbjudits hela befolkningen. Pandemin synliggjorde brister i kunskap om basala hygienrutiner på vissa håll inom äldreomsorgen och bristen på skyddsutrustning inom både vård och omsorg. Kampen mot multiresistenta bakterier måste intensifieras, bland annat genom att minska förskrivningarna av antibiotika och en stark internationell samverkan. \n",
      "\t [{'name': 'SDG 9', 'n_occurrences': 1, 'children': [{'n_occurrences': 1, 'name': 'Target 9.5'}]}] \n",
      "\n"
     ]
    },
    {
     "name": "stderr",
     "output_type": "stream",
     "text": [
      " 37%|███▋      | 438/1191 [18:25<32:28,  2.59s/it]"
     ]
    },
    {
     "name": "stdout",
     "output_type": "stream",
     "text": [
      "aHR0cHM6Ly9rcmlzdGRlbW9rcmF0ZXJuYS5zZS92YXItcG9saXRpay9wb2xpdGlrLWEtby8jU3RhdGxpZ2lua29tc3Rza2F0dA== \n",
      " Statlig inkomstskatt Skatt är viktigt för att finansiera våra gemensamma angelägenheter som skola och sjukvård, men alltför höga marginalskatter riskerar att försämra arbetsmarknaden och motverkar utbildning och kompetensutveckling. Det är också viktigt att så många som möjligt får behålla så mycket som möjligt av den lön som de tjänar. Vårt mål är att ingen ska behöva betala mer än 50 procent i högsta marginalskatt samt att inte fler än 15 procent av inkomsttagarna ska betala statlig inkomstskatt. Därför vill vi höja brytpunkten för statlig inkomstskatt ytterligare och på sikt ta bort värnskatten. \n",
      "\t [{'name': 'SDG 9', 'n_occurrences': 1, 'children': [{'n_occurrences': 1, 'name': 'Target 9.5'}]}] \n",
      "\n"
     ]
    },
    {
     "name": "stderr",
     "output_type": "stream",
     "text": [
      " 37%|███▋      | 440/1191 [18:30<32:38,  2.61s/it]"
     ]
    },
    {
     "name": "stdout",
     "output_type": "stream",
     "text": [
      "aHR0cHM6Ly9rcmlzdGRlbW9rcmF0ZXJuYS5zZS92YXItcG9saXRpay9wb2xpdGlrLWEtby8jU3RyYWZm \n",
      " Straff Straffen i Sverige har länge varit för låga. Det finns fler sätt att få rabatt på ett straff, än att få det skärpt. Det är fel. En person som begår ett brott måste sona sin handling mot brottsoffret och samhället genom att avtjäna ett straff. Vi vill därför kraftigt skärpa straffrabatterna, samtidigt som vi vill införa fler försvårande omständigheter vid brott, exempelvis om det har utgjort en del i organiserad brottslighet eller drabbat en viktig samhällsfunktion som en skola, ett sjukhus eller dylikt. Vi vill också avskaffa 2/3-delsfrigivning. Genom straffet fördömer samhället brottet, men aldrig brottslingen. Ett avtjänat straff måste innebära att man är skuldfri. Det är viktigt att strafftiden också innebär någon form av vård så att den intagne får hjälp att leva ett fortsatt liv utan brottslighet. \n",
      "\t [{'name': 'SDG 9', 'n_occurrences': 2, 'children': [{'n_occurrences': 2, 'name': 'Target 9.5'}]}] \n",
      "\n"
     ]
    },
    {
     "name": "stderr",
     "output_type": "stream",
     "text": [
      "\r",
      " 37%|███▋      | 441/1191 [18:33<32:48,  2.62s/it]"
     ]
    },
    {
     "name": "stdout",
     "output_type": "stream",
     "text": [
      "aHR0cHM6Ly9rcmlzdGRlbW9rcmF0ZXJuYS5zZS92YXItcG9saXRpay9wb2xpdGlrLWEtby8jU3RyYW5kc2t5ZGQ= \n",
      " Strandskydd Kristdemokraterna vill reformera strandskyddet i grunden. Strandskyddet för små sjöar och vattendrag upp till två meters bredd ska som grundregel tas bort. Kommunerna måste få ett större mandat kring hur utvecklingen längs sjöar och vattendrag ska se ut, och det lokala inflytandet måste stärkas. Vi vill se en mer rättssäker och tydlig lagstiftning där markägaren enklare kan förutse om en tänkt åtgärd kan vara möjlig eller inte. \n",
      "\t [{'name': 'SDG 9', 'n_occurrences': 1, 'children': [{'n_occurrences': 1, 'name': 'Target 9.5'}]}] \n",
      "\n"
     ]
    },
    {
     "name": "stderr",
     "output_type": "stream",
     "text": [
      " 37%|███▋      | 445/1191 [18:43<31:08,  2.50s/it]"
     ]
    },
    {
     "name": "stdout",
     "output_type": "stream",
     "text": [
      "aHR0cHM6Ly9rcmlzdGRlbW9rcmF0ZXJuYS5zZS92YXItcG9saXRpay9wb2xpdGlrLWEtby8jVGFuZHZhcmQ= \n",
      " Tandvård Det statliga stödet till tandvården ska riktas till att stödja den förebyggande tandvården genom regelbundna besök (tandvårdschecken) och att sänka tandvårdskostnaderna för personer med de största behoven (högkostnadsskyddet eller särskilt stöd). Ingen ska behöva avstå från att gå till tandläkaren för att man har stora problem. \n",
      "\t [{'name': 'SDG 9', 'n_occurrences': 1, 'children': [{'n_occurrences': 1, 'name': 'Target 9.5'}]}] \n",
      "\n"
     ]
    },
    {
     "name": "stderr",
     "output_type": "stream",
     "text": [
      " 39%|███▉      | 464/1191 [19:30<29:32,  2.44s/it]"
     ]
    },
    {
     "name": "stdout",
     "output_type": "stream",
     "text": [
      "aHR0cHM6Ly9rcmlzdGRlbW9rcmF0ZXJuYS5zZS92YXItcG9saXRpay9wb2xpdGlrLWEtby8jVmFsZnJpaGV0aW5vbXZhcmRvY2hvbXNvcmc= \n",
      " Valfrihet inom vård och omsorg Den vårdsökande ska kunna välja vilken vårdcentral man vill tillhöra och vilken hemtjänstutförare eller vilket äldreboende man vill bo på. Vi välkomnar privata, ideella och kooperativa alternativ som komplement till den kommunala verksamheten. För den som inte vill eller kan välja finns alltid den kommunala omsorgen och den lokala vårdcentralen som är skyldig att ge invånarna erforderlig service. Kommunen och regionen är alltid ytterst ansvarigt för vården och omsorgen, oavsett vem som utför tjänsten. \n",
      "\t [{'name': 'SDG 9', 'n_occurrences': 1, 'children': [{'n_occurrences': 1, 'name': 'Target 9.5'}]}] \n",
      "\n"
     ]
    },
    {
     "name": "stderr",
     "output_type": "stream",
     "text": [
      "\r",
      " 39%|███▉      | 465/1191 [19:32<29:29,  2.44s/it]"
     ]
    },
    {
     "name": "stdout",
     "output_type": "stream",
     "text": [
      "aHR0cHM6Ly9rcmlzdGRlbW9rcmF0ZXJuYS5zZS92YXItcG9saXRpay9wb2xpdGlrLWEtby8jVmFudmFyZA== \n",
      " Vanvård Att personer som åtnjuter samhällets vård eller omsorg utsätts för vanvård är helt oacceptabelt. Det är många barn och unga som farit illa i samhällsvården och utsatts för brottsliga gärningar som övergrepp och olika former av vanvård. Vi välkomnade den upprättelseprocess som varit för många utsatta och som i vissa fall lett fram till statlig ersättning. \n",
      "\t [{'name': 'SDG 9', 'n_occurrences': 4, 'children': [{'n_occurrences': 4, 'name': 'Target 9.5'}]}] \n",
      "\n"
     ]
    },
    {
     "name": "stderr",
     "output_type": "stream",
     "text": [
      " 40%|███▉      | 475/1191 [19:57<29:11,  2.45s/it]"
     ]
    },
    {
     "name": "stdout",
     "output_type": "stream",
     "text": [
      "aHR0cHM6Ly9rcmlzdGRlbW9rcmF0ZXJuYS5zZS92YXItcG9saXRpay9wb2xpdGlrLWEtby8jVmFyZHRpbGxwYXBwZXJzbG9zYQ== \n",
      " Vård till papperslösa Vår uppfattning är att alla som befinner sig i vårt land ska ha rätt till grundläggande vård. Många landsting har funnit sätt att ge papperslösa vård, men det behövs en nationell lagstiftning som innebär att landstingen får en lagstadgad uppgift att erbjuda vård också till papperslösa. En sådan infördes på kristdemokratiskt initiativ den 1 juli 2013. \n",
      "\t [{'name': 'SDG 9', 'n_occurrences': 4, 'children': [{'n_occurrences': 4, 'name': 'Target 9.5'}]}] \n",
      "\n"
     ]
    },
    {
     "name": "stderr",
     "output_type": "stream",
     "text": [
      " 41%|████      | 491/1191 [20:38<30:02,  2.57s/it]"
     ]
    },
    {
     "name": "stdout",
     "output_type": "stream",
     "text": [
      "aHR0cHM6Ly93d3cubGliZXJhbGVybmEuc2UvcG9saXRpay9hLWthc3Nh \n",
      " A-kassa Dagens A-kassa är en rest från en arbetsmarknad som inte längre finns. Man arbetade på det lokala bruket och gjorde det fram till pensionen. Idag flyttar vi mer och byter jobb oftare. För att kunna uppskatta den flexibiliteten behövs en stark och pålitlig a-kassa. Därför vill vi se en a-kassa med en stark grundtrygghet men som också uppmuntrar folk att söka nya arbeten. Det är viktigt att alla kan ta del av a-kassan när man byter jobb. Liberalerna vill därför att arbetslöshetsförsäkringen ska vara allmän och statlig. Dagens fragmentiserade system med olika a-kassor gör att vissa hamnar mellan stolarna. Det sociala skyddsnätet ska inte ha några maskor. Att förlora jobbet ska inte innebära fattigdom. Med en allmän arbetslöshetsförsäkring kan alla vara säkra på att ett jobbyte inte innebär att hamna i en ekonomiskt dålig sits. För att man inte ska fastna i arbetslöshet ska försäkringen ge ett högt stöd i början och trappas av med tiden. Så säkerställer vi att ingen hamnar på pottkanten av att förlora jobbet samtidigt som det finns en morot för att hitta ett nytt. För att anpassa arbetslöshetsförsäkringen till dagens arbetsmarknad bör arbetsvillkoret ersättas med ett inkomstvillkor. A-kassa skyddar mot förlorad inkomst och därför är det rimligt att rätten till ersättning är kopplad till faktisk lön och inte hur många timmar man var på jobbet innan man blev arbetslös. En flexibel arbetsmarknad kräver balans i form av ökad trygghet. Därför välkomnar vi det omställningsstöd som arbetsmarknadens parter kommit överens om.  Grunden för vår välfärd är att alla är med och bidrar, då ska det också finnas en trygghet när jobben förändras. \n",
      "\t [{'name': 'SDG 9', 'n_occurrences': 1, 'children': [{'n_occurrences': 1, 'name': 'Target 9.5'}]}] \n",
      "\n"
     ]
    },
    {
     "name": "stderr",
     "output_type": "stream",
     "text": [
      " 42%|████▏     | 495/1191 [20:48<30:32,  2.63s/it]"
     ]
    },
    {
     "name": "stdout",
     "output_type": "stream",
     "text": [
      "aHR0cHM6Ly93d3cubGliZXJhbGVybmEuc2UvcG9saXRpay9hcmJldHNrcmFmdHNpbnZhbmRyaW5n \n",
      " Arbetskraftsinvandring Att människor kommer till Sverige för att jobba är bra för vår ekonomi, välfärd och stärker vår konkurrenskraft på världsmarknaden. Svenska företag måste kunna anställa människor med nyckelkompetens från andra länder. Studenter från hela världen ska kunna plugga på svenska universitet och söka jobb efter studierna. Väntetiderna för arbetstillstånd ska minska och de s k kompetensutvisningarna stoppas. Arbetskraftinvandring är bra för Sveriges ekonomi och välfärd. Det måste vara enkelt för företag att anställa människor från andra länder och attraktivt för människor med nyckelkompetens att välja Sverige. Det måste gå snabbt och enkelt att hantera arbetskraftsinvandringen till Sverige på ett rättssäkert sätt, också för entreprenörer genom ett startup-visum. Det är viktigt att se över hur möjligheten till spårbyte – att en person som sökt asyl får uppehållstillstånd som arbetskraftsinvandrare, eller vice versa – fungerar i praktiken för att motverka otillbörligt utnyttjande av arbetskraft. Människor som arbetar och gör rätt för sig ska inte utvisas på grund av stelbenta regler som att man tjänat någon hundralapp för lite. Lagen ska ändras och mindre misstag ska inte leda till att människor tvingas lämna Sverige. I dag är huvudregeln att ett tillfälligt arbetstillstånd beviljas i högst två plus två år. Därefter ska arbetstagaren ansöka om permanent uppehållstillstånd. Vi anser att det kan finnas skäl att förlänga arbetstillstånden med ytterligare två år till sammanlagt sex år. Sverige ska vara en kunskapsnation och då behöver vi utländska studenter och forskare. Efter studierna måste de ges en chans att stanna här och söka jobb. Vi vill att utländska studenter per automatik ska få uppehållstillstånd i ett år efter avslutade studier för att kunna söka arbete här.  \n",
      "\t [{'name': 'SDG 9', 'n_occurrences': 2, 'children': [{'n_occurrences': 2, 'name': 'Target 9.5'}]}] \n",
      "\n"
     ]
    },
    {
     "name": "stderr",
     "output_type": "stream",
     "text": [
      " 42%|████▏     | 499/1191 [20:58<29:18,  2.54s/it]"
     ]
    },
    {
     "name": "stdout",
     "output_type": "stream",
     "text": [
      "aHR0cHM6Ly93d3cubGliZXJhbGVybmEuc2UvcG9saXRpay9iYXJucy1yYXR0aWdoZXRlci0y \n",
      " Barns rättigheter Alla barn förtjänar en bra start i livet med kärlek, trygghet och omsorg, och hjälp och kunskap på vägen till vuxenlivet. För en del barn och ungdomar är livet dock inte så enkelt. När föräldrarna sviktar i sin omsorg har kommunernas socialtjänst det yttersta ansvaret att se till att barn som far illa får skydd och stöd. I alla frågor som rör barn ska barnets bästa alltid vara utgångspunkten. FN:s konvention om barnets rättigheter är idag svensk lag, men mer behöver göras för att se till att konventionen uppföljs i varje steg. Inget barn ska fara illa i Liberalernas Sverige, och inget barn ska giftas bort, varken i Sverige eller på en utlandsresa. Därför har vi drivit för kriminaliseringen av tvångsäktenskapsresor, och arbetar för att stötta och skydda de barn som hotas av bortgifte. Barns rättigheter i vården måste tas vara på bättre. Barn ska få vara delaktiga i sin vård, och få inflytande i takt med ålder och mognad. En ung person måste till exempel kunna få preventivmedel eller söka hjälp hos psykiatrin utan att vara rädd för att föräldrarna ska få veta. Idag utgår familjelagstiftningen från föräldrarnas intressen. Vi vill vända på det, och utgå från barnet i stället. Idag har till exempel föräldrar rätt till sina barn men barnet har inte någon självklar rätt till sina föräldrar vid en vårdnadstvist. Ett barn borde också kunna vägra träffa en förälder som behandlat hen illa. Därför vill vi komplettera föräldrabalken med en barnbalk. Samhället ska alltid stå på barnets sida. Därför fortsätter vi driva kampen mot barnäktenskap, stöttar barns rättigheter i skolan där de spenderar så mycket av sin tid, och driver för alla de barn som av olika anledningar befinner sig på SiS-hem. Barn som hamnat snett ska få hjälp och stöd att hitta rätt igen. \n",
      "\t [{'name': 'SDG 9', 'n_occurrences': 1, 'children': [{'n_occurrences': 1, 'name': 'Target 9.5'}]}] \n",
      "\n"
     ]
    },
    {
     "name": "stderr",
     "output_type": "stream",
     "text": [
      " 42%|████▏     | 504/1191 [21:11<29:23,  2.57s/it]"
     ]
    },
    {
     "name": "stdout",
     "output_type": "stream",
     "text": [
      "aHR0cHM6Ly93d3cubGliZXJhbGVybmEuc2UvcG9saXRpay9iaW9sb2dpc2stbWFuZ2ZhbGQ= \n",
      " Biologisk mångfald Naturen och den biologiska mångfalden måste skyddas och bevaras. Det är viktigt för allt levande på jorden och för kommande generationer. Vi är beroende av naturen och den biologiska mångfalden för vår överlevnad. Samhället vilar på den biologiska mångfalden och de ekosystemtjänster den möjliggör. Vi har ett egenintresse av att skydda växter och djur. Vi ska lämna välmående ekosystem och en värld i ekologisk balans till kommande generationer. Vårt samhälle vilar på ekosystemtjänster. Vi kan inte veta vad vi i framtiden kommer att behöva från naturen. Inte minst därför måste vi skydda mångfalden. Den mest värdefulla naturen ska skyddas genom naturreservat och nationalparker. Särskilt hotade djur och växter ska vara fridlysta. Samtidigt måste miljöerna de är beroende av skyddas och restaureras. Klimatförändringarna sätter hård press på många ekosystem. Det gör att det behövs sammanhängande habitat med stor geografisk utsträckning. Arterna behöver kunna röra sig och sprida sig när klimatet förändras. Det behövs också förändringar i det brukade landskapet. Skogen är viktig för svensk ekonomi. Den ger oss förnybara material, kemiska produkter, textilier och olika former av bränslen. Men där finns också majoriteten av de skyddade arterna. Skogsbruk går att kombinera med artskydd. Skonsamma bruknings- och avverkningsmetoder behöver tillämpas mer. I jordbrukslandskapet behövs miljöer där pollinerande insekter, fåglar och andra kan hitta skydd och föda under den tid åkrarnas grödor inte blommar. Kantzoner och ekologiska öar i landskapet är ett sätt att åstadkomma detta. Utsläppen av gifter och gödningsämnen i våra vattendrag, sjöar och hav måste minska. Värdefulla vattenområden ska skyddas som marina reservat. \n",
      "\t [{'name': 'SDG 9', 'n_occurrences': 1, 'children': [{'n_occurrences': 1, 'name': 'Target 9.5'}]}] \n",
      "\n"
     ]
    },
    {
     "name": "stderr",
     "output_type": "stream",
     "text": [
      " 43%|████▎     | 508/1191 [21:21<28:21,  2.49s/it]"
     ]
    },
    {
     "name": "stdout",
     "output_type": "stream",
     "text": [
      "aHR0cHM6Ly93d3cubGliZXJhbGVybmEuc2UvcG9saXRpay9icmVkYmFuZA== \n",
      " Bredband Tillgång till väl fungerande mobiltelefoni och goda uppkopplingsmöjligheter för digitala tjänster blir allt viktigare. Alla ska kunna vara en del av det digitala samhället och därför vill Liberalerna utveckla en digital allemansrätt som garanterar stabil och snabb uppkoppling och bredband i hela landet. Sverige ska därför ha en digital uppkoppling i världsklass. Alla ska kunna vara en del av det digitala samhället. Vi vill se en digital allemansrätt som ger digital uppkoppling och bredband i hela landet. Digitaliseringen möjliggör utvecklingen av platsoberoende kommunikation med minskad klimatpåverkan. I dag har Sverige en stark digital position, men många som bor i glesbygd har inte tillgång till bredband. Det påverkar kommunikationen och begränsar möjligheter att driva företag.  Sverige ska ha en digital uppkoppling i världsklass. Bredband är i dag en lika viktig del i infrastrukturen som t ex. el- och vägnäten. Statens uppgift är att undanröja hinder för utbyggnad, men även att stötta där lönsamheten för utbyggnad är bristfällig. De åtgärder som riksdagen har beslutat om för att stärka styrningen och öka det ekonomiska stödet för bredbandsutbyggnaden står vi bakom. Det är av stor vikt att hela landet kan ta del av stödet. Tempot i bredbandsutbyggnaden måste öka för att nå målen om täckning i hela landet. Hinder för utbyggnad såsom lokaliseringsprincipen enligt kommunallagen och andra administrativa begränsning får inte hämma utbyggnaden av bredband. Det är angeläget att det gamla kopparnätet för fast telefoni inte får avvecklas innan det finns fullgoda digitala alternativ för de abonnenter som berörs av omställningen till ny teknik och att det finns andra kommunikationsmöjligheter för dem som inte har tillgång till digitala tjänster. \n",
      "\t [{'name': 'SDG 9', 'n_occurrences': 6, 'children': [{'n_occurrences': 6, 'name': 'SDG 9_undetected_target'}]}] \n",
      "\n"
     ]
    },
    {
     "name": "stderr",
     "output_type": "stream",
     "text": [
      " 43%|████▎     | 511/1191 [21:29<29:36,  2.61s/it]"
     ]
    },
    {
     "name": "stdout",
     "output_type": "stream",
     "text": [
      "aHR0cHM6Ly93d3cubGliZXJhbGVybmEuc2UvcG9saXRpay9kZW1va3JhdGk= \n",
      " Demokrati De senaste årtiondena har demokratin pressats tillbaka, både globalt och i Europa. Även om demokratin fungerar bra i Sverige är den inte osårbar. I ett krisläge skulle den svenska demokratin snabbt kunna avvecklas. Därför arbetar vi liberaler för att stärka skyddet för demokratin i Sverige och i EU, och vi vill öka stödet till demokratiförkämpar i ofria länder. Liberalismen föddes ur arbetet för demokrati och frihet. När du står bakom valskärmen med valsedlar och kuvert, har du bokstavligen makten i din hand. Det är en frihet värd att försvaras. Men i dag är grundlagen så svag att det skulle gå fort att avskaffa Sveriges demokrati i ett krisläge. Liberalerna vill stärka grundlagsskyddet för demokratin som system. I en demokrati måste individens rättigheter skyddas, så att statens makt inte missbrukas. I många länder finns det författningsdomstolar som ser till att det inte införs lagar och regler som kränker de rättigheter som skyddas i grundlagen. Det är dags att Sverige också inför en författningsdomstol. Demokrati är det enda system som kan förenas med mänskliga fri- och rättigheter. Sveriges utrikespolitik ska arbeta aktivt för demokratisering och vi ska ge ökat stöd till demokratiförkämpar i ofria länder. Jämställdhet och respekt för hbtq-personer och minoritetsgrupper är en del av demokratin. Europeiska unionen bygger på demokratin. När demokratiska rättigheter kränks, som i Polen och Ungern, måste EU agera kraftfullt. EU ska inte skicka en euro till regeringar som vägrar följa demokratiska principer. I mycket allvarliga fall ska landet förlora sin rösträtt i EU:s ministerråd. \n",
      "\t [{'name': 'SDG 9', 'n_occurrences': 1, 'children': [{'n_occurrences': 1, 'name': 'Target 9.5'}]}] \n",
      "\n"
     ]
    },
    {
     "name": "stderr",
     "output_type": "stream",
     "text": [
      " 43%|████▎     | 513/1191 [21:35<29:27,  2.61s/it]"
     ]
    },
    {
     "name": "stdout",
     "output_type": "stream",
     "text": [
      "aHR0cHM6Ly93d3cubGliZXJhbGVybmEuc2UvcG9saXRpay9kaWdpdGFsaXNlcmluZw== \n",
      " Digitalisering Digitalisering är ett centralt verktyg för förbättringar för invånarna i Sverige. Rätt använd och med människors behov i centrum erbjuder digitaliseringen fantastiska möjligheter för den enskilda individen, för näringslivet och för samhället i stort. Och för att Sverige ska bli bäst krävs ökad aktivitet inom EU och en konkret handlingsplan med mätbara mål som Sverige kan samlas kring. Digitalisering är ett centralt verktyg för förbättringar för invånarna i Sverige. Rätt använd och med människors behov i centrum erbjuder digitaliseringen fantastiska möjligheter för den enskilda individen, näringslivet och samhället i stort. Det övergripande målet är att Sverige ska vara bäst i världen på att använda digitaliseringens möjligheter. Omvärlden står dock inte stilla och ska Sverige bli bäst krävs en konkret handlingsplan. Vi vill se en översyn av regelverket för att säkra en konkurrensneutral lagstiftning som är i takt med utvecklingen inom digitaliseringen. Sverige måste driva på och stå upp för de liberala värdena i EU, där vi avväger vikten av personlig integritet med behovet av innovation, företagens och Europas konkurrenskraft. Införandet av digitala verktyg i verksamheter kan på ett effektivt sätt gynna personalutveckling, organisationsförändringar och utveckla nya arbetssätt. Digitaliseringen behöver mer ses som ett medel än ett mål. Sverige behöver stärka våra satsningar på forskning, innovationer och nyttiggörande, framför allt i de miljöer där forskning bedrivs i nära samarbete med näringslivet, för att öka företagens möjligheter att utnyttja AI och data i sina processer och tjänster. Sverige skulle också kunna bli ett föregångsland när det gäller arbetet med etiska riktlinjer för AI-teknologin.  \n",
      "\t [{'name': 'SDG 9', 'n_occurrences': 2, 'children': [{'n_occurrences': 2, 'name': 'SDG 9_undetected_target'}]}] \n",
      "\n"
     ]
    },
    {
     "name": "stderr",
     "output_type": "stream",
     "text": [
      " 43%|████▎     | 516/1191 [21:42<28:58,  2.58s/it]"
     ]
    },
    {
     "name": "stdout",
     "output_type": "stream",
     "text": [
      "aHR0cHM6Ly93d3cubGliZXJhbGVybmEuc2UvcG9saXRpay9la29ub21p \n",
      " Ekonomi Det ska löna sig att arbeta, starta företag och utbilda sig. Fler ska få förutsättningar att ta ansvar för sin egen försörjning. Det ska löna sig att ta risker, vara entreprenör och tänka nytt. Människor ska försörja sig själva så långt som möjligt. Därför vill Liberalerna se ett egenförsörjningsmål, ett reformerat försörjningsstöd, skattesänkningar för fler i arbete och regelförenklingar för morgondagens företag. Sverige ska vara ett öppet, fritt land som erbjuder kreativa miljöer och som lockar till sig människor, idéer och kapital. Ett land där fler kan förverkliga sina drömmar och samtidigt veta att den som har det svårt får nya chanser att komma igen. Människor ska försörja sig själva så långt som möjligt. För att långsiktigt kunna finansiera satsningar på välfärd och trygghet, sänkta skatter på arbete och företagande samt en skola med kunskap för alla, är det avgörande att Sverige också i fortsättningen har ett välordnat finanspolitiskt ramverk som för politiken i en ansvarsfull riktning. Sverige behöver ett skattesystem som är enkelt och överskådligt, som uppmuntrar arbete, integration, utbildning och sparande och som möter klimatkrisen. I dag har vi i stället ett skattesystem som inte utformats med tillräcklig hänsyn till den ökade internationella konkurrensen. Sverige är ett av de länder i västvärlden där skatten äter upp mest av en löneökning. Det skapar ett ineffektivt skattesystem där det lönar sig dåligt att jobba eller att gå upp i arbetstid. Ett viktigt steg i rätt riktning togs när värnskatten avskaffades tack vare Liberalerna. Men skatterna på arbete måste sänkas mer, inte minst måste utanförskapet bekämpas genom att skatten sänks på de allra lägsta inkomsterna. Liberalerna vill förbättra och förenkla skattesystemet genom en bred skattereform. \n",
      "\t [{'name': 'SDG 9', 'n_occurrences': 1, 'children': [{'n_occurrences': 1, 'name': 'Target 9.5'}]}] \n",
      "\n"
     ]
    },
    {
     "name": "stderr",
     "output_type": "stream",
     "text": [
      " 43%|████▎     | 518/1191 [21:47<27:58,  2.49s/it]"
     ]
    },
    {
     "name": "stdout",
     "output_type": "stream",
     "text": [
      "aHR0cHM6Ly93d3cubGliZXJhbGVybmEuc2UvcG9saXRpay9lbGV2aGFsc2E= \n",
      " Elevhälsa Elever som mår dåligt eller lider av psykisk ohälsa behöver stöd. Elevhälsan fyller en viktig funktion. Elever som är trygga och mår bra presterar bättre i skolan. Det är därför vi menar att en satsning på en utbyggd elevhälsa kommer att hjälpa fler elever att prestera och lyckas i skolan. Den psykiska ohälsan och stressen ökar bland barn och unga. Särskilt gäller det unga kvinnor som kan ha orimligt höga krav på sig själva och från sin omgivning. För att alla elever ska ges möjlighet att nå sina kunskapsmål är det viktigt att skolan har möjlighet att hjälpa och stötta dessa elever. Elever som mår dåligt slussas alltför ofta mellan olika instanser. Det är särskilt olyckligt med tanke på att de i stället borde få hjälp så fort som möjligt. För att motverka att elever i behov av vård faller mellan stolarna vill Liberalerna att alla skolhuvudmän ska ha avtal med sjukvården i syfte att stärka elevhälsoarbetet. På skolan är det även viktigt att elevvårdsteamen har den kompetens som behövs för att ta hand om olika elever. Liberalerna vill exempelvis att elevhälsan i högre utsträckning ska knyta till sig fler experter, till exempel logopeder. Elevhälsans uppdrag är brett. Medan vissa elever är i behov av ett plåster, behöver andra elever en famn att känna trygghet i. Det finns elever som älskar skolan lika mycket som de hatar sitt hem. Det är för dem Liberalerna vill att socialtjänsten ska kopplas till skolans elevvårdsteam – sekretessregler får inte bli ett hinder för samverkan och välbehövliga insatser. \n",
      "\t [{'name': 'SDG 9', 'n_occurrences': 1, 'children': [{'n_occurrences': 1, 'name': 'Target 9.5'}]}] \n",
      "\n"
     ]
    },
    {
     "name": "stderr",
     "output_type": "stream",
     "text": [
      " 44%|████▍     | 523/1191 [22:00<28:24,  2.55s/it]"
     ]
    },
    {
     "name": "stdout",
     "output_type": "stream",
     "text": [
      "aHR0cHM6Ly93d3cubGliZXJhbGVybmEuc2UvcG9saXRpay9ldS1icmEtZGln \n",
      " EU – bra för dig Efter århundraden av krig och elände kunde vi de europeiska länderna skapa fred på vår kontinent. EU har fått Nobels fredspris. EU-medborgare har rätt att bo och jobba var de vill i hela unionen, och få samma behandling som andra i det land de flyttat till. Det har också blivit betydligt enklare att studera på universitet i resten av Europa. Den gemensamma inre marknaden är grunden i EU-samarbetet: friheten att köpa och sälja varor och tjänster utan dyra tullavgifter. Det har gjort människor rikare och gett oss fler valmöjligheter. EU:s handelsavtal med omvärlden gör det också billigare och enklare för både privatpersoner och företag att handla med andra länder. Du kan lämna passet hemma, och som EU-medborgare slipper du långa köer till kontroller på flygplatser och tågstationer. Gemensamma regleringar på flyg har gjort att du kan känna sig säker på din flygresa – oavsett om flygbolaget är svenskt, grekiskt eller irländskt. Samtidigt har priserna blivit lägre. EU har gjort de europeiska telefonmarknaderna friare, och då har priserna fallit – bra för oss konsumenter. Internationella telefonsamtal har fallit med 80 procent under de senaste 30 åren. Och sedan roamingavgifterna slopades kan du surfa i hela Europa till samma pris som hemma. EU har bestämt att de betaltjänster du har tillgång till i Sverige, ska du också ha tillgång till när du är i ett annat EU-land. Inga problem längre att kolla serier på semestern alltså. De länder som vill gå med i unionen måste respektera vissa universella rättigheter. Tack vare det kravet utvecklas fler länder i demokratisk riktning. Och vi är många som kan säga ifrån när det går åt fel håll. Tack vare förhandlingar och regler på EU-nivå har Europas luft och vattendrag blivit renare. EU har förbjudit onödiga plastprodukter, och tar snart fler steg för att få bort plasten från naturen. Tack vare EU-samarbetet har det blivit lättare att få vård för den som blir sjuk på semesterresan. Dessutom kan den som fastnar i en vårdkö i Sverige söka hjälp i något annat EU-land och snabbare få rätt behandling. Sedan vi gick med i EU har svenskar fått betydligt högre levnadsstandard. Dessutom har maten blivit rejält billigare eftersom priserna anpassas till de andra medlemsländerna. \n",
      "\t [{'name': 'SDG 9', 'n_occurrences': 1, 'children': [{'n_occurrences': 1, 'name': 'Target 9.5'}]}] \n",
      "\n"
     ]
    },
    {
     "name": "stderr",
     "output_type": "stream",
     "text": [
      "\r",
      " 44%|████▍     | 524/1191 [22:02<28:06,  2.53s/it]"
     ]
    },
    {
     "name": "stdout",
     "output_type": "stream",
     "text": [
      "aHR0cHM6Ly93d3cubGliZXJhbGVybmEuc2UvcG9saXRpay9ldXJvbg== \n",
      " Euron Euron används av över 200 miljoner européer. Tillsammans utgör de Sveriges överlägset viktigaste exportmarknad. Ett införande av Euron skulle inte bara underlätta handeln utan även möjliggöra för Sverige att påverka EU:s ekonomi genom att kunna sitta med i Eurogruppen. Europa blir friare och rikare genom mer handel och starkare samarbete. Sverige ska införa euron som valuta. Den europeiska valutan, euron, är både ett politiskt och ett ekonomiskt projekt. Genom en gemensam valuta fördjupas den integration som ytterst syftar till att omöjliggöra konflikter mellan Europas länder. Den skapar också förutsättningar för ökad rörlighet och fördjupning av den inre marknaden. Det ligger i Sveriges intresse att den monetära unionen stabiliseras genom gemensamma regelverk och fördjupat ekonomiskt samarbete. Som medlemmar i euro-samarbetet skulle vi få möjligheter att påverka den europeiska monetära politiken genom inflytande både i Euro-finansministrarnas Eurogrupp och i den Europeiska centralbanken. Sverige är särskilt beroende av den europeiska marknaden. Det är avgörande för vårt välstånd att EU-samarbetet och euron fungerar väl. Den inre marknaden ska utvecklas, regelverk ska harmoniseras och reformtakten för konkurrenskraft och produktivitet vara hög. Sverige ska vara pådrivande för att skapa en gemensam digital inre marknad där digitala tjänster och e-handel lättare kan tillhandahållas över nationsgränserna. Med den gemensamma valutan Euron skulle den utvecklingen underlättas. \n",
      "\t [{'name': 'SDG 9', 'n_occurrences': 1, 'children': [{'n_occurrences': 1, 'name': 'SDG 9_undetected_target'}]}] \n",
      "\n"
     ]
    },
    {
     "name": "stderr",
     "output_type": "stream",
     "text": [
      " 45%|████▍     | 535/1191 [22:30<28:15,  2.58s/it]"
     ]
    },
    {
     "name": "stdout",
     "output_type": "stream",
     "text": [
      "aHR0cHM6Ly93d3cubGliZXJhbGVybmEuc2UvcG9saXRpay9mb3JldGFn \n",
      " Företag För oss är fri företagsamhet ett uttryck för individens möjlighet att förverkliga sina drömmar och en grundförutsättning för vårt gemensamma samhällsbygge. Det är genom företagens möjlighet att växa som jobb skapas. Fler jobb i växande företag betyder nya livschanser för individer, minskat utanförskap och i förlängningen ökade skatteintäkter; vilket i sin tur finansierar den gemensamma välfärden. Liberaler tror att människors frihet gynnas av ett gott företagsklimat. Det är genom företagens möjlighet att växa som jobb skapas. Fler jobb i växande företag betyder nya livschanser för individer, minskat utanförskap och ökade skatteintäkter; vilket i sin tur finansierar den gemensamma välfärden. Vi vill att hela Sveriges utvecklingskraft, tillväxtpotential och sysselsättningsmöjligheter ska tas till vara. Sverige behöver fler liberala reformer som stärker vår konkurrenskraft och skapar förutsättning för fler företag att växa. Den positiva utvecklingen av företagande i välfärdssektorn hotas av förbud mot vinster i välfärden och slår extra hårt mot kvinnors företagande. För företagarna är ett av de främsta hindren för expansion svårigheten att få finansiering. Privat kapital är avgörande för att kunna starta, driva och utveckla ett företag. I vissa fall kan statligt riskkapital behövas för att komplettera det privata kapitalet med en så kallad fond-i-fond-lösning. Välfärdssystemet kan inte baseras en princip där löntagare erbjuds bättre skydd än den som väljer att skapa ett välfärdsskapande företag. Speciellt när det gäller de så kallade kombinatörerna: företagare som förenar kortare anställningar med sin egen näringsverksamhet. Systemen för sjukpenning, arbetslöshetsförsäkring, föräldrapenning och friskvård måste i större utsträckning likställas mellan företagare och anställda.  \n",
      "\t [{'name': 'SDG 9', 'n_occurrences': 1, 'children': [{'n_occurrences': 1, 'name': 'Target 9.5'}]}] \n",
      "\n"
     ]
    },
    {
     "name": "stderr",
     "output_type": "stream",
     "text": [
      " 45%|████▌     | 539/1191 [22:40<26:37,  2.45s/it]"
     ]
    },
    {
     "name": "stdout",
     "output_type": "stream",
     "text": [
      "aHR0cHM6Ly93d3cubGliZXJhbGVybmEuc2UvcG9saXRpay9mb3JhbGRyYWZvcnNha3Jpbmc= \n",
      " Föräldraförsäkring Sverige har världens mest generösa föräldraförsäkring och föräldraledighetsregler. Det är något vi är stolta över. Men dagens system bidrar också till att bevara ojämställda mönster och strukturer. Vi anser därför att det är dags att införa en ny modell för föräldraförsäkringen som bl. a genom full ekonomisk kompensation ökar valfriheten och jämställdheten för såväl män som kvinnor. Familjer kan se ut på olika sätt, men alla föräldrar ska kunna kombinera jobb och föräldraskap. Vi vill ha en föräldraförsäkring som är jämställd, ger valfrihet och uppmuntrar till arbete. Alla barn har rätt att tidigt i livet få en trygg anknytning till sina föräldrar. Föräldraförsäkringen ska därför främst vara vikt för de två första åren. Vi vill införa en modell där familjen kan välja mellan kortare föräldraförsäkring med fullt inkomstskydd eller längre försäkring med lägre ersättning. Det skulle leda till att fler kvinnor går tillbaka tidigare till jobbet, vilket ökar jämställdheten. Vi var det parti som 1994 införde den första öronmärkta månaden i föräldraförsäkringen, den så kallade pappamånaden, men även den andra och den tredje öronmärkta månaden. Med vårt förslag tror vi dock inte att någon ytterligare öronmärkning behövs. Familjer ser olika ut och det är viktigt att föräldraförsäkringen gäller även för regnbågsfamiljer och familjer där föräldrarna separerat och gått in i nya förhållanden. Vi har bidragit till att den överlåtbara föräldrapenningen kan ges till vårdnadshavarens make/maka, sambo eller registrerad partner som inte är vårdnadshavare. I dag är ersättningstaket vid vård av sjukt barn (VAB) mindre generöst än vid föräldrapenning. Det gör att det blir olönsamt för den förälder som tjänar mest att vara hemma när barnen är sjuka. Vi vill stimulera ett jämställt uttag genom att höja VAB-ersättningen till föräldrapenningsnivå. \n",
      "\t [{'name': 'SDG 9', 'n_occurrences': 1, 'children': [{'n_occurrences': 1, 'name': 'Target 9.5'}]}] \n",
      "\n"
     ]
    },
    {
     "name": "stderr",
     "output_type": "stream",
     "text": [
      " 46%|████▌     | 544/1191 [22:53<27:14,  2.53s/it]"
     ]
    },
    {
     "name": "stdout",
     "output_type": "stream",
     "text": [
      "aHR0cHM6Ly93d3cubGliZXJhbGVybmEuc2UvcG9saXRpay9oYnRxaS1mcmFnb3I= \n",
      " HBTQI-frågor För oss liberaler är målet enkelt: Sverige ska vara det bästa landet i världen att leva i som hbtqi-person, och alla ska ha samma rättigheter oavsett kön, könsidentitet eller sexuell läggning. Sverige har kommit en bra bit på vägen. Men fortfarande vågar många hbtqi-personer inte leva öppet, och många utsätts för hatbrott och hedersförtryck. Vi liberaler har ofta gått i spetsen för reformer på hbtqi-området. Vi är stolta över att ha varit med och infört en könsneutral äktenskapslag och adoptionslagstiftning. Vi var det första parti som krävde att steriliseringstvånget för transsexuella skulle slopas. Det finns mycket kvar att göra. Vi är den liberala garanten för att arbetet för hbtqi-rättigheter fortsätter framåt. Alla har rätt att bli bemötta på jämlika villkor i alla verksamheter. Därför behövs mer hbtqi-kompetens i offentlig verksamhet, och skolans sexualundervisning ska vara inkluderande. Arbetet mot diskriminering, hets, hatbrott och hedersrelaterat förtryck ska stärkas. Hbtqi-rättigheter är mänskliga rättigheter. Sverige ska aktivt arbeta för hbtqi-rättigheter i EU och FN och ge stöd till modiga hbtqi-aktivister i länder där förtryck, förföljelse och dödsstraff förekommer. Alla familjer ska ha samma juridiska skydd. Vi vill att möjligheten att få skaffa barn i Sverige, exempelvis genom assisterad befruktning, adoption, embryodonation eller altruistiskt värdmödraskap, ska vara öppen för alla. Barn till svenska föräldrar som föds med hjälp av värdmoderskap utomlands ska ha samma rättigheter från födseln som barn födda i Sverige. Vi vill också modernisera lagarna om könstillhörighet för att öka friheten för unga transpersoner. Bland annat ska juridiskt kön och medicinsk könskorrigering hanteras i skilda lagar, och åldersgränsen för att ändra juridiskt kön ska sänkas. Medicinsk könskorrigering ska inte bero på åldersgräns utan ska ges efter sjukvårdens noggranna utredning och patientens egen vilja, precis som när det gäller all annan vård.  \n",
      "\t [{'name': 'SDG 9', 'n_occurrences': 1, 'children': [{'n_occurrences': 1, 'name': 'Target 9.5'}]}] \n",
      "\n"
     ]
    },
    {
     "name": "stderr",
     "output_type": "stream",
     "text": [
      "\r",
      " 46%|████▌     | 545/1191 [22:55<26:58,  2.51s/it]"
     ]
    },
    {
     "name": "stdout",
     "output_type": "stream",
     "text": [
      "aHR0cHM6Ly93d3cubGliZXJhbGVybmEuc2UvcG9saXRpay9oZWRlcnNyZWxhdGVyYXQtdmFsZC1vY2gtZm9ydHJ5Y2s= \n",
      " Hedersrelaterat våld och förtryck Att bryta det hedersrelaterade förtrycket är en av vår tids största frihetsfrågor. Tiotusentals människor, främst flickor och kvinnor men även pojkar och män, övervakas i detalj av sin familj och släkt. Påtvingade äktenskap, misshandel och mord är verklighet. Kultur och tradition är aldrig en ursäkt för förtryck. Arbetet mot hedersförtryck handlar om frihet. Frihet att få delta i all skolundervisning, att få vara med kompisar, att bestämma över sin sexualitet och vem man vill leva med. Att helt enkelt bestämma över sitt eget liv. Därför står vi liberaler i främsta ledet arbetet mot hedersförtryck. Det hedersrelaterade förtrycket börjar ofta tidigt. När barnet inte längre får leka med kompisar av motsatt kön, delta på klassutflykter eller följa med på simskola är det en signal om att något inte står rätt till. Därför måste kunskapen om hedersförtryck finnas i skolan liksom i sjukvård, socialtjänst, polis och domstolar. Lagarna mot hedersrelaterat förtryck har blivit bättre på senare år, men fortfarande finns det luckor. Straffen för att föra bort ett barn utomlands för att gifta bort barnet måste höjas. Så kallade oskuldskontroller ska alltid vara förbjudna, och om vårdpersonal medverkar till dem ska legitimationen dras in. Brott med hedersmotiv ska oftare leda till utvisning. Hjälpen måste förbättras till den som är utsatt. Det behövs en nationell stödfunktion för försvunna barn. Organisationer som arbetar med hedersfrågor måste få ökat stöd, särskilt i områden där många utsätts för hedersnormer. Likaså behövs tydlig information till nyanlända, så att alla får veta sina rättigheter och vart man kan vända sig om man är utsatt för hedersrelaterat våld och förtryck. \n",
      "\t [{'name': 'SDG 9', 'n_occurrences': 1, 'children': [{'n_occurrences': 1, 'name': 'Target 9.5'}]}] \n",
      "\n"
     ]
    },
    {
     "name": "stderr",
     "output_type": "stream",
     "text": [
      "\r",
      " 46%|████▌     | 546/1191 [22:57<26:51,  2.50s/it]"
     ]
    },
    {
     "name": "stdout",
     "output_type": "stream",
     "text": [
      "aHR0cHM6Ly93d3cubGliZXJhbGVybmEuc2UvcG9saXRpay9oZW1sb3NoZXQ= \n",
      " Hemlöshet Insatser mot hemlöshet måste bli bättre och samordnas utifrån ett helhetsperspektiv. Bostaden hänger t ex ihop med sociala insatser för familjer i kris, personer med missbruksproblem, psykisk sjukdom, eller personer som fastnat i skuldfällan. Helhetsperspektivet måste även innefatta de hemlösa som tagit sig hit från andra länder, förbud är inte vägen fram för att åtgärda hemlöshet och extrem fattigdom. Ett tryggt hem ger en bättre framtid. Ofta ställs krav på drogfrihet innan hemlösa människor får hyra en bostad, men ett liv utan fast hem gör det betydligt svårare att bearbeta drogmissbruk eller psykisk ohälsa. Ett sätt att stärka helhetstänkandet är metoden ”bostad först”. Den innebär att hemlösa personer med missbruksproblem erbjuds en egen permanent bostad, med tillgång till individuellt stöd. En trygg boendesituation gör det lättare att bearbeta andra problem som drogmissbruk eller psykisk ohälsa. Primärvården ska ha ett övergripande uppdrag att bedriva hälsofrämjande och förebyggande arbete i sitt lokalområde mot hemlösa personer. Sveriges befolkning har fått allt bättre munhälsa, men det finns hål i den utvecklingen. Nationella tandvårdsprogram ska tas fram för riskgrupper, där hemlösa ingår. Tiotusentals försöker hitta försörjning genom att resa till rikare länder och ta enklare jobb eller tigga. Ofta lever de som hemlösa. Detta måste mötas genom att bekämpa problemets orsaker – fattigdom och diskriminering. Från en del håll kommer krav på att begränsa den fria rörligheten i EU och förbjuda tiggeri. Men Liberalerna säger nej till båda förslagen. De som redan har det svårt drabbas värst i länder som inte har en utbyggd välfärd, där diskrimineringen är utbredd och där de ekonomiska förutsättningarna inte är lika goda som i Sverige. Nöden för dessa människor lindras inte av att vi slipper se den. \n",
      "\t [{'name': 'SDG 9', 'n_occurrences': 1, 'children': [{'n_occurrences': 1, 'name': 'Target 9.5'}]}] \n",
      "\n"
     ]
    },
    {
     "name": "stderr",
     "output_type": "stream",
     "text": [
      "\r",
      " 46%|████▌     | 547/1191 [23:00<26:36,  2.48s/it]"
     ]
    },
    {
     "name": "stdout",
     "output_type": "stream",
     "text": [
      "aHR0cHM6Ly93d3cubGliZXJhbGVybmEuc2UvcG9saXRpay9oZW10amFuc3Q= \n",
      " Hemtjänst Vård och hjälp i hemmet är viktigt för individens levnadsstandard, och utförare av hemtjänst måste hålla hög kvalitet i hela landet. Man ska kunna välja vilket företag som utför hemtjänsten och vilken typ av tjänster man behöver och vill ha, utan krånglig byråkrati. En lösning fungerar inte för alla. Det handlar om integritet, makten att själv kunna bestämma vem som stiger över tröskeln för att hjälpa i den privata vardagen. Hemtjänsten är idag kommunal och kvalitén ser väldigt olika ut beroende på var du bor i landet. Detta är ett problem. Vi vill att alla i landet ska vara garanterade grundläggande tjänster i hemtjänsten. Tjänster såsom att få komma ut i friska luften, ha tillgång till sociala aktiviteter och få mat lagad i hemmet. RUT-tjänster kan ersätta eller komplettera många tjänster som hemtjänsten gör idag, såsom städhjälp och inköp. Vi vill att äldre ska ha ett högre RUT-avdrag så att fler har råd att använda detta. Ny teknik skapar stora möjligheter, men vi är långsamma på att ta till oss dessa. Ett trygghetslarm med GPS kan innebära att en dement person kan fortsätta gå på sina långa ensamma promenader. Självrengörande toaletter är vanliga i till exempel Japan, detta kan vara ett välkommet tillskott för mångas personliga integritet. Vissa kan föredra kameraövervakning istället för nattpatrull. Självklart måste allt detta vara anpassat efter varje persons enskilda vilja. \n",
      "\t [{'name': 'SDG 9', 'n_occurrences': 1, 'children': [{'n_occurrences': 1, 'name': 'Target 9.5'}]}] \n",
      "\n"
     ]
    },
    {
     "name": "stderr",
     "output_type": "stream",
     "text": [
      " 46%|████▋     | 551/1191 [23:10<26:24,  2.48s/it]"
     ]
    },
    {
     "name": "stdout",
     "output_type": "stream",
     "text": [
      "aHR0cHM6Ly93d3cubGliZXJhbGVybmEuc2UvcG9saXRpay9pbmZyYXN0cnVrdHVy \n",
      " Infrastruktur och trafik Vi vill rusta och bygg ut vägar och järnvägar för ökad trafiksäkerhet och för att möjliggöra längre, tyngre, tåg och lastbilar. Det ger färre transporter och goda miljöeffekter. Flaskhalsar som skapar trängsel och köer ska byggas bort. Vi vill satsa på regional cykelinfrastruktur och bredband, digital uppkoppling och postala tjänster i hela landet. Väl fungerande kommunikationer är en grundläggande förutsättning för individens frihet, ett blomstrande näringsliv och öppna gränsöverskridande marknader. Kraven på arbetspendling ökar i takt med att arbetsgivare efterfrågar mer specifika kompetenser. Sverige är till ytan EU:s tredje största land och det land som har längst avstånd mellan landsändarna. För att utveckla ett konkurrenskraftigt Sverige krävs fungerande infrastruktur. De långa avstånden i Sverige får aldrig bli hämmande för den svenska konkurrenskraften. Infrastrukturinvesteringar ska följa fyrstegsprincipen för att använda statens medel effektivt. Vi vill utveckla de samhällsekonomiska kalkylmodellerna för infrastrukturinvesteringar. Vi tror inte på att ställa olika transportslag mot varandra; vi behöver både väg, järnväg, flyg, sjöfart och inte minst kollektivtrafik samt cykelbanor för att människor ska kunna arbetspendla, resa och för företagens varutransporter. Lagstiftningen ska vara teknikneutral och inte förhindra teknikutvecklingen. Vi anser att lagstiftningen bör inriktas mer på funktionalitet i stället för att ställa teknikspecifika krav. Utan utbyggd kollektivtrafik är det svårt att uppnå de nationella målen om klimat och tillgänglighet. En väl fungerande kollektivtrafik lägger grunden för att transportsystemet i Sverige fungerar och är centralt för att enkelt ta sig till jobb och skola. \n",
      "\t [{'name': 'SDG 9', 'n_occurrences': 1, 'children': [{'n_occurrences': 1, 'name': 'SDG 9_undetected_target'}]}] \n",
      "\n"
     ]
    },
    {
     "name": "stderr",
     "output_type": "stream",
     "text": [
      " 47%|████▋     | 557/1191 [23:24<25:21,  2.40s/it]"
     ]
    },
    {
     "name": "stdout",
     "output_type": "stream",
     "text": [
      "aHR0cHM6Ly93d3cubGliZXJhbGVybmEuc2UvcG9saXRpay9qb3JkYnJ1aw== \n",
      " Jordbruk Jordbruket producerar den mat vi äter, men det måste också användas och anpassas för att vi ska nå våra miljö och klimatmål. Vi behöver bättre grödor och växtskyddsmedel. Ett effektivare och mer skonsamt jordbruk kan ge större skördar samtidigt som jordbrukets negativa miljöpåverkan minskar. Torka, skadeangrepp och stora mängder regn blir vanligare när klimatet förändras. Växtsorter, brukningsmetoder och näringsämnen behöver anpassas. Växtförädling behövs mer än någonsin. Genteknik kan rätt använd ge oss mer motståndskraftiga grödor och bättre skördar med högre näringsinnehåll. Jordbruksstöd ska koppla till landskapsvård, miljöskydd och biologisk mångfald. Stöd kan också behövas för att garantera livsmedelsförsörjningen i ett läge där Sverige blir avskuret från internationell handel. Näringsläckaget till sjöar och hav orsakar övergödning som fortfarande är ett problem. Läckaget ska minska. Näringen ska tillbaka till åkern. Djurhållningen måste garantera djuren ett värdigt liv och en anständig död. Kontrollen av att nationella lagar och EU-regler efterlevs ska skärpas. Sverige ska driva på för att stärka djurskyddet i hela Europa. Det ska finnas tidsgränser vid djurtransporter. Ekologiskt jordbruk använder inte bekämpningsmedel. Det gynnar den biologiska mångfalden lokalt. Men utan konstgödsel och bekämpningsmedel blir avkastningen sämre. Större arealer behöver odlas upp, det minskar möjligheten att avsätta kantzoner och ekologiska öar i landskapet. Trycket mot ekosystemen runt om i världen ökar när jordbruket kräver mer plats. Det konventionella jordbruket behöver grödor och metoder som skonar den biologiska mångfalden men bibehåller effektiviteten. \n",
      "\t [{'name': 'SDG 9', 'n_occurrences': 1, 'children': [{'n_occurrences': 1, 'name': 'Target 9.5'}]}] \n",
      "\n"
     ]
    },
    {
     "name": "stderr",
     "output_type": "stream",
     "text": [
      " 47%|████▋     | 564/1191 [23:43<26:47,  2.56s/it]"
     ]
    },
    {
     "name": "stdout",
     "output_type": "stream",
     "text": [
      "aHR0cHM6Ly93d3cubGliZXJhbGVybmEuc2UvcG9saXRpay9wb2xpdGlra3JpbWluYWx2YXJk \n",
      " Kriminalvård Kriminalvården måste få bättre möjligheter att klara sitt viktiga uppdrag. Straffet ska avtjänas samtidigt som den dömde ska motiveras att bryta med kriminalitet. Men i dag friges nästan alla efter två tredjedelar av strafftiden oavsett om de skött sig eller ej. Det systemet måste ändras. Likaså behöver grovt kriminella ungdomar placeras på särskilda anstalter med specialutbildad personal. Målet för kriminalvården är inte bara att den dömde ska avtjäna sitt straff. Kriminalvården måste också göra allt för att motivera den dömde att bryta med brottslighet. En riktigt bra kriminalvård är därför en av de viktigaste brottsförebyggande uppgifterna. Det ska finnas goda möjligheter att få hjälp med sitt missbruk, reparera luckor i skolgången eller lära sig ett vanligt yrke. Sveriges fängelser är svårt överbelagda. Det skapar säkerhetsrisker och gör dessutom att dömda kan gå ute i samhället därför att det inte finns platser att ta emot dem. Med fler poliser och bättre brottsbekämpning kommer problemet att bli större. Därför vill Liberalerna ha fler fängelseplatser. I dag klarar samhället inte av att ge insatser till unga som fastnat i grov kriminalitet. Ansvaret för unga som döms till särskild ungdomsvård ska flyttas till Kriminalvården, där de ska placeras på särskilda enheter med kompetent personal. Unga som döms till fängelsestraff ska inte blandas med äldre klienter, utan ska avtjäna straffet på särskilda ungdomsfängelser. Nästan alla som döms till fängelse blir villkorligt frigivna efter två tredjedelar av strafftiden. Det är inte rimligt att den som döms till sex års fängelse ska kunna räkna med att bara sitta fyra år. Vi vill behålla den villkorliga frigivningen som en möjlighet för den som skött sig bra, men den ska inte som i dag vara näst intill en rättighet. \n",
      "\t [{'name': 'SDG 9', 'n_occurrences': 3, 'children': [{'n_occurrences': 3, 'name': 'Target 9.5'}]}] \n",
      "\n"
     ]
    },
    {
     "name": "stderr",
     "output_type": "stream",
     "text": [
      " 48%|████▊     | 572/1191 [24:03<26:04,  2.53s/it]"
     ]
    },
    {
     "name": "stdout",
     "output_type": "stream",
     "text": [
      "aHR0cHM6Ly93d3cubGliZXJhbGVybmEuc2UvcG9saXRpay9taWxqby1vY2gtbmF0dXI= \n",
      " Miljö och natur Naturen och den biologiska mångfalden måste bevaras. Ekosystemen och naturens bärkraft är en förutsättning för vår välfärd. För att våra barn och barnbarn ska kunna växa upp med samma möjligheter som vi har så måste vi skydda ekosystemen och värna den biologiska mångfalden. Klimatförändringarna innebär att insatserna för att skydda natur och miljö behöver stärkas. Vi ska lämna en värld i ekologisk balans till kommande generationer. Vi liberaler tror på marknadsekonomin men marknaden fungerar inte alltid tillräckligt bra. Skyddet av natur och miljö kräver tydlig reglering. Vi behöver gemensamt finansiera insatser som bevarar värdefull natur som stränder och gammelskogar. Fjäll-, skogs- och kustområden samt sjöar och vattendrag med höga naturvärden ska ha ett starkt skydd. Allemansrätten har stor betydelse och den ska vi vara rädda om. Att ha fritt tillträde till skog och mark är en viktig del av den svenska identiteten. Rätten får inte missbrukas. Hotade djur och växter ska skyddas genom fridlysning och restaureringsinsatser. Skogen binder kol och den är avgörande för den biologiska mångfalden. Särskilt värdefull skog behöver skyddas. Det behövs också sammanhängande skyddade områden. Våra hav och vatten är i dåligt skick. De mest värdefulla havsområdena ska skyddas som marina reservat. Det behövs insatser för att förhindra att skräp och föroreningar, som plast och läkemedel, sprids i våra vatten. Miljöförstöring och klimathot påverkar förutsättningarna för allt liv på jorden och stannar inte vid nationsgränser. Arbetet måste vara internationellt. Arbetet inom EU är avgörande för att kunna värna vår miljö och natur. Europa är den kontinent som bedriver det mest ambitiösa miljö- och klimatarbetet. \n",
      "\t [{'name': 'SDG 9', 'n_occurrences': 1, 'children': [{'n_occurrences': 1, 'name': 'Target 9.5'}]}] \n",
      "\n"
     ]
    },
    {
     "name": "stderr",
     "output_type": "stream",
     "text": [
      "\r",
      " 48%|████▊     | 573/1191 [24:05<25:21,  2.46s/it]"
     ]
    },
    {
     "name": "stdout",
     "output_type": "stream",
     "text": [
      "aHR0cHM6Ly93d3cubGliZXJhbGVybmEuc2UvcG9saXRpay9tb25hcmtp \n",
      " Monarki I dagens Sverige har kungen och drottningen inte någon politisk roll utan är bara symboler för vårt land. Liberalerna tycker att det systemet fungerar bra. Vi har medverkat till att monarkin i Sverige inte har någon politisk makt, och så ska det vara också i framtiden. För oss liberaler är det självklart att den politiska makten ska vara demokratiskt uppbyggd. När liberalismen växte fram på 1600- och 1700-talen skedde det som en frihetsrörelse mot kungligt envälde. Även i Sverige har monarkin historiskt haft stor makt. Vi liberaler gick i spetsen för att ändra detta och införa demokrati. Konflikten var hård och ledde till många politiska strider. Ett exempel var borggårdskuppen 1914, när den liberala statsministern Karl Staaff avgick i protest mot att kungen ville föra en annan försvarspolitik än regeringen. Liberalen Nils Edén blev år 1917 den första statsministern som fick kungen att respektera parlamentarism. I början av 1970-talet gjorde partierna en politisk bred uppgörelse om monarkins framtid, den så kallade Torekov-kompromissen. Den utgår ifrån att monarkin ska få finnas kvar, men utan någon politisk funktion. Liberalerna tycker att Torekov-kompromissen fungerar bra. Vi vill behålla dagens modell där kungahuset saknar politisk makt, utan bara är en gemensam symbol och representant för Sverige. \n",
      "\t [{'name': 'SDG 9', 'n_occurrences': 1, 'children': [{'n_occurrences': 1, 'name': 'Target 9.5'}]}] \n",
      "\n"
     ]
    },
    {
     "name": "stderr",
     "output_type": "stream",
     "text": [
      " 48%|████▊     | 575/1191 [24:10<25:04,  2.44s/it]"
     ]
    },
    {
     "name": "stdout",
     "output_type": "stream",
     "text": [
      "aHR0cHM6Ly93d3cubGliZXJhbGVybmEuc2UvcG9saXRpay9uYXJrb3Rpa2E= \n",
      " Narkotika Narkotika förstör människors liv och göder den organiserade brottsligheten. Vi vill att svensk narkotikapolitik ska bygga på en nollvision mot allt drogrelaterat lidande. Inriktningen ska vara rädda liv och bekämpa hantering av narkotika i alla led, inklusive användning. Vård ska ges till den som använder droger – de hårdaste straffen ska riktas mot tillverkarna, smugglarna och langarna. Den som är beroende av droger förlorar sin frihet. Därför ska all hantering av narkotika (utom medicinsk) vara olaglig. Dels för att det inte ska finnas några kryphål i lagen där langare kan gömma sig, dels för att polisen ska ha möjlighet att ingripa tidigt när någon är på väg in i ett missbruk. Den som döms för bruk av narkotika ska normalt få vård, inte straff. Hårda straff ska däremot riktas mot tillverkning, smuggling och langning. Det ska vara lätt att få kontakt med missbruksvården. Vården ska i första hand ges av sjukvården och kunna nås genom vårdcentralen. Tillgången till överdoshämmande läkemedel som naloxon måste bli bättre. Sprututbytesprogram är ett bra komplement som minskar smittspridning. Vi är öppna till en försöksverksamhet med injektionsrum där den som är inne i ett aktivt missbruk får kontakt med sjukvården sant får hjälp och stöd som kan leda vidare till missbruksvård. Ibland hörs åsikten att det är fel att förbjuda narkotika, eftersom det finns de som kan använda droger utan att fastna i ett missbruk. Priset för att släppa narkotikan fri blir dock oerhört högt för alla dem som inte är lika lyckligt lottade – den som fastnar i ett beroende förlorar hela sin frihet. Därför är det rätt att motverka droganvändning. Samtidigt ska narkotikapolitiken bygga på vetenskap och fakta. Det är bra att det nu görs en statlig utredning om narkotikapolitiken, men den har fått för snäva ramar. Därför behöver effekterna av kriminaliseringen av narkotikaanvändning, och innehav för eget bruk, också utvärderas. \n",
      "\t [{'name': 'SDG 9', 'n_occurrences': 3, 'children': [{'n_occurrences': 3, 'name': 'Target 9.5'}]}] \n",
      "\n"
     ]
    },
    {
     "name": "stderr",
     "output_type": "stream",
     "text": [
      " 49%|████▊     | 578/1191 [24:18<25:54,  2.54s/it]"
     ]
    },
    {
     "name": "stdout",
     "output_type": "stream",
     "text": [
      "aHR0cHM6Ly93d3cubGliZXJhbGVybmEuc2UvcG9saXRpay9vZmZlbnRsaWdhLW1vbm9wb2w= \n",
      " Offentliga monopol De offentliga monopolen bör i största möjliga mån avvecklas om de inte har ett samhällsuppdrag. När företag konkurrerar på en öppen marknad förbättras kvaliteten och priserna sjunker. Upphandlingsreglerna bör underlätta för flera företag att delta i offentliga upphandlingar. Lagen om valfrihet ska gälla i hela Sverige. Inget vinstförbud ska införas för företag som verkar inom skola, vård och omsorg. Vår utgångspunkt är att staten ska ange de ramar som gäller för företagen, inte äga och driva bolag. Alla vinner på konkurrens. Det måste finnas ett tydligt syfte med ett offentligt monopol. I de fall där statliga bolag har ett särskilt samhällsuppdrag ska detta tydligt redovisas. För att garantera en kostnadseffektiv service av hög kvalitet är det viktigt att öppna upp offentliga upphandlingar för fler aktörer. Även små- och medelstora företag som inte har kollektivavtal ska kunna delta. För att möjliggöra för fler företag att vara med i upphandlingar vill vi ha en nationell plattform för offentlig upphandling vilket skulle öka transparensen och ge fler mindre leverantörer möjlighet att ta aktiv del i upphandlingar. Det stärker konkurrensen och höjer kvaliteten. Den positiva utvecklingen inom företagandet i välfärdssektorn hotas av ett förbud mot vinster. Att införa ett vinstförbud för företag inom skola, vård och omsorg är en begränsning av valfriheten och företagandet och slår särskilt hårt mot kvinnors företagande. Lagen om valfrihet (LOV) har flyttat makten från politiker till de som står närmast vården och de individuella förutsättningarna, det vill säga utförarna och brukarna. Vårdval och en mångfald av vårdgivare har bidragit till ökad tillgänglighet, kortare vårdköer och effektivare användning av vårdens resurser. Valfrihetslösningar (upphandlingar enligt LOV) ska tillämpas i alla landets regioner. \n",
      "\t [{'name': 'SDG 9', 'n_occurrences': 2, 'children': [{'n_occurrences': 2, 'name': 'Target 9.5'}]}] \n",
      "\n"
     ]
    },
    {
     "name": "stderr",
     "output_type": "stream",
     "text": [
      " 49%|████▉     | 583/1191 [24:30<25:45,  2.54s/it]"
     ]
    },
    {
     "name": "stdout",
     "output_type": "stream",
     "text": [
      "aHR0cHM6Ly93d3cubGliZXJhbGVybmEuc2UvcG9saXRpay9wc3lraWF0cmk= \n",
      " Psykiatri Varje människa som mår psykiskt dåligt hindras från att leva som den vill. Psykisk ohälsa hamnar ofta i bakgrunden i debatten, trots det är en av Sveriges största utmaningar. Varje vårdcentral ska kunna erbjuda psykiatrisk hjälp. En person med självmordstankar behöver akut hjälp, precis som en person med hjärtinfarkt.  Vår syn på psykisk ohälsa måste förändras i grunden och likställas med övrig ohälsa. Människor med psykisk ohälsa ska mötas med omtanke och respekt, och de ska ha inflytande över sin egen vård. Möjligheterna till självvald inläggning ska öka, brukarmedverkan ska stärkas och den som är i akut kris ska i första hand omhändertas av vården, inte av polisen. Så kallade psykiatriambulanser ska införas i hela landet. Det ska inte finnas några patientavgifter i tvångsvården. Idag finns det stora skillnader i hur vi behandlar människor med psykisk ohälsa i olika delar av landet. Skolhälsovården, vårdcentraler och ungdomsmottagningar ska få större möjlighet att hjälpa unga med psykisk ohälsa. Den som behöver ännu mer stöd ska inte behöva vänta. Köerna till den specialiserade barn-  och ungdomspsykiatrin måste kortas, ingen ska behöva vänta mer än 30 dagar. En liberal prioritering är att mer psykiatrisk vård ska kunna flytta hem. Lättanvända e-besök till första linjens psykiatri, samtalsbehandlingar, neurologisk vård och andra specialiteter ger patientmakt och mer jämlik vård över landet. Samtidigt ska mobila vårdenheter som psykiatriambulanser finnas tillgängliga i hela landet. Vi vill att fler patienter hjälps direkt till rätt vårdnivå utan att passera akutmottagningen. \n",
      "\t [{'name': 'SDG 9', 'n_occurrences': 4, 'children': [{'n_occurrences': 4, 'name': 'Target 9.5'}]}] \n",
      "\n"
     ]
    },
    {
     "name": "stderr",
     "output_type": "stream",
     "text": [
      " 50%|████▉     | 590/1191 [24:48<24:36,  2.46s/it]"
     ]
    },
    {
     "name": "stdout",
     "output_type": "stream",
     "text": [
      "aHR0cHM6Ly93d3cubGliZXJhbGVybmEuc2UvcG9saXRpay9zZmk= \n",
      " SFI Den som kan svenska kan få jobb, prata med barnens lärare eller gå till läkaren på egen hand.  Språket ger egenmakt. Det gäller inte minst kvinnor som måste få stå på egna ben både i förhållande till samhället men också till sin partner. Svenska för invandrare måste bli flexiblare och mer individanpassad och det ska ställas tydliga krav. För att fler ska lära sig det svenska språket så fort som möjligt behöver undervisningen inom SFI anpassas mer efter individen. En akademiker och en analfabet har helt olika förutsättningar att lära sig svenska språket. SFI ska gå att plugga på kvällar, helger och under sommaren för att passa med till exempel föräldraledighet eller jobb. Alla kommuner ska erbjuda yrkessvenska och samarbeta med det lokala näringslivet för att tillsammans se till att nyanlända kan plugga yrkessvenska på arbetsplatsen. I dag hoppar många av eller fastnar för länge i SFI-studier. Deltagandet måste öka – men det räcker inte om det enbart leder till att fler sitter av tiden i klassrummet. Liberalerna menar därför att det behövs ett ökat fokus på resultat. Vi vill införa en kontrollstation efter 52 veckors SFI-studier. Om endast begränsade resultat uppnåtts ska man istället ut i jobb eller praktik för att lära sig språket. SFI-frånvaro måste leda till sänkt ersättning och närvarouppföljningen måste förbättras. Ersättningen bör sänkas till 80 procent vid frånvaro på grund av sjukdom eller vård av barn på samma sätt som vid frånvaro från arbete eller aktivitetsstöd. Kommuner måste se till att det finns svenska för föräldralediga inom ramen för Öppna förskolan. Den som får försörjningsstöd, även under föräldraledighet, ska läsa svenska annars minskar försörjningsstödet. Ladda hem som PDF \n",
      "\t [{'name': 'SDG 9', 'n_occurrences': 1, 'children': [{'n_occurrences': 1, 'name': 'Target 9.5'}]}] \n",
      "\n"
     ]
    },
    {
     "name": "stderr",
     "output_type": "stream",
     "text": [
      "\r",
      " 50%|████▉     | 591/1191 [24:50<24:52,  2.49s/it]"
     ]
    },
    {
     "name": "stdout",
     "output_type": "stream",
     "text": [
      "aHR0cHM6Ly93d3cubGliZXJhbGVybmEuc2UvcG9saXRpay9zanVrZm9yc2FrcmluZw== \n",
      " Sjukförsäkring Alla ska kunna känna sig trygga vid långvarig eller kortvarig sjukdom. Sjukförsäkringssystemet ska se till att alla människor har en försörjning ifall de blir sjuka. Sjukförsäkringen ska vara aktiv och anpassad efter den sjukskrivne så att fler kommer tillbaka till arbetslivet så snabbt som möjligt. Samarbetet mellan Försäkringskassan och sjukvården, FINSAM, ska fördjupas och utvecklas. På 1990-talet steg sjuktalen och kostnaderna för rehabiliterings- och sjukpenningen skenade. Det berodde inte på förändringar i folkhälsan utan på och generösare regler och utbetalningar. Genom Alliansregeringens införande av rehabiliteringskedjan gjordes tillämpningen likvärdig och passiva sjukskrivningar stoppades. Arbetslinjen, att människor uppmuntras att arbeta är viktig och innebär en individuell bedömning av arbetsförmågan. Fler kommer tillbaka till arbetslivet och sjukskrivningen fortsätter inte i all oändlighet utan myndigheter, arbetsgivare och den sjukskrivne samverkar om vägen tillbaka till arbetslivet. Den som har en så pass allvarligt nedsatt arbetsförmåga att man inte förväntas komma tillbaka i arbete kan få sjukersättning. Det får dock inte bli en slentrianmässig åtgärd. Det ska finnas en hög ambitionsnivå för både aktiviteter och sysselsättning. Aktiv och individuell anpassning gör att färre hamnar i utanförskap. Försäkringskassan brottas med ett lågt förtroende. Ett löpande reformarbete krävs för att kunna erbjuda trygghet och lyhördhet mot den enskilde samtidigt som skattebetalarnas pengar används rättssäkert och effektivt. Vi vill att sjukskrivningsprocessen från sjukvården och Försäkringskassan består av individuellt anpassade vård- och rehabiliteringsflöden och att samarbetet mellan Försäkringskassan och sjukvården, det som benämns FINSAM, fördjupas och utvecklas. \n",
      "\t [{'name': 'SDG 9', 'n_occurrences': 1, 'children': [{'n_occurrences': 1, 'name': 'Target 9.5'}]}] \n",
      "\n"
     ]
    },
    {
     "name": "stderr",
     "output_type": "stream",
     "text": [
      "\r",
      " 50%|████▉     | 592/1191 [24:53<25:21,  2.54s/it]"
     ]
    },
    {
     "name": "stdout",
     "output_type": "stream",
     "text": [
      "aHR0cHM6Ly93d3cubGliZXJhbGVybmEuc2UvcG9saXRpay9zanVrdmFyZA== \n",
      " Sjukvård Den som inte är frisk tvingas in i ofrihet. Svensk sjukvård behöver bli bättre; för våra patienter, deras anhöriga och alla de yrkesgrupper som arbetar outtröttligt med att hjälpa andra. De förtjänar fler kollegor och bättre arbetsvillkor. Liberal sjukvårdspolitik utgår alltid ifrån den enskilda, och hen ska få god vård i rätt tid, vare sig det är en vanlig, sällsynt, eller kronisk sjukdom. Preventiva insatser ska finnas för alla åldersgrupper. Svensk sjukvård är i många avseenden fantastisk, men stora problem finns och måste täppas till. Liberal sjukvårdspolitik fokuserar alltid på individens förutsättningar och utgår ifrån dennes behov. Därför vill vi se en patientnära vård, med fasta kontakter inom både allmänvården och specialistsjukvården. Fler kollegor behövs på sjukhus och vårdcentraler i hela landet. Arbetsvillkoren för de som är verksamma i vården behöver förbättras avsevärt. Bättre lönemöjligheter och arbetsvillkor och fler kollegor är vad som behövs, inte kortsiktiga satsningar som försvinner i administrativa kostnader. Ingen ska behöva dö, och ingen ska behöva förlora någon de älskar, för att det inte finns tid till hjälp. Kroniska sjukdomar drabbar många i Sverige. Här behöver vi fokusera på vård, tröst och stöd så att alla människor kan leva ett drägligt liv utifrån sina förutsättningar. Kunskapen måste förbättras inom vård, skola och omsorg för att kunna tillgodose olika behov. Anhöriga behöver få mer stöd och möjlighet till avlastning behöver bli en rätt till avlastning. Sällsynta sjukdomar behandlas alltför styvmoderligt idag. För den som är drabbad eller anhörig spelar det ingen roll om sjukdomen är vanligast i Sverige eller drabbar en på miljarden. Tillgången till särläkemedel måste förbättras avsevärt för personer med exempelvis spinal muskelatrofi eller cystisk fibros. \n",
      "\t [{'name': 'SDG 9', 'n_occurrences': 7, 'children': [{'n_occurrences': 7, 'name': 'Target 9.5'}]}] \n",
      "\n"
     ]
    },
    {
     "name": "stderr",
     "output_type": "stream",
     "text": [
      "\r",
      " 50%|████▉     | 593/1191 [24:56<25:22,  2.55s/it]"
     ]
    },
    {
     "name": "stdout",
     "output_type": "stream",
     "text": [
      "aHR0cHM6Ly93d3cubGliZXJhbGVybmEuc2UvcG9saXRpay9zam9mYXJ0 \n",
      " Sjöfart Sjöfarten är viktig då i stort all utrikeshandel transporteras sjövägen och ungefär 30 miljoner passagerare reser varje år med färja till och från Sverige. Hamnarna och vattenvägarna betyder mycket för att avlasta vägnätet och minska klimatbelastningen. Den svenska sjöfarten står inför stora utmaningar med hård konkurrens och vi vill att skattevillkoren för svensk rederinäring ska vara konkurrenskraftig. Sjöfarten har stor betydelse för transportsystemet och vi är helt beroende av en konkurrenskraftig sjöfart. Den svenska sjöfarten har stora utmaningar med hård konkurrens och vi anser att skattevillkoren för svensk rederinäring måste förändras för att bli mer konkurrenskraftig. När kapacitetsutnyttjandet av järnväg och väg är högt kan en ökad andel sjötransporter vara lösningen, vilket kräver en god tillgänglighet till hamnarna. Godset måste kunna lasta om för att vattenvägarna ska nyttjas. Vi vill därför säkerställa att infrastrukturen till hamnarna fungerar väl med en effektiv omlastningsfunktion. Fartyg i hamn bör stimuleras att använda landström, t. ex. genom differentierade hamnavgifter. Ökad inlandssjöfart leder till att transporterna på land avlastas och att det finns kapacitet för den samlade godsvolymen att öka. En översyn av regelverket för inre vattenvägar, t. ex. pråmtrafiken, bör ses över. Den åldrade isbrytarflottan behöver förnyas. Isbrytarna är viktiga för att säkerställa tillförlitliga transporter för näringslivet. De isbrytare som under en stor del av året inte är i bruk ska användas i annat sjösäkerhetsarbete. Trafikverket genomför för närvarande en förstudie om Gotlandstrafikens framtid. Vi vill att man ser över möjligheten att färjetrafiken till och från Gotland likställs med övriga vägar och järnvägar och ingå i den nationella infrastrukturen. \n",
      "\t [{'name': 'SDG 9', 'n_occurrences': 2, 'children': [{'n_occurrences': 2, 'name': 'Target 9.5'}]}] \n",
      "\n"
     ]
    },
    {
     "name": "stderr",
     "output_type": "stream",
     "text": [
      "\r",
      " 50%|████▉     | 594/1191 [24:58<25:07,  2.53s/it]"
     ]
    },
    {
     "name": "stdout",
     "output_type": "stream",
     "text": [
      "aHR0cHM6Ly93d3cubGliZXJhbGVybmEuc2UvcG9saXRpay9za2F0dGVy \n",
      " Skatter För att kunna bygga en stark gemensam välfärd behöver vi betala skatt. Det är så vi kan se till att det finns lärare i klassrummen, läkare och sjuksköterskor på vårdcentralerna och poliserna på torgen. Dagens skattesystem har delar som motverkar det som bygger välståndet. Ju fler som arbetar och startar företag, desto fler kan bidra till vårt gemensamma. Därför behöver vi återinföra arbetslinjen. 1,3 miljoner svenskar försörjer inte sig själva och långtidsarbetslösheten biter sig fast. Vi liberaler vill ge makt till individen att stå på egna ben. Ingen som kan arbeta ska tvingas vara beroende av staten eller någon annan för sin försörjning. Det är därför viktigt att den som arbetar får lön för sin möda. Det ska alltid löna sig att gå från bidrag till jobb och egenförsörjning. Genom att ta sig till jobbet tar man sig också in i samhället och kan bli en del av samhällsgemenskapen. Det är den bästa integrationsmotorn. Det är viktigt att man får forma sin egen framtid. Den som tar ansvar för sin ekonomi ska inte straffas av skatter av för höga skatter. Därför behöver skatterna för sparande sänkas. Genom att öka möjligheterna att spara ger det individen egenmakt. Med ett eget ekonomiskt kapital har man möjligheten att lämna den destruktiva relationen, byta från jobbet där man inte uppskattas eller starta företaget man alltid drömt om. En liberal klimat- och miljöpolitik kombinerar frihet och välfärd med omtanke för vår planet. Grön skatteväxling innebär att den som smutsar ner får betala mer samtidigt som fler tjänar på att jobba och bidra till vår gemensamma välfärd. På det sättet drivs även företagen mot grön innovation. \n",
      "\t [{'name': 'SDG 9', 'n_occurrences': 3, 'children': [{'n_occurrences': 3, 'name': 'Target 9.5'}]}] \n",
      "\n"
     ]
    },
    {
     "name": "stderr",
     "output_type": "stream",
     "text": [
      "\r",
      " 50%|████▉     | 595/1191 [25:01<24:45,  2.49s/it]"
     ]
    },
    {
     "name": "stdout",
     "output_type": "stream",
     "text": [
      "aHR0cHM6Ly93d3cubGliZXJhbGVybmEuc2UvcG9saXRpay9za29nZW4= \n",
      " Skogen För att skogspolitikens miljö- och produktionsmål båda ska nås krävs samförstånd. Regeringens politik har varit ensidig och har lett till hårda låsningar då den ignorerat skogsbrukets utveckling. Trots det är situationen för ekosystemen fortfarande bekymmersam. Miljövården har ställts mot behovet av produkter från skogen. Så får det inte fortsätta. Skogsbruket kan och ska vara effektivt och skonsamt. Skogen är ger oss friluftsliv, jakt och naturupplevelser. Den reglerar vatten, renar luften, motverkar klimatförändringar och är avgörande för den biologiska mångfalden. I skogen finns unika biotoper och ekosystem som är grunden för många arters överlevnad. Skogen är samtidigt central för vår industri, tillväxt och export. Skogsindustrin är en av våra viktigare näringar. Den är avgörande för exporten. Så ska det fortsätta vara. Potentialen att producera förnybara material, kemiska produkter och textilier ska tas tillvara. Skogen kommer att bli ännu viktigare än idag. Skogspolitiken vilar på två jämställda mål, produktionsmålet och miljömålet. De får inte ställas mot varandra som regeringen gjort. Både staten och skogsnäringen har ett stort ansvar att skydda skogens ekosystem, bevara den biologiska mångfalden och slå vakt om naturvård och miljöhänsyn. Alternativa bruknings- och avverkningsmetoder behöver användas och utvecklas mer. Skogsbruket ska vara effektivt och skonsamt. Nationalparker, naturreservat och biotopskyddsområden är tillsammans med en fortsatt hög allmän hänsyn ryggraden i Liberalernas naturvårdspolitik. De kvarvarande naturskogarna, gammelskogarna, måste skyddas. Areal skyddad skog måste öka. Vi vill att 85 000 hektar av Sveaskogs innehav ska användas som inbyte för privatägd skyddsvärd skog. 200 000 hektar ska säljas till små skogsägare. \n",
      "\t [{'name': 'SDG 9', 'n_occurrences': 2, 'children': [{'n_occurrences': 2, 'name': 'Target 9.5'}]}] \n",
      "\n"
     ]
    },
    {
     "name": "stderr",
     "output_type": "stream",
     "text": [
      " 51%|█████     | 602/1191 [25:19<25:51,  2.63s/it]"
     ]
    },
    {
     "name": "stdout",
     "output_type": "stream",
     "text": [
      "aHR0cHM6Ly93d3cubGliZXJhbGVybmEuc2UvcG9saXRpay9zdHJhbmRza3lkZA== \n",
      " Strandskydd Sverige ska ha ett starkt generellt strandskydd samtidigt ska det bli mer flexibelt så att det går att bygga nära stränderna där exploateringstrycket är lågt. Det måste också bli möjligt att anlägga våtmarker och bevattningsdammar utan att strandskydd inträder. Skärgårdarnas lokalsamhällen måste kunna utvecklas trots att de är populära besöksmål i juli månad. Strandskyddet behöver reformeras. Det generella strandskyddet har gett oss tillgång till stränder och i viss mån ger det ekosystemen skydd. Men det innebär samtidigt onödigt stora ingrepp i människors liv och frihet, och trots att reglerna är stränga är utvecklingen av miljömålen oroväckande dålig. Stränderna måste fungera som barnkammare åt djur och växter och människor ska ha tillgång till stränder. Men där exploateringstrycket inte är så hårt måste det gå att bygga strandnära. Det ska också bli möjligt att bygga i närheten av små vattendrag och diken. Kustsamhällen och skärgårdarnas kärnöar måste få utvecklas trots att de mitt i sommaren är populära besöksmål. Vi behöver återskapa våtmarker. Det är både en klimatåtgärd ett sätt att bekämpa övergödningen och viktigt för den biologiska mångfalden. Det behövs också bevattningsdammar för att klara torrperioder. Men många markägare tvekar idag. Därför ska varken dammar eller återskapade våtmarker ha strandskydd. Regeringen gjorde under 2022 ett försök att reformera strandskyddet. Man föreslog lättnader på landsbygden. Men förslaget var en dålig kompromiss som skulle ha lagt en död hand över södra Sveriges kuster. Det skulle ha blivit omöjligt att leva där annat än som sommargäst. Arbetet är dock inte bortkastat. Liberalerna kommer att bygga vidare på det efter valet. \n",
      "\t [{'name': 'SDG 9', 'n_occurrences': 1, 'children': [{'n_occurrences': 1, 'name': 'Target 9.5'}]}] \n",
      "\n"
     ]
    },
    {
     "name": "stderr",
     "output_type": "stream",
     "text": [
      " 51%|█████     | 605/1191 [25:27<25:33,  2.62s/it]"
     ]
    },
    {
     "name": "stdout",
     "output_type": "stream",
     "text": [
      "aHR0cHM6Ly93d3cubGliZXJhbGVybmEuc2UvcG9saXRpay90YW5kdmFyZA== \n",
      " Tandvård Det är hög tid att ta fram nationella tandvårdsprogram och införa uppsökande verksamhet. Inför testverksamhet där tandvården integreras i vårdkedjan, och inför mobil tandvård. Ingen ska dö av dåliga tänder och alla ska ha råd med sitt leende. Vi vill göra tandvårdens finansiering ska stegvis bli mer lik den i övrig hälso- och sjukvården. Vi vill ge tandvården uppdrag att utbilda och höja befolkningskunskapen. Friska tänder är viktigt för både folkhälsan och självkänslan. Tandvården har alltför länge separerats från den ordinarie hälso- och sjukvården i fråga om finansieringen. Därför vill vi i Liberalerna se att tandvården som testverksamhet integreras i vårdkedjan, och att finansieringen stegvis ska bli mer lik den i övrig hälso- och sjukvård. Ett välfungerande preventivt arbete kan spara in mycket lidande för patienten och höga kostnader för sjukvården. Därför vill vi ge tandvården i uppdrag att utbilda och höja kunskap, för alla åldersgrupper. Vi behöver satsa mer på riskgrupper. Människor som förlorat tänder är sjukare än andra, bakteriebeläggningar på tänderna ökar risken att dö i förtid med 50 procent och människor med tandlossning dör i snitt 30 år tidigare än andra. Värst drabbade är de som lider av psykisk ohälsa, social utsatthet såsom hemlöshet och de med långvariga sjukdomar. Tandvården behöver finnas där riskgrupperna är. Därför vill vi satsa på mobil tandvård och uppsökande arbete. Den sociala klyftan i munhälsa måste slutas. Nationella tandvårdsprogram ska tas fram för riskgrupper. Kunskapen måste också öka om munhälsa vid åldrande och vid demenssjukdomar, neurologiska sjukdomar, Parkinsons sjukdom, MS och andra tillstånd som ofta drabbar äldre. Utrikesfödda och människor med sämre socioekonomi halkar efter i munhälsa. Tidiga och uppsökande insatser behövs med intensiv tandvård, rådgivning och utbildning till vårdnadshavarna. \n",
      "\t [{'name': 'SDG 9', 'n_occurrences': 5, 'children': [{'n_occurrences': 5, 'name': 'Target 9.5'}]}] \n",
      "\n"
     ]
    },
    {
     "name": "stderr",
     "output_type": "stream",
     "text": [
      " 51%|█████     | 609/1191 [25:37<24:19,  2.51s/it]"
     ]
    },
    {
     "name": "stdout",
     "output_type": "stream",
     "text": [
      "aHR0cHM6Ly93d3cubGliZXJhbGVybmEuc2UvcG9saXRpay91cHBob3ZzcmF0dGVu \n",
      " Upphovsrätt Digitaliseringen kräver att upphovsrätten uppdateras. Lagarna måste följa med i den digitala utvecklingen och tillvarata lagliga möjligheter med fildelning och annan digital teknik. En digital allemansrätt ska införas för att göra offentligt finansierad digital information mer tillgänglig. I detta arbete måste samtidigt kulturskapares möjligheter att få betalt och den konstnärliga friheten försvaras. Liberaler är positiva till ny teknik. Lagstiftningen ska ge nya lagliga möjligheter för att få tillgång till digitala verk. Tack vare upphovsrätten kan konstnärer äga sin konst, ta betalt och bestämma över sina verk. Upphovsrätten ger kulturskaparen makten över hur verket ska spridas, och i så fall på vilka villkor. Skyddstiderna för olika kulturformer ska bli mer enhetliga och skyddstiden för verk av avlidna kortare. Information som är offentligt finansierad av skattebetalarna och digitaliserats såsom gamla dokument och kartor ska göras tillgänglig för alla genom en ”digital allemansrätt”. Lagen om privatkopiering ska revideras och ”kassettskatten” avvecklas. Idag har det blivit enklare att använda digitala tjänster genom att man vid resor inom EU alltid har tillgång till hemutbudet. Målet är att alla digitala tjänster ska vara tillgängliga oavsett var man befinner sig. EU ska arbeta mot att minska användandet av så kallad geoblockering för digitala tjänster. Vi motsätter oss att införa kvoter om hur mycket europeiskt material som ska produceras och sändas i public service. Den dominerande marknadspositionen för de stora nätaktörerna bör tas upp. Företrädare för liberalerna har föreslagit en ny maktutredning, bland annat med tanke på att nätet förändrat maktstrukturerna där vi särskilt lyft fram de stora globala jättarnas, såsom Googles, Amazons, Apples och Metas, position som särskilt intressanta ur ett maktperspektiv.  \n",
      "\t [{'name': 'SDG 9', 'n_occurrences': 4, 'children': [{'n_occurrences': 4, 'name': 'SDG 9_undetected_target'}]}] \n",
      "\n"
     ]
    },
    {
     "name": "stderr",
     "output_type": "stream",
     "text": [
      "\r",
      " 51%|█████     | 610/1191 [25:39<24:08,  2.49s/it]"
     ]
    },
    {
     "name": "stdout",
     "output_type": "stream",
     "text": [
      "aHR0cHM6Ly93d3cubGliZXJhbGVybmEuc2UvcG9saXRpay91dGxhbmRzc3ZlbnNrYXI= \n",
      " Utlandssvenskar Bara drygt 32 procent av utlandssvenskarna använder idag sin rösträtt, det är alldeles för få. Liberalerna verkar för att öka valdeltagandet bland utlandssvenskar. Vi vill exempelvis öka tillgängligheten genom förbättrade öppettider för vallokaler utomlands och tydligare information till utlandssvenskar om reglerna för att rösta. Svenska pensionärer i utlandet och tillfälliga arbetstagare i Sverige fick en rejäl skattehöjning från 20 till 25 procent i år. Liberalerna avser återställa skattenivån vid en valseger och har även budgeterat för det i skuggbudgeten. Svenska pensionärer som går i pension utomlands har bidragit till den svenska välfärden och genom att inte vara folkbokförd i Sverige är det motiverat att tro att de inte tar del av svensk välfärd i lika stor utsträckning som inhemskt boende pensionärer. Det är därför nödvändigt att återställa skattenivån för utlandssvenskar till 20 procent. En del utlandssvenskar väljer att återvända till Sverige efter en tid utomlands. Då ska det givetvis finnas en skälig garantipension. Liberalerna var med i pensionsgruppen som bland annat såg till att höja garantipensionen och bostadstillägget med 1 300 kronor per månad för de pensionärer som har det tuffast. Många utlandssvenskar som skulle vilja flytta sitt företag till Sverige hindras av stelbenta arbetskraftsinvandringsregler. Eftersom vi tror på internationell rörlighet vill vi även att Sverige ska kunna locka till sig kompetens från andra länder. Arbetskraftsinvandring är bra för vår ekonomi och vår gemensamma välfärd. Studenter från hela världen ska också kunna plugga på svenska universitet och söka jobb efter studierna. Krångliga regler och långa väntetider för att få arbetstillstånd måste bort. Skolan ska ge varje barn de kunskaper som krävs för att kunna förverkliga sina livsdrömmar, oavsett om det är i Sverige eller utomlands. De svenska utlandsskolorna ska hålla hög kvalitet och följa svensk läroplan. Undervisningen ska ske på svenska och avgifterna får inte vara oskäligt höga. Kommuner som styrs av Liberaler ger skolpeng till gymnasiestudier på de av Skolverket godkända utlandsskolor om inte statsbidrag ges enligt reglerna för utlandssvenskar. Det måste också bli enklare att tillgodoräkna sig utländska studier i en svensk examen för att få fler svenska studenter att våga ta steget ut i världen. Det ska vara enkelt att ha att göra med svenska myndigheter även om man är bosatt i utlandet. Liberalerna vill att det ska finnas anpassade och tillgängliga elektroniska system för att underlätta kontakten med svenska myndigheter i administrativa ärenden, om man som utlandsboende exempelvis behöver intyg av olika typer. Sverige är ett litet land där vi inte kan eller bör sluta oss inåt. Liberalerna vill att Sverige samarbetar mer med andra liberalt sinnade länder. Vi vill bland annat gå med i Nato, upprätta fler frihandelsavtal, fördjupa demokratin inom FN och fördjupa samarbetet inom EU. Det behövs både för att det ska vara enklare att resa och arbeta i andra länder, för att fler individer världen över ska kunna berikas av den globala handeln och för att vi ska kunna möta gemensamma utmaningar tillsammans med andra. En gemensam valuta i EU är inte bara bra för Sverige utan kommer även underlätta för utlandssvenskar genom att exempelvis undvika osäkerhet kring växelkursen vid utbetalningar av svenska pensioner. Få händelser har så tydligt visat på alla fördelar med EU-medlemskapet som den tråkiga process genom vilken Storbritannien nu avser att lämna EU. I Europaparlamentet har liberalerna arbetat för att försvara svenskars och andra EU-medborgares intressen i Storbritannien även efter Brexit men vi har även varit pådrivande för att EU-samarbetet nu fördjupas istället för att försvagas efter det brittiska utträdet. Det finns många delar av EU-samarbetet som behöver reformeras men vi liberaler vill utveckla EU-samarbetet, inte avveckla det. Klimatmålen som världens ledare enades om i Paris måste nås. Sverige och EU ska driva på för minskade utsläpp. Skatter bestäms i varje land men vi vill ha en koldioxidskatt och flygskatt på EU-nivå. Liberalerna värnar om den fria rörligheten inom EU. Sedan flyktingkrisen 2015 står det klar att vi behöver ett gemensamt asylsystem inom EU för att kunna värna den fria- rörligheten och fördela antalet flyktingar på ett rättvist sätt. Liberalerna vill bland annat att alla länder blir skyldiga att dela på ansvaret för de asylsökande. EU behöver även förbättra sina verktyg för arbetskraftsinvandring så att vi öppnar fler enkla, lagliga och säkra vägar för personer som vill komma till Europa för att arbeta och bidra. I ett öppet Europa ska polisen kunna samarbeta över gränserna lika mycket som brottslingar redan gör. Liberalerna är det enda parti som tydligt tar ställning för att kraftigt stärka EU:s brottsbekämpande samarbete. Vi vill att EU:s polismyndighet Europol ska få ökade resurser och ett eget mandat att utreda gränsöverskridande grov brottslighet. Liberalerna var även det enda riksdagsparti som motsatte sig att Sverige, tillsammans med Ungern och Polen, ställde sig utanför den nya europeiska åklagarmyndigheten. Liberalerna vill också ha starkare globalt samarbete mot grov och gränsöverskridande brottslighet. Vi säger ja till fler samarbetsavtal mellan Sverige och länder utanför EU för att underlätta brottsbekämpning. Liberalerna vill att Sverige aktivt stödjer de modiga jämställdhets- och hbtq-aktivister som arbetar för förändring också i världens mest konservativa länder. Liberalerna vill att Sverige driver på för hbtq-rättigheter i hela Europa. EU-lagarnas familjebegrepp ska inkludera alla familjer, även regnbågsfamiljer. \n",
      "\t [{'name': 'SDG 9', 'n_occurrences': 3, 'children': [{'n_occurrences': 3, 'name': 'Target 9.5'}]}] \n",
      "\n"
     ]
    },
    {
     "name": "stderr",
     "output_type": "stream",
     "text": [
      " 52%|█████▏    | 615/1191 [25:52<24:01,  2.50s/it]"
     ]
    },
    {
     "name": "stdout",
     "output_type": "stream",
     "text": [
      "aHR0cHM6Ly93d3cubGliZXJhbGVybmEuc2UvcG9saXRpay92aW5ka3JhZnQ= \n",
      " Vindkraft Vindkraften har växt fort de senaste åren och ger idag ett betydande tillskott till vår fossilfria elmix. När elbehovet ökar är det vindkraften och kärnkraften som kommer att stå för det mesta av den nya elproduktionen. De konflikter vindkraften skapar måste tas på allvar. Alla blåsiga platser ska inte bebyggas med vindkraft, men en del ska det. Vindkraften har växt kraftig. Den står på egna ben och byggs konkurrenskraftigt. Det behövs inga subventioner längre. Det är bra. Energislagen ska ha jämförbara spelregler. Utbyggandet av vindkraften behöver fortsätta. Men att vindkraften kräver stora ytor leder till konflikter. Utbyggnaden måste ske i samförstånd med de människor som påverkas. Det ska finnas en verklig möjlighet att göra sin röst hörd. Alla planerade projekt kommer inte att bli av. Att vindkraften växer betyder att den nu påverkar kraftsystemet mer än tidigare. Det märks genom att elpriset har blivit mer oförutsägbart, vilket skadar ekonomin. För att stabilisera priset – när vindkraftsutbyggnaden fortsätter – behövs det nya elanvändare som hela tiden anpassar sig efter vädret. Det skulle till exempel kunna vara produktion av vätgas som stoppas när det är ont om el. Väderberoendet och konkurrensen med andra intressen sätter gränser för vindkraftsutbyggnaden. Vindkraften behöver kombineras med andra fossilfria energislag för att vi ska kunna lita på att få el i tillräcklig mängd när och där vi behöver den. Liberalerna accepterar inte förslaget att elanvändarna och de befintliga elproducenterna ska betala för den havsbaserade vindkraftens kablar in till land. De som bygger havsbaserad vindkraft kommer att få stå för kostnader de orsakar. \n",
      "\t [{'name': 'SDG 9', 'n_occurrences': 1, 'children': [{'n_occurrences': 1, 'name': 'Target 9.5'}]}] \n",
      "\n"
     ]
    },
    {
     "name": "stderr",
     "output_type": "stream",
     "text": [
      " 52%|█████▏    | 619/1191 [26:02<24:24,  2.56s/it]"
     ]
    },
    {
     "name": "stdout",
     "output_type": "stream",
     "text": [
      "aHR0cHM6Ly93d3cubGliZXJhbGVybmEuc2UvcG9saXRpay95dHRyYW5kZWZyaWhldA== \n",
      " Yttrandefrihet I ett fritt samhälle har du rätten att kritisera de styrande och säga din åsikt, även om den inte uppskattas av andra. Alldeles för ofta ropas det på censur och förbud mot det som är kontroversiellt. Vi liberaler tror på en annan väg. Den öppna debatten där åsikter kan möta varandra är livsnödvändig. Vi fördömer attackerna på det fria ordet i auktoritära länder och vill att Sverige ökar stödet till yttrandefrihet. Den liberala rörelsen föddes i kampen för rätten till fri debatt. Modiga liberaler från 1600-talet och framåt har tagit strid för den yttrandefrihet som vi tar för självklar i dag i Sverige. Men yttrandefriheten måste hela tiden försvaras, och i många länder går utvecklingen just nu åt helt fel håll. Liberaler brukar säga att gränsen för friheten går där man börjar kränka någon annans frihet, inte där man kränker någons känslor eller trosuppfattningar. Vi tror inte att extremistiska åsikter kan förbjudas eller censureras bort. Dagens skydd mot den allra grövsta hetsen ska finnas kvar, men vi ser inget skäl att göra ytterligare begränsningar. I EU-länder som Ungern och Polen har de styrande regeringarna på olika sätt minskat mediernas oberoende. Men alla EU-länder måste följa demokratiska principer. Därför måste EU-kommissionen sätta ökad press på att demokratiska rättigheterna, som yttrandefriheten, följs i medlemsländerna. Systematiska kränkningar ska kunna leda till indragna EU-stöd och i särskilt allvarliga fall indragen rösträtt i EU:s ministerråd. Sverige har ett starkt grundlagsskydd för tryck- och yttrandefriheten, men det behöver uppdateras för att fungera i den digitala miljön. Vi vill att samma principer gäller på webben som när tidningen trycks på papper, till exempel att gamla texter inte ska kunna åtalas långt i efterhand. \n",
      "\t [{'name': 'SDG 9', 'n_occurrences': 1, 'children': [{'n_occurrences': 1, 'name': 'Target 9.5'}]}] \n",
      "\n"
     ]
    },
    {
     "name": "stderr",
     "output_type": "stream",
     "text": [
      " 53%|█████▎    | 628/1191 [26:25<23:53,  2.55s/it]"
     ]
    },
    {
     "name": "stdout",
     "output_type": "stream",
     "text": [
      "aHR0cHM6Ly93d3cubXAuc2UvcG9saXRpay9jaXZpbHQtZm9yc3Zhci1vY2gta3Jpc2JlcmVkc2thcC8= \n",
      " Civilt försvar och krisberedskap stärka Sveriges cyberförsvar och psykologiska försvar införa en civiltjänstgöring Avsätta mer pengar till underhållning av vatten- och avloppsnäten Stärka räddningstjänst, hälso- och sjukvård Förhindra radikalisering och rekrytering till våldsbejakande extremism \n",
      "\t [{'name': 'SDG 9', 'n_occurrences': 1, 'children': [{'n_occurrences': 1, 'name': 'Target 9.5'}]}] \n",
      "\n"
     ]
    },
    {
     "name": "stderr",
     "output_type": "stream",
     "text": [
      " 53%|█████▎    | 632/1191 [26:35<24:18,  2.61s/it]"
     ]
    },
    {
     "name": "stdout",
     "output_type": "stream",
     "text": [
      "aHR0cHM6Ly93d3cubXAuc2UvcG9saXRpay9kanVyLw== \n",
      " Djur att den svenska djurskyddslagens krav på rätt till naturligt beteende för djuren blir verklighet för djuren att djurförsöken fasas ut och att pälsdjursindustrin avskaffas skydda hotade arter mot utrotning. intensifiera arbetet med en global FN-deklaration om djurvälfärd arbeta för att få till stånd ett globalt regelverk mot rutinmässig användning av antibiotika i djurhållning. \n",
      "\t [{'name': 'SDG 9', 'n_occurrences': 1, 'children': [{'n_occurrences': 1, 'name': 'Target 9.5'}]}] \n",
      "\n"
     ]
    },
    {
     "name": "stderr",
     "output_type": "stream",
     "text": [
      " 54%|█████▍    | 643/1191 [27:03<22:28,  2.46s/it]"
     ]
    },
    {
     "name": "stdout",
     "output_type": "stream",
     "text": [
      "aHR0cHM6Ly93d3cubXAuc2UvcG9saXRpay9oYWxzby1vY2gtc2p1a3ZhcmQv \n",
      " Hälso- och sjukvård bryta trenden med en ökande psykisk ohälsa, korta vårdköerna och satsa på bättre kvalitet och tillgänglighet i vården, sätta hälsan i centrum och minska klyftorna i folkhälsan, utbilda fler läkare och specialistsjuksköterskor och skapa bättre arbetsvillkor för de som jobbar i vården. att den återhämtningsbonus som Miljöpartiet drivit fram ska bidra till att pröva och utveckla nya och mer hållbara arbetssätt och modeller i vården utifrån personalens egna önskemål att vård och omsorg inte ska bedrivas i vinstsyfte. \n",
      "\t [{'name': 'SDG 9', 'n_occurrences': 2, 'children': [{'n_occurrences': 2, 'name': 'Target 9.5'}]}] \n",
      "\n"
     ]
    },
    {
     "name": "stderr",
     "output_type": "stream",
     "text": [
      " 55%|█████▍    | 655/1191 [27:34<22:52,  2.56s/it]"
     ]
    },
    {
     "name": "stdout",
     "output_type": "stream",
     "text": [
      "aHR0cHM6Ly93d3cubXAuc2UvcG9saXRpay9sYW5kcy1vY2gtZ2xlc2J5Z2Qv \n",
      " Lands- och glesbygd sänka kostnaderna för att driva företag i glesbygd bygga fler laddstationer för elbilar i hela Sverige och satsa på tåg och kollektivtrafik i hela landet öka samhällsservicen på landsbygden genom att skapa fler lokala servicekontor och bygga ut digitalisering och bredband i hela landet ställa om EU:s jordbruksstöd för att hjälpa bönder att ställa om till giftfri ekologisk produktion, och ökad miljö- och klimatnytta satsa på natur- och ekoturism. \n",
      "\t [{'name': 'SDG 9', 'n_occurrences': 1, 'children': [{'n_occurrences': 1, 'name': 'SDG 9_undetected_target'}]}] \n",
      "\n"
     ]
    },
    {
     "name": "stderr",
     "output_type": "stream",
     "text": [
      "\r",
      " 55%|█████▌    | 656/1191 [27:36<22:32,  2.53s/it]"
     ]
    },
    {
     "name": "stdout",
     "output_type": "stream",
     "text": [
      "aHR0cHM6Ly93d3cubXAuc2UvcG9saXRpay9tYXQtb2NoLWpvcmRicnVrLw== \n",
      " Mat och jordbruk gynna svenskt ekologiskt jordbruk så att hälften av jordbruksmarken brukas ekologiskt till år 2030 göra klimatsmart och ekologisk mat till standard i skola, vård och omsorg kombinera stärkta djurskyddskrav och minskad antibiotikaanvändning med styrmedel för en minskad och mer medveten konsumtion av kött, och främja växtbaserade alternativ stärka arbetet mot matsvinn i alla led – från jord till bord skynda på omställningen till fossilfritt jordbruk, öka motståndskraften och fasa ut de fossila subventionerna. \n",
      "\t [{'name': 'SDG 9', 'n_occurrences': 1, 'children': [{'n_occurrences': 1, 'name': 'Target 9.5'}]}] \n",
      "\n"
     ]
    },
    {
     "name": "stderr",
     "output_type": "stream",
     "text": [
      " 58%|█████▊    | 686/1191 [28:51<21:02,  2.50s/it]"
     ]
    },
    {
     "name": "stdout",
     "output_type": "stream",
     "text": [
      "aHR0cHM6Ly9tb2RlcmF0ZXJuYS5zZS92YXItcG9saXRpay9jYW5jZXJ2YXJkLw== \n",
      " Cancervård Ta fram en ny och förbättrad cancerstrategi som stämmer överens med den nya cancerforskningen. Alla cancerpatienter ska få rätt vård i rätt tid av hög kvalitet. Verka för att personer med kronisk cancer erhåller en sammanhållen vårdkedja och fats vårdkontakt. Om en cancerpatient inte får vård inom vårdgarantin ska patienten få rätt att vända sig till en privat vårdgivare och få kostnaderna ersatta av staten. Fördubbla resurserna till barncancervården. Ta fram en särskild barncancerstrategi. \n",
      "\t [{'name': 'SDG 9', 'n_occurrences': 3, 'children': [{'n_occurrences': 3, 'name': 'Target 9.5'}]}] \n",
      "\n"
     ]
    },
    {
     "name": "stderr",
     "output_type": "stream",
     "text": [
      " 58%|█████▊    | 690/1191 [29:02<22:02,  2.64s/it]"
     ]
    },
    {
     "name": "stdout",
     "output_type": "stream",
     "text": [
      "aHR0cHM6Ly9tb2RlcmF0ZXJuYS5zZS92YXItcG9saXRpay9kaWdpdGFsaXNlcmluZy8= \n",
      " Digitalisering Regeringen bör prioritera arbetet med bredbandsutbyggnad i hela landet. Inrätta ”regulatoriska växthus” där nya innovationer inom AI kan testas. Inrätta ett nationellt institut för AI som konkret ska arbeta med att ställa om samhället till mer AI. Alla myndigheter ska erbjuda digital post, till de som önskar det. \n",
      "\t [{'name': 'SDG 9', 'n_occurrences': 2, 'children': [{'n_occurrences': 2, 'name': 'SDG 9_undetected_target'}]}] \n",
      "\n"
     ]
    },
    {
     "name": "stderr",
     "output_type": "stream",
     "text": [
      " 58%|█████▊    | 696/1191 [29:17<21:01,  2.55s/it]"
     ]
    },
    {
     "name": "stdout",
     "output_type": "stream",
     "text": [
      "aHR0cHM6Ly9tb2RlcmF0ZXJuYS5zZS92YXItcG9saXRpay9mdW5rdGlvbnNuZWRzYXR0bmluZy1vY2gtbHNzLw== \n",
      " Funktionsnedsättning Den som behöver det ska i större utsträckning ges möjlighet att välja och ha inflytande över vem som ska utföra vård-, rehabiliterings-, och stödinsatser, liksom utformningen av dessa insatser. Den som har en funktionsnedsättning ska ges möjligheten att delta i arbetslivet utifrån sina egna förutsättningar. Den som är i behov av vård, stöd eller service bör få större inflytande över sin situation. Utbudet av arbete, sysselsättning, boendeformer och hjälpmedel behöver bli mer varierat och anpassat till de individuella behov som finns. \n",
      "\t [{'name': 'SDG 9', 'n_occurrences': 1, 'children': [{'n_occurrences': 1, 'name': 'Target 9.5'}]}] \n",
      "\n"
     ]
    },
    {
     "name": "stderr",
     "output_type": "stream",
     "text": [
      " 59%|█████▉    | 707/1191 [29:46<20:56,  2.60s/it]"
     ]
    },
    {
     "name": "stdout",
     "output_type": "stream",
     "text": [
      "aHR0cHM6Ly9tb2RlcmF0ZXJuYS5zZS92YXItcG9saXRpay9pbmZyYXN0cnVrdHVyLw== \n",
      " Infrastruktur Sveriges vägar ska bli bredare, säkrare och vi vill underhålla vägarna oftare. Satsa resurser på att rusta upp befintligt järnvägsnätet. Satsa resurser på att bygga om och bygga nytt där det är ekonomiskt försvarbart. Nej till höghastighetståg. Förbättra möjligheterna att ladda elbilar över hela landet. Bygg ut laddinfrastrukturen i våra hamnar. Satsa på elektrifiering av våra flygplatser för att möjliggöra eldrivna inrikesflyg. Tillsätt en utredning för att säkerställa att infrastrukturprojekt inte kostar mer än vad som är nödvändigt. Satsa på vägar till och från våra svenska hamnar för att stärka godsflöden i hela landet. Förnya den svenska flottan av isbrytare. Moderaterna vill utforma en modern cykelpolitik med minskat regelkrångel och bättre nyttjande av digital teknik. \n",
      "\t [{'name': 'SDG 9', 'n_occurrences': 1, 'children': [{'n_occurrences': 1, 'name': 'SDG 9_undetected_target'}]}] \n",
      "\n"
     ]
    },
    {
     "name": "stderr",
     "output_type": "stream",
     "text": [
      " 60%|█████▉    | 709/1191 [29:50<19:57,  2.49s/it]"
     ]
    },
    {
     "name": "stdout",
     "output_type": "stream",
     "text": [
      "aHR0cHM6Ly9tb2RlcmF0ZXJuYS5zZS92YXItcG9saXRpay9qYWt0LW9jaC12aWx0dmFyZC8= \n",
      " Jakt och viltvård Minska vargstammen i Sverige till 170 vargar genom ökad jakt. Skälig ersättning till tamdjursägare som får sina djur rivna vid rovdjursangrepp. Låt jägare sälja vildsvinskött direkt till konsumenter, efter avklarat trikinprov. Höj ersättningen till eftersöksjägare. \n",
      "\t [{'name': 'SDG 9', 'n_occurrences': 1, 'children': [{'n_occurrences': 1, 'name': 'Target 9.5'}]}] \n",
      "\n"
     ]
    },
    {
     "name": "stderr",
     "output_type": "stream",
     "text": [
      " 61%|██████    | 729/1191 [30:41<19:37,  2.55s/it]"
     ]
    },
    {
     "name": "stdout",
     "output_type": "stream",
     "text": [
      "aHR0cHM6Ly9tb2RlcmF0ZXJuYS5zZS92YXItcG9saXRpay9oYWxzby1vY2gtc2p1a3ZhcmQv \n",
      " Sjukvård Inför en vårdgaranti för cancerpatienter. Den som inte får vård i tid ska få rätt att vända sig till en privat vårdgivare och få detta ersatt av staten. Fördubbla resurserna till cancervården och barncancervården Svårt sjuka ska få en fast läkare och ett särskilt vårdteam. Inför ett vårdval för en sammanhållen vård för svårt sjuka patienter. Det kan exempelvis ske genom särskilda äldremottagningar på en vårdcentral. \n",
      "\t [{'name': 'SDG 9', 'n_occurrences': 3, 'children': [{'n_occurrences': 3, 'name': 'Target 9.5'}]}] \n",
      "\n"
     ]
    },
    {
     "name": "stderr",
     "output_type": "stream",
     "text": [
      " 62%|██████▏   | 740/1191 [31:09<19:04,  2.54s/it]"
     ]
    },
    {
     "name": "stdout",
     "output_type": "stream",
     "text": [
      "aHR0cHM6Ly9tb2RlcmF0ZXJuYS5zZS92YXItcG9saXRpay90aWdnZXJpZm9yYnVkLw== \n",
      " Tiggeriförbud Ett nationellt förbud mot tiggeri införs direkt i strafflagstiftningen. Enligt Moderaternas mening bör en ny bestämmelse införas i strafflagstiftningen med innebörd att den som gör sig skyldig till tiggeri begår ett brott. I bestämmelsen ska också anges att om brottet är att betrakta som ringa ska inte dömas till ansvar. Polisen får möjlighet att avvisa tiggare från platsen. Genom att införa ett nationellt förbud mot tiggeri i strafflagstiftningen skapas vidare en laglig möjlighet för poliser och även ordningsvakter att avvisa tiggare från den plats där tiggeriet äger rum. \n",
      "\t [{'name': 'SDG 9', 'n_occurrences': 1, 'children': [{'n_occurrences': 1, 'name': 'Target 9.5'}]}] \n",
      "\n"
     ]
    },
    {
     "name": "stderr",
     "output_type": "stream",
     "text": [
      " 63%|██████▎   | 751/1191 [31:37<19:14,  2.62s/it]"
     ]
    },
    {
     "name": "stdout",
     "output_type": "stream",
     "text": [
      "aHR0cHM6Ly93d3cuc29jaWFsZGVtb2tyYXRlcm5hLnNlL3Zhci1wb2xpdGlrL2EtdGlsbC1vL2Fwb3Rlaw== \n",
      " Apotek att apotek ska finns tillgängliga i hela landet att alla patienter ska ha tillgång till läkemedelskunnig personal på apoteken för rådgivning och att du ska få de receptbelagda läkemedel du behöver inom 24 timmar att apoteken genom rådgivning och andra tjänster ska bidra till att alla får en trygg vård och en säker läkemedelsanvändning. en bestämmelse har införts i den nya apotekslagen om en huvudregel att farmaceut ska vara de som lämnar information och rådgivning vid expediering av recept ansvaret för att läkemedel för en enskild kund ska kunna expedieras inom 24 timmar från beställning flyttas till läkemedelsleverantörerna för att du snabbare ska få dina läkemedel beslutat att apotekens huvuduppdrag tydligt ska slås fast i lag och vara kopplat till läkemedel infört mer generösa regler för apoteksombud på glesbygden. \n",
      "\t [{'name': 'SDG 9', 'n_occurrences': 1, 'children': [{'n_occurrences': 1, 'name': 'Target 9.5'}]}] \n",
      "\n"
     ]
    },
    {
     "name": "stderr",
     "output_type": "stream",
     "text": [
      " 63%|██████▎   | 754/1191 [31:45<18:28,  2.54s/it]"
     ]
    },
    {
     "name": "stdout",
     "output_type": "stream",
     "text": [
      "aHR0cHM6Ly93d3cuc29jaWFsZGVtb2tyYXRlcm5hLnNlL3Zhci1wb2xpdGlrL2EtdGlsbC1vL2FyYmV0c21pbGpv \n",
      " Arbetsmiljö förbättra den fysiska och psykosociala arbetsmiljön genom stärkt arbetsmiljöarbete och satsningar på förebyggande arbete, tillsynsarbete och arbetslivsforskning se över arbetsmiljöreglerna ur ett jämställdhetsperspektiv i syfte att förbättra arbetsmiljön i kvinnodominerade sektorer minska antalet osäkra anställningar genom att ta bort allmän visstidsanställning och reglera hyvling, inhyrning samt rätten till heltid se över arbetsmiljöansvaret inom gig-ekonomin. Arbetsgivare ska inte kunna smita undan arbetsmiljöansvaret genom att gömma sig bakom en app att alla anställda i vård och äldreomsorg ska få kostnadsfria arbetskläder och arbetsskor uppvärdera skyddsombudens roll bekämpa arbetslivskriminaliteten. Svensk arbetsmarknad ska inte vara en fristad för kriminella aktörer öka tillgången till företagshälsovård och säkerställa en jämställd företagshälsovård som finns närvarande för både kvinnor och män. tagit fram en nollvision för dödsolyckor på jobbet minskat möjligheten att stapla visstidsanställningar på varandra kraftigt ökat resurserna till Arbetsmiljöverket kraftfull satsning på att bekämpa arbetslivskriminaliteten rivit upp lex Laval företagsboten för allvarliga arbetsmiljöbrott har höjts markant startat en arbetsmiljökunskapsmyndighet i Gävle för att samla och utveckla kunskap. \n",
      "\t [{'name': 'SDG 9', 'n_occurrences': 3, 'children': [{'n_occurrences': 3, 'name': 'Target 9.5'}]}] \n",
      "\n"
     ]
    },
    {
     "name": "stderr",
     "output_type": "stream",
     "text": [
      " 63%|██████▎   | 756/1191 [31:49<17:55,  2.47s/it]"
     ]
    },
    {
     "name": "stdout",
     "output_type": "stream",
     "text": [
      "aHR0cHM6Ly93d3cuc29jaWFsZGVtb2tyYXRlcm5hLnNlL3Zhci1wb2xpdGlrL2EtdGlsbC1vL2Jhcm4= \n",
      " Barn införa en extra veckas ledighet per år för alla föräldrar - en familjevecka ge unga som mår psykiskt dåligt snabb hjälp genom att öka resurserna till barn- och ungdomspsykiatrin ge unga snabbt stöd i mobilen genom en digital vårdtjänst för unga som mår dåligt göra så att screeningen inom elevhälsan i skolan till att även omfatta psykisk hälsa införa allmän förskola från två års ålder. fattat beslut om att göra FN:s barnkonvention till svensk lag höjt underhållsstödet och höjt barnbidraget med 200 kr i månaden investerat i mindre klasser, fler lärare och andra vuxna i skolan samt insatser för att minska de sociala klyftorna satsat på att stärka elevhälsan med fler anställda minskat barngrupperna i förskolan och anställt fler förskollärare. \n",
      "\t [{'name': 'SDG 9', 'n_occurrences': 1, 'children': [{'n_occurrences': 1, 'name': 'SDG 9_undetected_target'}]}] \n",
      "\n"
     ]
    },
    {
     "name": "stderr",
     "output_type": "stream",
     "text": [
      " 64%|██████▍   | 760/1191 [32:00<18:25,  2.57s/it]"
     ]
    },
    {
     "name": "stdout",
     "output_type": "stream",
     "text": [
      "aHR0cHM6Ly93d3cuc29jaWFsZGVtb2tyYXRlcm5hLnNlL3Zhci1wb2xpdGlrL2EtdGlsbC1vL2Jvc3RhZA== \n",
      " Bostad Sverige har haft det mest omfattande bostadsbyggandet på 30 år och det socialdemokratiska målet om 250 000 nya bostäder till 2020 uppnåddes. Nu måste vi gå vidare. Vi vill hålla den höga byggtakten uppe och till år 2030 ska en halv miljon nya bostäder påbörjas, varav en stor del ska bestå av hyresrätter. Vårt Sverige kan bättre Varje kommun måste ta ansvar för planering och byggande så att invånarna har tillgång till bra och hållbara bostäder, och kommunerna ska kunna åläggas detta. Social dumping ska motverkas Kommunerna ska ha möjlighet att i högre utsträckning villkora markanvisningar och få rätt att i detaljplanen ange upplåtelseform som en del i att motverka segregation Allmännyttan står för de flesta nyproducerade hyresrätter och leder utvecklingen i att pressa boendekostnader. Allmännyttans villkor behöver stärkas och styras av samhällsnytta. Det måste även ges möjligheter att bygga på svaga marknader Ett omfattande hyresbestånd och en gemensam förmedling för alla bostäder på en ort är avgörande för att alla ska kunna leva i bostäder som passar deras behov. All form av diskriminering på bostadsmarknaden ska motverkas Skillnaderna i boendekostnader mellan de som hyr och de som äger är stora och behöver minska. Samtidigt vill väldigt många – oberoende av bakgrund – äga sitt boende. Därför får lånetak och amorteringskrav inte vara utformade så att de i onödan utestänger låg- och medelinkomsttagare från att köpa lägenhet eller småhus Kommunernas förutsättningar behöver förbättras genom en modern förköpsrätt av mark för bostadsbyggande och möjligheterna stärkas att agera mot fastighetsägare som missköter sina fastigheter och boendemiljöer Vi vill särskilt prioritera satsningar för att fler unga ska kunna flytta hemifrån och få sin första bostad. En möjlighet kan vara ett särskilt startlån för unga och andra förstagångsköpare Konkreta åtgärder för äldre i form av möjligheter till ökad rörlighet, tillgänglighet och trygghetsboende Vid renoveringar och ombildningar vill vi stärka hyresgästernas ställning. Förekomsten av lyxrenoveringar i syfte att byta hyresgäster i det befintliga hyresbeståndet måste stävjas Marknadshyror leder till en ökad omfördelning från hyresgäster till fastighetsägare, med en sämre vardagsekonomi för väldigt många människor som följd, och med ännu större svårigheter att få en bostad. Allt detta utan att byggandet kan förväntas öka. Vi motsätter oss marknadshyror, och den svenska hyresförhandlingsmodellen ska stärkas. Infört omfattande regelförenklingar för att förkorta planprocessen och därmed göra det snabbare och billigare att bygga Genomfört de största statliga investeringarna i hyresrätter, studentbostäder och äldreboenden på 30 år, för att skapa fler bostäder med rimliga hyror som vanligt folk har råd med Investeringsstödet har gjort att hittills mer än 50 000 lägenheter byggts hållbart och med ca 20 % lägre hyra än vad som annars vore fallet. På många orter skulle inte det gå att bygga utan investeringsstöd. Under 2020 färdigställdes det mer än dubbelt så många hyresrätter som 2014. Att den högerkonservativa majoriteten i riksdagen nu avskaffat investeringsstödet kommer att leda till en minskning av bostadsbyggandet. Vårt Sverige kan bättre Infört åtgärder mot svarthandel med hyreskontrakt, otillåten andrahandsuthyrning och uttag av överhyror av andrahandshyresgäster. Vi ska vända på varje sten för att knäcka kriminaliteten och bryta segregationen Infört ett renoveringsstöd som kan sökas av alla fastighetsägare i flerfamiljshus. Detta stöd är inriktat på energieffektivisering och ska användas för att hålla nere hyreshöjningarna Reglerat frågan om tillval och frånval. Det gör att hyresgästen lättare kan överblicka vad en standardhöjande åtgärd innebär i hyreshöjning Infört en möjlighet att ingripa mot brister i förvaltningen av hyresfastigheter på ett tidigt stadium, genom att hyresnämnden kan vitesförelägga fastighetsägare att åtgärda bristerna Att en hyresgäst vars lägenhet förstörs genom brand eller liknande ska erbjudas ett nytt hyresavtal av hyresvärden, förutsatt att det är skäligt \n",
      "\t [{'name': 'SDG 9', 'n_occurrences': 1, 'children': [{'n_occurrences': 1, 'name': 'Target 9.5'}]}] \n",
      "\n"
     ]
    },
    {
     "name": "stderr",
     "output_type": "stream",
     "text": [
      " 64%|██████▍   | 762/1191 [32:05<17:52,  2.50s/it]"
     ]
    },
    {
     "name": "stdout",
     "output_type": "stream",
     "text": [
      "aHR0cHM6Ly93d3cuc29jaWFsZGVtb2tyYXRlcm5hLnNlL3Zhci1wb2xpdGlrL2EtdGlsbC1vL2RpZ2l0YWxpc2VyaW5n \n",
      " Digitalisering att hela Sverige ska ha tillgång till en snabb uppkoppling att det ska finnas pålitlig mobiltäckning där människor bor och vistas att utbyggnaden av bredband fortsätter i hela landet att större vägar och järnvägsstråk får bättre uppkoppling i bilar och tåg att myndigheter, kommuner, skolor och andra samhällsaktörer drar nytta av digitaliseringens möjligheter vi har ökat satsningarna rejält för att bygga ut bredbandet i hela landet vi har höjt ambitionen för bredbandstäckningen: 99,9 % procent av befolkningen ska ha minst 100 Mbit/s vi har infört en garanti så att alla får möjlighet till ska ha möjlighet att få en internetanslutning på minst 10 Mbit/s vi har tagit fram en nationell digitaliseringsstrategi vi har infört kunskap i programmering i skolan vi har identifierat flera åtgärder för att stärka kommuners och regioners möjligheter att erbjuda välfärdstjänster av god kvalitet, bland annat för att den offentliga sektorn ska ta tillvara digitaliseringens möjligheter bättre vi har, genom ett riktat statsbidrag till Sveriges kommuner och regioner, satsat på välfärdsteknik i kommunerna för att bland annat gynna de anställdas arbetsmiljö \n",
      "\t [{'name': 'SDG 9', 'n_occurrences': 1, 'children': [{'n_occurrences': 1, 'name': 'SDG 9_undetected_target'}]}] \n",
      "\n"
     ]
    },
    {
     "name": "stderr",
     "output_type": "stream",
     "text": [
      "\r",
      " 64%|██████▍   | 763/1191 [32:07<17:37,  2.47s/it]"
     ]
    },
    {
     "name": "stdout",
     "output_type": "stream",
     "text": [
      "aHR0cHM6Ly93d3cuc29jaWFsZGVtb2tyYXRlcm5hLnNlL3Zhci1wb2xpdGlrL2EtdGlsbC1vL2RqdXJza3lkZA== \n",
      " Djurskydd värna djurskyddslagen ha en stark djurtillsyn så att lagar och regler efterlevs värna den nya djurskyddslag som slår fast att djur ska kunna bete sig naturligt och ta fram krav på märkning av katter göra det obligatoriskt att vid alla offentliga upphandlingar av animaliska livsmedel ställa krav på att produktionen ska ha skett med höga krav på djurskydd och låg grad av användning av antibiotika – precis som i Sverige. agera kraftfullt i EU för att högre krav ska ställas på djurvälfärd och djurhälsa bl.a. hårdare krav i transporter infört en ny modern djurskyddslag skärpa krav på naturligt beteende och att beteendestörningar inte ska förekomma. Förbjudit elefanter och sjölejon på cirkus Föreslagit obligatorisk märkning och registrering av katter som införs 1 januari 2023 Den verksamhet som byggts upp vid 3R-centret med att sprida kunskap om 3R-frågor, att stödja de djurförsöksetiska nämnderna och de lokala djurskyddsorganen är av stor vikt för djurskyddet av försöksdjuren liksom för att successivt kunna minska behovet av djurförsök. Därför satsar vi på en fortsatt finansiering av Sveriges 3R-center vid Jordbruksverket med 15 miljoner kronor per år under åren 2021–2023 tagit strid i EU för ökade djurskyddskrav t.ex. vid transporter och minskad antibiotikaanvändning \n",
      "\t [{'name': 'SDG 9', 'n_occurrences': 1, 'children': [{'n_occurrences': 1, 'name': 'Target 9.5'}]}] \n",
      "\n"
     ]
    },
    {
     "name": "stderr",
     "output_type": "stream",
     "text": [
      "\r",
      " 64%|██████▍   | 764/1191 [32:10<17:45,  2.49s/it]"
     ]
    },
    {
     "name": "stdout",
     "output_type": "stream",
     "text": [
      "aHR0cHM6Ly93d3cuc29jaWFsZGVtb2tyYXRlcm5hLnNlL3Zhci1wb2xpdGlrL2EtdGlsbC1vL2Vrb25vbWk= \n",
      " Ekonomi Den starka svenska ekonomin ger förutsättningar för att möta kriser tillsammans Vi investerar för att stärka Sveriges totalförsvar Stöd till Ukraina och ett ordnat mottagande i hela landet Lindra krigets konsekvenser för svenska hushåll och företag Vända på varje sten, driva på klimatomställningen och ta tillbaka den demokratiska kontrollen över välfärden Värna Sveriges finanspolitiska ramverk för att trygga välfärden när krisen slår till amorterat på statsskulden i goda tider och använt vår gemensamma ekonomiska styrka för att rädda liv, jobb och välfärd räddat hundratusentals jobb med krisåtgärder som korttidspermitteringen investerat historiskt mycket pengar i sjukvård, äldreomsorg och skola för att krisen inte ska leda till nedskärningar lagt fram ett kraftfullt grönt återstartspaket för svensk ekonomi Lagt fram en vårbudget för att stärka Sverige och lindra krigets konsekvenser för svenska jobb och företag. Läs mer om vårat förslag till åtgärdspaket för höga el och bränslepriser här. Insatser vi gjort med tanke på det förändrade läget med Covid-19 kan du hitta här. \n",
      "\t [{'name': 'SDG 9', 'n_occurrences': 2, 'children': [{'n_occurrences': 2, 'name': 'Target 9.5'}]}] \n",
      "\n"
     ]
    },
    {
     "name": "stderr",
     "output_type": "stream",
     "text": [
      " 64%|██████▍   | 767/1191 [32:17<17:43,  2.51s/it]"
     ]
    },
    {
     "name": "stdout",
     "output_type": "stream",
     "text": [
      "aHR0cHM6Ly93d3cuc29jaWFsZGVtb2tyYXRlcm5hLnNlL3Zhci1wb2xpdGlrL2EtdGlsbC1vL2V1 \n",
      " EU att fler européer ska ha ett jobb att gå till se ett socialt Europa där alla får ta del av tillväxt och utveckling fortsätta riva handelshinder och dra nytta av den fria rörligheten för varor och tjänster samt arbeta för att EU ska bli bäst i världen på digitalisering att EU ska ta en ledarroll i världen med en ambitiös klimat- och miljöpolitik att EU ska stärka sitt säkerhetssamarbete upprätta en gemensam, ansvarsfull och solidarisk flykting- och migrationspolitik i EU. \n",
      "\t [{'name': 'SDG 9', 'n_occurrences': 1, 'children': [{'n_occurrences': 1, 'name': 'SDG 9_undetected_target'}]}] \n",
      "\n"
     ]
    },
    {
     "name": "stderr",
     "output_type": "stream",
     "text": [
      " 65%|██████▌   | 776/1191 [32:41<17:57,  2.60s/it]"
     ]
    },
    {
     "name": "stdout",
     "output_type": "stream",
     "text": [
      "aHR0cHM6Ly93d3cuc29jaWFsZGVtb2tyYXRlcm5hLnNlL3Zhci1wb2xpdGlrL2EtdGlsbC1vL2ZvbGtyb3JlbHNlLW9jaC1jaXZpbHNhbWhhbGxl \n",
      " Folkrörelse och civilsamhälle värna civilsamhällets självständighet och särart skapa fler fysiska mötesplatser öka stödet till civilsamhällets organisationer skapa goda förutsättningar för idéburen verksamhet att bedriva offentligt finansierad välfärd stimulera tillväxten av civilsamhällets företagande. under pandemin ökat stödet till idrotten under 2022 ökat stödet till friluftslivsorganisationerna med 47 miljoner kronor, från 50 till 97 miljoner kronor satsning på fritidsverksamhet för unga – 50 miljoner kronor 2018 utvecklat Idéburet-offentligt partnerskap, IOP, för att främja idéburna utförare av offentligt finansierad välfärd Arbetat för skärpta demokrativillkor avseende statligt stöd till civilsamhällesorganisationer tagit fram ett Folkrörelsepolitiskt program Pdf, 249 kB, öppnas i nytt fönster. beslutat av partistyrelsen 2017. \n",
      "\t [{'name': 'SDG 9', 'n_occurrences': 2, 'children': [{'n_occurrences': 2, 'name': 'Target 9.5'}]}] \n",
      "\n"
     ]
    },
    {
     "name": "stderr",
     "output_type": "stream",
     "text": [
      " 65%|██████▌   | 780/1191 [32:51<18:08,  2.65s/it]"
     ]
    },
    {
     "name": "stdout",
     "output_type": "stream",
     "text": [
      "aHR0cHM6Ly93d3cuc29jaWFsZGVtb2tyYXRlcm5hLnNlL3Zhci1wb2xpdGlrL2EtdGlsbC1vL2Z1bmt0aW9uc25lZHNhdHRuaW5n \n",
      " Funktionsnedsättning reformera LSS för att få en tydligare lagstiftning som ger bättre möjligheter till barn och vuxna med funktionsnedsättning att leva självständiga liv och vara delaktiga i samhällslivet att människor som behöver hjälp för att leva ett fritt och oberoende liv ska få det – LSS ska även i fortsättningen vara en rättighetslagstiftning förbättra och stärka möjligheten till utbildning för personer med funktionsnedsättning se en samordnad kraftsamling för att människor med en funktionsnedsättning ska få stöd att komma in på, eller tillbaka till, arbetsmarknaden. beslutat om stärkt rätt till personlig assistans och rätt till assistans för egenvård som sammantaget beräknas ge ytterligare 2 000 personer rätt till personlig assistans höjt lönebidraget, något som är viktigt för att skapa förutsättningar för fler personer med funktionsnedsättning att etablera sig på arbetsmarknaden höjt grundnivån i sjuk- och aktivitetsersättningen för att minska de ekonomiska klyftorna sänkt skatt för personer med sjukersättning och aktivitetsersättning. Därmed minskar skatteorättvisan mellan de som jobbar och de som uppbär denna ersättning tillsatt en statlig utredning för att se över ett statligt huvudmannaskap för personlig assistans. Den blir klar våren 2023 \n",
      "\t [{'name': 'SDG 9', 'n_occurrences': 1, 'children': [{'n_occurrences': 1, 'name': 'Target 9.5'}]}] \n",
      "\n"
     ]
    },
    {
     "name": "stderr",
     "output_type": "stream",
     "text": [
      " 66%|██████▋   | 790/1191 [33:18<17:25,  2.61s/it]"
     ]
    },
    {
     "name": "stdout",
     "output_type": "stream",
     "text": [
      "aHR0cHM6Ly93d3cuc29jaWFsZGVtb2tyYXRlcm5hLnNlL3Zhci1wb2xpdGlrL2EtdGlsbC1vL2hlbWxvc2hldA== \n",
      " Hemlöshet förbättra missbrukarvården och stärka psykiatrin.bland annat genom samordnad vård- och behandling för personer med samsjuklighet. Ambitionen måste vara att ingen ska vara hemlös bryta arbetslösheten och få fler människor i arbete. Socialdemokraterna har fokus på att skapa fler jobb och minska klyftorna – för att skapa ett starkare samhälle och ett tryggare Sverige. När många arbetar och betalar skatt har vi råd med en god välfärd. Därför prioriterar vi jobben och välfärden bygga fler studentbostäder och små hyreslägenheter. Hålla uppe den höga byggtakten av bostäder och till år 2030 ska en halv miljon nya bostäder påbörjas, varav en stor del ska bestå av hyresrätter Sverige har haft det mest omfattande bostadsbyggandet på 30 år och det socialdemokratiska målet om 250 000 nya bostäder till 2020 uppnåddes. Nu måste vi gå vidare Kronofogdemyndigheten har fått regeringens uppdrag att verka för att socialtjänster och hyresvärdar ska samverka för att förebygga avhysningar, särskilt med inriktning på att förebygga avhysningar som berör barn infört ett särskilt stöd för att bygga bostäder åt äldre infört investeringsstöd till att bygga nya små, klimatsmarta och billiga hyresrätter. Ett stöd som resulterat i över 52 000 nya bostäder, men avskaffades 2022 av de högerkonservativa partierna i riksdagen förbättrat bostadsbidraget \n",
      "\t [{'name': 'SDG 9', 'n_occurrences': 1, 'children': [{'n_occurrences': 1, 'name': 'Target 9.5'}]}] \n",
      "\n"
     ]
    },
    {
     "name": "stderr",
     "output_type": "stream",
     "text": [
      " 67%|██████▋   | 794/1191 [33:28<17:05,  2.58s/it]"
     ]
    },
    {
     "name": "stdout",
     "output_type": "stream",
     "text": [
      "aHR0cHM6Ly93d3cuc29jaWFsZGVtb2tyYXRlcm5hLnNlL3Zhci1wb2xpdGlrL2EtdGlsbC1vL2lubm92YXRpb24= \n",
      " Innovation stärka innovationsklimatet, öka konkurrenskraften och utveckla samarbeten utveckla fler företagsinkubatorer satsa på forskning och högre utbildning i hela landet skapat strategiska samverkansprogram, som är ett tvärsektoriellt initiativ som ska genomföras och delfinansieras av näringsliv och offentlig verksamhet lanserat strategin Smart industri – en ny industrialiseringsstrategi för Sverige lanserat strategin Framtidens industri – en strategi för grön och digital omställning infört Industriklivet, som är regeringens långsiktikga satsning för att minska industrins processrelaterade utsläpp och uppnå negativa utsläpp av växthusgaser. De stöd som kan sökas rör forsknings- och innovationsprejekt. (Exempelvis satsningen Hybrit, som handlar om att producera stål utan fossila bränslen, har fått medel genom Industriklivet.) höjt basanslagen till forskning och infört 10-åriga nationella forskningsprogram för viktiga näringar och samhällsutmaningar. Två viktiga områden är klimatutmaningen och att förbättra vård- och omsorgssektorn \n",
      "\t [{'name': 'SDG 9', 'n_occurrences': 1, 'children': [{'n_occurrences': 1, 'name': 'SDG 9_undetected_target'}]}] \n",
      "\n"
     ]
    },
    {
     "name": "stderr",
     "output_type": "stream",
     "text": [
      " 67%|██████▋   | 797/1191 [33:35<16:25,  2.50s/it]"
     ]
    },
    {
     "name": "stdout",
     "output_type": "stream",
     "text": [
      "aHR0cHM6Ly93d3cuc29jaWFsZGVtb2tyYXRlcm5hLnNlL3Zhci1wb2xpdGlrL2EtdGlsbC1vL2pha3Qtb2NoLXZpbHR2YXJk \n",
      " Jakt och viltvård att Sverige ska vara ett föregångsland i att förvalta våra naturresurser och viltstammar på ett hållbart sätt konflikterna kring jakten på rovdjur måste upphöra och ordning och reda skapas i förvaltningen av dessa göra en översyn av älgjakten och en samlad klövdjursförvaltning. skapat ett nytt system för snabbare licensjaktsbeslut för rovdjur och kortare ledtider för överklagande reglerat den tidigare fria fjälljakten för utländska medborgare utvecklat Svenska jägareförbundets allmänna uppdrag ändrat i jaktförordningen för att möjliggöra effektivare metoder för att bedriva jakt på vildsvin uppdragit berörda myndigheter att förenkla hantering och försäljning av vildsvin och uppdatera förvaltningsplaner för att minska vildsvinsskadorna i samhället det är angeläget att skapa incitament för jägare att skjuta fler vildsvin och samtidigt bidra till att mer vildsvinskött når konsumenter. Därför satsar vi ytterligare 20 miljoner kronor årligen 2021–2025 för att subventionera kostnaden för trikinanalyser för vildsvin. Därför satsar vi ytterligare 10 miljoner kronor årligen 2022–2025 för att subventionera kostnaden för trikinanalyser för vildsvin \n",
      "\t [{'name': 'SDG 9', 'n_occurrences': 1, 'children': [{'n_occurrences': 1, 'name': 'Target 9.5'}]}] \n",
      "\n"
     ]
    },
    {
     "name": "stderr",
     "output_type": "stream",
     "text": [
      "\r",
      " 67%|██████▋   | 798/1191 [33:38<16:29,  2.52s/it]"
     ]
    },
    {
     "name": "stdout",
     "output_type": "stream",
     "text": [
      "aHR0cHM6Ly93d3cuc29jaWFsZGVtb2tyYXRlcm5hLnNlL3Zhci1wb2xpdGlrL2EtdGlsbC1vL2pvYmI= \n",
      " Jobb skapa ännu fler jobb i hela landet. Det ska vara schyssta villkor och löner som det går att leva på skapa fler trygga jobb inom vård och äldreomsorg, anställa fler undersköterskor, sjuksköterskor och läkare, så att vårdköerna kan kortas införa heltid som norm och öka tryggheten på arbetsmarknaden och minska stress och psykisk ohälsa i arbetslivet se till att det finns goda möjligheter till omskolning och att du som blir arbetslös kan få en rimlig a-kassa. Den som blir arbetslös eller sjuk ska möta goda möjligheter och tydliga krav, inte fattigdom och hopplöshet de som jobbar inom vård och äldreomsorg ska ha den skyddsutrustning som krävs för att kunna utföra sitt arbete på ett tryggt och säkert sätt att ingen ska dö eller skadas på jobbet. Vi vill att de regionala skyddsombuden ska få utökad tillträdesrätt få ett slut på arbetslivskriminaliteten, den hör inte hemma på svensk arbetsmarknad den som är utan jobb och behöver stöd i sitt arbetssökande ska få det. Vi vill säkerställa den lokala närvaron för arbetsförmedlingen förbättra systemet med korttidsarbete vid en lågkonjunktur så att löntagare kan kompetensutveckla sig samtidigt som de behåller sin anställning införa en extra veckas ledighet per år för alla föräldrar - en familjevecka stort krispaket för jobb och omställning. Det innefattar bland annat en förstärkt a-kassa, slopat fribelopp i CSN, fler platser på universitet och högskolor och en aktiv arbetsmarknadspolitik tagit krafttag mot arbetslivskriminalitet förstärkningarna av a-kassan förlängs till 2022 vilket innebär att fler får rätt till högre ersättning förstärkning av Arbetsförmedlingen för att bland annat säkerställa lokal närvaro och likvärdig service i hela landet satsningar på Yrkesvux för att möta de stora behoven av gymnasialt yrkesutbildade såsom undersköterskor, elektriker och yrkesförare. Vi ökar också möjligheterna till högskoleutbildning och studiestöd satsningar på introduktionsjobb och extratjänster lånet till körkortsutbildning utvidgas till ungdomar 19–20 år med gymnasieexamen för att fler unga ska kunna ta lån för att ta körkort och därmed stärka sin ställning på arbetsmarknaden satsningar på sommarjobb för unga svenska villkor och löner ska gälla för alla som jobbar här. Vi har fått igenom viktiga lagförändringar som skapar mer ordning och reda på svensk arbetsmarknad. \n",
      "\t [{'name': 'SDG 9', 'n_occurrences': 2, 'children': [{'n_occurrences': 2, 'name': 'Target 9.5'}]}] \n",
      "\n"
     ]
    },
    {
     "name": "stderr",
     "output_type": "stream",
     "text": [
      " 67%|██████▋   | 802/1191 [33:49<16:56,  2.61s/it]"
     ]
    },
    {
     "name": "stdout",
     "output_type": "stream",
     "text": [
      "aHR0cHM6Ly93d3cuc29jaWFsZGVtb2tyYXRlcm5hLnNlL3Zhci1wb2xpdGlrL2EtdGlsbC1vL2tsaW1hdA== \n",
      " Klimat att Sverige ska driva på i EU och FN för att världens länder ska öka sina åtagande för att göra verklighet av Parisavtalets ambitioner att kollektivtrafiken utökas, mer gods transporteras på järnväg och med fartyg och flygets utsläpp minskas öka investeringarna i klimatåtgärder och ge stöd för nya innovationer i industrin som minskar utsläppen minskade utsläpp från vägtrafiken genom ytterligare höjda krav på att blanda in förnybart i bensin och diesel, genom en bonus till den som köper miljöbil och att EU sätter ett slutdatum för bensin och dieseldrivna bilar få ordentlig fart på återvinning och återanvändning så att vi får en mer hållbar konsumtion och en cirkulär ekonomi nått en bred klimatpolitisk uppgörelse som är en av de mest ambitiösa i världen infört ett nytt system med miljöbilsbonusar och infört krav på inblandning av förnybara biobränslen i bensin och diesel vid pumpen kraftigt investerat för klimatet, bl.a. lokala klimatinvesteringar över hela landet presenterat den största tågsatsningen i modern tid anslagit det största stödet per capita i världen till FN:s globala gröna fond för klimatåtgärder i fattiga länder I framtiden kommer vi att behöva tillverka både fler och nya biobaserade produkter för att klara klimatutmaningarna och skapa fler jobb. Industrins gröna omställning är avgörande om vi ska bli världens första fossilfria välfärdsland! Därför har vi föreslagit industrisatsningar på 950 miljoner kr. Nu satsar vi även på att kunna ge stöd till andra industriprojekt såsom biodrivmedel, plastreturraffinaderier, vätgasproduktion, återvinningsanläggningar och batteriproduktion. Satsningen knyter an till den cirkulära strategin som den S-ledda regeringen tagit fram Som del av industrisatsningarna finns programmet ”Industriklivet” som stöttar industrins omställning till nollutsläpp genom tekniksprång. Det är en nödvändighet om Sverige ska nå målet om nettonollutsläpp till senast 2045. För att stötta industrins omställning till fossilfrihet satsar den Socialdemokratiskt ledda regeringen på att bredda Industriklivet med 217 miljoner kr under 2022 till totalt 909 miljoner kr Reduktionsplikten innebär att drivmedelsleverantörer varje år måste minska växthusgasutsläppen från bensin och diesel genom inblandning av hållbara biodrivmedel. Utsläppen av växthusgaser från transportsektorn och arbetsmaskiner, står tillsammans för nära 40 procent av Sveriges utsläpp av växthusgaser. Reduktionsplikten är ett av våra viktigaste styrmedel för att minska utsläppen. Därför har den Socialdemokratisk ledda regeringen förelsagit föreslagigt succesivt ökade reduktionsnivåer i reduktionsplikten fram till 2030 och ett införande av reduktionsplikt för flyget Föreslagit att dom statliga gröna kreditgarantier ska höjas till 50 miljarder kronor 2022. För att åstadkomma den gröna omställning som krävs för att nå klimatmålen måste hela samhället delta. Näringslivet har en central roll i omställningen samt öka konkurrenskraften och skapa framtidens jobb. Genom garantiprogrammet för gröna investeringar främjar staten stora industriinvesteringar som bidrar till att nå miljömålen och det klimatpolitiska ramverket För att nå negativa utsläpp av växthusgaser krävs satsningar på avskiljning, infångning och lagring av biogen koldioxid (så kallad bio-CCS). Regeringen har föreslagit satsningar på 6 miljarder kronor under perioden 2026–2040 på ett nytt driftsstöd för Bio-CCS införs Biogas är en förnybar energikälla med mycket hög miljöprestanda. En stor del av det material som används för att framställa biogas kommer från lantbruket och livsmedelskedjan, till exempel gödsel, rester från mejerier, livsmedelsförädling och slakterier. Dessa näringar har en central roll i omställningen till en cirkulär och biobaserad ekonomi i Sverige. I arbetet med att nå dit kommer svensk landsbygd att vara avgörande. Därför har vi föreslagit 200 miljoner kr i stöd till produktion av biogas under 2021 Industrin har en viktig roll att spela inte bara genom att minska sina egna utsläpp utan också genom att till exempel framställa förnybara cirkulära produkter som kan ersätta fossila och därigenom bidra till en cirkulär och biobaserad ekonomi. Genom att utveckla klimatsmart teknik som kan bidra till mer cirkulära och fossilfria lösningar skapas konkurrensfördelar, sysselsättning och exportmöjligheter. Därför har vi satsat 200 miljoner kr under 2021 till investeringar i testbäddar för bioraffinaderier så att svenska företag kan kommersialisera nya hållbara lösningar. Satsningen bidrar till företagsetableringar och internationella investeringar, samt etableringen av ett centrum i världsklass för en resurseffektiv, giftfri och cirkulär bioekonomi Sverige har erbjudit sig att stå värd för ett globalt högnivåmöte 2022, 50 år sedan FN:s första miljökonferens, Stockholmskonferensen 1972. Högnivåmötets fokus är att bidra till det globala arbetet med Agenda 2030 och Parisavtalet. Därför föreslår regeringen att för 2021 tilldela 5 miljoner kronor till myndigheter och 5 miljoner kronor för miljöforskning som bidrar till förberedelserna av mötet. Samt 10 miljoner kronor under 2021 som ska gå till internationella organisationer som bidrar till förberedelser av regeringens högnivåmöte \n",
      "\t [{'name': 'SDG 9', 'n_occurrences': 1, 'children': [{'n_occurrences': 1, 'name': 'Target 9.5'}]}] \n",
      "\n"
     ]
    },
    {
     "name": "stderr",
     "output_type": "stream",
     "text": [
      " 69%|██████▉   | 826/1191 [34:51<17:34,  2.89s/it]"
     ]
    },
    {
     "name": "stdout",
     "output_type": "stream",
     "text": [
      "aHR0cHM6Ly93d3cuc29jaWFsZGVtb2tyYXRlcm5hLnNlL3Zhci1wb2xpdGlrL2EtdGlsbC1vL3BzeWtpYXRyaQ== \n",
      " Psykiatri förbättra vården vid lättare psykisk ohälsa få en mer likvärdig vård med förebyggande och hälsofrämjande insatser för barn och unga i hela landet. Den bör också kunna avlasta den specialiserade barn-och ungdomspsykiatrin förstärka elevhälsan för att tidigt upptäcka och förebygga psykisk ohälsa öka ansträngningar för att korta köerna till den specialiserade barn- och ungdomspsykiatrin se en stärkt suicidprevention genom ökade resurser till nationell kunskapsspridning och stöd till organisationer som arbetar förebyggande motverka stress och psykisk ohälsa i arbetslivet genom att skärpa kraven på arbetsgivare och förbättra arbetsskadeförsäkringen och Företagshälsovården ökade satsningar på skolhälsovård och ungdomsmottagningar så att fler unga kan få hjälp tidigt ökat satsningar riktat till den barn- och ungdomspsykiatriska vården (BUP) och på psykisk hälsa med fokus på första linjens psykiatri för barn och unga samt psykiatrisk vård för vuxna samt förbättrat tillgången till vård för att motverka ohälsa hos barn och unga i gruppen asylsökande och nyanlända förstärkt vårdgarantin som bland annat ska göra att den som behöver träffa en psykolog på vårdcentralen ska få göra det snabbare än idag Sedan 2020 satsat dryg 2 miljarder extra per år för att förstärka den psykiatriska vården och arbetet mot psykisk ohälsa. Satsningen fortsätter även under 2023 och 2024 \n",
      "\t [{'name': 'SDG 9', 'n_occurrences': 4, 'children': [{'n_occurrences': 4, 'name': 'Target 9.5'}]}] \n",
      "\n"
     ]
    },
    {
     "name": "stderr",
     "output_type": "stream",
     "text": [
      " 70%|███████   | 834/1191 [35:12<14:52,  2.50s/it]"
     ]
    },
    {
     "name": "stdout",
     "output_type": "stream",
     "text": [
      "aHR0cHM6Ly93d3cuc29jaWFsZGVtb2tyYXRlcm5hLnNlL3Zhci1wb2xpdGlrL2EtdGlsbC1vL3NqdWt2YXJk \n",
      " Sjukvård göra så att vården kommer närmare dig genom att utveckla vård- och hälsocentralerna så de kan ge dig mer och snabbare vård. Det gör vi till exempel med en fast läkarkontakt, bokning av tid via 1177och snabbare hjälp vid psykisk ohälsa. Läs mer längre ned! fortsätta satsningarna för att höja kvaliteten i sjukvården och för att kapa vårdköerna att patienter ska få besked om när en operation och behandling kan ske. De ska i högre grad kunna bli delaktiga i tidsbokning och få bättre information om vårdgarantin avsätta ytterligare 2 miljarder kronor under 2022 för riktade insatser för att beta av uppdämt vårdbehov. Sammantaget satsar regeringen 6 miljarder till detta fortsätta satsningen på säker vård i rätt tid i samband med graviditet, förlossning och eftervård med 1,5 miljarder kronor åren 2022 och 2023 fortsätta arbetet med att förstärka ambulanssjukvården och bygga ut ambulansverksamheten i hela Sverige utöka satsningen för att utveckla cancersjukvården till 600 miljoner kronor vardera åren 2022 och 2023 satsa 1,5 miljarder kronor för att utveckla och stärka primärvårdens arbete med psykisk hälsa och ohälsa prioritera investeringar i vården framför skattesänkningar. Stoppa privatiseringar av akutsjukhus och gräddfiler i vården. en historiskt stor satsning på hälso- och sjukvården genom 13 miljarder kr i ökade satsningar för bland annat fler anställda, bättre arbetsvillkor, kortade vårdköer, stärkt psykiatri och en bättre förlossningsvård förra mandatperioden investerade vi 35 miljarder kronor i välfärden under 2020 genomfördes en rekordstor investering i välfärden genom 38,5 miljarder kronor till kommuner och landsting som ökar till 41,5 miljarder kronor år 2021 för 2020 har vi tillfört ytterligare 26 miljarder kronor i generella bidrag, varav 12,5 miljarder är permanenta anslagsökningar som kommer kommuner och regioner till del även kommande år. Det är viktiga tillskott för att ge kommunsektorn långsiktiga planeringsförutsättningar och upprätthålla samhällsviktiga funktioner såsom vård, skola och omsorg under 2021 tillfördes regionerna 4 miljarder kronor årligen för att vård som tvingats skjutas upp på grund av Coronaviruset ska kunna genomföras så att människor får tillgång till den vård som man har behov av och har fått beslutad. Denna satsning ökar till 6 miljarder kronor 2022 två miljarder kronor avsätts för fortsatt testning och smittspårning av covid-19 ambulanssjukvården förstärks med 100 miljoner kronor cancersjukvården förstärks med ytterligare 100 miljoner kronor till de tidigare 500 miljoner krornor satsat på fler sjuksköterskor, specialistsjuksköterskor, barnmorskor och undersköterskor samt byggt ut läkarutbildningen påbörjat ett långsiktigt arbete för att stärka den nära vården, så att du ska kunna få mer hjälp på din hälso- eller vårdcentral infört avgiftsfri cellprovtagning i hela landet inom ramen för det nationella screeningprogrammet mot livmoderhalscancer infört avgiftsfria läkemedel för alla barn under 18 år infört ett särskilt vaccinationsprogram med avgiftsfri pneumokock-vaccinering för medicinska riskgrupper och 75-åringar från hösten 2022. \n",
      "\t [{'name': 'SDG 9', 'n_occurrences': 8, 'children': [{'n_occurrences': 8, 'name': 'Target 9.5'}]}] \n",
      "\n"
     ]
    },
    {
     "name": "stderr",
     "output_type": "stream",
     "text": [
      " 70%|███████   | 838/1191 [35:23<15:29,  2.63s/it]"
     ]
    },
    {
     "name": "stdout",
     "output_type": "stream",
     "text": [
      "aHR0cHM6Ly93d3cuc29jaWFsZGVtb2tyYXRlcm5hLnNlL3Zhci1wb2xpdGlrL2EtdGlsbC1vL3NwZWxtaXNzYnJ1aw== \n",
      " Spelmissbruk ha en sund och säker spelmarknad under offentlig kontroll, som värnar intäkterna till det allmänna och som ger goda förutsättningar för allmännyttig ideell verksamhet att erhålla finansiering genom intäkter från spel att de negativa konsekvenserna av spelande ska minska och att det ska råda hög säkerhet i spelen att spel om pengar ska omfattas av ett starkt konsumentskydd och inte kunna missbrukas för kriminell verksamhet att personer med spelmissbruk bör få tillgång till vård och stöd av god kvalitet. Behandling för skadligt bruk eller beroende bör ges samordnat med behandling för andra psykiatriska tillstånd. en omreglering av den svenska spelmarknaden från och med den 1 januari 2019 en viktig del i omregleringen är den nya regeln om omsorgsplikt som innebär att spelföretagen ska ta ansvar för att motverka spelproblem bland sina kunder utvärderat effekterna av omregleringen under 2018–2022 i syfte att säkerställa att konsumentskyddet har stärkts och att spelmissbruket har minskat. I utvärderingen konstateras att mer behöver göras för att minska de negativa konsekvenserna av spelande regeringen har lagt ett nytt lagförslag om en förstärkt spelreglering för att säkerställa ett starkt konsumentskydd och en långsiktig hållbar spelmarknad. \n",
      "\t [{'name': 'SDG 9', 'n_occurrences': 1, 'children': [{'n_occurrences': 1, 'name': 'Target 9.5'}]}] \n",
      "\n"
     ]
    },
    {
     "name": "stderr",
     "output_type": "stream",
     "text": [
      " 71%|███████   | 841/1191 [35:30<15:23,  2.64s/it]"
     ]
    },
    {
     "name": "stdout",
     "output_type": "stream",
     "text": [
      "aHR0cHM6Ly93d3cuc29jaWFsZGVtb2tyYXRlcm5hLnNlL3Zhci1wb2xpdGlrL2EtdGlsbC1vL3RyeWdnaGV0 \n",
      " Trygghet investera i fler jobb, bättre skola och en starkare välfärd och socialtjänst stärka hela rättskedjan bygga ut polisen med 10.000 fler polisanställda till år 2024 bryta segregationen en historiskt stor satsning på polisen höjt ett 70-tal straff riktat ökade resurser till det skolor som behöver det allra mest \n",
      "\t [{'name': 'SDG 9', 'n_occurrences': 1, 'children': [{'n_occurrences': 1, 'name': 'Target 9.5'}]}] \n",
      "\n"
     ]
    },
    {
     "name": "stderr",
     "output_type": "stream",
     "text": [
      " 71%|███████   | 846/1191 [35:43<14:44,  2.56s/it]"
     ]
    },
    {
     "name": "stdout",
     "output_type": "stream",
     "text": [
      "aHR0cHM6Ly93d3cuc29jaWFsZGVtb2tyYXRlcm5hLnNlL3Zhci1wb2xpdGlrL2EtdGlsbC1vL3ZpbnN0ZXItaS12YWxmYXJkZW4= \n",
      " Vinster i välfärden stoppa vinstjakten i välfärden förbjuda vinstuttagi skolan stoppa privatiseringar av akutsjukhus, gräddfiler i vård och omsorg investera mer och skärpa lagar och regler för att stärka kvaliteten i all välfärd att kollektivavtal ska gälla alla anställda i offentligt finansierad välfärdsverksamhet – oavsett om utföraren är privat eller offentlig att offentlighetsprincip och meddelarskydd ska gälla alla anställda i välfärden infört ägarprövning så att oseriösa aktörer inte ska kunna bedriva välfärdstjänster för våra gemensamma skattepengar infört meddelarskydd för all personal i offentligt finansierad verksamhet lagt förslag för att begränsa vinster i skola och omsorg tillsatt en utredning för att stoppa vinstjakten inom hälso- sjukvården lämnat förslag för att underlätta för idéburen verksamhet att bedriva offentligt finansierad välfärd \n",
      "\t [{'name': 'SDG 9', 'n_occurrences': 3, 'children': [{'n_occurrences': 3, 'name': 'Target 9.5'}]}] \n",
      "\n"
     ]
    },
    {
     "name": "stderr",
     "output_type": "stream",
     "text": [
      " 71%|███████   | 848/1191 [35:49<15:08,  2.65s/it]"
     ]
    },
    {
     "name": "stdout",
     "output_type": "stream",
     "text": [
      "aHR0cHM6Ly93d3cuc29jaWFsZGVtb2tyYXRlcm5hLnNlL3Zhci1wb2xpdGlrL2EtdGlsbC1vL3ZhbGZhcmQ= \n",
      " Välfärd investera i en bättre välfärd. Vi vill anställa fler undersköterskor, sjuksköterskor och läkare, så vårdköerna kan kortas. Och fler lärare, så att eleverna lär sig mer korta vårdköerna. Vi gör det genom att ge vård efter behov – inte plånbok. Den som är i störst behov av att träffa en läkare, få en operation eller en behandling ska gå först, inte den som har råd att betala för en dyr vårdförsäkring införa fast omsorgskontakt i hemtjänsten, mer social samvaro och satsa på idrott och friluftsliv för äldre införa en trygghetspension. Den ska ge ekonomisk trygghet för dem som slitit ut sig i arbetslivet och inte orkar jobba hela vägen fram till pension införa ett garantitillägg som kommer att ge en halv miljon pensionärer med låga pensioner 1 000 kronor mer varje månad, skattefritt. En miljon pensionärer kommer att i genomsnitt få 750 kronor mer satsa på snabbare stöd till unga som mår psykiskt dåligt: screening av barn och ungas psykiska hälsa i skolan och en digital vårdtjänst i mobilen ta tillbaka den demokratiska kontrollen över välfärden och stoppa vinstjakten i välfärden ökat de generella statsbidragen till kommuner och landsting för att höja kvaliteten i välfärden satsat på att öka bemanningen och stärka kompetensen bland personalen inom vård och äldreomsorg infört bl.a. gratis mediciner för barn, fördubblat tandvårdsbidrag, kostnadsfri screening för livmoderhalscancer och avgiftsfri öppenvård från 85 år vi har nyligen höjt garantipensionen, och taket i bostadstillägg. Dessutom har vi avskaffat den s.k. pensionärsskatten och infört ett särskilt pensionstillägg satsat på fler anställda med bättre arbetsvillkor, kortade vårdköer, en bättre förlossningsvård och en stor öronmärkt satsning på en mer jämlik och tillgänglig cancervård anställt fler lärare och minskat barngrupperna i förskolan. \n",
      "\t [{'name': 'SDG 9', 'n_occurrences': 8, 'children': [{'n_occurrences': 7, 'name': 'Target 9.5'}, {'n_occurrences': 1, 'name': 'SDG 9_undetected_target'}]}] \n",
      "\n"
     ]
    },
    {
     "name": "stderr",
     "output_type": "stream",
     "text": [
      " 74%|███████▍  | 879/1191 [37:07<12:57,  2.49s/it]"
     ]
    },
    {
     "name": "stdout",
     "output_type": "stream",
     "text": [
      "aHR0cHM6Ly9zZC5zZS9vdXItcG9saXRpY3MvYmVzb2tzbmFyaW5nLw== \n",
      " Besöksnäring Sverige är ett i många avseenden fantastiskt land och vi vill att både svenska och utländska besökare ska ha goda möjligheter att besöka allt från orörd fjällvärld till pulserande storstäder. \n",
      "\t [{'name': 'SDG 9', 'n_occurrences': 1, 'children': [{'n_occurrences': 1, 'name': 'Target 9.5'}]}] \n",
      "\n"
     ]
    },
    {
     "name": "stderr",
     "output_type": "stream",
     "text": [
      " 74%|███████▍  | 882/1191 [37:15<12:39,  2.46s/it]"
     ]
    },
    {
     "name": "stdout",
     "output_type": "stream",
     "text": [
      "aHR0cHM6Ly9zZC5zZS9vdXItcG9saXRpY3MvYmlzdGFuZC8= \n",
      " Bistånd Sverigedemokraterna föreslår en biståndsram om 0,7 procent av BNI. Det innebär fortfarande ett av de allra högsta bistånden internationellt sett och överensstämmer med FN:s rekommendationer. Nivån måste kunna justeras utifrån behoven i Sverige av ökade insatser i grundläggande välfärd och rättsväsende. \n",
      "\t [{'name': 'SDG 9', 'n_occurrences': 1, 'children': [{'n_occurrences': 1, 'name': 'Target 9.5'}]}] \n",
      "\n"
     ]
    },
    {
     "name": "stderr",
     "output_type": "stream",
     "text": [
      " 75%|███████▌  | 898/1191 [37:55<12:08,  2.49s/it]"
     ]
    },
    {
     "name": "stdout",
     "output_type": "stream",
     "text": [
      "aHR0cHM6Ly9zZC5zZS9vdXItcG9saXRpY3MvZXJhc211cy8= \n",
      " Erasmus Utbyte inom utbildning är bra, men vi säger nej till att stärka Erasmus genom högre svensk EU-avgift. \n",
      "\t [{'name': 'SDG 4', 'n_occurrences': 2, 'children': [{'n_occurrences': 2, 'name': 'Target 4.b'}]}] \n",
      "\n"
     ]
    },
    {
     "name": "stderr",
     "output_type": "stream",
     "text": [
      " 78%|███████▊  | 926/1191 [39:07<12:00,  2.72s/it]"
     ]
    },
    {
     "name": "stdout",
     "output_type": "stream",
     "text": [
      "aHR0cHM6Ly9zZC5zZS9vdXItcG9saXRpY3MvZm9ybG9zc25pbmdzdmFyZC8= \n",
      " Förlossningsvård Alla ska ha rätt till en god och tillgänglig förlossningsvård oavsett var i landet man bor. Antalet platser för utbildning av barnmorskor bör öka. \n",
      "\t [{'name': 'SDG 9', 'n_occurrences': 2, 'children': [{'n_occurrences': 2, 'name': 'Target 9.5'}]}] \n",
      "\n"
     ]
    },
    {
     "name": "stderr",
     "output_type": "stream",
     "text": [
      " 79%|███████▊  | 937/1191 [39:35<10:54,  2.58s/it]"
     ]
    },
    {
     "name": "stdout",
     "output_type": "stream",
     "text": [
      "aHR0cHM6Ly9zZC5zZS9vdXItcG9saXRpY3MvZ21vLw== \n",
      " GMO Sverigedemokraterna intar en neutral hållning till GMO. Enskilda applikationer bör bedömas utifrån eventuella risker för miljö och människors hälsa. Etiska aspekter ska alltid beaktas. \n",
      "\t [{'name': 'SDG 2', 'n_occurrences': 2, 'children': [{'n_occurrences': 2, 'name': 'Target 2.5'}]}] \n",
      "\n"
     ]
    },
    {
     "name": "stderr",
     "output_type": "stream",
     "text": [
      " 79%|███████▉  | 941/1191 [39:45<10:33,  2.53s/it]"
     ]
    },
    {
     "name": "stdout",
     "output_type": "stream",
     "text": [
      "aHR0cHM6Ly9zZC5zZS9vdXItcG9saXRpY3MvaGJ0cS1wZXJzb25lcnMtcHN5a2lza2EtaGFsc2Ev \n",
      " HBTQ personers psykiska hälsa Nationella riktlinjer ska arbetas fram och  dessa ska fokusera på förbyggande insatser samt psykologiskt stöd för HBTQ-personer. Vid fysisk könskorrigering och hormonbehandling måste biverkningar och effekter av behandlingen analyseras noga. Den vetenskapliga evidensen måste ligga till grund för all vård och behandling som genomförs. För att genomgå en fysisk könskorrigering ska kravet vara psykisk stabilitet. \n",
      "\t [{'name': 'SDG 9', 'n_occurrences': 1, 'children': [{'n_occurrences': 1, 'name': 'Target 9.5'}]}] \n",
      "\n"
     ]
    },
    {
     "name": "stderr",
     "output_type": "stream",
     "text": [
      " 80%|████████  | 957/1191 [40:26<10:18,  2.64s/it]"
     ]
    },
    {
     "name": "stdout",
     "output_type": "stream",
     "text": [
      "aHR0cHM6Ly9zZC5zZS9vdXItcG9saXRpY3MvamFrdC1vY2gtdmlsdHZhcmQv \n",
      " Jakt och viltvård Beslut som rör jakt- och viltvård ska flyttas närmare de människor som berörs. En fristående myndighet för jakt bör inrättas. \n",
      "\t [{'name': 'SDG 9', 'n_occurrences': 2, 'children': [{'n_occurrences': 2, 'name': 'Target 9.5'}]}] \n",
      "\n"
     ]
    },
    {
     "name": "stderr",
     "output_type": "stream",
     "text": [
      " 81%|████████  | 967/1191 [40:52<09:28,  2.54s/it]"
     ]
    },
    {
     "name": "stdout",
     "output_type": "stream",
     "text": [
      "aHR0cHM6Ly9zZC5zZS9vdXItcG9saXRpY3Mva2xhbXBuaW5nLw== \n",
      " Klampning Klampning som påföljd vid trafikförseelser är en bra åtgärd. Men den övre tidsgränsen för klampningen, som idag endast är 36 timmar behöver avskaffas. \n",
      "\t [{'name': 'SDG 9', 'n_occurrences': 1, 'children': [{'n_occurrences': 1, 'name': 'Target 9.5'}]}] \n",
      "\n"
     ]
    },
    {
     "name": "stderr",
     "output_type": "stream",
     "text": [
      " 84%|████████▍ | 1003/1191 [42:27<07:55,  2.53s/it]"
     ]
    },
    {
     "name": "stdout",
     "output_type": "stream",
     "text": [
      "aHR0cHM6Ly9zZC5zZS9vdXItcG9saXRpY3MvbmF0aW9uZWxsYS1wcm92LW9jaC1kaWdpdGFsaXNlcmluZy8= \n",
      " Nationella prov och digitalisering De nationella proven ska digitaliseras och rättas centralt. Digitaliseringen i skolan behöver förbättras med enhetliga system och digitala verktyg. \n",
      "\t [{'name': 'SDG 9', 'n_occurrences': 1, 'children': [{'n_occurrences': 1, 'name': 'SDG 9_undetected_target'}]}] \n",
      "\n"
     ]
    },
    {
     "name": "stderr",
     "output_type": "stream",
     "text": [
      " 84%|████████▍ | 1005/1191 [42:32<08:08,  2.63s/it]"
     ]
    },
    {
     "name": "stdout",
     "output_type": "stream",
     "text": [
      "aHR0cHM6Ly9zZC5zZS9vdXItcG9saXRpY3MvbmF0aW9uZWxsLXN0eXJuaW5nLWF2LXNqdWt2YXJkZW4v \n",
      " Nationell styrning av sjukvården En ökad nationell styrning av sjukvården bör ses över så att ojämlikheten inom den svenska sjukvården minskar. Kvalitén och tillgängligheten i sjukvården ska inte bero på var i landet som man bor. Socialstyrelsens nationella riktlinjer ska bli mer bindande så att man som patient ska kunna ställa samma krav och få jämlik vård över hela landet. Möjligheterna att på sikt flytta över huvudmannaskapet för hela eller delar sjukvården från regionerna till staten bör ses över. \n",
      "\t [{'name': 'SDG 9', 'n_occurrences': 1, 'children': [{'n_occurrences': 1, 'name': 'Target 9.5'}]}] \n",
      "\n"
     ]
    },
    {
     "name": "stderr",
     "output_type": "stream",
     "text": [
      " 85%|████████▍ | 1007/1191 [42:37<07:49,  2.55s/it]"
     ]
    },
    {
     "name": "stdout",
     "output_type": "stream",
     "text": [
      "aHR0cHM6Ly9zZC5zZS9vdXItcG9saXRpY3MvbmF0aW9uZWxsdC12YXJkZ2FyYW50aWthbnNsaS8= \n",
      " Nationellt vårdgarantikansli I de fall regionen inte kan erbjuda vård inom vårdgarantins tidsgränser, ska man inrätta ett nationellt vårdgarantikansli som har helhets- och samordningsansvaret för att patienterna ska få snabbare vård. \n",
      "\t [{'name': 'SDG 9', 'n_occurrences': 2, 'children': [{'n_occurrences': 2, 'name': 'Target 9.5'}]}] \n",
      "\n"
     ]
    },
    {
     "name": "stderr",
     "output_type": "stream",
     "text": [
      " 85%|████████▌ | 1014/1191 [42:55<07:27,  2.53s/it]"
     ]
    },
    {
     "name": "stdout",
     "output_type": "stream",
     "text": [
      "aHR0cHM6Ly9zZC5zZS9vdXItcG9saXRpY3MvcGFsbGlhdGl2LXZhcmQv \n",
      " Palliativ vård Alla som har behov av palliativ vård i livets slutskede, oavsett diagnos och oberoende av bostadsort, ska kunna få det av kompetent och välutbildad personal. \n",
      "\t [{'name': 'SDG 9', 'n_occurrences': 2, 'children': [{'n_occurrences': 2, 'name': 'Target 9.5'}]}] \n",
      "\n"
     ]
    },
    {
     "name": "stderr",
     "output_type": "stream",
     "text": [
      " 86%|████████▌ | 1023/1191 [43:18<07:03,  2.52s/it]"
     ]
    },
    {
     "name": "stdout",
     "output_type": "stream",
     "text": [
      "aHR0cHM6Ly9zZC5zZS9vdXItcG9saXRpY3MvcHN5a2lhdHJpc2stdmFyZC8= \n",
      " Psykiatrisk vård För att upprätthålla fortsatt utveckling av den psykiatriska vården är det likaså relevant att uppmuntra projekt som avser verka för det ändamålet. \n",
      "\t [{'name': 'SDG 9', 'n_occurrences': 1, 'children': [{'n_occurrences': 1, 'name': 'Target 9.5'}]}] \n",
      "\n"
     ]
    },
    {
     "name": "stderr",
     "output_type": "stream",
     "text": [
      " 88%|████████▊ | 1043/1191 [44:10<06:26,  2.61s/it]"
     ]
    },
    {
     "name": "stdout",
     "output_type": "stream",
     "text": [
      "aHR0cHM6Ly9zZC5zZS9vdXItcG9saXRpY3Mvc2thdHRldHJ5Y2sv \n",
      " Skattetryck Skattetrycket ska vara väl avvägt och finansiera välfärd och trygghet. \n",
      "\t [{'name': 'SDG 9', 'n_occurrences': 1, 'children': [{'n_occurrences': 1, 'name': 'Target 9.5'}]}] \n",
      "\n"
     ]
    },
    {
     "name": "stderr",
     "output_type": "stream",
     "text": [
      " 90%|████████▉ | 1069/1191 [45:18<05:23,  2.65s/it]"
     ]
    },
    {
     "name": "stdout",
     "output_type": "stream",
     "text": [
      "aHR0cHM6Ly9zZC5zZS9vdXItcG9saXRpY3MvdGFuZHZhcmQv \n",
      " Tandvård Ingen svensk medborgare ska behöva avstå från tandvård på grund av ekonomiska skäl. Alla ålderspensionärer från 65 år ska medges 900 kronor per år i tandvårdsbidrag. \n",
      "\t [{'name': 'SDG 9', 'n_occurrences': 2, 'children': [{'n_occurrences': 2, 'name': 'Target 9.5'}]}] \n",
      "\n"
     ]
    },
    {
     "name": "stderr",
     "output_type": "stream",
     "text": [
      "\r",
      " 90%|████████▉ | 1070/1191 [45:20<05:16,  2.61s/it]"
     ]
    },
    {
     "name": "stdout",
     "output_type": "stream",
     "text": [
      "aHR0cHM6Ly9zZC5zZS9vdXItcG9saXRpY3MvdGFuZHZhcmQtdGlsbC1pY2tlLWVlcy1tZWRib3JnYXJlLw== \n",
      " Tandvård till icke EES-medborgare Sveriges tandvård bygger på att vi gemensamt finansierar den via skattsedeln. Detta innebär således att tandvården är dimensionerad för de människor som i första hand bor här. \n",
      "\t [{'name': 'SDG 9', 'n_occurrences': 2, 'children': [{'n_occurrences': 2, 'name': 'Target 9.5'}]}] \n",
      "\n"
     ]
    },
    {
     "name": "stderr",
     "output_type": "stream",
     "text": [
      " 91%|█████████ | 1084/1191 [45:57<04:38,  2.60s/it]"
     ]
    },
    {
     "name": "stdout",
     "output_type": "stream",
     "text": [
      "aHR0cHM6Ly9zZC5zZS9vdXItcG9saXRpY3MvdXRkcmFnLXVyLWJlbGFzdG5pbmdzcmVnaXN0ZXIv \n",
      " Utdrag ur belastningsregister Lagen om registerkontroll bör utökas, så att den omfattar anställda, praktiserande och studerande inom sjukvård, äldreomsorg och psykiatrin och inom särskilda boenden för funktionshindrade. \n",
      "\t [{'name': 'SDG 9', 'n_occurrences': 1, 'children': [{'n_occurrences': 1, 'name': 'Target 9.5'}]}] \n",
      "\n"
     ]
    },
    {
     "name": "stderr",
     "output_type": "stream",
     "text": [
      " 92%|█████████▏| 1097/1191 [46:30<03:58,  2.54s/it]"
     ]
    },
    {
     "name": "stdout",
     "output_type": "stream",
     "text": [
      "aHR0cHM6Ly9zZC5zZS9vdXItcG9saXRpY3MvdmlkYXJldXRiaWxkbmluZ3BhbGxpYXRpdi12YXJkLw== \n",
      " Vidareutbildningpalliativ vård För att alla ska kunna få god vård vid livets slut, oavsett medicinsk diagnos och bostadsort, krävs att fler personalkategorier inom vården har grundläggande kompetens inom området. \n",
      "\t [{'name': 'SDG 9', 'n_occurrences': 2, 'children': [{'n_occurrences': 2, 'name': 'Target 9.5'}]}] \n",
      "\n"
     ]
    },
    {
     "name": "stderr",
     "output_type": "stream",
     "text": [
      " 92%|█████████▏| 1101/1191 [46:40<03:43,  2.48s/it]"
     ]
    },
    {
     "name": "stdout",
     "output_type": "stream",
     "text": [
      "aHR0cHM6Ly9zZC5zZS9vdXItcG9saXRpY3MvdmFyZC1mb3ItdXRsYW5uaW5nYXIv \n",
      " Vård för utlänningar Med tydliga regelverk kring utlänningars rätt till skattefinansierad sjukvård minskar belastningen på sjukvården vilket leder till högre tillgänglighet. \n",
      "\t [{'name': 'SDG 9', 'n_occurrences': 2, 'children': [{'n_occurrences': 2, 'name': 'Target 9.5'}]}] \n",
      "\n"
     ]
    },
    {
     "name": "stderr",
     "output_type": "stream",
     "text": [
      " 94%|█████████▍| 1124/1191 [47:38<02:45,  2.47s/it]"
     ]
    },
    {
     "name": "stdout",
     "output_type": "stream",
     "text": [
      "aHR0cHM6Ly93d3cudmFuc3RlcnBhcnRpZXQuc2UvcG9saXRpay9hcmJldHNtaWxqby8= \n",
      " Arbetsmiljö att regionala skyddsombud ska få rätt att verka på arbetsplatser med kollektivavtal även om det för tillfället inte finns någon medlem där att alla anställda ges tillgång till en effektiv och kvalitetssäkrad företagshälsovård öka resurserna till forskning, utbildning, tillsyn och förebyggande arbetsmiljöarbete \n",
      "\t [{'name': 'SDG 9', 'n_occurrences': 1, 'children': [{'n_occurrences': 1, 'name': 'Target 9.5'}]}] \n",
      "\n"
     ]
    },
    {
     "name": "stderr",
     "output_type": "stream",
     "text": [
      " 95%|█████████▌| 1135/1191 [48:07<02:22,  2.55s/it]"
     ]
    },
    {
     "name": "stdout",
     "output_type": "stream",
     "text": [
      "aHR0cHM6Ly93d3cudmFuc3RlcnBhcnRpZXQuc2UvcG9saXRpay9kcm9nZXItbWlzc2JydWstb2NoLWJlcm9lbmRlLw== \n",
      " Droger, missbruk och beroende Alla har rätt till en bra hälsa och vård. Idag har ungefär 100 000 personer ett missbruk av narkotika eller läkemedel. Många våldsbrott begås under påverkan av droger. Tillgången till droger måste begränsas kraftfullt och det preventiva arbetet stärkas. \n",
      "\t [{'name': 'SDG 9', 'n_occurrences': 1, 'children': [{'n_occurrences': 1, 'name': 'Target 9.5'}]}] \n",
      "\n"
     ]
    },
    {
     "name": "stderr",
     "output_type": "stream",
     "text": [
      "\r",
      " 95%|█████████▌| 1136/1191 [48:09<02:20,  2.55s/it]"
     ]
    },
    {
     "name": "stdout",
     "output_type": "stream",
     "text": [
      "aHR0cHM6Ly93d3cudmFuc3RlcnBhcnRpZXQuc2UvcG9saXRpay9la29ub21pc2stYnJvdHRzbGlnaGV0LXJpa3RhZC1tb3QtdmFsZmFyZGVuLw== \n",
      " Ekonomisk brotts­lig­het riktad mot väl­färden Vänsterpartiet vill ha en välfärd som är till för alla, inte bara för de rika. Välfärden har genom omfattande privatiseringar genomgått stora förändringar, vilket gjort den sårbar och till en måltavla för oseriösa företagare och ekonomisk brottslighet. \n",
      "\t [{'name': 'SDG 9', 'n_occurrences': 1, 'children': [{'n_occurrences': 1, 'name': 'Target 9.5'}]}] \n",
      "\n"
     ]
    },
    {
     "name": "stderr",
     "output_type": "stream",
     "text": [
      " 96%|█████████▌| 1142/1191 [48:25<02:04,  2.55s/it]"
     ]
    },
    {
     "name": "stdout",
     "output_type": "stream",
     "text": [
      "aHR0cHM6Ly93d3cudmFuc3RlcnBhcnRpZXQuc2UvcG9saXRpay9mbHlrdGluZ3BvbGl0aWsv \n",
      " Flykting­politik Människor på flykt behöver få skydd, därför vill vi försvara asylrätten. Sverige ska inte vara ett land som splittrar familjer. Vi vill bygga ett starkt samhälle med robust välfärd och politik för full sysselsättning. Det är så man löser samhällsproblemen, inte genom att urholka asylrätten. \n",
      "\t [{'name': 'SDG 9', 'n_occurrences': 1, 'children': [{'n_occurrences': 1, 'name': 'Target 9.5'}]}] \n",
      "\n"
     ]
    },
    {
     "name": "stderr",
     "output_type": "stream",
     "text": [
      " 98%|█████████▊| 1165/1191 [49:24<01:08,  2.64s/it]"
     ]
    },
    {
     "name": "stdout",
     "output_type": "stream",
     "text": [
      "aHR0cHM6Ly93d3cudmFuc3RlcnBhcnRpZXQuc2UvcG9saXRpay9sc3MtcGVyc29ubGlnLWFzc2lzdGFucy8= \n",
      " LSS/ Personlig assistans Vår gemensamma välfärd ska skapa frihet för alla, ge oss möjlighet att leva goda liv. Alla människor har lika värde och alla människor har kunskaper, förmågor och erfarenheter som är viktiga för samhället. Den som lever sitt liv med en funktionsnedsättning ska ha samma möjlighet till ett gott liv som alla andra. LSS kom till  för att ge den enskilde rätt att leva som andra. \n",
      "\t [{'name': 'SDG 9', 'n_occurrences': 1, 'children': [{'n_occurrences': 1, 'name': 'Target 9.5'}]}] \n",
      "\n"
     ]
    },
    {
     "name": "stderr",
     "output_type": "stream",
     "text": [
      " 99%|█████████▊| 1175/1191 [49:49<00:40,  2.51s/it]"
     ]
    },
    {
     "name": "stdout",
     "output_type": "stream",
     "text": [
      "aHR0cHM6Ly93d3cudmFuc3RlcnBhcnRpZXQuc2UvcG9saXRpay9wc3lraXNrLW9oYWxzYS8= \n",
      " Psykisk ohälsa Psykisk ohälsa kan drabba vem som helst och psykisk ohälsa är idag den vanligaste orsaken till sjukskrivning. Därför måste alla som drabbas få en bra vård, inte bara de som har råd att betala psykologsamtal ur egen ficka. \n",
      "\t [{'name': 'SDG 9', 'n_occurrences': 1, 'children': [{'n_occurrences': 1, 'name': 'Target 9.5'}]}] \n",
      "\n"
     ]
    },
    {
     "name": "stderr",
     "output_type": "stream",
     "text": [
      " 99%|█████████▉| 1179/1191 [49:59<00:30,  2.50s/it]"
     ]
    },
    {
     "name": "stdout",
     "output_type": "stream",
     "text": [
      "aHR0cHM6Ly93d3cudmFuc3RlcnBhcnRpZXQuc2UvcG9saXRpay9zanVrdmFyZC8= \n",
      " Sjukvård Alla har rätt till en jämlik och bra sjukvård, inte bara de som har råd med privata sjukvårdsförsäkringar. Den grundläggande principen är att vården ska ges utifrån människors behov, inte om man har en privat försäkring eller inte. \n",
      "\t [{'name': 'SDG 9', 'n_occurrences': 2, 'children': [{'n_occurrences': 2, 'name': 'Target 9.5'}]}] \n",
      "\n"
     ]
    },
    {
     "name": "stderr",
     "output_type": "stream",
     "text": [
      " 99%|█████████▉| 1181/1191 [50:04<00:24,  2.50s/it]"
     ]
    },
    {
     "name": "stdout",
     "output_type": "stream",
     "text": [
      "aHR0cHM6Ly93d3cudmFuc3RlcnBhcnRpZXQuc2UvcG9saXRpay9za2F0dGVyLw== \n",
      " Skatter Vänsterpartiet vill bygga en stark välfärd som ger alla människor en bra sjukvård, skola och en trygg ålderdom. Vi bidrar alla till att göra det möjligt genom att betala skatt, och den allra största delen av skatteinkomsterna kommer från inkomstskatten, från människor med vanliga löner. \n",
      "\t [{'name': 'SDG 9', 'n_occurrences': 2, 'children': [{'n_occurrences': 2, 'name': 'Target 9.5'}]}] \n",
      "\n"
     ]
    },
    {
     "name": "stderr",
     "output_type": "stream",
     "text": [
      " 99%|█████████▉| 1184/1191 [50:12<00:17,  2.54s/it]"
     ]
    },
    {
     "name": "stdout",
     "output_type": "stream",
     "text": [
      "aHR0cHM6Ly93d3cudmFuc3RlcnBhcnRpZXQuc2UvcG9saXRpay90YW5kdmFyZC8= \n",
      " Tandvård Alla ska ha råd att ha bra tänder, inte bara de som kan betala dyra behandlingar. Tänderna är en del av kroppen och bör på sikt ingå i sjukvården. Idag har tandhälsan blivit en klassmarkör. \n",
      "\t [{'name': 'SDG 9', 'n_occurrences': 1, 'children': [{'n_occurrences': 1, 'name': 'Target 9.5'}]}] \n",
      "\n"
     ]
    },
    {
     "name": "stderr",
     "output_type": "stream",
     "text": [
      "100%|█████████▉| 1190/1191 [50:27<00:02,  2.47s/it]"
     ]
    },
    {
     "name": "stdout",
     "output_type": "stream",
     "text": [
      "aHR0cHM6Ly93d3cudmFuc3RlcnBhcnRpZXQuc2UvcG9saXRpay92YWxmYXJkLw== \n",
      " Välfärd Att välfärden fungerar är en förutsättning för många människors frihet. Det ska gå att lita på att ditt barn möter trygghet i skolan, att dina föräldrar får värme och omsorg på äldreboendet och på att du får bästa möjliga vård när du mår dåligt. Därför vill Vänsterpartiet satsa mer pengar på välfärden istället för att sänka skatten för de som redan tjänar mest. Och därför vill vi också att välfärden inte ska styras av vinstjakt. \n",
      "\t [{'name': 'SDG 9', 'n_occurrences': 2, 'children': [{'n_occurrences': 2, 'name': 'Target 9.5'}]}] \n",
      "\n"
     ]
    },
    {
     "name": "stderr",
     "output_type": "stream",
     "text": [
      "100%|██████████| 1191/1191 [50:30<00:00,  2.54s/it]"
     ]
    },
    {
     "name": "stdout",
     "output_type": "stream",
     "text": [
      "SDG 154\n"
     ]
    },
    {
     "name": "stderr",
     "output_type": "stream",
     "text": [
      "\n"
     ]
    }
   ],
   "source": [
    "import requests,time,json\n",
    "urlSDGMapper = \"https://knowsdgs.jrc.ec.europa.eu/\"\n",
    "s = requests.Session()\n",
    "tkn = s.post(urlSDGMapper + \"session/token\")\n",
    "from tqdm import tqdm \n",
    "def SDGMapperText(doc_txt):\n",
    "    #time.sleep(6)\n",
    "    myKey = \"db0c87cbdf761defc71ea93010fdde41\"\n",
    "\n",
    "    headers = {\"Content-Type\": \"application/json\", \"X-Csrf-Token\": tkn.text, \"X-Api-Key\": myKey }\n",
    "    rSDG = s.post(urlSDGMapper + \"api/rest/mappingdata\", headers=headers, json={\"input_text\": doc_txt})\n",
    "    #print(rSDG)\n",
    "    jsonSDG = json.loads(rSDG.text)\n",
    "    #print(jsonSDG)\n",
    "    return jsonSDG \n",
    "numberSDGinStandpointsText = 0\n",
    "for index,row in tqdm(dfStandpoints.iterrows(), total=dfStandpoints.shape[0]):\n",
    "    standpointsText = row[\"title\"] + \" \" +  \" \".join(row[\"content\"])\n",
    "    SDGret = SDGMapperText(standpointsText)\n",
    "    SDGjson = json.loads(SDGret[\"data\"][0])\n",
    "\n",
    "    if len(SDGjson['children']) > 0:\n",
    "        print(row[\"id\"],\"\\n\",standpointsText,\"\\n\\t\",SDGjson['children'],\"\\n\")\n",
    "        numberSDGinStandpointsText += 1\n",
    "print(\"SDG\",numberSDGinStandpointsText)"
   ]
  },
  {
   "cell_type": "markdown",
   "id": "88780385",
   "metadata": {},
   "source": [
    "## Resultat\n",
    "* 154 av 1191 dokument hjordes någon koppling till SDG\n",
    "* Target 9.5 var valigaste \n",
    "* jag har fått feedback från utvecklaren om att översätta till engelska innan\n",
    "  * tycker dock att ett EU API borde kunna svenska"
   ]
  },
  {
   "cell_type": "code",
   "execution_count": null,
   "id": "a63ded8f",
   "metadata": {},
   "outputs": [],
   "source": []
  },
  {
   "cell_type": "code",
   "execution_count": null,
   "id": "bd7b8055",
   "metadata": {},
   "outputs": [],
   "source": []
  }
 ],
 "metadata": {
  "kernelspec": {
   "display_name": "Python 3",
   "language": "python",
   "name": "python3"
  },
  "language_info": {
   "codemirror_mode": {
    "name": "ipython",
    "version": 3
   },
   "file_extension": ".py",
   "mimetype": "text/x-python",
   "name": "python",
   "nbconvert_exporter": "python",
   "pygments_lexer": "ipython3",
   "version": "3.9.13"
  }
 },
 "nbformat": 4,
 "nbformat_minor": 5
}
