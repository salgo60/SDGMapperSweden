{
 "cells": [
  {
   "cell_type": "markdown",
   "metadata": {},
   "source": [
    "## Open SDG Data Hub\n",
    "version 0.1\n",
    "* This [Jupyter Notebook]()  / GITHUB [SDGMapperSweden](https://github.com/salgo60/SDGMapperSweden)\n",
    "\n",
    "## Version history ##\n",
    "* 0.1 "
   ]
  },
  {
   "cell_type": "code",
   "execution_count": 1,
   "metadata": {},
   "outputs": [
    {
     "name": "stdout",
     "output_type": "stream",
     "text": [
      "Last run:  2022-06-22 10:33:04.005437\n"
     ]
    }
   ],
   "source": [
    "from datetime import datetime\n",
    "now = datetime.now()\n",
    "print(\"Last run: \", datetime.now())"
   ]
  },
  {
   "cell_type": "code",
   "execution_count": 2,
   "metadata": {},
   "outputs": [
    {
     "data": {
      "text/html": [
       "<div>\n",
       "<style scoped>\n",
       "    .dataframe tbody tr th:only-of-type {\n",
       "        vertical-align: middle;\n",
       "    }\n",
       "\n",
       "    .dataframe tbody tr th {\n",
       "        vertical-align: top;\n",
       "    }\n",
       "\n",
       "    .dataframe thead th {\n",
       "        text-align: right;\n",
       "    }\n",
       "</style>\n",
       "<table border=\"1\" class=\"dataframe\">\n",
       "  <thead>\n",
       "    <tr style=\"text-align: right;\">\n",
       "      <th></th>\n",
       "      <th>code</th>\n",
       "      <th>title</th>\n",
       "      <th>description</th>\n",
       "      <th>uri</th>\n",
       "      <th>targets</th>\n",
       "    </tr>\n",
       "  </thead>\n",
       "  <tbody>\n",
       "    <tr>\n",
       "      <th>0</th>\n",
       "      <td>1</td>\n",
       "      <td>End poverty in all its forms everywhere</td>\n",
       "      <td>Goal 1 calls for an end to poverty in all its ...</td>\n",
       "      <td>/v1/sdg/Goal/1</td>\n",
       "      <td>[{'goal': None, 'code': '1.1', 'title': 'By 20...</td>\n",
       "    </tr>\n",
       "    <tr>\n",
       "      <th>1</th>\n",
       "      <td>2</td>\n",
       "      <td>End hunger, achieve food security and improved...</td>\n",
       "      <td>Goal 2 seeks to end hunger and all forms of ma...</td>\n",
       "      <td>/v1/sdg/Goal/2</td>\n",
       "      <td>[{'goal': None, 'code': '2.1', 'title': 'By 20...</td>\n",
       "    </tr>\n",
       "    <tr>\n",
       "      <th>2</th>\n",
       "      <td>3</td>\n",
       "      <td>Ensure healthy lives and promote well-being fo...</td>\n",
       "      <td>Goal 3 aims to ensure health and well-being fo...</td>\n",
       "      <td>/v1/sdg/Goal/3</td>\n",
       "      <td>[{'goal': None, 'code': '3.1', 'title': 'By 20...</td>\n",
       "    </tr>\n",
       "    <tr>\n",
       "      <th>3</th>\n",
       "      <td>4</td>\n",
       "      <td>Ensure inclusive and equitable quality educati...</td>\n",
       "      <td>Goal 4 focuses on the acquisition of foundatio...</td>\n",
       "      <td>/v1/sdg/Goal/4</td>\n",
       "      <td>[{'goal': None, 'code': '4.1', 'title': 'By 20...</td>\n",
       "    </tr>\n",
       "    <tr>\n",
       "      <th>4</th>\n",
       "      <td>5</td>\n",
       "      <td>Achieve gender equality and empower all women ...</td>\n",
       "      <td>Goal 5 aims to empower women and girls to reac...</td>\n",
       "      <td>/v1/sdg/Goal/5</td>\n",
       "      <td>[{'goal': None, 'code': '5.1', 'title': 'End a...</td>\n",
       "    </tr>\n",
       "  </tbody>\n",
       "</table>\n",
       "</div>"
      ],
      "text/plain": [
       "  code                                              title  \\\n",
       "0    1            End poverty in all its forms everywhere   \n",
       "1    2  End hunger, achieve food security and improved...   \n",
       "2    3  Ensure healthy lives and promote well-being fo...   \n",
       "3    4  Ensure inclusive and equitable quality educati...   \n",
       "4    5  Achieve gender equality and empower all women ...   \n",
       "\n",
       "                                         description             uri  \\\n",
       "0  Goal 1 calls for an end to poverty in all its ...  /v1/sdg/Goal/1   \n",
       "1  Goal 2 seeks to end hunger and all forms of ma...  /v1/sdg/Goal/2   \n",
       "2  Goal 3 aims to ensure health and well-being fo...  /v1/sdg/Goal/3   \n",
       "3  Goal 4 focuses on the acquisition of foundatio...  /v1/sdg/Goal/4   \n",
       "4  Goal 5 aims to empower women and girls to reac...  /v1/sdg/Goal/5   \n",
       "\n",
       "                                             targets  \n",
       "0  [{'goal': None, 'code': '1.1', 'title': 'By 20...  \n",
       "1  [{'goal': None, 'code': '2.1', 'title': 'By 20...  \n",
       "2  [{'goal': None, 'code': '3.1', 'title': 'By 20...  \n",
       "3  [{'goal': None, 'code': '4.1', 'title': 'By 20...  \n",
       "4  [{'goal': None, 'code': '5.1', 'title': 'End a...  "
      ]
     },
     "execution_count": 2,
     "metadata": {},
     "output_type": "execute_result"
    }
   ],
   "source": [
    "import pandas as pd\n",
    "import urllib3, json\n",
    "import pandas as pd \n",
    "http = urllib3.PoolManager() \n",
    "pd.set_option(\"display.max.columns\", None) \n",
    "urlapi =\"https://unstats.un.org/SDGAPI/v1/sdg/Goal/List?includechildren=true\"\n",
    "\n",
    "r = http.request('GET', urlapi)\n",
    "data = json.loads(r.data)\n",
    "dftot = pd.json_normalize(data)\n",
    "dftot.head()\n"
   ]
  },
  {
   "cell_type": "code",
   "execution_count": 3,
   "metadata": {},
   "outputs": [
    {
     "name": "stdout",
     "output_type": "stream",
     "text": [
      "<class 'pandas.core.frame.DataFrame'>\n",
      "RangeIndex: 17 entries, 0 to 16\n",
      "Data columns (total 5 columns):\n",
      " #   Column       Non-Null Count  Dtype \n",
      "---  ------       --------------  ----- \n",
      " 0   code         17 non-null     object\n",
      " 1   title        17 non-null     object\n",
      " 2   description  17 non-null     object\n",
      " 3   uri          17 non-null     object\n",
      " 4   targets      17 non-null     object\n",
      "dtypes: object(5)\n",
      "memory usage: 808.0+ bytes\n"
     ]
    }
   ],
   "source": [
    "dftot.info()"
   ]
  },
  {
   "cell_type": "code",
   "execution_count": 4,
   "metadata": {},
   "outputs": [
    {
     "data": {
      "text/plain": [
       "0      /v1/sdg/Goal/1\n",
       "1      /v1/sdg/Goal/2\n",
       "2      /v1/sdg/Goal/3\n",
       "3      /v1/sdg/Goal/4\n",
       "4      /v1/sdg/Goal/5\n",
       "5      /v1/sdg/Goal/6\n",
       "6      /v1/sdg/Goal/7\n",
       "7      /v1/sdg/Goal/8\n",
       "8      /v1/sdg/Goal/9\n",
       "9     /v1/sdg/Goal/10\n",
       "10    /v1/sdg/Goal/11\n",
       "11    /v1/sdg/Goal/12\n",
       "12    /v1/sdg/Goal/13\n",
       "13    /v1/sdg/Goal/14\n",
       "14    /v1/sdg/Goal/15\n",
       "15    /v1/sdg/Goal/16\n",
       "16    /v1/sdg/Goal/17\n",
       "Name: uri, dtype: object"
      ]
     },
     "execution_count": 4,
     "metadata": {},
     "output_type": "execute_result"
    }
   ],
   "source": [
    "dftot[\"uri\"]"
   ]
  },
  {
   "cell_type": "markdown",
   "metadata": {},
   "source": []
  },
  {
   "cell_type": "code",
   "execution_count": 5,
   "metadata": {},
   "outputs": [
    {
     "name": "stdout",
     "output_type": "stream",
     "text": [
      "End run:  2022-06-22 10:33:07.547954\n"
     ]
    }
   ],
   "source": [
    "print(\"End run: \", datetime.now())"
   ]
  },
  {
   "cell_type": "code",
   "execution_count": null,
   "metadata": {},
   "outputs": [],
   "source": []
  }
 ],
 "metadata": {
  "kernelspec": {
   "display_name": "Python 3",
   "language": "python",
   "name": "python3"
  },
  "language_info": {
   "codemirror_mode": {
    "name": "ipython",
    "version": 3
   },
   "file_extension": ".py",
   "mimetype": "text/x-python",
   "name": "python",
   "nbconvert_exporter": "python",
   "pygments_lexer": "ipython3",
   "version": "3.9.13"
  }
 },
 "nbformat": 4,
 "nbformat_minor": 4
}
