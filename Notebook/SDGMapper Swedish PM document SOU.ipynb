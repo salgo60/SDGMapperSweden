{
 "cells": [
  {
   "cell_type": "markdown",
   "metadata": {},
   "source": [
    "## Test Swedish PM SOU documents and sent it to SDG mapper\n",
    "version 0.1\n",
    "* This [Jupyter Notebook](https://github.com/salgo60/SDGMapperSweden/blob/main/Notebook/SDGMapper%20Swedish%20PM%20document%20SOU.ipynb)  / GITHUB [SDGMapperSweden](https://github.com/salgo60/SDGMapperSweden)\n",
    "\n",
    "\n",
    "* [Create query at the Swedish PM](http://data.riksdagen.se/dokumentlista/)   \n",
    "\n",
    "\n",
    "### Test \"Vägen till en klimatpositiv framtid\" SOU 2020:4 H8B34\n",
    "* [text](http://data.riksdagen.se/dokument/H8B34.text) / [html](http://data.riksdagen.se/dokument/H8B34.html) /  [json](http://data.riksdagen.se/dokumentlista/?sok=H8B34&utformat=json) \n",
    "\n",
    "\n",
    "## Version history ##\n",
    "* 0.1 \n",
    "* 0.2 looks we have a size problem of SOU documents see [#4](https://github.com/salgo60/SDGMapperSweden/issues/4)\n",
    "* 0.3 changed Exception what is printed see [#4](https://github.com/salgo60/SDGMapperSweden/issues/4) also tracked size of Swedish PM [SOU documents](https://en.wikipedia.org/wiki/Statens_offentliga_utredningar)"
   ]
  },
  {
   "cell_type": "code",
   "execution_count": 1,
   "metadata": {},
   "outputs": [
    {
     "name": "stdout",
     "output_type": "stream",
     "text": [
      "Last run:  2022-06-21 12:41:42.382993\n"
     ]
    }
   ],
   "source": [
    "from datetime import datetime\n",
    "now = datetime.now()\n",
    "print(\"Last run: \", datetime.now())"
   ]
  },
  {
   "cell_type": "code",
   "execution_count": 2,
   "metadata": {},
   "outputs": [],
   "source": [
    "class RenderHyperlink(object):\n",
    "    def __init__(self, key, link, *args):\n",
    "        link = link + \"/\" if not link.endswith(\"/\") else link\n",
    "        \n",
    "        for arg in args:\n",
    "            link += arg + \"/\"         \n",
    "        self.__url = \"<a href={}>{}</a>\".format(link, key)\n",
    "    \n",
    "    def __repr__(self):\n",
    "        from IPython.core.display import display, HTML\n",
    "        display(HTML(self.__url))\n",
    "        return \"\" \n"
   ]
  },
  {
   "cell_type": "code",
   "execution_count": 3,
   "metadata": {},
   "outputs": [],
   "source": [
    "# Document text from html\n",
    "from bs4 import BeautifulSoup\n",
    "import requests,time,json\n",
    "tracksizeProblem = 1000000\n",
    "tracksizeOk = 0\n",
    "trackbiggestSOUdocument = 0 \n",
    "\n",
    "def SDGMapperHTML(urlhtml):\n",
    "    global tracksizeProblem\n",
    "    global tracksizeOk\n",
    "    global trackbiggestSOUdocument\n",
    "    req = requests.get(urlhtml)\n",
    "    \n",
    "    #jsondata = json.loads(doc_json)\n",
    "    #doc_txt = jsondata[\"dokumentstatus\"][\"dokument\"][\"text\"]\n",
    "    soup = BeautifulSoup(req.content, 'html.parser')\n",
    "    #print(soup)\n",
    "    doc_txt = soup.get_text()\n",
    "    #print(doc_txt)\n",
    "    print(\"Length text:\\t\",len(doc_txt))\n",
    "    if len(doc_txt) > trackbiggestSOUdocument:\n",
    "        trackbiggestSOUdocument = len(doc_txt) \n",
    "\n",
    "    try:\n",
    "        if len(doc_txt):\n",
    "            urlSDGMapper = \"https://knowsdgs.jrc.ec.europa.eu/\"\n",
    "            s = requests.Session()\n",
    "            tkn = s.post(urlSDGMapper + \"session/token\")\n",
    "            time.sleep(6)\n",
    "\n",
    "            myKey = \"db0c87cbdf761defc71ea93010fdde41\"\n",
    "\n",
    "            headers = {\"Content-Type\": \"application/json\", \"X-Csrf-Token\": tkn.text, \"X-Api-Key\": myKey }\n",
    "            rSDG = s.post(urlSDGMapper + \"api/rest/mappingdata\", headers=headers, json={\"input_text\": doc_txt})\n",
    "            print(rSDG)\n",
    "            jsonSDG = json.loads(rSDG.text)\n",
    "            print(jsonSDG)\n",
    "            if len(doc_txt) > tracksizeOk:\n",
    "                tracksizeOk = len(doc_txt)\n",
    "                print(\"new ok higher size \",tracksizeOk)            \n",
    "\n",
    "        else:\n",
    "            print(\"\\t No text\")\n",
    "    except Exception as e: \n",
    "        print(\"Exception:\\t\",e)\n",
    "        print(rSDG.text)\n",
    "\n",
    "        if len(doc_txt) < tracksizeProblem:          \n",
    "            tracksizeProblem = len(doc_txt)\n",
    "            print(\"new error lower size \",tracksizeProblem)            \n",
    "    return \n",
    "#SDGMapper(\"This is a test text\")"
   ]
  },
  {
   "cell_type": "code",
   "execution_count": 4,
   "metadata": {},
   "outputs": [
    {
     "data": {
      "application/vnd.jupyter.widget-view+json": {
       "model_id": "0d9c2f2559be4f47b807f89ca5be4906",
       "version_major": 2,
       "version_minor": 0
      },
      "text/plain": [
       "  0%|          | 0/9 [00:00<?, ?it/s]"
      ]
     },
     "metadata": {},
     "output_type": "display_data"
    },
    {
     "data": {
      "text/html": [
       "<div>\n",
       "<style scoped>\n",
       "    .dataframe tbody tr th:only-of-type {\n",
       "        vertical-align: middle;\n",
       "    }\n",
       "\n",
       "    .dataframe tbody tr th {\n",
       "        vertical-align: top;\n",
       "    }\n",
       "\n",
       "    .dataframe thead th {\n",
       "        text-align: right;\n",
       "    }\n",
       "</style>\n",
       "<table border=\"1\" class=\"dataframe\">\n",
       "  <thead>\n",
       "    <tr style=\"text-align: right;\">\n",
       "      <th></th>\n",
       "      <th>traff</th>\n",
       "      <th>domain</th>\n",
       "      <th>database</th>\n",
       "      <th>datum</th>\n",
       "      <th>id</th>\n",
       "      <th>rdrest</th>\n",
       "      <th>slutdatum</th>\n",
       "      <th>rddata</th>\n",
       "      <th>plats</th>\n",
       "      <th>klockslag</th>\n",
       "      <th>publicerad</th>\n",
       "      <th>systemdatum</th>\n",
       "      <th>undertitel</th>\n",
       "      <th>kalla</th>\n",
       "      <th>kall_id</th>\n",
       "      <th>dok_id</th>\n",
       "      <th>dokumentformat</th>\n",
       "      <th>dokument_url_text</th>\n",
       "      <th>dokument_url_html</th>\n",
       "      <th>inlamnad</th>\n",
       "      <th>motionstid</th>\n",
       "      <th>tilldelat</th>\n",
       "      <th>lang</th>\n",
       "      <th>url</th>\n",
       "      <th>relurl</th>\n",
       "      <th>titel</th>\n",
       "      <th>rm</th>\n",
       "      <th>organ</th>\n",
       "      <th>relaterat_id</th>\n",
       "      <th>doktyp</th>\n",
       "      <th>typ</th>\n",
       "      <th>subtyp</th>\n",
       "      <th>beteckning</th>\n",
       "      <th>tempbeteckning</th>\n",
       "      <th>nummer</th>\n",
       "      <th>status</th>\n",
       "      <th>score</th>\n",
       "      <th>sokdata</th>\n",
       "      <th>summary</th>\n",
       "      <th>notisrubrik</th>\n",
       "      <th>notis</th>\n",
       "      <th>dokintressent</th>\n",
       "      <th>filbilaga</th>\n",
       "      <th>avdelning</th>\n",
       "      <th>struktur</th>\n",
       "      <th>audio</th>\n",
       "      <th>video</th>\n",
       "      <th>debattgrupp</th>\n",
       "      <th>debattdag</th>\n",
       "      <th>beslutsdag</th>\n",
       "      <th>beredningsdag</th>\n",
       "      <th>justeringsdag</th>\n",
       "      <th>beslutad</th>\n",
       "      <th>debattsekunder</th>\n",
       "      <th>ardometyp</th>\n",
       "      <th>reservationer</th>\n",
       "      <th>debatt</th>\n",
       "      <th>debattnamn</th>\n",
       "      <th>dokumentnamn</th>\n",
       "    </tr>\n",
       "  </thead>\n",
       "  <tbody>\n",
       "    <tr>\n",
       "      <th>0</th>\n",
       "      <td>1</td>\n",
       "      <td>rdwebb</td>\n",
       "      <td>dokument</td>\n",
       "      <td>2022-01-28</td>\n",
       "      <td>HAB33</td>\n",
       "      <td>None</td>\n",
       "      <td></td>\n",
       "      <td>None</td>\n",
       "      <td></td>\n",
       "      <td></td>\n",
       "      <td>2022-01-28</td>\n",
       "      <td>2022-02-03 14:46:31</td>\n",
       "      <td></td>\n",
       "      <td></td>\n",
       "      <td></td>\n",
       "      <td>HAB33</td>\n",
       "      <td></td>\n",
       "      <td>//data.riksdagen.se/dokument/HAB33.text</td>\n",
       "      <td>//data.riksdagen.se/dokument/HAB33.html</td>\n",
       "      <td></td>\n",
       "      <td></td>\n",
       "      <td></td>\n",
       "      <td></td>\n",
       "      <td></td>\n",
       "      <td></td>\n",
       "      <td>Sveriges tillgång till vaccin mot covid-19 - f...</td>\n",
       "      <td>2022</td>\n",
       "      <td></td>\n",
       "      <td></td>\n",
       "      <td>sou</td>\n",
       "      <td>sou</td>\n",
       "      <td></td>\n",
       "      <td>3</td>\n",
       "      <td></td>\n",
       "      <td>3</td>\n",
       "      <td></td>\n",
       "      <td>276</td>\n",
       "      <td>{'titel': 'Sveriges tillgång till vaccin mot c...</td>\n",
       "      <td>sou 2022 3  Sveriges tillgång till vaccin mot ...</td>\n",
       "      <td>Sveriges tillgång till vaccin mot covid-19 - f...</td>\n",
       "      <td>sou 2022 3  Sveriges tillgång till vaccin mot ...</td>\n",
       "      <td>None</td>\n",
       "      <td>{'fil': [{'typ': 'pdf', 'namn': 'sou_2022__3.p...</td>\n",
       "      <td>dokument</td>\n",
       "      <td></td>\n",
       "      <td></td>\n",
       "      <td></td>\n",
       "      <td></td>\n",
       "      <td></td>\n",
       "      <td></td>\n",
       "      <td></td>\n",
       "      <td></td>\n",
       "      <td></td>\n",
       "      <td></td>\n",
       "      <td></td>\n",
       "      <td></td>\n",
       "      <td>None</td>\n",
       "      <td>Statens offentliga utredningar</td>\n",
       "      <td>Statens offentliga utredningar</td>\n",
       "    </tr>\n",
       "    <tr>\n",
       "      <th>1</th>\n",
       "      <td>2</td>\n",
       "      <td>rdwebb</td>\n",
       "      <td>dokument</td>\n",
       "      <td>2022-02-02</td>\n",
       "      <td>HAB32</td>\n",
       "      <td>None</td>\n",
       "      <td></td>\n",
       "      <td>None</td>\n",
       "      <td></td>\n",
       "      <td></td>\n",
       "      <td>2022-02-02</td>\n",
       "      <td>2022-02-03 14:45:32</td>\n",
       "      <td></td>\n",
       "      <td></td>\n",
       "      <td></td>\n",
       "      <td>HAB32</td>\n",
       "      <td></td>\n",
       "      <td>//data.riksdagen.se/dokument/HAB32.text</td>\n",
       "      <td>//data.riksdagen.se/dokument/HAB32.html</td>\n",
       "      <td></td>\n",
       "      <td></td>\n",
       "      <td></td>\n",
       "      <td></td>\n",
       "      <td></td>\n",
       "      <td></td>\n",
       "      <td>En skärpt syn på brott mot journalister och ut...</td>\n",
       "      <td>2022</td>\n",
       "      <td></td>\n",
       "      <td></td>\n",
       "      <td>sou</td>\n",
       "      <td>sou</td>\n",
       "      <td></td>\n",
       "      <td>2</td>\n",
       "      <td></td>\n",
       "      <td>2</td>\n",
       "      <td></td>\n",
       "      <td>276</td>\n",
       "      <td>{'titel': 'En skärpt syn på brott mot journali...</td>\n",
       "      <td>sou 2022 2  En skärpt syn på brott mot journal...</td>\n",
       "      <td>En skärpt syn på brott mot journalister och ut...</td>\n",
       "      <td>sou 2022 2  En skärpt syn på brott mot journal...</td>\n",
       "      <td>None</td>\n",
       "      <td>{'fil': [{'typ': 'pdf', 'namn': 'sou_2022__2.p...</td>\n",
       "      <td>dokument</td>\n",
       "      <td></td>\n",
       "      <td></td>\n",
       "      <td></td>\n",
       "      <td></td>\n",
       "      <td></td>\n",
       "      <td></td>\n",
       "      <td></td>\n",
       "      <td></td>\n",
       "      <td></td>\n",
       "      <td></td>\n",
       "      <td></td>\n",
       "      <td></td>\n",
       "      <td>None</td>\n",
       "      <td>Statens offentliga utredningar</td>\n",
       "      <td>Statens offentliga utredningar</td>\n",
       "    </tr>\n",
       "    <tr>\n",
       "      <th>2</th>\n",
       "      <td>3</td>\n",
       "      <td>rdwebb</td>\n",
       "      <td>dokument</td>\n",
       "      <td>2022-01-26</td>\n",
       "      <td>HAB31</td>\n",
       "      <td>None</td>\n",
       "      <td></td>\n",
       "      <td>None</td>\n",
       "      <td></td>\n",
       "      <td></td>\n",
       "      <td>2022-01-26</td>\n",
       "      <td>2022-01-26 12:47:51</td>\n",
       "      <td></td>\n",
       "      <td></td>\n",
       "      <td></td>\n",
       "      <td>HAB31</td>\n",
       "      <td></td>\n",
       "      <td>//data.riksdagen.se/dokument/HAB31.text</td>\n",
       "      <td>//data.riksdagen.se/dokument/HAB31.html</td>\n",
       "      <td></td>\n",
       "      <td></td>\n",
       "      <td></td>\n",
       "      <td></td>\n",
       "      <td></td>\n",
       "      <td></td>\n",
       "      <td>Förbättrade åtgärder när barn misstänks för br...</td>\n",
       "      <td>2022</td>\n",
       "      <td></td>\n",
       "      <td></td>\n",
       "      <td>sou</td>\n",
       "      <td>sou</td>\n",
       "      <td></td>\n",
       "      <td>1</td>\n",
       "      <td></td>\n",
       "      <td>1</td>\n",
       "      <td></td>\n",
       "      <td>276</td>\n",
       "      <td>{'titel': 'Förbättrade åtgärder när barn misst...</td>\n",
       "      <td>sou 2022 1  Förbättrade åtgärder när barn miss...</td>\n",
       "      <td>Förbättrade åtgärder när barn misstänks för br...</td>\n",
       "      <td>sou 2022 1  Förbättrade åtgärder när barn miss...</td>\n",
       "      <td>None</td>\n",
       "      <td>{'fil': [{'typ': 'pdf', 'namn': 'sou_2022__1.p...</td>\n",
       "      <td>dokument</td>\n",
       "      <td></td>\n",
       "      <td></td>\n",
       "      <td></td>\n",
       "      <td></td>\n",
       "      <td></td>\n",
       "      <td></td>\n",
       "      <td></td>\n",
       "      <td></td>\n",
       "      <td></td>\n",
       "      <td></td>\n",
       "      <td></td>\n",
       "      <td></td>\n",
       "      <td>None</td>\n",
       "      <td>Statens offentliga utredningar</td>\n",
       "      <td>Statens offentliga utredningar</td>\n",
       "    </tr>\n",
       "    <tr>\n",
       "      <th>3</th>\n",
       "      <td>4</td>\n",
       "      <td>rdwebb</td>\n",
       "      <td>dokument</td>\n",
       "      <td>2022-05-16</td>\n",
       "      <td>HAB323</td>\n",
       "      <td>None</td>\n",
       "      <td></td>\n",
       "      <td>None</td>\n",
       "      <td></td>\n",
       "      <td></td>\n",
       "      <td>2022-05-16</td>\n",
       "      <td>2022-05-20 10:23:10</td>\n",
       "      <td></td>\n",
       "      <td></td>\n",
       "      <td></td>\n",
       "      <td>HAB323</td>\n",
       "      <td></td>\n",
       "      <td>//data.riksdagen.se/dokument/HAB323.text</td>\n",
       "      <td>//data.riksdagen.se/dokument/HAB323.html</td>\n",
       "      <td></td>\n",
       "      <td></td>\n",
       "      <td></td>\n",
       "      <td></td>\n",
       "      <td></td>\n",
       "      <td></td>\n",
       "      <td>En oavvislig ersättningsrätt?</td>\n",
       "      <td>2022</td>\n",
       "      <td></td>\n",
       "      <td></td>\n",
       "      <td>sou</td>\n",
       "      <td>sou</td>\n",
       "      <td></td>\n",
       "      <td>23</td>\n",
       "      <td></td>\n",
       "      <td>23</td>\n",
       "      <td></td>\n",
       "      <td>276</td>\n",
       "      <td>{'titel': 'En oavvislig ersättningsrätt?', 'un...</td>\n",
       "      <td>En oavvislig ersättningsrätt Betänkande av\\n U...</td>\n",
       "      <td>En oavvislig ersättningsrätt?</td>\n",
       "      <td>En oavvislig ersättningsrätt Betänkande av\\n U...</td>\n",
       "      <td>None</td>\n",
       "      <td>{'fil': [{'typ': 'pdf', 'namn': 'sou_2022__23....</td>\n",
       "      <td>dokument</td>\n",
       "      <td></td>\n",
       "      <td></td>\n",
       "      <td></td>\n",
       "      <td></td>\n",
       "      <td></td>\n",
       "      <td></td>\n",
       "      <td></td>\n",
       "      <td></td>\n",
       "      <td></td>\n",
       "      <td></td>\n",
       "      <td></td>\n",
       "      <td></td>\n",
       "      <td>None</td>\n",
       "      <td>Statens offentliga utredningar</td>\n",
       "      <td>Statens offentliga utredningar</td>\n",
       "    </tr>\n",
       "    <tr>\n",
       "      <th>4</th>\n",
       "      <td>5</td>\n",
       "      <td>rdwebb</td>\n",
       "      <td>dokument</td>\n",
       "      <td>2022-05-18</td>\n",
       "      <td>HAB321</td>\n",
       "      <td>None</td>\n",
       "      <td></td>\n",
       "      <td>None</td>\n",
       "      <td></td>\n",
       "      <td></td>\n",
       "      <td>2022-05-18</td>\n",
       "      <td>2022-05-20 10:23:39</td>\n",
       "      <td></td>\n",
       "      <td></td>\n",
       "      <td></td>\n",
       "      <td>HAB321</td>\n",
       "      <td></td>\n",
       "      <td>//data.riksdagen.se/dokument/HAB321.text</td>\n",
       "      <td>//data.riksdagen.se/dokument/HAB321.html</td>\n",
       "      <td></td>\n",
       "      <td></td>\n",
       "      <td></td>\n",
       "      <td></td>\n",
       "      <td></td>\n",
       "      <td></td>\n",
       "      <td>Rätt för klimatet</td>\n",
       "      <td>2022</td>\n",
       "      <td></td>\n",
       "      <td></td>\n",
       "      <td>sou</td>\n",
       "      <td>sou</td>\n",
       "      <td></td>\n",
       "      <td>21</td>\n",
       "      <td></td>\n",
       "      <td>21</td>\n",
       "      <td></td>\n",
       "      <td>276</td>\n",
       "      <td>{'titel': 'Rätt för klimatet', 'undertitel': '...</td>\n",
       "      <td>sou 2022 21  Rätt för klimatet\\n Slutbetänkand...</td>\n",
       "      <td>Rätt för klimatet</td>\n",
       "      <td>sou 2022 21  Rätt för klimatet\\n Slutbetänkand...</td>\n",
       "      <td>None</td>\n",
       "      <td>{'fil': [{'typ': 'pdf', 'namn': 'sou_2022__21....</td>\n",
       "      <td>dokument</td>\n",
       "      <td></td>\n",
       "      <td></td>\n",
       "      <td></td>\n",
       "      <td></td>\n",
       "      <td></td>\n",
       "      <td></td>\n",
       "      <td></td>\n",
       "      <td></td>\n",
       "      <td></td>\n",
       "      <td></td>\n",
       "      <td></td>\n",
       "      <td></td>\n",
       "      <td>None</td>\n",
       "      <td>Statens offentliga utredningar</td>\n",
       "      <td>Statens offentliga utredningar</td>\n",
       "    </tr>\n",
       "  </tbody>\n",
       "</table>\n",
       "</div>"
      ],
      "text/plain": [
       "  traff  domain  database       datum      id rdrest slutdatum rddata plats  \\\n",
       "0     1  rdwebb  dokument  2022-01-28   HAB33   None             None         \n",
       "1     2  rdwebb  dokument  2022-02-02   HAB32   None             None         \n",
       "2     3  rdwebb  dokument  2022-01-26   HAB31   None             None         \n",
       "3     4  rdwebb  dokument  2022-05-16  HAB323   None             None         \n",
       "4     5  rdwebb  dokument  2022-05-18  HAB321   None             None         \n",
       "\n",
       "  klockslag  publicerad          systemdatum undertitel kalla kall_id  dok_id  \\\n",
       "0            2022-01-28  2022-02-03 14:46:31                            HAB33   \n",
       "1            2022-02-02  2022-02-03 14:45:32                            HAB32   \n",
       "2            2022-01-26  2022-01-26 12:47:51                            HAB31   \n",
       "3            2022-05-16  2022-05-20 10:23:10                           HAB323   \n",
       "4            2022-05-18  2022-05-20 10:23:39                           HAB321   \n",
       "\n",
       "  dokumentformat                         dokument_url_text  \\\n",
       "0                  //data.riksdagen.se/dokument/HAB33.text   \n",
       "1                  //data.riksdagen.se/dokument/HAB32.text   \n",
       "2                  //data.riksdagen.se/dokument/HAB31.text   \n",
       "3                 //data.riksdagen.se/dokument/HAB323.text   \n",
       "4                 //data.riksdagen.se/dokument/HAB321.text   \n",
       "\n",
       "                          dokument_url_html inlamnad motionstid tilldelat  \\\n",
       "0   //data.riksdagen.se/dokument/HAB33.html                                 \n",
       "1   //data.riksdagen.se/dokument/HAB32.html                                 \n",
       "2   //data.riksdagen.se/dokument/HAB31.html                                 \n",
       "3  //data.riksdagen.se/dokument/HAB323.html                                 \n",
       "4  //data.riksdagen.se/dokument/HAB321.html                                 \n",
       "\n",
       "  lang url relurl                                              titel    rm  \\\n",
       "0                  Sveriges tillgång till vaccin mot covid-19 - f...  2022   \n",
       "1                  En skärpt syn på brott mot journalister och ut...  2022   \n",
       "2                  Förbättrade åtgärder när barn misstänks för br...  2022   \n",
       "3                                      En oavvislig ersättningsrätt?  2022   \n",
       "4                                                  Rätt för klimatet  2022   \n",
       "\n",
       "  organ relaterat_id doktyp  typ subtyp beteckning tempbeteckning nummer  \\\n",
       "0                       sou  sou                 3                     3   \n",
       "1                       sou  sou                 2                     2   \n",
       "2                       sou  sou                 1                     1   \n",
       "3                       sou  sou                23                    23   \n",
       "4                       sou  sou                21                    21   \n",
       "\n",
       "  status score                                            sokdata  \\\n",
       "0          276  {'titel': 'Sveriges tillgång till vaccin mot c...   \n",
       "1          276  {'titel': 'En skärpt syn på brott mot journali...   \n",
       "2          276  {'titel': 'Förbättrade åtgärder när barn misst...   \n",
       "3          276  {'titel': 'En oavvislig ersättningsrätt?', 'un...   \n",
       "4          276  {'titel': 'Rätt för klimatet', 'undertitel': '...   \n",
       "\n",
       "                                             summary  \\\n",
       "0  sou 2022 3  Sveriges tillgång till vaccin mot ...   \n",
       "1  sou 2022 2  En skärpt syn på brott mot journal...   \n",
       "2  sou 2022 1  Förbättrade åtgärder när barn miss...   \n",
       "3  En oavvislig ersättningsrätt Betänkande av\\n U...   \n",
       "4  sou 2022 21  Rätt för klimatet\\n Slutbetänkand...   \n",
       "\n",
       "                                         notisrubrik  \\\n",
       "0  Sveriges tillgång till vaccin mot covid-19 - f...   \n",
       "1  En skärpt syn på brott mot journalister och ut...   \n",
       "2  Förbättrade åtgärder när barn misstänks för br...   \n",
       "3                      En oavvislig ersättningsrätt?   \n",
       "4                                  Rätt för klimatet   \n",
       "\n",
       "                                               notis dokintressent  \\\n",
       "0  sou 2022 3  Sveriges tillgång till vaccin mot ...          None   \n",
       "1  sou 2022 2  En skärpt syn på brott mot journal...          None   \n",
       "2  sou 2022 1  Förbättrade åtgärder när barn miss...          None   \n",
       "3  En oavvislig ersättningsrätt Betänkande av\\n U...          None   \n",
       "4  sou 2022 21  Rätt för klimatet\\n Slutbetänkand...          None   \n",
       "\n",
       "                                           filbilaga avdelning struktur audio  \\\n",
       "0  {'fil': [{'typ': 'pdf', 'namn': 'sou_2022__3.p...  dokument                  \n",
       "1  {'fil': [{'typ': 'pdf', 'namn': 'sou_2022__2.p...  dokument                  \n",
       "2  {'fil': [{'typ': 'pdf', 'namn': 'sou_2022__1.p...  dokument                  \n",
       "3  {'fil': [{'typ': 'pdf', 'namn': 'sou_2022__23....  dokument                  \n",
       "4  {'fil': [{'typ': 'pdf', 'namn': 'sou_2022__21....  dokument                  \n",
       "\n",
       "  video debattgrupp debattdag beslutsdag beredningsdag justeringsdag beslutad  \\\n",
       "0                                                                               \n",
       "1                                                                               \n",
       "2                                                                               \n",
       "3                                                                               \n",
       "4                                                                               \n",
       "\n",
       "  debattsekunder ardometyp reservationer debatt  \\\n",
       "0                                          None   \n",
       "1                                          None   \n",
       "2                                          None   \n",
       "3                                          None   \n",
       "4                                          None   \n",
       "\n",
       "                       debattnamn                    dokumentnamn  \n",
       "0  Statens offentliga utredningar  Statens offentliga utredningar  \n",
       "1  Statens offentliga utredningar  Statens offentliga utredningar  \n",
       "2  Statens offentliga utredningar  Statens offentliga utredningar  \n",
       "3  Statens offentliga utredningar  Statens offentliga utredningar  \n",
       "4  Statens offentliga utredningar  Statens offentliga utredningar  "
      ]
     },
     "execution_count": 4,
     "metadata": {},
     "output_type": "execute_result"
    }
   ],
   "source": [
    "import warnings\n",
    "warnings.simplefilter(action='ignore', category=FutureWarning)\n",
    "# Appended depreceated \n",
    "\n",
    "import pandas\n",
    "import urllib3, json\n",
    "import pandas as pd \n",
    "from tqdm.notebook import trange  \n",
    "http = urllib3.PoolManager() \n",
    "pd.set_option(\"display.max.columns\", None) \n",
    "urlbase =\"http://data.riksdagen.se/dokumentlista/?sok=&doktyp=sou&rm=&from=&tom=&ts=&bet=&tempbet=&nr=&org=&iid=&webbtv=&talare=&exakt=&planering=&sort=rel&sortorder=desc&rapport=&utformat=json&a=s&start=\"\n",
    "\n",
    "\n",
    "dftot = pd.DataFrame()\n",
    "for i in trange(1,215): \n",
    "#for i in trange(1,10): \n",
    "    url = urlbase + str(i)\n",
    "    r = http.request('GET', url)\n",
    "    data = json.loads(r.data)\n",
    "    r = http.request('GET', url)\n",
    "    dftot = dftot.append(pd.DataFrame(data[\"dokumentlista\"][\"dokument\"]),sort=False)\n",
    "dftot.head()\n"
   ]
  },
  {
   "cell_type": "code",
   "execution_count": 5,
   "metadata": {},
   "outputs": [
    {
     "name": "stdout",
     "output_type": "stream",
     "text": [
      "<class 'pandas.core.frame.DataFrame'>\n",
      "Int64Index: 180 entries, 0 to 19\n",
      "Data columns (total 59 columns):\n",
      " #   Column             Non-Null Count  Dtype \n",
      "---  ------             --------------  ----- \n",
      " 0   traff              180 non-null    object\n",
      " 1   domain             180 non-null    object\n",
      " 2   database           180 non-null    object\n",
      " 3   datum              180 non-null    object\n",
      " 4   id                 180 non-null    object\n",
      " 5   rdrest             0 non-null      object\n",
      " 6   slutdatum          180 non-null    object\n",
      " 7   rddata             0 non-null      object\n",
      " 8   plats              180 non-null    object\n",
      " 9   klockslag          180 non-null    object\n",
      " 10  publicerad         180 non-null    object\n",
      " 11  systemdatum        180 non-null    object\n",
      " 12  undertitel         180 non-null    object\n",
      " 13  kalla              180 non-null    object\n",
      " 14  kall_id            180 non-null    object\n",
      " 15  dok_id             180 non-null    object\n",
      " 16  dokumentformat     180 non-null    object\n",
      " 17  dokument_url_text  180 non-null    object\n",
      " 18  dokument_url_html  180 non-null    object\n",
      " 19  inlamnad           180 non-null    object\n",
      " 20  motionstid         180 non-null    object\n",
      " 21  tilldelat          180 non-null    object\n",
      " 22  lang               180 non-null    object\n",
      " 23  url                180 non-null    object\n",
      " 24  relurl             180 non-null    object\n",
      " 25  titel              180 non-null    object\n",
      " 26  rm                 180 non-null    object\n",
      " 27  organ              180 non-null    object\n",
      " 28  relaterat_id       180 non-null    object\n",
      " 29  doktyp             180 non-null    object\n",
      " 30  typ                180 non-null    object\n",
      " 31  subtyp             180 non-null    object\n",
      " 32  beteckning         180 non-null    object\n",
      " 33  tempbeteckning     180 non-null    object\n",
      " 34  nummer             180 non-null    object\n",
      " 35  status             180 non-null    object\n",
      " 36  score              180 non-null    object\n",
      " 37  sokdata            180 non-null    object\n",
      " 38  summary            180 non-null    object\n",
      " 39  notisrubrik        180 non-null    object\n",
      " 40  notis              180 non-null    object\n",
      " 41  dokintressent      0 non-null      object\n",
      " 42  filbilaga          177 non-null    object\n",
      " 43  avdelning          180 non-null    object\n",
      " 44  struktur           180 non-null    object\n",
      " 45  audio              180 non-null    object\n",
      " 46  video              180 non-null    object\n",
      " 47  debattgrupp        180 non-null    object\n",
      " 48  debattdag          180 non-null    object\n",
      " 49  beslutsdag         180 non-null    object\n",
      " 50  beredningsdag      180 non-null    object\n",
      " 51  justeringsdag      180 non-null    object\n",
      " 52  beslutad           180 non-null    object\n",
      " 53  debattsekunder     180 non-null    object\n",
      " 54  ardometyp          180 non-null    object\n",
      " 55  reservationer      180 non-null    object\n",
      " 56  debatt             0 non-null      object\n",
      " 57  debattnamn         180 non-null    object\n",
      " 58  dokumentnamn       180 non-null    object\n",
      "dtypes: object(59)\n",
      "memory usage: 84.4+ KB\n"
     ]
    }
   ],
   "source": [
    "dftot.info()"
   ]
  },
  {
   "cell_type": "markdown",
   "metadata": {},
   "source": [
    "### Call SDGMapper"
   ]
  },
  {
   "cell_type": "code",
   "execution_count": 6,
   "metadata": {},
   "outputs": [
    {
     "name": "stdout",
     "output_type": "stream",
     "text": [
      "\n",
      " HAB33\n",
      "\tjson url: http://data.riksdagen.se/dokument/HAB33.json\n",
      "\tdoc url: https://www.riksdagen.se/sv/dokument-lagar/dokument/_HAB33\n",
      "\thtml url: http://data.riksdagen.se/dokument/HAB33\n",
      "\t "
     ]
    },
    {
     "data": {
      "text/html": [
       "<a href=https://www.riksdagen.se/sv/dokument-lagar/dokument/_HAB33/></a>"
      ],
      "text/plain": [
       "<IPython.core.display.HTML object>"
      ]
     },
     "metadata": {},
     "output_type": "display_data"
    },
    {
     "name": "stdout",
     "output_type": "stream",
     "text": [
      "\n",
      "Length text:\t 654393\n",
      "<Response [403]>\n",
      "Exception:\t Expecting value: line 1 column 1 (char 0)\n",
      "<html><head><title>Request Rejected</title></head><body>The requested URL was rejected. Please contact for more information jrc-waf[at]ec.europa.eu.<br><br>Your support ID is: 484695479898024092<br><br><a href='javascript:history.back();'>[Go Back]</a></body></html>\n",
      "new error lower size  654393\n",
      "\n",
      " HAB32\n",
      "\tjson url: http://data.riksdagen.se/dokument/HAB32.json\n",
      "\tdoc url: https://www.riksdagen.se/sv/dokument-lagar/dokument/_HAB32\n",
      "\thtml url: http://data.riksdagen.se/dokument/HAB32\n",
      "\t "
     ]
    },
    {
     "data": {
      "text/html": [
       "<a href=https://www.riksdagen.se/sv/dokument-lagar/dokument/_HAB32/></a>"
      ],
      "text/plain": [
       "<IPython.core.display.HTML object>"
      ]
     },
     "metadata": {},
     "output_type": "display_data"
    },
    {
     "name": "stdout",
     "output_type": "stream",
     "text": [
      "\n",
      "Length text:\t 941094\n",
      "<Response [403]>\n",
      "Exception:\t Expecting value: line 1 column 1 (char 0)\n",
      "<html><head><title>Request Rejected</title></head><body>The requested URL was rejected. Please contact for more information jrc-waf[at]ec.europa.eu.<br><br>Your support ID is: 484695479898030420<br><br><a href='javascript:history.back();'>[Go Back]</a></body></html>\n",
      "\n",
      " HAB31\n",
      "\tjson url: http://data.riksdagen.se/dokument/HAB31.json\n",
      "\tdoc url: https://www.riksdagen.se/sv/dokument-lagar/dokument/_HAB31\n",
      "\thtml url: http://data.riksdagen.se/dokument/HAB31\n",
      "\t "
     ]
    },
    {
     "data": {
      "text/html": [
       "<a href=https://www.riksdagen.se/sv/dokument-lagar/dokument/_HAB31/></a>"
      ],
      "text/plain": [
       "<IPython.core.display.HTML object>"
      ]
     },
     "metadata": {},
     "output_type": "display_data"
    },
    {
     "name": "stdout",
     "output_type": "stream",
     "text": [
      "\n",
      "Length text:\t 755541\n",
      "<Response [403]>\n",
      "Exception:\t Expecting value: line 1 column 1 (char 0)\n",
      "<html><head><title>Request Rejected</title></head><body>The requested URL was rejected. Please contact for more information jrc-waf[at]ec.europa.eu.<br><br>Your support ID is: 484695481543693373<br><br><a href='javascript:history.back();'>[Go Back]</a></body></html>\n",
      "\n",
      " HAB323\n",
      "\tjson url: http://data.riksdagen.se/dokument/HAB323.json\n",
      "\tdoc url: https://www.riksdagen.se/sv/dokument-lagar/dokument/_HAB323\n",
      "\thtml url: http://data.riksdagen.se/dokument/HAB323\n",
      "\t "
     ]
    },
    {
     "data": {
      "text/html": [
       "<a href=https://www.riksdagen.se/sv/dokument-lagar/dokument/_HAB323/></a>"
      ],
      "text/plain": [
       "<IPython.core.display.HTML object>"
      ]
     },
     "metadata": {},
     "output_type": "display_data"
    },
    {
     "name": "stdout",
     "output_type": "stream",
     "text": [
      "\n",
      "Length text:\t 481247\n",
      "<Response [403]>\n",
      "Exception:\t Expecting value: line 1 column 1 (char 0)\n",
      "<html><head><title>Request Rejected</title></head><body>The requested URL was rejected. Please contact for more information jrc-waf[at]ec.europa.eu.<br><br>Your support ID is: 484695481543707117<br><br><a href='javascript:history.back();'>[Go Back]</a></body></html>\n",
      "new error lower size  481247\n",
      "\n",
      " HAB321\n",
      "\tjson url: http://data.riksdagen.se/dokument/HAB321.json\n",
      "\tdoc url: https://www.riksdagen.se/sv/dokument-lagar/dokument/_HAB321\n",
      "\thtml url: http://data.riksdagen.se/dokument/HAB321\n",
      "\t "
     ]
    },
    {
     "data": {
      "text/html": [
       "<a href=https://www.riksdagen.se/sv/dokument-lagar/dokument/_HAB321/></a>"
      ],
      "text/plain": [
       "<IPython.core.display.HTML object>"
      ]
     },
     "metadata": {},
     "output_type": "display_data"
    },
    {
     "name": "stdout",
     "output_type": "stream",
     "text": [
      "\n",
      "Length text:\t 1454341\n",
      "<Response [403]>\n",
      "Exception:\t Expecting value: line 1 column 1 (char 0)\n",
      "<html><head><title>Request Rejected</title></head><body>The requested URL was rejected. Please contact for more information jrc-waf[at]ec.europa.eu.<br><br>Your support ID is: 484695479898051012<br><br><a href='javascript:history.back();'>[Go Back]</a></body></html>\n",
      "\n",
      " HAB34\n",
      "\tjson url: http://data.riksdagen.se/dokument/HAB34.json\n",
      "\tdoc url: https://www.riksdagen.se/sv/dokument-lagar/dokument/_HAB34\n",
      "\thtml url: http://data.riksdagen.se/dokument/HAB34\n",
      "\t "
     ]
    },
    {
     "data": {
      "text/html": [
       "<a href=https://www.riksdagen.se/sv/dokument-lagar/dokument/_HAB34/></a>"
      ],
      "text/plain": [
       "<IPython.core.display.HTML object>"
      ]
     },
     "metadata": {},
     "output_type": "display_data"
    },
    {
     "name": "stdout",
     "output_type": "stream",
     "text": [
      "\n",
      "Length text:\t 1483720\n",
      "<Response [403]>\n",
      "Exception:\t Expecting value: line 1 column 1 (char 0)\n",
      "<html><head><title>Request Rejected</title></head><body>The requested URL was rejected. Please contact for more information jrc-waf[at]ec.europa.eu.<br><br>Your support ID is: 484695479898059076<br><br><a href='javascript:history.back();'>[Go Back]</a></body></html>\n",
      "\n",
      " HAB36\n",
      "\tjson url: http://data.riksdagen.se/dokument/HAB36.json\n",
      "\tdoc url: https://www.riksdagen.se/sv/dokument-lagar/dokument/_HAB36\n",
      "\thtml url: http://data.riksdagen.se/dokument/HAB36\n",
      "\t "
     ]
    },
    {
     "data": {
      "text/html": [
       "<a href=https://www.riksdagen.se/sv/dokument-lagar/dokument/_HAB36/></a>"
      ],
      "text/plain": [
       "<IPython.core.display.HTML object>"
      ]
     },
     "metadata": {},
     "output_type": "display_data"
    },
    {
     "name": "stdout",
     "output_type": "stream",
     "text": [
      "\n",
      "Length text:\t 1008764\n",
      "<Response [403]>\n",
      "Exception:\t Expecting value: line 1 column 1 (char 0)\n",
      "<html><head><title>Request Rejected</title></head><body>The requested URL was rejected. Please contact for more information jrc-waf[at]ec.europa.eu.<br><br>Your support ID is: 484695481543743109<br><br><a href='javascript:history.back();'>[Go Back]</a></body></html>\n",
      "\n",
      " HAB35\n",
      "\tjson url: http://data.riksdagen.se/dokument/HAB35.json\n",
      "\tdoc url: https://www.riksdagen.se/sv/dokument-lagar/dokument/_HAB35\n",
      "\thtml url: http://data.riksdagen.se/dokument/HAB35\n",
      "\t "
     ]
    },
    {
     "data": {
      "text/html": [
       "<a href=https://www.riksdagen.se/sv/dokument-lagar/dokument/_HAB35/></a>"
      ],
      "text/plain": [
       "<IPython.core.display.HTML object>"
      ]
     },
     "metadata": {},
     "output_type": "display_data"
    },
    {
     "name": "stdout",
     "output_type": "stream",
     "text": [
      "\n",
      "Length text:\t 371829\n",
      "<Response [200]>\n",
      "{'data': []}\n",
      "new ok higher size  371829\n",
      "\n",
      " HAB310\n",
      "\tjson url: http://data.riksdagen.se/dokument/HAB310.json\n",
      "\tdoc url: https://www.riksdagen.se/sv/dokument-lagar/dokument/_HAB310\n",
      "\thtml url: http://data.riksdagen.se/dokument/HAB310\n",
      "\t "
     ]
    },
    {
     "data": {
      "text/html": [
       "<a href=https://www.riksdagen.se/sv/dokument-lagar/dokument/_HAB310/></a>"
      ],
      "text/plain": [
       "<IPython.core.display.HTML object>"
      ]
     },
     "metadata": {},
     "output_type": "display_data"
    },
    {
     "name": "stdout",
     "output_type": "stream",
     "text": [
      "\n",
      "Length text:\t 422701\n",
      "<Response [200]>\n",
      "{'data': []}\n",
      "new ok higher size  422701\n",
      "\n",
      " HAB352\n",
      "\tjson url: http://data.riksdagen.se/dokument/HAB352.json\n",
      "\tdoc url: https://www.riksdagen.se/sv/dokument-lagar/dokument/_HAB352\n",
      "\thtml url: http://data.riksdagen.se/dokument/HAB352\n",
      "\t "
     ]
    },
    {
     "data": {
      "text/html": [
       "<a href=https://www.riksdagen.se/sv/dokument-lagar/dokument/_HAB352/></a>"
      ],
      "text/plain": [
       "<IPython.core.display.HTML object>"
      ]
     },
     "metadata": {},
     "output_type": "display_data"
    },
    {
     "name": "stdout",
     "output_type": "stream",
     "text": [
      "\n",
      "Length text:\t 207\n",
      "<Response [200]>\n",
      "{'data': ['{\"name\": \"sdgs\", \"children\": [], \"api version\": \"v1\"}']}\n",
      "\n",
      " HAB351\n",
      "\tjson url: http://data.riksdagen.se/dokument/HAB351.json\n",
      "\tdoc url: https://www.riksdagen.se/sv/dokument-lagar/dokument/_HAB351\n",
      "\thtml url: http://data.riksdagen.se/dokument/HAB351\n",
      "\t "
     ]
    },
    {
     "data": {
      "text/html": [
       "<a href=https://www.riksdagen.se/sv/dokument-lagar/dokument/_HAB351/></a>"
      ],
      "text/plain": [
       "<IPython.core.display.HTML object>"
      ]
     },
     "metadata": {},
     "output_type": "display_data"
    },
    {
     "name": "stdout",
     "output_type": "stream",
     "text": [
      "\n",
      "Length text:\t 207\n",
      "<Response [200]>\n",
      "{'data': ['{\"name\": \"sdgs\", \"children\": [], \"api version\": \"v1\"}']}\n",
      "\n",
      " HAB316\n",
      "\tjson url: http://data.riksdagen.se/dokument/HAB316.json\n",
      "\tdoc url: https://www.riksdagen.se/sv/dokument-lagar/dokument/_HAB316\n",
      "\thtml url: http://data.riksdagen.se/dokument/HAB316\n",
      "\t "
     ]
    },
    {
     "data": {
      "text/html": [
       "<a href=https://www.riksdagen.se/sv/dokument-lagar/dokument/_HAB316/></a>"
      ],
      "text/plain": [
       "<IPython.core.display.HTML object>"
      ]
     },
     "metadata": {},
     "output_type": "display_data"
    },
    {
     "name": "stdout",
     "output_type": "stream",
     "text": [
      "\n",
      "Length text:\t 174618\n",
      "<Response [200]>\n",
      "{'data': []}\n",
      "\n",
      " HAB313\n",
      "\tjson url: http://data.riksdagen.se/dokument/HAB313.json\n",
      "\tdoc url: https://www.riksdagen.se/sv/dokument-lagar/dokument/_HAB313\n",
      "\thtml url: http://data.riksdagen.se/dokument/HAB313\n",
      "\t "
     ]
    },
    {
     "data": {
      "text/html": [
       "<a href=https://www.riksdagen.se/sv/dokument-lagar/dokument/_HAB313/></a>"
      ],
      "text/plain": [
       "<IPython.core.display.HTML object>"
      ]
     },
     "metadata": {},
     "output_type": "display_data"
    },
    {
     "name": "stdout",
     "output_type": "stream",
     "text": [
      "\n",
      "Length text:\t 747528\n",
      "<Response [403]>\n",
      "Exception:\t Expecting value: line 1 column 1 (char 0)\n",
      "<html><head><title>Request Rejected</title></head><body>The requested URL was rejected. Please contact for more information jrc-waf[at]ec.europa.eu.<br><br>Your support ID is: 484695481543809149<br><br><a href='javascript:history.back();'>[Go Back]</a></body></html>\n",
      "\n",
      " HAB317\n",
      "\tjson url: http://data.riksdagen.se/dokument/HAB317.json\n",
      "\tdoc url: https://www.riksdagen.se/sv/dokument-lagar/dokument/_HAB317\n",
      "\thtml url: http://data.riksdagen.se/dokument/HAB317\n",
      "\t "
     ]
    },
    {
     "data": {
      "text/html": [
       "<a href=https://www.riksdagen.se/sv/dokument-lagar/dokument/_HAB317/></a>"
      ],
      "text/plain": [
       "<IPython.core.display.HTML object>"
      ]
     },
     "metadata": {},
     "output_type": "display_data"
    },
    {
     "name": "stdout",
     "output_type": "stream",
     "text": [
      "\n",
      "Length text:\t 528036\n",
      "<Response [403]>\n",
      "Exception:\t Expecting value: line 1 column 1 (char 0)\n",
      "<html><head><title>Request Rejected</title></head><body>The requested URL was rejected. Please contact for more information jrc-waf[at]ec.europa.eu.<br><br>Your support ID is: 484695481543824549<br><br><a href='javascript:history.back();'>[Go Back]</a></body></html>\n",
      "\n",
      " HAB314\n",
      "\tjson url: http://data.riksdagen.se/dokument/HAB314.json\n",
      "\tdoc url: https://www.riksdagen.se/sv/dokument-lagar/dokument/_HAB314\n",
      "\thtml url: http://data.riksdagen.se/dokument/HAB314\n",
      "\t "
     ]
    },
    {
     "data": {
      "text/html": [
       "<a href=https://www.riksdagen.se/sv/dokument-lagar/dokument/_HAB314/></a>"
      ],
      "text/plain": [
       "<IPython.core.display.HTML object>"
      ]
     },
     "metadata": {},
     "output_type": "display_data"
    },
    {
     "name": "stdout",
     "output_type": "stream",
     "text": [
      "\n",
      "Length text:\t 1525036\n",
      "<Response [403]>\n",
      "Exception:\t Expecting value: line 1 column 1 (char 0)\n",
      "<html><head><title>Request Rejected</title></head><body>The requested URL was rejected. Please contact for more information jrc-waf[at]ec.europa.eu.<br><br>Your support ID is: 484695481543837837<br><br><a href='javascript:history.back();'>[Go Back]</a></body></html>\n",
      "\n",
      " HAB311\n",
      "\tjson url: http://data.riksdagen.se/dokument/HAB311.json\n",
      "\tdoc url: https://www.riksdagen.se/sv/dokument-lagar/dokument/_HAB311\n",
      "\thtml url: http://data.riksdagen.se/dokument/HAB311\n",
      "\t "
     ]
    },
    {
     "data": {
      "text/html": [
       "<a href=https://www.riksdagen.se/sv/dokument-lagar/dokument/_HAB311/></a>"
      ],
      "text/plain": [
       "<IPython.core.display.HTML object>"
      ]
     },
     "metadata": {},
     "output_type": "display_data"
    },
    {
     "name": "stdout",
     "output_type": "stream",
     "text": [
      "\n",
      "Length text:\t 1087908\n",
      "<Response [403]>\n",
      "Exception:\t Expecting value: line 1 column 1 (char 0)\n",
      "<html><head><title>Request Rejected</title></head><body>The requested URL was rejected. Please contact for more information jrc-waf[at]ec.europa.eu.<br><br>Your support ID is: 484695479898149068<br><br><a href='javascript:history.back();'>[Go Back]</a></body></html>\n",
      "\n",
      " HAB312\n",
      "\tjson url: http://data.riksdagen.se/dokument/HAB312.json\n",
      "\tdoc url: https://www.riksdagen.se/sv/dokument-lagar/dokument/_HAB312\n",
      "\thtml url: http://data.riksdagen.se/dokument/HAB312\n",
      "\t "
     ]
    },
    {
     "data": {
      "text/html": [
       "<a href=https://www.riksdagen.se/sv/dokument-lagar/dokument/_HAB312/></a>"
      ],
      "text/plain": [
       "<IPython.core.display.HTML object>"
      ]
     },
     "metadata": {},
     "output_type": "display_data"
    },
    {
     "name": "stdout",
     "output_type": "stream",
     "text": [
      "\n",
      "Length text:\t 825289\n",
      "<Response [403]>\n",
      "Exception:\t Expecting value: line 1 column 1 (char 0)\n",
      "<html><head><title>Request Rejected</title></head><body>The requested URL was rejected. Please contact for more information jrc-waf[at]ec.europa.eu.<br><br>Your support ID is: 484695479898157300<br><br><a href='javascript:history.back();'>[Go Back]</a></body></html>\n",
      "\n",
      " HAB318\n",
      "\tjson url: http://data.riksdagen.se/dokument/HAB318.json\n",
      "\tdoc url: https://www.riksdagen.se/sv/dokument-lagar/dokument/_HAB318\n",
      "\thtml url: http://data.riksdagen.se/dokument/HAB318\n",
      "\t "
     ]
    },
    {
     "data": {
      "text/html": [
       "<a href=https://www.riksdagen.se/sv/dokument-lagar/dokument/_HAB318/></a>"
      ],
      "text/plain": [
       "<IPython.core.display.HTML object>"
      ]
     },
     "metadata": {},
     "output_type": "display_data"
    },
    {
     "name": "stdout",
     "output_type": "stream",
     "text": [
      "\n",
      "Length text:\t 501461\n",
      "<Response [403]>\n",
      "Exception:\t Expecting value: line 1 column 1 (char 0)\n",
      "<html><head><title>Request Rejected</title></head><body>The requested URL was rejected. Please contact for more information jrc-waf[at]ec.europa.eu.<br><br>Your support ID is: 484695479898166252<br><br><a href='javascript:history.back();'>[Go Back]</a></body></html>\n",
      "\n",
      " HAB320\n",
      "\tjson url: http://data.riksdagen.se/dokument/HAB320.json\n",
      "\tdoc url: https://www.riksdagen.se/sv/dokument-lagar/dokument/_HAB320\n",
      "\thtml url: http://data.riksdagen.se/dokument/HAB320\n",
      "\t "
     ]
    },
    {
     "data": {
      "text/html": [
       "<a href=https://www.riksdagen.se/sv/dokument-lagar/dokument/_HAB320/></a>"
      ],
      "text/plain": [
       "<IPython.core.display.HTML object>"
      ]
     },
     "metadata": {},
     "output_type": "display_data"
    },
    {
     "name": "stdout",
     "output_type": "stream",
     "text": [
      "\n",
      "Length text:\t 481956\n",
      "<Response [403]>\n",
      "Exception:\t Expecting value: line 1 column 1 (char 0)\n",
      "<html><head><title>Request Rejected</title></head><body>The requested URL was rejected. Please contact for more information jrc-waf[at]ec.europa.eu.<br><br>Your support ID is: 484695481543888917<br><br><a href='javascript:history.back();'>[Go Back]</a></body></html>\n",
      "\n",
      " HAB319\n",
      "\tjson url: http://data.riksdagen.se/dokument/HAB319.json\n",
      "\tdoc url: https://www.riksdagen.se/sv/dokument-lagar/dokument/_HAB319\n",
      "\thtml url: http://data.riksdagen.se/dokument/HAB319\n",
      "\t "
     ]
    },
    {
     "data": {
      "text/html": [
       "<a href=https://www.riksdagen.se/sv/dokument-lagar/dokument/_HAB319/></a>"
      ],
      "text/plain": [
       "<IPython.core.display.HTML object>"
      ]
     },
     "metadata": {},
     "output_type": "display_data"
    },
    {
     "name": "stdout",
     "output_type": "stream",
     "text": [
      "\n",
      "Length text:\t 1068003\n",
      "<Response [403]>\n",
      "Exception:\t Expecting value: line 1 column 1 (char 0)\n",
      "<html><head><title>Request Rejected</title></head><body>The requested URL was rejected. Please contact for more information jrc-waf[at]ec.europa.eu.<br><br>Your support ID is: 484695479898183116<br><br><a href='javascript:history.back();'>[Go Back]</a></body></html>\n",
      "\n",
      " HAB324\n",
      "\tjson url: http://data.riksdagen.se/dokument/HAB324.json\n",
      "\tdoc url: https://www.riksdagen.se/sv/dokument-lagar/dokument/_HAB324\n",
      "\thtml url: http://data.riksdagen.se/dokument/HAB324\n",
      "\t "
     ]
    },
    {
     "data": {
      "text/html": [
       "<a href=https://www.riksdagen.se/sv/dokument-lagar/dokument/_HAB324/></a>"
      ],
      "text/plain": [
       "<IPython.core.display.HTML object>"
      ]
     },
     "metadata": {},
     "output_type": "display_data"
    },
    {
     "name": "stdout",
     "output_type": "stream",
     "text": [
      "\n",
      "Length text:\t 877289\n",
      "<Response [403]>\n",
      "Exception:\t Expecting value: line 1 column 1 (char 0)\n",
      "<html><head><title>Request Rejected</title></head><body>The requested URL was rejected. Please contact for more information jrc-waf[at]ec.europa.eu.<br><br>Your support ID is: 484695481543911381<br><br><a href='javascript:history.back();'>[Go Back]</a></body></html>\n",
      "\n",
      " HAB322\n",
      "\tjson url: http://data.riksdagen.se/dokument/HAB322.json\n",
      "\tdoc url: https://www.riksdagen.se/sv/dokument-lagar/dokument/_HAB322\n",
      "\thtml url: http://data.riksdagen.se/dokument/HAB322\n",
      "\t "
     ]
    },
    {
     "data": {
      "text/html": [
       "<a href=https://www.riksdagen.se/sv/dokument-lagar/dokument/_HAB322/></a>"
      ],
      "text/plain": [
       "<IPython.core.display.HTML object>"
      ]
     },
     "metadata": {},
     "output_type": "display_data"
    },
    {
     "name": "stdout",
     "output_type": "stream",
     "text": [
      "\n",
      "Length text:\t 1411399\n",
      "<Response [403]>\n",
      "Exception:\t Expecting value: line 1 column 1 (char 0)\n",
      "<html><head><title>Request Rejected</title></head><body>The requested URL was rejected. Please contact for more information jrc-waf[at]ec.europa.eu.<br><br>Your support ID is: 484695481543925709<br><br><a href='javascript:history.back();'>[Go Back]</a></body></html>\n",
      "\n",
      " HAB328\n",
      "\tjson url: http://data.riksdagen.se/dokument/HAB328.json\n",
      "\tdoc url: https://www.riksdagen.se/sv/dokument-lagar/dokument/_HAB328\n",
      "\thtml url: http://data.riksdagen.se/dokument/HAB328\n",
      "\t "
     ]
    },
    {
     "data": {
      "text/html": [
       "<a href=https://www.riksdagen.se/sv/dokument-lagar/dokument/_HAB328/></a>"
      ],
      "text/plain": [
       "<IPython.core.display.HTML object>"
      ]
     },
     "metadata": {},
     "output_type": "display_data"
    },
    {
     "name": "stdout",
     "output_type": "stream",
     "text": [
      "\n",
      "Length text:\t 494777\n",
      "<Response [403]>\n",
      "Exception:\t Expecting value: line 1 column 1 (char 0)\n",
      "<html><head><title>Request Rejected</title></head><body>The requested URL was rejected. Please contact for more information jrc-waf[at]ec.europa.eu.<br><br>Your support ID is: 484695481543944101<br><br><a href='javascript:history.back();'>[Go Back]</a></body></html>\n",
      "\n",
      " HAB332\n",
      "\tjson url: http://data.riksdagen.se/dokument/HAB332.json\n",
      "\tdoc url: https://www.riksdagen.se/sv/dokument-lagar/dokument/_HAB332\n",
      "\thtml url: http://data.riksdagen.se/dokument/HAB332\n",
      "\t "
     ]
    },
    {
     "data": {
      "text/html": [
       "<a href=https://www.riksdagen.se/sv/dokument-lagar/dokument/_HAB332/></a>"
      ],
      "text/plain": [
       "<IPython.core.display.HTML object>"
      ]
     },
     "metadata": {},
     "output_type": "display_data"
    },
    {
     "name": "stdout",
     "output_type": "stream",
     "text": [
      "\n",
      "Length text:\t 358521\n",
      "<Response [200]>\n",
      "{'data': []}\n",
      "\n",
      " HAB325\n",
      "\tjson url: http://data.riksdagen.se/dokument/HAB325.json\n",
      "\tdoc url: https://www.riksdagen.se/sv/dokument-lagar/dokument/_HAB325\n",
      "\thtml url: http://data.riksdagen.se/dokument/HAB325\n",
      "\t "
     ]
    },
    {
     "data": {
      "text/html": [
       "<a href=https://www.riksdagen.se/sv/dokument-lagar/dokument/_HAB325/></a>"
      ],
      "text/plain": [
       "<IPython.core.display.HTML object>"
      ]
     },
     "metadata": {},
     "output_type": "display_data"
    },
    {
     "name": "stdout",
     "output_type": "stream",
     "text": [
      "\n",
      "Length text:\t 665517\n",
      "<Response [403]>\n",
      "Exception:\t Expecting value: line 1 column 1 (char 0)\n",
      "<html><head><title>Request Rejected</title></head><body>The requested URL was rejected. Please contact for more information jrc-waf[at]ec.europa.eu.<br><br>Your support ID is: 484695481543969533<br><br><a href='javascript:history.back();'>[Go Back]</a></body></html>\n",
      "\n",
      " HAB330\n",
      "\tjson url: http://data.riksdagen.se/dokument/HAB330.json\n",
      "\tdoc url: https://www.riksdagen.se/sv/dokument-lagar/dokument/_HAB330\n",
      "\thtml url: http://data.riksdagen.se/dokument/HAB330\n",
      "\t "
     ]
    },
    {
     "data": {
      "text/html": [
       "<a href=https://www.riksdagen.se/sv/dokument-lagar/dokument/_HAB330/></a>"
      ],
      "text/plain": [
       "<IPython.core.display.HTML object>"
      ]
     },
     "metadata": {},
     "output_type": "display_data"
    },
    {
     "name": "stdout",
     "output_type": "stream",
     "text": [
      "\n",
      "Length text:\t 683093\n",
      "<Response [403]>\n",
      "Exception:\t Expecting value: line 1 column 1 (char 0)\n",
      "<html><head><title>Request Rejected</title></head><body>The requested URL was rejected. Please contact for more information jrc-waf[at]ec.europa.eu.<br><br>Your support ID is: 484695481543984613<br><br><a href='javascript:history.back();'>[Go Back]</a></body></html>\n",
      "\n",
      " HAB326\n",
      "\tjson url: http://data.riksdagen.se/dokument/HAB326.json\n",
      "\tdoc url: https://www.riksdagen.se/sv/dokument-lagar/dokument/_HAB326\n",
      "\thtml url: http://data.riksdagen.se/dokument/HAB326\n",
      "\t "
     ]
    },
    {
     "data": {
      "text/html": [
       "<a href=https://www.riksdagen.se/sv/dokument-lagar/dokument/_HAB326/></a>"
      ],
      "text/plain": [
       "<IPython.core.display.HTML object>"
      ]
     },
     "metadata": {},
     "output_type": "display_data"
    },
    {
     "name": "stdout",
     "output_type": "stream",
     "text": [
      "\n",
      "Length text:\t 190972\n",
      "<Response [200]>\n",
      "{'data': []}\n",
      "\n",
      " HAB327\n",
      "\tjson url: http://data.riksdagen.se/dokument/HAB327.json\n",
      "\tdoc url: https://www.riksdagen.se/sv/dokument-lagar/dokument/_HAB327\n",
      "\thtml url: http://data.riksdagen.se/dokument/HAB327\n",
      "\t "
     ]
    },
    {
     "data": {
      "text/html": [
       "<a href=https://www.riksdagen.se/sv/dokument-lagar/dokument/_HAB327/></a>"
      ],
      "text/plain": [
       "<IPython.core.display.HTML object>"
      ]
     },
     "metadata": {},
     "output_type": "display_data"
    },
    {
     "name": "stdout",
     "output_type": "stream",
     "text": [
      "\n",
      "Length text:\t 425835\n",
      "<Response [200]>\n",
      "{'data': []}\n",
      "new ok higher size  425835\n",
      "\n",
      " HAB336\n",
      "\tjson url: http://data.riksdagen.se/dokument/HAB336.json\n",
      "\tdoc url: https://www.riksdagen.se/sv/dokument-lagar/dokument/_HAB336\n",
      "\thtml url: http://data.riksdagen.se/dokument/HAB336\n",
      "\t "
     ]
    },
    {
     "data": {
      "text/html": [
       "<a href=https://www.riksdagen.se/sv/dokument-lagar/dokument/_HAB336/></a>"
      ],
      "text/plain": [
       "<IPython.core.display.HTML object>"
      ]
     },
     "metadata": {},
     "output_type": "display_data"
    },
    {
     "name": "stdout",
     "output_type": "stream",
     "text": [
      "\n",
      "Length text:\t 544339\n",
      "<Response [403]>\n",
      "Exception:\t Expecting value: line 1 column 1 (char 0)\n",
      "<html><head><title>Request Rejected</title></head><body>The requested URL was rejected. Please contact for more information jrc-waf[at]ec.europa.eu.<br><br>Your support ID is: 484695479898268012<br><br><a href='javascript:history.back();'>[Go Back]</a></body></html>\n",
      "\n",
      " HAB335\n",
      "\tjson url: http://data.riksdagen.se/dokument/HAB335.json\n",
      "\tdoc url: https://www.riksdagen.se/sv/dokument-lagar/dokument/_HAB335\n",
      "\thtml url: http://data.riksdagen.se/dokument/HAB335\n",
      "\t "
     ]
    },
    {
     "data": {
      "text/html": [
       "<a href=https://www.riksdagen.se/sv/dokument-lagar/dokument/_HAB335/></a>"
      ],
      "text/plain": [
       "<IPython.core.display.HTML object>"
      ]
     },
     "metadata": {},
     "output_type": "display_data"
    },
    {
     "name": "stdout",
     "output_type": "stream",
     "text": [
      "\n",
      "Length text:\t 462493\n",
      "<Response [200]>\n",
      "{'data': []}\n",
      "new ok higher size  462493\n",
      "\n",
      " HAB334\n",
      "\tjson url: http://data.riksdagen.se/dokument/HAB334.json\n",
      "\tdoc url: https://www.riksdagen.se/sv/dokument-lagar/dokument/_HAB334\n",
      "\thtml url: http://data.riksdagen.se/dokument/HAB334\n",
      "\t "
     ]
    },
    {
     "data": {
      "text/html": [
       "<a href=https://www.riksdagen.se/sv/dokument-lagar/dokument/_HAB334/></a>"
      ],
      "text/plain": [
       "<IPython.core.display.HTML object>"
      ]
     },
     "metadata": {},
     "output_type": "display_data"
    },
    {
     "name": "stdout",
     "output_type": "stream",
     "text": [
      "\n",
      "Length text:\t 1005932\n",
      "<Response [403]>\n",
      "Exception:\t Expecting value: line 1 column 1 (char 0)\n",
      "<html><head><title>Request Rejected</title></head><body>The requested URL was rejected. Please contact for more information jrc-waf[at]ec.europa.eu.<br><br>Your support ID is: 484695481544058525<br><br><a href='javascript:history.back();'>[Go Back]</a></body></html>\n",
      "\n",
      " HAB333\n",
      "\tjson url: http://data.riksdagen.se/dokument/HAB333.json\n",
      "\tdoc url: https://www.riksdagen.se/sv/dokument-lagar/dokument/_HAB333\n",
      "\thtml url: http://data.riksdagen.se/dokument/HAB333\n",
      "\t "
     ]
    },
    {
     "data": {
      "text/html": [
       "<a href=https://www.riksdagen.se/sv/dokument-lagar/dokument/_HAB333/></a>"
      ],
      "text/plain": [
       "<IPython.core.display.HTML object>"
      ]
     },
     "metadata": {},
     "output_type": "display_data"
    },
    {
     "name": "stdout",
     "output_type": "stream",
     "text": [
      "\n",
      "Length text:\t 1330378\n",
      "<Response [403]>\n",
      "Exception:\t Expecting value: line 1 column 1 (char 0)\n",
      "<html><head><title>Request Rejected</title></head><body>The requested URL was rejected. Please contact for more information jrc-waf[at]ec.europa.eu.<br><br>Your support ID is: 484695479898296468<br><br><a href='javascript:history.back();'>[Go Back]</a></body></html>\n",
      "\n",
      " HAB329\n",
      "\tjson url: http://data.riksdagen.se/dokument/HAB329.json\n",
      "\tdoc url: https://www.riksdagen.se/sv/dokument-lagar/dokument/_HAB329\n",
      "\thtml url: http://data.riksdagen.se/dokument/HAB329\n",
      "\t "
     ]
    },
    {
     "data": {
      "text/html": [
       "<a href=https://www.riksdagen.se/sv/dokument-lagar/dokument/_HAB329/></a>"
      ],
      "text/plain": [
       "<IPython.core.display.HTML object>"
      ]
     },
     "metadata": {},
     "output_type": "display_data"
    },
    {
     "name": "stdout",
     "output_type": "stream",
     "text": [
      "\n",
      "Length text:\t 590085\n",
      "<Response [403]>\n",
      "Exception:\t Expecting value: line 1 column 1 (char 0)\n",
      "<html><head><title>Request Rejected</title></head><body>The requested URL was rejected. Please contact for more information jrc-waf[at]ec.europa.eu.<br><br>Your support ID is: 484695479898304092<br><br><a href='javascript:history.back();'>[Go Back]</a></body></html>\n",
      "\n",
      " HAB331\n",
      "\tjson url: http://data.riksdagen.se/dokument/HAB331.json\n",
      "\tdoc url: https://www.riksdagen.se/sv/dokument-lagar/dokument/_HAB331\n",
      "\thtml url: http://data.riksdagen.se/dokument/HAB331\n",
      "\t "
     ]
    },
    {
     "data": {
      "text/html": [
       "<a href=https://www.riksdagen.se/sv/dokument-lagar/dokument/_HAB331/></a>"
      ],
      "text/plain": [
       "<IPython.core.display.HTML object>"
      ]
     },
     "metadata": {},
     "output_type": "display_data"
    },
    {
     "name": "stdout",
     "output_type": "stream",
     "text": [
      "\n",
      "Length text:\t 1175930\n",
      "<Response [403]>\n",
      "Exception:\t Expecting value: line 1 column 1 (char 0)\n",
      "<html><head><title>Request Rejected</title></head><body>The requested URL was rejected. Please contact for more information jrc-waf[at]ec.europa.eu.<br><br>Your support ID is: 484695479898312820<br><br><a href='javascript:history.back();'>[Go Back]</a></body></html>\n",
      "\n",
      " H9B329\n",
      "\tjson url: http://data.riksdagen.se/dokument/H9B329.json\n",
      "\tdoc url: https://www.riksdagen.se/sv/dokument-lagar/dokument/_H9B329\n",
      "\thtml url: http://data.riksdagen.se/dokument/H9B329\n",
      "\t "
     ]
    },
    {
     "data": {
      "text/html": [
       "<a href=https://www.riksdagen.se/sv/dokument-lagar/dokument/_H9B329/></a>"
      ],
      "text/plain": [
       "<IPython.core.display.HTML object>"
      ]
     },
     "metadata": {},
     "output_type": "display_data"
    },
    {
     "name": "stdout",
     "output_type": "stream",
     "text": [
      "\n",
      "Length text:\t 325175\n",
      "<Response [200]>\n",
      "{'data': []}\n",
      "\n",
      " H9B328\n",
      "\tjson url: http://data.riksdagen.se/dokument/H9B328.json\n",
      "\tdoc url: https://www.riksdagen.se/sv/dokument-lagar/dokument/_H9B328\n",
      "\thtml url: http://data.riksdagen.se/dokument/H9B328\n",
      "\t "
     ]
    },
    {
     "data": {
      "text/html": [
       "<a href=https://www.riksdagen.se/sv/dokument-lagar/dokument/_H9B328/></a>"
      ],
      "text/plain": [
       "<IPython.core.display.HTML object>"
      ]
     },
     "metadata": {},
     "output_type": "display_data"
    },
    {
     "name": "stdout",
     "output_type": "stream",
     "text": [
      "\n",
      "Length text:\t 398020\n",
      "<Response [200]>\n",
      "{'data': []}\n",
      "\n",
      " H9B353\n",
      "\tjson url: http://data.riksdagen.se/dokument/H9B353.json\n",
      "\tdoc url: https://www.riksdagen.se/sv/dokument-lagar/dokument/_H9B353\n",
      "\thtml url: http://data.riksdagen.se/dokument/H9B353\n",
      "\t "
     ]
    },
    {
     "data": {
      "text/html": [
       "<a href=https://www.riksdagen.se/sv/dokument-lagar/dokument/_H9B353/></a>"
      ],
      "text/plain": [
       "<IPython.core.display.HTML object>"
      ]
     },
     "metadata": {},
     "output_type": "display_data"
    },
    {
     "name": "stdout",
     "output_type": "stream",
     "text": [
      "\n",
      "Length text:\t 417985\n",
      "<Response [200]>\n",
      "{'data': []}\n",
      "\n",
      " ZZB38\n",
      "\tjson url: http://data.riksdagen.se/dokument/ZZB38.json\n",
      "\tdoc url: https://www.riksdagen.se/sv/dokument-lagar/dokument/_ZZB38\n",
      "\thtml url: http://data.riksdagen.se/dokument/ZZB38\n",
      "\t "
     ]
    },
    {
     "data": {
      "text/html": [
       "<a href=https://www.riksdagen.se/sv/dokument-lagar/dokument/_ZZB38/></a>"
      ],
      "text/plain": [
       "<IPython.core.display.HTML object>"
      ]
     },
     "metadata": {},
     "output_type": "display_data"
    },
    {
     "name": "stdout",
     "output_type": "stream",
     "text": [
      "\n",
      "Length text:\t 61805\n",
      "<Response [200]>\n",
      "{'data': ['{\"name\": \"sdgs\", \"children\": [{\"name\": \"SDG 9\", \"n_occurrences\": 119, \"children\": [{\"n_occurrences\": 119, \"name\": \"Target 9.5\"}]}], \"api version\": \"v1\"}']}\n",
      "\n",
      " H9B315\n",
      "\tjson url: http://data.riksdagen.se/dokument/H9B315.json\n",
      "\tdoc url: https://www.riksdagen.se/sv/dokument-lagar/dokument/_H9B315\n",
      "\thtml url: http://data.riksdagen.se/dokument/H9B315\n",
      "\t "
     ]
    },
    {
     "data": {
      "text/html": [
       "<a href=https://www.riksdagen.se/sv/dokument-lagar/dokument/_H9B315/></a>"
      ],
      "text/plain": [
       "<IPython.core.display.HTML object>"
      ]
     },
     "metadata": {},
     "output_type": "display_data"
    },
    {
     "name": "stdout",
     "output_type": "stream",
     "text": [
      "\n",
      "Length text:\t 437745\n",
      "<Response [200]>\n",
      "{'data': []}\n",
      "\n",
      " H9B314\n",
      "\tjson url: http://data.riksdagen.se/dokument/H9B314.json\n",
      "\tdoc url: https://www.riksdagen.se/sv/dokument-lagar/dokument/_H9B314\n",
      "\thtml url: http://data.riksdagen.se/dokument/H9B314\n",
      "\t "
     ]
    },
    {
     "data": {
      "text/html": [
       "<a href=https://www.riksdagen.se/sv/dokument-lagar/dokument/_H9B314/></a>"
      ],
      "text/plain": [
       "<IPython.core.display.HTML object>"
      ]
     },
     "metadata": {},
     "output_type": "display_data"
    },
    {
     "name": "stdout",
     "output_type": "stream",
     "text": [
      "\n",
      "Length text:\t 536369\n",
      "<Response [403]>\n",
      "Exception:\t Expecting value: line 1 column 1 (char 0)\n",
      "<html><head><title>Request Rejected</title></head><body>The requested URL was rejected. Please contact for more information jrc-waf[at]ec.europa.eu.<br><br>Your support ID is: 484695479898365892<br><br><a href='javascript:history.back();'>[Go Back]</a></body></html>\n",
      "\n",
      " H9B355\n",
      "\tjson url: http://data.riksdagen.se/dokument/H9B355.json\n",
      "\tdoc url: https://www.riksdagen.se/sv/dokument-lagar/dokument/_H9B355\n",
      "\thtml url: http://data.riksdagen.se/dokument/H9B355\n",
      "\t "
     ]
    },
    {
     "data": {
      "text/html": [
       "<a href=https://www.riksdagen.se/sv/dokument-lagar/dokument/_H9B355/></a>"
      ],
      "text/plain": [
       "<IPython.core.display.HTML object>"
      ]
     },
     "metadata": {},
     "output_type": "display_data"
    },
    {
     "name": "stdout",
     "output_type": "stream",
     "text": [
      "\n",
      "Length text:\t 1067231\n",
      "<Response [403]>\n",
      "Exception:\t Expecting value: line 1 column 1 (char 0)\n",
      "<html><head><title>Request Rejected</title></head><body>The requested URL was rejected. Please contact for more information jrc-waf[at]ec.europa.eu.<br><br>Your support ID is: 484695479898373692<br><br><a href='javascript:history.back();'>[Go Back]</a></body></html>\n",
      "\n",
      " H9B322\n",
      "\tjson url: http://data.riksdagen.se/dokument/H9B322.json\n",
      "\tdoc url: https://www.riksdagen.se/sv/dokument-lagar/dokument/_H9B322\n",
      "\thtml url: http://data.riksdagen.se/dokument/H9B322\n",
      "\t "
     ]
    },
    {
     "data": {
      "text/html": [
       "<a href=https://www.riksdagen.se/sv/dokument-lagar/dokument/_H9B322/></a>"
      ],
      "text/plain": [
       "<IPython.core.display.HTML object>"
      ]
     },
     "metadata": {},
     "output_type": "display_data"
    },
    {
     "name": "stdout",
     "output_type": "stream",
     "text": [
      "\n",
      "Length text:\t 1063631\n",
      "<Response [403]>\n",
      "Exception:\t Expecting value: line 1 column 1 (char 0)\n",
      "<html><head><title>Request Rejected</title></head><body>The requested URL was rejected. Please contact for more information jrc-waf[at]ec.europa.eu.<br><br>Your support ID is: 484695479898383788<br><br><a href='javascript:history.back();'>[Go Back]</a></body></html>\n",
      "\n",
      " H9B324\n",
      "\tjson url: http://data.riksdagen.se/dokument/H9B324.json\n",
      "\tdoc url: https://www.riksdagen.se/sv/dokument-lagar/dokument/_H9B324\n",
      "\thtml url: http://data.riksdagen.se/dokument/H9B324\n",
      "\t "
     ]
    },
    {
     "data": {
      "text/html": [
       "<a href=https://www.riksdagen.se/sv/dokument-lagar/dokument/_H9B324/></a>"
      ],
      "text/plain": [
       "<IPython.core.display.HTML object>"
      ]
     },
     "metadata": {},
     "output_type": "display_data"
    },
    {
     "name": "stdout",
     "output_type": "stream",
     "text": [
      "\n",
      "Length text:\t 915807\n",
      "<Response [403]>\n",
      "Exception:\t Expecting value: line 1 column 1 (char 0)\n",
      "<html><head><title>Request Rejected</title></head><body>The requested URL was rejected. Please contact for more information jrc-waf[at]ec.europa.eu.<br><br>Your support ID is: 484695479898392844<br><br><a href='javascript:history.back();'>[Go Back]</a></body></html>\n",
      "\n",
      " H9B319\n",
      "\tjson url: http://data.riksdagen.se/dokument/H9B319.json\n",
      "\tdoc url: https://www.riksdagen.se/sv/dokument-lagar/dokument/_H9B319\n",
      "\thtml url: http://data.riksdagen.se/dokument/H9B319\n",
      "\t "
     ]
    },
    {
     "data": {
      "text/html": [
       "<a href=https://www.riksdagen.se/sv/dokument-lagar/dokument/_H9B319/></a>"
      ],
      "text/plain": [
       "<IPython.core.display.HTML object>"
      ]
     },
     "metadata": {},
     "output_type": "display_data"
    },
    {
     "name": "stdout",
     "output_type": "stream",
     "text": [
      "\n",
      "Length text:\t 1414737\n",
      "<Response [403]>\n",
      "Exception:\t Expecting value: line 1 column 1 (char 0)\n",
      "<html><head><title>Request Rejected</title></head><body>The requested URL was rejected. Please contact for more information jrc-waf[at]ec.europa.eu.<br><br>Your support ID is: 484695479898397756<br><br><a href='javascript:history.back();'>[Go Back]</a></body></html>\n",
      "\n",
      " ZZB32\n",
      "\tjson url: http://data.riksdagen.se/dokument/ZZB32.json\n",
      "\tdoc url: https://www.riksdagen.se/sv/dokument-lagar/dokument/_ZZB32\n",
      "\thtml url: http://data.riksdagen.se/dokument/ZZB32\n",
      "\t "
     ]
    },
    {
     "data": {
      "text/html": [
       "<a href=https://www.riksdagen.se/sv/dokument-lagar/dokument/_ZZB32/></a>"
      ],
      "text/plain": [
       "<IPython.core.display.HTML object>"
      ]
     },
     "metadata": {},
     "output_type": "display_data"
    },
    {
     "name": "stdout",
     "output_type": "stream",
     "text": [
      "\n",
      "Length text:\t 956780\n",
      "<Response [403]>\n",
      "Exception:\t Expecting value: line 1 column 1 (char 0)\n",
      "<html><head><title>Request Rejected</title></head><body>The requested URL was rejected. Please contact for more information jrc-waf[at]ec.europa.eu.<br><br>Your support ID is: 484695479898404124<br><br><a href='javascript:history.back();'>[Go Back]</a></body></html>\n",
      "\n",
      " H9B338\n",
      "\tjson url: http://data.riksdagen.se/dokument/H9B338.json\n",
      "\tdoc url: https://www.riksdagen.se/sv/dokument-lagar/dokument/_H9B338\n",
      "\thtml url: http://data.riksdagen.se/dokument/H9B338\n",
      "\t "
     ]
    },
    {
     "data": {
      "text/html": [
       "<a href=https://www.riksdagen.se/sv/dokument-lagar/dokument/_H9B338/></a>"
      ],
      "text/plain": [
       "<IPython.core.display.HTML object>"
      ]
     },
     "metadata": {},
     "output_type": "display_data"
    },
    {
     "name": "stdout",
     "output_type": "stream",
     "text": [
      "\n",
      "Length text:\t 720604\n",
      "<Response [403]>\n",
      "Exception:\t Expecting value: line 1 column 1 (char 0)\n",
      "<html><head><title>Request Rejected</title></head><body>The requested URL was rejected. Please contact for more information jrc-waf[at]ec.europa.eu.<br><br>Your support ID is: 484695481544247677<br><br><a href='javascript:history.back();'>[Go Back]</a></body></html>\n",
      "\n",
      " ZZB34\n",
      "\tjson url: http://data.riksdagen.se/dokument/ZZB34.json\n",
      "\tdoc url: https://www.riksdagen.se/sv/dokument-lagar/dokument/_ZZB34\n",
      "\thtml url: http://data.riksdagen.se/dokument/ZZB34\n",
      "\t "
     ]
    },
    {
     "data": {
      "text/html": [
       "<a href=https://www.riksdagen.se/sv/dokument-lagar/dokument/_ZZB34/></a>"
      ],
      "text/plain": [
       "<IPython.core.display.HTML object>"
      ]
     },
     "metadata": {},
     "output_type": "display_data"
    },
    {
     "name": "stdout",
     "output_type": "stream",
     "text": [
      "\n",
      "Length text:\t 945709\n",
      "<Response [403]>\n",
      "Exception:\t Expecting value: line 1 column 1 (char 0)\n",
      "<html><head><title>Request Rejected</title></head><body>The requested URL was rejected. Please contact for more information jrc-waf[at]ec.europa.eu.<br><br>Your support ID is: 484695481544255389<br><br><a href='javascript:history.back();'>[Go Back]</a></body></html>\n",
      "\n",
      " H9B318\n",
      "\tjson url: http://data.riksdagen.se/dokument/H9B318.json\n",
      "\tdoc url: https://www.riksdagen.se/sv/dokument-lagar/dokument/_H9B318\n",
      "\thtml url: http://data.riksdagen.se/dokument/H9B318\n",
      "\t "
     ]
    },
    {
     "data": {
      "text/html": [
       "<a href=https://www.riksdagen.se/sv/dokument-lagar/dokument/_H9B318/></a>"
      ],
      "text/plain": [
       "<IPython.core.display.HTML object>"
      ]
     },
     "metadata": {},
     "output_type": "display_data"
    },
    {
     "name": "stdout",
     "output_type": "stream",
     "text": [
      "\n",
      "Length text:\t 1137596\n",
      "<Response [403]>\n",
      "Exception:\t Expecting value: line 1 column 1 (char 0)\n",
      "<html><head><title>Request Rejected</title></head><body>The requested URL was rejected. Please contact for more information jrc-waf[at]ec.europa.eu.<br><br>Your support ID is: 484695479898423428<br><br><a href='javascript:history.back();'>[Go Back]</a></body></html>\n",
      "\n",
      " H9B317\n",
      "\tjson url: http://data.riksdagen.se/dokument/H9B317.json\n",
      "\tdoc url: https://www.riksdagen.se/sv/dokument-lagar/dokument/_H9B317\n",
      "\thtml url: http://data.riksdagen.se/dokument/H9B317\n",
      "\t "
     ]
    },
    {
     "data": {
      "text/html": [
       "<a href=https://www.riksdagen.se/sv/dokument-lagar/dokument/_H9B317/></a>"
      ],
      "text/plain": [
       "<IPython.core.display.HTML object>"
      ]
     },
     "metadata": {},
     "output_type": "display_data"
    },
    {
     "name": "stdout",
     "output_type": "stream",
     "text": [
      "\n",
      "Length text:\t 886587\n",
      "<Response [403]>\n",
      "Exception:\t Expecting value: line 1 column 1 (char 0)\n",
      "<html><head><title>Request Rejected</title></head><body>The requested URL was rejected. Please contact for more information jrc-waf[at]ec.europa.eu.<br><br>Your support ID is: 484695479898432692<br><br><a href='javascript:history.back();'>[Go Back]</a></body></html>\n",
      "\n",
      " H9B316\n",
      "\tjson url: http://data.riksdagen.se/dokument/H9B316.json\n",
      "\tdoc url: https://www.riksdagen.se/sv/dokument-lagar/dokument/_H9B316\n",
      "\thtml url: http://data.riksdagen.se/dokument/H9B316\n",
      "\t "
     ]
    },
    {
     "data": {
      "text/html": [
       "<a href=https://www.riksdagen.se/sv/dokument-lagar/dokument/_H9B316/></a>"
      ],
      "text/plain": [
       "<IPython.core.display.HTML object>"
      ]
     },
     "metadata": {},
     "output_type": "display_data"
    },
    {
     "name": "stdout",
     "output_type": "stream",
     "text": [
      "\n",
      "Length text:\t 442262\n",
      "<Response [200]>\n",
      "{'data': []}\n",
      "\n",
      " H9B321\n",
      "\tjson url: http://data.riksdagen.se/dokument/H9B321.json\n",
      "\tdoc url: https://www.riksdagen.se/sv/dokument-lagar/dokument/_H9B321\n",
      "\thtml url: http://data.riksdagen.se/dokument/H9B321\n",
      "\t "
     ]
    },
    {
     "data": {
      "text/html": [
       "<a href=https://www.riksdagen.se/sv/dokument-lagar/dokument/_H9B321/></a>"
      ],
      "text/plain": [
       "<IPython.core.display.HTML object>"
      ]
     },
     "metadata": {},
     "output_type": "display_data"
    },
    {
     "name": "stdout",
     "output_type": "stream",
     "text": [
      "\n",
      "Length text:\t 801513\n",
      "<Response [403]>\n",
      "Exception:\t Expecting value: line 1 column 1 (char 0)\n",
      "<html><head><title>Request Rejected</title></head><body>The requested URL was rejected. Please contact for more information jrc-waf[at]ec.europa.eu.<br><br>Your support ID is: 484695479898446940<br><br><a href='javascript:history.back();'>[Go Back]</a></body></html>\n",
      "\n",
      " H9B336\n",
      "\tjson url: http://data.riksdagen.se/dokument/H9B336.json\n",
      "\tdoc url: https://www.riksdagen.se/sv/dokument-lagar/dokument/_H9B336\n",
      "\thtml url: http://data.riksdagen.se/dokument/H9B336\n",
      "\t "
     ]
    },
    {
     "data": {
      "text/html": [
       "<a href=https://www.riksdagen.se/sv/dokument-lagar/dokument/_H9B336/></a>"
      ],
      "text/plain": [
       "<IPython.core.display.HTML object>"
      ]
     },
     "metadata": {},
     "output_type": "display_data"
    },
    {
     "name": "stdout",
     "output_type": "stream",
     "text": [
      "\n",
      "Length text:\t 1194223\n",
      "<Response [403]>\n",
      "Exception:\t Expecting value: line 1 column 1 (char 0)\n",
      "<html><head><title>Request Rejected</title></head><body>The requested URL was rejected. Please contact for more information jrc-waf[at]ec.europa.eu.<br><br>Your support ID is: 484695481544320725<br><br><a href='javascript:history.back();'>[Go Back]</a></body></html>\n",
      "\n",
      " H9B334\n",
      "\tjson url: http://data.riksdagen.se/dokument/H9B334.json\n",
      "\tdoc url: https://www.riksdagen.se/sv/dokument-lagar/dokument/_H9B334\n",
      "\thtml url: http://data.riksdagen.se/dokument/H9B334\n",
      "\t "
     ]
    },
    {
     "data": {
      "text/html": [
       "<a href=https://www.riksdagen.se/sv/dokument-lagar/dokument/_H9B334/></a>"
      ],
      "text/plain": [
       "<IPython.core.display.HTML object>"
      ]
     },
     "metadata": {},
     "output_type": "display_data"
    },
    {
     "name": "stdout",
     "output_type": "stream",
     "text": [
      "\n",
      "Length text:\t 915461\n",
      "<Response [403]>\n",
      "Exception:\t Expecting value: line 1 column 1 (char 0)\n",
      "<html><head><title>Request Rejected</title></head><body>The requested URL was rejected. Please contact for more information jrc-waf[at]ec.europa.eu.<br><br>Your support ID is: 484695479898461308<br><br><a href='javascript:history.back();'>[Go Back]</a></body></html>\n",
      "\n",
      " H9B330\n",
      "\tjson url: http://data.riksdagen.se/dokument/H9B330.json\n",
      "\tdoc url: https://www.riksdagen.se/sv/dokument-lagar/dokument/_H9B330\n",
      "\thtml url: http://data.riksdagen.se/dokument/H9B330\n",
      "\t "
     ]
    },
    {
     "data": {
      "text/html": [
       "<a href=https://www.riksdagen.se/sv/dokument-lagar/dokument/_H9B330/></a>"
      ],
      "text/plain": [
       "<IPython.core.display.HTML object>"
      ]
     },
     "metadata": {},
     "output_type": "display_data"
    },
    {
     "name": "stdout",
     "output_type": "stream",
     "text": [
      "\n",
      "Length text:\t 1185187\n",
      "<Response [403]>\n",
      "Exception:\t Expecting value: line 1 column 1 (char 0)\n",
      "<html><head><title>Request Rejected</title></head><body>The requested URL was rejected. Please contact for more information jrc-waf[at]ec.europa.eu.<br><br>Your support ID is: 484695479898467892<br><br><a href='javascript:history.back();'>[Go Back]</a></body></html>\n",
      "\n",
      " H9B362\n",
      "\tjson url: http://data.riksdagen.se/dokument/H9B362.json\n",
      "\tdoc url: https://www.riksdagen.se/sv/dokument-lagar/dokument/_H9B362\n",
      "\thtml url: http://data.riksdagen.se/dokument/H9B362\n",
      "\t "
     ]
    },
    {
     "data": {
      "text/html": [
       "<a href=https://www.riksdagen.se/sv/dokument-lagar/dokument/_H9B362/></a>"
      ],
      "text/plain": [
       "<IPython.core.display.HTML object>"
      ]
     },
     "metadata": {},
     "output_type": "display_data"
    },
    {
     "name": "stdout",
     "output_type": "stream",
     "text": [
      "\n",
      "Length text:\t 410605\n",
      "<Response [200]>\n",
      "{'data': []}\n",
      "\n",
      " H9B357\n",
      "\tjson url: http://data.riksdagen.se/dokument/H9B357.json\n",
      "\tdoc url: https://www.riksdagen.se/sv/dokument-lagar/dokument/_H9B357\n",
      "\thtml url: http://data.riksdagen.se/dokument/H9B357\n",
      "\t "
     ]
    },
    {
     "data": {
      "text/html": [
       "<a href=https://www.riksdagen.se/sv/dokument-lagar/dokument/_H9B357/></a>"
      ],
      "text/plain": [
       "<IPython.core.display.HTML object>"
      ]
     },
     "metadata": {},
     "output_type": "display_data"
    },
    {
     "name": "stdout",
     "output_type": "stream",
     "text": [
      "\n",
      "Length text:\t 1496648\n",
      "<Response [403]>\n",
      "Exception:\t Expecting value: line 1 column 1 (char 0)\n",
      "<html><head><title>Request Rejected</title></head><body>The requested URL was rejected. Please contact for more information jrc-waf[at]ec.europa.eu.<br><br>Your support ID is: 484695481544370581<br><br><a href='javascript:history.back();'>[Go Back]</a></body></html>\n",
      "\n",
      " H9B359\n",
      "\tjson url: http://data.riksdagen.se/dokument/H9B359.json\n",
      "\tdoc url: https://www.riksdagen.se/sv/dokument-lagar/dokument/_H9B359\n",
      "\thtml url: http://data.riksdagen.se/dokument/H9B359\n",
      "\t "
     ]
    },
    {
     "data": {
      "text/html": [
       "<a href=https://www.riksdagen.se/sv/dokument-lagar/dokument/_H9B359/></a>"
      ],
      "text/plain": [
       "<IPython.core.display.HTML object>"
      ]
     },
     "metadata": {},
     "output_type": "display_data"
    },
    {
     "name": "stdout",
     "output_type": "stream",
     "text": [
      "\n",
      "Length text:\t 1009183\n",
      "<Response [403]>\n",
      "Exception:\t Expecting value: line 1 column 1 (char 0)\n",
      "<html><head><title>Request Rejected</title></head><body>The requested URL was rejected. Please contact for more information jrc-waf[at]ec.europa.eu.<br><br>Your support ID is: 484695481544383685<br><br><a href='javascript:history.back();'>[Go Back]</a></body></html>\n",
      "\n",
      " H9B333\n",
      "\tjson url: http://data.riksdagen.se/dokument/H9B333.json\n",
      "\tdoc url: https://www.riksdagen.se/sv/dokument-lagar/dokument/_H9B333\n",
      "\thtml url: http://data.riksdagen.se/dokument/H9B333\n",
      "\t "
     ]
    },
    {
     "data": {
      "text/html": [
       "<a href=https://www.riksdagen.se/sv/dokument-lagar/dokument/_H9B333/></a>"
      ],
      "text/plain": [
       "<IPython.core.display.HTML object>"
      ]
     },
     "metadata": {},
     "output_type": "display_data"
    },
    {
     "name": "stdout",
     "output_type": "stream",
     "text": [
      "\n",
      "Length text:\t 1317834\n",
      "<Response [403]>\n",
      "Exception:\t Expecting value: line 1 column 1 (char 0)\n",
      "<html><head><title>Request Rejected</title></head><body>The requested URL was rejected. Please contact for more information jrc-waf[at]ec.europa.eu.<br><br>Your support ID is: 484695479898501372<br><br><a href='javascript:history.back();'>[Go Back]</a></body></html>\n",
      "\n",
      " H9B346\n",
      "\tjson url: http://data.riksdagen.se/dokument/H9B346.json\n",
      "\tdoc url: https://www.riksdagen.se/sv/dokument-lagar/dokument/_H9B346\n",
      "\thtml url: http://data.riksdagen.se/dokument/H9B346\n",
      "\t "
     ]
    },
    {
     "data": {
      "text/html": [
       "<a href=https://www.riksdagen.se/sv/dokument-lagar/dokument/_H9B346/></a>"
      ],
      "text/plain": [
       "<IPython.core.display.HTML object>"
      ]
     },
     "metadata": {},
     "output_type": "display_data"
    },
    {
     "name": "stdout",
     "output_type": "stream",
     "text": [
      "\n",
      "Length text:\t 1094402\n",
      "<Response [403]>\n",
      "Exception:\t Expecting value: line 1 column 1 (char 0)\n",
      "<html><head><title>Request Rejected</title></head><body>The requested URL was rejected. Please contact for more information jrc-waf[at]ec.europa.eu.<br><br>Your support ID is: 484695479898508436<br><br><a href='javascript:history.back();'>[Go Back]</a></body></html>\n",
      "\n",
      " H9B361\n",
      "\tjson url: http://data.riksdagen.se/dokument/H9B361.json\n",
      "\tdoc url: https://www.riksdagen.se/sv/dokument-lagar/dokument/_H9B361\n",
      "\thtml url: http://data.riksdagen.se/dokument/H9B361\n",
      "\t "
     ]
    },
    {
     "data": {
      "text/html": [
       "<a href=https://www.riksdagen.se/sv/dokument-lagar/dokument/_H9B361/></a>"
      ],
      "text/plain": [
       "<IPython.core.display.HTML object>"
      ]
     },
     "metadata": {},
     "output_type": "display_data"
    },
    {
     "name": "stdout",
     "output_type": "stream",
     "text": [
      "\n",
      "Length text:\t 1177917\n",
      "<Response [403]>\n",
      "Exception:\t Expecting value: line 1 column 1 (char 0)\n",
      "<html><head><title>Request Rejected</title></head><body>The requested URL was rejected. Please contact for more information jrc-waf[at]ec.europa.eu.<br><br>Your support ID is: 484695479898513516<br><br><a href='javascript:history.back();'>[Go Back]</a></body></html>\n",
      "\n",
      " ZZB39\n",
      "\tjson url: http://data.riksdagen.se/dokument/ZZB39.json\n",
      "\tdoc url: https://www.riksdagen.se/sv/dokument-lagar/dokument/_ZZB39\n",
      "\thtml url: http://data.riksdagen.se/dokument/ZZB39\n",
      "\t "
     ]
    },
    {
     "data": {
      "text/html": [
       "<a href=https://www.riksdagen.se/sv/dokument-lagar/dokument/_ZZB39/></a>"
      ],
      "text/plain": [
       "<IPython.core.display.HTML object>"
      ]
     },
     "metadata": {},
     "output_type": "display_data"
    },
    {
     "name": "stdout",
     "output_type": "stream",
     "text": [
      "\n",
      "Length text:\t 693209\n",
      "<Response [403]>\n",
      "Exception:\t Expecting value: line 1 column 1 (char 0)\n",
      "<html><head><title>Request Rejected</title></head><body>The requested URL was rejected. Please contact for more information jrc-waf[at]ec.europa.eu.<br><br>Your support ID is: 484695479898520060<br><br><a href='javascript:history.back();'>[Go Back]</a></body></html>\n",
      "\n",
      " ZZB37\n",
      "\tjson url: http://data.riksdagen.se/dokument/ZZB37.json\n",
      "\tdoc url: https://www.riksdagen.se/sv/dokument-lagar/dokument/_ZZB37\n",
      "\thtml url: http://data.riksdagen.se/dokument/ZZB37\n",
      "\t "
     ]
    },
    {
     "data": {
      "text/html": [
       "<a href=https://www.riksdagen.se/sv/dokument-lagar/dokument/_ZZB37/></a>"
      ],
      "text/plain": [
       "<IPython.core.display.HTML object>"
      ]
     },
     "metadata": {},
     "output_type": "display_data"
    },
    {
     "name": "stdout",
     "output_type": "stream",
     "text": [
      "\n",
      "Length text:\t 437383\n",
      "<Response [200]>\n",
      "{'data': []}\n",
      "\n",
      " ZZB36\n",
      "\tjson url: http://data.riksdagen.se/dokument/ZZB36.json\n",
      "\tdoc url: https://www.riksdagen.se/sv/dokument-lagar/dokument/_ZZB36\n",
      "\thtml url: http://data.riksdagen.se/dokument/ZZB36\n",
      "\t "
     ]
    },
    {
     "data": {
      "text/html": [
       "<a href=https://www.riksdagen.se/sv/dokument-lagar/dokument/_ZZB36/></a>"
      ],
      "text/plain": [
       "<IPython.core.display.HTML object>"
      ]
     },
     "metadata": {},
     "output_type": "display_data"
    },
    {
     "name": "stdout",
     "output_type": "stream",
     "text": [
      "\n",
      "Length text:\t 846094\n",
      "<Response [403]>\n",
      "Exception:\t Expecting value: line 1 column 1 (char 0)\n",
      "<html><head><title>Request Rejected</title></head><body>The requested URL was rejected. Please contact for more information jrc-waf[at]ec.europa.eu.<br><br>Your support ID is: 484695479898533508<br><br><a href='javascript:history.back();'>[Go Back]</a></body></html>\n",
      "\n",
      " ZZB35\n",
      "\tjson url: http://data.riksdagen.se/dokument/ZZB35.json\n",
      "\tdoc url: https://www.riksdagen.se/sv/dokument-lagar/dokument/_ZZB35\n",
      "\thtml url: http://data.riksdagen.se/dokument/ZZB35\n",
      "\t "
     ]
    },
    {
     "data": {
      "text/html": [
       "<a href=https://www.riksdagen.se/sv/dokument-lagar/dokument/_ZZB35/></a>"
      ],
      "text/plain": [
       "<IPython.core.display.HTML object>"
      ]
     },
     "metadata": {},
     "output_type": "display_data"
    },
    {
     "name": "stdout",
     "output_type": "stream",
     "text": [
      "\n",
      "Length text:\t 655410\n",
      "<Response [403]>\n",
      "Exception:\t Expecting value: line 1 column 1 (char 0)\n",
      "<html><head><title>Request Rejected</title></head><body>The requested URL was rejected. Please contact for more information jrc-waf[at]ec.europa.eu.<br><br>Your support ID is: 484695479898543476<br><br><a href='javascript:history.back();'>[Go Back]</a></body></html>\n",
      "\n",
      " ZZB33\n",
      "\tjson url: http://data.riksdagen.se/dokument/ZZB33.json\n",
      "\tdoc url: https://www.riksdagen.se/sv/dokument-lagar/dokument/_ZZB33\n",
      "\thtml url: http://data.riksdagen.se/dokument/ZZB33\n",
      "\t "
     ]
    },
    {
     "data": {
      "text/html": [
       "<a href=https://www.riksdagen.se/sv/dokument-lagar/dokument/_ZZB33/></a>"
      ],
      "text/plain": [
       "<IPython.core.display.HTML object>"
      ]
     },
     "metadata": {},
     "output_type": "display_data"
    },
    {
     "name": "stdout",
     "output_type": "stream",
     "text": [
      "\n",
      "Length text:\t 945677\n",
      "<Response [403]>\n",
      "Exception:\t Expecting value: line 1 column 1 (char 0)\n",
      "<html><head><title>Request Rejected</title></head><body>The requested URL was rejected. Please contact for more information jrc-waf[at]ec.europa.eu.<br><br>Your support ID is: 484695481544480645<br><br><a href='javascript:history.back();'>[Go Back]</a></body></html>\n",
      "\n",
      " H9B348\n",
      "\tjson url: http://data.riksdagen.se/dokument/H9B348.json\n",
      "\tdoc url: https://www.riksdagen.se/sv/dokument-lagar/dokument/_H9B348\n",
      "\thtml url: http://data.riksdagen.se/dokument/H9B348\n",
      "\t "
     ]
    },
    {
     "data": {
      "text/html": [
       "<a href=https://www.riksdagen.se/sv/dokument-lagar/dokument/_H9B348/></a>"
      ],
      "text/plain": [
       "<IPython.core.display.HTML object>"
      ]
     },
     "metadata": {},
     "output_type": "display_data"
    },
    {
     "name": "stdout",
     "output_type": "stream",
     "text": [
      "\n",
      "Length text:\t 788953\n",
      "<Response [403]>\n",
      "Exception:\t Expecting value: line 1 column 1 (char 0)\n",
      "<html><head><title>Request Rejected</title></head><body>The requested URL was rejected. Please contact for more information jrc-waf[at]ec.europa.eu.<br><br>Your support ID is: 484695481544492365<br><br><a href='javascript:history.back();'>[Go Back]</a></body></html>\n",
      "\n",
      " H9B345\n",
      "\tjson url: http://data.riksdagen.se/dokument/H9B345.json\n",
      "\tdoc url: https://www.riksdagen.se/sv/dokument-lagar/dokument/_H9B345\n",
      "\thtml url: http://data.riksdagen.se/dokument/H9B345\n",
      "\t "
     ]
    },
    {
     "data": {
      "text/html": [
       "<a href=https://www.riksdagen.se/sv/dokument-lagar/dokument/_H9B345/></a>"
      ],
      "text/plain": [
       "<IPython.core.display.HTML object>"
      ]
     },
     "metadata": {},
     "output_type": "display_data"
    },
    {
     "name": "stdout",
     "output_type": "stream",
     "text": [
      "\n",
      "Length text:\t 1671494\n",
      "<Response [403]>\n",
      "Exception:\t Expecting value: line 1 column 1 (char 0)\n",
      "<html><head><title>Request Rejected</title></head><body>The requested URL was rejected. Please contact for more information jrc-waf[at]ec.europa.eu.<br><br>Your support ID is: 484695481544507253<br><br><a href='javascript:history.back();'>[Go Back]</a></body></html>\n",
      "\n",
      " H9B342\n",
      "\tjson url: http://data.riksdagen.se/dokument/H9B342.json\n",
      "\tdoc url: https://www.riksdagen.se/sv/dokument-lagar/dokument/_H9B342\n",
      "\thtml url: http://data.riksdagen.se/dokument/H9B342\n",
      "\t "
     ]
    },
    {
     "data": {
      "text/html": [
       "<a href=https://www.riksdagen.se/sv/dokument-lagar/dokument/_H9B342/></a>"
      ],
      "text/plain": [
       "<IPython.core.display.HTML object>"
      ]
     },
     "metadata": {},
     "output_type": "display_data"
    },
    {
     "name": "stdout",
     "output_type": "stream",
     "text": [
      "\n",
      "Length text:\t 1316463\n",
      "<Response [403]>\n",
      "Exception:\t Expecting value: line 1 column 1 (char 0)\n",
      "<html><head><title>Request Rejected</title></head><body>The requested URL was rejected. Please contact for more information jrc-waf[at]ec.europa.eu.<br><br>Your support ID is: 484695479898577508<br><br><a href='javascript:history.back();'>[Go Back]</a></body></html>\n",
      "\n",
      " H9B340\n",
      "\tjson url: http://data.riksdagen.se/dokument/H9B340.json\n",
      "\tdoc url: https://www.riksdagen.se/sv/dokument-lagar/dokument/_H9B340\n",
      "\thtml url: http://data.riksdagen.se/dokument/H9B340\n",
      "\t "
     ]
    },
    {
     "data": {
      "text/html": [
       "<a href=https://www.riksdagen.se/sv/dokument-lagar/dokument/_H9B340/></a>"
      ],
      "text/plain": [
       "<IPython.core.display.HTML object>"
      ]
     },
     "metadata": {},
     "output_type": "display_data"
    },
    {
     "name": "stdout",
     "output_type": "stream",
     "text": [
      "\n",
      "Length text:\t 511456\n",
      "<Response [403]>\n",
      "Exception:\t Expecting value: line 1 column 1 (char 0)\n",
      "<html><head><title>Request Rejected</title></head><body>The requested URL was rejected. Please contact for more information jrc-waf[at]ec.europa.eu.<br><br>Your support ID is: 484695481544536845<br><br><a href='javascript:history.back();'>[Go Back]</a></body></html>\n",
      "\n",
      " H9B325\n",
      "\tjson url: http://data.riksdagen.se/dokument/H9B325.json\n",
      "\tdoc url: https://www.riksdagen.se/sv/dokument-lagar/dokument/_H9B325\n",
      "\thtml url: http://data.riksdagen.se/dokument/H9B325\n",
      "\t "
     ]
    },
    {
     "data": {
      "text/html": [
       "<a href=https://www.riksdagen.se/sv/dokument-lagar/dokument/_H9B325/></a>"
      ],
      "text/plain": [
       "<IPython.core.display.HTML object>"
      ]
     },
     "metadata": {},
     "output_type": "display_data"
    },
    {
     "name": "stdout",
     "output_type": "stream",
     "text": [
      "\n",
      "Length text:\t 1261987\n",
      "<Response [403]>\n",
      "Exception:\t Expecting value: line 1 column 1 (char 0)\n",
      "<html><head><title>Request Rejected</title></head><body>The requested URL was rejected. Please contact for more information jrc-waf[at]ec.europa.eu.<br><br>Your support ID is: 484695479898596748<br><br><a href='javascript:history.back();'>[Go Back]</a></body></html>\n",
      "\n",
      " H9B313\n",
      "\tjson url: http://data.riksdagen.se/dokument/H9B313.json\n",
      "\tdoc url: https://www.riksdagen.se/sv/dokument-lagar/dokument/_H9B313\n",
      "\thtml url: http://data.riksdagen.se/dokument/H9B313\n",
      "\t "
     ]
    },
    {
     "data": {
      "text/html": [
       "<a href=https://www.riksdagen.se/sv/dokument-lagar/dokument/_H9B313/></a>"
      ],
      "text/plain": [
       "<IPython.core.display.HTML object>"
      ]
     },
     "metadata": {},
     "output_type": "display_data"
    },
    {
     "name": "stdout",
     "output_type": "stream",
     "text": [
      "\n",
      "Length text:\t 88245\n",
      "<Response [200]>\n",
      "{'data': ['{\"name\": \"sdgs\", \"children\": [{\"name\": \"SDG 9\", \"n_occurrences\": 39, \"children\": [{\"n_occurrences\": 19, \"name\": \"Target 9.5\"}, {\"n_occurrences\": 20, \"name\": \"SDG 9_undetected_target\"}]}], \"api version\": \"v1\"}']}\n",
      "\n",
      " H9B350\n",
      "\tjson url: http://data.riksdagen.se/dokument/H9B350.json\n",
      "\tdoc url: https://www.riksdagen.se/sv/dokument-lagar/dokument/_H9B350\n",
      "\thtml url: http://data.riksdagen.se/dokument/H9B350\n",
      "\t "
     ]
    },
    {
     "data": {
      "text/html": [
       "<a href=https://www.riksdagen.se/sv/dokument-lagar/dokument/_H9B350/></a>"
      ],
      "text/plain": [
       "<IPython.core.display.HTML object>"
      ]
     },
     "metadata": {},
     "output_type": "display_data"
    },
    {
     "name": "stdout",
     "output_type": "stream",
     "text": [
      "\n",
      "Length text:\t 939696\n",
      "<Response [403]>\n",
      "Exception:\t Expecting value: line 1 column 1 (char 0)\n",
      "<html><head><title>Request Rejected</title></head><body>The requested URL was rejected. Please contact for more information jrc-waf[at]ec.europa.eu.<br><br>Your support ID is: 484695481544576069<br><br><a href='javascript:history.back();'>[Go Back]</a></body></html>\n",
      "\n",
      " H9B376\n",
      "\tjson url: http://data.riksdagen.se/dokument/H9B376.json\n",
      "\tdoc url: https://www.riksdagen.se/sv/dokument-lagar/dokument/_H9B376\n",
      "\thtml url: http://data.riksdagen.se/dokument/H9B376\n",
      "\t "
     ]
    },
    {
     "data": {
      "text/html": [
       "<a href=https://www.riksdagen.se/sv/dokument-lagar/dokument/_H9B376/></a>"
      ],
      "text/plain": [
       "<IPython.core.display.HTML object>"
      ]
     },
     "metadata": {},
     "output_type": "display_data"
    },
    {
     "name": "stdout",
     "output_type": "stream",
     "text": [
      "\n",
      "Length text:\t 238165\n",
      "<Response [200]>\n",
      "{'data': []}\n",
      "\n",
      " H9B381\n",
      "\tjson url: http://data.riksdagen.se/dokument/H9B381.json\n",
      "\tdoc url: https://www.riksdagen.se/sv/dokument-lagar/dokument/_H9B381\n",
      "\thtml url: http://data.riksdagen.se/dokument/H9B381\n",
      "\t "
     ]
    },
    {
     "data": {
      "text/html": [
       "<a href=https://www.riksdagen.se/sv/dokument-lagar/dokument/_H9B381/></a>"
      ],
      "text/plain": [
       "<IPython.core.display.HTML object>"
      ]
     },
     "metadata": {},
     "output_type": "display_data"
    },
    {
     "name": "stdout",
     "output_type": "stream",
     "text": [
      "\n",
      "Length text:\t 1305989\n",
      "<Response [403]>\n",
      "Exception:\t Expecting value: line 1 column 1 (char 0)\n",
      "<html><head><title>Request Rejected</title></head><body>The requested URL was rejected. Please contact for more information jrc-waf[at]ec.europa.eu.<br><br>Your support ID is: 484695481544597741<br><br><a href='javascript:history.back();'>[Go Back]</a></body></html>\n",
      "\n",
      " H9B386\n",
      "\tjson url: http://data.riksdagen.se/dokument/H9B386.json\n",
      "\tdoc url: https://www.riksdagen.se/sv/dokument-lagar/dokument/_H9B386\n",
      "\thtml url: http://data.riksdagen.se/dokument/H9B386\n",
      "\t "
     ]
    },
    {
     "data": {
      "text/html": [
       "<a href=https://www.riksdagen.se/sv/dokument-lagar/dokument/_H9B386/></a>"
      ],
      "text/plain": [
       "<IPython.core.display.HTML object>"
      ]
     },
     "metadata": {},
     "output_type": "display_data"
    },
    {
     "name": "stdout",
     "output_type": "stream",
     "text": [
      "\n",
      "Length text:\t 782584\n",
      "<Response [403]>\n",
      "Exception:\t Expecting value: line 1 column 1 (char 0)\n",
      "<html><head><title>Request Rejected</title></head><body>The requested URL was rejected. Please contact for more information jrc-waf[at]ec.europa.eu.<br><br>Your support ID is: 484695481544606981<br><br><a href='javascript:history.back();'>[Go Back]</a></body></html>\n",
      "\n",
      " H9B383\n",
      "\tjson url: http://data.riksdagen.se/dokument/H9B383.json\n",
      "\tdoc url: https://www.riksdagen.se/sv/dokument-lagar/dokument/_H9B383\n",
      "\thtml url: http://data.riksdagen.se/dokument/H9B383\n",
      "\t "
     ]
    },
    {
     "data": {
      "text/html": [
       "<a href=https://www.riksdagen.se/sv/dokument-lagar/dokument/_H9B383/></a>"
      ],
      "text/plain": [
       "<IPython.core.display.HTML object>"
      ]
     },
     "metadata": {},
     "output_type": "display_data"
    },
    {
     "name": "stdout",
     "output_type": "stream",
     "text": [
      "\n",
      "Length text:\t 613648\n",
      "<Response [403]>\n",
      "Exception:\t Expecting value: line 1 column 1 (char 0)\n",
      "<html><head><title>Request Rejected</title></head><body>The requested URL was rejected. Please contact for more information jrc-waf[at]ec.europa.eu.<br><br>Your support ID is: 484695479898646692<br><br><a href='javascript:history.back();'>[Go Back]</a></body></html>\n",
      "\n",
      " H9B382\n",
      "\tjson url: http://data.riksdagen.se/dokument/H9B382.json\n",
      "\tdoc url: https://www.riksdagen.se/sv/dokument-lagar/dokument/_H9B382\n",
      "\thtml url: http://data.riksdagen.se/dokument/H9B382\n",
      "\t "
     ]
    },
    {
     "data": {
      "text/html": [
       "<a href=https://www.riksdagen.se/sv/dokument-lagar/dokument/_H9B382/></a>"
      ],
      "text/plain": [
       "<IPython.core.display.HTML object>"
      ]
     },
     "metadata": {},
     "output_type": "display_data"
    },
    {
     "name": "stdout",
     "output_type": "stream",
     "text": [
      "\n",
      "Length text:\t 303059\n",
      "<Response [200]>\n",
      "{'data': []}\n",
      "\n",
      " H9B385\n",
      "\tjson url: http://data.riksdagen.se/dokument/H9B385.json\n",
      "\tdoc url: https://www.riksdagen.se/sv/dokument-lagar/dokument/_H9B385\n",
      "\thtml url: http://data.riksdagen.se/dokument/H9B385\n",
      "\t "
     ]
    },
    {
     "data": {
      "text/html": [
       "<a href=https://www.riksdagen.se/sv/dokument-lagar/dokument/_H9B385/></a>"
      ],
      "text/plain": [
       "<IPython.core.display.HTML object>"
      ]
     },
     "metadata": {},
     "output_type": "display_data"
    },
    {
     "name": "stdout",
     "output_type": "stream",
     "text": [
      "\n",
      "Length text:\t 444347\n",
      "<Response [200]>\n",
      "{'data': []}\n",
      "\n",
      " H9B379\n",
      "\tjson url: http://data.riksdagen.se/dokument/H9B379.json\n",
      "\tdoc url: https://www.riksdagen.se/sv/dokument-lagar/dokument/_H9B379\n",
      "\thtml url: http://data.riksdagen.se/dokument/H9B379\n",
      "\t "
     ]
    },
    {
     "data": {
      "text/html": [
       "<a href=https://www.riksdagen.se/sv/dokument-lagar/dokument/_H9B379/></a>"
      ],
      "text/plain": [
       "<IPython.core.display.HTML object>"
      ]
     },
     "metadata": {},
     "output_type": "display_data"
    },
    {
     "name": "stdout",
     "output_type": "stream",
     "text": [
      "\n",
      "Length text:\t 172938\n",
      "<Response [200]>\n",
      "{'data': []}\n",
      "\n",
      " H9B378\n",
      "\tjson url: http://data.riksdagen.se/dokument/H9B378.json\n",
      "\tdoc url: https://www.riksdagen.se/sv/dokument-lagar/dokument/_H9B378\n",
      "\thtml url: http://data.riksdagen.se/dokument/H9B378\n",
      "\t "
     ]
    },
    {
     "data": {
      "text/html": [
       "<a href=https://www.riksdagen.se/sv/dokument-lagar/dokument/_H9B378/></a>"
      ],
      "text/plain": [
       "<IPython.core.display.HTML object>"
      ]
     },
     "metadata": {},
     "output_type": "display_data"
    },
    {
     "name": "stdout",
     "output_type": "stream",
     "text": [
      "\n",
      "Length text:\t 594883\n",
      "<Response [403]>\n",
      "Exception:\t Expecting value: line 1 column 1 (char 0)\n",
      "<html><head><title>Request Rejected</title></head><body>The requested URL was rejected. Please contact for more information jrc-waf[at]ec.europa.eu.<br><br>Your support ID is: 484695479898672996<br><br><a href='javascript:history.back();'>[Go Back]</a></body></html>\n",
      "\n",
      " H9B379\n",
      "\tjson url: http://data.riksdagen.se/dokument/H9B379.json\n",
      "\tdoc url: https://www.riksdagen.se/sv/dokument-lagar/dokument/_H9B379\n",
      "\thtml url: http://data.riksdagen.se/dokument/H9B379\n",
      "\t "
     ]
    },
    {
     "data": {
      "text/html": [
       "<a href=https://www.riksdagen.se/sv/dokument-lagar/dokument/_H9B379/></a>"
      ],
      "text/plain": [
       "<IPython.core.display.HTML object>"
      ]
     },
     "metadata": {},
     "output_type": "display_data"
    },
    {
     "name": "stdout",
     "output_type": "stream",
     "text": [
      "\n",
      "Length text:\t 172938\n",
      "<Response [200]>\n",
      "{'data': []}\n",
      "\n",
      " H9B378\n",
      "\tjson url: http://data.riksdagen.se/dokument/H9B378.json\n",
      "\tdoc url: https://www.riksdagen.se/sv/dokument-lagar/dokument/_H9B378\n",
      "\thtml url: http://data.riksdagen.se/dokument/H9B378\n",
      "\t "
     ]
    },
    {
     "data": {
      "text/html": [
       "<a href=https://www.riksdagen.se/sv/dokument-lagar/dokument/_H9B378/></a>"
      ],
      "text/plain": [
       "<IPython.core.display.HTML object>"
      ]
     },
     "metadata": {},
     "output_type": "display_data"
    },
    {
     "name": "stdout",
     "output_type": "stream",
     "text": [
      "\n",
      "Length text:\t 594883\n",
      "<Response [403]>\n",
      "Exception:\t Expecting value: line 1 column 1 (char 0)\n",
      "<html><head><title>Request Rejected</title></head><body>The requested URL was rejected. Please contact for more information jrc-waf[at]ec.europa.eu.<br><br>Your support ID is: 484695481544697709<br><br><a href='javascript:history.back();'>[Go Back]</a></body></html>\n",
      "\n",
      " H9B380\n",
      "\tjson url: http://data.riksdagen.se/dokument/H9B380.json\n",
      "\tdoc url: https://www.riksdagen.se/sv/dokument-lagar/dokument/_H9B380\n",
      "\thtml url: http://data.riksdagen.se/dokument/H9B380\n",
      "\t "
     ]
    },
    {
     "data": {
      "text/html": [
       "<a href=https://www.riksdagen.se/sv/dokument-lagar/dokument/_H9B380/></a>"
      ],
      "text/plain": [
       "<IPython.core.display.HTML object>"
      ]
     },
     "metadata": {},
     "output_type": "display_data"
    },
    {
     "name": "stdout",
     "output_type": "stream",
     "text": [
      "\n",
      "Length text:\t 1204232\n",
      "<Response [403]>\n",
      "Exception:\t Expecting value: line 1 column 1 (char 0)\n",
      "<html><head><title>Request Rejected</title></head><body>The requested URL was rejected. Please contact for more information jrc-waf[at]ec.europa.eu.<br><br>Your support ID is: 484695481544713749<br><br><a href='javascript:history.back();'>[Go Back]</a></body></html>\n",
      "\n",
      " H9B389\n",
      "\tjson url: http://data.riksdagen.se/dokument/H9B389.json\n",
      "\tdoc url: https://www.riksdagen.se/sv/dokument-lagar/dokument/_H9B389\n",
      "\thtml url: http://data.riksdagen.se/dokument/H9B389\n",
      "\t "
     ]
    },
    {
     "data": {
      "text/html": [
       "<a href=https://www.riksdagen.se/sv/dokument-lagar/dokument/_H9B389/></a>"
      ],
      "text/plain": [
       "<IPython.core.display.HTML object>"
      ]
     },
     "metadata": {},
     "output_type": "display_data"
    },
    {
     "name": "stdout",
     "output_type": "stream",
     "text": [
      "\n",
      "Length text:\t 837741\n",
      "<Response [403]>\n",
      "Exception:\t Expecting value: line 1 column 1 (char 0)\n",
      "<html><head><title>Request Rejected</title></head><body>The requested URL was rejected. Please contact for more information jrc-waf[at]ec.europa.eu.<br><br>Your support ID is: 484695479898703564<br><br><a href='javascript:history.back();'>[Go Back]</a></body></html>\n",
      "\n",
      " H9B384\n",
      "\tjson url: http://data.riksdagen.se/dokument/H9B384.json\n",
      "\tdoc url: https://www.riksdagen.se/sv/dokument-lagar/dokument/_H9B384\n",
      "\thtml url: http://data.riksdagen.se/dokument/H9B384\n",
      "\t "
     ]
    },
    {
     "data": {
      "text/html": [
       "<a href=https://www.riksdagen.se/sv/dokument-lagar/dokument/_H9B384/></a>"
      ],
      "text/plain": [
       "<IPython.core.display.HTML object>"
      ]
     },
     "metadata": {},
     "output_type": "display_data"
    },
    {
     "name": "stdout",
     "output_type": "stream",
     "text": [
      "\n",
      "Length text:\t 494534\n",
      "<Response [403]>\n",
      "Exception:\t Expecting value: line 1 column 1 (char 0)\n",
      "<html><head><title>Request Rejected</title></head><body>The requested URL was rejected. Please contact for more information jrc-waf[at]ec.europa.eu.<br><br>Your support ID is: 484695481544737477<br><br><a href='javascript:history.back();'>[Go Back]</a></body></html>\n",
      "\n",
      " H9B387\n",
      "\tjson url: http://data.riksdagen.se/dokument/H9B387.json\n",
      "\tdoc url: https://www.riksdagen.se/sv/dokument-lagar/dokument/_H9B387\n",
      "\thtml url: http://data.riksdagen.se/dokument/H9B387\n",
      "\t "
     ]
    },
    {
     "data": {
      "text/html": [
       "<a href=https://www.riksdagen.se/sv/dokument-lagar/dokument/_H9B387/></a>"
      ],
      "text/plain": [
       "<IPython.core.display.HTML object>"
      ]
     },
     "metadata": {},
     "output_type": "display_data"
    },
    {
     "name": "stdout",
     "output_type": "stream",
     "text": [
      "\n",
      "Length text:\t 1456287\n",
      "<Response [403]>\n",
      "Exception:\t Expecting value: line 1 column 1 (char 0)\n",
      "<html><head><title>Request Rejected</title></head><body>The requested URL was rejected. Please contact for more information jrc-waf[at]ec.europa.eu.<br><br>Your support ID is: 484695481544750749<br><br><a href='javascript:history.back();'>[Go Back]</a></body></html>\n",
      "\n",
      " H9B363\n",
      "\tjson url: http://data.riksdagen.se/dokument/H9B363.json\n",
      "\tdoc url: https://www.riksdagen.se/sv/dokument-lagar/dokument/_H9B363\n",
      "\thtml url: http://data.riksdagen.se/dokument/H9B363\n",
      "\t "
     ]
    },
    {
     "data": {
      "text/html": [
       "<a href=https://www.riksdagen.se/sv/dokument-lagar/dokument/_H9B363/></a>"
      ],
      "text/plain": [
       "<IPython.core.display.HTML object>"
      ]
     },
     "metadata": {},
     "output_type": "display_data"
    },
    {
     "name": "stdout",
     "output_type": "stream",
     "text": [
      "\n",
      "Length text:\t 1134215\n",
      "<Response [403]>\n",
      "Exception:\t Expecting value: line 1 column 1 (char 0)\n",
      "<html><head><title>Request Rejected</title></head><body>The requested URL was rejected. Please contact for more information jrc-waf[at]ec.europa.eu.<br><br>Your support ID is: 484695481544761501<br><br><a href='javascript:history.back();'>[Go Back]</a></body></html>\n",
      "\n",
      " H9B354\n",
      "\tjson url: http://data.riksdagen.se/dokument/H9B354.json\n",
      "\tdoc url: https://www.riksdagen.se/sv/dokument-lagar/dokument/_H9B354\n",
      "\thtml url: http://data.riksdagen.se/dokument/H9B354\n",
      "\t "
     ]
    },
    {
     "data": {
      "text/html": [
       "<a href=https://www.riksdagen.se/sv/dokument-lagar/dokument/_H9B354/></a>"
      ],
      "text/plain": [
       "<IPython.core.display.HTML object>"
      ]
     },
     "metadata": {},
     "output_type": "display_data"
    },
    {
     "name": "stdout",
     "output_type": "stream",
     "text": [
      "\n",
      "Length text:\t 887521\n",
      "<Response [403]>\n",
      "Exception:\t Expecting value: line 1 column 1 (char 0)\n",
      "<html><head><title>Request Rejected</title></head><body>The requested URL was rejected. Please contact for more information jrc-waf[at]ec.europa.eu.<br><br>Your support ID is: 484695481544772421<br><br><a href='javascript:history.back();'>[Go Back]</a></body></html>\n",
      "\n",
      " H9B364\n",
      "\tjson url: http://data.riksdagen.se/dokument/H9B364.json\n",
      "\tdoc url: https://www.riksdagen.se/sv/dokument-lagar/dokument/_H9B364\n",
      "\thtml url: http://data.riksdagen.se/dokument/H9B364\n",
      "\t "
     ]
    },
    {
     "data": {
      "text/html": [
       "<a href=https://www.riksdagen.se/sv/dokument-lagar/dokument/_H9B364/></a>"
      ],
      "text/plain": [
       "<IPython.core.display.HTML object>"
      ]
     },
     "metadata": {},
     "output_type": "display_data"
    },
    {
     "name": "stdout",
     "output_type": "stream",
     "text": [
      "\n",
      "Length text:\t 928865\n",
      "<Response [403]>\n",
      "Exception:\t Expecting value: line 1 column 1 (char 0)\n",
      "<html><head><title>Request Rejected</title></head><body>The requested URL was rejected. Please contact for more information jrc-waf[at]ec.europa.eu.<br><br>Your support ID is: 484695479898747972<br><br><a href='javascript:history.back();'>[Go Back]</a></body></html>\n",
      "\n",
      " H9B358\n",
      "\tjson url: http://data.riksdagen.se/dokument/H9B358.json\n",
      "\tdoc url: https://www.riksdagen.se/sv/dokument-lagar/dokument/_H9B358\n",
      "\thtml url: http://data.riksdagen.se/dokument/H9B358\n",
      "\t "
     ]
    },
    {
     "data": {
      "text/html": [
       "<a href=https://www.riksdagen.se/sv/dokument-lagar/dokument/_H9B358/></a>"
      ],
      "text/plain": [
       "<IPython.core.display.HTML object>"
      ]
     },
     "metadata": {},
     "output_type": "display_data"
    },
    {
     "name": "stdout",
     "output_type": "stream",
     "text": [
      "\n",
      "Length text:\t 834668\n",
      "<Response [403]>\n",
      "Exception:\t Expecting value: line 1 column 1 (char 0)\n",
      "<html><head><title>Request Rejected</title></head><body>The requested URL was rejected. Please contact for more information jrc-waf[at]ec.europa.eu.<br><br>Your support ID is: 484695481544804629<br><br><a href='javascript:history.back();'>[Go Back]</a></body></html>\n",
      "\n",
      " H9B367\n",
      "\tjson url: http://data.riksdagen.se/dokument/H9B367.json\n",
      "\tdoc url: https://www.riksdagen.se/sv/dokument-lagar/dokument/_H9B367\n",
      "\thtml url: http://data.riksdagen.se/dokument/H9B367\n",
      "\t "
     ]
    },
    {
     "data": {
      "text/html": [
       "<a href=https://www.riksdagen.se/sv/dokument-lagar/dokument/_H9B367/></a>"
      ],
      "text/plain": [
       "<IPython.core.display.HTML object>"
      ]
     },
     "metadata": {},
     "output_type": "display_data"
    },
    {
     "name": "stdout",
     "output_type": "stream",
     "text": [
      "\n",
      "Length text:\t 814430\n",
      "<Response [403]>\n",
      "Exception:\t Expecting value: line 1 column 1 (char 0)\n",
      "<html><head><title>Request Rejected</title></head><body>The requested URL was rejected. Please contact for more information jrc-waf[at]ec.europa.eu.<br><br>Your support ID is: 484695479898768076<br><br><a href='javascript:history.back();'>[Go Back]</a></body></html>\n",
      "\n",
      " H9B369\n",
      "\tjson url: http://data.riksdagen.se/dokument/H9B369.json\n",
      "\tdoc url: https://www.riksdagen.se/sv/dokument-lagar/dokument/_H9B369\n",
      "\thtml url: http://data.riksdagen.se/dokument/H9B369\n",
      "\t "
     ]
    },
    {
     "data": {
      "text/html": [
       "<a href=https://www.riksdagen.se/sv/dokument-lagar/dokument/_H9B369/></a>"
      ],
      "text/plain": [
       "<IPython.core.display.HTML object>"
      ]
     },
     "metadata": {},
     "output_type": "display_data"
    },
    {
     "name": "stdout",
     "output_type": "stream",
     "text": [
      "\n",
      "Length text:\t 1392685\n",
      "<Response [403]>\n",
      "Exception:\t Expecting value: line 1 column 1 (char 0)\n",
      "<html><head><title>Request Rejected</title></head><body>The requested URL was rejected. Please contact for more information jrc-waf[at]ec.europa.eu.<br><br>Your support ID is: 484695481544829269<br><br><a href='javascript:history.back();'>[Go Back]</a></body></html>\n",
      "\n",
      " H9B365\n",
      "\tjson url: http://data.riksdagen.se/dokument/H9B365.json\n",
      "\tdoc url: https://www.riksdagen.se/sv/dokument-lagar/dokument/_H9B365\n",
      "\thtml url: http://data.riksdagen.se/dokument/H9B365\n",
      "\t "
     ]
    },
    {
     "data": {
      "text/html": [
       "<a href=https://www.riksdagen.se/sv/dokument-lagar/dokument/_H9B365/></a>"
      ],
      "text/plain": [
       "<IPython.core.display.HTML object>"
      ]
     },
     "metadata": {},
     "output_type": "display_data"
    },
    {
     "name": "stdout",
     "output_type": "stream",
     "text": [
      "\n",
      "Length text:\t 717423\n",
      "<Response [403]>\n",
      "Exception:\t Expecting value: line 1 column 1 (char 0)\n",
      "<html><head><title>Request Rejected</title></head><body>The requested URL was rejected. Please contact for more information jrc-waf[at]ec.europa.eu.<br><br>Your support ID is: 484695479898782316<br><br><a href='javascript:history.back();'>[Go Back]</a></body></html>\n",
      "\n",
      " H9B370\n",
      "\tjson url: http://data.riksdagen.se/dokument/H9B370.json\n",
      "\tdoc url: https://www.riksdagen.se/sv/dokument-lagar/dokument/_H9B370\n",
      "\thtml url: http://data.riksdagen.se/dokument/H9B370\n",
      "\t "
     ]
    },
    {
     "data": {
      "text/html": [
       "<a href=https://www.riksdagen.se/sv/dokument-lagar/dokument/_H9B370/></a>"
      ],
      "text/plain": [
       "<IPython.core.display.HTML object>"
      ]
     },
     "metadata": {},
     "output_type": "display_data"
    },
    {
     "name": "stdout",
     "output_type": "stream",
     "text": [
      "\n",
      "Length text:\t 952325\n",
      "<Response [403]>\n",
      "Exception:\t Expecting value: line 1 column 1 (char 0)\n",
      "<html><head><title>Request Rejected</title></head><body>The requested URL was rejected. Please contact for more information jrc-waf[at]ec.europa.eu.<br><br>Your support ID is: 484695481544854485<br><br><a href='javascript:history.back();'>[Go Back]</a></body></html>\n",
      "\n",
      " H9B375\n",
      "\tjson url: http://data.riksdagen.se/dokument/H9B375.json\n",
      "\tdoc url: https://www.riksdagen.se/sv/dokument-lagar/dokument/_H9B375\n",
      "\thtml url: http://data.riksdagen.se/dokument/H9B375\n",
      "\t "
     ]
    },
    {
     "data": {
      "text/html": [
       "<a href=https://www.riksdagen.se/sv/dokument-lagar/dokument/_H9B375/></a>"
      ],
      "text/plain": [
       "<IPython.core.display.HTML object>"
      ]
     },
     "metadata": {},
     "output_type": "display_data"
    },
    {
     "name": "stdout",
     "output_type": "stream",
     "text": [
      "\n",
      "Length text:\t 888347\n",
      "<Response [403]>\n",
      "Exception:\t Expecting value: line 1 column 1 (char 0)\n",
      "<html><head><title>Request Rejected</title></head><body>The requested URL was rejected. Please contact for more information jrc-waf[at]ec.europa.eu.<br><br>Your support ID is: 484695481544869781<br><br><a href='javascript:history.back();'>[Go Back]</a></body></html>\n",
      "\n",
      " H9B374\n",
      "\tjson url: http://data.riksdagen.se/dokument/H9B374.json\n",
      "\tdoc url: https://www.riksdagen.se/sv/dokument-lagar/dokument/_H9B374\n",
      "\thtml url: http://data.riksdagen.se/dokument/H9B374\n",
      "\t "
     ]
    },
    {
     "data": {
      "text/html": [
       "<a href=https://www.riksdagen.se/sv/dokument-lagar/dokument/_H9B374/></a>"
      ],
      "text/plain": [
       "<IPython.core.display.HTML object>"
      ]
     },
     "metadata": {},
     "output_type": "display_data"
    },
    {
     "name": "stdout",
     "output_type": "stream",
     "text": [
      "\n",
      "Length text:\t 324932\n",
      "<Response [200]>\n",
      "{'data': []}\n",
      "\n",
      " H9B366\n",
      "\tjson url: http://data.riksdagen.se/dokument/H9B366.json\n",
      "\tdoc url: https://www.riksdagen.se/sv/dokument-lagar/dokument/_H9B366\n",
      "\thtml url: http://data.riksdagen.se/dokument/H9B366\n",
      "\t "
     ]
    },
    {
     "data": {
      "text/html": [
       "<a href=https://www.riksdagen.se/sv/dokument-lagar/dokument/_H9B366/></a>"
      ],
      "text/plain": [
       "<IPython.core.display.HTML object>"
      ]
     },
     "metadata": {},
     "output_type": "display_data"
    },
    {
     "name": "stdout",
     "output_type": "stream",
     "text": [
      "\n",
      "Length text:\t 471340\n",
      "<Response [200]>\n",
      "{'data': []}\n",
      "new ok higher size  471340\n",
      "\n",
      " H9B368\n",
      "\tjson url: http://data.riksdagen.se/dokument/H9B368.json\n",
      "\tdoc url: https://www.riksdagen.se/sv/dokument-lagar/dokument/_H9B368\n",
      "\thtml url: http://data.riksdagen.se/dokument/H9B368\n",
      "\t "
     ]
    },
    {
     "data": {
      "text/html": [
       "<a href=https://www.riksdagen.se/sv/dokument-lagar/dokument/_H9B368/></a>"
      ],
      "text/plain": [
       "<IPython.core.display.HTML object>"
      ]
     },
     "metadata": {},
     "output_type": "display_data"
    },
    {
     "name": "stdout",
     "output_type": "stream",
     "text": [
      "\n",
      "Length text:\t 1154120\n",
      "<Response [403]>\n",
      "Exception:\t Expecting value: line 1 column 1 (char 0)\n",
      "<html><head><title>Request Rejected</title></head><body>The requested URL was rejected. Please contact for more information jrc-waf[at]ec.europa.eu.<br><br>Your support ID is: 484695479898821524<br><br><a href='javascript:history.back();'>[Go Back]</a></body></html>\n",
      "\n",
      " H9B373\n",
      "\tjson url: http://data.riksdagen.se/dokument/H9B373.json\n",
      "\tdoc url: https://www.riksdagen.se/sv/dokument-lagar/dokument/_H9B373\n",
      "\thtml url: http://data.riksdagen.se/dokument/H9B373\n",
      "\t "
     ]
    },
    {
     "data": {
      "text/html": [
       "<a href=https://www.riksdagen.se/sv/dokument-lagar/dokument/_H9B373/></a>"
      ],
      "text/plain": [
       "<IPython.core.display.HTML object>"
      ]
     },
     "metadata": {},
     "output_type": "display_data"
    },
    {
     "name": "stdout",
     "output_type": "stream",
     "text": [
      "\n",
      "Length text:\t 530293\n",
      "<Response [403]>\n",
      "Exception:\t Expecting value: line 1 column 1 (char 0)\n",
      "<html><head><title>Request Rejected</title></head><body>The requested URL was rejected. Please contact for more information jrc-waf[at]ec.europa.eu.<br><br>Your support ID is: 484695479898831596<br><br><a href='javascript:history.back();'>[Go Back]</a></body></html>\n",
      "\n",
      " H9B372\n",
      "\tjson url: http://data.riksdagen.se/dokument/H9B372.json\n",
      "\tdoc url: https://www.riksdagen.se/sv/dokument-lagar/dokument/_H9B372\n",
      "\thtml url: http://data.riksdagen.se/dokument/H9B372\n",
      "\t "
     ]
    },
    {
     "data": {
      "text/html": [
       "<a href=https://www.riksdagen.se/sv/dokument-lagar/dokument/_H9B372/></a>"
      ],
      "text/plain": [
       "<IPython.core.display.HTML object>"
      ]
     },
     "metadata": {},
     "output_type": "display_data"
    },
    {
     "name": "stdout",
     "output_type": "stream",
     "text": [
      "\n",
      "Length text:\t 213397\n",
      "<Response [200]>\n",
      "{'data': []}\n",
      "\n",
      " H9B390\n",
      "\tjson url: http://data.riksdagen.se/dokument/H9B390.json\n",
      "\tdoc url: https://www.riksdagen.se/sv/dokument-lagar/dokument/_H9B390\n",
      "\thtml url: http://data.riksdagen.se/dokument/H9B390\n",
      "\t "
     ]
    },
    {
     "data": {
      "text/html": [
       "<a href=https://www.riksdagen.se/sv/dokument-lagar/dokument/_H9B390/></a>"
      ],
      "text/plain": [
       "<IPython.core.display.HTML object>"
      ]
     },
     "metadata": {},
     "output_type": "display_data"
    },
    {
     "name": "stdout",
     "output_type": "stream",
     "text": [
      "\n",
      "Length text:\t 592130\n",
      "<Response [403]>\n",
      "Exception:\t Expecting value: line 1 column 1 (char 0)\n",
      "<html><head><title>Request Rejected</title></head><body>The requested URL was rejected. Please contact for more information jrc-waf[at]ec.europa.eu.<br><br>Your support ID is: 484695481544945885<br><br><a href='javascript:history.back();'>[Go Back]</a></body></html>\n",
      "\n",
      " H9B394\n",
      "\tjson url: http://data.riksdagen.se/dokument/H9B394.json\n",
      "\tdoc url: https://www.riksdagen.se/sv/dokument-lagar/dokument/_H9B394\n",
      "\thtml url: http://data.riksdagen.se/dokument/H9B394\n",
      "\t "
     ]
    },
    {
     "data": {
      "text/html": [
       "<a href=https://www.riksdagen.se/sv/dokument-lagar/dokument/_H9B394/></a>"
      ],
      "text/plain": [
       "<IPython.core.display.HTML object>"
      ]
     },
     "metadata": {},
     "output_type": "display_data"
    },
    {
     "name": "stdout",
     "output_type": "stream",
     "text": [
      "\n",
      "Length text:\t 762544\n",
      "<Response [403]>\n",
      "Exception:\t Expecting value: line 1 column 1 (char 0)\n",
      "<html><head><title>Request Rejected</title></head><body>The requested URL was rejected. Please contact for more information jrc-waf[at]ec.europa.eu.<br><br>Your support ID is: 484695481544962861<br><br><a href='javascript:history.back();'>[Go Back]</a></body></html>\n",
      "\n",
      " H9B392\n",
      "\tjson url: http://data.riksdagen.se/dokument/H9B392.json\n",
      "\tdoc url: https://www.riksdagen.se/sv/dokument-lagar/dokument/_H9B392\n",
      "\thtml url: http://data.riksdagen.se/dokument/H9B392\n",
      "\t "
     ]
    },
    {
     "data": {
      "text/html": [
       "<a href=https://www.riksdagen.se/sv/dokument-lagar/dokument/_H9B392/></a>"
      ],
      "text/plain": [
       "<IPython.core.display.HTML object>"
      ]
     },
     "metadata": {},
     "output_type": "display_data"
    },
    {
     "name": "stdout",
     "output_type": "stream",
     "text": [
      "\n",
      "Length text:\t 1310656\n",
      "<Response [403]>\n",
      "Exception:\t Expecting value: line 1 column 1 (char 0)\n",
      "<html><head><title>Request Rejected</title></head><body>The requested URL was rejected. Please contact for more information jrc-waf[at]ec.europa.eu.<br><br>Your support ID is: 484695479898871180<br><br><a href='javascript:history.back();'>[Go Back]</a></body></html>\n",
      "\n",
      " H9B395\n",
      "\tjson url: http://data.riksdagen.se/dokument/H9B395.json\n",
      "\tdoc url: https://www.riksdagen.se/sv/dokument-lagar/dokument/_H9B395\n",
      "\thtml url: http://data.riksdagen.se/dokument/H9B395\n",
      "\t "
     ]
    },
    {
     "data": {
      "text/html": [
       "<a href=https://www.riksdagen.se/sv/dokument-lagar/dokument/_H9B395/></a>"
      ],
      "text/plain": [
       "<IPython.core.display.HTML object>"
      ]
     },
     "metadata": {},
     "output_type": "display_data"
    },
    {
     "name": "stdout",
     "output_type": "stream",
     "text": [
      "\n",
      "Length text:\t 713207\n",
      "<Response [403]>\n",
      "Exception:\t Expecting value: line 1 column 1 (char 0)\n",
      "<html><head><title>Request Rejected</title></head><body>The requested URL was rejected. Please contact for more information jrc-waf[at]ec.europa.eu.<br><br>Your support ID is: 484695481545000877<br><br><a href='javascript:history.back();'>[Go Back]</a></body></html>\n",
      "\n",
      " H9B393\n",
      "\tjson url: http://data.riksdagen.se/dokument/H9B393.json\n",
      "\tdoc url: https://www.riksdagen.se/sv/dokument-lagar/dokument/_H9B393\n",
      "\thtml url: http://data.riksdagen.se/dokument/H9B393\n",
      "\t "
     ]
    },
    {
     "data": {
      "text/html": [
       "<a href=https://www.riksdagen.se/sv/dokument-lagar/dokument/_H9B393/></a>"
      ],
      "text/plain": [
       "<IPython.core.display.HTML object>"
      ]
     },
     "metadata": {},
     "output_type": "display_data"
    },
    {
     "name": "stdout",
     "output_type": "stream",
     "text": [
      "\n",
      "Length text:\t 1451984\n",
      "<Response [403]>\n",
      "Exception:\t Expecting value: line 1 column 1 (char 0)\n",
      "<html><head><title>Request Rejected</title></head><body>The requested URL was rejected. Please contact for more information jrc-waf[at]ec.europa.eu.<br><br>Your support ID is: 484695481545022645<br><br><a href='javascript:history.back();'>[Go Back]</a></body></html>\n",
      "\n",
      " H9B3103\n",
      "\tjson url: http://data.riksdagen.se/dokument/H9B3103.json\n",
      "\tdoc url: https://www.riksdagen.se/sv/dokument-lagar/dokument/_H9B3103\n",
      "\thtml url: http://data.riksdagen.se/dokument/H9B3103\n",
      "\t "
     ]
    },
    {
     "data": {
      "text/html": [
       "<a href=https://www.riksdagen.se/sv/dokument-lagar/dokument/_H9B3103/></a>"
      ],
      "text/plain": [
       "<IPython.core.display.HTML object>"
      ]
     },
     "metadata": {},
     "output_type": "display_data"
    },
    {
     "name": "stdout",
     "output_type": "stream",
     "text": [
      "\n",
      "Length text:\t 450155\n",
      "<Response [200]>\n",
      "{'data': []}\n",
      "\n",
      " H9B399\n",
      "\tjson url: http://data.riksdagen.se/dokument/H9B399.json\n",
      "\tdoc url: https://www.riksdagen.se/sv/dokument-lagar/dokument/_H9B399\n",
      "\thtml url: http://data.riksdagen.se/dokument/H9B399\n",
      "\t "
     ]
    },
    {
     "data": {
      "text/html": [
       "<a href=https://www.riksdagen.se/sv/dokument-lagar/dokument/_H9B399/></a>"
      ],
      "text/plain": [
       "<IPython.core.display.HTML object>"
      ]
     },
     "metadata": {},
     "output_type": "display_data"
    },
    {
     "name": "stdout",
     "output_type": "stream",
     "text": [
      "\n",
      "Length text:\t 517616\n",
      "<Response [403]>\n",
      "Exception:\t Expecting value: line 1 column 1 (char 0)\n",
      "<html><head><title>Request Rejected</title></head><body>The requested URL was rejected. Please contact for more information jrc-waf[at]ec.europa.eu.<br><br>Your support ID is: 484695479898918972<br><br><a href='javascript:history.back();'>[Go Back]</a></body></html>\n",
      "\n",
      " H9B3100\n",
      "\tjson url: http://data.riksdagen.se/dokument/H9B3100.json\n",
      "\tdoc url: https://www.riksdagen.se/sv/dokument-lagar/dokument/_H9B3100\n",
      "\thtml url: http://data.riksdagen.se/dokument/H9B3100\n",
      "\t "
     ]
    },
    {
     "data": {
      "text/html": [
       "<a href=https://www.riksdagen.se/sv/dokument-lagar/dokument/_H9B3100/></a>"
      ],
      "text/plain": [
       "<IPython.core.display.HTML object>"
      ]
     },
     "metadata": {},
     "output_type": "display_data"
    },
    {
     "name": "stdout",
     "output_type": "stream",
     "text": [
      "\n",
      "Length text:\t 1245643\n",
      "<Response [403]>\n",
      "Exception:\t Expecting value: line 1 column 1 (char 0)\n",
      "<html><head><title>Request Rejected</title></head><body>The requested URL was rejected. Please contact for more information jrc-waf[at]ec.europa.eu.<br><br>Your support ID is: 484695479898928780<br><br><a href='javascript:history.back();'>[Go Back]</a></body></html>\n",
      "\n",
      " H9B335\n",
      "\tjson url: http://data.riksdagen.se/dokument/H9B335.json\n",
      "\tdoc url: https://www.riksdagen.se/sv/dokument-lagar/dokument/_H9B335\n",
      "\thtml url: http://data.riksdagen.se/dokument/H9B335\n",
      "\t "
     ]
    },
    {
     "data": {
      "text/html": [
       "<a href=https://www.riksdagen.se/sv/dokument-lagar/dokument/_H9B335/></a>"
      ],
      "text/plain": [
       "<IPython.core.display.HTML object>"
      ]
     },
     "metadata": {},
     "output_type": "display_data"
    },
    {
     "name": "stdout",
     "output_type": "stream",
     "text": [
      "\n",
      "Length text:\t 1171765\n",
      "<Response [403]>\n",
      "Exception:\t Expecting value: line 1 column 1 (char 0)\n",
      "<html><head><title>Request Rejected</title></head><body>The requested URL was rejected. Please contact for more information jrc-waf[at]ec.europa.eu.<br><br>Your support ID is: 484695479898937316<br><br><a href='javascript:history.back();'>[Go Back]</a></body></html>\n",
      "\n",
      " H9B343\n",
      "\tjson url: http://data.riksdagen.se/dokument/H9B343.json\n",
      "\tdoc url: https://www.riksdagen.se/sv/dokument-lagar/dokument/_H9B343\n",
      "\thtml url: http://data.riksdagen.se/dokument/H9B343\n",
      "\t "
     ]
    },
    {
     "data": {
      "text/html": [
       "<a href=https://www.riksdagen.se/sv/dokument-lagar/dokument/_H9B343/></a>"
      ],
      "text/plain": [
       "<IPython.core.display.HTML object>"
      ]
     },
     "metadata": {},
     "output_type": "display_data"
    },
    {
     "name": "stdout",
     "output_type": "stream",
     "text": [
      "\n",
      "Length text:\t 1142685\n",
      "<Response [403]>\n",
      "Exception:\t Expecting value: line 1 column 1 (char 0)\n",
      "<html><head><title>Request Rejected</title></head><body>The requested URL was rejected. Please contact for more information jrc-waf[at]ec.europa.eu.<br><br>Your support ID is: 484695481545117725<br><br><a href='javascript:history.back();'>[Go Back]</a></body></html>\n",
      "\n",
      " H9B371\n",
      "\tjson url: http://data.riksdagen.se/dokument/H9B371.json\n",
      "\tdoc url: https://www.riksdagen.se/sv/dokument-lagar/dokument/_H9B371\n",
      "\thtml url: http://data.riksdagen.se/dokument/H9B371\n",
      "\t "
     ]
    },
    {
     "data": {
      "text/html": [
       "<a href=https://www.riksdagen.se/sv/dokument-lagar/dokument/_H9B371/></a>"
      ],
      "text/plain": [
       "<IPython.core.display.HTML object>"
      ]
     },
     "metadata": {},
     "output_type": "display_data"
    },
    {
     "name": "stdout",
     "output_type": "stream",
     "text": [
      "\n",
      "Length text:\t 980669\n",
      "<Response [403]>\n",
      "Exception:\t Expecting value: line 1 column 1 (char 0)\n",
      "<html><head><title>Request Rejected</title></head><body>The requested URL was rejected. Please contact for more information jrc-waf[at]ec.europa.eu.<br><br>Your support ID is: 484695479898956068<br><br><a href='javascript:history.back();'>[Go Back]</a></body></html>\n",
      "\n",
      " H9B3101\n",
      "\tjson url: http://data.riksdagen.se/dokument/H9B3101.json\n",
      "\tdoc url: https://www.riksdagen.se/sv/dokument-lagar/dokument/_H9B3101\n",
      "\thtml url: http://data.riksdagen.se/dokument/H9B3101\n",
      "\t "
     ]
    },
    {
     "data": {
      "text/html": [
       "<a href=https://www.riksdagen.se/sv/dokument-lagar/dokument/_H9B3101/></a>"
      ],
      "text/plain": [
       "<IPython.core.display.HTML object>"
      ]
     },
     "metadata": {},
     "output_type": "display_data"
    },
    {
     "name": "stdout",
     "output_type": "stream",
     "text": [
      "\n",
      "Length text:\t 721533\n",
      "<Response [403]>\n",
      "Exception:\t Expecting value: line 1 column 1 (char 0)\n",
      "<html><head><title>Request Rejected</title></head><body>The requested URL was rejected. Please contact for more information jrc-waf[at]ec.europa.eu.<br><br>Your support ID is: 484695481545147685<br><br><a href='javascript:history.back();'>[Go Back]</a></body></html>\n",
      "\n",
      " H9B310\n",
      "\tjson url: http://data.riksdagen.se/dokument/H9B310.json\n",
      "\tdoc url: https://www.riksdagen.se/sv/dokument-lagar/dokument/_H9B310\n",
      "\thtml url: http://data.riksdagen.se/dokument/H9B310\n",
      "\t "
     ]
    },
    {
     "data": {
      "text/html": [
       "<a href=https://www.riksdagen.se/sv/dokument-lagar/dokument/_H9B310/></a>"
      ],
      "text/plain": [
       "<IPython.core.display.HTML object>"
      ]
     },
     "metadata": {},
     "output_type": "display_data"
    },
    {
     "name": "stdout",
     "output_type": "stream",
     "text": [
      "\n",
      "Length text:\t 733093\n",
      "<Response [403]>\n",
      "Exception:\t Expecting value: line 1 column 1 (char 0)\n",
      "<html><head><title>Request Rejected</title></head><body>The requested URL was rejected. Please contact for more information jrc-waf[at]ec.europa.eu.<br><br>Your support ID is: 484695479898973940<br><br><a href='javascript:history.back();'>[Go Back]</a></body></html>\n",
      "\n",
      " H9B341\n",
      "\tjson url: http://data.riksdagen.se/dokument/H9B341.json\n",
      "\tdoc url: https://www.riksdagen.se/sv/dokument-lagar/dokument/_H9B341\n",
      "\thtml url: http://data.riksdagen.se/dokument/H9B341\n",
      "\t "
     ]
    },
    {
     "data": {
      "text/html": [
       "<a href=https://www.riksdagen.se/sv/dokument-lagar/dokument/_H9B341/></a>"
      ],
      "text/plain": [
       "<IPython.core.display.HTML object>"
      ]
     },
     "metadata": {},
     "output_type": "display_data"
    },
    {
     "name": "stdout",
     "output_type": "stream",
     "text": [
      "\n",
      "Length text:\t 279562\n",
      "<Response [200]>\n",
      "{'data': []}\n",
      "\n",
      " H9B377\n",
      "\tjson url: http://data.riksdagen.se/dokument/H9B377.json\n",
      "\tdoc url: https://www.riksdagen.se/sv/dokument-lagar/dokument/_H9B377\n",
      "\thtml url: http://data.riksdagen.se/dokument/H9B377\n",
      "\t "
     ]
    },
    {
     "data": {
      "text/html": [
       "<a href=https://www.riksdagen.se/sv/dokument-lagar/dokument/_H9B377/></a>"
      ],
      "text/plain": [
       "<IPython.core.display.HTML object>"
      ]
     },
     "metadata": {},
     "output_type": "display_data"
    },
    {
     "name": "stdout",
     "output_type": "stream",
     "text": [
      "\n",
      "Length text:\t 683668\n",
      "<Response [403]>\n",
      "Exception:\t Expecting value: line 1 column 1 (char 0)\n",
      "<html><head><title>Request Rejected</title></head><body>The requested URL was rejected. Please contact for more information jrc-waf[at]ec.europa.eu.<br><br>Your support ID is: 484695479898989788<br><br><a href='javascript:history.back();'>[Go Back]</a></body></html>\n",
      "\n",
      " H9B349\n",
      "\tjson url: http://data.riksdagen.se/dokument/H9B349.json\n",
      "\tdoc url: https://www.riksdagen.se/sv/dokument-lagar/dokument/_H9B349\n",
      "\thtml url: http://data.riksdagen.se/dokument/H9B349\n",
      "\t "
     ]
    },
    {
     "data": {
      "text/html": [
       "<a href=https://www.riksdagen.se/sv/dokument-lagar/dokument/_H9B349/></a>"
      ],
      "text/plain": [
       "<IPython.core.display.HTML object>"
      ]
     },
     "metadata": {},
     "output_type": "display_data"
    },
    {
     "name": "stdout",
     "output_type": "stream",
     "text": [
      "\n",
      "Length text:\t 578585\n",
      "<Response [403]>\n",
      "Exception:\t Expecting value: line 1 column 1 (char 0)\n",
      "<html><head><title>Request Rejected</title></head><body>The requested URL was rejected. Please contact for more information jrc-waf[at]ec.europa.eu.<br><br>Your support ID is: 484695479898996924<br><br><a href='javascript:history.back();'>[Go Back]</a></body></html>\n",
      "\n",
      " H9B339\n",
      "\tjson url: http://data.riksdagen.se/dokument/H9B339.json\n",
      "\tdoc url: https://www.riksdagen.se/sv/dokument-lagar/dokument/_H9B339\n",
      "\thtml url: http://data.riksdagen.se/dokument/H9B339\n",
      "\t "
     ]
    },
    {
     "data": {
      "text/html": [
       "<a href=https://www.riksdagen.se/sv/dokument-lagar/dokument/_H9B339/></a>"
      ],
      "text/plain": [
       "<IPython.core.display.HTML object>"
      ]
     },
     "metadata": {},
     "output_type": "display_data"
    },
    {
     "name": "stdout",
     "output_type": "stream",
     "text": [
      "\n",
      "Length text:\t 746055\n",
      "<Response [403]>\n",
      "Exception:\t Expecting value: line 1 column 1 (char 0)\n",
      "<html><head><title>Request Rejected</title></head><body>The requested URL was rejected. Please contact for more information jrc-waf[at]ec.europa.eu.<br><br>Your support ID is: 484695479899003604<br><br><a href='javascript:history.back();'>[Go Back]</a></body></html>\n",
      "\n",
      " H9B337\n",
      "\tjson url: http://data.riksdagen.se/dokument/H9B337.json\n",
      "\tdoc url: https://www.riksdagen.se/sv/dokument-lagar/dokument/_H9B337\n",
      "\thtml url: http://data.riksdagen.se/dokument/H9B337\n",
      "\t "
     ]
    },
    {
     "data": {
      "text/html": [
       "<a href=https://www.riksdagen.se/sv/dokument-lagar/dokument/_H9B337/></a>"
      ],
      "text/plain": [
       "<IPython.core.display.HTML object>"
      ]
     },
     "metadata": {},
     "output_type": "display_data"
    },
    {
     "name": "stdout",
     "output_type": "stream",
     "text": [
      "\n",
      "Length text:\t 1583688\n",
      "<Response [403]>\n",
      "Exception:\t Expecting value: line 1 column 1 (char 0)\n",
      "<html><head><title>Request Rejected</title></head><body>The requested URL was rejected. Please contact for more information jrc-waf[at]ec.europa.eu.<br><br>Your support ID is: 484695481545227829<br><br><a href='javascript:history.back();'>[Go Back]</a></body></html>\n",
      "\n",
      " H9B332\n",
      "\tjson url: http://data.riksdagen.se/dokument/H9B332.json\n",
      "\tdoc url: https://www.riksdagen.se/sv/dokument-lagar/dokument/_H9B332\n",
      "\thtml url: http://data.riksdagen.se/dokument/H9B332\n",
      "\t "
     ]
    },
    {
     "data": {
      "text/html": [
       "<a href=https://www.riksdagen.se/sv/dokument-lagar/dokument/_H9B332/></a>"
      ],
      "text/plain": [
       "<IPython.core.display.HTML object>"
      ]
     },
     "metadata": {},
     "output_type": "display_data"
    },
    {
     "name": "stdout",
     "output_type": "stream",
     "text": [
      "\n",
      "Length text:\t 974977\n",
      "<Response [403]>\n",
      "Exception:\t Expecting value: line 1 column 1 (char 0)\n",
      "<html><head><title>Request Rejected</title></head><body>The requested URL was rejected. Please contact for more information jrc-waf[at]ec.europa.eu.<br><br>Your support ID is: 484695479899028804<br><br><a href='javascript:history.back();'>[Go Back]</a></body></html>\n",
      "\n",
      " H9B312\n",
      "\tjson url: http://data.riksdagen.se/dokument/H9B312.json\n",
      "\tdoc url: https://www.riksdagen.se/sv/dokument-lagar/dokument/_H9B312\n",
      "\thtml url: http://data.riksdagen.se/dokument/H9B312\n",
      "\t "
     ]
    },
    {
     "data": {
      "text/html": [
       "<a href=https://www.riksdagen.se/sv/dokument-lagar/dokument/_H9B312/></a>"
      ],
      "text/plain": [
       "<IPython.core.display.HTML object>"
      ]
     },
     "metadata": {},
     "output_type": "display_data"
    },
    {
     "name": "stdout",
     "output_type": "stream",
     "text": [
      "\n",
      "Length text:\t 14\n",
      "<Response [200]>\n",
      "{'data': ['{\"name\": \"sdgs\", \"children\": [], \"api version\": \"v1\"}']}\n",
      "\n",
      " H9B332\n",
      "\tjson url: http://data.riksdagen.se/dokument/H9B332.json\n",
      "\tdoc url: https://www.riksdagen.se/sv/dokument-lagar/dokument/_H9B332\n",
      "\thtml url: http://data.riksdagen.se/dokument/H9B332\n",
      "\t "
     ]
    },
    {
     "data": {
      "text/html": [
       "<a href=https://www.riksdagen.se/sv/dokument-lagar/dokument/_H9B332/></a>"
      ],
      "text/plain": [
       "<IPython.core.display.HTML object>"
      ]
     },
     "metadata": {},
     "output_type": "display_data"
    },
    {
     "name": "stdout",
     "output_type": "stream",
     "text": [
      "\n",
      "Length text:\t 974977\n",
      "<Response [403]>\n",
      "Exception:\t Expecting value: line 1 column 1 (char 0)\n",
      "<html><head><title>Request Rejected</title></head><body>The requested URL was rejected. Please contact for more information jrc-waf[at]ec.europa.eu.<br><br>Your support ID is: 484695479899044188<br><br><a href='javascript:history.back();'>[Go Back]</a></body></html>\n",
      "\n",
      " H9B312\n",
      "\tjson url: http://data.riksdagen.se/dokument/H9B312.json\n",
      "\tdoc url: https://www.riksdagen.se/sv/dokument-lagar/dokument/_H9B312\n",
      "\thtml url: http://data.riksdagen.se/dokument/H9B312\n",
      "\t "
     ]
    },
    {
     "data": {
      "text/html": [
       "<a href=https://www.riksdagen.se/sv/dokument-lagar/dokument/_H9B312/></a>"
      ],
      "text/plain": [
       "<IPython.core.display.HTML object>"
      ]
     },
     "metadata": {},
     "output_type": "display_data"
    },
    {
     "name": "stdout",
     "output_type": "stream",
     "text": [
      "\n",
      "Length text:\t 14\n",
      "<Response [200]>\n",
      "{'data': ['{\"name\": \"sdgs\", \"children\": [], \"api version\": \"v1\"}']}\n",
      "\n",
      " H9B311\n",
      "\tjson url: http://data.riksdagen.se/dokument/H9B311.json\n",
      "\tdoc url: https://www.riksdagen.se/sv/dokument-lagar/dokument/_H9B311\n",
      "\thtml url: http://data.riksdagen.se/dokument/H9B311\n",
      "\t "
     ]
    },
    {
     "data": {
      "text/html": [
       "<a href=https://www.riksdagen.se/sv/dokument-lagar/dokument/_H9B311/></a>"
      ],
      "text/plain": [
       "<IPython.core.display.HTML object>"
      ]
     },
     "metadata": {},
     "output_type": "display_data"
    },
    {
     "name": "stdout",
     "output_type": "stream",
     "text": [
      "\n",
      "Length text:\t 14\n",
      "<Response [200]>\n",
      "{'data': ['{\"name\": \"sdgs\", \"children\": [], \"api version\": \"v1\"}']}\n",
      "\n",
      " H9B320\n",
      "\tjson url: http://data.riksdagen.se/dokument/H9B320.json\n",
      "\tdoc url: https://www.riksdagen.se/sv/dokument-lagar/dokument/_H9B320\n",
      "\thtml url: http://data.riksdagen.se/dokument/H9B320\n",
      "\t "
     ]
    },
    {
     "data": {
      "text/html": [
       "<a href=https://www.riksdagen.se/sv/dokument-lagar/dokument/_H9B320/></a>"
      ],
      "text/plain": [
       "<IPython.core.display.HTML object>"
      ]
     },
     "metadata": {},
     "output_type": "display_data"
    },
    {
     "name": "stdout",
     "output_type": "stream",
     "text": [
      "\n",
      "Length text:\t 929064\n",
      "<Response [403]>\n",
      "Exception:\t Expecting value: line 1 column 1 (char 0)\n",
      "<html><head><title>Request Rejected</title></head><body>The requested URL was rejected. Please contact for more information jrc-waf[at]ec.europa.eu.<br><br>Your support ID is: 484695479899075852<br><br><a href='javascript:history.back();'>[Go Back]</a></body></html>\n",
      "\n",
      " H9B331\n",
      "\tjson url: http://data.riksdagen.se/dokument/H9B331.json\n",
      "\tdoc url: https://www.riksdagen.se/sv/dokument-lagar/dokument/_H9B331\n",
      "\thtml url: http://data.riksdagen.se/dokument/H9B331\n",
      "\t "
     ]
    },
    {
     "data": {
      "text/html": [
       "<a href=https://www.riksdagen.se/sv/dokument-lagar/dokument/_H9B331/></a>"
      ],
      "text/plain": [
       "<IPython.core.display.HTML object>"
      ]
     },
     "metadata": {},
     "output_type": "display_data"
    },
    {
     "name": "stdout",
     "output_type": "stream",
     "text": [
      "\n",
      "Length text:\t 875198\n",
      "<Response [403]>\n",
      "Exception:\t Expecting value: line 1 column 1 (char 0)\n",
      "<html><head><title>Request Rejected</title></head><body>The requested URL was rejected. Please contact for more information jrc-waf[at]ec.europa.eu.<br><br>Your support ID is: 484695479899087372<br><br><a href='javascript:history.back();'>[Go Back]</a></body></html>\n",
      "\n",
      " H9B327\n",
      "\tjson url: http://data.riksdagen.se/dokument/H9B327.json\n",
      "\tdoc url: https://www.riksdagen.se/sv/dokument-lagar/dokument/_H9B327\n",
      "\thtml url: http://data.riksdagen.se/dokument/H9B327\n",
      "\t "
     ]
    },
    {
     "data": {
      "text/html": [
       "<a href=https://www.riksdagen.se/sv/dokument-lagar/dokument/_H9B327/></a>"
      ],
      "text/plain": [
       "<IPython.core.display.HTML object>"
      ]
     },
     "metadata": {},
     "output_type": "display_data"
    },
    {
     "name": "stdout",
     "output_type": "stream",
     "text": [
      "\n",
      "Length text:\t 746923\n",
      "<Response [403]>\n",
      "Exception:\t Expecting value: line 1 column 1 (char 0)\n",
      "<html><head><title>Request Rejected</title></head><body>The requested URL was rejected. Please contact for more information jrc-waf[at]ec.europa.eu.<br><br>Your support ID is: 484695479899095324<br><br><a href='javascript:history.back();'>[Go Back]</a></body></html>\n",
      "\n",
      " H9B323\n",
      "\tjson url: http://data.riksdagen.se/dokument/H9B323.json\n",
      "\tdoc url: https://www.riksdagen.se/sv/dokument-lagar/dokument/_H9B323\n",
      "\thtml url: http://data.riksdagen.se/dokument/H9B323\n",
      "\t "
     ]
    },
    {
     "data": {
      "text/html": [
       "<a href=https://www.riksdagen.se/sv/dokument-lagar/dokument/_H9B323/></a>"
      ],
      "text/plain": [
       "<IPython.core.display.HTML object>"
      ]
     },
     "metadata": {},
     "output_type": "display_data"
    },
    {
     "name": "stdout",
     "output_type": "stream",
     "text": [
      "\n",
      "Length text:\t 779945\n",
      "<Response [403]>\n",
      "Exception:\t Expecting value: line 1 column 1 (char 0)\n",
      "<html><head><title>Request Rejected</title></head><body>The requested URL was rejected. Please contact for more information jrc-waf[at]ec.europa.eu.<br><br>Your support ID is: 484695479899105732<br><br><a href='javascript:history.back();'>[Go Back]</a></body></html>\n",
      "\n",
      " H9B326\n",
      "\tjson url: http://data.riksdagen.se/dokument/H9B326.json\n",
      "\tdoc url: https://www.riksdagen.se/sv/dokument-lagar/dokument/_H9B326\n",
      "\thtml url: http://data.riksdagen.se/dokument/H9B326\n",
      "\t "
     ]
    },
    {
     "data": {
      "text/html": [
       "<a href=https://www.riksdagen.se/sv/dokument-lagar/dokument/_H9B326/></a>"
      ],
      "text/plain": [
       "<IPython.core.display.HTML object>"
      ]
     },
     "metadata": {},
     "output_type": "display_data"
    },
    {
     "name": "stdout",
     "output_type": "stream",
     "text": [
      "\n",
      "Length text:\t 977437\n",
      "<Response [403]>\n",
      "Exception:\t Expecting value: line 1 column 1 (char 0)\n",
      "<html><head><title>Request Rejected</title></head><body>The requested URL was rejected. Please contact for more information jrc-waf[at]ec.europa.eu.<br><br>Your support ID is: 484695479899117964<br><br><a href='javascript:history.back();'>[Go Back]</a></body></html>\n",
      "\n",
      " H9B344\n",
      "\tjson url: http://data.riksdagen.se/dokument/H9B344.json\n",
      "\tdoc url: https://www.riksdagen.se/sv/dokument-lagar/dokument/_H9B344\n",
      "\thtml url: http://data.riksdagen.se/dokument/H9B344\n",
      "\t "
     ]
    },
    {
     "data": {
      "text/html": [
       "<a href=https://www.riksdagen.se/sv/dokument-lagar/dokument/_H9B344/></a>"
      ],
      "text/plain": [
       "<IPython.core.display.HTML object>"
      ]
     },
     "metadata": {},
     "output_type": "display_data"
    },
    {
     "name": "stdout",
     "output_type": "stream",
     "text": [
      "\n",
      "Length text:\t 1476104\n",
      "<Response [403]>\n",
      "Exception:\t Expecting value: line 1 column 1 (char 0)\n",
      "<html><head><title>Request Rejected</title></head><body>The requested URL was rejected. Please contact for more information jrc-waf[at]ec.europa.eu.<br><br>Your support ID is: 484695479899130916<br><br><a href='javascript:history.back();'>[Go Back]</a></body></html>\n",
      "\n",
      " H9B347\n",
      "\tjson url: http://data.riksdagen.se/dokument/H9B347.json\n",
      "\tdoc url: https://www.riksdagen.se/sv/dokument-lagar/dokument/_H9B347\n",
      "\thtml url: http://data.riksdagen.se/dokument/H9B347\n",
      "\t "
     ]
    },
    {
     "data": {
      "text/html": [
       "<a href=https://www.riksdagen.se/sv/dokument-lagar/dokument/_H9B347/></a>"
      ],
      "text/plain": [
       "<IPython.core.display.HTML object>"
      ]
     },
     "metadata": {},
     "output_type": "display_data"
    },
    {
     "name": "stdout",
     "output_type": "stream",
     "text": [
      "\n",
      "Length text:\t 964361\n",
      "<Response [403]>\n",
      "Exception:\t Expecting value: line 1 column 1 (char 0)\n",
      "<html><head><title>Request Rejected</title></head><body>The requested URL was rejected. Please contact for more information jrc-waf[at]ec.europa.eu.<br><br>Your support ID is: 484695479899143068<br><br><a href='javascript:history.back();'>[Go Back]</a></body></html>\n",
      "\n",
      " H9B388\n",
      "\tjson url: http://data.riksdagen.se/dokument/H9B388.json\n",
      "\tdoc url: https://www.riksdagen.se/sv/dokument-lagar/dokument/_H9B388\n",
      "\thtml url: http://data.riksdagen.se/dokument/H9B388\n",
      "\t "
     ]
    },
    {
     "data": {
      "text/html": [
       "<a href=https://www.riksdagen.se/sv/dokument-lagar/dokument/_H9B388/></a>"
      ],
      "text/plain": [
       "<IPython.core.display.HTML object>"
      ]
     },
     "metadata": {},
     "output_type": "display_data"
    },
    {
     "name": "stdout",
     "output_type": "stream",
     "text": [
      "\n",
      "Length text:\t 798009\n",
      "<Response [403]>\n",
      "Exception:\t Expecting value: line 1 column 1 (char 0)\n",
      "<html><head><title>Request Rejected</title></head><body>The requested URL was rejected. Please contact for more information jrc-waf[at]ec.europa.eu.<br><br>Your support ID is: 484695479899149516<br><br><a href='javascript:history.back();'>[Go Back]</a></body></html>\n",
      "\n",
      " H9B356\n",
      "\tjson url: http://data.riksdagen.se/dokument/H9B356.json\n",
      "\tdoc url: https://www.riksdagen.se/sv/dokument-lagar/dokument/_H9B356\n",
      "\thtml url: http://data.riksdagen.se/dokument/H9B356\n",
      "\t "
     ]
    },
    {
     "data": {
      "text/html": [
       "<a href=https://www.riksdagen.se/sv/dokument-lagar/dokument/_H9B356/></a>"
      ],
      "text/plain": [
       "<IPython.core.display.HTML object>"
      ]
     },
     "metadata": {},
     "output_type": "display_data"
    },
    {
     "name": "stdout",
     "output_type": "stream",
     "text": [
      "\n",
      "Length text:\t 719484\n",
      "<Response [403]>\n",
      "Exception:\t Expecting value: line 1 column 1 (char 0)\n",
      "<html><head><title>Request Rejected</title></head><body>The requested URL was rejected. Please contact for more information jrc-waf[at]ec.europa.eu.<br><br>Your support ID is: 484695479899159772<br><br><a href='javascript:history.back();'>[Go Back]</a></body></html>\n",
      "\n",
      " H9B3102\n",
      "\tjson url: http://data.riksdagen.se/dokument/H9B3102.json\n",
      "\tdoc url: https://www.riksdagen.se/sv/dokument-lagar/dokument/_H9B3102\n",
      "\thtml url: http://data.riksdagen.se/dokument/H9B3102\n",
      "\t "
     ]
    },
    {
     "data": {
      "text/html": [
       "<a href=https://www.riksdagen.se/sv/dokument-lagar/dokument/_H9B3102/></a>"
      ],
      "text/plain": [
       "<IPython.core.display.HTML object>"
      ]
     },
     "metadata": {},
     "output_type": "display_data"
    },
    {
     "name": "stdout",
     "output_type": "stream",
     "text": [
      "\n",
      "Length text:\t 1073759\n",
      "<Response [403]>\n",
      "Exception:\t Expecting value: line 1 column 1 (char 0)\n",
      "<html><head><title>Request Rejected</title></head><body>The requested URL was rejected. Please contact for more information jrc-waf[at]ec.europa.eu.<br><br>Your support ID is: 484695479899169444<br><br><a href='javascript:history.back();'>[Go Back]</a></body></html>\n",
      "\n",
      " H9B397\n",
      "\tjson url: http://data.riksdagen.se/dokument/H9B397.json\n",
      "\tdoc url: https://www.riksdagen.se/sv/dokument-lagar/dokument/_H9B397\n",
      "\thtml url: http://data.riksdagen.se/dokument/H9B397\n",
      "\t "
     ]
    },
    {
     "data": {
      "text/html": [
       "<a href=https://www.riksdagen.se/sv/dokument-lagar/dokument/_H9B397/></a>"
      ],
      "text/plain": [
       "<IPython.core.display.HTML object>"
      ]
     },
     "metadata": {},
     "output_type": "display_data"
    },
    {
     "name": "stdout",
     "output_type": "stream",
     "text": [
      "\n",
      "Length text:\t 925718\n",
      "<Response [403]>\n",
      "Exception:\t Expecting value: line 1 column 1 (char 0)\n",
      "<html><head><title>Request Rejected</title></head><body>The requested URL was rejected. Please contact for more information jrc-waf[at]ec.europa.eu.<br><br>Your support ID is: 484695481545468549<br><br><a href='javascript:history.back();'>[Go Back]</a></body></html>\n",
      "\n",
      " H9B396\n",
      "\tjson url: http://data.riksdagen.se/dokument/H9B396.json\n",
      "\tdoc url: https://www.riksdagen.se/sv/dokument-lagar/dokument/_H9B396\n",
      "\thtml url: http://data.riksdagen.se/dokument/H9B396\n",
      "\t "
     ]
    },
    {
     "data": {
      "text/html": [
       "<a href=https://www.riksdagen.se/sv/dokument-lagar/dokument/_H9B396/></a>"
      ],
      "text/plain": [
       "<IPython.core.display.HTML object>"
      ]
     },
     "metadata": {},
     "output_type": "display_data"
    },
    {
     "name": "stdout",
     "output_type": "stream",
     "text": [
      "\n",
      "Length text:\t 851137\n",
      "<Response [403]>\n",
      "Exception:\t Expecting value: line 1 column 1 (char 0)\n",
      "<html><head><title>Request Rejected</title></head><body>The requested URL was rejected. Please contact for more information jrc-waf[at]ec.europa.eu.<br><br>Your support ID is: 484695479899187388<br><br><a href='javascript:history.back();'>[Go Back]</a></body></html>\n",
      "\n",
      " H9B398\n",
      "\tjson url: http://data.riksdagen.se/dokument/H9B398.json\n",
      "\tdoc url: https://www.riksdagen.se/sv/dokument-lagar/dokument/_H9B398\n",
      "\thtml url: http://data.riksdagen.se/dokument/H9B398\n",
      "\t "
     ]
    },
    {
     "data": {
      "text/html": [
       "<a href=https://www.riksdagen.se/sv/dokument-lagar/dokument/_H9B398/></a>"
      ],
      "text/plain": [
       "<IPython.core.display.HTML object>"
      ]
     },
     "metadata": {},
     "output_type": "display_data"
    },
    {
     "name": "stdout",
     "output_type": "stream",
     "text": [
      "\n",
      "Length text:\t 642296\n",
      "<Response [403]>\n",
      "Exception:\t Expecting value: line 1 column 1 (char 0)\n",
      "<html><head><title>Request Rejected</title></head><body>The requested URL was rejected. Please contact for more information jrc-waf[at]ec.europa.eu.<br><br>Your support ID is: 484695481545502141<br><br><a href='javascript:history.back();'>[Go Back]</a></body></html>\n",
      "\n",
      " H8B342\n",
      "\tjson url: http://data.riksdagen.se/dokument/H8B342.json\n",
      "\tdoc url: https://www.riksdagen.se/sv/dokument-lagar/dokument/_H8B342\n",
      "\thtml url: http://data.riksdagen.se/dokument/H8B342\n",
      "\t "
     ]
    },
    {
     "data": {
      "text/html": [
       "<a href=https://www.riksdagen.se/sv/dokument-lagar/dokument/_H8B342/></a>"
      ],
      "text/plain": [
       "<IPython.core.display.HTML object>"
      ]
     },
     "metadata": {},
     "output_type": "display_data"
    },
    {
     "name": "stdout",
     "output_type": "stream",
     "text": [
      "\n",
      "Length text:\t 448988\n",
      "<Response [200]>\n",
      "{'data': []}\n",
      "\n",
      " H8B341\n",
      "\tjson url: http://data.riksdagen.se/dokument/H8B341.json\n",
      "\tdoc url: https://www.riksdagen.se/sv/dokument-lagar/dokument/_H8B341\n",
      "\thtml url: http://data.riksdagen.se/dokument/H8B341\n",
      "\t "
     ]
    },
    {
     "data": {
      "text/html": [
       "<a href=https://www.riksdagen.se/sv/dokument-lagar/dokument/_H8B341/></a>"
      ],
      "text/plain": [
       "<IPython.core.display.HTML object>"
      ]
     },
     "metadata": {},
     "output_type": "display_data"
    },
    {
     "name": "stdout",
     "output_type": "stream",
     "text": [
      "\n",
      "Length text:\t 587874\n",
      "<Response [403]>\n",
      "Exception:\t Expecting value: line 1 column 1 (char 0)\n",
      "<html><head><title>Request Rejected</title></head><body>The requested URL was rejected. Please contact for more information jrc-waf[at]ec.europa.eu.<br><br>Your support ID is: 484695479899217308<br><br><a href='javascript:history.back();'>[Go Back]</a></body></html>\n",
      "\n",
      " H8B339\n",
      "\tjson url: http://data.riksdagen.se/dokument/H8B339.json\n",
      "\tdoc url: https://www.riksdagen.se/sv/dokument-lagar/dokument/_H8B339\n",
      "\thtml url: http://data.riksdagen.se/dokument/H8B339\n",
      "\t "
     ]
    },
    {
     "data": {
      "text/html": [
       "<a href=https://www.riksdagen.se/sv/dokument-lagar/dokument/_H8B339/></a>"
      ],
      "text/plain": [
       "<IPython.core.display.HTML object>"
      ]
     },
     "metadata": {},
     "output_type": "display_data"
    },
    {
     "name": "stdout",
     "output_type": "stream",
     "text": [
      "\n",
      "Length text:\t 121467\n",
      "<Response [200]>\n",
      "{'data': ['{\"name\": \"sdgs\", \"children\": [{\"name\": \"SDG 9\", \"n_occurrences\": 9, \"children\": [{\"n_occurrences\": 9, \"name\": \"Target 9.5\"}]}], \"api version\": \"v1\"}']}\n",
      "\n",
      " H8B338\n",
      "\tjson url: http://data.riksdagen.se/dokument/H8B338.json\n",
      "\tdoc url: https://www.riksdagen.se/sv/dokument-lagar/dokument/_H8B338\n",
      "\thtml url: http://data.riksdagen.se/dokument/H8B338\n",
      "\t "
     ]
    },
    {
     "data": {
      "text/html": [
       "<a href=https://www.riksdagen.se/sv/dokument-lagar/dokument/_H8B338/></a>"
      ],
      "text/plain": [
       "<IPython.core.display.HTML object>"
      ]
     },
     "metadata": {},
     "output_type": "display_data"
    },
    {
     "name": "stdout",
     "output_type": "stream",
     "text": [
      "\n",
      "Length text:\t 1777673\n",
      "<Response [403]>\n",
      "Exception:\t Expecting value: line 1 column 1 (char 0)\n",
      "<html><head><title>Request Rejected</title></head><body>The requested URL was rejected. Please contact for more information jrc-waf[at]ec.europa.eu.<br><br>Your support ID is: 484695481545573125<br><br><a href='javascript:history.back();'>[Go Back]</a></body></html>\n",
      "\n",
      " H8B345\n",
      "\tjson url: http://data.riksdagen.se/dokument/H8B345.json\n",
      "\tdoc url: https://www.riksdagen.se/sv/dokument-lagar/dokument/_H8B345\n",
      "\thtml url: http://data.riksdagen.se/dokument/H8B345\n",
      "\t "
     ]
    },
    {
     "data": {
      "text/html": [
       "<a href=https://www.riksdagen.se/sv/dokument-lagar/dokument/_H8B345/></a>"
      ],
      "text/plain": [
       "<IPython.core.display.HTML object>"
      ]
     },
     "metadata": {},
     "output_type": "display_data"
    },
    {
     "name": "stdout",
     "output_type": "stream",
     "text": [
      "\n",
      "Length text:\t 1034239\n",
      "<Response [403]>\n",
      "Exception:\t Expecting value: line 1 column 1 (char 0)\n",
      "<html><head><title>Request Rejected</title></head><body>The requested URL was rejected. Please contact for more information jrc-waf[at]ec.europa.eu.<br><br>Your support ID is: 484695481545586429<br><br><a href='javascript:history.back();'>[Go Back]</a></body></html>\n",
      "\n",
      " H8B344\n",
      "\tjson url: http://data.riksdagen.se/dokument/H8B344.json\n",
      "\tdoc url: https://www.riksdagen.se/sv/dokument-lagar/dokument/_H8B344\n",
      "\thtml url: http://data.riksdagen.se/dokument/H8B344\n",
      "\t "
     ]
    },
    {
     "data": {
      "text/html": [
       "<a href=https://www.riksdagen.se/sv/dokument-lagar/dokument/_H8B344/></a>"
      ],
      "text/plain": [
       "<IPython.core.display.HTML object>"
      ]
     },
     "metadata": {},
     "output_type": "display_data"
    },
    {
     "name": "stdout",
     "output_type": "stream",
     "text": [
      "\n",
      "Length text:\t 712436\n",
      "<Response [403]>\n",
      "Exception:\t Expecting value: line 1 column 1 (char 0)\n",
      "<html><head><title>Request Rejected</title></head><body>The requested URL was rejected. Please contact for more information jrc-waf[at]ec.europa.eu.<br><br>Your support ID is: 484695479899253388<br><br><a href='javascript:history.back();'>[Go Back]</a></body></html>\n",
      "\n",
      " H8B337\n",
      "\tjson url: http://data.riksdagen.se/dokument/H8B337.json\n",
      "\tdoc url: https://www.riksdagen.se/sv/dokument-lagar/dokument/_H8B337\n",
      "\thtml url: http://data.riksdagen.se/dokument/H8B337\n",
      "\t "
     ]
    },
    {
     "data": {
      "text/html": [
       "<a href=https://www.riksdagen.se/sv/dokument-lagar/dokument/_H8B337/></a>"
      ],
      "text/plain": [
       "<IPython.core.display.HTML object>"
      ]
     },
     "metadata": {},
     "output_type": "display_data"
    },
    {
     "name": "stdout",
     "output_type": "stream",
     "text": [
      "\n",
      "Length text:\t 1862422\n",
      "<Response [403]>\n",
      "Exception:\t Expecting value: line 1 column 1 (char 0)\n",
      "<html><head><title>Request Rejected</title></head><body>The requested URL was rejected. Please contact for more information jrc-waf[at]ec.europa.eu.<br><br>Your support ID is: 484695481545614205<br><br><a href='javascript:history.back();'>[Go Back]</a></body></html>\n",
      "\n",
      " H8B353\n",
      "\tjson url: http://data.riksdagen.se/dokument/H8B353.json\n",
      "\tdoc url: https://www.riksdagen.se/sv/dokument-lagar/dokument/_H8B353\n",
      "\thtml url: http://data.riksdagen.se/dokument/H8B353\n",
      "\t "
     ]
    },
    {
     "data": {
      "text/html": [
       "<a href=https://www.riksdagen.se/sv/dokument-lagar/dokument/_H8B353/></a>"
      ],
      "text/plain": [
       "<IPython.core.display.HTML object>"
      ]
     },
     "metadata": {},
     "output_type": "display_data"
    },
    {
     "name": "stdout",
     "output_type": "stream",
     "text": [
      "\n",
      "Length text:\t 233184\n",
      "<Response [200]>\n",
      "{'data': []}\n",
      "\n",
      " H8B351\n",
      "\tjson url: http://data.riksdagen.se/dokument/H8B351.json\n",
      "\tdoc url: https://www.riksdagen.se/sv/dokument-lagar/dokument/_H8B351\n",
      "\thtml url: http://data.riksdagen.se/dokument/H8B351\n",
      "\t "
     ]
    },
    {
     "data": {
      "text/html": [
       "<a href=https://www.riksdagen.se/sv/dokument-lagar/dokument/_H8B351/></a>"
      ],
      "text/plain": [
       "<IPython.core.display.HTML object>"
      ]
     },
     "metadata": {},
     "output_type": "display_data"
    },
    {
     "name": "stdout",
     "output_type": "stream",
     "text": [
      "\n",
      "Length text:\t 891532\n",
      "<Response [403]>\n",
      "Exception:\t Expecting value: line 1 column 1 (char 0)\n",
      "<html><head><title>Request Rejected</title></head><body>The requested URL was rejected. Please contact for more information jrc-waf[at]ec.europa.eu.<br><br>Your support ID is: 484695481545637517<br><br><a href='javascript:history.back();'>[Go Back]</a></body></html>\n",
      "\n",
      " H8B349\n",
      "\tjson url: http://data.riksdagen.se/dokument/H8B349.json\n",
      "\tdoc url: https://www.riksdagen.se/sv/dokument-lagar/dokument/_H8B349\n",
      "\thtml url: http://data.riksdagen.se/dokument/H8B349\n",
      "\t "
     ]
    },
    {
     "data": {
      "text/html": [
       "<a href=https://www.riksdagen.se/sv/dokument-lagar/dokument/_H8B349/></a>"
      ],
      "text/plain": [
       "<IPython.core.display.HTML object>"
      ]
     },
     "metadata": {},
     "output_type": "display_data"
    },
    {
     "name": "stdout",
     "output_type": "stream",
     "text": [
      "\n",
      "Length text:\t 1495428\n",
      "<Response [403]>\n",
      "Exception:\t Expecting value: line 1 column 1 (char 0)\n",
      "<html><head><title>Request Rejected</title></head><body>The requested URL was rejected. Please contact for more information jrc-waf[at]ec.europa.eu.<br><br>Your support ID is: 484695479899286868<br><br><a href='javascript:history.back();'>[Go Back]</a></body></html>\n",
      "\n",
      " H8B352\n",
      "\tjson url: http://data.riksdagen.se/dokument/H8B352.json\n",
      "\tdoc url: https://www.riksdagen.se/sv/dokument-lagar/dokument/_H8B352\n",
      "\thtml url: http://data.riksdagen.se/dokument/H8B352\n",
      "\t "
     ]
    },
    {
     "data": {
      "text/html": [
       "<a href=https://www.riksdagen.se/sv/dokument-lagar/dokument/_H8B352/></a>"
      ],
      "text/plain": [
       "<IPython.core.display.HTML object>"
      ]
     },
     "metadata": {},
     "output_type": "display_data"
    },
    {
     "name": "stdout",
     "output_type": "stream",
     "text": [
      "\n",
      "Length text:\t 597849\n",
      "<Response [403]>\n",
      "Exception:\t Expecting value: line 1 column 1 (char 0)\n",
      "<html><head><title>Request Rejected</title></head><body>The requested URL was rejected. Please contact for more information jrc-waf[at]ec.europa.eu.<br><br>Your support ID is: 484695481545664397<br><br><a href='javascript:history.back();'>[Go Back]</a></body></html>\n",
      "\n",
      " H8B336\n",
      "\tjson url: http://data.riksdagen.se/dokument/H8B336.json\n",
      "\tdoc url: https://www.riksdagen.se/sv/dokument-lagar/dokument/_H8B336\n",
      "\thtml url: http://data.riksdagen.se/dokument/H8B336\n",
      "\t "
     ]
    },
    {
     "data": {
      "text/html": [
       "<a href=https://www.riksdagen.se/sv/dokument-lagar/dokument/_H8B336/></a>"
      ],
      "text/plain": [
       "<IPython.core.display.HTML object>"
      ]
     },
     "metadata": {},
     "output_type": "display_data"
    },
    {
     "name": "stdout",
     "output_type": "stream",
     "text": [
      "\n",
      "Length text:\t 910424\n",
      "<Response [403]>\n",
      "Exception:\t Expecting value: line 1 column 1 (char 0)\n",
      "<html><head><title>Request Rejected</title></head><body>The requested URL was rejected. Please contact for more information jrc-waf[at]ec.europa.eu.<br><br>Your support ID is: 484695479899307596<br><br><a href='javascript:history.back();'>[Go Back]</a></body></html>\n",
      "\n",
      " H8B347\n",
      "\tjson url: http://data.riksdagen.se/dokument/H8B347.json\n",
      "\tdoc url: https://www.riksdagen.se/sv/dokument-lagar/dokument/_H8B347\n",
      "\thtml url: http://data.riksdagen.se/dokument/H8B347\n",
      "\t "
     ]
    },
    {
     "data": {
      "text/html": [
       "<a href=https://www.riksdagen.se/sv/dokument-lagar/dokument/_H8B347/></a>"
      ],
      "text/plain": [
       "<IPython.core.display.HTML object>"
      ]
     },
     "metadata": {},
     "output_type": "display_data"
    },
    {
     "name": "stdout",
     "output_type": "stream",
     "text": [
      "\n",
      "Length text:\t 1769070\n",
      "<Response [403]>\n",
      "Exception:\t Expecting value: line 1 column 1 (char 0)\n",
      "<html><head><title>Request Rejected</title></head><body>The requested URL was rejected. Please contact for more information jrc-waf[at]ec.europa.eu.<br><br>Your support ID is: 484695481545697941<br><br><a href='javascript:history.back();'>[Go Back]</a></body></html>\n",
      "\n",
      " H8B348\n",
      "\tjson url: http://data.riksdagen.se/dokument/H8B348.json\n",
      "\tdoc url: https://www.riksdagen.se/sv/dokument-lagar/dokument/_H8B348\n",
      "\thtml url: http://data.riksdagen.se/dokument/H8B348\n",
      "\t "
     ]
    },
    {
     "data": {
      "text/html": [
       "<a href=https://www.riksdagen.se/sv/dokument-lagar/dokument/_H8B348/></a>"
      ],
      "text/plain": [
       "<IPython.core.display.HTML object>"
      ]
     },
     "metadata": {},
     "output_type": "display_data"
    },
    {
     "name": "stdout",
     "output_type": "stream",
     "text": [
      "\n",
      "Length text:\t 896420\n",
      "<Response [403]>\n",
      "Exception:\t Expecting value: line 1 column 1 (char 0)\n",
      "<html><head><title>Request Rejected</title></head><body>The requested URL was rejected. Please contact for more information jrc-waf[at]ec.europa.eu.<br><br>Your support ID is: 484695479899328692<br><br><a href='javascript:history.back();'>[Go Back]</a></body></html>\n",
      "\n",
      " H8B346\n",
      "\tjson url: http://data.riksdagen.se/dokument/H8B346.json\n",
      "\tdoc url: https://www.riksdagen.se/sv/dokument-lagar/dokument/_H8B346\n",
      "\thtml url: http://data.riksdagen.se/dokument/H8B346\n",
      "\t "
     ]
    },
    {
     "data": {
      "text/html": [
       "<a href=https://www.riksdagen.se/sv/dokument-lagar/dokument/_H8B346/></a>"
      ],
      "text/plain": [
       "<IPython.core.display.HTML object>"
      ]
     },
     "metadata": {},
     "output_type": "display_data"
    },
    {
     "name": "stdout",
     "output_type": "stream",
     "text": [
      "\n",
      "Length text:\t 1093409\n",
      "<Response [403]>\n",
      "Exception:\t Expecting value: line 1 column 1 (char 0)\n",
      "<html><head><title>Request Rejected</title></head><body>The requested URL was rejected. Please contact for more information jrc-waf[at]ec.europa.eu.<br><br>Your support ID is: 484695481545728229<br><br><a href='javascript:history.back();'>[Go Back]</a></body></html>\n",
      "\n",
      " H8B343\n",
      "\tjson url: http://data.riksdagen.se/dokument/H8B343.json\n",
      "\tdoc url: https://www.riksdagen.se/sv/dokument-lagar/dokument/_H8B343\n",
      "\thtml url: http://data.riksdagen.se/dokument/H8B343\n",
      "\t "
     ]
    },
    {
     "data": {
      "text/html": [
       "<a href=https://www.riksdagen.se/sv/dokument-lagar/dokument/_H8B343/></a>"
      ],
      "text/plain": [
       "<IPython.core.display.HTML object>"
      ]
     },
     "metadata": {},
     "output_type": "display_data"
    },
    {
     "name": "stdout",
     "output_type": "stream",
     "text": [
      "\n",
      "Length text:\t 1510718\n",
      "<Response [403]>\n",
      "Exception:\t Expecting value: line 1 column 1 (char 0)\n",
      "<html><head><title>Request Rejected</title></head><body>The requested URL was rejected. Please contact for more information jrc-waf[at]ec.europa.eu.<br><br>Your support ID is: 484695481545747717<br><br><a href='javascript:history.back();'>[Go Back]</a></body></html>\n",
      "\n",
      " H8B334\n",
      "\tjson url: http://data.riksdagen.se/dokument/H8B334.json\n",
      "\tdoc url: https://www.riksdagen.se/sv/dokument-lagar/dokument/_H8B334\n",
      "\thtml url: http://data.riksdagen.se/dokument/H8B334\n",
      "\t "
     ]
    },
    {
     "data": {
      "text/html": [
       "<a href=https://www.riksdagen.se/sv/dokument-lagar/dokument/_H8B334/></a>"
      ],
      "text/plain": [
       "<IPython.core.display.HTML object>"
      ]
     },
     "metadata": {},
     "output_type": "display_data"
    },
    {
     "name": "stdout",
     "output_type": "stream",
     "text": [
      "\n",
      "Length text:\t 1212742\n",
      "<Response [403]>\n",
      "Exception:\t Expecting value: line 1 column 1 (char 0)\n",
      "<html><head><title>Request Rejected</title></head><body>The requested URL was rejected. Please contact for more information jrc-waf[at]ec.europa.eu.<br><br>Your support ID is: 484695479899361644<br><br><a href='javascript:history.back();'>[Go Back]</a></body></html>\n",
      "\n",
      " H8B340\n",
      "\tjson url: http://data.riksdagen.se/dokument/H8B340.json\n",
      "\tdoc url: https://www.riksdagen.se/sv/dokument-lagar/dokument/_H8B340\n",
      "\thtml url: http://data.riksdagen.se/dokument/H8B340\n",
      "\t "
     ]
    },
    {
     "data": {
      "text/html": [
       "<a href=https://www.riksdagen.se/sv/dokument-lagar/dokument/_H8B340/></a>"
      ],
      "text/plain": [
       "<IPython.core.display.HTML object>"
      ]
     },
     "metadata": {},
     "output_type": "display_data"
    },
    {
     "name": "stdout",
     "output_type": "stream",
     "text": [
      "\n",
      "Length text:\t 899905\n",
      "<Response [403]>\n",
      "Exception:\t Expecting value: line 1 column 1 (char 0)\n",
      "<html><head><title>Request Rejected</title></head><body>The requested URL was rejected. Please contact for more information jrc-waf[at]ec.europa.eu.<br><br>Your support ID is: 484695481545787237<br><br><a href='javascript:history.back();'>[Go Back]</a></body></html>\n",
      "\n",
      " H8B382\n",
      "\tjson url: http://data.riksdagen.se/dokument/H8B382.json\n",
      "\tdoc url: https://www.riksdagen.se/sv/dokument-lagar/dokument/_H8B382\n",
      "\thtml url: http://data.riksdagen.se/dokument/H8B382\n",
      "\t "
     ]
    },
    {
     "data": {
      "text/html": [
       "<a href=https://www.riksdagen.se/sv/dokument-lagar/dokument/_H8B382/></a>"
      ],
      "text/plain": [
       "<IPython.core.display.HTML object>"
      ]
     },
     "metadata": {},
     "output_type": "display_data"
    },
    {
     "name": "stdout",
     "output_type": "stream",
     "text": [
      "\n",
      "Length text:\t 411145\n",
      "<Response [200]>\n",
      "{'data': []}\n",
      "\n",
      " H8B379\n",
      "\tjson url: http://data.riksdagen.se/dokument/H8B379.json\n",
      "\tdoc url: https://www.riksdagen.se/sv/dokument-lagar/dokument/_H8B379\n",
      "\thtml url: http://data.riksdagen.se/dokument/H8B379\n",
      "\t "
     ]
    },
    {
     "data": {
      "text/html": [
       "<a href=https://www.riksdagen.se/sv/dokument-lagar/dokument/_H8B379/></a>"
      ],
      "text/plain": [
       "<IPython.core.display.HTML object>"
      ]
     },
     "metadata": {},
     "output_type": "display_data"
    },
    {
     "name": "stdout",
     "output_type": "stream",
     "text": [
      "\n",
      "Length text:\t 685792\n",
      "<Response [403]>\n",
      "Exception:\t Expecting value: line 1 column 1 (char 0)\n",
      "<html><head><title>Request Rejected</title></head><body>The requested URL was rejected. Please contact for more information jrc-waf[at]ec.europa.eu.<br><br>Your support ID is: 484695479899385636<br><br><a href='javascript:history.back();'>[Go Back]</a></body></html>\n",
      "\n",
      " H8B378\n",
      "\tjson url: http://data.riksdagen.se/dokument/H8B378.json\n",
      "\tdoc url: https://www.riksdagen.se/sv/dokument-lagar/dokument/_H8B378\n",
      "\thtml url: http://data.riksdagen.se/dokument/H8B378\n",
      "\t "
     ]
    },
    {
     "data": {
      "text/html": [
       "<a href=https://www.riksdagen.se/sv/dokument-lagar/dokument/_H8B378/></a>"
      ],
      "text/plain": [
       "<IPython.core.display.HTML object>"
      ]
     },
     "metadata": {},
     "output_type": "display_data"
    },
    {
     "name": "stdout",
     "output_type": "stream",
     "text": [
      "\n",
      "Length text:\t 836623\n",
      "<Response [403]>\n",
      "Exception:\t Expecting value: line 1 column 1 (char 0)\n",
      "<html><head><title>Request Rejected</title></head><body>The requested URL was rejected. Please contact for more information jrc-waf[at]ec.europa.eu.<br><br>Your support ID is: 484695479899393732<br><br><a href='javascript:history.back();'>[Go Back]</a></body></html>\n",
      "\n",
      " H8B374\n",
      "\tjson url: http://data.riksdagen.se/dokument/H8B374.json\n",
      "\tdoc url: https://www.riksdagen.se/sv/dokument-lagar/dokument/_H8B374\n",
      "\thtml url: http://data.riksdagen.se/dokument/H8B374\n",
      "\t "
     ]
    },
    {
     "data": {
      "text/html": [
       "<a href=https://www.riksdagen.se/sv/dokument-lagar/dokument/_H8B374/></a>"
      ],
      "text/plain": [
       "<IPython.core.display.HTML object>"
      ]
     },
     "metadata": {},
     "output_type": "display_data"
    },
    {
     "name": "stdout",
     "output_type": "stream",
     "text": [
      "\n",
      "Length text:\t 1358653\n",
      "<Response [403]>\n",
      "Exception:\t Expecting value: line 1 column 1 (char 0)\n",
      "<html><head><title>Request Rejected</title></head><body>The requested URL was rejected. Please contact for more information jrc-waf[at]ec.europa.eu.<br><br>Your support ID is: 484695481545837853<br><br><a href='javascript:history.back();'>[Go Back]</a></body></html>\n",
      "\n",
      " H8B350\n",
      "\tjson url: http://data.riksdagen.se/dokument/H8B350.json\n",
      "\tdoc url: https://www.riksdagen.se/sv/dokument-lagar/dokument/_H8B350\n",
      "\thtml url: http://data.riksdagen.se/dokument/H8B350\n",
      "\t "
     ]
    },
    {
     "data": {
      "text/html": [
       "<a href=https://www.riksdagen.se/sv/dokument-lagar/dokument/_H8B350/></a>"
      ],
      "text/plain": [
       "<IPython.core.display.HTML object>"
      ]
     },
     "metadata": {},
     "output_type": "display_data"
    },
    {
     "name": "stdout",
     "output_type": "stream",
     "text": [
      "\n",
      "Length text:\t 609923\n",
      "<Response [403]>\n",
      "Exception:\t Expecting value: line 1 column 1 (char 0)\n",
      "<html><head><title>Request Rejected</title></head><body>The requested URL was rejected. Please contact for more information jrc-waf[at]ec.europa.eu.<br><br>Your support ID is: 484695479899410740<br><br><a href='javascript:history.back();'>[Go Back]</a></body></html>\n",
      "\n",
      " H8B368\n",
      "\tjson url: http://data.riksdagen.se/dokument/H8B368.json\n",
      "\tdoc url: https://www.riksdagen.se/sv/dokument-lagar/dokument/_H8B368\n",
      "\thtml url: http://data.riksdagen.se/dokument/H8B368\n",
      "\t "
     ]
    },
    {
     "data": {
      "text/html": [
       "<a href=https://www.riksdagen.se/sv/dokument-lagar/dokument/_H8B368/></a>"
      ],
      "text/plain": [
       "<IPython.core.display.HTML object>"
      ]
     },
     "metadata": {},
     "output_type": "display_data"
    },
    {
     "name": "stdout",
     "output_type": "stream",
     "text": [
      "\n",
      "Length text:\t 190741\n",
      "<Response [200]>\n",
      "{'data': []}\n",
      "\n",
      " H8B367\n",
      "\tjson url: http://data.riksdagen.se/dokument/H8B367.json\n",
      "\tdoc url: https://www.riksdagen.se/sv/dokument-lagar/dokument/_H8B367\n",
      "\thtml url: http://data.riksdagen.se/dokument/H8B367\n",
      "\t "
     ]
    },
    {
     "data": {
      "text/html": [
       "<a href=https://www.riksdagen.se/sv/dokument-lagar/dokument/_H8B367/></a>"
      ],
      "text/plain": [
       "<IPython.core.display.HTML object>"
      ]
     },
     "metadata": {},
     "output_type": "display_data"
    },
    {
     "name": "stdout",
     "output_type": "stream",
     "text": [
      "\n",
      "Length text:\t 721319\n",
      "<Response [403]>\n",
      "Exception:\t Expecting value: line 1 column 1 (char 0)\n",
      "<html><head><title>Request Rejected</title></head><body>The requested URL was rejected. Please contact for more information jrc-waf[at]ec.europa.eu.<br><br>Your support ID is: 484695481545881461<br><br><a href='javascript:history.back();'>[Go Back]</a></body></html>\n",
      "\n",
      " H8B317\n",
      "\tjson url: http://data.riksdagen.se/dokument/H8B317.json\n",
      "\tdoc url: https://www.riksdagen.se/sv/dokument-lagar/dokument/_H8B317\n",
      "\thtml url: http://data.riksdagen.se/dokument/H8B317\n",
      "\t "
     ]
    },
    {
     "data": {
      "text/html": [
       "<a href=https://www.riksdagen.se/sv/dokument-lagar/dokument/_H8B317/></a>"
      ],
      "text/plain": [
       "<IPython.core.display.HTML object>"
      ]
     },
     "metadata": {},
     "output_type": "display_data"
    },
    {
     "name": "stdout",
     "output_type": "stream",
     "text": [
      "\n",
      "Length text:\t 575462\n",
      "<Response [403]>\n",
      "Exception:\t Expecting value: line 1 column 1 (char 0)\n",
      "<html><head><title>Request Rejected</title></head><body>The requested URL was rejected. Please contact for more information jrc-waf[at]ec.europa.eu.<br><br>Your support ID is: 484695479899432628<br><br><a href='javascript:history.back();'>[Go Back]</a></body></html>\n",
      "\n",
      " H8B365\n",
      "\tjson url: http://data.riksdagen.se/dokument/H8B365.json\n",
      "\tdoc url: https://www.riksdagen.se/sv/dokument-lagar/dokument/_H8B365\n",
      "\thtml url: http://data.riksdagen.se/dokument/H8B365\n",
      "\t "
     ]
    },
    {
     "data": {
      "text/html": [
       "<a href=https://www.riksdagen.se/sv/dokument-lagar/dokument/_H8B365/></a>"
      ],
      "text/plain": [
       "<IPython.core.display.HTML object>"
      ]
     },
     "metadata": {},
     "output_type": "display_data"
    },
    {
     "name": "stdout",
     "output_type": "stream",
     "text": [
      "\n",
      "Length text:\t 79803\n",
      "<Response [200]>\n",
      "{'data': ['{\"name\": \"sdgs\", \"children\": [{\"name\": \"SDG 8\", \"n_occurrences\": 2, \"children\": [{\"n_occurrences\": 2, \"name\": \"Target 8.3\"}]}, {\"name\": \"SDG 9\", \"n_occurrences\": 12, \"children\": [{\"n_occurrences\": 9, \"name\": \"Target 9.5\"}, {\"n_occurrences\": 3, \"name\": \"SDG 9_undetected_target\"}]}], \"api version\": \"v1\"}']}\n",
      "\n",
      " H8B357\n",
      "\tjson url: http://data.riksdagen.se/dokument/H8B357.json\n",
      "\tdoc url: https://www.riksdagen.se/sv/dokument-lagar/dokument/_H8B357\n",
      "\thtml url: http://data.riksdagen.se/dokument/H8B357\n",
      "\t "
     ]
    },
    {
     "data": {
      "text/html": [
       "<a href=https://www.riksdagen.se/sv/dokument-lagar/dokument/_H8B357/></a>"
      ],
      "text/plain": [
       "<IPython.core.display.HTML object>"
      ]
     },
     "metadata": {},
     "output_type": "display_data"
    },
    {
     "name": "stdout",
     "output_type": "stream",
     "text": [
      "\n",
      "Length text:\t 733938\n",
      "<Response [403]>\n",
      "Exception:\t Expecting value: line 1 column 1 (char 0)\n",
      "<html><head><title>Request Rejected</title></head><body>The requested URL was rejected. Please contact for more information jrc-waf[at]ec.europa.eu.<br><br>Your support ID is: 484695479899451836<br><br><a href='javascript:history.back();'>[Go Back]</a></body></html>\n",
      "\n",
      " H8B32\n",
      "\tjson url: http://data.riksdagen.se/dokument/H8B32.json\n",
      "\tdoc url: https://www.riksdagen.se/sv/dokument-lagar/dokument/_H8B32\n",
      "\thtml url: http://data.riksdagen.se/dokument/H8B32\n",
      "\t "
     ]
    },
    {
     "data": {
      "text/html": [
       "<a href=https://www.riksdagen.se/sv/dokument-lagar/dokument/_H8B32/></a>"
      ],
      "text/plain": [
       "<IPython.core.display.HTML object>"
      ]
     },
     "metadata": {},
     "output_type": "display_data"
    },
    {
     "name": "stdout",
     "output_type": "stream",
     "text": [
      "\n",
      "Length text:\t 491834\n",
      "<Response [403]>\n",
      "Exception:\t Expecting value: line 1 column 1 (char 0)\n",
      "<html><head><title>Request Rejected</title></head><body>The requested URL was rejected. Please contact for more information jrc-waf[at]ec.europa.eu.<br><br>Your support ID is: 484695479899460244<br><br><a href='javascript:history.back();'>[Go Back]</a></body></html>\n",
      "\n",
      " H8B332\n",
      "\tjson url: http://data.riksdagen.se/dokument/H8B332.json\n",
      "\tdoc url: https://www.riksdagen.se/sv/dokument-lagar/dokument/_H8B332\n",
      "\thtml url: http://data.riksdagen.se/dokument/H8B332\n",
      "\t "
     ]
    },
    {
     "data": {
      "text/html": [
       "<a href=https://www.riksdagen.se/sv/dokument-lagar/dokument/_H8B332/></a>"
      ],
      "text/plain": [
       "<IPython.core.display.HTML object>"
      ]
     },
     "metadata": {},
     "output_type": "display_data"
    },
    {
     "name": "stdout",
     "output_type": "stream",
     "text": [
      "\n",
      "Length text:\t 561621\n",
      "<Response [403]>\n",
      "Exception:\t Expecting value: line 1 column 1 (char 0)\n",
      "<html><head><title>Request Rejected</title></head><body>The requested URL was rejected. Please contact for more information jrc-waf[at]ec.europa.eu.<br><br>Your support ID is: 484695481545960621<br><br><a href='javascript:history.back();'>[Go Back]</a></body></html>\n",
      "\n",
      " H8B313\n",
      "\tjson url: http://data.riksdagen.se/dokument/H8B313.json\n",
      "\tdoc url: https://www.riksdagen.se/sv/dokument-lagar/dokument/_H8B313\n",
      "\thtml url: http://data.riksdagen.se/dokument/H8B313\n",
      "\t "
     ]
    },
    {
     "data": {
      "text/html": [
       "<a href=https://www.riksdagen.se/sv/dokument-lagar/dokument/_H8B313/></a>"
      ],
      "text/plain": [
       "<IPython.core.display.HTML object>"
      ]
     },
     "metadata": {},
     "output_type": "display_data"
    },
    {
     "name": "stdout",
     "output_type": "stream",
     "text": [
      "\n",
      "Length text:\t 625005\n",
      "<Response [403]>\n",
      "Exception:\t Expecting value: line 1 column 1 (char 0)\n",
      "<html><head><title>Request Rejected</title></head><body>The requested URL was rejected. Please contact for more information jrc-waf[at]ec.europa.eu.<br><br>Your support ID is: 484695479899471532<br><br><a href='javascript:history.back();'>[Go Back]</a></body></html>\n",
      "\n",
      " H8B326\n",
      "\tjson url: http://data.riksdagen.se/dokument/H8B326.json\n",
      "\tdoc url: https://www.riksdagen.se/sv/dokument-lagar/dokument/_H8B326\n",
      "\thtml url: http://data.riksdagen.se/dokument/H8B326\n",
      "\t "
     ]
    },
    {
     "data": {
      "text/html": [
       "<a href=https://www.riksdagen.se/sv/dokument-lagar/dokument/_H8B326/></a>"
      ],
      "text/plain": [
       "<IPython.core.display.HTML object>"
      ]
     },
     "metadata": {},
     "output_type": "display_data"
    },
    {
     "name": "stdout",
     "output_type": "stream",
     "text": [
      "\n",
      "Length text:\t 326846\n",
      "<Response [200]>\n",
      "{'data': []}\n",
      "\n",
      " H8B354\n",
      "\tjson url: http://data.riksdagen.se/dokument/H8B354.json\n",
      "\tdoc url: https://www.riksdagen.se/sv/dokument-lagar/dokument/_H8B354\n",
      "\thtml url: http://data.riksdagen.se/dokument/H8B354\n",
      "\t "
     ]
    },
    {
     "data": {
      "text/html": [
       "<a href=https://www.riksdagen.se/sv/dokument-lagar/dokument/_H8B354/></a>"
      ],
      "text/plain": [
       "<IPython.core.display.HTML object>"
      ]
     },
     "metadata": {},
     "output_type": "display_data"
    },
    {
     "name": "stdout",
     "output_type": "stream",
     "text": [
      "\n",
      "Length text:\t 66500\n",
      "<Response [200]>\n",
      "{'data': ['{\"name\": \"sdgs\", \"children\": [{\"name\": \"SDG 9\", \"n_occurrences\": 1, \"children\": [{\"n_occurrences\": 1, \"name\": \"Target 9.5\"}]}], \"api version\": \"v1\"}']}\n",
      "\n",
      " H8B363\n",
      "\tjson url: http://data.riksdagen.se/dokument/H8B363.json\n",
      "\tdoc url: https://www.riksdagen.se/sv/dokument-lagar/dokument/_H8B363\n",
      "\thtml url: http://data.riksdagen.se/dokument/H8B363\n",
      "\t "
     ]
    },
    {
     "data": {
      "text/html": [
       "<a href=https://www.riksdagen.se/sv/dokument-lagar/dokument/_H8B363/></a>"
      ],
      "text/plain": [
       "<IPython.core.display.HTML object>"
      ]
     },
     "metadata": {},
     "output_type": "display_data"
    },
    {
     "name": "stdout",
     "output_type": "stream",
     "text": [
      "\n",
      "Length text:\t 1507299\n",
      "<Response [403]>\n",
      "Exception:\t Expecting value: line 1 column 1 (char 0)\n",
      "<html><head><title>Request Rejected</title></head><body>The requested URL was rejected. Please contact for more information jrc-waf[at]ec.europa.eu.<br><br>Your support ID is: 484695479899507860<br><br><a href='javascript:history.back();'>[Go Back]</a></body></html>\n",
      "\n",
      " H8B362\n",
      "\tjson url: http://data.riksdagen.se/dokument/H8B362.json\n",
      "\tdoc url: https://www.riksdagen.se/sv/dokument-lagar/dokument/_H8B362\n",
      "\thtml url: http://data.riksdagen.se/dokument/H8B362\n",
      "\t "
     ]
    },
    {
     "data": {
      "text/html": [
       "<a href=https://www.riksdagen.se/sv/dokument-lagar/dokument/_H8B362/></a>"
      ],
      "text/plain": [
       "<IPython.core.display.HTML object>"
      ]
     },
     "metadata": {},
     "output_type": "display_data"
    },
    {
     "name": "stdout",
     "output_type": "stream",
     "text": [
      "\n",
      "Length text:\t 1849293\n",
      "<Response [403]>\n",
      "Exception:\t Expecting value: line 1 column 1 (char 0)\n",
      "<html><head><title>Request Rejected</title></head><body>The requested URL was rejected. Please contact for more information jrc-waf[at]ec.europa.eu.<br><br>Your support ID is: 484695479899520508<br><br><a href='javascript:history.back();'>[Go Back]</a></body></html>\n",
      "\n",
      " H8B359\n",
      "\tjson url: http://data.riksdagen.se/dokument/H8B359.json\n",
      "\tdoc url: https://www.riksdagen.se/sv/dokument-lagar/dokument/_H8B359\n",
      "\thtml url: http://data.riksdagen.se/dokument/H8B359\n",
      "\t "
     ]
    },
    {
     "data": {
      "text/html": [
       "<a href=https://www.riksdagen.se/sv/dokument-lagar/dokument/_H8B359/></a>"
      ],
      "text/plain": [
       "<IPython.core.display.HTML object>"
      ]
     },
     "metadata": {},
     "output_type": "display_data"
    },
    {
     "name": "stdout",
     "output_type": "stream",
     "text": [
      "\n",
      "Length text:\t 721438\n",
      "<Response [403]>\n",
      "Exception:\t Expecting value: line 1 column 1 (char 0)\n",
      "<html><head><title>Request Rejected</title></head><body>The requested URL was rejected. Please contact for more information jrc-waf[at]ec.europa.eu.<br><br>Your support ID is: 484695481546052349<br><br><a href='javascript:history.back();'>[Go Back]</a></body></html>\n",
      "\n",
      " H8B364\n",
      "\tjson url: http://data.riksdagen.se/dokument/H8B364.json\n",
      "\tdoc url: https://www.riksdagen.se/sv/dokument-lagar/dokument/_H8B364\n",
      "\thtml url: http://data.riksdagen.se/dokument/H8B364\n",
      "\t "
     ]
    },
    {
     "data": {
      "text/html": [
       "<a href=https://www.riksdagen.se/sv/dokument-lagar/dokument/_H8B364/></a>"
      ],
      "text/plain": [
       "<IPython.core.display.HTML object>"
      ]
     },
     "metadata": {},
     "output_type": "display_data"
    },
    {
     "name": "stdout",
     "output_type": "stream",
     "text": [
      "\n",
      "Length text:\t 99014\n",
      "<Response [200]>\n",
      "{'data': ['{\"name\": \"sdgs\", \"children\": [{\"name\": \"SDG 9\", \"n_occurrences\": 14, \"children\": [{\"n_occurrences\": 12, \"name\": \"Target 9.5\"}, {\"n_occurrences\": 2, \"name\": \"SDG 9_undetected_target\"}]}], \"api version\": \"v1\"}']}\n",
      "\n",
      " H8B358\n",
      "\tjson url: http://data.riksdagen.se/dokument/H8B358.json\n",
      "\tdoc url: https://www.riksdagen.se/sv/dokument-lagar/dokument/_H8B358\n",
      "\thtml url: http://data.riksdagen.se/dokument/H8B358\n",
      "\t "
     ]
    },
    {
     "data": {
      "text/html": [
       "<a href=https://www.riksdagen.se/sv/dokument-lagar/dokument/_H8B358/></a>"
      ],
      "text/plain": [
       "<IPython.core.display.HTML object>"
      ]
     },
     "metadata": {},
     "output_type": "display_data"
    },
    {
     "name": "stdout",
     "output_type": "stream",
     "text": [
      "\n",
      "Length text:\t 976220\n",
      "<Response [403]>\n",
      "Exception:\t Expecting value: line 1 column 1 (char 0)\n",
      "<html><head><title>Request Rejected</title></head><body>The requested URL was rejected. Please contact for more information jrc-waf[at]ec.europa.eu.<br><br>Your support ID is: 484695481546076453<br><br><a href='javascript:history.back();'>[Go Back]</a></body></html>\n",
      "\n",
      " H8B356\n",
      "\tjson url: http://data.riksdagen.se/dokument/H8B356.json\n",
      "\tdoc url: https://www.riksdagen.se/sv/dokument-lagar/dokument/_H8B356\n",
      "\thtml url: http://data.riksdagen.se/dokument/H8B356\n",
      "\t "
     ]
    },
    {
     "data": {
      "text/html": [
       "<a href=https://www.riksdagen.se/sv/dokument-lagar/dokument/_H8B356/></a>"
      ],
      "text/plain": [
       "<IPython.core.display.HTML object>"
      ]
     },
     "metadata": {},
     "output_type": "display_data"
    },
    {
     "name": "stdout",
     "output_type": "stream",
     "text": [
      "\n",
      "Length text:\t 465188\n",
      "<Response [200]>\n",
      "{'data': []}\n",
      "\n",
      " H8B361\n",
      "\tjson url: http://data.riksdagen.se/dokument/H8B361.json\n",
      "\tdoc url: https://www.riksdagen.se/sv/dokument-lagar/dokument/_H8B361\n",
      "\thtml url: http://data.riksdagen.se/dokument/H8B361\n",
      "\t "
     ]
    },
    {
     "data": {
      "text/html": [
       "<a href=https://www.riksdagen.se/sv/dokument-lagar/dokument/_H8B361/></a>"
      ],
      "text/plain": [
       "<IPython.core.display.HTML object>"
      ]
     },
     "metadata": {},
     "output_type": "display_data"
    },
    {
     "name": "stdout",
     "output_type": "stream",
     "text": [
      "\n",
      "Length text:\t 959583\n",
      "<Response [403]>\n",
      "Exception:\t Expecting value: line 1 column 1 (char 0)\n",
      "<html><head><title>Request Rejected</title></head><body>The requested URL was rejected. Please contact for more information jrc-waf[at]ec.europa.eu.<br><br>Your support ID is: 484695479899563308<br><br><a href='javascript:history.back();'>[Go Back]</a></body></html>\n",
      "\n",
      " H8B360\n",
      "\tjson url: http://data.riksdagen.se/dokument/H8B360.json\n",
      "\tdoc url: https://www.riksdagen.se/sv/dokument-lagar/dokument/_H8B360\n",
      "\thtml url: http://data.riksdagen.se/dokument/H8B360\n",
      "\t "
     ]
    },
    {
     "data": {
      "text/html": [
       "<a href=https://www.riksdagen.se/sv/dokument-lagar/dokument/_H8B360/></a>"
      ],
      "text/plain": [
       "<IPython.core.display.HTML object>"
      ]
     },
     "metadata": {},
     "output_type": "display_data"
    },
    {
     "name": "stdout",
     "output_type": "stream",
     "text": [
      "\n",
      "Length text:\t 742020\n",
      "<Response [403]>\n",
      "Exception:\t Expecting value: line 1 column 1 (char 0)\n",
      "<html><head><title>Request Rejected</title></head><body>The requested URL was rejected. Please contact for more information jrc-waf[at]ec.europa.eu.<br><br>Your support ID is: 484695479899576244<br><br><a href='javascript:history.back();'>[Go Back]</a></body></html>\n",
      "\n",
      " H8B310\n",
      "\tjson url: http://data.riksdagen.se/dokument/H8B310.json\n",
      "\tdoc url: https://www.riksdagen.se/sv/dokument-lagar/dokument/_H8B310\n",
      "\thtml url: http://data.riksdagen.se/dokument/H8B310\n",
      "\t "
     ]
    },
    {
     "data": {
      "text/html": [
       "<a href=https://www.riksdagen.se/sv/dokument-lagar/dokument/_H8B310/></a>"
      ],
      "text/plain": [
       "<IPython.core.display.HTML object>"
      ]
     },
     "metadata": {},
     "output_type": "display_data"
    },
    {
     "name": "stdout",
     "output_type": "stream",
     "text": [
      "\n",
      "Length text:\t 622538\n",
      "<Response [403]>\n",
      "Exception:\t Expecting value: line 1 column 1 (char 0)\n",
      "<html><head><title>Request Rejected</title></head><body>The requested URL was rejected. Please contact for more information jrc-waf[at]ec.europa.eu.<br><br>Your support ID is: 484695479899583828<br><br><a href='javascript:history.back();'>[Go Back]</a></body></html>\n",
      "\n",
      " H8B314\n",
      "\tjson url: http://data.riksdagen.se/dokument/H8B314.json\n",
      "\tdoc url: https://www.riksdagen.se/sv/dokument-lagar/dokument/_H8B314\n",
      "\thtml url: http://data.riksdagen.se/dokument/H8B314\n",
      "\t "
     ]
    },
    {
     "data": {
      "text/html": [
       "<a href=https://www.riksdagen.se/sv/dokument-lagar/dokument/_H8B314/></a>"
      ],
      "text/plain": [
       "<IPython.core.display.HTML object>"
      ]
     },
     "metadata": {},
     "output_type": "display_data"
    },
    {
     "name": "stdout",
     "output_type": "stream",
     "text": [
      "\n",
      "Length text:\t 1425644\n",
      "<Response [403]>\n",
      "Exception:\t Expecting value: line 1 column 1 (char 0)\n",
      "<html><head><title>Request Rejected</title></head><body>The requested URL was rejected. Please contact for more information jrc-waf[at]ec.europa.eu.<br><br>Your support ID is: 484695479899591916<br><br><a href='javascript:history.back();'>[Go Back]</a></body></html>\n",
      "\n",
      " H8B312\n",
      "\tjson url: http://data.riksdagen.se/dokument/H8B312.json\n",
      "\tdoc url: https://www.riksdagen.se/sv/dokument-lagar/dokument/_H8B312\n",
      "\thtml url: http://data.riksdagen.se/dokument/H8B312\n",
      "\t "
     ]
    },
    {
     "data": {
      "text/html": [
       "<a href=https://www.riksdagen.se/sv/dokument-lagar/dokument/_H8B312/></a>"
      ],
      "text/plain": [
       "<IPython.core.display.HTML object>"
      ]
     },
     "metadata": {},
     "output_type": "display_data"
    },
    {
     "name": "stdout",
     "output_type": "stream",
     "text": [
      "\n",
      "Length text:\t 1226077\n",
      "<Response [403]>\n",
      "Exception:\t Expecting value: line 1 column 1 (char 0)\n",
      "<html><head><title>Request Rejected</title></head><body>The requested URL was rejected. Please contact for more information jrc-waf[at]ec.europa.eu.<br><br>Your support ID is: 484695479899601892<br><br><a href='javascript:history.back();'>[Go Back]</a></body></html>\n"
     ]
    }
   ],
   "source": [
    "\n",
    "for index, row in dftot.iterrows():\n",
    "    urljson = \"http://data.riksdagen.se/dokument/\"+ row['id'] +\".json\"\n",
    "    urlhtml = \"http://data.riksdagen.se/dokument/\"+ row['id']\n",
    "    urldoc = \"https://www.riksdagen.se/sv/dokument-lagar/dokument/_\"+ row['id'] \n",
    "    print(\"\\n\",row['id'])\n",
    "    print(\"\\tjson url:\",urljson)\n",
    "    print(\"\\tdoc url:\",urldoc)\n",
    "    print(\"\\thtml url:\",urlhtml)   \n",
    "    \n",
    "    print(\"\\t\",RenderHyperlink(\"\",urldoc))\n",
    "    SDGMapperHTML(urlhtml)"
   ]
  },
  {
   "cell_type": "code",
   "execution_count": 7,
   "metadata": {},
   "outputs": [
    {
     "name": "stdout",
     "output_type": "stream",
     "text": [
      "Upper/lower limit:\t 481247 471340\n",
      "Biggest SOU document in the database =  1862422\n"
     ]
    }
   ],
   "source": [
    "print(\"Upper/lower limit:\\t\",tracksizeProblem,tracksizeOk)\n",
    "print(\"Biggest SOU document in the database = \",trackbiggestSOUdocument)\n"
   ]
  },
  {
   "cell_type": "code",
   "execution_count": 8,
   "metadata": {},
   "outputs": [
    {
     "name": "stdout",
     "output_type": "stream",
     "text": [
      "End run:  2022-06-21 13:10:53.657940\n"
     ]
    }
   ],
   "source": [
    "print(\"End run: \", datetime.now())"
   ]
  },
  {
   "cell_type": "code",
   "execution_count": null,
   "metadata": {},
   "outputs": [],
   "source": []
  }
 ],
 "metadata": {
  "kernelspec": {
   "display_name": "Python 3",
   "language": "python",
   "name": "python3"
  },
  "language_info": {
   "codemirror_mode": {
    "name": "ipython",
    "version": 3
   },
   "file_extension": ".py",
   "mimetype": "text/x-python",
   "name": "python",
   "nbconvert_exporter": "python",
   "pygments_lexer": "ipython3",
   "version": "3.9.13"
  }
 },
 "nbformat": 4,
 "nbformat_minor": 4
}
