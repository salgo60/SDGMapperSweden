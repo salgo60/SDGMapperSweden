{
 "cells": [
  {
   "cell_type": "markdown",
   "id": "4873051b",
   "metadata": {},
   "source": [
    "Hämta data från WIkidata\n",
    "* [video](https://youtu.be/ZcvV4det8tA)\n",
    "* denna [Notebook]()"
   ]
  },
  {
   "cell_type": "code",
   "execution_count": 2,
   "id": "4afbbe78",
   "metadata": {},
   "outputs": [
    {
     "name": "stdout",
     "output_type": "stream",
     "text": [
      "{'party': {'type': 'uri', 'value': 'http://www.wikidata.org/entity/Q50383811'}, 'partyLabel': {'xml:lang': 'sv', 'type': 'literal', 'value': 'Alternativ för Sverige'}, 'wikipedia': {'type': 'uri', 'value': 'https://sv.wikipedia.org/wiki/Alternativ_f%C3%B6r_Sverige'}, 'www': {'type': 'uri', 'value': 'https://alternativforsverige.se/'}}\n",
      "{'party': {'type': 'uri', 'value': 'http://www.wikidata.org/entity/Q110832'}, 'partyLabel': {'xml:lang': 'sv', 'type': 'literal', 'value': 'Centerpartiet'}, 'wikipedia': {'type': 'uri', 'value': 'https://sv.wikipedia.org/wiki/Centerpartiet'}, 'www': {'type': 'uri', 'value': 'http://www.centerpartiet.se/'}}\n",
      "{'party': {'type': 'uri', 'value': 'http://www.wikidata.org/entity/Q111449676'}, 'partyLabel': {'xml:lang': 'sv', 'type': 'literal', 'value': 'Klimatalliansen'}, 'www': {'type': 'uri', 'value': 'https://klimatalliansen.nu/'}}\n",
      "{'party': {'type': 'uri', 'value': 'http://www.wikidata.org/entity/Q213654'}, 'partyLabel': {'xml:lang': 'sv', 'type': 'literal', 'value': 'Kristdemokraterna'}, 'wikipedia': {'type': 'uri', 'value': 'https://sv.wikipedia.org/wiki/Kristdemokraterna_(Sverige)'}, 'www': {'type': 'uri', 'value': 'http://www.kristdemokraterna.se/'}}\n",
      "{'party': {'type': 'uri', 'value': 'http://www.wikidata.org/entity/Q110857'}, 'partyLabel': {'xml:lang': 'sv', 'type': 'literal', 'value': 'Liberalerna'}, 'wikipedia': {'type': 'uri', 'value': 'https://sv.wikipedia.org/wiki/Liberalerna'}, 'www': {'type': 'uri', 'value': 'https://www.liberalerna.se/'}}\n",
      "{'party': {'type': 'uri', 'value': 'http://www.wikidata.org/entity/Q213451'}, 'partyLabel': {'xml:lang': 'sv', 'type': 'literal', 'value': 'Miljöpartiet'}, 'wikipedia': {'type': 'uri', 'value': 'https://sv.wikipedia.org/wiki/Milj%C3%B6partiet'}, 'www': {'type': 'uri', 'value': 'http://www.mp.se/'}}\n",
      "{'party': {'type': 'uri', 'value': 'http://www.wikidata.org/entity/Q110843'}, 'partyLabel': {'xml:lang': 'sv', 'type': 'literal', 'value': 'Moderaterna'}, 'wikipedia': {'type': 'uri', 'value': 'https://sv.wikipedia.org/wiki/Moderaterna'}, 'www': {'type': 'uri', 'value': 'https://moderaterna.se/'}}\n",
      "{'party': {'type': 'uri', 'value': 'http://www.wikidata.org/entity/Q61791721'}, 'partyLabel': {'xml:lang': 'sv', 'type': 'literal', 'value': 'Partiet Vändpunkt'}, 'wikipedia': {'type': 'uri', 'value': 'https://sv.wikipedia.org/wiki/Partiet_V%C3%A4ndpunkt'}, 'www': {'type': 'uri', 'value': 'https://partietvandpunkt.se'}}\n",
      "{'party': {'type': 'uri', 'value': 'http://www.wikidata.org/entity/Q7140617'}, 'partyLabel': {'xml:lang': 'sv', 'type': 'literal', 'value': 'Partipolitiskt obundna i Svenska kyrkan'}, 'wikipedia': {'type': 'uri', 'value': 'https://sv.wikipedia.org/wiki/Partipolitiskt_obundna_i_Svenska_kyrkan'}, 'www': {'type': 'uri', 'value': 'https://www.posk.se/'}}\n",
      "{'party': {'type': 'uri', 'value': 'http://www.wikidata.org/entity/Q105112'}, 'partyLabel': {'xml:lang': 'sv', 'type': 'literal', 'value': 'Socialdemokraterna'}, 'wikipedia': {'type': 'uri', 'value': 'https://sv.wikipedia.org/wiki/Socialdemokraterna_(Sverige)'}, 'www': {'type': 'uri', 'value': 'http://www.socialdemokraterna.se/'}}\n",
      "{'party': {'type': 'uri', 'value': 'http://www.wikidata.org/entity/Q504069'}, 'partyLabel': {'xml:lang': 'sv', 'type': 'literal', 'value': 'Sverigedemokraterna'}, 'wikipedia': {'type': 'uri', 'value': 'https://sv.wikipedia.org/wiki/Sverigedemokraterna'}, 'www': {'type': 'uri', 'value': 'https://sd.se/'}}\n",
      "{'party': {'type': 'uri', 'value': 'http://www.wikidata.org/entity/Q110837'}, 'partyLabel': {'xml:lang': 'sv', 'type': 'literal', 'value': 'Vänsterpartiet'}, 'wikipedia': {'type': 'uri', 'value': 'https://sv.wikipedia.org/wiki/V%C3%A4nsterpartiet'}, 'www': {'type': 'uri', 'value': 'https://www.vansterpartiet.se'}}\n"
     ]
    }
   ],
   "source": [
    "# pip install sparqlwrapper\n",
    "# https://rdflib.github.io/sparqlwrapper/\n",
    "\n",
    "import sys\n",
    "from SPARQLWrapper import SPARQLWrapper, JSON\n",
    "\n",
    "endpoint_url = \"https://query.wikidata.org/sparql\"\n",
    "\n",
    "query = \"\"\"#title: partier i Sverige\n",
    "SELECT distinct ?party ?partyLabel ?wikipedia ?www WHERE {\n",
    "\n",
    "  VALUES ?member {\n",
    "    wd:Q10655178 \n",
    "  }\n",
    "  ?person wdt:P39 ?member.\n",
    "  ?person wdt:P102 ?party.\n",
    "  ?party wdt:P17 wd:Q34.\n",
    "  ?party wdt:P856 ?www\n",
    "  minus {?party wdt:P576 ?xxx}\n",
    "  SERVICE wikibase:label { bd:serviceParam wikibase:language \"sv\". }\n",
    "  \n",
    "   OPTIONAL {\n",
    "      ?wikipedia schema:about ?party .\n",
    "      ?wikipedia schema:inLanguage \"sv\" .\n",
    "      ?wikipedia schema:isPartOf <https://sv.wikipedia.org/> .\n",
    "    }\n",
    "} GROUP BY  ?party ?partyLabel ?wikipedia ?www\n",
    "order by ?partyLabel\"\"\"\n",
    "\n",
    "\n",
    "def get_results(endpoint_url, query):\n",
    "    user_agent = \"WDQS-example Python/%s.%s\" % (sys.version_info[0], sys.version_info[1])\n",
    "    # TODO adjust user agent; see https://w.wiki/CX6\n",
    "    sparql = SPARQLWrapper(endpoint_url, agent=user_agent)\n",
    "    sparql.setQuery(query)\n",
    "    sparql.setReturnFormat(JSON)\n",
    "    return sparql.query().convert()\n",
    "\n",
    "\n",
    "results = get_results(endpoint_url, query)\n",
    "\n",
    "for result in results[\"results\"][\"bindings\"]:\n",
    "    print(result)\n"
   ]
  },
  {
   "cell_type": "code",
   "execution_count": null,
   "id": "4c70b677",
   "metadata": {},
   "outputs": [],
   "source": []
  }
 ],
 "metadata": {
  "kernelspec": {
   "display_name": "Python 3",
   "language": "python",
   "name": "python3"
  },
  "language_info": {
   "codemirror_mode": {
    "name": "ipython",
    "version": 3
   },
   "file_extension": ".py",
   "mimetype": "text/x-python",
   "name": "python",
   "nbconvert_exporter": "python",
   "pygments_lexer": "ipython3",
   "version": "3.9.13"
  }
 },
 "nbformat": 4,
 "nbformat_minor": 5
}
