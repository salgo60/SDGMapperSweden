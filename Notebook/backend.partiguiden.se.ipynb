{
 "cells": [
  {
   "cell_type": "markdown",
   "id": "c7cbd037",
   "metadata": {},
   "source": [
    "* [backend.partiguiden.se/subjects](https://backend.partiguiden.se/subjects/)\n",
    "* [this notebook](https://github.com/salgo60/SDGMapperSweden/blob/main/Notebook/backend.partiguiden.se.ipynb)  \n",
    " \n",
    " \n",
    "* [issue 1251](https://github.com/Ackuq/partiguiden/issues/1251) \"Feature request Internet Archive \""
   ]
  },
  {
   "cell_type": "code",
   "execution_count": 1,
   "id": "4afe955c",
   "metadata": {},
   "outputs": [
    {
     "name": "stdout",
     "output_type": "stream",
     "text": [
      "Last run:  2022-06-30 21:20:11.371772\n"
     ]
    }
   ],
   "source": [
    "from datetime import datetime\n",
    "start_time  = datetime.now()\n",
    "print(\"Last run: \", start_time)"
   ]
  },
  {
   "cell_type": "code",
   "execution_count": 2,
   "id": "8d8eeb95",
   "metadata": {},
   "outputs": [
    {
     "data": {
      "text/html": [
       "<div>\n",
       "<style scoped>\n",
       "    .dataframe tbody tr th:only-of-type {\n",
       "        vertical-align: middle;\n",
       "    }\n",
       "\n",
       "    .dataframe tbody tr th {\n",
       "        vertical-align: top;\n",
       "    }\n",
       "\n",
       "    .dataframe thead th {\n",
       "        text-align: right;\n",
       "    }\n",
       "</style>\n",
       "<table border=\"1\" class=\"dataframe\">\n",
       "  <thead>\n",
       "    <tr style=\"text-align: right;\">\n",
       "      <th></th>\n",
       "      <th>id</th>\n",
       "      <th>name</th>\n",
       "      <th>related_subjects</th>\n",
       "    </tr>\n",
       "  </thead>\n",
       "  <tbody>\n",
       "    <tr>\n",
       "      <th>0</th>\n",
       "      <td>3</td>\n",
       "      <td>Bostad</td>\n",
       "      <td>[5, 20]</td>\n",
       "    </tr>\n",
       "    <tr>\n",
       "      <th>1</th>\n",
       "      <td>4</td>\n",
       "      <td>Ekonomi och Skatter</td>\n",
       "      <td>[5, 12, 16, 20]</td>\n",
       "    </tr>\n",
       "    <tr>\n",
       "      <th>2</th>\n",
       "      <td>5</td>\n",
       "      <td>Energi</td>\n",
       "      <td>[3, 4, 17]</td>\n",
       "    </tr>\n",
       "    <tr>\n",
       "      <th>3</th>\n",
       "      <td>6</td>\n",
       "      <td>Europa</td>\n",
       "      <td>[21]</td>\n",
       "    </tr>\n",
       "    <tr>\n",
       "      <th>4</th>\n",
       "      <td>7</td>\n",
       "      <td>Familjen</td>\n",
       "      <td>[20, 23]</td>\n",
       "    </tr>\n",
       "    <tr>\n",
       "      <th>5</th>\n",
       "      <td>8</td>\n",
       "      <td>Företagande</td>\n",
       "      <td>[12]</td>\n",
       "    </tr>\n",
       "    <tr>\n",
       "      <th>6</th>\n",
       "      <td>9</td>\n",
       "      <td>Försvar</td>\n",
       "      <td>[16]</td>\n",
       "    </tr>\n",
       "    <tr>\n",
       "      <th>7</th>\n",
       "      <td>10</td>\n",
       "      <td>Infrastruktur och Trafik</td>\n",
       "      <td>[]</td>\n",
       "    </tr>\n",
       "    <tr>\n",
       "      <th>8</th>\n",
       "      <td>11</td>\n",
       "      <td>IT och Mobiltelefoni</td>\n",
       "      <td>[]</td>\n",
       "    </tr>\n",
       "    <tr>\n",
       "      <th>9</th>\n",
       "      <td>12</td>\n",
       "      <td>Jobb</td>\n",
       "      <td>[4, 8, 20]</td>\n",
       "    </tr>\n",
       "    <tr>\n",
       "      <th>10</th>\n",
       "      <td>13</td>\n",
       "      <td>Jordbruk, Jakt och Fiske</td>\n",
       "      <td>[17, 19, 18]</td>\n",
       "    </tr>\n",
       "    <tr>\n",
       "      <th>11</th>\n",
       "      <td>15</td>\n",
       "      <td>Jämställdhet och diskriminering</td>\n",
       "      <td>[16, 2]</td>\n",
       "    </tr>\n",
       "    <tr>\n",
       "      <th>12</th>\n",
       "      <td>14</td>\n",
       "      <td>Kultur, media, och idrott</td>\n",
       "      <td>[20]</td>\n",
       "    </tr>\n",
       "    <tr>\n",
       "      <th>13</th>\n",
       "      <td>16</td>\n",
       "      <td>Lag och rätt</td>\n",
       "      <td>[4, 9, 15, 20, 21]</td>\n",
       "    </tr>\n",
       "    <tr>\n",
       "      <th>14</th>\n",
       "      <td>17</td>\n",
       "      <td>Landsbygd</td>\n",
       "      <td>[5, 13, 19, 18]</td>\n",
       "    </tr>\n",
       "    <tr>\n",
       "      <th>15</th>\n",
       "      <td>19</td>\n",
       "      <td>Mat</td>\n",
       "      <td>[13, 17]</td>\n",
       "    </tr>\n",
       "    <tr>\n",
       "      <th>16</th>\n",
       "      <td>1</td>\n",
       "      <td>Migration och Integration</td>\n",
       "      <td>[23]</td>\n",
       "    </tr>\n",
       "    <tr>\n",
       "      <th>17</th>\n",
       "      <td>18</td>\n",
       "      <td>Miljö och klimat</td>\n",
       "      <td>[13, 17]</td>\n",
       "    </tr>\n",
       "    <tr>\n",
       "      <th>18</th>\n",
       "      <td>20</td>\n",
       "      <td>Trygghetssystem och Välfärd</td>\n",
       "      <td>[3, 4, 7, 12, 14, 16, 2, 22]</td>\n",
       "    </tr>\n",
       "    <tr>\n",
       "      <th>19</th>\n",
       "      <td>23</td>\n",
       "      <td>Utbildning</td>\n",
       "      <td>[7, 1]</td>\n",
       "    </tr>\n",
       "    <tr>\n",
       "      <th>20</th>\n",
       "      <td>21</td>\n",
       "      <td>Utrikes- och biståndsfrågor</td>\n",
       "      <td>[6, 16]</td>\n",
       "    </tr>\n",
       "    <tr>\n",
       "      <th>21</th>\n",
       "      <td>2</td>\n",
       "      <td>Vård och Omsorg</td>\n",
       "      <td>[15, 20, 22]</td>\n",
       "    </tr>\n",
       "    <tr>\n",
       "      <th>22</th>\n",
       "      <td>22</td>\n",
       "      <td>Äldrepolitik</td>\n",
       "      <td>[20, 2]</td>\n",
       "    </tr>\n",
       "  </tbody>\n",
       "</table>\n",
       "</div>"
      ],
      "text/plain": [
       "    id                             name              related_subjects\n",
       "0    3                           Bostad                       [5, 20]\n",
       "1    4              Ekonomi och Skatter               [5, 12, 16, 20]\n",
       "2    5                           Energi                    [3, 4, 17]\n",
       "3    6                           Europa                          [21]\n",
       "4    7                         Familjen                      [20, 23]\n",
       "5    8                      Företagande                          [12]\n",
       "6    9                          Försvar                          [16]\n",
       "7   10         Infrastruktur och Trafik                            []\n",
       "8   11             IT och Mobiltelefoni                            []\n",
       "9   12                             Jobb                    [4, 8, 20]\n",
       "10  13         Jordbruk, Jakt och Fiske                  [17, 19, 18]\n",
       "11  15  Jämställdhet och diskriminering                       [16, 2]\n",
       "12  14        Kultur, media, och idrott                          [20]\n",
       "13  16                     Lag och rätt            [4, 9, 15, 20, 21]\n",
       "14  17                        Landsbygd               [5, 13, 19, 18]\n",
       "15  19                              Mat                      [13, 17]\n",
       "16   1        Migration och Integration                          [23]\n",
       "17  18                 Miljö och klimat                      [13, 17]\n",
       "18  20      Trygghetssystem och Välfärd  [3, 4, 7, 12, 14, 16, 2, 22]\n",
       "19  23                       Utbildning                        [7, 1]\n",
       "20  21      Utrikes- och biståndsfrågor                       [6, 16]\n",
       "21   2                  Vård och Omsorg                  [15, 20, 22]\n",
       "22  22                     Äldrepolitik                       [20, 2]"
      ]
     },
     "execution_count": 2,
     "metadata": {},
     "output_type": "execute_result"
    }
   ],
   "source": [
    "import pandas\n",
    "import urllib3, json\n",
    "import pandas as pd   \n",
    "http = urllib3.PoolManager() \n",
    "\n",
    "def getdf(url):\n",
    "    r = http.request('GET', url) \n",
    "    data = json.loads(r.data)\n",
    "    return pd.json_normalize(data) \n",
    "\n",
    "urlSubjects = \"https://backend.partiguiden.se/subjects\"\n",
    "urlParties = \"https://backend.partiguiden.se/parties\"\n",
    "urlStandpoints = \"https://backend.partiguiden.se/standpoints\"\n",
    "\n",
    "\n",
    "dfSubjects = getdf(urlSubjects)  \n",
    "dfSubjects\n"
   ]
  },
  {
   "cell_type": "code",
   "execution_count": 3,
   "id": "c7cdd4c7",
   "metadata": {},
   "outputs": [
    {
     "data": {
      "text/html": [
       "<div>\n",
       "<style scoped>\n",
       "    .dataframe tbody tr th:only-of-type {\n",
       "        vertical-align: middle;\n",
       "    }\n",
       "\n",
       "    .dataframe tbody tr th {\n",
       "        vertical-align: top;\n",
       "    }\n",
       "\n",
       "    .dataframe thead th {\n",
       "        text-align: right;\n",
       "    }\n",
       "</style>\n",
       "<table border=\"1\" class=\"dataframe\">\n",
       "  <thead>\n",
       "    <tr style=\"text-align: right;\">\n",
       "      <th></th>\n",
       "      <th>id</th>\n",
       "      <th>name</th>\n",
       "    </tr>\n",
       "  </thead>\n",
       "  <tbody>\n",
       "    <tr>\n",
       "      <th>0</th>\n",
       "      <td>C</td>\n",
       "      <td>Centerpartiet</td>\n",
       "    </tr>\n",
       "    <tr>\n",
       "      <th>1</th>\n",
       "      <td>KD</td>\n",
       "      <td>Kristdemokraterna</td>\n",
       "    </tr>\n",
       "    <tr>\n",
       "      <th>2</th>\n",
       "      <td>L</td>\n",
       "      <td>Liberalerna</td>\n",
       "    </tr>\n",
       "    <tr>\n",
       "      <th>3</th>\n",
       "      <td>MP</td>\n",
       "      <td>Miljöpartiet</td>\n",
       "    </tr>\n",
       "    <tr>\n",
       "      <th>4</th>\n",
       "      <td>M</td>\n",
       "      <td>Moderaterna</td>\n",
       "    </tr>\n",
       "    <tr>\n",
       "      <th>5</th>\n",
       "      <td>S</td>\n",
       "      <td>Socialdemokraterna</td>\n",
       "    </tr>\n",
       "    <tr>\n",
       "      <th>6</th>\n",
       "      <td>SD</td>\n",
       "      <td>Sverigedemokraterna</td>\n",
       "    </tr>\n",
       "    <tr>\n",
       "      <th>7</th>\n",
       "      <td>V</td>\n",
       "      <td>Vänsterpartiet</td>\n",
       "    </tr>\n",
       "  </tbody>\n",
       "</table>\n",
       "</div>"
      ],
      "text/plain": [
       "   id                 name\n",
       "0   C        Centerpartiet\n",
       "1  KD    Kristdemokraterna\n",
       "2   L          Liberalerna\n",
       "3  MP         Miljöpartiet\n",
       "4   M          Moderaterna\n",
       "5   S   Socialdemokraterna\n",
       "6  SD  Sverigedemokraterna\n",
       "7   V       Vänsterpartiet"
      ]
     },
     "execution_count": 3,
     "metadata": {},
     "output_type": "execute_result"
    }
   ],
   "source": [
    "dfParties = getdf(urlParties)  \n",
    "dfParties"
   ]
  },
  {
   "cell_type": "code",
   "execution_count": 4,
   "id": "d4a3b4f1",
   "metadata": {},
   "outputs": [
    {
     "data": {
      "text/html": [
       "<div>\n",
       "<style scoped>\n",
       "    .dataframe tbody tr th:only-of-type {\n",
       "        vertical-align: middle;\n",
       "    }\n",
       "\n",
       "    .dataframe tbody tr th {\n",
       "        vertical-align: top;\n",
       "    }\n",
       "\n",
       "    .dataframe thead th {\n",
       "        text-align: right;\n",
       "    }\n",
       "</style>\n",
       "<table border=\"1\" class=\"dataframe\">\n",
       "  <thead>\n",
       "    <tr style=\"text-align: right;\">\n",
       "      <th></th>\n",
       "      <th>id</th>\n",
       "      <th>title</th>\n",
       "      <th>content</th>\n",
       "      <th>date</th>\n",
       "      <th>link</th>\n",
       "      <th>party</th>\n",
       "      <th>subject</th>\n",
       "    </tr>\n",
       "  </thead>\n",
       "  <tbody>\n",
       "    <tr>\n",
       "      <th>0</th>\n",
       "      <td>aHR0cHM6Ly93d3cuY2VudGVycGFydGlldC5zZS92YXItcG...</td>\n",
       "      <td>Abort</td>\n",
       "      <td>[Att fria och säkra aborter ska vara en mänskl...</td>\n",
       "      <td>2022-06-25</td>\n",
       "      <td>https://www.centerpartiet.se/var-politik/polit...</td>\n",
       "      <td>C</td>\n",
       "      <td>15.0</td>\n",
       "    </tr>\n",
       "    <tr>\n",
       "      <th>1</th>\n",
       "      <td>aHR0cHM6Ly93d3cuY2VudGVycGFydGlldC5zZS92YXItcG...</td>\n",
       "      <td>Abort</td>\n",
       "      <td>[Rätt till fria och säkra aborter till och med...</td>\n",
       "      <td>2022-06-25</td>\n",
       "      <td>https://www.centerpartiet.se/var-politik/polit...</td>\n",
       "      <td>C</td>\n",
       "      <td>2.0</td>\n",
       "    </tr>\n",
       "    <tr>\n",
       "      <th>2</th>\n",
       "      <td>aHR0cHM6Ly93d3cuY2VudGVycGFydGlldC5zZS92YXItcG...</td>\n",
       "      <td>Adoption</td>\n",
       "      <td>[Barnets bästa ska styra när det handlar om ad...</td>\n",
       "      <td>2022-06-25</td>\n",
       "      <td>https://www.centerpartiet.se/var-politik/polit...</td>\n",
       "      <td>C</td>\n",
       "      <td>7.0</td>\n",
       "    </tr>\n",
       "    <tr>\n",
       "      <th>3</th>\n",
       "      <td>aHR0cHM6Ly93d3cuY2VudGVycGFydGlldC5zZS92YXItcG...</td>\n",
       "      <td>A-kassa och omställningsförsäkring</td>\n",
       "      <td>[Att a-kassan ska vara allmän och omfatta alla...</td>\n",
       "      <td>2022-06-25</td>\n",
       "      <td>https://www.centerpartiet.se/var-politik/polit...</td>\n",
       "      <td>C</td>\n",
       "      <td>20.0</td>\n",
       "    </tr>\n",
       "    <tr>\n",
       "      <th>4</th>\n",
       "      <td>aHR0cHM6Ly93d3cuY2VudGVycGFydGlldC5zZS92YXItcG...</td>\n",
       "      <td>Alkoholpolitik</td>\n",
       "      <td>[Tillåta gårdsförsäljning av alkoholhaltiga dr...</td>\n",
       "      <td>2022-06-25</td>\n",
       "      <td>https://www.centerpartiet.se/var-politik/polit...</td>\n",
       "      <td>C</td>\n",
       "      <td>2.0</td>\n",
       "    </tr>\n",
       "    <tr>\n",
       "      <th>...</th>\n",
       "      <td>...</td>\n",
       "      <td>...</td>\n",
       "      <td>...</td>\n",
       "      <td>...</td>\n",
       "      <td>...</td>\n",
       "      <td>...</td>\n",
       "      <td>...</td>\n",
       "    </tr>\n",
       "    <tr>\n",
       "      <th>1186</th>\n",
       "      <td>aHR0cHM6Ly93d3cudmFuc3RlcnBhcnRpZXQuc2UvcG9saX...</td>\n",
       "      <td>Vapen­export</td>\n",
       "      <td>[Vänsterpartiet vill att Sverige ska vara ett ...</td>\n",
       "      <td>2022-06-25</td>\n",
       "      <td>https://www.vansterpartiet.se/politik/vapenexp...</td>\n",
       "      <td>V</td>\n",
       "      <td>9.0</td>\n",
       "    </tr>\n",
       "    <tr>\n",
       "      <th>1187</th>\n",
       "      <td>aHR0cHM6Ly93d3cudmFuc3RlcnBhcnRpZXQuc2UvcG9saX...</td>\n",
       "      <td>Vinster i välfärden</td>\n",
       "      <td>[När vi går till vårdcentralen vill vi vara tr...</td>\n",
       "      <td>2022-06-25</td>\n",
       "      <td>https://www.vansterpartiet.se/politik/vinster-...</td>\n",
       "      <td>V</td>\n",
       "      <td>20.0</td>\n",
       "    </tr>\n",
       "    <tr>\n",
       "      <th>1188</th>\n",
       "      <td>aHR0cHM6Ly93d3cudmFuc3RlcnBhcnRpZXQuc2UvcG9saX...</td>\n",
       "      <td>Vålds­bejakande extremism</td>\n",
       "      <td>[Våldsbejakande extremism och terrorism är hot...</td>\n",
       "      <td>2022-06-25</td>\n",
       "      <td>https://www.vansterpartiet.se/politik/valdsbej...</td>\n",
       "      <td>V</td>\n",
       "      <td>9.0</td>\n",
       "    </tr>\n",
       "    <tr>\n",
       "      <th>1189</th>\n",
       "      <td>aHR0cHM6Ly93d3cudmFuc3RlcnBhcnRpZXQuc2UvcG9saX...</td>\n",
       "      <td>Välfärd</td>\n",
       "      <td>[Att välfärden fungerar är en förutsättning fö...</td>\n",
       "      <td>2022-06-25</td>\n",
       "      <td>https://www.vansterpartiet.se/politik/valfard/</td>\n",
       "      <td>V</td>\n",
       "      <td>20.0</td>\n",
       "    </tr>\n",
       "    <tr>\n",
       "      <th>1190</th>\n",
       "      <td>aHR0cHM6Ly93d3cudmFuc3RlcnBhcnRpZXQuc2UvcG9saX...</td>\n",
       "      <td>Äldreom­sorg</td>\n",
       "      <td>[Äldreomsorgen berör oss alla. Antingen är vi ...</td>\n",
       "      <td>2022-06-25</td>\n",
       "      <td>https://www.vansterpartiet.se/politik/aldreoms...</td>\n",
       "      <td>V</td>\n",
       "      <td>22.0</td>\n",
       "    </tr>\n",
       "  </tbody>\n",
       "</table>\n",
       "<p>1191 rows × 7 columns</p>\n",
       "</div>"
      ],
      "text/plain": [
       "                                                     id  \\\n",
       "0     aHR0cHM6Ly93d3cuY2VudGVycGFydGlldC5zZS92YXItcG...   \n",
       "1     aHR0cHM6Ly93d3cuY2VudGVycGFydGlldC5zZS92YXItcG...   \n",
       "2     aHR0cHM6Ly93d3cuY2VudGVycGFydGlldC5zZS92YXItcG...   \n",
       "3     aHR0cHM6Ly93d3cuY2VudGVycGFydGlldC5zZS92YXItcG...   \n",
       "4     aHR0cHM6Ly93d3cuY2VudGVycGFydGlldC5zZS92YXItcG...   \n",
       "...                                                 ...   \n",
       "1186  aHR0cHM6Ly93d3cudmFuc3RlcnBhcnRpZXQuc2UvcG9saX...   \n",
       "1187  aHR0cHM6Ly93d3cudmFuc3RlcnBhcnRpZXQuc2UvcG9saX...   \n",
       "1188  aHR0cHM6Ly93d3cudmFuc3RlcnBhcnRpZXQuc2UvcG9saX...   \n",
       "1189  aHR0cHM6Ly93d3cudmFuc3RlcnBhcnRpZXQuc2UvcG9saX...   \n",
       "1190  aHR0cHM6Ly93d3cudmFuc3RlcnBhcnRpZXQuc2UvcG9saX...   \n",
       "\n",
       "                                   title  \\\n",
       "0                                  Abort   \n",
       "1                                  Abort   \n",
       "2                               Adoption   \n",
       "3     A-kassa och omställningsförsäkring   \n",
       "4                         Alkoholpolitik   \n",
       "...                                  ...   \n",
       "1186                        Vapen­export   \n",
       "1187                 Vinster i välfärden   \n",
       "1188           Vålds­bejakande extremism   \n",
       "1189                             Välfärd   \n",
       "1190                        Äldreom­sorg   \n",
       "\n",
       "                                                content        date  \\\n",
       "0     [Att fria och säkra aborter ska vara en mänskl...  2022-06-25   \n",
       "1     [Rätt till fria och säkra aborter till och med...  2022-06-25   \n",
       "2     [Barnets bästa ska styra när det handlar om ad...  2022-06-25   \n",
       "3     [Att a-kassan ska vara allmän och omfatta alla...  2022-06-25   \n",
       "4     [Tillåta gårdsförsäljning av alkoholhaltiga dr...  2022-06-25   \n",
       "...                                                 ...         ...   \n",
       "1186  [Vänsterpartiet vill att Sverige ska vara ett ...  2022-06-25   \n",
       "1187  [När vi går till vårdcentralen vill vi vara tr...  2022-06-25   \n",
       "1188  [Våldsbejakande extremism och terrorism är hot...  2022-06-25   \n",
       "1189  [Att välfärden fungerar är en förutsättning fö...  2022-06-25   \n",
       "1190  [Äldreomsorgen berör oss alla. Antingen är vi ...  2022-06-25   \n",
       "\n",
       "                                                   link party  subject  \n",
       "0     https://www.centerpartiet.se/var-politik/polit...     C     15.0  \n",
       "1     https://www.centerpartiet.se/var-politik/polit...     C      2.0  \n",
       "2     https://www.centerpartiet.se/var-politik/polit...     C      7.0  \n",
       "3     https://www.centerpartiet.se/var-politik/polit...     C     20.0  \n",
       "4     https://www.centerpartiet.se/var-politik/polit...     C      2.0  \n",
       "...                                                 ...   ...      ...  \n",
       "1186  https://www.vansterpartiet.se/politik/vapenexp...     V      9.0  \n",
       "1187  https://www.vansterpartiet.se/politik/vinster-...     V     20.0  \n",
       "1188  https://www.vansterpartiet.se/politik/valdsbej...     V      9.0  \n",
       "1189     https://www.vansterpartiet.se/politik/valfard/     V     20.0  \n",
       "1190  https://www.vansterpartiet.se/politik/aldreoms...     V     22.0  \n",
       "\n",
       "[1191 rows x 7 columns]"
      ]
     },
     "execution_count": 4,
     "metadata": {},
     "output_type": "execute_result"
    }
   ],
   "source": [
    "dfStandpoints = getdf(urlStandpoints)  \n",
    "dfStandpoints"
   ]
  },
  {
   "cell_type": "code",
   "execution_count": 5,
   "id": "2047b83c",
   "metadata": {},
   "outputs": [
    {
     "data": {
      "text/plain": [
       "1191"
      ]
     },
     "execution_count": 5,
     "metadata": {},
     "output_type": "execute_result"
    }
   ],
   "source": [
    "StandpointsUnique = dfStandpoints[\"link\"].unique()\n",
    "StandpointsUnique.shape[0]"
   ]
  },
  {
   "cell_type": "code",
   "execution_count": 6,
   "id": "8633f9cb",
   "metadata": {},
   "outputs": [
    {
     "name": "stderr",
     "output_type": "stream",
     "text": [
      "  0%|          | 3/1191 [00:40<5:15:38, 15.94s/it]"
     ]
    },
    {
     "name": "stdout",
     "output_type": "stream",
     "text": [
      "Can not save 'https://www.centerpartiet.se/var-politik/politik-a-o/trygghetssystem/a-kassa-och-omstallningsforsakring'. Save request refused by the server. Save Page Now limits saving 15 URLs per minutes. Try waiting for 5 minutes and then try again.\n",
      "\tSleep:  https://www.centerpartiet.se/var-politik/politik-a-o/trygghetssystem/a-kassa-och-omstallningsforsakring\n"
     ]
    },
    {
     "name": "stderr",
     "output_type": "stream",
     "text": [
      "  3%|▎         | 36/1191 [19:12<7:32:19, 23.50s/it] "
     ]
    },
    {
     "name": "stdout",
     "output_type": "stream",
     "text": [
      "Can not save 'https://www.centerpartiet.se/var-politik/politik-a-o/landsbygd/djurskydd'. Save request refused by the server. Save Page Now limits saving 15 URLs per minutes. Try waiting for 5 minutes and then try again.\n",
      "\tSleep:  https://www.centerpartiet.se/var-politik/politik-a-o/landsbygd/djurskydd\n"
     ]
    },
    {
     "name": "stderr",
     "output_type": "stream",
     "text": [
      "  6%|▌         | 71/1191 [40:02<7:33:08, 24.28s/it]  "
     ]
    },
    {
     "name": "stdout",
     "output_type": "stream",
     "text": [
      "Can not save 'https://www.centerpartiet.se/var-politik/politik-a-o/miljo/giftfri-vardag'. Save request refused by the server. Save Page Now limits saving 15 URLs per minutes. Try waiting for 5 minutes and then try again.\n",
      "\tSleep:  https://www.centerpartiet.se/var-politik/politik-a-o/miljo/giftfri-vardag\n"
     ]
    },
    {
     "name": "stderr",
     "output_type": "stream",
     "text": [
      "  7%|▋         | 79/1191 [51:27<11:49:40, 38.29s/it] "
     ]
    },
    {
     "name": "stdout",
     "output_type": "stream",
     "text": [
      "Can not save 'https://www.centerpartiet.se/var-politik/politik-a-o/miljo/havsmiljo'. Save request refused by the server. Save Page Now limits saving 15 URLs per minutes. Try waiting for 5 minutes and then try again.\n",
      "\tSleep:  https://www.centerpartiet.se/var-politik/politik-a-o/miljo/havsmiljo\n"
     ]
    },
    {
     "name": "stderr",
     "output_type": "stream",
     "text": [
      "  9%|▉         | 105/1191 [1:11:56<11:12:16, 37.14s/it]"
     ]
    },
    {
     "name": "stdout",
     "output_type": "stream",
     "text": [
      "Can not save 'https://www.centerpartiet.se/var-politik/politik-a-o/jordbruk-jakt-och-fiske/jordbruk-och-djurhallning'. Save request refused by the server. Save Page Now limits saving 15 URLs per minutes. Try waiting for 5 minutes and then try again.\n",
      "\tSleep:  https://www.centerpartiet.se/var-politik/politik-a-o/jordbruk-jakt-och-fiske/jordbruk-och-djurhallning\n"
     ]
    },
    {
     "name": "stderr",
     "output_type": "stream",
     "text": [
      " 11%|█         | 133/1191 [1:35:02<9:22:39, 31.91s/it]  "
     ]
    },
    {
     "name": "stdout",
     "output_type": "stream",
     "text": [
      "Can not save 'https://www.centerpartiet.se/var-politik/politik-a-o/mat'. Save request refused by the server. Save Page Now limits saving 15 URLs per minutes. Try waiting for 5 minutes and then try again.\n",
      "\tSleep:  https://www.centerpartiet.se/var-politik/politik-a-o/mat\n"
     ]
    },
    {
     "name": "stderr",
     "output_type": "stream",
     "text": [
      " 12%|█▏        | 146/1191 [1:50:45<7:53:22, 27.18s/it]  "
     ]
    },
    {
     "name": "stdout",
     "output_type": "stream",
     "text": [
      "Can not save 'https://www.centerpartiet.se/var-politik/politik-a-o/jamstalldhet-och-diskriminering/mangfald'. Save request refused by the server. Save Page Now limits saving 15 URLs per minutes. Try waiting for 5 minutes and then try again.\n",
      "\tSleep:  https://www.centerpartiet.se/var-politik/politik-a-o/jamstalldhet-och-diskriminering/mangfald\n"
     ]
    },
    {
     "name": "stderr",
     "output_type": "stream",
     "text": [
      " 15%|█▍        | 175/1191 [2:09:11<5:54:54, 20.96s/it]  "
     ]
    },
    {
     "name": "stdout",
     "output_type": "stream",
     "text": [
      "Can not save 'https://www.centerpartiet.se/var-politik/politik-a-o/vard-och-omsorg/sjukvard'. Save request refused by the server. Save Page Now limits saving 15 URLs per minutes. Try waiting for 5 minutes and then try again.\n",
      "\tSleep:  https://www.centerpartiet.se/var-politik/politik-a-o/vard-och-omsorg/sjukvard\n"
     ]
    },
    {
     "name": "stderr",
     "output_type": "stream",
     "text": [
      " 18%|█▊        | 214/1191 [2:29:29<3:41:56, 13.63s/it]  "
     ]
    },
    {
     "name": "stdout",
     "output_type": "stream",
     "text": [
      "Can not save 'https://kristdemokraterna.se/var-politik/politik-a-o/#Alkohol'. Save request refused by the server. Save Page Now limits saving 15 URLs per minutes. Try waiting for 5 minutes and then try again.\n",
      "\tSleep:  https://kristdemokraterna.se/var-politik/politik-a-o/#Alkohol\n"
     ]
    },
    {
     "name": "stderr",
     "output_type": "stream",
     "text": [
      " 18%|█▊        | 218/1191 [2:36:41<13:45:55, 50.93s/it] "
     ]
    },
    {
     "name": "stdout",
     "output_type": "stream",
     "text": [
      "Can not save 'https://kristdemokraterna.se/var-politik/politik-a-o/#Anhorigvard'. Save request refused by the server. Save Page Now limits saving 15 URLs per minutes. Try waiting for 5 minutes and then try again.\n",
      "\tSleep:  https://kristdemokraterna.se/var-politik/politik-a-o/#Anhorigvard\n"
     ]
    },
    {
     "name": "stderr",
     "output_type": "stream",
     "text": [
      " 19%|█▉        | 225/1191 [2:44:12<6:50:48, 25.52s/it]  "
     ]
    },
    {
     "name": "stdout",
     "output_type": "stream",
     "text": [
      "Can not save 'https://kristdemokraterna.se/var-politik/politik-a-o/#Arbetsratt'. Save request refused by the server. Save Page Now limits saving 15 URLs per minutes. Try waiting for 5 minutes and then try again.\n",
      "\tSleep:  https://kristdemokraterna.se/var-politik/politik-a-o/#Arbetsratt\n"
     ]
    },
    {
     "name": "stderr",
     "output_type": "stream",
     "text": [
      " 19%|█▉        | 229/1191 [2:51:18<14:08:21, 52.91s/it] "
     ]
    },
    {
     "name": "stdout",
     "output_type": "stream",
     "text": [
      "Can not save 'https://kristdemokraterna.se/var-politik/politik-a-o/#Asylprogram'. Save request refused by the server. Save Page Now limits saving 15 URLs per minutes. Try waiting for 5 minutes and then try again.\n",
      "\tSleep:  https://kristdemokraterna.se/var-politik/politik-a-o/#Asylprogram\n"
     ]
    },
    {
     "name": "stderr",
     "output_type": "stream",
     "text": [
      " 20%|█▉        | 233/1191 [2:58:24<15:46:10, 59.26s/it] "
     ]
    },
    {
     "name": "stdout",
     "output_type": "stream",
     "text": [
      "Can not save 'https://kristdemokraterna.se/var-politik/politik-a-o/#Barnkonventionen'. Save request refused by the server. Save Page Now limits saving 15 URLs per minutes. Try waiting for 5 minutes and then try again.\n",
      "\tSleep:  https://kristdemokraterna.se/var-politik/politik-a-o/#Barnkonventionen\n"
     ]
    },
    {
     "name": "stderr",
     "output_type": "stream",
     "text": [
      " 20%|█▉        | 237/1191 [3:05:34<16:18:12, 61.52s/it] "
     ]
    },
    {
     "name": "stdout",
     "output_type": "stream",
     "text": [
      "Can not save 'https://kristdemokraterna.se/var-politik/politik-a-o/#Betyg'. Save request refused by the server. Save Page Now limits saving 15 URLs per minutes. Try waiting for 5 minutes and then try again.\n",
      "\tSleep:  https://kristdemokraterna.se/var-politik/politik-a-o/#Betyg\n"
     ]
    },
    {
     "name": "stderr",
     "output_type": "stream",
     "text": [
      " 20%|██        | 241/1191 [3:12:42<16:15:53, 61.64s/it] "
     ]
    },
    {
     "name": "stdout",
     "output_type": "stream",
     "text": [
      "Can not save 'https://kristdemokraterna.se/var-politik/politik-a-o/#Bisfenol'. Save request refused by the server. Save Page Now limits saving 15 URLs per minutes. Try waiting for 5 minutes and then try again.\n",
      "\tSleep:  https://kristdemokraterna.se/var-politik/politik-a-o/#Bisfenol\n"
     ]
    },
    {
     "name": "stderr",
     "output_type": "stream",
     "text": [
      " 21%|██        | 248/1191 [3:20:13<6:58:22, 26.62s/it]  "
     ]
    },
    {
     "name": "stdout",
     "output_type": "stream",
     "text": [
      "Can not save 'https://kristdemokraterna.se/var-politik/politik-a-o/#Brottsforebyggandeatgarder'. Save request refused by the server. Save Page Now limits saving 15 URLs per minutes. Try waiting for 5 minutes and then try again.\n",
      "\tSleep:  https://kristdemokraterna.se/var-politik/politik-a-o/#Brottsforebyggandeatgarder\n"
     ]
    },
    {
     "name": "stderr",
     "output_type": "stream",
     "text": [
      " 21%|██        | 252/1191 [3:27:39<14:40:30, 56.26s/it] "
     ]
    },
    {
     "name": "stdout",
     "output_type": "stream",
     "text": [
      "Can not save 'https://kristdemokraterna.se/var-politik/politik-a-o/#Civilsamhallet'. Save request refused by the server. Save Page Now limits saving 15 URLs per minutes. Try waiting for 5 minutes and then try again.\n",
      "\tSleep:  https://kristdemokraterna.se/var-politik/politik-a-o/#Civilsamhallet\n"
     ]
    },
    {
     "name": "stderr",
     "output_type": "stream",
     "text": [
      " 21%|██▏       | 256/1191 [3:34:43<15:33:41, 59.92s/it] "
     ]
    },
    {
     "name": "stdout",
     "output_type": "stream",
     "text": [
      "Can not save 'https://kristdemokraterna.se/var-politik/politik-a-o/#Diskriminering'. Save request refused by the server. Save Page Now limits saving 15 URLs per minutes. Try waiting for 5 minutes and then try again.\n",
      "\tSleep:  https://kristdemokraterna.se/var-politik/politik-a-o/#Diskriminering\n"
     ]
    },
    {
     "name": "stderr",
     "output_type": "stream",
     "text": [
      " 22%|██▏       | 265/1191 [3:43:09<4:58:20, 19.33s/it]  "
     ]
    },
    {
     "name": "stdout",
     "output_type": "stream",
     "text": [
      "Can not save 'https://kristdemokraterna.se/var-politik/politik-a-o/#Elevhalsa'. Save request refused by the server. Save Page Now limits saving 15 URLs per minutes. Try waiting for 5 minutes and then try again.\n",
      "\tSleep:  https://kristdemokraterna.se/var-politik/politik-a-o/#Elevhalsa\n"
     ]
    },
    {
     "name": "stderr",
     "output_type": "stream",
     "text": [
      " 23%|██▎       | 269/1191 [3:50:17<13:15:03, 51.74s/it] "
     ]
    },
    {
     "name": "stdout",
     "output_type": "stream",
     "text": [
      "Can not save 'https://kristdemokraterna.se/var-politik/politik-a-o/#Energi'. Save request refused by the server. Save Page Now limits saving 15 URLs per minutes. Try waiting for 5 minutes and then try again.\n",
      "\tSleep:  https://kristdemokraterna.se/var-politik/politik-a-o/#Energi\n"
     ]
    },
    {
     "name": "stderr",
     "output_type": "stream",
     "text": [
      " 23%|██▎       | 273/1191 [3:57:38<15:35:30, 61.14s/it] "
     ]
    },
    {
     "name": "stdout",
     "output_type": "stream",
     "text": [
      "Can not save 'https://kristdemokraterna.se/var-politik/politik-a-o/#Enskildavagar'. Save request refused by the server. Save Page Now limits saving 15 URLs per minutes. Try waiting for 5 minutes and then try again.\n",
      "\tSleep:  https://kristdemokraterna.se/var-politik/politik-a-o/#Enskildavagar\n"
     ]
    },
    {
     "name": "stderr",
     "output_type": "stream",
     "text": [
      " 23%|██▎       | 279/1191 [4:05:09<8:44:40, 34.52s/it]  "
     ]
    },
    {
     "name": "stdout",
     "output_type": "stream",
     "text": [
      "Can not save 'https://kristdemokraterna.se/var-politik/politik-a-o/#Familjen'. Save request refused by the server. Save Page Now limits saving 15 URLs per minutes. Try waiting for 5 minutes and then try again.\n",
      "\tSleep:  https://kristdemokraterna.se/var-politik/politik-a-o/#Familjen\n"
     ]
    },
    {
     "name": "stderr",
     "output_type": "stream",
     "text": [
      " 24%|██▍       | 283/1191 [4:12:13<13:45:10, 54.53s/it] "
     ]
    },
    {
     "name": "stdout",
     "output_type": "stream",
     "text": [
      "Can not save 'https://kristdemokraterna.se/var-politik/politik-a-o/#Fastighetsskatt'. Save request refused by the server. Save Page Now limits saving 15 URLs per minutes. Try waiting for 5 minutes and then try again.\n",
      "\tSleep:  https://kristdemokraterna.se/var-politik/politik-a-o/#Fastighetsskatt\n"
     ]
    },
    {
     "name": "stderr",
     "output_type": "stream",
     "text": [
      " 24%|██▍       | 287/1191 [4:19:16<14:53:03, 59.27s/it] "
     ]
    },
    {
     "name": "stdout",
     "output_type": "stream",
     "text": [
      "Can not save 'https://kristdemokraterna.se/var-politik/politik-a-o/#Flyktingar'. Save request refused by the server. Save Page Now limits saving 15 URLs per minutes. Try waiting for 5 minutes and then try again.\n",
      "\tSleep:  https://kristdemokraterna.se/var-politik/politik-a-o/#Flyktingar\n"
     ]
    },
    {
     "name": "stderr",
     "output_type": "stream",
     "text": [
      " 24%|██▍       | 291/1191 [4:26:20<15:05:33, 60.37s/it] "
     ]
    },
    {
     "name": "stdout",
     "output_type": "stream",
     "text": [
      "Can not save 'https://kristdemokraterna.se/var-politik/politik-a-o/#Folkrakning'. Save request refused by the server. Save Page Now limits saving 15 URLs per minutes. Try waiting for 5 minutes and then try again.\n",
      "\tSleep:  https://kristdemokraterna.se/var-politik/politik-a-o/#Folkrakning\n"
     ]
    },
    {
     "name": "stderr",
     "output_type": "stream",
     "text": [
      " 25%|██▍       | 297/1191 [4:52:11<28:15:33, 113.80s/it] "
     ]
    },
    {
     "name": "stdout",
     "output_type": "stream",
     "text": [
      "Can not save 'https://kristdemokraterna.se/var-politik/politik-a-o/#Funktionsnedsattning'. Save request refused by the server. Save Page Now limits saving 15 URLs per minutes. Try waiting for 5 minutes and then try again.\n",
      "\tSleep:  https://kristdemokraterna.se/var-politik/politik-a-o/#Funktionsnedsattning\n"
     ]
    },
    {
     "name": "stderr",
     "output_type": "stream",
     "text": [
      " 25%|██▌       | 301/1191 [4:59:14<18:08:26, 73.38s/it] "
     ]
    },
    {
     "name": "stdout",
     "output_type": "stream",
     "text": [
      "Can not save 'https://kristdemokraterna.se/var-politik/politik-a-o/#Forfattningsdomstol'. Save request refused by the server. Save Page Now limits saving 15 URLs per minutes. Try waiting for 5 minutes and then try again.\n",
      "\tSleep:  https://kristdemokraterna.se/var-politik/politik-a-o/#Forfattningsdomstol\n"
     ]
    },
    {
     "name": "stderr",
     "output_type": "stream",
     "text": [
      " 26%|██▌       | 305/1191 [5:06:22<15:54:47, 64.66s/it] "
     ]
    },
    {
     "name": "stdout",
     "output_type": "stream",
     "text": [
      "Can not save 'https://kristdemokraterna.se/var-politik/politik-a-o/#Forsvar'. Save request refused by the server. Save Page Now limits saving 15 URLs per minutes. Try waiting for 5 minutes and then try again.\n",
      "\tSleep:  https://kristdemokraterna.se/var-politik/politik-a-o/#Forsvar\n"
     ]
    },
    {
     "name": "stderr",
     "output_type": "stream",
     "text": [
      " 26%|██▌       | 309/1191 [5:13:28<15:11:21, 62.00s/it] "
     ]
    },
    {
     "name": "stdout",
     "output_type": "stream",
     "text": [
      "Can not save 'https://kristdemokraterna.se/var-politik/politik-a-o/#GMO'. Save request refused by the server. Save Page Now limits saving 15 URLs per minutes. Try waiting for 5 minutes and then try again.\n",
      "\tSleep:  https://kristdemokraterna.se/var-politik/politik-a-o/#GMO\n"
     ]
    },
    {
     "name": "stderr",
     "output_type": "stream",
     "text": [
      " 26%|██▌       | 312/1191 [5:20:26<20:38:30, 84.54s/it] "
     ]
    },
    {
     "name": "stdout",
     "output_type": "stream",
     "text": [
      "Can not save 'https://kristdemokraterna.se/var-politik/politik-a-o/#Gruvor'. Save request refused by the server. Save Page Now limits saving 15 URLs per minutes. Try waiting for 5 minutes and then try again.\n",
      "\tSleep:  https://kristdemokraterna.se/var-politik/politik-a-o/#Gruvor\n"
     ]
    },
    {
     "name": "stderr",
     "output_type": "stream",
     "text": [
      " 27%|██▋       | 317/1191 [5:28:11<12:37:16, 51.99s/it] "
     ]
    },
    {
     "name": "stdout",
     "output_type": "stream",
     "text": [
      "Can not save 'https://kristdemokraterna.se/var-politik/politik-a-o/#Hedersrelateratvald'. Save request refused by the server. Save Page Now limits saving 15 URLs per minutes. Try waiting for 5 minutes and then try again.\n",
      "\tSleep:  https://kristdemokraterna.se/var-politik/politik-a-o/#Hedersrelateratvald\n"
     ]
    },
    {
     "name": "stderr",
     "output_type": "stream",
     "text": [
      " 27%|██▋       | 321/1191 [5:35:18<14:17:55, 59.17s/it] "
     ]
    },
    {
     "name": "stdout",
     "output_type": "stream",
     "text": [
      "Can not save 'https://kristdemokraterna.se/var-politik/politik-a-o/#Hjalpmedel'. Save request refused by the server. Save Page Now limits saving 15 URLs per minutes. Try waiting for 5 minutes and then try again.\n",
      "\tSleep:  https://kristdemokraterna.se/var-politik/politik-a-o/#Hjalpmedel\n"
     ]
    },
    {
     "name": "stderr",
     "output_type": "stream",
     "text": [
      " 27%|██▋       | 325/1191 [5:42:25<14:40:54, 61.03s/it] "
     ]
    },
    {
     "name": "stdout",
     "output_type": "stream",
     "text": [
      "Can not save 'https://kristdemokraterna.se/var-politik/politik-a-o/#Hoghastighetstag'. Save request refused by the server. Save Page Now limits saving 15 URLs per minutes. Try waiting for 5 minutes and then try again.\n",
      "\tSleep:  https://kristdemokraterna.se/var-politik/politik-a-o/#Hoghastighetstag\n"
     ]
    },
    {
     "name": "stderr",
     "output_type": "stream",
     "text": [
      " 28%|██▊       | 329/1191 [5:49:32<14:44:40, 61.58s/it] "
     ]
    },
    {
     "name": "stdout",
     "output_type": "stream",
     "text": [
      "Can not save 'https://kristdemokraterna.se/var-politik/politik-a-o/#Innovation'. Save request refused by the server. Save Page Now limits saving 15 URLs per minutes. Try waiting for 5 minutes and then try again.\n",
      "\tSleep:  https://kristdemokraterna.se/var-politik/politik-a-o/#Innovation\n"
     ]
    },
    {
     "name": "stderr",
     "output_type": "stream",
     "text": [
      " 28%|██▊       | 333/1191 [5:56:42<14:48:36, 62.14s/it] "
     ]
    },
    {
     "name": "stdout",
     "output_type": "stream",
     "text": [
      "Can not save 'https://kristdemokraterna.se/var-politik/politik-a-o/#Internationellhandelexport'. Save request refused by the server. Save Page Now limits saving 15 URLs per minutes. Try waiting for 5 minutes and then try again.\n",
      "\tSleep:  https://kristdemokraterna.se/var-politik/politik-a-o/#Internationellhandelexport\n"
     ]
    },
    {
     "name": "stderr",
     "output_type": "stream",
     "text": [
      " 29%|██▊       | 340/1191 [6:04:16<6:19:10, 26.73s/it]  "
     ]
    },
    {
     "name": "stdout",
     "output_type": "stream",
     "text": [
      "Can not save 'https://kristdemokraterna.se/var-politik/politik-a-o/#Jamstalldhet'. Save request refused by the server. Save Page Now limits saving 15 URLs per minutes. Try waiting for 5 minutes and then try again.\n",
      "\tSleep:  https://kristdemokraterna.se/var-politik/politik-a-o/#Jamstalldhet\n"
     ]
    },
    {
     "name": "stderr",
     "output_type": "stream",
     "text": [
      " 29%|██▉       | 344/1191 [6:11:22<12:26:30, 52.88s/it] "
     ]
    },
    {
     "name": "stdout",
     "output_type": "stream",
     "text": [
      "Can not save 'https://kristdemokraterna.se/var-politik/politik-a-o/#Klimat'. Save request refused by the server. Save Page Now limits saving 15 URLs per minutes. Try waiting for 5 minutes and then try again.\n",
      "\tSleep:  https://kristdemokraterna.se/var-politik/politik-a-o/#Klimat\n"
     ]
    },
    {
     "name": "stderr",
     "output_type": "stream",
     "text": [
      " 29%|██▉       | 348/1191 [6:18:34<14:07:18, 60.31s/it] "
     ]
    },
    {
     "name": "stdout",
     "output_type": "stream",
     "text": [
      "Can not save 'https://kristdemokraterna.se/var-politik/politik-a-o/#Konsumentpolitik'. Save request refused by the server. Save Page Now limits saving 15 URLs per minutes. Try waiting for 5 minutes and then try again.\n",
      "\tSleep:  https://kristdemokraterna.se/var-politik/politik-a-o/#Konsumentpolitik\n"
     ]
    },
    {
     "name": "stderr",
     "output_type": "stream",
     "text": [
      " 30%|██▉       | 352/1191 [6:25:41<14:16:17, 61.24s/it] "
     ]
    },
    {
     "name": "stdout",
     "output_type": "stream",
     "text": [
      "Can not save 'https://kristdemokraterna.se/var-politik/politik-a-o/#Kulturochmedia'. Save request refused by the server. Save Page Now limits saving 15 URLs per minutes. Try waiting for 5 minutes and then try again.\n",
      "\tSleep:  https://kristdemokraterna.se/var-politik/politik-a-o/#Kulturochmedia\n"
     ]
    },
    {
     "name": "stderr",
     "output_type": "stream",
     "text": [
      " 30%|███       | 359/1191 [6:33:11<6:03:03, 26.18s/it]  "
     ]
    },
    {
     "name": "stdout",
     "output_type": "stream",
     "text": [
      "Can not save 'https://kristdemokraterna.se/var-politik/politik-a-o/#LOV'. Save request refused by the server. Save Page Now limits saving 15 URLs per minutes. Try waiting for 5 minutes and then try again.\n",
      "\tSleep:  https://kristdemokraterna.se/var-politik/politik-a-o/#LOV\n"
     ]
    },
    {
     "name": "stderr",
     "output_type": "stream",
     "text": [
      " 30%|███       | 363/1191 [6:40:27<12:41:49, 55.21s/it] "
     ]
    },
    {
     "name": "stdout",
     "output_type": "stream",
     "text": [
      "Can not save 'https://kristdemokraterna.se/var-politik/politik-a-o/#Maxtaxan'. Save request refused by the server. Save Page Now limits saving 15 URLs per minutes. Try waiting for 5 minutes and then try again.\n",
      "\tSleep:  https://kristdemokraterna.se/var-politik/politik-a-o/#Maxtaxan\n"
     ]
    },
    {
     "name": "stderr",
     "output_type": "stream",
     "text": [
      " 31%|███       | 367/1191 [6:47:41<13:57:33, 60.99s/it] "
     ]
    },
    {
     "name": "stdout",
     "output_type": "stream",
     "text": [
      "Can not save 'https://kristdemokraterna.se/var-politik/politik-a-o/#Miljopolitik'. Save request refused by the server. Save Page Now limits saving 15 URLs per minutes. Try waiting for 5 minutes and then try again.\n",
      "\tSleep:  https://kristdemokraterna.se/var-politik/politik-a-o/#Miljopolitik\n"
     ]
    },
    {
     "name": "stderr",
     "output_type": "stream",
     "text": [
      "\r",
      " 31%|███       | 368/1191 [6:54:23<37:17:56, 163.16s/it]"
     ]
    },
    {
     "name": "stdout",
     "output_type": "stream",
     "text": [
      "Tried 8 times but failed to save and retrieve the archive for https://kristdemokraterna.se/var-politik/politik-a-o/#Minerallagen.\n",
      "Response URL:\n",
      "https://web.archive.org/save/https://kristdemokraterna.se/var-politik/politik-a-o/#Minerallagen\n",
      "Response Header:\n",
      "{'Server': 'nginx/1.19.5', 'Date': 'Fri, 01 Jul 2022 02:35:57 GMT', 'Content-Type': 'text/html; charset=utf-8', 'Transfer-Encoding': 'chunked', 'Connection': 'keep-alive', 'cache-control': 'no-cache', 'x-app-server': 'wwwb-app53', 'x-ts': '520', 'x-tr': '167599', 'X-location': 'save-sync', 'X-RL': '0', 'X-NA': '0', 'X-Page-Cache': 'MISS', 'X-NID': '-', 'Referrer-Policy': 'no-referrer-when-downgrade', 'Permissions-Policy': 'interest-cohort=()'}\n",
      "\tSleep:  https://kristdemokraterna.se/var-politik/politik-a-o/#Minerallagen\n"
     ]
    },
    {
     "name": "stderr",
     "output_type": "stream",
     "text": [
      " 31%|███▏      | 374/1191 [7:23:09<25:09:08, 110.83s/it] "
     ]
    },
    {
     "name": "stdout",
     "output_type": "stream",
     "text": [
      "Can not save 'https://kristdemokraterna.se/var-politik/politik-a-o/#Manniskohandel'. Save request refused by the server. Save Page Now limits saving 15 URLs per minutes. Try waiting for 5 minutes and then try again.\n",
      "\tSleep:  https://kristdemokraterna.se/var-politik/politik-a-o/#Manniskohandel\n"
     ]
    },
    {
     "name": "stderr",
     "output_type": "stream",
     "text": [
      " 32%|███▏      | 378/1191 [7:30:17<16:36:01, 73.51s/it] "
     ]
    },
    {
     "name": "stdout",
     "output_type": "stream",
     "text": [
      "Can not save 'https://kristdemokraterna.se/var-politik/politik-a-o/#Nationalism'. Save request refused by the server. Save Page Now limits saving 15 URLs per minutes. Try waiting for 5 minutes and then try again.\n",
      "\tSleep:  https://kristdemokraterna.se/var-politik/politik-a-o/#Nationalism\n"
     ]
    },
    {
     "name": "stderr",
     "output_type": "stream",
     "text": [
      " 32%|███▏      | 382/1191 [7:37:23<14:27:46, 64.36s/it] "
     ]
    },
    {
     "name": "stdout",
     "output_type": "stream",
     "text": [
      "Can not save 'https://kristdemokraterna.se/var-politik/politik-a-o/#Nordisktsamarbete'. Save request refused by the server. Save Page Now limits saving 15 URLs per minutes. Try waiting for 5 minutes and then try again.\n",
      "\tSleep:  https://kristdemokraterna.se/var-politik/politik-a-o/#Nordisktsamarbete\n"
     ]
    },
    {
     "name": "stderr",
     "output_type": "stream",
     "text": [
      " 32%|███▏      | 386/1191 [7:44:28<13:48:05, 61.72s/it] "
     ]
    },
    {
     "name": "stdout",
     "output_type": "stream",
     "text": [
      "Can not save 'https://kristdemokraterna.se/var-politik/politik-a-o/#Parboendegaranti'. Save request refused by the server. Save Page Now limits saving 15 URLs per minutes. Try waiting for 5 minutes and then try again.\n",
      "\tSleep:  https://kristdemokraterna.se/var-politik/politik-a-o/#Parboendegaranti\n"
     ]
    },
    {
     "name": "stderr",
     "output_type": "stream",
     "text": [
      " 33%|███▎      | 390/1191 [7:51:32<13:35:10, 61.06s/it] "
     ]
    },
    {
     "name": "stdout",
     "output_type": "stream",
     "text": [
      "Can not save 'https://kristdemokraterna.se/var-politik/politik-a-o/#Polisen'. Save request refused by the server. Save Page Now limits saving 15 URLs per minutes. Try waiting for 5 minutes and then try again.\n",
      "\tSleep:  https://kristdemokraterna.se/var-politik/politik-a-o/#Polisen\n"
     ]
    },
    {
     "name": "stderr",
     "output_type": "stream",
     "text": [
      " 33%|███▎      | 394/1191 [7:58:43<13:42:05, 61.89s/it] "
     ]
    },
    {
     "name": "stdout",
     "output_type": "stream",
     "text": [
      "Can not save 'https://kristdemokraterna.se/var-politik/politik-a-o/#Privatavardforsakringar'. Save request refused by the server. Save Page Now limits saving 15 URLs per minutes. Try waiting for 5 minutes and then try again.\n",
      "\tSleep:  https://kristdemokraterna.se/var-politik/politik-a-o/#Privatavardforsakringar\n"
     ]
    },
    {
     "name": "stderr",
     "output_type": "stream",
     "text": [
      " 34%|███▍      | 403/1191 [8:09:09<7:27:06, 34.04s/it]  "
     ]
    },
    {
     "name": "stdout",
     "output_type": "stream",
     "text": [
      "Can not save 'https://kristdemokraterna.se/var-politik/politik-a-o/#Regelforenkling'. Save request refused by the server. Save Page Now limits saving 15 URLs per minutes. Try waiting for 5 minutes and then try again.\n",
      "\tSleep:  https://kristdemokraterna.se/var-politik/politik-a-o/#Regelforenkling\n"
     ]
    },
    {
     "name": "stderr",
     "output_type": "stream",
     "text": [
      " 34%|███▍      | 407/1191 [8:16:22<12:20:00, 56.63s/it] "
     ]
    },
    {
     "name": "stdout",
     "output_type": "stream",
     "text": [
      "Can not save 'https://kristdemokraterna.se/var-politik/politik-a-o/#ROTochRUT'. Save request refused by the server. Save Page Now limits saving 15 URLs per minutes. Try waiting for 5 minutes and then try again.\n",
      "\tSleep:  https://kristdemokraterna.se/var-politik/politik-a-o/#ROTochRUT\n"
     ]
    },
    {
     "name": "stderr",
     "output_type": "stream",
     "text": [
      " 35%|███▍      | 411/1191 [8:23:29<13:03:02, 60.23s/it] "
     ]
    },
    {
     "name": "stdout",
     "output_type": "stream",
     "text": [
      "Can not save 'https://kristdemokraterna.se/var-politik/politik-a-o/#Rattsvasendet'. Save request refused by the server. Save Page Now limits saving 15 URLs per minutes. Try waiting for 5 minutes and then try again.\n",
      "\tSleep:  https://kristdemokraterna.se/var-politik/politik-a-o/#Rattsvasendet\n"
     ]
    },
    {
     "name": "stderr",
     "output_type": "stream",
     "text": [
      " 35%|███▍      | 415/1191 [8:30:40<13:25:25, 62.28s/it] "
     ]
    },
    {
     "name": "stdout",
     "output_type": "stream",
     "text": [
      "Can not save 'https://kristdemokraterna.se/var-politik/politik-a-o/#Samtyckeslag'. Save request refused by the server. Save Page Now limits saving 15 URLs per minutes. Try waiting for 5 minutes and then try again.\n",
      "\tSleep:  https://kristdemokraterna.se/var-politik/politik-a-o/#Samtyckeslag\n"
     ]
    },
    {
     "name": "stderr",
     "output_type": "stream",
     "text": [
      " 36%|███▌      | 425/1191 [8:39:34<4:53:29, 22.99s/it]  "
     ]
    },
    {
     "name": "stdout",
     "output_type": "stream",
     "text": [
      "Can not save 'https://kristdemokraterna.se/var-politik/politik-a-o/#Skogsbruk'. Save request refused by the server. Save Page Now limits saving 15 URLs per minutes. Try waiting for 5 minutes and then try again.\n",
      "\tSleep:  https://kristdemokraterna.se/var-politik/politik-a-o/#Skogsbruk\n"
     ]
    },
    {
     "name": "stderr",
     "output_type": "stream",
     "text": [
      " 36%|███▌      | 429/1191 [8:46:41<11:04:01, 52.29s/it] "
     ]
    },
    {
     "name": "stdout",
     "output_type": "stream",
     "text": [
      "Can not save 'https://kristdemokraterna.se/var-politik/politik-a-o/#Skuldsanering'. Save request refused by the server. Save Page Now limits saving 15 URLs per minutes. Try waiting for 5 minutes and then try again.\n",
      "\tSleep:  https://kristdemokraterna.se/var-politik/politik-a-o/#Skuldsanering\n"
     ]
    },
    {
     "name": "stderr",
     "output_type": "stream",
     "text": [
      " 37%|███▋      | 436/1191 [8:54:11<5:20:15, 25.45s/it]  "
     ]
    },
    {
     "name": "stdout",
     "output_type": "stream",
     "text": [
      "Can not save 'https://kristdemokraterna.se/var-politik/politik-a-o/#Statligdagpenning'. Save request refused by the server. Save Page Now limits saving 15 URLs per minutes. Try waiting for 5 minutes and then try again.\n",
      "\tSleep:  https://kristdemokraterna.se/var-politik/politik-a-o/#Statligdagpenning\n"
     ]
    },
    {
     "name": "stderr",
     "output_type": "stream",
     "text": [
      " 37%|███▋      | 440/1191 [9:01:17<11:00:05, 52.74s/it] "
     ]
    },
    {
     "name": "stdout",
     "output_type": "stream",
     "text": [
      "Can not save 'https://kristdemokraterna.se/var-politik/politik-a-o/#Strandskydd'. Save request refused by the server. Save Page Now limits saving 15 URLs per minutes. Try waiting for 5 minutes and then try again.\n",
      "\tSleep:  https://kristdemokraterna.se/var-politik/politik-a-o/#Strandskydd\n"
     ]
    },
    {
     "name": "stderr",
     "output_type": "stream",
     "text": [
      " 37%|███▋      | 444/1191 [9:08:21<12:12:55, 58.87s/it] "
     ]
    },
    {
     "name": "stdout",
     "output_type": "stream",
     "text": [
      "Can not save 'https://kristdemokraterna.se/var-politik/politik-a-o/#Tandvard'. Save request refused by the server. Save Page Now limits saving 15 URLs per minutes. Try waiting for 5 minutes and then try again.\n",
      "\tSleep:  https://kristdemokraterna.se/var-politik/politik-a-o/#Tandvard\n"
     ]
    },
    {
     "name": "stderr",
     "output_type": "stream",
     "text": [
      " 38%|███▊      | 448/1191 [9:15:35<12:58:53, 62.90s/it] "
     ]
    },
    {
     "name": "stdout",
     "output_type": "stream",
     "text": [
      "Can not save 'https://kristdemokraterna.se/var-politik/politik-a-o/#Tobak'. Save request refused by the server. Save Page Now limits saving 15 URLs per minutes. Try waiting for 5 minutes and then try again.\n",
      "\tSleep:  https://kristdemokraterna.se/var-politik/politik-a-o/#Tobak\n"
     ]
    },
    {
     "name": "stderr",
     "output_type": "stream",
     "text": [
      " 38%|███▊      | 451/1191 [9:22:31<17:21:44, 84.47s/it] "
     ]
    },
    {
     "name": "stdout",
     "output_type": "stream",
     "text": [
      "Can not save 'https://kristdemokraterna.se/var-politik/politik-a-o/#Tullen'. Save request refused by the server. Save Page Now limits saving 15 URLs per minutes. Try waiting for 5 minutes and then try again.\n",
      "\tSleep:  https://kristdemokraterna.se/var-politik/politik-a-o/#Tullen\n"
     ]
    },
    {
     "name": "stderr",
     "output_type": "stream",
     "text": [
      "\r",
      " 38%|███▊      | 452/1191 [9:47:45<105:20:26, 513.16s/it]"
     ]
    },
    {
     "name": "stdout",
     "output_type": "stream",
     "text": [
      "Can not save 'https://kristdemokraterna.se/var-politik/politik-a-o/#Turism'. Save request refused by the server. Save Page Now limits saving 15 URLs per minutes. Try waiting for 5 minutes and then try again.\n",
      "\tSleep:  https://kristdemokraterna.se/var-politik/politik-a-o/#Turism\n"
     ]
    },
    {
     "name": "stderr",
     "output_type": "stream",
     "text": [
      "\r",
      " 38%|███▊      | 453/1191 [9:54:26<98:18:03, 479.52s/it] "
     ]
    },
    {
     "name": "stdout",
     "output_type": "stream",
     "text": [
      "Can not save 'https://kristdemokraterna.se/var-politik/politik-a-o/#Ungdomsarbetsloshet'. Save request refused by the server. Save Page Now limits saving 15 URLs per minutes. Try waiting for 5 minutes and then try again.\n",
      "\tSleep:  https://kristdemokraterna.se/var-politik/politik-a-o/#Ungdomsarbetsloshet\n"
     ]
    },
    {
     "name": "stderr",
     "output_type": "stream",
     "text": [
      "\r",
      " 38%|███▊      | 454/1191 [10:01:07<93:21:58, 456.06s/it]"
     ]
    },
    {
     "name": "stdout",
     "output_type": "stream",
     "text": [
      "Can not save 'https://kristdemokraterna.se/var-politik/politik-a-o/#Ungdomsloner'. Save request refused by the server. Save Page Now limits saving 15 URLs per minutes. Try waiting for 5 minutes and then try again.\n",
      "\tSleep:  https://kristdemokraterna.se/var-politik/politik-a-o/#Ungdomsloner\n"
     ]
    },
    {
     "name": "stderr",
     "output_type": "stream",
     "text": [
      "\r",
      " 38%|███▊      | 455/1191 [10:07:48<89:51:32, 439.53s/it]"
     ]
    },
    {
     "name": "stdout",
     "output_type": "stream",
     "text": [
      "Can not save 'https://kristdemokraterna.se/var-politik/politik-a-o/#Ungdomsmottagningar'. Save request refused by the server. Save Page Now limits saving 15 URLs per minutes. Try waiting for 5 minutes and then try again.\n",
      "\tSleep:  https://kristdemokraterna.se/var-politik/politik-a-o/#Ungdomsmottagningar\n"
     ]
    },
    {
     "name": "stderr",
     "output_type": "stream",
     "text": [
      "\r",
      " 38%|███▊      | 456/1191 [10:14:29<87:22:35, 427.97s/it]"
     ]
    },
    {
     "name": "stdout",
     "output_type": "stream",
     "text": [
      "Can not save 'https://kristdemokraterna.se/var-politik/politik-a-o/#Ungdomstjanst'. Save request refused by the server. Save Page Now limits saving 15 URLs per minutes. Try waiting for 5 minutes and then try again.\n",
      "\tSleep:  https://kristdemokraterna.se/var-politik/politik-a-o/#Ungdomstjanst\n"
     ]
    },
    {
     "name": "stderr",
     "output_type": "stream",
     "text": [
      "\r",
      " 38%|███▊      | 457/1191 [10:21:13<85:46:08, 420.67s/it]"
     ]
    },
    {
     "name": "stdout",
     "output_type": "stream",
     "text": [
      "Can not save 'https://kristdemokraterna.se/var-politik/politik-a-o/#Ungdomsvald'. Save request refused by the server. Save Page Now limits saving 15 URLs per minutes. Try waiting for 5 minutes and then try again.\n",
      "\tSleep:  https://kristdemokraterna.se/var-politik/politik-a-o/#Ungdomsvald\n"
     ]
    },
    {
     "name": "stderr",
     "output_type": "stream",
     "text": [
      "\r",
      " 38%|███▊      | 458/1191 [10:27:54<84:26:52, 414.75s/it]"
     ]
    },
    {
     "name": "stdout",
     "output_type": "stream",
     "text": [
      "Can not save 'https://kristdemokraterna.se/var-politik/politik-a-o/#Uppehallstillstand'. Save request refused by the server. Save Page Now limits saving 15 URLs per minutes. Try waiting for 5 minutes and then try again.\n",
      "\tSleep:  https://kristdemokraterna.se/var-politik/politik-a-o/#Uppehallstillstand\n"
     ]
    },
    {
     "name": "stderr",
     "output_type": "stream",
     "text": [
      "\r",
      " 39%|███▊      | 459/1191 [10:34:35<83:30:07, 410.67s/it]"
     ]
    },
    {
     "name": "stdout",
     "output_type": "stream",
     "text": [
      "Can not save 'https://kristdemokraterna.se/var-politik/politik-a-o/#Ursprungsmarkning'. Save request refused by the server. Save Page Now limits saving 15 URLs per minutes. Try waiting for 5 minutes and then try again.\n",
      "\tSleep:  https://kristdemokraterna.se/var-politik/politik-a-o/#Ursprungsmarkning\n"
     ]
    },
    {
     "name": "stderr",
     "output_type": "stream",
     "text": [
      "\r",
      " 39%|███▊      | 460/1191 [10:41:16<82:50:13, 407.95s/it]"
     ]
    },
    {
     "name": "stdout",
     "output_type": "stream",
     "text": [
      "Can not save 'https://kristdemokraterna.se/var-politik/politik-a-o/#Utrikespolitik'. Save request refused by the server. Save Page Now limits saving 15 URLs per minutes. Try waiting for 5 minutes and then try again.\n",
      "\tSleep:  https://kristdemokraterna.se/var-politik/politik-a-o/#Utrikespolitik\n"
     ]
    },
    {
     "name": "stderr",
     "output_type": "stream",
     "text": [
      "\r",
      " 39%|███▊      | 461/1191 [10:47:57<82:17:51, 405.85s/it]"
     ]
    },
    {
     "name": "stdout",
     "output_type": "stream",
     "text": [
      "Can not save 'https://kristdemokraterna.se/var-politik/politik-a-o/#Utslappsratter'. Save request refused by the server. Save Page Now limits saving 15 URLs per minutes. Try waiting for 5 minutes and then try again.\n",
      "\tSleep:  https://kristdemokraterna.se/var-politik/politik-a-o/#Utslappsratter\n"
     ]
    },
    {
     "name": "stderr",
     "output_type": "stream",
     "text": [
      "\r",
      " 39%|███▉      | 462/1191 [10:54:41<82:02:16, 405.13s/it]"
     ]
    },
    {
     "name": "stdout",
     "output_type": "stream",
     "text": [
      "Can not save 'https://kristdemokraterna.se/var-politik/politik-a-o/#Vaccinationer'. Save request refused by the server. Save Page Now limits saving 15 URLs per minutes. Try waiting for 5 minutes and then try again.\n",
      "\tSleep:  https://kristdemokraterna.se/var-politik/politik-a-o/#Vaccinationer\n"
     ]
    },
    {
     "name": "stderr",
     "output_type": "stream",
     "text": [
      "\r",
      " 39%|███▉      | 463/1191 [11:01:23<81:44:29, 404.22s/it]"
     ]
    },
    {
     "name": "stdout",
     "output_type": "stream",
     "text": [
      "Can not save 'https://kristdemokraterna.se/var-politik/politik-a-o/#Valfrihetinomvardochomsorg'. Save request refused by the server. Save Page Now limits saving 15 URLs per minutes. Try waiting for 5 minutes and then try again.\n",
      "\tSleep:  https://kristdemokraterna.se/var-politik/politik-a-o/#Valfrihetinomvardochomsorg\n"
     ]
    },
    {
     "name": "stderr",
     "output_type": "stream",
     "text": [
      "\r",
      " 39%|███▉      | 464/1191 [11:08:04<81:28:13, 403.43s/it]"
     ]
    },
    {
     "name": "stdout",
     "output_type": "stream",
     "text": [
      "Can not save 'https://kristdemokraterna.se/var-politik/politik-a-o/#Vanvard'. Save request refused by the server. Save Page Now limits saving 15 URLs per minutes. Try waiting for 5 minutes and then try again.\n",
      "\tSleep:  https://kristdemokraterna.se/var-politik/politik-a-o/#Vanvard\n"
     ]
    },
    {
     "name": "stderr",
     "output_type": "stream",
     "text": [
      "\r",
      " 39%|███▉      | 465/1191 [11:14:46<81:15:48, 402.96s/it]"
     ]
    },
    {
     "name": "stdout",
     "output_type": "stream",
     "text": [
      "Can not save 'https://kristdemokraterna.se/var-politik/politik-a-o/#Vapenexport'. Save request refused by the server. Save Page Now limits saving 15 URLs per minutes. Try waiting for 5 minutes and then try again.\n",
      "\tSleep:  https://kristdemokraterna.se/var-politik/politik-a-o/#Vapenexport\n"
     ]
    },
    {
     "name": "stderr",
     "output_type": "stream",
     "text": [
      "\r",
      " 39%|███▉      | 466/1191 [11:21:29<81:07:06, 402.80s/it]"
     ]
    },
    {
     "name": "stdout",
     "output_type": "stream",
     "text": [
      "Can not save 'https://kristdemokraterna.se/var-politik/politik-a-o/#Varg'. Save request refused by the server. Save Page Now limits saving 15 URLs per minutes. Try waiting for 5 minutes and then try again.\n",
      "\tSleep:  https://kristdemokraterna.se/var-politik/politik-a-o/#Varg\n"
     ]
    },
    {
     "name": "stderr",
     "output_type": "stream",
     "text": [
      "\r",
      " 39%|███▉      | 467/1191 [11:28:10<80:55:44, 402.41s/it]"
     ]
    },
    {
     "name": "stdout",
     "output_type": "stream",
     "text": [
      "Can not save 'https://kristdemokraterna.se/var-politik/politik-a-o/#Vattenkraft'. Save request refused by the server. Save Page Now limits saving 15 URLs per minutes. Try waiting for 5 minutes and then try again.\n",
      "\tSleep:  https://kristdemokraterna.se/var-politik/politik-a-o/#Vattenkraft\n"
     ]
    },
    {
     "name": "stderr",
     "output_type": "stream",
     "text": [
      "\r",
      " 39%|███▉      | 468/1191 [11:34:53<80:49:48, 402.47s/it]"
     ]
    },
    {
     "name": "stdout",
     "output_type": "stream",
     "text": [
      "Can not save 'https://kristdemokraterna.se/var-politik/politik-a-o/#Vildsvin'. Save request refused by the server. Save Page Now limits saving 15 URLs per minutes. Try waiting for 5 minutes and then try again.\n",
      "\tSleep:  https://kristdemokraterna.se/var-politik/politik-a-o/#Vildsvin\n"
     ]
    },
    {
     "name": "stderr",
     "output_type": "stream",
     "text": [
      "\r",
      " 39%|███▉      | 469/1191 [11:41:34<80:39:36, 402.18s/it]"
     ]
    },
    {
     "name": "stdout",
     "output_type": "stream",
     "text": [
      "Can not save 'https://kristdemokraterna.se/var-politik/politik-a-o/#Vindkraft'. Save request refused by the server. Save Page Now limits saving 15 URLs per minutes. Try waiting for 5 minutes and then try again.\n",
      "\tSleep:  https://kristdemokraterna.se/var-politik/politik-a-o/#Vindkraft\n"
     ]
    },
    {
     "name": "stderr",
     "output_type": "stream",
     "text": [
      "\r",
      " 39%|███▉      | 470/1191 [11:48:16<80:30:31, 401.99s/it]"
     ]
    },
    {
     "name": "stdout",
     "output_type": "stream",
     "text": [
      "Can not save 'https://kristdemokraterna.se/var-politik/politik-a-o/#Vinsterivalfarden'. Save request refused by the server. Save Page Now limits saving 15 URLs per minutes. Try waiting for 5 minutes and then try again.\n",
      "\tSleep:  https://kristdemokraterna.se/var-politik/politik-a-o/#Vinsterivalfarden\n"
     ]
    },
    {
     "name": "stderr",
     "output_type": "stream",
     "text": [
      "\r",
      " 40%|███▉      | 471/1191 [11:54:57<80:22:23, 401.87s/it]"
     ]
    },
    {
     "name": "stdout",
     "output_type": "stream",
     "text": [
      "Can not save 'https://kristdemokraterna.se/var-politik/politik-a-o/#Valdinararelationer'. Save request refused by the server. Save Page Now limits saving 15 URLs per minutes. Try waiting for 5 minutes and then try again.\n",
      "\tSleep:  https://kristdemokraterna.se/var-politik/politik-a-o/#Valdinararelationer\n"
     ]
    },
    {
     "name": "stderr",
     "output_type": "stream",
     "text": [
      "\r",
      " 40%|███▉      | 472/1191 [12:01:39<80:14:59, 401.81s/it]"
     ]
    },
    {
     "name": "stdout",
     "output_type": "stream",
     "text": [
      "Can not save 'https://kristdemokraterna.se/var-politik/politik-a-o/#Valdmotkvinnor'. Save request refused by the server. Save Page Now limits saving 15 URLs per minutes. Try waiting for 5 minutes and then try again.\n",
      "\tSleep:  https://kristdemokraterna.se/var-politik/politik-a-o/#Valdmotkvinnor\n"
     ]
    },
    {
     "name": "stderr",
     "output_type": "stream",
     "text": [
      "\r",
      " 40%|███▉      | 473/1191 [12:08:21<80:07:22, 401.73s/it]"
     ]
    },
    {
     "name": "stdout",
     "output_type": "stream",
     "text": [
      "Can not save 'https://kristdemokraterna.se/var-politik/politik-a-o/#Valdtakt'. Save request refused by the server. Save Page Now limits saving 15 URLs per minutes. Try waiting for 5 minutes and then try again.\n",
      "\tSleep:  https://kristdemokraterna.se/var-politik/politik-a-o/#Valdtakt\n"
     ]
    },
    {
     "name": "stderr",
     "output_type": "stream",
     "text": [
      "\r",
      " 40%|███▉      | 474/1191 [12:15:02<80:00:20, 401.70s/it]"
     ]
    },
    {
     "name": "stdout",
     "output_type": "stream",
     "text": [
      "Can not save 'https://kristdemokraterna.se/var-politik/politik-a-o/#Vardtillpapperslosa'. Save request refused by the server. Save Page Now limits saving 15 URLs per minutes. Try waiting for 5 minutes and then try again.\n",
      "\tSleep:  https://kristdemokraterna.se/var-politik/politik-a-o/#Vardtillpapperslosa\n"
     ]
    },
    {
     "name": "stderr",
     "output_type": "stream",
     "text": [
      "\r",
      " 40%|███▉      | 475/1191 [12:21:44<79:52:58, 401.65s/it]"
     ]
    },
    {
     "name": "stdout",
     "output_type": "stream",
     "text": [
      "Can not save 'https://kristdemokraterna.se/var-politik/politik-a-o/#Vagar'. Save request refused by the server. Save Page Now limits saving 15 URLs per minutes. Try waiting for 5 minutes and then try again.\n",
      "\tSleep:  https://kristdemokraterna.se/var-politik/politik-a-o/#Vagar\n"
     ]
    },
    {
     "name": "stderr",
     "output_type": "stream",
     "text": [
      "\r",
      " 40%|███▉      | 476/1191 [12:28:25<79:46:07, 401.63s/it]"
     ]
    },
    {
     "name": "stdout",
     "output_type": "stream",
     "text": [
      "Can not save 'https://kristdemokraterna.se/var-politik/politik-a-o/#Vardighetsgaranti'. Save request refused by the server. Save Page Now limits saving 15 URLs per minutes. Try waiting for 5 minutes and then try again.\n",
      "\tSleep:  https://kristdemokraterna.se/var-politik/politik-a-o/#Vardighetsgaranti\n"
     ]
    },
    {
     "name": "stderr",
     "output_type": "stream",
     "text": [
      "\r",
      " 40%|████      | 477/1191 [12:35:07<79:38:58, 401.59s/it]"
     ]
    },
    {
     "name": "stdout",
     "output_type": "stream",
     "text": [
      "Can not save 'https://kristdemokraterna.se/var-politik/politik-a-o/#Varnplikt'. Save request refused by the server. Save Page Now limits saving 15 URLs per minutes. Try waiting for 5 minutes and then try again.\n",
      "\tSleep:  https://kristdemokraterna.se/var-politik/politik-a-o/#Varnplikt\n"
     ]
    },
    {
     "name": "stderr",
     "output_type": "stream",
     "text": [
      "\r",
      " 40%|████      | 478/1191 [12:41:49<79:32:57, 401.65s/it]"
     ]
    },
    {
     "name": "stdout",
     "output_type": "stream",
     "text": [
      "Can not save 'https://kristdemokraterna.se/var-politik/politik-a-o/#Varnskatt'. Save request refused by the server. Save Page Now limits saving 15 URLs per minutes. Try waiting for 5 minutes and then try again.\n",
      "\tSleep:  https://kristdemokraterna.se/var-politik/politik-a-o/#Varnskatt\n"
     ]
    },
    {
     "name": "stderr",
     "output_type": "stream",
     "text": [
      "\r",
      " 40%|████      | 479/1191 [12:48:31<79:27:21, 401.74s/it]"
     ]
    },
    {
     "name": "stdout",
     "output_type": "stream",
     "text": [
      "Can not save 'https://kristdemokraterna.se/var-politik/politik-a-o/#Yrkesprogram'. Save request refused by the server. Save Page Now limits saving 15 URLs per minutes. Try waiting for 5 minutes and then try again.\n",
      "\tSleep:  https://kristdemokraterna.se/var-politik/politik-a-o/#Yrkesprogram\n"
     ]
    },
    {
     "name": "stderr",
     "output_type": "stream",
     "text": [
      "\r",
      " 40%|████      | 480/1191 [12:55:13<79:23:08, 401.95s/it]"
     ]
    },
    {
     "name": "stdout",
     "output_type": "stream",
     "text": [
      "Can not save 'https://kristdemokraterna.se/var-politik/politik-a-o/#Atervinning'. Save request refused by the server. Save Page Now limits saving 15 URLs per minutes. Try waiting for 5 minutes and then try again.\n",
      "\tSleep:  https://kristdemokraterna.se/var-politik/politik-a-o/#Atervinning\n"
     ]
    },
    {
     "name": "stderr",
     "output_type": "stream",
     "text": [
      "\r",
      " 40%|████      | 481/1191 [13:01:55<79:15:23, 401.86s/it]"
     ]
    },
    {
     "name": "stdout",
     "output_type": "stream",
     "text": [
      "Can not save 'https://kristdemokraterna.se/var-politik/politik-a-o/#Aganderatt'. Save request refused by the server. Save Page Now limits saving 15 URLs per minutes. Try waiting for 5 minutes and then try again.\n",
      "\tSleep:  https://kristdemokraterna.se/var-politik/politik-a-o/#Aganderatt\n"
     ]
    },
    {
     "name": "stderr",
     "output_type": "stream",
     "text": [
      "\r",
      " 40%|████      | 482/1191 [13:08:37<79:09:45, 401.95s/it]"
     ]
    },
    {
     "name": "stdout",
     "output_type": "stream",
     "text": [
      "Can not save 'https://kristdemokraterna.se/var-politik/politik-a-o/#Aktenskap'. Save request refused by the server. Save Page Now limits saving 15 URLs per minutes. Try waiting for 5 minutes and then try again.\n",
      "\tSleep:  https://kristdemokraterna.se/var-politik/politik-a-o/#Aktenskap\n"
     ]
    },
    {
     "name": "stderr",
     "output_type": "stream",
     "text": [
      "\r",
      " 41%|████      | 483/1191 [13:15:18<79:00:09, 401.71s/it]"
     ]
    },
    {
     "name": "stdout",
     "output_type": "stream",
     "text": [
      "Can not save 'https://kristdemokraterna.se/var-politik/politik-a-o/#Aldre'. Save request refused by the server. Save Page Now limits saving 15 URLs per minutes. Try waiting for 5 minutes and then try again.\n",
      "\tSleep:  https://kristdemokraterna.se/var-politik/politik-a-o/#Aldre\n"
     ]
    },
    {
     "name": "stderr",
     "output_type": "stream",
     "text": [
      "\r",
      " 41%|████      | 484/1191 [13:21:59<78:50:52, 401.49s/it]"
     ]
    },
    {
     "name": "stdout",
     "output_type": "stream",
     "text": [
      "Can not save 'https://kristdemokraterna.se/var-politik/politik-a-o/#Aldreboendegaranti'. Save request refused by the server. Save Page Now limits saving 15 URLs per minutes. Try waiting for 5 minutes and then try again.\n",
      "\tSleep:  https://kristdemokraterna.se/var-politik/politik-a-o/#Aldreboendegaranti\n"
     ]
    },
    {
     "name": "stderr",
     "output_type": "stream",
     "text": [
      "\r",
      " 41%|████      | 485/1191 [13:28:41<78:45:13, 401.58s/it]"
     ]
    },
    {
     "name": "stdout",
     "output_type": "stream",
     "text": [
      "Can not save 'https://kristdemokraterna.se/var-politik/politik-a-o/#Aldreboendemiljard'. Save request refused by the server. Save Page Now limits saving 15 URLs per minutes. Try waiting for 5 minutes and then try again.\n",
      "\tSleep:  https://kristdemokraterna.se/var-politik/politik-a-o/#Aldreboendemiljard\n"
     ]
    },
    {
     "name": "stderr",
     "output_type": "stream",
     "text": [
      "\r",
      " 41%|████      | 486/1191 [13:35:22<78:36:34, 401.41s/it]"
     ]
    },
    {
     "name": "stdout",
     "output_type": "stream",
     "text": [
      "Can not save 'https://kristdemokraterna.se/var-politik/politik-a-o/#Aldreiarbetslivet'. Save request refused by the server. Save Page Now limits saving 15 URLs per minutes. Try waiting for 5 minutes and then try again.\n",
      "\tSleep:  https://kristdemokraterna.se/var-politik/politik-a-o/#Aldreiarbetslivet\n"
     ]
    },
    {
     "name": "stderr",
     "output_type": "stream",
     "text": [
      "\r",
      " 41%|████      | 487/1191 [13:42:03<78:29:12, 401.35s/it]"
     ]
    },
    {
     "name": "stdout",
     "output_type": "stream",
     "text": [
      "Can not save 'https://kristdemokraterna.se/var-politik/politik-a-o/#Ostersjon'. Save request refused by the server. Save Page Now limits saving 15 URLs per minutes. Try waiting for 5 minutes and then try again.\n",
      "\tSleep:  https://kristdemokraterna.se/var-politik/politik-a-o/#Ostersjon\n"
     ]
    },
    {
     "name": "stderr",
     "output_type": "stream",
     "text": [
      "\r",
      " 41%|████      | 488/1191 [13:48:44<78:21:16, 401.25s/it]"
     ]
    },
    {
     "name": "stdout",
     "output_type": "stream",
     "text": [
      "Can not save 'https://kristdemokraterna.se/var-politik/politik-a-o/#Overskuldsattning'. Save request refused by the server. Save Page Now limits saving 15 URLs per minutes. Try waiting for 5 minutes and then try again.\n",
      "\tSleep:  https://kristdemokraterna.se/var-politik/politik-a-o/#Overskuldsattning\n"
     ]
    },
    {
     "name": "stderr",
     "output_type": "stream",
     "text": [
      " 41%|████      | 490/1191 [13:58:34<65:40:01, 337.23s/it]"
     ]
    },
    {
     "name": "stdout",
     "output_type": "stream",
     "text": [
      "Can not save 'https://www.liberalerna.se/politik/a-kassa'. Save request refused by the server. Save Page Now limits saving 15 URLs per minutes. Try waiting for 5 minutes and then try again.\n",
      "\tSleep:  https://www.liberalerna.se/politik/a-kassa\n"
     ]
    },
    {
     "name": "stderr",
     "output_type": "stream",
     "text": [
      " 42%|████▏     | 497/1191 [14:06:27<9:49:10, 50.94s/it]  "
     ]
    },
    {
     "name": "stdout",
     "output_type": "stream",
     "text": [
      "Can not save 'https://www.liberalerna.se/politik/assisterad-befruktning'. Save request refused by the server. Save Page Now limits saving 15 URLs per minutes. Try waiting for 5 minutes and then try again.\n",
      "\tSleep:  https://www.liberalerna.se/politik/assisterad-befruktning\n"
     ]
    },
    {
     "name": "stderr",
     "output_type": "stream",
     "text": [
      " 42%|████▏     | 504/1191 [14:14:43<5:47:28, 30.35s/it]  "
     ]
    },
    {
     "name": "stdout",
     "output_type": "stream",
     "text": [
      "Can not save 'https://www.liberalerna.se/politik/bistand'. Save request refused by the server. Save Page Now limits saving 15 URLs per minutes. Try waiting for 5 minutes and then try again.\n",
      "\tSleep:  https://www.liberalerna.se/politik/bistand\n"
     ]
    },
    {
     "name": "stderr",
     "output_type": "stream",
     "text": [
      " 43%|████▎     | 510/1191 [14:22:32<6:33:41, 34.69s/it]  "
     ]
    },
    {
     "name": "stdout",
     "output_type": "stream",
     "text": [
      "Can not save 'https://www.liberalerna.se/politik/demokrati'. Save request refused by the server. Save Page Now limits saving 15 URLs per minutes. Try waiting for 5 minutes and then try again.\n",
      "\tSleep:  https://www.liberalerna.se/politik/demokrati\n"
     ]
    },
    {
     "name": "stderr",
     "output_type": "stream",
     "text": [
      " 43%|████▎     | 516/1191 [14:30:31<6:51:32, 36.58s/it]  "
     ]
    },
    {
     "name": "stdout",
     "output_type": "stream",
     "text": [
      "Can not save 'https://www.liberalerna.se/politik/elektrobranslen'. Save request refused by the server. Save Page Now limits saving 15 URLs per minutes. Try waiting for 5 minutes and then try again.\n",
      "\tSleep:  https://www.liberalerna.se/politik/elektrobranslen\n"
     ]
    },
    {
     "name": "stderr",
     "output_type": "stream",
     "text": [
      " 44%|████▍     | 524/1191 [14:39:26<5:08:45, 27.77s/it]  "
     ]
    },
    {
     "name": "stdout",
     "output_type": "stream",
     "text": [
      "Can not save 'https://www.liberalerna.se/politik/eu-europeiska-unionen'. Save request refused by the server. Save Page Now limits saving 15 URLs per minutes. Try waiting for 5 minutes and then try again.\n",
      "\tSleep:  https://www.liberalerna.se/politik/eu-europeiska-unionen\n"
     ]
    },
    {
     "name": "stderr",
     "output_type": "stream",
     "text": [
      " 44%|████▍     | 528/1191 [14:46:44<10:17:24, 55.87s/it] "
     ]
    },
    {
     "name": "stdout",
     "output_type": "stream",
     "text": [
      "Can not save 'https://www.liberalerna.se/politik/fiske'. Save request refused by the server. Save Page Now limits saving 15 URLs per minutes. Try waiting for 5 minutes and then try again.\n",
      "\tSleep:  https://www.liberalerna.se/politik/fiske\n"
     ]
    },
    {
     "name": "stderr",
     "output_type": "stream",
     "text": [
      "\r",
      " 44%|████▍     | 529/1191 [14:53:25<29:20:40, 159.58s/it]"
     ]
    },
    {
     "name": "stdout",
     "output_type": "stream",
     "text": [
      "Can not save 'https://www.liberalerna.se/politik/flyg'. Save request refused by the server. Save Page Now limits saving 15 URLs per minutes. Try waiting for 5 minutes and then try again.\n",
      "\tSleep:  https://www.liberalerna.se/politik/flyg\n"
     ]
    },
    {
     "name": "stderr",
     "output_type": "stream",
     "text": [
      " 45%|████▌     | 537/1191 [15:03:29<6:14:17, 34.34s/it]  "
     ]
    },
    {
     "name": "stdout",
     "output_type": "stream",
     "text": [
      "Can not save 'https://www.liberalerna.se/politik/forskolan'. Save request refused by the server. Save Page Now limits saving 15 URLs per minutes. Try waiting for 5 minutes and then try again.\n",
      "\tSleep:  https://www.liberalerna.se/politik/forskolan\n"
     ]
    },
    {
     "name": "stderr",
     "output_type": "stream",
     "text": [
      " 46%|████▌     | 544/1191 [15:11:24<5:00:20, 27.85s/it]  "
     ]
    },
    {
     "name": "stdout",
     "output_type": "stream",
     "text": [
      "Can not save 'https://www.liberalerna.se/politik/hedersrelaterat-vald-och-fortryck'. Save request refused by the server. Save Page Now limits saving 15 URLs per minutes. Try waiting for 5 minutes and then try again.\n",
      "\tSleep:  https://www.liberalerna.se/politik/hedersrelaterat-vald-och-fortryck\n"
     ]
    },
    {
     "name": "stderr",
     "output_type": "stream",
     "text": [
      " 46%|████▋     | 551/1191 [15:19:23<4:55:45, 27.73s/it]  "
     ]
    },
    {
     "name": "stdout",
     "output_type": "stream",
     "text": [
      "Can not save 'https://www.liberalerna.se/politik/integration'. Save request refused by the server. Save Page Now limits saving 15 URLs per minutes. Try waiting for 5 minutes and then try again.\n",
      "\tSleep:  https://www.liberalerna.se/politik/integration\n"
     ]
    },
    {
     "name": "stderr",
     "output_type": "stream",
     "text": [
      " 47%|████▋     | 555/1191 [15:26:46<10:04:14, 57.00s/it] "
     ]
    },
    {
     "name": "stdout",
     "output_type": "stream",
     "text": [
      "Can not save 'https://www.liberalerna.se/politik/jobb'. Save request refused by the server. Save Page Now limits saving 15 URLs per minutes. Try waiting for 5 minutes and then try again.\n",
      "\tSleep:  https://www.liberalerna.se/politik/jobb\n"
     ]
    },
    {
     "name": "stderr",
     "output_type": "stream",
     "text": [
      " 47%|████▋     | 561/1191 [15:36:28<7:44:15, 44.21s/it]  "
     ]
    },
    {
     "name": "stdout",
     "output_type": "stream",
     "text": [
      "Can not save 'https://www.liberalerna.se/politik/koldioxidinfangning'. Save request refused by the server. Save Page Now limits saving 15 URLs per minutes. Try waiting for 5 minutes and then try again.\n",
      "\tSleep:  https://www.liberalerna.se/politik/koldioxidinfangning\n"
     ]
    },
    {
     "name": "stderr",
     "output_type": "stream",
     "text": [
      " 48%|████▊     | 568/1191 [15:44:15<4:33:20, 26.32s/it]  "
     ]
    },
    {
     "name": "stdout",
     "output_type": "stream",
     "text": [
      "Can not save 'https://www.liberalerna.se/politik/lararna-2'. Save request refused by the server. Save Page Now limits saving 15 URLs per minutes. Try waiting for 5 minutes and then try again.\n",
      "\tSleep:  https://www.liberalerna.se/politik/lararna-2\n"
     ]
    },
    {
     "name": "stderr",
     "output_type": "stream",
     "text": [
      " 48%|████▊     | 572/1191 [15:51:24<9:19:28, 54.23s/it]  "
     ]
    },
    {
     "name": "stdout",
     "output_type": "stream",
     "text": [
      "Can not save 'https://www.liberalerna.se/politik/monarki'. Save request refused by the server. Save Page Now limits saving 15 URLs per minutes. Try waiting for 5 minutes and then try again.\n",
      "\tSleep:  https://www.liberalerna.se/politik/monarki\n"
     ]
    },
    {
     "name": "stderr",
     "output_type": "stream",
     "text": [
      " 48%|████▊     | 576/1191 [15:58:42<10:33:33, 61.81s/it] "
     ]
    },
    {
     "name": "stdout",
     "output_type": "stream",
     "text": [
      "Can not save 'https://www.liberalerna.se/politik/nyanlanda-elever'. Save request refused by the server. Save Page Now limits saving 15 URLs per minutes. Try waiting for 5 minutes and then try again.\n",
      "\tSleep:  https://www.liberalerna.se/politik/nyanlanda-elever\n"
     ]
    },
    {
     "name": "stderr",
     "output_type": "stream",
     "text": [
      " 49%|████▉     | 582/1191 [16:06:19<6:03:42, 35.83s/it]  "
     ]
    },
    {
     "name": "stdout",
     "output_type": "stream",
     "text": [
      "Can not save 'https://www.liberalerna.se/politik/psykiatri'. Save request refused by the server. Save Page Now limits saving 15 URLs per minutes. Try waiting for 5 minutes and then try again.\n",
      "\tSleep:  https://www.liberalerna.se/politik/psykiatri\n"
     ]
    },
    {
     "name": "stderr",
     "output_type": "stream",
     "text": [
      " 49%|████▉     | 586/1191 [16:13:40<9:51:50, 58.70s/it]  "
     ]
    },
    {
     "name": "stdout",
     "output_type": "stream",
     "text": [
      "Can not save 'https://www.liberalerna.se/politik/regional-utveckling'. Save request refused by the server. Save Page Now limits saving 15 URLs per minutes. Try waiting for 5 minutes and then try again.\n",
      "\tSleep:  https://www.liberalerna.se/politik/regional-utveckling\n"
     ]
    },
    {
     "name": "stderr",
     "output_type": "stream",
     "text": [
      " 50%|████▉     | 593/1191 [16:21:30<4:46:12, 28.72s/it]  "
     ]
    },
    {
     "name": "stdout",
     "output_type": "stream",
     "text": [
      "Can not save 'https://www.liberalerna.se/politik/skatter'. Save request refused by the server. Save Page Now limits saving 15 URLs per minutes. Try waiting for 5 minutes and then try again.\n",
      "\tSleep:  https://www.liberalerna.se/politik/skatter\n"
     ]
    },
    {
     "name": "stderr",
     "output_type": "stream",
     "text": [
      " 51%|█████     | 608/1191 [16:33:28<3:11:54, 19.75s/it]  "
     ]
    },
    {
     "name": "stdout",
     "output_type": "stream",
     "text": [
      "Can not save 'https://www.liberalerna.se/politik/upphovsratten'. Save request refused by the server. Save Page Now limits saving 15 URLs per minutes. Try waiting for 5 minutes and then try again.\n",
      "\tSleep:  https://www.liberalerna.se/politik/upphovsratten\n"
     ]
    },
    {
     "name": "stderr",
     "output_type": "stream",
     "text": [
      " 52%|█████▏    | 615/1191 [16:41:38<4:38:25, 29.00s/it]  "
     ]
    },
    {
     "name": "stdout",
     "output_type": "stream",
     "text": [
      "Can not save 'https://www.liberalerna.se/politik/vuxenutbildning'. Save request refused by the server. Save Page Now limits saving 15 URLs per minutes. Try waiting for 5 minutes and then try again.\n",
      "\tSleep:  https://www.liberalerna.se/politik/vuxenutbildning\n"
     ]
    },
    {
     "name": "stderr",
     "output_type": "stream",
     "text": [
      " 52%|█████▏    | 621/1191 [16:49:26<5:21:21, 33.83s/it]  "
     ]
    },
    {
     "name": "stdout",
     "output_type": "stream",
     "text": [
      "Can not save 'https://www.mp.se/politik/abort/'. Save request refused by the server. Save Page Now limits saving 15 URLs per minutes. Try waiting for 5 minutes and then try again.\n",
      "\tSleep:  https://www.mp.se/politik/abort/\n"
     ]
    },
    {
     "name": "stderr",
     "output_type": "stream",
     "text": [
      " 52%|█████▏    | 625/1191 [16:56:34<8:40:38, 55.19s/it]  "
     ]
    },
    {
     "name": "stdout",
     "output_type": "stream",
     "text": [
      "Can not save 'https://www.mp.se/politik/bistand/'. Save request refused by the server. Save Page Now limits saving 15 URLs per minutes. Try waiting for 5 minutes and then try again.\n",
      "\tSleep:  https://www.mp.se/politik/bistand/\n"
     ]
    },
    {
     "name": "stderr",
     "output_type": "stream",
     "text": [
      " 53%|█████▎    | 632/1191 [17:04:24<4:17:31, 27.64s/it]  "
     ]
    },
    {
     "name": "stdout",
     "output_type": "stream",
     "text": [
      "Can not save 'https://www.mp.se/politik/ekonomi-och-skatter/'. Save request refused by the server. Save Page Now limits saving 15 URLs per minutes. Try waiting for 5 minutes and then try again.\n",
      "\tSleep:  https://www.mp.se/politik/ekonomi-och-skatter/\n"
     ]
    },
    {
     "name": "stderr",
     "output_type": "stream",
     "text": [
      " 53%|█████▎    | 636/1191 [17:11:37<8:26:37, 54.77s/it]  "
     ]
    },
    {
     "name": "stdout",
     "output_type": "stream",
     "text": [
      "Can not save 'https://www.mp.se/politik/funktionsratt/'. Save request refused by the server. Save Page Now limits saving 15 URLs per minutes. Try waiting for 5 minutes and then try again.\n",
      "\tSleep:  https://www.mp.se/politik/funktionsratt/\n"
     ]
    },
    {
     "name": "stderr",
     "output_type": "stream",
     "text": [
      " 54%|█████▍    | 645/1191 [17:20:38<3:15:13, 21.45s/it]  "
     ]
    },
    {
     "name": "stdout",
     "output_type": "stream",
     "text": [
      "Can not save 'https://www.mp.se/politik/jamstalldhet/'. Save request refused by the server. Save Page Now limits saving 15 URLs per minutes. Try waiting for 5 minutes and then try again.\n",
      "\tSleep:  https://www.mp.se/politik/jamstalldhet/\n"
     ]
    },
    {
     "name": "stderr",
     "output_type": "stream",
     "text": [
      " 54%|█████▍    | 649/1191 [17:27:47<7:54:50, 52.57s/it]  "
     ]
    },
    {
     "name": "stdout",
     "output_type": "stream",
     "text": [
      "Can not save 'https://www.mp.se/politik/klimat-miljo/'. Save request refused by the server. Save Page Now limits saving 15 URLs per minutes. Try waiting for 5 minutes and then try again.\n",
      "\tSleep:  https://www.mp.se/politik/klimat-miljo/\n"
     ]
    },
    {
     "name": "stderr",
     "output_type": "stream",
     "text": [
      " 55%|█████▍    | 653/1191 [17:35:42<9:40:48, 64.77s/it]  "
     ]
    },
    {
     "name": "stdout",
     "output_type": "stream",
     "text": [
      "Can not save 'https://www.mp.se/politik/lag-och-ordning/'. Save request refused by the server. Save Page Now limits saving 15 URLs per minutes. Try waiting for 5 minutes and then try again.\n",
      "\tSleep:  https://www.mp.se/politik/lag-och-ordning/\n"
     ]
    },
    {
     "name": "stderr",
     "output_type": "stream",
     "text": [
      " 55%|█████▌    | 658/1191 [17:42:56<6:48:51, 46.02s/it]  "
     ]
    },
    {
     "name": "stdout",
     "output_type": "stream",
     "text": [
      "Can not save 'https://www.mp.se/politik/nyanlandas-etablering/'. Save request refused by the server. Save Page Now limits saving 15 URLs per minutes. Try waiting for 5 minutes and then try again.\n",
      "\tSleep:  https://www.mp.se/politik/nyanlandas-etablering/\n"
     ]
    },
    {
     "name": "stderr",
     "output_type": "stream",
     "text": [
      " 56%|█████▌    | 662/1191 [17:50:30<8:56:46, 60.88s/it]  "
     ]
    },
    {
     "name": "stdout",
     "output_type": "stream",
     "text": [
      "Can not save 'https://www.mp.se/politik/skog-och-biologisk-mangfald/'. Save request refused by the server. Save Page Now limits saving 15 URLs per minutes. Try waiting for 5 minutes and then try again.\n",
      "\tSleep:  https://www.mp.se/politik/skog-och-biologisk-mangfald/\n"
     ]
    },
    {
     "name": "stderr",
     "output_type": "stream",
     "text": [
      " 56%|█████▌    | 669/1191 [17:58:18<4:06:23, 28.32s/it]  "
     ]
    },
    {
     "name": "stdout",
     "output_type": "stream",
     "text": [
      "Can not save 'https://www.mp.se/politik/vapenexport/'. Save request refused by the server. Save Page Now limits saving 15 URLs per minutes. Try waiting for 5 minutes and then try again.\n",
      "\tSleep:  https://www.mp.se/politik/vapenexport/\n"
     ]
    },
    {
     "name": "stderr",
     "output_type": "stream",
     "text": [
      " 57%|█████▋    | 673/1191 [18:05:38<8:10:48, 56.85s/it]  "
     ]
    },
    {
     "name": "stdout",
     "output_type": "stream",
     "text": [
      "Can not save 'https://moderaterna.se/var-politik/a-kassa/'. Save request refused by the server. Save Page Now limits saving 15 URLs per minutes. Try waiting for 5 minutes and then try again.\n",
      "\tSleep:  https://moderaterna.se/var-politik/a-kassa/\n"
     ]
    },
    {
     "name": "stderr",
     "output_type": "stream",
     "text": [
      " 57%|█████▋    | 679/1191 [18:13:30<5:29:03, 38.56s/it]  "
     ]
    },
    {
     "name": "stdout",
     "output_type": "stream",
     "text": [
      "Can not save 'https://moderaterna.se/var-politik/bistand/'. Save request refused by the server. Save Page Now limits saving 15 URLs per minutes. Try waiting for 5 minutes and then try again.\n",
      "\tSleep:  https://moderaterna.se/var-politik/bistand/\n"
     ]
    },
    {
     "name": "stderr",
     "output_type": "stream",
     "text": [
      " 57%|█████▋    | 683/1191 [18:20:43<8:03:07, 57.06s/it]  "
     ]
    },
    {
     "name": "stdout",
     "output_type": "stream",
     "text": [
      "Can not save 'https://moderaterna.se/var-politik/brottsoffer/'. Save request refused by the server. Save Page Now limits saving 15 URLs per minutes. Try waiting for 5 minutes and then try again.\n",
      "\tSleep:  https://moderaterna.se/var-politik/brottsoffer/\n"
     ]
    },
    {
     "name": "stderr",
     "output_type": "stream",
     "text": [
      " 58%|█████▊    | 688/1191 [18:28:27<6:58:34, 49.93s/it]  "
     ]
    },
    {
     "name": "stdout",
     "output_type": "stream",
     "text": [
      "Can not save 'https://moderaterna.se/var-politik/demokrati/'. Save request refused by the server. Save Page Now limits saving 15 URLs per minutes. Try waiting for 5 minutes and then try again.\n",
      "\tSleep:  https://moderaterna.se/var-politik/demokrati/\n"
     ]
    },
    {
     "name": "stderr",
     "output_type": "stream",
     "text": [
      " 58%|█████▊    | 693/1191 [19:07:35<25:21:35, 183.32s/it] "
     ]
    },
    {
     "name": "stdout",
     "output_type": "stream",
     "text": [
      "Can not save 'https://moderaterna.se/var-politik/eu/'. Save request refused by the server. Save Page Now limits saving 15 URLs per minutes. Try waiting for 5 minutes and then try again.\n",
      "\tSleep:  https://moderaterna.se/var-politik/eu/\n"
     ]
    },
    {
     "name": "stderr",
     "output_type": "stream",
     "text": [
      " 59%|█████▊    | 699/1191 [19:15:27<7:19:17, 53.57s/it]  "
     ]
    },
    {
     "name": "stdout",
     "output_type": "stream",
     "text": [
      "Can not save 'https://moderaterna.se/var-politik/foraldraforsakring/'. Save request refused by the server. Save Page Now limits saving 15 URLs per minutes. Try waiting for 5 minutes and then try again.\n",
      "\tSleep:  https://moderaterna.se/var-politik/foraldraforsakring/\n"
     ]
    },
    {
     "name": "stderr",
     "output_type": "stream",
     "text": [
      " 59%|█████▉    | 706/1191 [19:23:43<4:28:38, 33.24s/it]  "
     ]
    },
    {
     "name": "stdout",
     "output_type": "stream",
     "text": [
      "Can not save 'https://moderaterna.se/var-politik/infrastruktur/'. Save request refused by the server. Save Page Now limits saving 15 URLs per minutes. Try waiting for 5 minutes and then try again.\n",
      "\tSleep:  https://moderaterna.se/var-politik/infrastruktur/\n"
     ]
    },
    {
     "name": "stderr",
     "output_type": "stream",
     "text": [
      " 60%|█████▉    | 714/1191 [19:32:29<3:15:18, 24.57s/it]  "
     ]
    },
    {
     "name": "stdout",
     "output_type": "stream",
     "text": [
      "Can not save 'https://moderaterna.se/var-politik/lag-och-ordning/'. Save request refused by the server. Save Page Now limits saving 15 URLs per minutes. Try waiting for 5 minutes and then try again.\n",
      "\tSleep:  https://moderaterna.se/var-politik/lag-och-ordning/\n"
     ]
    },
    {
     "name": "stderr",
     "output_type": "stream",
     "text": [
      " 61%|██████    | 721/1191 [19:40:35<3:43:21, 28.51s/it]  "
     ]
    },
    {
     "name": "stdout",
     "output_type": "stream",
     "text": [
      "Can not save 'https://moderaterna.se/var-politik/nato/'. Save request refused by the server. Save Page Now limits saving 15 URLs per minutes. Try waiting for 5 minutes and then try again.\n",
      "\tSleep:  https://moderaterna.se/var-politik/nato/\n"
     ]
    },
    {
     "name": "stderr",
     "output_type": "stream",
     "text": [
      " 61%|██████    | 725/1191 [19:49:37<9:17:45, 71.81s/it]  "
     ]
    },
    {
     "name": "stdout",
     "output_type": "stream",
     "text": [
      "Can not save 'https://moderaterna.se/var-politik/regelforenklingar-for-foretag/'. Save request refused by the server. Save Page Now limits saving 15 URLs per minutes. Try waiting for 5 minutes and then try again.\n",
      "\tSleep:  https://moderaterna.se/var-politik/regelforenklingar-for-foretag/\n"
     ]
    },
    {
     "name": "stderr",
     "output_type": "stream",
     "text": [
      " 61%|██████    | 729/1191 [19:57:20<9:27:40, 73.72s/it]  "
     ]
    },
    {
     "name": "stdout",
     "output_type": "stream",
     "text": [
      "Can not save 'https://moderaterna.se/var-politik/skatter/'. Save request refused by the server. Save Page Now limits saving 15 URLs per minutes. Try waiting for 5 minutes and then try again.\n",
      "\tSleep:  https://moderaterna.se/var-politik/skatter/\n"
     ]
    },
    {
     "name": "stderr",
     "output_type": "stream",
     "text": [
      " 62%|██████▏   | 736/1191 [20:05:29<4:08:45, 32.80s/it]  "
     ]
    },
    {
     "name": "stdout",
     "output_type": "stream",
     "text": [
      "Can not save 'https://moderaterna.se/var-politik/surrogatmoderskap/'. Save request refused by the server. Save Page Now limits saving 15 URLs per minutes. Try waiting for 5 minutes and then try again.\n",
      "\tSleep:  https://moderaterna.se/var-politik/surrogatmoderskap/\n"
     ]
    },
    {
     "name": "stderr",
     "output_type": "stream",
     "text": [
      " 62%|██████▏   | 743/1191 [20:13:28<3:23:15, 27.22s/it]  "
     ]
    },
    {
     "name": "stdout",
     "output_type": "stream",
     "text": [
      "Can not save 'https://moderaterna.se/var-politik/vittnesskydd/'. Save request refused by the server. Save Page Now limits saving 15 URLs per minutes. Try waiting for 5 minutes and then try again.\n",
      "\tSleep:  https://moderaterna.se/var-politik/vittnesskydd/\n"
     ]
    },
    {
     "name": "stderr",
     "output_type": "stream",
     "text": [
      " 63%|██████▎   | 749/1191 [20:21:15<4:01:54, 32.84s/it]  "
     ]
    },
    {
     "name": "stdout",
     "output_type": "stream",
     "text": [
      "Can not save 'https://www.socialdemokraterna.se/var-politik/a-till-o/antirasism-och-framlingsfientlighet'. Save request refused by the server. Save Page Now limits saving 15 URLs per minutes. Try waiting for 5 minutes and then try again.\n",
      "\tSleep:  https://www.socialdemokraterna.se/var-politik/a-till-o/antirasism-och-framlingsfientlighet\n"
     ]
    },
    {
     "name": "stderr",
     "output_type": "stream",
     "text": [
      " 63%|██████▎   | 753/1191 [20:28:25<6:41:40, 55.02s/it]  "
     ]
    },
    {
     "name": "stdout",
     "output_type": "stream",
     "text": [
      "Can not save 'https://www.socialdemokraterna.se/var-politik/a-till-o/arbetsmiljo'. Save request refused by the server. Save Page Now limits saving 15 URLs per minutes. Try waiting for 5 minutes and then try again.\n",
      "\tSleep:  https://www.socialdemokraterna.se/var-politik/a-till-o/arbetsmiljo\n"
     ]
    },
    {
     "name": "stderr",
     "output_type": "stream",
     "text": [
      " 64%|██████▎   | 757/1191 [20:35:35<7:16:02, 60.28s/it]  "
     ]
    },
    {
     "name": "stdout",
     "output_type": "stream",
     "text": [
      "Can not save 'https://www.socialdemokraterna.se/var-politik/a-till-o/betyg'. Save request refused by the server. Save Page Now limits saving 15 URLs per minutes. Try waiting for 5 minutes and then try again.\n",
      "\tSleep:  https://www.socialdemokraterna.se/var-politik/a-till-o/betyg\n"
     ]
    },
    {
     "name": "stderr",
     "output_type": "stream",
     "text": [
      " 64%|██████▍   | 761/1191 [20:42:40<7:16:58, 60.97s/it]  "
     ]
    },
    {
     "name": "stdout",
     "output_type": "stream",
     "text": [
      "Can not save 'https://www.socialdemokraterna.se/var-politik/a-till-o/digitalisering'. Save request refused by the server. Save Page Now limits saving 15 URLs per minutes. Try waiting for 5 minutes and then try again.\n",
      "\tSleep:  https://www.socialdemokraterna.se/var-politik/a-till-o/digitalisering\n"
     ]
    },
    {
     "name": "stderr",
     "output_type": "stream",
     "text": [
      " 64%|██████▍   | 764/1191 [20:49:53<10:33:40, 89.04s/it] "
     ]
    },
    {
     "name": "stdout",
     "output_type": "stream",
     "text": [
      "Can not save 'https://www.socialdemokraterna.se/var-politik/a-till-o/ekonomiskt-bistand'. Save request refused by the server. Save Page Now limits saving 15 URLs per minutes. Try waiting for 5 minutes and then try again.\n",
      "\tSleep:  https://www.socialdemokraterna.se/var-politik/a-till-o/ekonomiskt-bistand\n"
     ]
    },
    {
     "name": "stderr",
     "output_type": "stream",
     "text": [
      " 65%|██████▍   | 771/1191 [21:00:21<4:12:30, 36.07s/it]  "
     ]
    },
    {
     "name": "stdout",
     "output_type": "stream",
     "text": [
      "Can not save 'https://www.socialdemokraterna.se/var-politik/a-till-o/feministisk-utrikespolitik'. Save request refused by the server. Save Page Now limits saving 15 URLs per minutes. Try waiting for 5 minutes and then try again.\n",
      "\tSleep:  https://www.socialdemokraterna.se/var-politik/a-till-o/feministisk-utrikespolitik\n"
     ]
    },
    {
     "name": "stderr",
     "output_type": "stream",
     "text": [
      " 65%|██████▌   | 775/1191 [21:08:24<7:23:02, 63.90s/it]  "
     ]
    },
    {
     "name": "stdout",
     "output_type": "stream",
     "text": [
      "Can not save 'https://www.socialdemokraterna.se/var-politik/a-till-o/folkrorelse-och-civilsamhalle'. Save request refused by the server. Save Page Now limits saving 15 URLs per minutes. Try waiting for 5 minutes and then try again.\n",
      "\tSleep:  https://www.socialdemokraterna.se/var-politik/a-till-o/folkrorelse-och-civilsamhalle\n"
     ]
    },
    {
     "name": "stderr",
     "output_type": "stream",
     "text": [
      " 66%|██████▌   | 787/1191 [21:20:16<2:35:48, 23.14s/it]  "
     ]
    },
    {
     "name": "stdout",
     "output_type": "stream",
     "text": [
      "Can not save 'https://www.socialdemokraterna.se/var-politik/a-till-o/hbtq-fragor'. Save request refused by the server. Save Page Now limits saving 15 URLs per minutes. Try waiting for 5 minutes and then try again.\n",
      "\tSleep:  https://www.socialdemokraterna.se/var-politik/a-till-o/hbtq-fragor\n"
     ]
    },
    {
     "name": "stderr",
     "output_type": "stream",
     "text": [
      "\r",
      " 66%|██████▌   | 788/1191 [21:26:58<15:17:47, 136.64s/it]"
     ]
    },
    {
     "name": "stdout",
     "output_type": "stream",
     "text": [
      "Can not save 'https://www.socialdemokraterna.se/var-politik/a-till-o/heltid-och-deltid'. Save request refused by the server. Save Page Now limits saving 15 URLs per minutes. Try waiting for 5 minutes and then try again.\n",
      "\tSleep:  https://www.socialdemokraterna.se/var-politik/a-till-o/heltid-och-deltid\n"
     ]
    },
    {
     "name": "stderr",
     "output_type": "stream",
     "text": [
      "\r",
      " 66%|██████▌   | 789/1191 [21:34:24<25:37:36, 229.49s/it]"
     ]
    },
    {
     "name": "stdout",
     "output_type": "stream",
     "text": [
      "Tried 8 times but failed to save and retrieve the archive for https://www.socialdemokraterna.se/var-politik/a-till-o/hemloshet.\n",
      "Response URL:\n",
      "https://web.archive.org/save/https://www.socialdemokraterna.se/var-politik/a-till-o/hemloshet\n",
      "Response Header:\n",
      "{'Server': 'nginx/1.19.5', 'Date': 'Fri, 01 Jul 2022 16:56:39 GMT', 'Content-Type': 'text/html; charset=utf-8', 'Transfer-Encoding': 'chunked', 'Connection': 'keep-alive', 'cache-control': 'no-cache', 'x-app-server': 'wwwb-app52', 'x-ts': '520', 'x-tr': '6198', 'X-location': 'save-sync', 'X-RL': '0', 'X-NA': '0', 'X-Page-Cache': 'MISS', 'X-NID': '-', 'Referrer-Policy': 'no-referrer-when-downgrade', 'Permissions-Policy': 'interest-cohort=()'}\n",
      "\tSleep:  https://www.socialdemokraterna.se/var-politik/a-till-o/hemloshet\n"
     ]
    },
    {
     "name": "stderr",
     "output_type": "stream",
     "text": [
      " 66%|██████▋   | 791/1191 [21:43:43<25:54:47, 233.22s/it]"
     ]
    },
    {
     "name": "stdout",
     "output_type": "stream",
     "text": [
      "Can not save 'https://www.socialdemokraterna.se/var-politik/a-till-o/idrott'. Save request refused by the server. Save Page Now limits saving 15 URLs per minutes. Try waiting for 5 minutes and then try again.\n",
      "\tSleep:  https://www.socialdemokraterna.se/var-politik/a-till-o/idrott\n"
     ]
    },
    {
     "name": "stderr",
     "output_type": "stream",
     "text": [
      " 67%|██████▋   | 793/1191 [21:52:41<25:21:09, 229.32s/it]"
     ]
    },
    {
     "name": "stdout",
     "output_type": "stream",
     "text": [
      "Can not save 'https://www.socialdemokraterna.se/var-politik/a-till-o/innovation'. Save request refused by the server. Save Page Now limits saving 15 URLs per minutes. Try waiting for 5 minutes and then try again.\n",
      "\tSleep:  https://www.socialdemokraterna.se/var-politik/a-till-o/innovation\n"
     ]
    },
    {
     "name": "stderr",
     "output_type": "stream",
     "text": [
      " 67%|██████▋   | 797/1191 [22:00:37<11:41:06, 106.77s/it]"
     ]
    },
    {
     "name": "stdout",
     "output_type": "stream",
     "text": [
      "Can not save 'https://www.socialdemokraterna.se/var-politik/a-till-o/jobb'. Save request refused by the server. Save Page Now limits saving 15 URLs per minutes. Try waiting for 5 minutes and then try again.\n",
      "\tSleep:  https://www.socialdemokraterna.se/var-politik/a-till-o/jobb\n"
     ]
    },
    {
     "name": "stderr",
     "output_type": "stream",
     "text": [
      " 68%|██████▊   | 804/1191 [22:08:14<3:16:46, 30.51s/it]  "
     ]
    },
    {
     "name": "stdout",
     "output_type": "stream",
     "text": [
      "Can not save 'https://www.socialdemokraterna.se/var-politik/a-till-o/kultur'. Save request refused by the server. Save Page Now limits saving 15 URLs per minutes. Try waiting for 5 minutes and then try again.\n",
      "\tSleep:  https://www.socialdemokraterna.se/var-politik/a-till-o/kultur\n"
     ]
    },
    {
     "name": "stderr",
     "output_type": "stream",
     "text": [
      " 68%|██████▊   | 808/1191 [22:15:27<5:51:48, 55.11s/it]  "
     ]
    },
    {
     "name": "stdout",
     "output_type": "stream",
     "text": [
      "Can not save 'https://www.socialdemokraterna.se/var-politik/a-till-o/landsbygdspolitik'. Save request refused by the server. Save Page Now limits saving 15 URLs per minutes. Try waiting for 5 minutes and then try again.\n",
      "\tSleep:  https://www.socialdemokraterna.se/var-politik/a-till-o/landsbygdspolitik\n"
     ]
    },
    {
     "name": "stderr",
     "output_type": "stream",
     "text": [
      " 68%|██████▊   | 812/1191 [22:22:39<6:24:04, 60.80s/it]  "
     ]
    },
    {
     "name": "stdout",
     "output_type": "stream",
     "text": [
      "Can not save 'https://www.socialdemokraterna.se/var-politik/a-till-o/migration-asyl--och-flyktingpolitik'. Save request refused by the server. Save Page Now limits saving 15 URLs per minutes. Try waiting for 5 minutes and then try again.\n",
      "\tSleep:  https://www.socialdemokraterna.se/var-politik/a-till-o/migration-asyl--och-flyktingpolitik\n"
     ]
    },
    {
     "name": "stderr",
     "output_type": "stream",
     "text": [
      " 69%|██████▊   | 816/1191 [22:36:28<10:41:55, 102.71s/it]"
     ]
    },
    {
     "name": "stdout",
     "output_type": "stream",
     "text": [
      "Can not save 'https://www.socialdemokraterna.se/var-politik/a-till-o/nationella-prov'. Save request refused by the server. Save Page Now limits saving 15 URLs per minutes. Try waiting for 5 minutes and then try again.\n",
      "\tSleep:  https://www.socialdemokraterna.se/var-politik/a-till-o/nationella-prov\n"
     ]
    },
    {
     "name": "stderr",
     "output_type": "stream",
     "text": [
      " 69%|██████▉   | 823/1191 [22:44:26<3:19:02, 32.45s/it]  "
     ]
    },
    {
     "name": "stdout",
     "output_type": "stream",
     "text": [
      "Can not save 'https://www.socialdemokraterna.se/var-politik/a-till-o/pension'. Save request refused by the server. Save Page Now limits saving 15 URLs per minutes. Try waiting for 5 minutes and then try again.\n",
      "\tSleep:  https://www.socialdemokraterna.se/var-politik/a-till-o/pension\n"
     ]
    },
    {
     "name": "stderr",
     "output_type": "stream",
     "text": [
      " 69%|██████▉   | 827/1191 [22:51:29<5:26:47, 53.87s/it]  "
     ]
    },
    {
     "name": "stdout",
     "output_type": "stream",
     "text": [
      "Can not save 'https://www.socialdemokraterna.se/var-politik/a-till-o/regional-tillvaxt'. Save request refused by the server. Save Page Now limits saving 15 URLs per minutes. Try waiting for 5 minutes and then try again.\n",
      "\tSleep:  https://www.socialdemokraterna.se/var-politik/a-till-o/regional-tillvaxt\n"
     ]
    },
    {
     "name": "stderr",
     "output_type": "stream",
     "text": [
      " 70%|██████▉   | 831/1191 [22:58:43<6:03:29, 60.58s/it]  "
     ]
    },
    {
     "name": "stdout",
     "output_type": "stream",
     "text": [
      "Can not save 'https://www.socialdemokraterna.se/var-politik/a-till-o/segregation'. Save request refused by the server. Save Page Now limits saving 15 URLs per minutes. Try waiting for 5 minutes and then try again.\n",
      "\tSleep:  https://www.socialdemokraterna.se/var-politik/a-till-o/segregation\n"
     ]
    },
    {
     "name": "stderr",
     "output_type": "stream",
     "text": [
      " 70%|███████   | 838/1191 [23:06:12<2:32:45, 25.96s/it]  "
     ]
    },
    {
     "name": "stdout",
     "output_type": "stream",
     "text": [
      "Can not save 'https://www.socialdemokraterna.se/var-politik/a-till-o/studiemedel'. Save request refused by the server. Save Page Now limits saving 15 URLs per minutes. Try waiting for 5 minutes and then try again.\n",
      "\tSleep:  https://www.socialdemokraterna.se/var-politik/a-till-o/studiemedel\n"
     ]
    },
    {
     "name": "stderr",
     "output_type": "stream",
     "text": [
      " 71%|███████   | 842/1191 [23:13:16<5:05:05, 52.45s/it]  "
     ]
    },
    {
     "name": "stdout",
     "output_type": "stream",
     "text": [
      "Can not save 'https://www.socialdemokraterna.se/var-politik/a-till-o/ungdomsran'. Save request refused by the server. Save Page Now limits saving 15 URLs per minutes. Try waiting for 5 minutes and then try again.\n",
      "\tSleep:  https://www.socialdemokraterna.se/var-politik/a-till-o/ungdomsran\n"
     ]
    },
    {
     "name": "stderr",
     "output_type": "stream",
     "text": [
      " 71%|███████   | 846/1191 [23:20:22<5:39:53, 59.11s/it]  "
     ]
    },
    {
     "name": "stdout",
     "output_type": "stream",
     "text": [
      "Can not save 'https://www.socialdemokraterna.se/var-politik/a-till-o/vuxenutbildning'. Save request refused by the server. Save Page Now limits saving 15 URLs per minutes. Try waiting for 5 minutes and then try again.\n",
      "\tSleep:  https://www.socialdemokraterna.se/var-politik/a-till-o/vuxenutbildning\n"
     ]
    },
    {
     "name": "stderr",
     "output_type": "stream",
     "text": [
      " 71%|███████▏  | 850/1191 [23:27:31<5:49:55, 61.57s/it]  "
     ]
    },
    {
     "name": "stdout",
     "output_type": "stream",
     "text": [
      "Can not save 'https://www.socialdemokraterna.se/var-politik/a-till-o/aldreomsorg'. Save request refused by the server. Save Page Now limits saving 15 URLs per minutes. Try waiting for 5 minutes and then try again.\n",
      "\tSleep:  https://www.socialdemokraterna.se/var-politik/a-till-o/aldreomsorg\n"
     ]
    },
    {
     "name": "stderr",
     "output_type": "stream",
     "text": [
      " 72%|███████▏  | 859/1191 [23:36:34<2:22:22, 25.73s/it]  "
     ]
    },
    {
     "name": "stdout",
     "output_type": "stream",
     "text": [
      "Can not save 'https://sd.se/our-politics/arbetskraftsinvandring/'. Save request refused by the server. Save Page Now limits saving 15 URLs per minutes. Try waiting for 5 minutes and then try again.\n",
      "\tSleep:  https://sd.se/our-politics/arbetskraftsinvandring/\n"
     ]
    },
    {
     "name": "stderr",
     "output_type": "stream",
     "text": [
      " 73%|███████▎  | 865/1191 [23:44:35<3:15:38, 36.01s/it]  "
     ]
    },
    {
     "name": "stdout",
     "output_type": "stream",
     "text": [
      "Can not save 'https://sd.se/our-politics/assimilering/'. Save request refused by the server. Save Page Now limits saving 15 URLs per minutes. Try waiting for 5 minutes and then try again.\n",
      "\tSleep:  https://sd.se/our-politics/assimilering/\n"
     ]
    },
    {
     "name": "stderr",
     "output_type": "stream",
     "text": [
      " 73%|███████▎  | 867/1191 [23:51:34<9:37:45, 106.99s/it] "
     ]
    },
    {
     "name": "stdout",
     "output_type": "stream",
     "text": [
      "Can not save 'https://sd.se/our-politics/assistans-i-daglig-verksamhet/'. Save request refused by the server. Save Page Now limits saving 15 URLs per minutes. Try waiting for 5 minutes and then try again.\n",
      "\tSleep:  https://sd.se/our-politics/assistans-i-daglig-verksamhet/\n"
     ]
    },
    {
     "name": "stderr",
     "output_type": "stream",
     "text": [
      " 73%|███████▎  | 873/1191 [24:00:40<4:24:17, 49.87s/it]  "
     ]
    },
    {
     "name": "stdout",
     "output_type": "stream",
     "text": [
      "Can not save 'https://sd.se/our-politics/barn-och-ungdomspsykiatrin/'. Save request refused by the server. Save Page Now limits saving 15 URLs per minutes. Try waiting for 5 minutes and then try again.\n",
      "\tSleep:  https://sd.se/our-politics/barn-och-ungdomspsykiatrin/\n"
     ]
    },
    {
     "name": "stderr",
     "output_type": "stream",
     "text": [
      " 74%|███████▍  | 879/1191 [24:08:36<3:18:38, 38.20s/it]  "
     ]
    },
    {
     "name": "stdout",
     "output_type": "stream",
     "text": [
      "Can not save 'https://sd.se/our-politics/betyg/'. Save request refused by the server. Save Page Now limits saving 15 URLs per minutes. Try waiting for 5 minutes and then try again.\n",
      "\tSleep:  https://sd.se/our-politics/betyg/\n"
     ]
    },
    {
     "name": "stderr",
     "output_type": "stream",
     "text": [
      " 74%|███████▍  | 885/1191 [24:16:29<3:05:26, 36.36s/it]  "
     ]
    },
    {
     "name": "stdout",
     "output_type": "stream",
     "text": [
      "Can not save 'https://sd.se/our-politics/bostadsbidrag/'. Save request refused by the server. Save Page Now limits saving 15 URLs per minutes. Try waiting for 5 minutes and then try again.\n",
      "\tSleep:  https://sd.se/our-politics/bostadsbidrag/\n"
     ]
    },
    {
     "name": "stderr",
     "output_type": "stream",
     "text": [
      " 75%|███████▌  | 895/1191 [24:25:31<1:42:34, 20.79s/it]  "
     ]
    },
    {
     "name": "stdout",
     "output_type": "stream",
     "text": [
      "Can not save 'https://sd.se/our-politics/ekonomisk-politik/'. Save request refused by the server. Save Page Now limits saving 15 URLs per minutes. Try waiting for 5 minutes and then try again.\n",
      "\tSleep:  https://sd.se/our-politics/ekonomisk-politik/\n"
     ]
    },
    {
     "name": "stderr",
     "output_type": "stream",
     "text": [
      " 76%|███████▌  | 901/1191 [24:33:36<2:52:06, 35.61s/it]  "
     ]
    },
    {
     "name": "stdout",
     "output_type": "stream",
     "text": [
      "Can not save 'https://sd.se/our-politics/familj/'. Save request refused by the server. Save Page Now limits saving 15 URLs per minutes. Try waiting for 5 minutes and then try again.\n",
      "\tSleep:  https://sd.se/our-politics/familj/\n"
     ]
    },
    {
     "name": "stderr",
     "output_type": "stream",
     "text": [
      " 76%|███████▌  | 907/1191 [24:41:40<2:54:38, 36.90s/it]  "
     ]
    },
    {
     "name": "stdout",
     "output_type": "stream",
     "text": [
      "Can not save 'https://sd.se/our-politics/fler-poliser/'. Save request refused by the server. Save Page Now limits saving 15 URLs per minutes. Try waiting for 5 minutes and then try again.\n",
      "\tSleep:  https://sd.se/our-politics/fler-poliser/\n"
     ]
    },
    {
     "name": "stderr",
     "output_type": "stream",
     "text": [
      " 76%|███████▋  | 910/1191 [24:48:52<6:12:04, 79.45s/it]  "
     ]
    },
    {
     "name": "stdout",
     "output_type": "stream",
     "text": [
      "Can not save 'https://sd.se/our-politics/flyktinghjalp/'. Save request refused by the server. Save Page Now limits saving 15 URLs per minutes. Try waiting for 5 minutes and then try again.\n",
      "\tSleep:  https://sd.se/our-politics/flyktinghjalp/\n"
     ]
    },
    {
     "name": "stderr",
     "output_type": "stream",
     "text": [
      " 77%|███████▋  | 914/1191 [24:57:30<6:20:13, 82.36s/it]  "
     ]
    },
    {
     "name": "stdout",
     "output_type": "stream",
     "text": [
      "Can not save 'https://sd.se/our-politics/folkomrostningar/'. Save request refused by the server. Save Page Now limits saving 15 URLs per minutes. Try waiting for 5 minutes and then try again.\n",
      "\tSleep:  https://sd.se/our-politics/folkomrostningar/\n"
     ]
    },
    {
     "name": "stderr",
     "output_type": "stream",
     "text": [
      " 78%|███████▊  | 924/1191 [25:06:29<1:34:52, 21.32s/it]  "
     ]
    },
    {
     "name": "stdout",
     "output_type": "stream",
     "text": [
      "Can not save 'https://sd.se/our-politics/forfattningsdomstol/'. Save request refused by the server. Save Page Now limits saving 15 URLs per minutes. Try waiting for 5 minutes and then try again.\n",
      "\tSleep:  https://sd.se/our-politics/forfattningsdomstol/\n"
     ]
    },
    {
     "name": "stderr",
     "output_type": "stream",
     "text": [
      " 78%|███████▊  | 931/1191 [25:14:36<2:03:18, 28.46s/it]  "
     ]
    },
    {
     "name": "stdout",
     "output_type": "stream",
     "text": [
      "Can not save 'https://sd.se/our-politics/forsorjningsstod/'. Save request refused by the server. Save Page Now limits saving 15 URLs per minutes. Try waiting for 5 minutes and then try again.\n",
      "\tSleep:  https://sd.se/our-politics/forsorjningsstod/\n"
     ]
    },
    {
     "name": "stderr",
     "output_type": "stream",
     "text": [
      " 79%|███████▊  | 937/1191 [25:22:27<2:28:26, 35.06s/it]  "
     ]
    },
    {
     "name": "stdout",
     "output_type": "stream",
     "text": [
      "Can not save 'https://sd.se/our-politics/grundlagsfast-skydd-mot-diskriminering/'. Save request refused by the server. Save Page Now limits saving 15 URLs per minutes. Try waiting for 5 minutes and then try again.\n",
      "\tSleep:  https://sd.se/our-politics/grundlagsfast-skydd-mot-diskriminering/\n"
     ]
    },
    {
     "name": "stderr",
     "output_type": "stream",
     "text": [
      " 79%|███████▉  | 941/1191 [26:13:42<22:54:19, 329.84s/it]"
     ]
    },
    {
     "name": "stdout",
     "output_type": "stream",
     "text": [
      "Can not save 'https://sd.se/our-politics/helgdagar/'. Save request refused by the server. Save Page Now limits saving 15 URLs per minutes. Try waiting for 5 minutes and then try again.\n",
      "\tSleep:  https://sd.se/our-politics/helgdagar/\n"
     ]
    },
    {
     "name": "stderr",
     "output_type": "stream",
     "text": [
      " 80%|███████▉  | 947/1191 [26:21:40<4:54:56, 72.53s/it]  "
     ]
    },
    {
     "name": "stdout",
     "output_type": "stream",
     "text": [
      "Can not save 'https://sd.se/our-politics/hogre-utbildning/'. Save request refused by the server. Save Page Now limits saving 15 URLs per minutes. Try waiting for 5 minutes and then try again.\n",
      "\tSleep:  https://sd.se/our-politics/hogre-utbildning/\n"
     ]
    },
    {
     "name": "stderr",
     "output_type": "stream",
     "text": [
      " 80%|████████  | 953/1191 [26:29:32<2:40:58, 40.58s/it]  "
     ]
    },
    {
     "name": "stdout",
     "output_type": "stream",
     "text": [
      "Can not save 'https://sd.se/our-politics/internationella-skattesamarbeten/'. Save request refused by the server. Save Page Now limits saving 15 URLs per minutes. Try waiting for 5 minutes and then try again.\n",
      "\tSleep:  https://sd.se/our-politics/internationella-skattesamarbeten/\n"
     ]
    },
    {
     "name": "stderr",
     "output_type": "stream",
     "text": [
      " 81%|████████  | 963/1191 [26:38:27<1:15:32, 19.88s/it] "
     ]
    },
    {
     "name": "stdout",
     "output_type": "stream",
     "text": [
      "Can not save 'https://sd.se/our-politics/kameraovervakning/'. Save request refused by the server. Save Page Now limits saving 15 URLs per minutes. Try waiting for 5 minutes and then try again.\n",
      "\tSleep:  https://sd.se/our-politics/kameraovervakning/\n"
     ]
    },
    {
     "name": "stderr",
     "output_type": "stream",
     "text": [
      " 81%|████████▏ | 970/1191 [26:46:37<1:47:13, 29.11s/it] "
     ]
    },
    {
     "name": "stdout",
     "output_type": "stream",
     "text": [
      "Can not save 'https://sd.se/our-politics/kostnader-for-asylmottagandet/'. Save request refused by the server. Save Page Now limits saving 15 URLs per minutes. Try waiting for 5 minutes and then try again.\n",
      "\tSleep:  https://sd.se/our-politics/kostnader-for-asylmottagandet/\n"
     ]
    },
    {
     "name": "stderr",
     "output_type": "stream",
     "text": [
      " 82%|████████▏ | 975/1191 [26:54:39<2:49:44, 47.15s/it] "
     ]
    },
    {
     "name": "stdout",
     "output_type": "stream",
     "text": [
      "Can not save 'https://sd.se/our-politics/konskvotering/'. Save request refused by the server. Save Page Now limits saving 15 URLs per minutes. Try waiting for 5 minutes and then try again.\n",
      "\tSleep:  https://sd.se/our-politics/konskvotering/\n"
     ]
    },
    {
     "name": "stderr",
     "output_type": "stream",
     "text": [
      " 82%|████████▏ | 981/1191 [27:02:40<2:20:02, 40.01s/it] "
     ]
    },
    {
     "name": "stdout",
     "output_type": "stream",
     "text": [
      "Can not save 'https://sd.se/our-politics/luftforsvar/'. Save request refused by the server. Save Page Now limits saving 15 URLs per minutes. Try waiting for 5 minutes and then try again.\n",
      "\tSleep:  https://sd.se/our-politics/luftforsvar/\n"
     ]
    },
    {
     "name": "stderr",
     "output_type": "stream",
     "text": [
      " 83%|████████▎ | 987/1191 [27:10:35<2:06:36, 37.24s/it] "
     ]
    },
    {
     "name": "stdout",
     "output_type": "stream",
     "text": [
      "Can not save 'https://sd.se/our-politics/marinen/'. Save request refused by the server. Save Page Now limits saving 15 URLs per minutes. Try waiting for 5 minutes and then try again.\n",
      "\tSleep:  https://sd.se/our-politics/marinen/\n"
     ]
    },
    {
     "name": "stderr",
     "output_type": "stream",
     "text": [
      " 83%|████████▎ | 993/1191 [27:18:36<2:04:06, 37.61s/it] "
     ]
    },
    {
     "name": "stdout",
     "output_type": "stream",
     "text": [
      "Can not save 'https://sd.se/our-politics/mellanosternkonflikten/'. Save request refused by the server. Save Page Now limits saving 15 URLs per minutes. Try waiting for 5 minutes and then try again.\n",
      "\tSleep:  https://sd.se/our-politics/mellanosternkonflikten/\n"
     ]
    },
    {
     "name": "stderr",
     "output_type": "stream",
     "text": [
      " 84%|████████▍ | 999/1191 [27:26:35<2:02:46, 38.37s/it] "
     ]
    },
    {
     "name": "stdout",
     "output_type": "stream",
     "text": [
      "Can not save 'https://sd.se/our-politics/mopedbil/'. Save request refused by the server. Save Page Now limits saving 15 URLs per minutes. Try waiting for 5 minutes and then try again.\n",
      "\tSleep:  https://sd.se/our-politics/mopedbil/\n"
     ]
    },
    {
     "name": "stderr",
     "output_type": "stream",
     "text": [
      " 84%|████████▍ | 1005/1191 [27:34:34<1:54:37, 36.98s/it] "
     ]
    },
    {
     "name": "stdout",
     "output_type": "stream",
     "text": [
      "Can not save 'https://sd.se/our-politics/nationellt-it-stod-och-patientinformation/'. Save request refused by the server. Save Page Now limits saving 15 URLs per minutes. Try waiting for 5 minutes and then try again.\n",
      "\tSleep:  https://sd.se/our-politics/nationellt-it-stod-och-patientinformation/\n"
     ]
    },
    {
     "name": "stderr",
     "output_type": "stream",
     "text": [
      " 85%|████████▍ | 1010/1191 [27:42:15<2:19:13, 46.15s/it] "
     ]
    },
    {
     "name": "stdout",
     "output_type": "stream",
     "text": [
      "Can not save 'https://sd.se/our-politics/nystartsjobb/'. Save request refused by the server. Save Page Now limits saving 15 URLs per minutes. Try waiting for 5 minutes and then try again.\n",
      "\tSleep:  https://sd.se/our-politics/nystartsjobb/\n"
     ]
    },
    {
     "name": "stderr",
     "output_type": "stream",
     "text": [
      " 85%|████████▌ | 1017/1191 [27:50:34<1:29:29, 30.86s/it] "
     ]
    },
    {
     "name": "stdout",
     "output_type": "stream",
     "text": [
      "Can not save 'https://sd.se/our-politics/placerade-barn/'. Save request refused by the server. Save Page Now limits saving 15 URLs per minutes. Try waiting for 5 minutes and then try again.\n",
      "\tSleep:  https://sd.se/our-politics/placerade-barn/\n"
     ]
    },
    {
     "name": "stderr",
     "output_type": "stream",
     "text": [
      " 86%|████████▌ | 1023/1191 [27:58:28<1:40:46, 35.99s/it] "
     ]
    },
    {
     "name": "stdout",
     "output_type": "stream",
     "text": [
      "Can not save 'https://sd.se/our-politics/psykofarmaka/'. Save request refused by the server. Save Page Now limits saving 15 URLs per minutes. Try waiting for 5 minutes and then try again.\n",
      "\tSleep:  https://sd.se/our-politics/psykofarmaka/\n"
     ]
    },
    {
     "name": "stderr",
     "output_type": "stream",
     "text": [
      " 86%|████████▋ | 1030/1191 [28:06:33<1:18:17, 29.18s/it] "
     ]
    },
    {
     "name": "stdout",
     "output_type": "stream",
     "text": [
      "Can not save 'https://sd.se/our-politics/rut-avdraget/'. Save request refused by the server. Save Page Now limits saving 15 URLs per minutes. Try waiting for 5 minutes and then try again.\n",
      "\tSleep:  https://sd.se/our-politics/rut-avdraget/\n"
     ]
    },
    {
     "name": "stderr",
     "output_type": "stream",
     "text": [
      " 87%|████████▋ | 1036/1191 [28:14:28<1:32:11, 35.69s/it] "
     ]
    },
    {
     "name": "stdout",
     "output_type": "stream",
     "text": [
      "Can not save 'https://sd.se/our-politics/screeningprogram/'. Save request refused by the server. Save Page Now limits saving 15 URLs per minutes. Try waiting for 5 minutes and then try again.\n",
      "\tSleep:  https://sd.se/our-politics/screeningprogram/\n"
     ]
    },
    {
     "name": "stderr",
     "output_type": "stream",
     "text": [
      " 88%|████████▊ | 1046/1191 [28:23:34<53:34, 22.17s/it]   "
     ]
    },
    {
     "name": "stdout",
     "output_type": "stream",
     "text": [
      "Can not save 'https://sd.se/our-politics/skolmaten/'. Save request refused by the server. Save Page Now limits saving 15 URLs per minutes. Try waiting for 5 minutes and then try again.\n",
      "\tSleep:  https://sd.se/our-politics/skolmaten/\n"
     ]
    },
    {
     "name": "stderr",
     "output_type": "stream",
     "text": [
      " 88%|████████▊ | 1052/1191 [28:31:28<1:20:58, 34.95s/it] "
     ]
    },
    {
     "name": "stdout",
     "output_type": "stream",
     "text": [
      "Can not save 'https://sd.se/our-politics/socialsekreteraren/'. Save request refused by the server. Save Page Now limits saving 15 URLs per minutes. Try waiting for 5 minutes and then try again.\n",
      "\tSleep:  https://sd.se/our-politics/socialsekreteraren/\n"
     ]
    },
    {
     "name": "stderr",
     "output_type": "stream",
     "text": [
      " 89%|████████▉ | 1059/1191 [28:39:36<1:05:09, 29.62s/it] "
     ]
    },
    {
     "name": "stdout",
     "output_type": "stream",
     "text": [
      "Can not save 'https://sd.se/our-politics/svenska-spraket/'. Save request refused by the server. Save Page Now limits saving 15 URLs per minutes. Try waiting for 5 minutes and then try again.\n",
      "\tSleep:  https://sd.se/our-politics/svenska-spraket/\n"
     ]
    },
    {
     "name": "stderr",
     "output_type": "stream",
     "text": [
      " 89%|████████▉ | 1065/1191 [28:47:36<1:16:04, 36.23s/it] "
     ]
    },
    {
     "name": "stdout",
     "output_type": "stream",
     "text": [
      "Can not save 'https://sd.se/our-politics/sarskild-loneskatt-for-aldre/'. Save request refused by the server. Save Page Now limits saving 15 URLs per minutes. Try waiting for 5 minutes and then try again.\n",
      "\tSleep:  https://sd.se/our-politics/sarskild-loneskatt-for-aldre/\n"
     ]
    },
    {
     "name": "stderr",
     "output_type": "stream",
     "text": [
      " 90%|████████▉ | 1070/1191 [33:43:33<43:24:51, 1291.67s/it] "
     ]
    },
    {
     "name": "stdout",
     "output_type": "stream",
     "text": [
      "Can not save 'https://sd.se/our-politics/taxi/'. Save request refused by the server. Save Page Now limits saving 15 URLs per minutes. Try waiting for 5 minutes and then try again.\n",
      "\tSleep:  https://sd.se/our-politics/taxi/\n"
     ]
    },
    {
     "name": "stderr",
     "output_type": "stream",
     "text": [
      " 90%|█████████ | 1075/1191 [33:51:34<8:21:12, 259.24s/it]  "
     ]
    },
    {
     "name": "stdout",
     "output_type": "stream",
     "text": [
      "Can not save 'https://sd.se/our-politics/tobak/'. Save request refused by the server. Save Page Now limits saving 15 URLs per minutes. Try waiting for 5 minutes and then try again.\n",
      "\tSleep:  https://sd.se/our-politics/tobak/\n"
     ]
    },
    {
     "name": "stderr",
     "output_type": "stream",
     "text": [
      " 91%|█████████ | 1078/1191 [33:58:45<4:53:00, 155.58s/it]"
     ]
    },
    {
     "name": "stdout",
     "output_type": "stream",
     "text": [
      "Tried 8 times but failed to save and retrieve the archive for https://sd.se/our-politics/turkiet/.\n",
      "Response URL:\n",
      "https://web.archive.org/save/https://sd.se/our-politics/turkiet/\n",
      "Response Header:\n",
      "{'Server': 'nginx/1.19.5', 'Date': 'Sat, 02 Jul 2022 05:23:19 GMT', 'Content-Type': 'text/html; charset=utf-8', 'Transfer-Encoding': 'chunked', 'Connection': 'keep-alive', 'cache-control': 'no-cache', 'x-app-server': 'wwwb-app52', 'x-ts': '520', 'x-tr': '6033', 'X-location': 'save-sync', 'X-RL': '0', 'X-NA': '0', 'X-Page-Cache': 'MISS', 'X-NID': '-', 'Referrer-Policy': 'no-referrer-when-downgrade', 'Permissions-Policy': 'interest-cohort=()'}\n",
      "\tSleep:  https://sd.se/our-politics/turkiet/\n"
     ]
    },
    {
     "name": "stderr",
     "output_type": "stream",
     "text": [
      " 91%|█████████ | 1082/1191 [34:10:32<3:29:35, 115.37s/it]"
     ]
    },
    {
     "name": "stdout",
     "output_type": "stream",
     "text": [
      "Can not save 'https://sd.se/our-politics/underhallsstod/'. Save request refused by the server. Save Page Now limits saving 15 URLs per minutes. Try waiting for 5 minutes and then try again.\n",
      "\tSleep:  https://sd.se/our-politics/underhallsstod/\n"
     ]
    },
    {
     "name": "stderr",
     "output_type": "stream",
     "text": [
      " 91%|█████████ | 1085/1191 [34:17:55<3:11:45, 108.54s/it]"
     ]
    },
    {
     "name": "stdout",
     "output_type": "stream",
     "text": [
      "Can not save 'https://sd.se/our-politics/utstationering/'. Save request refused by the server. Save Page Now limits saving 15 URLs per minutes. Try waiting for 5 minutes and then try again.\n",
      "\tSleep:  https://sd.se/our-politics/utstationering/\n"
     ]
    },
    {
     "name": "stderr",
     "output_type": "stream",
     "text": [
      " 92%|█████████▏| 1092/1191 [34:27:39<1:04:19, 38.99s/it] "
     ]
    },
    {
     "name": "stdout",
     "output_type": "stream",
     "text": [
      "Can not save 'https://sd.se/our-politics/vapenexport/'. Save request refused by the server. Save Page Now limits saving 15 URLs per minutes. Try waiting for 5 minutes and then try again.\n",
      "\tSleep:  https://sd.se/our-politics/vapenexport/\n"
     ]
    },
    {
     "name": "stderr",
     "output_type": "stream",
     "text": [
      " 92%|█████████▏| 1098/1191 [34:35:32<56:57, 36.75s/it]   "
     ]
    },
    {
     "name": "stdout",
     "output_type": "stream",
     "text": [
      "Can not save 'https://sd.se/our-politics/vinster-i-valfarden/'. Save request refused by the server. Save Page Now limits saving 15 URLs per minutes. Try waiting for 5 minutes and then try again.\n",
      "\tSleep:  https://sd.se/our-politics/vinster-i-valfarden/\n"
     ]
    },
    {
     "name": "stderr",
     "output_type": "stream",
     "text": [
      " 93%|█████████▎| 1103/1191 [34:43:30<1:11:24, 48.68s/it] "
     ]
    },
    {
     "name": "stdout",
     "output_type": "stream",
     "text": [
      "Can not save 'https://sd.se/our-politics/vardplatser/'. Save request refused by the server. Save Page Now limits saving 15 URLs per minutes. Try waiting for 5 minutes and then try again.\n",
      "\tSleep:  https://sd.se/our-politics/vardplatser/\n"
     ]
    },
    {
     "name": "stderr",
     "output_type": "stream",
     "text": [
      " 93%|█████████▎| 1111/1191 [34:52:33<40:02, 30.03s/it]   "
     ]
    },
    {
     "name": "stdout",
     "output_type": "stream",
     "text": [
      "Can not save 'https://sd.se/our-politics/aganderatt/'. Save request refused by the server. Save Page Now limits saving 15 URLs per minutes. Try waiting for 5 minutes and then try again.\n",
      "\tSleep:  https://sd.se/our-politics/aganderatt/\n"
     ]
    },
    {
     "name": "stderr",
     "output_type": "stream",
     "text": [
      " 94%|█████████▍| 1118/1191 [35:00:37<35:01, 28.79s/it]   "
     ]
    },
    {
     "name": "stdout",
     "output_type": "stream",
     "text": [
      "Can not save 'https://sd.se/our-politics/overskuldsattning/'. Save request refused by the server. Save Page Now limits saving 15 URLs per minutes. Try waiting for 5 minutes and then try again.\n",
      "\tSleep:  https://sd.se/our-politics/overskuldsattning/\n"
     ]
    },
    {
     "name": "stderr",
     "output_type": "stream",
     "text": [
      " 99%|█████████▉| 1179/1191 [35:27:40<03:31, 17.65s/it]   "
     ]
    },
    {
     "name": "stdout",
     "output_type": "stream",
     "text": [
      "Can not save 'https://www.vansterpartiet.se/politik/skatteflykt/'. Save request refused by the server. Save Page Now limits saving 15 URLs per minutes. Try waiting for 5 minutes and then try again.\n",
      "\tSleep:  https://www.vansterpartiet.se/politik/skatteflykt/\n"
     ]
    },
    {
     "name": "stderr",
     "output_type": "stream",
     "text": [
      "100%|██████████| 1191/1191 [35:37:48<00:00, 107.70s/it]\n"
     ]
    }
   ],
   "source": [
    "from waybackpy import WaybackMachineSaveAPI\n",
    "user_agent = \"Mozilla/5.0 (Windows NT 5.1; rv:40.0) Gecko/20100101 Firefox/40.0\"\n",
    "from ratelimit import limits, sleep_and_retry \n",
    "from time import sleep \n",
    "from tqdm import tqdm \n",
    "\n",
    "listUrls = list()\n",
    "listUrlsError = list()\n",
    "\n",
    "\n",
    "# limits saving 15 URLs per minutes is recommended  https://github.com/akamhy/waybackpy/issues/97\n",
    "# I try 2 per minute....\n",
    "@sleep_and_retry\n",
    "@limits(calls=2, period=10)\n",
    "def savepartiguide(url):\n",
    "    while True:\n",
    "        try:\n",
    "            save_api = WaybackMachineSaveAPI(url, user_agent) \n",
    "            archive = save_api.save()    \n",
    "        except Exception as e: \n",
    "            print (e)     \n",
    "            #tqdm.write(e)\n",
    "            print (\"\\tSleep: \",url)\n",
    "            sleep(400)   \n",
    "            #continue\n",
    "            return False # skip this item\n",
    "        break\n",
    "    return archive\n",
    "\n",
    "for link in tqdm(StandpointsUnique):\n",
    "    #tqdm.write(f\"link {link}\")\n",
    "    wmlink = savepartiguide(link)\n",
    "    if not wmlink:\n",
    "        listUrlsError.append(link)\n",
    "    else:\n",
    "        listUrls.append({wmlink})\n",
    "    \n"
   ]
  },
  {
   "cell_type": "code",
   "execution_count": null,
   "id": "c4b22a0c",
   "metadata": {},
   "outputs": [],
   "source": []
  },
  {
   "cell_type": "code",
   "execution_count": 7,
   "id": "70c4f73a",
   "metadata": {},
   "outputs": [
    {
     "data": {
      "text/plain": [
       "(981, 210)"
      ]
     },
     "execution_count": 7,
     "metadata": {},
     "output_type": "execute_result"
    }
   ],
   "source": [
    "len(listUrls), len(listUrlsError)"
   ]
  },
  {
   "cell_type": "code",
   "execution_count": 8,
   "id": "fedeaa31",
   "metadata": {},
   "outputs": [
    {
     "data": {
      "text/html": [
       "<div>\n",
       "<style scoped>\n",
       "    .dataframe tbody tr th:only-of-type {\n",
       "        vertical-align: middle;\n",
       "    }\n",
       "\n",
       "    .dataframe tbody tr th {\n",
       "        vertical-align: top;\n",
       "    }\n",
       "\n",
       "    .dataframe thead th {\n",
       "        text-align: right;\n",
       "    }\n",
       "</style>\n",
       "<table border=\"1\" class=\"dataframe\">\n",
       "  <thead>\n",
       "    <tr style=\"text-align: right;\">\n",
       "      <th></th>\n",
       "      <th>0</th>\n",
       "    </tr>\n",
       "  </thead>\n",
       "  <tbody>\n",
       "    <tr>\n",
       "      <th>458</th>\n",
       "      <td>https://web.archive.org/web/20220701111113/htt...</td>\n",
       "    </tr>\n",
       "    <tr>\n",
       "      <th>42</th>\n",
       "      <td>https://web.archive.org/web/20220630194923/htt...</td>\n",
       "    </tr>\n",
       "    <tr>\n",
       "      <th>107</th>\n",
       "      <td>https://web.archive.org/web/20220630204340/htt...</td>\n",
       "    </tr>\n",
       "    <tr>\n",
       "      <th>900</th>\n",
       "      <td>https://web.archive.org/web/20220702061113/htt...</td>\n",
       "    </tr>\n",
       "    <tr>\n",
       "      <th>810</th>\n",
       "      <td>https://web.archive.org/web/20220701224633/htt...</td>\n",
       "    </tr>\n",
       "  </tbody>\n",
       "</table>\n",
       "</div>"
      ],
      "text/plain": [
       "                                                     0\n",
       "458  https://web.archive.org/web/20220701111113/htt...\n",
       "42   https://web.archive.org/web/20220630194923/htt...\n",
       "107  https://web.archive.org/web/20220630204340/htt...\n",
       "900  https://web.archive.org/web/20220702061113/htt...\n",
       "810  https://web.archive.org/web/20220701224633/htt..."
      ]
     },
     "execution_count": 8,
     "metadata": {},
     "output_type": "execute_result"
    }
   ],
   "source": [
    "listUrlsdf = pd.DataFrame(listUrls) \n",
    "listUrlsdf.sample(5)"
   ]
  },
  {
   "cell_type": "code",
   "execution_count": 9,
   "id": "10130a81",
   "metadata": {},
   "outputs": [],
   "source": [
    "listUrlsdf.to_csv(\"partiguiden_standpoints.csv\")"
   ]
  },
  {
   "cell_type": "code",
   "execution_count": 10,
   "id": "a850d48f",
   "metadata": {},
   "outputs": [
    {
     "name": "stdout",
     "output_type": "stream",
     "text": [
      "Ended:  2022-07-02 08:58:04.186380\n",
      "Time elapsed (hh:mm:ss.ms) 1 day, 11:37:52.816106\n"
     ]
    }
   ],
   "source": [
    "\n",
    "\n",
    "end = datetime.now()\n",
    "print(\"Ended: \", end) \n",
    "print('Time elapsed (hh:mm:ss.ms) {}'.format(datetime.now() - start_time))"
   ]
  },
  {
   "cell_type": "code",
   "execution_count": null,
   "id": "dcdd0b2d",
   "metadata": {},
   "outputs": [],
   "source": []
  },
  {
   "cell_type": "code",
   "execution_count": null,
   "id": "8f837641",
   "metadata": {},
   "outputs": [],
   "source": []
  }
 ],
 "metadata": {
  "kernelspec": {
   "display_name": "Python 3",
   "language": "python",
   "name": "python3"
  },
  "language_info": {
   "codemirror_mode": {
    "name": "ipython",
    "version": 3
   },
   "file_extension": ".py",
   "mimetype": "text/x-python",
   "name": "python",
   "nbconvert_exporter": "python",
   "pygments_lexer": "ipython3",
   "version": "3.9.13"
  }
 },
 "nbformat": 4,
 "nbformat_minor": 5
}
