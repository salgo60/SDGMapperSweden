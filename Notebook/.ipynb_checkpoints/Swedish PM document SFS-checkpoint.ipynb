{
 "cells": [
  {
   "cell_type": "markdown",
   "metadata": {},
   "source": [
    "## Test Swedish PM documentsSDG mapper\n",
    "\n",
    "* This [Jupyter Notebook](https://github.com/salgo60/SDGMapperSwedish/blob/master/Notebook/Swedish%20PM&20document%20SFS.ipynb)  \n",
    "* [Create query](http://data.riksdagen.se/dokumentlista/)   \n",
    "\n",
    "\n",
    "### Example doc SFS nr 2020-577\n",
    "* [Fulltext](https://www.riksdagen.se/sv/dokument-lagar/dokument/svensk-forfattningssamling/forordning-2020577-om-statligt-stod-for_sfs-2020-577) [text](http://data.riksdagen.se/dokument/sfs-2020-577.text) / [html](http://data.riksdagen.se/dokument/sfs-2020-577.html) /  [json](http://data.riksdagen.se/dokument/sfs-2020-577.json) \n"
   ]
  },
  {
   "cell_type": "code",
   "execution_count": 36,
   "metadata": {},
   "outputs": [
    {
     "name": "stdout",
     "output_type": "stream",
     "text": [
      "Last run:  2022-06-20 15:12:19.183268\n"
     ]
    }
   ],
   "source": [
    "from datetime import datetime\n",
    "now = datetime.now()\n",
    "print(\"Last run: \", datetime.now())"
   ]
  },
  {
   "cell_type": "code",
   "execution_count": 65,
   "metadata": {},
   "outputs": [],
   "source": [
    "import requests,time\n",
    "from bs4 import BeautifulSoup\n",
    "def SDGMapper(asciiurltext):\n",
    "\n",
    "    doc_txt = requests.get(asciiurltext).text\n",
    "    #print ( doc_txt )\n",
    "    #doc_text =\"Kammarkollegie\"\n",
    "    urlSDGMapper = \"https://knowsdgs.jrc.ec.europa.eu/\"\n",
    "    s = requests.Session()\n",
    "    tkn = s.post(url + \"session/token\")\n",
    "    time.sleep(1)\n",
    "\n",
    "    myKey = \"db0c87cbdf761defc71ea93010fdde41\"\n",
    "\n",
    "    headers = {\"Content-Type\": \"application/json\", \"X-Csrf-Token\": tkn.text, \"X-Api-Key\": myKey }\n",
    "    r = s.post(urlSDGMapper + \"api/rest/mappingdata\", headers=headers, json={\"input_text\": doc_txt})\n",
    "    print(json.loads(r.text))\n",
    "    return \n",
    "#SDGMapper(\"This is a test text\")"
   ]
  },
  {
   "cell_type": "code",
   "execution_count": 66,
   "metadata": {},
   "outputs": [
    {
     "data": {
      "application/vnd.jupyter.widget-view+json": {
       "model_id": "080f21d4966b4a638ae15ad0b8ce7747",
       "version_major": 2,
       "version_minor": 0
      },
      "text/plain": [
       "  0%|          | 0/4 [00:00<?, ?it/s]"
      ]
     },
     "metadata": {},
     "output_type": "display_data"
    },
    {
     "data": {
      "text/html": [
       "<div>\n",
       "<style scoped>\n",
       "    .dataframe tbody tr th:only-of-type {\n",
       "        vertical-align: middle;\n",
       "    }\n",
       "\n",
       "    .dataframe tbody tr th {\n",
       "        vertical-align: top;\n",
       "    }\n",
       "\n",
       "    .dataframe thead th {\n",
       "        text-align: right;\n",
       "    }\n",
       "</style>\n",
       "<table border=\"1\" class=\"dataframe\">\n",
       "  <thead>\n",
       "    <tr style=\"text-align: right;\">\n",
       "      <th></th>\n",
       "      <th>traff</th>\n",
       "      <th>domain</th>\n",
       "      <th>database</th>\n",
       "      <th>datum</th>\n",
       "      <th>id</th>\n",
       "      <th>rdrest</th>\n",
       "      <th>slutdatum</th>\n",
       "      <th>rddata</th>\n",
       "      <th>plats</th>\n",
       "      <th>klockslag</th>\n",
       "      <th>publicerad</th>\n",
       "      <th>systemdatum</th>\n",
       "      <th>undertitel</th>\n",
       "      <th>kalla</th>\n",
       "      <th>kall_id</th>\n",
       "      <th>dok_id</th>\n",
       "      <th>dokumentformat</th>\n",
       "      <th>dokument_url_text</th>\n",
       "      <th>dokument_url_html</th>\n",
       "      <th>inlamnad</th>\n",
       "      <th>motionstid</th>\n",
       "      <th>tilldelat</th>\n",
       "      <th>lang</th>\n",
       "      <th>url</th>\n",
       "      <th>relurl</th>\n",
       "      <th>titel</th>\n",
       "      <th>rm</th>\n",
       "      <th>organ</th>\n",
       "      <th>relaterat_id</th>\n",
       "      <th>doktyp</th>\n",
       "      <th>typ</th>\n",
       "      <th>subtyp</th>\n",
       "      <th>beteckning</th>\n",
       "      <th>tempbeteckning</th>\n",
       "      <th>nummer</th>\n",
       "      <th>status</th>\n",
       "      <th>score</th>\n",
       "      <th>sokdata</th>\n",
       "      <th>summary</th>\n",
       "      <th>notisrubrik</th>\n",
       "      <th>notis</th>\n",
       "      <th>dokintressent</th>\n",
       "      <th>filbilaga</th>\n",
       "      <th>avdelning</th>\n",
       "      <th>struktur</th>\n",
       "      <th>audio</th>\n",
       "      <th>video</th>\n",
       "      <th>debattgrupp</th>\n",
       "      <th>debattdag</th>\n",
       "      <th>beslutsdag</th>\n",
       "      <th>beredningsdag</th>\n",
       "      <th>justeringsdag</th>\n",
       "      <th>beslutad</th>\n",
       "      <th>debattsekunder</th>\n",
       "      <th>ardometyp</th>\n",
       "      <th>reservationer</th>\n",
       "      <th>debatt</th>\n",
       "      <th>debattnamn</th>\n",
       "      <th>dokumentnamn</th>\n",
       "    </tr>\n",
       "  </thead>\n",
       "  <tbody>\n",
       "    <tr>\n",
       "      <th>0</th>\n",
       "      <td>1</td>\n",
       "      <td>rdwebb</td>\n",
       "      <td>dokument</td>\n",
       "      <td>2022-06-09</td>\n",
       "      <td>sfs-2022-852</td>\n",
       "      <td>None</td>\n",
       "      <td></td>\n",
       "      <td>None</td>\n",
       "      <td></td>\n",
       "      <td></td>\n",
       "      <td>2022-06-16 04:40:27</td>\n",
       "      <td>2022-06-16 04:40:27</td>\n",
       "      <td></td>\n",
       "      <td></td>\n",
       "      <td></td>\n",
       "      <td>sfs-2022-852</td>\n",
       "      <td></td>\n",
       "      <td>//data.riksdagen.se/dokument/sfs-2022-852.text</td>\n",
       "      <td>//data.riksdagen.se/dokument/sfs-2022-852.html</td>\n",
       "      <td></td>\n",
       "      <td></td>\n",
       "      <td></td>\n",
       "      <td></td>\n",
       "      <td></td>\n",
       "      <td></td>\n",
       "      <td>Förordning (2022:852) om grundläggande omställ...</td>\n",
       "      <td>2022</td>\n",
       "      <td>Arbetsmarknadsdepartementet</td>\n",
       "      <td></td>\n",
       "      <td>sfs</td>\n",
       "      <td>sfs</td>\n",
       "      <td>sfst</td>\n",
       "      <td>2022:852</td>\n",
       "      <td></td>\n",
       "      <td>852</td>\n",
       "      <td></td>\n",
       "      <td>220</td>\n",
       "      <td>{'titel': 'Förordning (2022:852) om grundlägga...</td>\n",
       "      <td></td>\n",
       "      <td>Förordning (2022:852) om grundläggande omställ...</td>\n",
       "      <td></td>\n",
       "      <td>None</td>\n",
       "      <td>None</td>\n",
       "      <td>dokument</td>\n",
       "      <td></td>\n",
       "      <td></td>\n",
       "      <td></td>\n",
       "      <td></td>\n",
       "      <td></td>\n",
       "      <td></td>\n",
       "      <td></td>\n",
       "      <td></td>\n",
       "      <td></td>\n",
       "      <td></td>\n",
       "      <td></td>\n",
       "      <td></td>\n",
       "      <td>None</td>\n",
       "      <td>Svensk författningssamling</td>\n",
       "      <td>Svensk författningssamling</td>\n",
       "    </tr>\n",
       "    <tr>\n",
       "      <th>1</th>\n",
       "      <td>2</td>\n",
       "      <td>rdwebb</td>\n",
       "      <td>dokument</td>\n",
       "      <td>2022-06-09</td>\n",
       "      <td>sfs-2022-850</td>\n",
       "      <td>None</td>\n",
       "      <td></td>\n",
       "      <td>None</td>\n",
       "      <td></td>\n",
       "      <td></td>\n",
       "      <td>2022-06-16 04:40:27</td>\n",
       "      <td>2022-06-16 04:40:27</td>\n",
       "      <td>t.o.m. SFS 2022:851</td>\n",
       "      <td></td>\n",
       "      <td></td>\n",
       "      <td>sfs-2022-850</td>\n",
       "      <td></td>\n",
       "      <td>//data.riksdagen.se/dokument/sfs-2022-850.text</td>\n",
       "      <td>//data.riksdagen.se/dokument/sfs-2022-850.html</td>\n",
       "      <td></td>\n",
       "      <td></td>\n",
       "      <td></td>\n",
       "      <td></td>\n",
       "      <td></td>\n",
       "      <td></td>\n",
       "      <td>Lag (2022:850) om grundläggande omställnings- ...</td>\n",
       "      <td>2022</td>\n",
       "      <td>Arbetsmarknadsdepartementet</td>\n",
       "      <td></td>\n",
       "      <td>sfs</td>\n",
       "      <td>sfs</td>\n",
       "      <td>sfst</td>\n",
       "      <td>2022:850</td>\n",
       "      <td></td>\n",
       "      <td>850</td>\n",
       "      <td></td>\n",
       "      <td>350</td>\n",
       "      <td>{'titel': 'Lag (2022:850) om grundläggande oms...</td>\n",
       "      <td></td>\n",
       "      <td>Lag (2022:850) om grundläggande omställnings- ...</td>\n",
       "      <td></td>\n",
       "      <td>None</td>\n",
       "      <td>None</td>\n",
       "      <td>dokument</td>\n",
       "      <td></td>\n",
       "      <td></td>\n",
       "      <td></td>\n",
       "      <td></td>\n",
       "      <td></td>\n",
       "      <td></td>\n",
       "      <td></td>\n",
       "      <td></td>\n",
       "      <td></td>\n",
       "      <td></td>\n",
       "      <td></td>\n",
       "      <td></td>\n",
       "      <td>None</td>\n",
       "      <td>Svensk författningssamling</td>\n",
       "      <td>Svensk författningssamling</td>\n",
       "    </tr>\n",
       "    <tr>\n",
       "      <th>2</th>\n",
       "      <td>3</td>\n",
       "      <td>rdwebb</td>\n",
       "      <td>dokument</td>\n",
       "      <td>2022-06-09</td>\n",
       "      <td>sfs-2022-818</td>\n",
       "      <td>None</td>\n",
       "      <td></td>\n",
       "      <td>None</td>\n",
       "      <td></td>\n",
       "      <td></td>\n",
       "      <td>2022-06-16 04:40:26</td>\n",
       "      <td>2022-06-16 04:40:26</td>\n",
       "      <td></td>\n",
       "      <td></td>\n",
       "      <td></td>\n",
       "      <td>sfs-2022-818</td>\n",
       "      <td></td>\n",
       "      <td>//data.riksdagen.se/dokument/sfs-2022-818.text</td>\n",
       "      <td>//data.riksdagen.se/dokument/sfs-2022-818.html</td>\n",
       "      <td></td>\n",
       "      <td></td>\n",
       "      <td></td>\n",
       "      <td></td>\n",
       "      <td></td>\n",
       "      <td></td>\n",
       "      <td>Lag (2022:818) om den offentliga sektorns till...</td>\n",
       "      <td>2022</td>\n",
       "      <td>Infrastrukturdepartementet</td>\n",
       "      <td></td>\n",
       "      <td>sfs</td>\n",
       "      <td>sfs</td>\n",
       "      <td>sfst</td>\n",
       "      <td>2022:818</td>\n",
       "      <td></td>\n",
       "      <td>818</td>\n",
       "      <td></td>\n",
       "      <td>350</td>\n",
       "      <td>{'titel': 'Lag (2022:818) om den offentliga se...</td>\n",
       "      <td></td>\n",
       "      <td>Lag (2022:818) om den offentliga sektorns till...</td>\n",
       "      <td></td>\n",
       "      <td>None</td>\n",
       "      <td>None</td>\n",
       "      <td>dokument</td>\n",
       "      <td></td>\n",
       "      <td></td>\n",
       "      <td></td>\n",
       "      <td></td>\n",
       "      <td></td>\n",
       "      <td></td>\n",
       "      <td></td>\n",
       "      <td></td>\n",
       "      <td></td>\n",
       "      <td></td>\n",
       "      <td></td>\n",
       "      <td></td>\n",
       "      <td>None</td>\n",
       "      <td>Svensk författningssamling</td>\n",
       "      <td>Svensk författningssamling</td>\n",
       "    </tr>\n",
       "    <tr>\n",
       "      <th>3</th>\n",
       "      <td>4</td>\n",
       "      <td>rdwebb</td>\n",
       "      <td>dokument</td>\n",
       "      <td>2022-06-09</td>\n",
       "      <td>sfs-2022-857</td>\n",
       "      <td>None</td>\n",
       "      <td></td>\n",
       "      <td>None</td>\n",
       "      <td></td>\n",
       "      <td></td>\n",
       "      <td>2022-06-17 04:32:59</td>\n",
       "      <td>2022-06-17 04:32:59</td>\n",
       "      <td></td>\n",
       "      <td></td>\n",
       "      <td></td>\n",
       "      <td>sfs-2022-857</td>\n",
       "      <td></td>\n",
       "      <td>//data.riksdagen.se/dokument/sfs-2022-857.text</td>\n",
       "      <td>//data.riksdagen.se/dokument/sfs-2022-857.html</td>\n",
       "      <td></td>\n",
       "      <td></td>\n",
       "      <td></td>\n",
       "      <td></td>\n",
       "      <td></td>\n",
       "      <td></td>\n",
       "      <td>Förordning (2022:857) om omställningsstudiestöd</td>\n",
       "      <td>2022</td>\n",
       "      <td>Utbildningsdepartementet</td>\n",
       "      <td></td>\n",
       "      <td>sfs</td>\n",
       "      <td>sfs</td>\n",
       "      <td>sfst</td>\n",
       "      <td>2022:857</td>\n",
       "      <td></td>\n",
       "      <td>857</td>\n",
       "      <td></td>\n",
       "      <td>220</td>\n",
       "      <td>{'titel': 'Förordning (2022:857) om omställnin...</td>\n",
       "      <td></td>\n",
       "      <td>Förordning (2022:857) om omställningsstudiestöd</td>\n",
       "      <td></td>\n",
       "      <td>None</td>\n",
       "      <td>None</td>\n",
       "      <td>dokument</td>\n",
       "      <td></td>\n",
       "      <td></td>\n",
       "      <td></td>\n",
       "      <td></td>\n",
       "      <td></td>\n",
       "      <td></td>\n",
       "      <td></td>\n",
       "      <td></td>\n",
       "      <td></td>\n",
       "      <td></td>\n",
       "      <td></td>\n",
       "      <td></td>\n",
       "      <td>None</td>\n",
       "      <td>Svensk författningssamling</td>\n",
       "      <td>Svensk författningssamling</td>\n",
       "    </tr>\n",
       "    <tr>\n",
       "      <th>4</th>\n",
       "      <td>5</td>\n",
       "      <td>rdwebb</td>\n",
       "      <td>dokument</td>\n",
       "      <td>2022-06-09</td>\n",
       "      <td>sfs-2022-856</td>\n",
       "      <td>None</td>\n",
       "      <td></td>\n",
       "      <td>None</td>\n",
       "      <td></td>\n",
       "      <td></td>\n",
       "      <td>2022-06-17 04:32:59</td>\n",
       "      <td>2022-06-17 04:32:59</td>\n",
       "      <td>t.o.m. SFS 2022:864</td>\n",
       "      <td></td>\n",
       "      <td></td>\n",
       "      <td>sfs-2022-856</td>\n",
       "      <td></td>\n",
       "      <td>//data.riksdagen.se/dokument/sfs-2022-856.text</td>\n",
       "      <td>//data.riksdagen.se/dokument/sfs-2022-856.html</td>\n",
       "      <td></td>\n",
       "      <td></td>\n",
       "      <td></td>\n",
       "      <td></td>\n",
       "      <td></td>\n",
       "      <td></td>\n",
       "      <td>Lag (2022:856) om omställningsstudiestöd</td>\n",
       "      <td>2022</td>\n",
       "      <td>Utbildningsdepartementet</td>\n",
       "      <td></td>\n",
       "      <td>sfs</td>\n",
       "      <td>sfs</td>\n",
       "      <td>sfst</td>\n",
       "      <td>2022:856</td>\n",
       "      <td></td>\n",
       "      <td>856</td>\n",
       "      <td></td>\n",
       "      <td>350</td>\n",
       "      <td>{'titel': 'Lag (2022:856) om omställningsstudi...</td>\n",
       "      <td></td>\n",
       "      <td>Lag (2022:856) om omställningsstudiestöd</td>\n",
       "      <td></td>\n",
       "      <td>None</td>\n",
       "      <td>None</td>\n",
       "      <td>dokument</td>\n",
       "      <td></td>\n",
       "      <td></td>\n",
       "      <td></td>\n",
       "      <td></td>\n",
       "      <td></td>\n",
       "      <td></td>\n",
       "      <td></td>\n",
       "      <td></td>\n",
       "      <td></td>\n",
       "      <td></td>\n",
       "      <td></td>\n",
       "      <td></td>\n",
       "      <td>None</td>\n",
       "      <td>Svensk författningssamling</td>\n",
       "      <td>Svensk författningssamling</td>\n",
       "    </tr>\n",
       "  </tbody>\n",
       "</table>\n",
       "</div>"
      ],
      "text/plain": [
       "  traff  domain  database       datum            id rdrest slutdatum rddata  \\\n",
       "0     1  rdwebb  dokument  2022-06-09  sfs-2022-852   None             None   \n",
       "1     2  rdwebb  dokument  2022-06-09  sfs-2022-850   None             None   \n",
       "2     3  rdwebb  dokument  2022-06-09  sfs-2022-818   None             None   \n",
       "3     4  rdwebb  dokument  2022-06-09  sfs-2022-857   None             None   \n",
       "4     5  rdwebb  dokument  2022-06-09  sfs-2022-856   None             None   \n",
       "\n",
       "  plats klockslag           publicerad          systemdatum  \\\n",
       "0                  2022-06-16 04:40:27  2022-06-16 04:40:27   \n",
       "1                  2022-06-16 04:40:27  2022-06-16 04:40:27   \n",
       "2                  2022-06-16 04:40:26  2022-06-16 04:40:26   \n",
       "3                  2022-06-17 04:32:59  2022-06-17 04:32:59   \n",
       "4                  2022-06-17 04:32:59  2022-06-17 04:32:59   \n",
       "\n",
       "            undertitel kalla kall_id        dok_id dokumentformat  \\\n",
       "0                                     sfs-2022-852                  \n",
       "1  t.o.m. SFS 2022:851                sfs-2022-850                  \n",
       "2                                     sfs-2022-818                  \n",
       "3                                     sfs-2022-857                  \n",
       "4  t.o.m. SFS 2022:864                sfs-2022-856                  \n",
       "\n",
       "                                dokument_url_text  \\\n",
       "0  //data.riksdagen.se/dokument/sfs-2022-852.text   \n",
       "1  //data.riksdagen.se/dokument/sfs-2022-850.text   \n",
       "2  //data.riksdagen.se/dokument/sfs-2022-818.text   \n",
       "3  //data.riksdagen.se/dokument/sfs-2022-857.text   \n",
       "4  //data.riksdagen.se/dokument/sfs-2022-856.text   \n",
       "\n",
       "                                dokument_url_html inlamnad motionstid  \\\n",
       "0  //data.riksdagen.se/dokument/sfs-2022-852.html                       \n",
       "1  //data.riksdagen.se/dokument/sfs-2022-850.html                       \n",
       "2  //data.riksdagen.se/dokument/sfs-2022-818.html                       \n",
       "3  //data.riksdagen.se/dokument/sfs-2022-857.html                       \n",
       "4  //data.riksdagen.se/dokument/sfs-2022-856.html                       \n",
       "\n",
       "  tilldelat lang url relurl  \\\n",
       "0                             \n",
       "1                             \n",
       "2                             \n",
       "3                             \n",
       "4                             \n",
       "\n",
       "                                               titel    rm  \\\n",
       "0  Förordning (2022:852) om grundläggande omställ...  2022   \n",
       "1  Lag (2022:850) om grundläggande omställnings- ...  2022   \n",
       "2  Lag (2022:818) om den offentliga sektorns till...  2022   \n",
       "3    Förordning (2022:857) om omställningsstudiestöd  2022   \n",
       "4           Lag (2022:856) om omställningsstudiestöd  2022   \n",
       "\n",
       "                         organ relaterat_id doktyp  typ subtyp beteckning  \\\n",
       "0  Arbetsmarknadsdepartementet                 sfs  sfs   sfst   2022:852   \n",
       "1  Arbetsmarknadsdepartementet                 sfs  sfs   sfst   2022:850   \n",
       "2   Infrastrukturdepartementet                 sfs  sfs   sfst   2022:818   \n",
       "3     Utbildningsdepartementet                 sfs  sfs   sfst   2022:857   \n",
       "4     Utbildningsdepartementet                 sfs  sfs   sfst   2022:856   \n",
       "\n",
       "  tempbeteckning nummer status score  \\\n",
       "0                   852          220   \n",
       "1                   850          350   \n",
       "2                   818          350   \n",
       "3                   857          220   \n",
       "4                   856          350   \n",
       "\n",
       "                                             sokdata summary  \\\n",
       "0  {'titel': 'Förordning (2022:852) om grundlägga...           \n",
       "1  {'titel': 'Lag (2022:850) om grundläggande oms...           \n",
       "2  {'titel': 'Lag (2022:818) om den offentliga se...           \n",
       "3  {'titel': 'Förordning (2022:857) om omställnin...           \n",
       "4  {'titel': 'Lag (2022:856) om omställningsstudi...           \n",
       "\n",
       "                                         notisrubrik notis dokintressent  \\\n",
       "0  Förordning (2022:852) om grundläggande omställ...                None   \n",
       "1  Lag (2022:850) om grundläggande omställnings- ...                None   \n",
       "2  Lag (2022:818) om den offentliga sektorns till...                None   \n",
       "3    Förordning (2022:857) om omställningsstudiestöd                None   \n",
       "4           Lag (2022:856) om omställningsstudiestöd                None   \n",
       "\n",
       "  filbilaga avdelning struktur audio video debattgrupp debattdag beslutsdag  \\\n",
       "0      None  dokument                                                         \n",
       "1      None  dokument                                                         \n",
       "2      None  dokument                                                         \n",
       "3      None  dokument                                                         \n",
       "4      None  dokument                                                         \n",
       "\n",
       "  beredningsdag justeringsdag beslutad debattsekunder ardometyp reservationer  \\\n",
       "0                                                                               \n",
       "1                                                                               \n",
       "2                                                                               \n",
       "3                                                                               \n",
       "4                                                                               \n",
       "\n",
       "  debatt                  debattnamn                dokumentnamn  \n",
       "0   None  Svensk författningssamling  Svensk författningssamling  \n",
       "1   None  Svensk författningssamling  Svensk författningssamling  \n",
       "2   None  Svensk författningssamling  Svensk författningssamling  \n",
       "3   None  Svensk författningssamling  Svensk författningssamling  \n",
       "4   None  Svensk författningssamling  Svensk författningssamling  "
      ]
     },
     "execution_count": 66,
     "metadata": {},
     "output_type": "execute_result"
    }
   ],
   "source": [
    "import warnings\n",
    "warnings.simplefilter(action='ignore', category=FutureWarning)\n",
    "# Appende depreceated \n",
    "\n",
    "import pandas\n",
    "import urllib3, json\n",
    "import pandas as pd \n",
    "from tqdm.notebook import trange  \n",
    "http = urllib3.PoolManager() \n",
    "pd.set_option(\"display.max.columns\", None) \n",
    "urlbase =\"http://data.riksdagen.se/dokumentlista/?sok=&doktyp=SFS&utformat=json&start=\"\n",
    "\n",
    "dftot = pd.DataFrame()\n",
    "for i in trange(1,5): # looks we today have 10504 SFS --> 10503/20\n",
    "    url = urlbase + str(i)\n",
    "    r = http.request('GET', url)\n",
    "    data = json.loads(r.data)\n",
    "    r = http.request('GET', url)\n",
    "    dftot = dftot.append(pd.DataFrame(data[\"dokumentlista\"][\"dokument\"]),sort=False)\n",
    "dftot.head()\n"
   ]
  },
  {
   "cell_type": "markdown",
   "metadata": {},
   "source": [
    "### Call SDGMapper"
   ]
  },
  {
   "cell_type": "code",
   "execution_count": 68,
   "metadata": {},
   "outputs": [
    {
     "name": "stdout",
     "output_type": "stream",
     "text": [
      "sfs-2022-852 \tText url: http://data.riksdagen.se/dokument/sfs-2022-852.text\n"
     ]
    },
    {
     "ename": "InvalidHeader",
     "evalue": "Invalid return character or leading space in header: X-Csrf-Token",
     "output_type": "error",
     "traceback": [
      "\u001b[0;31m---------------------------------------------------------------------------\u001b[0m",
      "\u001b[0;31mInvalidHeader\u001b[0m                             Traceback (most recent call last)",
      "\u001b[0;32m<ipython-input-68-153910a5e367>\u001b[0m in \u001b[0;36m<module>\u001b[0;34m\u001b[0m\n\u001b[1;32m      2\u001b[0m     \u001b[0murltext\u001b[0m \u001b[0;34m=\u001b[0m \u001b[0;34m\"http://data.riksdagen.se/dokument/\"\u001b[0m\u001b[0;34m+\u001b[0m \u001b[0mrow\u001b[0m\u001b[0;34m[\u001b[0m\u001b[0;34m'id'\u001b[0m\u001b[0;34m]\u001b[0m \u001b[0;34m+\u001b[0m\u001b[0;34m\".text\"\u001b[0m\u001b[0;34m\u001b[0m\u001b[0;34m\u001b[0m\u001b[0m\n\u001b[1;32m      3\u001b[0m     \u001b[0mprint\u001b[0m\u001b[0;34m(\u001b[0m\u001b[0mrow\u001b[0m\u001b[0;34m[\u001b[0m\u001b[0;34m'id'\u001b[0m\u001b[0;34m]\u001b[0m\u001b[0;34m,\u001b[0m\u001b[0;34m\"\\tText url:\"\u001b[0m\u001b[0;34m,\u001b[0m\u001b[0murltext\u001b[0m\u001b[0;34m)\u001b[0m\u001b[0;34m\u001b[0m\u001b[0;34m\u001b[0m\u001b[0m\n\u001b[0;32m----> 4\u001b[0;31m     \u001b[0mSDGMapper\u001b[0m\u001b[0;34m(\u001b[0m\u001b[0murltext\u001b[0m\u001b[0;34m)\u001b[0m\u001b[0;34m\u001b[0m\u001b[0;34m\u001b[0m\u001b[0m\n\u001b[0m",
      "\u001b[0;32m<ipython-input-65-3b7ba9bd2454>\u001b[0m in \u001b[0;36mSDGMapper\u001b[0;34m(asciiurltext)\u001b[0m\n\u001b[1;32m     14\u001b[0m \u001b[0;34m\u001b[0m\u001b[0m\n\u001b[1;32m     15\u001b[0m     \u001b[0mheaders\u001b[0m \u001b[0;34m=\u001b[0m \u001b[0;34m{\u001b[0m\u001b[0;34m\"Content-Type\"\u001b[0m\u001b[0;34m:\u001b[0m \u001b[0;34m\"application/json\"\u001b[0m\u001b[0;34m,\u001b[0m \u001b[0;34m\"X-Csrf-Token\"\u001b[0m\u001b[0;34m:\u001b[0m \u001b[0mtkn\u001b[0m\u001b[0;34m.\u001b[0m\u001b[0mtext\u001b[0m\u001b[0;34m,\u001b[0m \u001b[0;34m\"X-Api-Key\"\u001b[0m\u001b[0;34m:\u001b[0m \u001b[0mmyKey\u001b[0m \u001b[0;34m}\u001b[0m\u001b[0;34m\u001b[0m\u001b[0;34m\u001b[0m\u001b[0m\n\u001b[0;32m---> 16\u001b[0;31m     \u001b[0mr\u001b[0m \u001b[0;34m=\u001b[0m \u001b[0ms\u001b[0m\u001b[0;34m.\u001b[0m\u001b[0mpost\u001b[0m\u001b[0;34m(\u001b[0m\u001b[0murlSDGMapper\u001b[0m \u001b[0;34m+\u001b[0m \u001b[0;34m\"api/rest/mappingdata\"\u001b[0m\u001b[0;34m,\u001b[0m \u001b[0mheaders\u001b[0m\u001b[0;34m=\u001b[0m\u001b[0mheaders\u001b[0m\u001b[0;34m,\u001b[0m \u001b[0mjson\u001b[0m\u001b[0;34m=\u001b[0m\u001b[0;34m{\u001b[0m\u001b[0;34m\"input_text\"\u001b[0m\u001b[0;34m:\u001b[0m \u001b[0mdoc_txt\u001b[0m\u001b[0;34m}\u001b[0m\u001b[0;34m)\u001b[0m\u001b[0;34m\u001b[0m\u001b[0;34m\u001b[0m\u001b[0m\n\u001b[0m\u001b[1;32m     17\u001b[0m     \u001b[0mprint\u001b[0m\u001b[0;34m(\u001b[0m\u001b[0mjson\u001b[0m\u001b[0;34m.\u001b[0m\u001b[0mloads\u001b[0m\u001b[0;34m(\u001b[0m\u001b[0mr\u001b[0m\u001b[0;34m.\u001b[0m\u001b[0mtext\u001b[0m\u001b[0;34m)\u001b[0m\u001b[0;34m)\u001b[0m\u001b[0;34m\u001b[0m\u001b[0;34m\u001b[0m\u001b[0m\n\u001b[1;32m     18\u001b[0m     \u001b[0;32mreturn\u001b[0m\u001b[0;34m\u001b[0m\u001b[0;34m\u001b[0m\u001b[0m\n",
      "\u001b[0;32m/Library/Frameworks/Python.framework/Versions/3.9/lib/python3.9/site-packages/requests/sessions.py\u001b[0m in \u001b[0;36mpost\u001b[0;34m(self, url, data, json, **kwargs)\u001b[0m\n\u001b[1;32m    588\u001b[0m         \"\"\"\n\u001b[1;32m    589\u001b[0m \u001b[0;34m\u001b[0m\u001b[0m\n\u001b[0;32m--> 590\u001b[0;31m         \u001b[0;32mreturn\u001b[0m \u001b[0mself\u001b[0m\u001b[0;34m.\u001b[0m\u001b[0mrequest\u001b[0m\u001b[0;34m(\u001b[0m\u001b[0;34m'POST'\u001b[0m\u001b[0;34m,\u001b[0m \u001b[0murl\u001b[0m\u001b[0;34m,\u001b[0m \u001b[0mdata\u001b[0m\u001b[0;34m=\u001b[0m\u001b[0mdata\u001b[0m\u001b[0;34m,\u001b[0m \u001b[0mjson\u001b[0m\u001b[0;34m=\u001b[0m\u001b[0mjson\u001b[0m\u001b[0;34m,\u001b[0m \u001b[0;34m**\u001b[0m\u001b[0mkwargs\u001b[0m\u001b[0;34m)\u001b[0m\u001b[0;34m\u001b[0m\u001b[0;34m\u001b[0m\u001b[0m\n\u001b[0m\u001b[1;32m    591\u001b[0m \u001b[0;34m\u001b[0m\u001b[0m\n\u001b[1;32m    592\u001b[0m     \u001b[0;32mdef\u001b[0m \u001b[0mput\u001b[0m\u001b[0;34m(\u001b[0m\u001b[0mself\u001b[0m\u001b[0;34m,\u001b[0m \u001b[0murl\u001b[0m\u001b[0;34m,\u001b[0m \u001b[0mdata\u001b[0m\u001b[0;34m=\u001b[0m\u001b[0;32mNone\u001b[0m\u001b[0;34m,\u001b[0m \u001b[0;34m**\u001b[0m\u001b[0mkwargs\u001b[0m\u001b[0;34m)\u001b[0m\u001b[0;34m:\u001b[0m\u001b[0;34m\u001b[0m\u001b[0;34m\u001b[0m\u001b[0m\n",
      "\u001b[0;32m/Library/Frameworks/Python.framework/Versions/3.9/lib/python3.9/site-packages/requests/sessions.py\u001b[0m in \u001b[0;36mrequest\u001b[0;34m(self, method, url, params, data, headers, cookies, files, auth, timeout, allow_redirects, proxies, hooks, stream, verify, cert, json)\u001b[0m\n\u001b[1;32m    526\u001b[0m             \u001b[0mhooks\u001b[0m\u001b[0;34m=\u001b[0m\u001b[0mhooks\u001b[0m\u001b[0;34m,\u001b[0m\u001b[0;34m\u001b[0m\u001b[0;34m\u001b[0m\u001b[0m\n\u001b[1;32m    527\u001b[0m         )\n\u001b[0;32m--> 528\u001b[0;31m         \u001b[0mprep\u001b[0m \u001b[0;34m=\u001b[0m \u001b[0mself\u001b[0m\u001b[0;34m.\u001b[0m\u001b[0mprepare_request\u001b[0m\u001b[0;34m(\u001b[0m\u001b[0mreq\u001b[0m\u001b[0;34m)\u001b[0m\u001b[0;34m\u001b[0m\u001b[0;34m\u001b[0m\u001b[0m\n\u001b[0m\u001b[1;32m    529\u001b[0m \u001b[0;34m\u001b[0m\u001b[0m\n\u001b[1;32m    530\u001b[0m         \u001b[0mproxies\u001b[0m \u001b[0;34m=\u001b[0m \u001b[0mproxies\u001b[0m \u001b[0;32mor\u001b[0m \u001b[0;34m{\u001b[0m\u001b[0;34m}\u001b[0m\u001b[0;34m\u001b[0m\u001b[0;34m\u001b[0m\u001b[0m\n",
      "\u001b[0;32m/Library/Frameworks/Python.framework/Versions/3.9/lib/python3.9/site-packages/requests/sessions.py\u001b[0m in \u001b[0;36mprepare_request\u001b[0;34m(self, request)\u001b[0m\n\u001b[1;32m    454\u001b[0m \u001b[0;34m\u001b[0m\u001b[0m\n\u001b[1;32m    455\u001b[0m         \u001b[0mp\u001b[0m \u001b[0;34m=\u001b[0m \u001b[0mPreparedRequest\u001b[0m\u001b[0;34m(\u001b[0m\u001b[0;34m)\u001b[0m\u001b[0;34m\u001b[0m\u001b[0;34m\u001b[0m\u001b[0m\n\u001b[0;32m--> 456\u001b[0;31m         p.prepare(\n\u001b[0m\u001b[1;32m    457\u001b[0m             \u001b[0mmethod\u001b[0m\u001b[0;34m=\u001b[0m\u001b[0mrequest\u001b[0m\u001b[0;34m.\u001b[0m\u001b[0mmethod\u001b[0m\u001b[0;34m.\u001b[0m\u001b[0mupper\u001b[0m\u001b[0;34m(\u001b[0m\u001b[0;34m)\u001b[0m\u001b[0;34m,\u001b[0m\u001b[0;34m\u001b[0m\u001b[0;34m\u001b[0m\u001b[0m\n\u001b[1;32m    458\u001b[0m             \u001b[0murl\u001b[0m\u001b[0;34m=\u001b[0m\u001b[0mrequest\u001b[0m\u001b[0;34m.\u001b[0m\u001b[0murl\u001b[0m\u001b[0;34m,\u001b[0m\u001b[0;34m\u001b[0m\u001b[0;34m\u001b[0m\u001b[0m\n",
      "\u001b[0;32m/Library/Frameworks/Python.framework/Versions/3.9/lib/python3.9/site-packages/requests/models.py\u001b[0m in \u001b[0;36mprepare\u001b[0;34m(self, method, url, headers, files, data, params, auth, cookies, hooks, json)\u001b[0m\n\u001b[1;32m    315\u001b[0m         \u001b[0mself\u001b[0m\u001b[0;34m.\u001b[0m\u001b[0mprepare_method\u001b[0m\u001b[0;34m(\u001b[0m\u001b[0mmethod\u001b[0m\u001b[0;34m)\u001b[0m\u001b[0;34m\u001b[0m\u001b[0;34m\u001b[0m\u001b[0m\n\u001b[1;32m    316\u001b[0m         \u001b[0mself\u001b[0m\u001b[0;34m.\u001b[0m\u001b[0mprepare_url\u001b[0m\u001b[0;34m(\u001b[0m\u001b[0murl\u001b[0m\u001b[0;34m,\u001b[0m \u001b[0mparams\u001b[0m\u001b[0;34m)\u001b[0m\u001b[0;34m\u001b[0m\u001b[0;34m\u001b[0m\u001b[0m\n\u001b[0;32m--> 317\u001b[0;31m         \u001b[0mself\u001b[0m\u001b[0;34m.\u001b[0m\u001b[0mprepare_headers\u001b[0m\u001b[0;34m(\u001b[0m\u001b[0mheaders\u001b[0m\u001b[0;34m)\u001b[0m\u001b[0;34m\u001b[0m\u001b[0;34m\u001b[0m\u001b[0m\n\u001b[0m\u001b[1;32m    318\u001b[0m         \u001b[0mself\u001b[0m\u001b[0;34m.\u001b[0m\u001b[0mprepare_cookies\u001b[0m\u001b[0;34m(\u001b[0m\u001b[0mcookies\u001b[0m\u001b[0;34m)\u001b[0m\u001b[0;34m\u001b[0m\u001b[0;34m\u001b[0m\u001b[0m\n\u001b[1;32m    319\u001b[0m         \u001b[0mself\u001b[0m\u001b[0;34m.\u001b[0m\u001b[0mprepare_body\u001b[0m\u001b[0;34m(\u001b[0m\u001b[0mdata\u001b[0m\u001b[0;34m,\u001b[0m \u001b[0mfiles\u001b[0m\u001b[0;34m,\u001b[0m \u001b[0mjson\u001b[0m\u001b[0;34m)\u001b[0m\u001b[0;34m\u001b[0m\u001b[0;34m\u001b[0m\u001b[0m\n",
      "\u001b[0;32m/Library/Frameworks/Python.framework/Versions/3.9/lib/python3.9/site-packages/requests/models.py\u001b[0m in \u001b[0;36mprepare_headers\u001b[0;34m(self, headers)\u001b[0m\n\u001b[1;32m    449\u001b[0m             \u001b[0;32mfor\u001b[0m \u001b[0mheader\u001b[0m \u001b[0;32min\u001b[0m \u001b[0mheaders\u001b[0m\u001b[0;34m.\u001b[0m\u001b[0mitems\u001b[0m\u001b[0;34m(\u001b[0m\u001b[0;34m)\u001b[0m\u001b[0;34m:\u001b[0m\u001b[0;34m\u001b[0m\u001b[0;34m\u001b[0m\u001b[0m\n\u001b[1;32m    450\u001b[0m                 \u001b[0;31m# Raise exception on invalid header value.\u001b[0m\u001b[0;34m\u001b[0m\u001b[0;34m\u001b[0m\u001b[0m\n\u001b[0;32m--> 451\u001b[0;31m                 \u001b[0mcheck_header_validity\u001b[0m\u001b[0;34m(\u001b[0m\u001b[0mheader\u001b[0m\u001b[0;34m)\u001b[0m\u001b[0;34m\u001b[0m\u001b[0;34m\u001b[0m\u001b[0m\n\u001b[0m\u001b[1;32m    452\u001b[0m                 \u001b[0mname\u001b[0m\u001b[0;34m,\u001b[0m \u001b[0mvalue\u001b[0m \u001b[0;34m=\u001b[0m \u001b[0mheader\u001b[0m\u001b[0;34m\u001b[0m\u001b[0;34m\u001b[0m\u001b[0m\n\u001b[1;32m    453\u001b[0m                 \u001b[0mself\u001b[0m\u001b[0;34m.\u001b[0m\u001b[0mheaders\u001b[0m\u001b[0;34m[\u001b[0m\u001b[0mto_native_string\u001b[0m\u001b[0;34m(\u001b[0m\u001b[0mname\u001b[0m\u001b[0;34m)\u001b[0m\u001b[0;34m]\u001b[0m \u001b[0;34m=\u001b[0m \u001b[0mvalue\u001b[0m\u001b[0;34m\u001b[0m\u001b[0;34m\u001b[0m\u001b[0m\n",
      "\u001b[0;32m/Library/Frameworks/Python.framework/Versions/3.9/lib/python3.9/site-packages/requests/utils.py\u001b[0m in \u001b[0;36mcheck_header_validity\u001b[0;34m(header)\u001b[0m\n\u001b[1;32m    955\u001b[0m     \u001b[0;32mtry\u001b[0m\u001b[0;34m:\u001b[0m\u001b[0;34m\u001b[0m\u001b[0;34m\u001b[0m\u001b[0m\n\u001b[1;32m    956\u001b[0m         \u001b[0;32mif\u001b[0m \u001b[0;32mnot\u001b[0m \u001b[0mpat\u001b[0m\u001b[0;34m.\u001b[0m\u001b[0mmatch\u001b[0m\u001b[0;34m(\u001b[0m\u001b[0mvalue\u001b[0m\u001b[0;34m)\u001b[0m\u001b[0;34m:\u001b[0m\u001b[0;34m\u001b[0m\u001b[0;34m\u001b[0m\u001b[0m\n\u001b[0;32m--> 957\u001b[0;31m             \u001b[0;32mraise\u001b[0m \u001b[0mInvalidHeader\u001b[0m\u001b[0;34m(\u001b[0m\u001b[0;34m\"Invalid return character or leading space in header: %s\"\u001b[0m \u001b[0;34m%\u001b[0m \u001b[0mname\u001b[0m\u001b[0;34m)\u001b[0m\u001b[0;34m\u001b[0m\u001b[0;34m\u001b[0m\u001b[0m\n\u001b[0m\u001b[1;32m    958\u001b[0m     \u001b[0;32mexcept\u001b[0m \u001b[0mTypeError\u001b[0m\u001b[0;34m:\u001b[0m\u001b[0;34m\u001b[0m\u001b[0;34m\u001b[0m\u001b[0m\n\u001b[1;32m    959\u001b[0m         raise InvalidHeader(\"Value for header {%s: %s} must be of type str or \"\n",
      "\u001b[0;31mInvalidHeader\u001b[0m: Invalid return character or leading space in header: X-Csrf-Token"
     ]
    }
   ],
   "source": [
    "\n",
    "for index, row in dftot.iterrows():\n",
    "    urltext = \"http://data.riksdagen.se/dokument/\"+ row['id'] +\".text\"\n",
    "    print(row['id'],\"\\tText url:\",urltext)\n",
    "    SDGMapper(urltext)"
   ]
  },
  {
   "cell_type": "code",
   "execution_count": null,
   "metadata": {},
   "outputs": [],
   "source": []
  },
  {
   "cell_type": "code",
   "execution_count": null,
   "metadata": {},
   "outputs": [],
   "source": []
  },
  {
   "cell_type": "code",
   "execution_count": null,
   "metadata": {},
   "outputs": [],
   "source": []
  },
  {
   "cell_type": "code",
   "execution_count": null,
   "metadata": {},
   "outputs": [],
   "source": []
  },
  {
   "cell_type": "code",
   "execution_count": null,
   "metadata": {},
   "outputs": [],
   "source": []
  },
  {
   "cell_type": "code",
   "execution_count": null,
   "metadata": {},
   "outputs": [],
   "source": []
  },
  {
   "cell_type": "code",
   "execution_count": 11,
   "metadata": {},
   "outputs": [
    {
     "data": {
      "image/png": "[encoded data removed]",
      "text/plain": [
       "<Figure size 1800x360 with 1 Axes>"
      ]
     },
     "metadata": {
      "needs_background": "light"
     },
     "output_type": "display_data"
    }
   ],
   "source": [
    "%matplotlib inline  \n",
    "import matplotlib.pyplot as plt   \n",
    "plot = dftot.publicerad.value_counts()[1:30].plot.bar(y='counts', figsize=(25, 5)) \n",
    "plt.show()"
   ]
  },
  {
   "cell_type": "code",
   "execution_count": null,
   "metadata": {},
   "outputs": [],
   "source": [
    "%matplotlib inline  \n",
    "import matplotlib.pyplot as plt   \n",
    "plot = dftot.datum.value_counts()[1:30].plot.bar(y='counts', figsize=(25, 5)) \n",
    "plt.show()"
   ]
  },
  {
   "cell_type": "code",
   "execution_count": null,
   "metadata": {},
   "outputs": [],
   "source": [
    "plotPublishedSFSperMonth = dftot['publicerad'].groupby(dftot.publicerad.dt.to_period(\"M\")).agg('count')\n",
    "plotPublishedSFSperMonth.plot( kind = 'bar') \n",
    "plt.title(\"SFS per month\")\n",
    "plt.show()"
   ]
  },
  {
   "cell_type": "code",
   "execution_count": null,
   "metadata": {},
   "outputs": [],
   "source": [
    "plotDatumSFSperMonth = dftot['datum'].groupby(dftot.datum.dt.to_period(\"M\")).agg('count')\n",
    "plotDatumSFSperMonth.plot( kind = 'bar') \n",
    "plt.title(\"SFS Datum per month\")\n",
    "plt.show()"
   ]
  },
  {
   "cell_type": "code",
   "execution_count": null,
   "metadata": {},
   "outputs": [],
   "source": [
    "plotDatumSFSperMonth = dftot['datum'].groupby(dftot.datum.dt.to_period(\"M\")).agg('count')[10:]\n",
    "plotDatumSFSperMonth.plot( kind = 'bar') \n",
    "plt.title(\"SFS Datum per month\")\n",
    "plt.figsize=(5, 35) \n",
    "\n",
    "plt.show()"
   ]
  },
  {
   "cell_type": "code",
   "execution_count": null,
   "metadata": {},
   "outputs": [],
   "source": [
    "plotDatumSFSperMonth"
   ]
  },
  {
   "cell_type": "code",
   "execution_count": null,
   "metadata": {},
   "outputs": [],
   "source": [
    "#Last year \n",
    "PublishedSFS2016perMonth =  dftot[dftot[\"publicerad\"].dt.year > 2016 ]\n",
    "plotPublishedSFS2016perMonth = PublishedSFS2016perMonth['publicerad'].groupby(PublishedSFS2016perMonth.publicerad.dt.to_period(\"M\")).agg('count')\n",
    "plotPublishedSFS2016perMonth.plot( kind = 'bar',) \n",
    "plt.title(\"SFS > 2016 per month\")\n",
    "plt.figsize=(5, 35) \n",
    "figure(figsize=(1,1)) \n",
    "plt.show()\n"
   ]
  },
  {
   "cell_type": "code",
   "execution_count": null,
   "metadata": {},
   "outputs": [],
   "source": [
    "plotDatumSFSperMonth[100:]"
   ]
  },
  {
   "cell_type": "code",
   "execution_count": null,
   "metadata": {},
   "outputs": [],
   "source": [
    " dftot.debattnamn.value_counts()"
   ]
  },
  {
   "cell_type": "code",
   "execution_count": null,
   "metadata": {},
   "outputs": [],
   "source": [
    "dftot.info()"
   ]
  },
  {
   "cell_type": "code",
   "execution_count": null,
   "metadata": {},
   "outputs": [],
   "source": [
    "organCount = dftot.organ.value_counts() \n",
    "organCount"
   ]
  },
  {
   "cell_type": "code",
   "execution_count": null,
   "metadata": {},
   "outputs": [],
   "source": [
    "dftot.organ.value_counts().plot.pie(y='counts', figsize=(15, 15)) \n",
    "plt.show()"
   ]
  },
  {
   "cell_type": "code",
   "execution_count": null,
   "metadata": {},
   "outputs": [],
   "source": [
    "dftot.organ.value_counts()[1:50]"
   ]
  },
  {
   "cell_type": "code",
   "execution_count": null,
   "metadata": {},
   "outputs": [],
   "source": [
    "dftot.organ.value_counts()[50:100]"
   ]
  },
  {
   "cell_type": "code",
   "execution_count": null,
   "metadata": {},
   "outputs": [],
   "source": [
    "dftot.organ.value_counts()[100:150]"
   ]
  },
  {
   "cell_type": "code",
   "execution_count": null,
   "metadata": {},
   "outputs": [],
   "source": [
    "dftot.domain.value_counts()"
   ]
  },
  {
   "cell_type": "code",
   "execution_count": null,
   "metadata": {},
   "outputs": [],
   "source": [
    "dftot.rm.value_counts() \n",
    "plotRM = dftot.rm.value_counts().plot.bar(y='counts', figsize=(25, 5)) \n",
    "plt.show()"
   ]
  },
  {
   "cell_type": "code",
   "execution_count": null,
   "metadata": {},
   "outputs": [],
   "source": [
    "dftot['datum'] =pd.to_datetime(dftot.datum)  \n",
    "dftot['publicerad'] =pd.to_datetime(dftot.publicerad)  \n",
    "dftot['systemdatum'] =pd.to_datetime(dftot.systemdatum, format='%Y-%m-%d')\n",
    "# 2016-02-11 15:26:06"
   ]
  },
  {
   "cell_type": "code",
   "execution_count": null,
   "metadata": {},
   "outputs": [],
   "source": [
    "dftot.info()"
   ]
  },
  {
   "cell_type": "code",
   "execution_count": null,
   "metadata": {},
   "outputs": [],
   "source": [
    "dftot = dftot.sort_values('datum') \n",
    "dftot.head()"
   ]
  },
  {
   "cell_type": "code",
   "execution_count": null,
   "metadata": {},
   "outputs": [],
   "source": [
    "dftot.tail()"
   ]
  },
  {
   "cell_type": "code",
   "execution_count": null,
   "metadata": {},
   "outputs": [],
   "source": [
    "dftot.subtyp.value_counts()"
   ]
  },
  {
   "cell_type": "markdown",
   "metadata": {},
   "source": [
    "Gissning \n",
    "* regl-riksg verkar vara Reglemente för Riksgäldskontoret \n",
    "* regl-riksb är nog Riksbanken"
   ]
  },
  {
   "cell_type": "code",
   "execution_count": null,
   "metadata": {},
   "outputs": [],
   "source": [
    "dftot.debattnamn.value_counts()"
   ]
  },
  {
   "cell_type": "code",
   "execution_count": null,
   "metadata": {},
   "outputs": [],
   "source": [
    "ftot = dftot.sort_values(by='id', ascending=False) "
   ]
  },
  {
   "cell_type": "code",
   "execution_count": null,
   "metadata": {},
   "outputs": [],
   "source": [
    "dftot.info()"
   ]
  },
  {
   "cell_type": "code",
   "execution_count": null,
   "metadata": {},
   "outputs": [],
   "source": [
    "dftot.head(1000) "
   ]
  },
  {
   "cell_type": "code",
   "execution_count": null,
   "metadata": {},
   "outputs": [],
   "source": [
    "print(\"End run: \", datetime.now())"
   ]
  },
  {
   "cell_type": "code",
   "execution_count": null,
   "metadata": {},
   "outputs": [],
   "source": []
  }
 ],
 "metadata": {
  "kernelspec": {
   "display_name": "Python 3",
   "language": "python",
   "name": "python3"
  },
  "language_info": {
   "codemirror_mode": {
    "name": "ipython",
    "version": 3
   },
   "file_extension": ".py",
   "mimetype": "text/x-python",
   "name": "python",
   "nbconvert_exporter": "python",
   "pygments_lexer": "ipython3",
   "version": "3.9.13"
  }
 },
 "nbformat": 4,
 "nbformat_minor": 4
}
