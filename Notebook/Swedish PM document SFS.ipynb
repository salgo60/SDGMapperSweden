{
 "cells": [
  {
   "cell_type": "markdown",
   "metadata": {},
   "source": [
    "## Test Swedish PM documents and sent it to SDG mapper\n",
    "version 0.2\n",
    "* This [Jupyter Notebook](https://github.com/salgo60/SDGMapperSweden/blob/main/Notebook/Swedish%20PM%20document%20SFS.ipynb)  / GITHUB [SDGMapperSweden](https://github.com/salgo60/SDGMapperSweden)\n",
    "\n",
    "\n",
    "* [Create query at the Swedish PM](http://data.riksdagen.se/dokumentlista/)   \n",
    "\n",
    "\n",
    "### Example doc SFS nr 2022-857\n",
    "* [Fulltext](https://www.riksdagen.se/sv/dokument-lagar/dokument/svensk-forfattningssamling/forordning-2020577-om-statligt-stod-for_sfs-2022-857) [text](http://data.riksdagen.se/dokument/sfs-2022-857.text) / [html](http://data.riksdagen.se/dokument/sfs-2022-857.html) /  [json](http://data.riksdagen.se/dokument/sfs-2022-857.json) \n",
    "\n",
    "## Version history ##\n",
    "* 0.1 failed see [issue2]()\n",
    "* 0.2 works use json instead and fixed error in header"
   ]
  },
  {
   "cell_type": "code",
   "execution_count": 1,
   "metadata": {},
   "outputs": [
    {
     "name": "stdout",
     "output_type": "stream",
     "text": [
      "Last run:  2022-06-20 19:33:42.260951\n"
     ]
    }
   ],
   "source": [
    "from datetime import datetime\n",
    "now = datetime.now()\n",
    "print(\"Last run: \", datetime.now())"
   ]
  },
  {
   "cell_type": "code",
   "execution_count": 2,
   "metadata": {},
   "outputs": [],
   "source": [
    "class RenderHyperlink(object):\n",
    "    def __init__(self, key, link, *args):\n",
    "        link = link + \"/\" if not link.endswith(\"/\") else link\n",
    "        \n",
    "        for arg in args:\n",
    "            link += arg + \"/\"         \n",
    "        self.__url = \"<a href={}>{}</a>\".format(link, key)\n",
    "    \n",
    "    def __repr__(self):\n",
    "        from IPython.core.display import display, HTML\n",
    "        display(HTML(self.__url))\n",
    "        return \"\" \n"
   ]
  },
  {
   "cell_type": "code",
   "execution_count": 3,
   "metadata": {},
   "outputs": [],
   "source": [
    "import requests,time,json\n",
    "def SDGMapper(urljson):\n",
    "    \n",
    "    doc_json = requests.get(urljson).text\n",
    "    jsondata = json.loads(doc_json)\n",
    "    doc_txt = jsondata[\"dokumentstatus\"][\"dokument\"][\"text\"]\n",
    "    if len(doc_txt):\n",
    "        urlSDGMapper = \"https://knowsdgs.jrc.ec.europa.eu/\"\n",
    "        s = requests.Session()\n",
    "        tkn = s.post(urlSDGMapper + \"session/token\")\n",
    "        time.sleep(6)\n",
    "\n",
    "        myKey = \"db0c87cbdf761defc71ea93010fdde41\"\n",
    "\n",
    "        headers = {\"Content-Type\": \"application/json\", \"X-Csrf-Token\": tkn.text, \"X-Api-Key\": myKey }\n",
    "        rSDG = s.post(urlSDGMapper + \"api/rest/mappingdata\", headers=headers, json={\"input_text\": doc_txt})\n",
    "        jsonSDG = json.loads(rSDG.text)\n",
    "        print(jsonSDG)\n",
    "    else:\n",
    "        print(\"\\t No text\")\n",
    "    return \n",
    "#SDGMapper(\"This is a test text\")"
   ]
  },
  {
   "cell_type": "code",
   "execution_count": 4,
   "metadata": {},
   "outputs": [
    {
     "data": {
      "application/vnd.jupyter.widget-view+json": {
       "model_id": "0895dd608137486784d6262cff27b3f0",
       "version_major": 2,
       "version_minor": 0
      },
      "text/plain": [
       "  0%|          | 0/9 [00:00<?, ?it/s]"
      ]
     },
     "metadata": {},
     "output_type": "display_data"
    },
    {
     "data": {
      "text/html": [
       "<div>\n",
       "<style scoped>\n",
       "    .dataframe tbody tr th:only-of-type {\n",
       "        vertical-align: middle;\n",
       "    }\n",
       "\n",
       "    .dataframe tbody tr th {\n",
       "        vertical-align: top;\n",
       "    }\n",
       "\n",
       "    .dataframe thead th {\n",
       "        text-align: right;\n",
       "    }\n",
       "</style>\n",
       "<table border=\"1\" class=\"dataframe\">\n",
       "  <thead>\n",
       "    <tr style=\"text-align: right;\">\n",
       "      <th></th>\n",
       "      <th>traff</th>\n",
       "      <th>domain</th>\n",
       "      <th>database</th>\n",
       "      <th>datum</th>\n",
       "      <th>id</th>\n",
       "      <th>rdrest</th>\n",
       "      <th>slutdatum</th>\n",
       "      <th>rddata</th>\n",
       "      <th>plats</th>\n",
       "      <th>klockslag</th>\n",
       "      <th>publicerad</th>\n",
       "      <th>systemdatum</th>\n",
       "      <th>undertitel</th>\n",
       "      <th>kalla</th>\n",
       "      <th>kall_id</th>\n",
       "      <th>dok_id</th>\n",
       "      <th>dokumentformat</th>\n",
       "      <th>dokument_url_text</th>\n",
       "      <th>dokument_url_html</th>\n",
       "      <th>inlamnad</th>\n",
       "      <th>motionstid</th>\n",
       "      <th>tilldelat</th>\n",
       "      <th>lang</th>\n",
       "      <th>url</th>\n",
       "      <th>relurl</th>\n",
       "      <th>titel</th>\n",
       "      <th>rm</th>\n",
       "      <th>organ</th>\n",
       "      <th>relaterat_id</th>\n",
       "      <th>doktyp</th>\n",
       "      <th>typ</th>\n",
       "      <th>subtyp</th>\n",
       "      <th>beteckning</th>\n",
       "      <th>tempbeteckning</th>\n",
       "      <th>nummer</th>\n",
       "      <th>status</th>\n",
       "      <th>score</th>\n",
       "      <th>sokdata</th>\n",
       "      <th>summary</th>\n",
       "      <th>notisrubrik</th>\n",
       "      <th>notis</th>\n",
       "      <th>dokintressent</th>\n",
       "      <th>filbilaga</th>\n",
       "      <th>avdelning</th>\n",
       "      <th>struktur</th>\n",
       "      <th>audio</th>\n",
       "      <th>video</th>\n",
       "      <th>debattgrupp</th>\n",
       "      <th>debattdag</th>\n",
       "      <th>beslutsdag</th>\n",
       "      <th>beredningsdag</th>\n",
       "      <th>justeringsdag</th>\n",
       "      <th>beslutad</th>\n",
       "      <th>debattsekunder</th>\n",
       "      <th>ardometyp</th>\n",
       "      <th>reservationer</th>\n",
       "      <th>debatt</th>\n",
       "      <th>debattnamn</th>\n",
       "      <th>dokumentnamn</th>\n",
       "    </tr>\n",
       "  </thead>\n",
       "  <tbody>\n",
       "    <tr>\n",
       "      <th>0</th>\n",
       "      <td>1</td>\n",
       "      <td>rdwebb</td>\n",
       "      <td>dokument</td>\n",
       "      <td>2022-06-09</td>\n",
       "      <td>sfs-2022-857</td>\n",
       "      <td>None</td>\n",
       "      <td></td>\n",
       "      <td>None</td>\n",
       "      <td></td>\n",
       "      <td></td>\n",
       "      <td>2022-06-17 04:32:59</td>\n",
       "      <td>2022-06-17 04:32:59</td>\n",
       "      <td></td>\n",
       "      <td></td>\n",
       "      <td></td>\n",
       "      <td>sfs-2022-857</td>\n",
       "      <td></td>\n",
       "      <td>//data.riksdagen.se/dokument/sfs-2022-857.text</td>\n",
       "      <td>//data.riksdagen.se/dokument/sfs-2022-857.html</td>\n",
       "      <td></td>\n",
       "      <td></td>\n",
       "      <td></td>\n",
       "      <td></td>\n",
       "      <td></td>\n",
       "      <td></td>\n",
       "      <td>Förordning (2022:857) om omställningsstudiestöd</td>\n",
       "      <td>2022</td>\n",
       "      <td>Utbildningsdepartementet</td>\n",
       "      <td></td>\n",
       "      <td>sfs</td>\n",
       "      <td>sfs</td>\n",
       "      <td>sfst</td>\n",
       "      <td>2022:857</td>\n",
       "      <td></td>\n",
       "      <td>857</td>\n",
       "      <td></td>\n",
       "      <td>220</td>\n",
       "      <td>{'titel': 'Förordning (2022:857) om omställnin...</td>\n",
       "      <td></td>\n",
       "      <td>Förordning (2022:857) om omställningsstudiestöd</td>\n",
       "      <td></td>\n",
       "      <td>None</td>\n",
       "      <td>None</td>\n",
       "      <td>dokument</td>\n",
       "      <td></td>\n",
       "      <td></td>\n",
       "      <td></td>\n",
       "      <td></td>\n",
       "      <td></td>\n",
       "      <td></td>\n",
       "      <td></td>\n",
       "      <td></td>\n",
       "      <td></td>\n",
       "      <td></td>\n",
       "      <td></td>\n",
       "      <td></td>\n",
       "      <td>None</td>\n",
       "      <td>Svensk författningssamling</td>\n",
       "      <td>Svensk författningssamling</td>\n",
       "    </tr>\n",
       "    <tr>\n",
       "      <th>1</th>\n",
       "      <td>2</td>\n",
       "      <td>rdwebb</td>\n",
       "      <td>dokument</td>\n",
       "      <td>2022-06-09</td>\n",
       "      <td>sfs-2022-856</td>\n",
       "      <td>None</td>\n",
       "      <td></td>\n",
       "      <td>None</td>\n",
       "      <td></td>\n",
       "      <td></td>\n",
       "      <td>2022-06-17 04:32:59</td>\n",
       "      <td>2022-06-17 04:32:59</td>\n",
       "      <td>t.o.m. SFS 2022:864</td>\n",
       "      <td></td>\n",
       "      <td></td>\n",
       "      <td>sfs-2022-856</td>\n",
       "      <td></td>\n",
       "      <td>//data.riksdagen.se/dokument/sfs-2022-856.text</td>\n",
       "      <td>//data.riksdagen.se/dokument/sfs-2022-856.html</td>\n",
       "      <td></td>\n",
       "      <td></td>\n",
       "      <td></td>\n",
       "      <td></td>\n",
       "      <td></td>\n",
       "      <td></td>\n",
       "      <td>Lag (2022:856) om omställningsstudiestöd</td>\n",
       "      <td>2022</td>\n",
       "      <td>Utbildningsdepartementet</td>\n",
       "      <td></td>\n",
       "      <td>sfs</td>\n",
       "      <td>sfs</td>\n",
       "      <td>sfst</td>\n",
       "      <td>2022:856</td>\n",
       "      <td></td>\n",
       "      <td>856</td>\n",
       "      <td></td>\n",
       "      <td>350</td>\n",
       "      <td>{'titel': 'Lag (2022:856) om omställningsstudi...</td>\n",
       "      <td></td>\n",
       "      <td>Lag (2022:856) om omställningsstudiestöd</td>\n",
       "      <td></td>\n",
       "      <td>None</td>\n",
       "      <td>None</td>\n",
       "      <td>dokument</td>\n",
       "      <td></td>\n",
       "      <td></td>\n",
       "      <td></td>\n",
       "      <td></td>\n",
       "      <td></td>\n",
       "      <td></td>\n",
       "      <td></td>\n",
       "      <td></td>\n",
       "      <td></td>\n",
       "      <td></td>\n",
       "      <td></td>\n",
       "      <td></td>\n",
       "      <td>None</td>\n",
       "      <td>Svensk författningssamling</td>\n",
       "      <td>Svensk författningssamling</td>\n",
       "    </tr>\n",
       "    <tr>\n",
       "      <th>2</th>\n",
       "      <td>3</td>\n",
       "      <td>rdwebb</td>\n",
       "      <td>dokument</td>\n",
       "      <td>2022-06-09</td>\n",
       "      <td>sfs-2022-852</td>\n",
       "      <td>None</td>\n",
       "      <td></td>\n",
       "      <td>None</td>\n",
       "      <td></td>\n",
       "      <td></td>\n",
       "      <td>2022-06-16 04:40:27</td>\n",
       "      <td>2022-06-16 04:40:27</td>\n",
       "      <td></td>\n",
       "      <td></td>\n",
       "      <td></td>\n",
       "      <td>sfs-2022-852</td>\n",
       "      <td></td>\n",
       "      <td>//data.riksdagen.se/dokument/sfs-2022-852.text</td>\n",
       "      <td>//data.riksdagen.se/dokument/sfs-2022-852.html</td>\n",
       "      <td></td>\n",
       "      <td></td>\n",
       "      <td></td>\n",
       "      <td></td>\n",
       "      <td></td>\n",
       "      <td></td>\n",
       "      <td>Förordning (2022:852) om grundläggande omställ...</td>\n",
       "      <td>2022</td>\n",
       "      <td>Arbetsmarknadsdepartementet</td>\n",
       "      <td></td>\n",
       "      <td>sfs</td>\n",
       "      <td>sfs</td>\n",
       "      <td>sfst</td>\n",
       "      <td>2022:852</td>\n",
       "      <td></td>\n",
       "      <td>852</td>\n",
       "      <td></td>\n",
       "      <td>220</td>\n",
       "      <td>{'titel': 'Förordning (2022:852) om grundlägga...</td>\n",
       "      <td></td>\n",
       "      <td>Förordning (2022:852) om grundläggande omställ...</td>\n",
       "      <td></td>\n",
       "      <td>None</td>\n",
       "      <td>None</td>\n",
       "      <td>dokument</td>\n",
       "      <td></td>\n",
       "      <td></td>\n",
       "      <td></td>\n",
       "      <td></td>\n",
       "      <td></td>\n",
       "      <td></td>\n",
       "      <td></td>\n",
       "      <td></td>\n",
       "      <td></td>\n",
       "      <td></td>\n",
       "      <td></td>\n",
       "      <td></td>\n",
       "      <td>None</td>\n",
       "      <td>Svensk författningssamling</td>\n",
       "      <td>Svensk författningssamling</td>\n",
       "    </tr>\n",
       "    <tr>\n",
       "      <th>3</th>\n",
       "      <td>4</td>\n",
       "      <td>rdwebb</td>\n",
       "      <td>dokument</td>\n",
       "      <td>2022-06-09</td>\n",
       "      <td>sfs-2022-850</td>\n",
       "      <td>None</td>\n",
       "      <td></td>\n",
       "      <td>None</td>\n",
       "      <td></td>\n",
       "      <td></td>\n",
       "      <td>2022-06-16 04:40:27</td>\n",
       "      <td>2022-06-16 04:40:27</td>\n",
       "      <td>t.o.m. SFS 2022:851</td>\n",
       "      <td></td>\n",
       "      <td></td>\n",
       "      <td>sfs-2022-850</td>\n",
       "      <td></td>\n",
       "      <td>//data.riksdagen.se/dokument/sfs-2022-850.text</td>\n",
       "      <td>//data.riksdagen.se/dokument/sfs-2022-850.html</td>\n",
       "      <td></td>\n",
       "      <td></td>\n",
       "      <td></td>\n",
       "      <td></td>\n",
       "      <td></td>\n",
       "      <td></td>\n",
       "      <td>Lag (2022:850) om grundläggande omställnings- ...</td>\n",
       "      <td>2022</td>\n",
       "      <td>Arbetsmarknadsdepartementet</td>\n",
       "      <td></td>\n",
       "      <td>sfs</td>\n",
       "      <td>sfs</td>\n",
       "      <td>sfst</td>\n",
       "      <td>2022:850</td>\n",
       "      <td></td>\n",
       "      <td>850</td>\n",
       "      <td></td>\n",
       "      <td>350</td>\n",
       "      <td>{'titel': 'Lag (2022:850) om grundläggande oms...</td>\n",
       "      <td></td>\n",
       "      <td>Lag (2022:850) om grundläggande omställnings- ...</td>\n",
       "      <td></td>\n",
       "      <td>None</td>\n",
       "      <td>None</td>\n",
       "      <td>dokument</td>\n",
       "      <td></td>\n",
       "      <td></td>\n",
       "      <td></td>\n",
       "      <td></td>\n",
       "      <td></td>\n",
       "      <td></td>\n",
       "      <td></td>\n",
       "      <td></td>\n",
       "      <td></td>\n",
       "      <td></td>\n",
       "      <td></td>\n",
       "      <td></td>\n",
       "      <td>None</td>\n",
       "      <td>Svensk författningssamling</td>\n",
       "      <td>Svensk författningssamling</td>\n",
       "    </tr>\n",
       "    <tr>\n",
       "      <th>4</th>\n",
       "      <td>5</td>\n",
       "      <td>rdwebb</td>\n",
       "      <td>dokument</td>\n",
       "      <td>2022-06-09</td>\n",
       "      <td>sfs-2022-818</td>\n",
       "      <td>None</td>\n",
       "      <td></td>\n",
       "      <td>None</td>\n",
       "      <td></td>\n",
       "      <td></td>\n",
       "      <td>2022-06-16 04:40:26</td>\n",
       "      <td>2022-06-16 04:40:26</td>\n",
       "      <td></td>\n",
       "      <td></td>\n",
       "      <td></td>\n",
       "      <td>sfs-2022-818</td>\n",
       "      <td></td>\n",
       "      <td>//data.riksdagen.se/dokument/sfs-2022-818.text</td>\n",
       "      <td>//data.riksdagen.se/dokument/sfs-2022-818.html</td>\n",
       "      <td></td>\n",
       "      <td></td>\n",
       "      <td></td>\n",
       "      <td></td>\n",
       "      <td></td>\n",
       "      <td></td>\n",
       "      <td>Lag (2022:818) om den offentliga sektorns till...</td>\n",
       "      <td>2022</td>\n",
       "      <td>Infrastrukturdepartementet</td>\n",
       "      <td></td>\n",
       "      <td>sfs</td>\n",
       "      <td>sfs</td>\n",
       "      <td>sfst</td>\n",
       "      <td>2022:818</td>\n",
       "      <td></td>\n",
       "      <td>818</td>\n",
       "      <td></td>\n",
       "      <td>350</td>\n",
       "      <td>{'titel': 'Lag (2022:818) om den offentliga se...</td>\n",
       "      <td></td>\n",
       "      <td>Lag (2022:818) om den offentliga sektorns till...</td>\n",
       "      <td></td>\n",
       "      <td>None</td>\n",
       "      <td>None</td>\n",
       "      <td>dokument</td>\n",
       "      <td></td>\n",
       "      <td></td>\n",
       "      <td></td>\n",
       "      <td></td>\n",
       "      <td></td>\n",
       "      <td></td>\n",
       "      <td></td>\n",
       "      <td></td>\n",
       "      <td></td>\n",
       "      <td></td>\n",
       "      <td></td>\n",
       "      <td></td>\n",
       "      <td>None</td>\n",
       "      <td>Svensk författningssamling</td>\n",
       "      <td>Svensk författningssamling</td>\n",
       "    </tr>\n",
       "  </tbody>\n",
       "</table>\n",
       "</div>"
      ],
      "text/plain": [
       "  traff  domain  database       datum            id rdrest slutdatum rddata  \\\n",
       "0     1  rdwebb  dokument  2022-06-09  sfs-2022-857   None             None   \n",
       "1     2  rdwebb  dokument  2022-06-09  sfs-2022-856   None             None   \n",
       "2     3  rdwebb  dokument  2022-06-09  sfs-2022-852   None             None   \n",
       "3     4  rdwebb  dokument  2022-06-09  sfs-2022-850   None             None   \n",
       "4     5  rdwebb  dokument  2022-06-09  sfs-2022-818   None             None   \n",
       "\n",
       "  plats klockslag           publicerad          systemdatum  \\\n",
       "0                  2022-06-17 04:32:59  2022-06-17 04:32:59   \n",
       "1                  2022-06-17 04:32:59  2022-06-17 04:32:59   \n",
       "2                  2022-06-16 04:40:27  2022-06-16 04:40:27   \n",
       "3                  2022-06-16 04:40:27  2022-06-16 04:40:27   \n",
       "4                  2022-06-16 04:40:26  2022-06-16 04:40:26   \n",
       "\n",
       "            undertitel kalla kall_id        dok_id dokumentformat  \\\n",
       "0                                     sfs-2022-857                  \n",
       "1  t.o.m. SFS 2022:864                sfs-2022-856                  \n",
       "2                                     sfs-2022-852                  \n",
       "3  t.o.m. SFS 2022:851                sfs-2022-850                  \n",
       "4                                     sfs-2022-818                  \n",
       "\n",
       "                                dokument_url_text  \\\n",
       "0  //data.riksdagen.se/dokument/sfs-2022-857.text   \n",
       "1  //data.riksdagen.se/dokument/sfs-2022-856.text   \n",
       "2  //data.riksdagen.se/dokument/sfs-2022-852.text   \n",
       "3  //data.riksdagen.se/dokument/sfs-2022-850.text   \n",
       "4  //data.riksdagen.se/dokument/sfs-2022-818.text   \n",
       "\n",
       "                                dokument_url_html inlamnad motionstid  \\\n",
       "0  //data.riksdagen.se/dokument/sfs-2022-857.html                       \n",
       "1  //data.riksdagen.se/dokument/sfs-2022-856.html                       \n",
       "2  //data.riksdagen.se/dokument/sfs-2022-852.html                       \n",
       "3  //data.riksdagen.se/dokument/sfs-2022-850.html                       \n",
       "4  //data.riksdagen.se/dokument/sfs-2022-818.html                       \n",
       "\n",
       "  tilldelat lang url relurl  \\\n",
       "0                             \n",
       "1                             \n",
       "2                             \n",
       "3                             \n",
       "4                             \n",
       "\n",
       "                                               titel    rm  \\\n",
       "0    Förordning (2022:857) om omställningsstudiestöd  2022   \n",
       "1           Lag (2022:856) om omställningsstudiestöd  2022   \n",
       "2  Förordning (2022:852) om grundläggande omställ...  2022   \n",
       "3  Lag (2022:850) om grundläggande omställnings- ...  2022   \n",
       "4  Lag (2022:818) om den offentliga sektorns till...  2022   \n",
       "\n",
       "                         organ relaterat_id doktyp  typ subtyp beteckning  \\\n",
       "0     Utbildningsdepartementet                 sfs  sfs   sfst   2022:857   \n",
       "1     Utbildningsdepartementet                 sfs  sfs   sfst   2022:856   \n",
       "2  Arbetsmarknadsdepartementet                 sfs  sfs   sfst   2022:852   \n",
       "3  Arbetsmarknadsdepartementet                 sfs  sfs   sfst   2022:850   \n",
       "4   Infrastrukturdepartementet                 sfs  sfs   sfst   2022:818   \n",
       "\n",
       "  tempbeteckning nummer status score  \\\n",
       "0                   857          220   \n",
       "1                   856          350   \n",
       "2                   852          220   \n",
       "3                   850          350   \n",
       "4                   818          350   \n",
       "\n",
       "                                             sokdata summary  \\\n",
       "0  {'titel': 'Förordning (2022:857) om omställnin...           \n",
       "1  {'titel': 'Lag (2022:856) om omställningsstudi...           \n",
       "2  {'titel': 'Förordning (2022:852) om grundlägga...           \n",
       "3  {'titel': 'Lag (2022:850) om grundläggande oms...           \n",
       "4  {'titel': 'Lag (2022:818) om den offentliga se...           \n",
       "\n",
       "                                         notisrubrik notis dokintressent  \\\n",
       "0    Förordning (2022:857) om omställningsstudiestöd                None   \n",
       "1           Lag (2022:856) om omställningsstudiestöd                None   \n",
       "2  Förordning (2022:852) om grundläggande omställ...                None   \n",
       "3  Lag (2022:850) om grundläggande omställnings- ...                None   \n",
       "4  Lag (2022:818) om den offentliga sektorns till...                None   \n",
       "\n",
       "  filbilaga avdelning struktur audio video debattgrupp debattdag beslutsdag  \\\n",
       "0      None  dokument                                                         \n",
       "1      None  dokument                                                         \n",
       "2      None  dokument                                                         \n",
       "3      None  dokument                                                         \n",
       "4      None  dokument                                                         \n",
       "\n",
       "  beredningsdag justeringsdag beslutad debattsekunder ardometyp reservationer  \\\n",
       "0                                                                               \n",
       "1                                                                               \n",
       "2                                                                               \n",
       "3                                                                               \n",
       "4                                                                               \n",
       "\n",
       "  debatt                  debattnamn                dokumentnamn  \n",
       "0   None  Svensk författningssamling  Svensk författningssamling  \n",
       "1   None  Svensk författningssamling  Svensk författningssamling  \n",
       "2   None  Svensk författningssamling  Svensk författningssamling  \n",
       "3   None  Svensk författningssamling  Svensk författningssamling  \n",
       "4   None  Svensk författningssamling  Svensk författningssamling  "
      ]
     },
     "execution_count": 4,
     "metadata": {},
     "output_type": "execute_result"
    }
   ],
   "source": [
    "import warnings\n",
    "warnings.simplefilter(action='ignore', category=FutureWarning)\n",
    "# Appended depreceated \n",
    "\n",
    "import pandas\n",
    "import urllib3, json\n",
    "import pandas as pd \n",
    "from tqdm.notebook import trange  \n",
    "http = urllib3.PoolManager() \n",
    "pd.set_option(\"display.max.columns\", None) \n",
    "urlbase =\"http://data.riksdagen.se/dokumentlista/?sok=&doktyp=SFS&utformat=json&start=\"\n",
    "\n",
    "dftot = pd.DataFrame()\n",
    "for i in trange(1,10): # looks we today have 10504 SFS --> 10503/20\n",
    "    url = urlbase + str(i)\n",
    "    r = http.request('GET', url)\n",
    "    data = json.loads(r.data)\n",
    "    r = http.request('GET', url)\n",
    "    dftot = dftot.append(pd.DataFrame(data[\"dokumentlista\"][\"dokument\"]),sort=False)\n",
    "dftot.head()\n"
   ]
  },
  {
   "cell_type": "code",
   "execution_count": 5,
   "metadata": {},
   "outputs": [
    {
     "name": "stdout",
     "output_type": "stream",
     "text": [
      "<class 'pandas.core.frame.DataFrame'>\n",
      "Int64Index: 180 entries, 0 to 19\n",
      "Data columns (total 59 columns):\n",
      " #   Column             Non-Null Count  Dtype \n",
      "---  ------             --------------  ----- \n",
      " 0   traff              180 non-null    object\n",
      " 1   domain             180 non-null    object\n",
      " 2   database           180 non-null    object\n",
      " 3   datum              180 non-null    object\n",
      " 4   id                 180 non-null    object\n",
      " 5   rdrest             0 non-null      object\n",
      " 6   slutdatum          180 non-null    object\n",
      " 7   rddata             0 non-null      object\n",
      " 8   plats              180 non-null    object\n",
      " 9   klockslag          180 non-null    object\n",
      " 10  publicerad         180 non-null    object\n",
      " 11  systemdatum        180 non-null    object\n",
      " 12  undertitel         180 non-null    object\n",
      " 13  kalla              180 non-null    object\n",
      " 14  kall_id            180 non-null    object\n",
      " 15  dok_id             180 non-null    object\n",
      " 16  dokumentformat     180 non-null    object\n",
      " 17  dokument_url_text  180 non-null    object\n",
      " 18  dokument_url_html  180 non-null    object\n",
      " 19  inlamnad           180 non-null    object\n",
      " 20  motionstid         180 non-null    object\n",
      " 21  tilldelat          180 non-null    object\n",
      " 22  lang               180 non-null    object\n",
      " 23  url                180 non-null    object\n",
      " 24  relurl             180 non-null    object\n",
      " 25  titel              180 non-null    object\n",
      " 26  rm                 180 non-null    object\n",
      " 27  organ              180 non-null    object\n",
      " 28  relaterat_id       180 non-null    object\n",
      " 29  doktyp             180 non-null    object\n",
      " 30  typ                180 non-null    object\n",
      " 31  subtyp             180 non-null    object\n",
      " 32  beteckning         180 non-null    object\n",
      " 33  tempbeteckning     180 non-null    object\n",
      " 34  nummer             180 non-null    object\n",
      " 35  status             180 non-null    object\n",
      " 36  score              180 non-null    object\n",
      " 37  sokdata            180 non-null    object\n",
      " 38  summary            180 non-null    object\n",
      " 39  notisrubrik        180 non-null    object\n",
      " 40  notis              180 non-null    object\n",
      " 41  dokintressent      0 non-null      object\n",
      " 42  filbilaga          0 non-null      object\n",
      " 43  avdelning          180 non-null    object\n",
      " 44  struktur           180 non-null    object\n",
      " 45  audio              180 non-null    object\n",
      " 46  video              180 non-null    object\n",
      " 47  debattgrupp        180 non-null    object\n",
      " 48  debattdag          180 non-null    object\n",
      " 49  beslutsdag         180 non-null    object\n",
      " 50  beredningsdag      180 non-null    object\n",
      " 51  justeringsdag      180 non-null    object\n",
      " 52  beslutad           180 non-null    object\n",
      " 53  debattsekunder     180 non-null    object\n",
      " 54  ardometyp          180 non-null    object\n",
      " 55  reservationer      180 non-null    object\n",
      " 56  debatt             0 non-null      object\n",
      " 57  debattnamn         180 non-null    object\n",
      " 58  dokumentnamn       180 non-null    object\n",
      "dtypes: object(59)\n",
      "memory usage: 84.4+ KB\n"
     ]
    }
   ],
   "source": [
    "dftot.info()"
   ]
  },
  {
   "cell_type": "markdown",
   "metadata": {},
   "source": [
    "### Call SDGMapper"
   ]
  },
  {
   "cell_type": "code",
   "execution_count": 6,
   "metadata": {},
   "outputs": [
    {
     "name": "stdout",
     "output_type": "stream",
     "text": [
      "\n",
      " sfs-2022-857\n",
      "\tjson url: http://data.riksdagen.se/dokument/sfs-2022-857.json\n",
      "\tdoc url: https://www.riksdagen.se/sv/dokument-lagar/dokument/_sfs-2022-857\n",
      "\t "
     ]
    },
    {
     "data": {
      "text/html": [
       "<a href=https://www.riksdagen.se/sv/dokument-lagar/dokument/_sfs-2022-857/></a>"
      ],
      "text/plain": [
       "<IPython.core.display.HTML object>"
      ]
     },
     "metadata": {},
     "output_type": "display_data"
    },
    {
     "name": "stdout",
     "output_type": "stream",
     "text": [
      "\n",
      "{'data': ['{\"name\": \"sdgs\", \"children\": [{\"name\": \"SDG 9\", \"n_occurrences\": 6, \"children\": [{\"n_occurrences\": 6, \"name\": \"Target 9.5\"}]}], \"api version\": \"v1\"}']}\n",
      "\n",
      " sfs-2022-856\n",
      "\tjson url: http://data.riksdagen.se/dokument/sfs-2022-856.json\n",
      "\tdoc url: https://www.riksdagen.se/sv/dokument-lagar/dokument/_sfs-2022-856\n",
      "\t "
     ]
    },
    {
     "data": {
      "text/html": [
       "<a href=https://www.riksdagen.se/sv/dokument-lagar/dokument/_sfs-2022-856/></a>"
      ],
      "text/plain": [
       "<IPython.core.display.HTML object>"
      ]
     },
     "metadata": {},
     "output_type": "display_data"
    },
    {
     "name": "stdout",
     "output_type": "stream",
     "text": [
      "\n",
      "{'data': ['{\"name\": \"sdgs\", \"children\": [{\"name\": \"SDG 9\", \"n_occurrences\": 4, \"children\": [{\"n_occurrences\": 4, \"name\": \"Target 9.5\"}]}], \"api version\": \"v1\"}']}\n",
      "\n",
      " sfs-2022-852\n",
      "\tjson url: http://data.riksdagen.se/dokument/sfs-2022-852.json\n",
      "\tdoc url: https://www.riksdagen.se/sv/dokument-lagar/dokument/_sfs-2022-852\n",
      "\t "
     ]
    },
    {
     "data": {
      "text/html": [
       "<a href=https://www.riksdagen.se/sv/dokument-lagar/dokument/_sfs-2022-852/></a>"
      ],
      "text/plain": [
       "<IPython.core.display.HTML object>"
      ]
     },
     "metadata": {},
     "output_type": "display_data"
    },
    {
     "name": "stdout",
     "output_type": "stream",
     "text": [
      "\n",
      "{'data': ['{\"name\": \"sdgs\", \"children\": [], \"api version\": \"v1\"}']}\n",
      "\n",
      " sfs-2022-850\n",
      "\tjson url: http://data.riksdagen.se/dokument/sfs-2022-850.json\n",
      "\tdoc url: https://www.riksdagen.se/sv/dokument-lagar/dokument/_sfs-2022-850\n",
      "\t "
     ]
    },
    {
     "data": {
      "text/html": [
       "<a href=https://www.riksdagen.se/sv/dokument-lagar/dokument/_sfs-2022-850/></a>"
      ],
      "text/plain": [
       "<IPython.core.display.HTML object>"
      ]
     },
     "metadata": {},
     "output_type": "display_data"
    },
    {
     "name": "stdout",
     "output_type": "stream",
     "text": [
      "\n",
      "{'data': ['{\"name\": \"sdgs\", \"children\": [], \"api version\": \"v1\"}']}\n",
      "\n",
      " sfs-2022-818\n",
      "\tjson url: http://data.riksdagen.se/dokument/sfs-2022-818.json\n",
      "\tdoc url: https://www.riksdagen.se/sv/dokument-lagar/dokument/_sfs-2022-818\n",
      "\t "
     ]
    },
    {
     "data": {
      "text/html": [
       "<a href=https://www.riksdagen.se/sv/dokument-lagar/dokument/_sfs-2022-818/></a>"
      ],
      "text/plain": [
       "<IPython.core.display.HTML object>"
      ]
     },
     "metadata": {},
     "output_type": "display_data"
    },
    {
     "name": "stdout",
     "output_type": "stream",
     "text": [
      "\n",
      "{'data': ['{\"name\": \"sdgs\", \"children\": [], \"api version\": \"v1\"}']}\n",
      "\n",
      " sfs-2022-903\n",
      "\tjson url: http://data.riksdagen.se/dokument/sfs-2022-903.json\n",
      "\tdoc url: https://www.riksdagen.se/sv/dokument-lagar/dokument/_sfs-2022-903\n",
      "\t "
     ]
    },
    {
     "data": {
      "text/html": [
       "<a href=https://www.riksdagen.se/sv/dokument-lagar/dokument/_sfs-2022-903/></a>"
      ],
      "text/plain": [
       "<IPython.core.display.HTML object>"
      ]
     },
     "metadata": {},
     "output_type": "display_data"
    },
    {
     "name": "stdout",
     "output_type": "stream",
     "text": [
      "\n",
      "{'data': ['{\"name\": \"sdgs\", \"children\": [], \"api version\": \"v1\"}']}\n",
      "\n",
      " sfs-2022-900\n",
      "\tjson url: http://data.riksdagen.se/dokument/sfs-2022-900.json\n",
      "\tdoc url: https://www.riksdagen.se/sv/dokument-lagar/dokument/_sfs-2022-900\n",
      "\t "
     ]
    },
    {
     "data": {
      "text/html": [
       "<a href=https://www.riksdagen.se/sv/dokument-lagar/dokument/_sfs-2022-900/></a>"
      ],
      "text/plain": [
       "<IPython.core.display.HTML object>"
      ]
     },
     "metadata": {},
     "output_type": "display_data"
    },
    {
     "name": "stdout",
     "output_type": "stream",
     "text": [
      "\n",
      "{'data': ['{\"name\": \"sdgs\", \"children\": [], \"api version\": \"v1\"}']}\n",
      "\n",
      " sfs-2022-798\n",
      "\tjson url: http://data.riksdagen.se/dokument/sfs-2022-798.json\n",
      "\tdoc url: https://www.riksdagen.se/sv/dokument-lagar/dokument/_sfs-2022-798\n",
      "\t "
     ]
    },
    {
     "data": {
      "text/html": [
       "<a href=https://www.riksdagen.se/sv/dokument-lagar/dokument/_sfs-2022-798/></a>"
      ],
      "text/plain": [
       "<IPython.core.display.HTML object>"
      ]
     },
     "metadata": {},
     "output_type": "display_data"
    },
    {
     "name": "stdout",
     "output_type": "stream",
     "text": [
      "\n",
      "{'data': ['{\"name\": \"sdgs\", \"children\": [{\"name\": \"SDG 9\", \"n_occurrences\": 2, \"children\": [{\"n_occurrences\": 2, \"name\": \"Target 9.5\"}]}], \"api version\": \"v1\"}']}\n",
      "\n",
      " sfs-2022-795\n",
      "\tjson url: http://data.riksdagen.se/dokument/sfs-2022-795.json\n",
      "\tdoc url: https://www.riksdagen.se/sv/dokument-lagar/dokument/_sfs-2022-795\n",
      "\t "
     ]
    },
    {
     "data": {
      "text/html": [
       "<a href=https://www.riksdagen.se/sv/dokument-lagar/dokument/_sfs-2022-795/></a>"
      ],
      "text/plain": [
       "<IPython.core.display.HTML object>"
      ]
     },
     "metadata": {},
     "output_type": "display_data"
    },
    {
     "name": "stdout",
     "output_type": "stream",
     "text": [
      "\n",
      "{'data': ['{\"name\": \"sdgs\", \"children\": [], \"api version\": \"v1\"}']}\n",
      "\n",
      " sfs-2022-812\n",
      "\tjson url: http://data.riksdagen.se/dokument/sfs-2022-812.json\n",
      "\tdoc url: https://www.riksdagen.se/sv/dokument-lagar/dokument/_sfs-2022-812\n",
      "\t "
     ]
    },
    {
     "data": {
      "text/html": [
       "<a href=https://www.riksdagen.se/sv/dokument-lagar/dokument/_sfs-2022-812/></a>"
      ],
      "text/plain": [
       "<IPython.core.display.HTML object>"
      ]
     },
     "metadata": {},
     "output_type": "display_data"
    },
    {
     "name": "stdout",
     "output_type": "stream",
     "text": [
      "\n",
      "{'data': ['{\"name\": \"sdgs\", \"children\": [], \"api version\": \"v1\"}']}\n",
      "\n",
      " sfs-2022-811\n",
      "\tjson url: http://data.riksdagen.se/dokument/sfs-2022-811.json\n",
      "\tdoc url: https://www.riksdagen.se/sv/dokument-lagar/dokument/_sfs-2022-811\n",
      "\t "
     ]
    },
    {
     "data": {
      "text/html": [
       "<a href=https://www.riksdagen.se/sv/dokument-lagar/dokument/_sfs-2022-811/></a>"
      ],
      "text/plain": [
       "<IPython.core.display.HTML object>"
      ]
     },
     "metadata": {},
     "output_type": "display_data"
    },
    {
     "name": "stdout",
     "output_type": "stream",
     "text": [
      "\n",
      "{'data': ['{\"name\": \"sdgs\", \"children\": [], \"api version\": \"v1\"}']}\n",
      "\n",
      " sfs-2022-807\n",
      "\tjson url: http://data.riksdagen.se/dokument/sfs-2022-807.json\n",
      "\tdoc url: https://www.riksdagen.se/sv/dokument-lagar/dokument/_sfs-2022-807\n",
      "\t "
     ]
    },
    {
     "data": {
      "text/html": [
       "<a href=https://www.riksdagen.se/sv/dokument-lagar/dokument/_sfs-2022-807/></a>"
      ],
      "text/plain": [
       "<IPython.core.display.HTML object>"
      ]
     },
     "metadata": {},
     "output_type": "display_data"
    },
    {
     "name": "stdout",
     "output_type": "stream",
     "text": [
      "\n",
      "{'data': ['{\"name\": \"sdgs\", \"children\": [{\"name\": \"SDG 9\", \"n_occurrences\": 1, \"children\": [{\"n_occurrences\": 1, \"name\": \"Target 9.5\"}]}], \"api version\": \"v1\"}']}\n",
      "\n",
      " sfs-2022-733\n",
      "\tjson url: http://data.riksdagen.se/dokument/sfs-2022-733.json\n",
      "\tdoc url: https://www.riksdagen.se/sv/dokument-lagar/dokument/_sfs-2022-733\n",
      "\t "
     ]
    },
    {
     "data": {
      "text/html": [
       "<a href=https://www.riksdagen.se/sv/dokument-lagar/dokument/_sfs-2022-733/></a>"
      ],
      "text/plain": [
       "<IPython.core.display.HTML object>"
      ]
     },
     "metadata": {},
     "output_type": "display_data"
    },
    {
     "name": "stdout",
     "output_type": "stream",
     "text": [
      "\n",
      "{'data': ['{\"name\": \"sdgs\", \"children\": [], \"api version\": \"v1\"}']}\n",
      "\n",
      " sfs-2022-725\n",
      "\tjson url: http://data.riksdagen.se/dokument/sfs-2022-725.json\n",
      "\tdoc url: https://www.riksdagen.se/sv/dokument-lagar/dokument/_sfs-2022-725\n",
      "\t "
     ]
    },
    {
     "data": {
      "text/html": [
       "<a href=https://www.riksdagen.se/sv/dokument-lagar/dokument/_sfs-2022-725/></a>"
      ],
      "text/plain": [
       "<IPython.core.display.HTML object>"
      ]
     },
     "metadata": {},
     "output_type": "display_data"
    },
    {
     "name": "stdout",
     "output_type": "stream",
     "text": [
      "\n",
      "{'data': ['{\"name\": \"sdgs\", \"children\": [], \"api version\": \"v1\"}']}\n",
      "\n",
      " sfs-2022-722\n",
      "\tjson url: http://data.riksdagen.se/dokument/sfs-2022-722.json\n",
      "\tdoc url: https://www.riksdagen.se/sv/dokument-lagar/dokument/_sfs-2022-722\n",
      "\t "
     ]
    },
    {
     "data": {
      "text/html": [
       "<a href=https://www.riksdagen.se/sv/dokument-lagar/dokument/_sfs-2022-722/></a>"
      ],
      "text/plain": [
       "<IPython.core.display.HTML object>"
      ]
     },
     "metadata": {},
     "output_type": "display_data"
    },
    {
     "name": "stdout",
     "output_type": "stream",
     "text": [
      "\n",
      "{'data': ['{\"name\": \"sdgs\", \"children\": [], \"api version\": \"v1\"}']}\n",
      "\n",
      " sfs-2022-782\n",
      "\tjson url: http://data.riksdagen.se/dokument/sfs-2022-782.json\n",
      "\tdoc url: https://www.riksdagen.se/sv/dokument-lagar/dokument/_sfs-2022-782\n",
      "\t "
     ]
    },
    {
     "data": {
      "text/html": [
       "<a href=https://www.riksdagen.se/sv/dokument-lagar/dokument/_sfs-2022-782/></a>"
      ],
      "text/plain": [
       "<IPython.core.display.HTML object>"
      ]
     },
     "metadata": {},
     "output_type": "display_data"
    },
    {
     "name": "stdout",
     "output_type": "stream",
     "text": [
      "\n",
      "{'data': ['{\"name\": \"sdgs\", \"children\": [], \"api version\": \"v1\"}']}\n",
      "\n",
      " sfs-2022-764\n",
      "\tjson url: http://data.riksdagen.se/dokument/sfs-2022-764.json\n",
      "\tdoc url: https://www.riksdagen.se/sv/dokument-lagar/dokument/_sfs-2022-764\n",
      "\t "
     ]
    },
    {
     "data": {
      "text/html": [
       "<a href=https://www.riksdagen.se/sv/dokument-lagar/dokument/_sfs-2022-764/></a>"
      ],
      "text/plain": [
       "<IPython.core.display.HTML object>"
      ]
     },
     "metadata": {},
     "output_type": "display_data"
    },
    {
     "name": "stdout",
     "output_type": "stream",
     "text": [
      "\n",
      "{'data': ['{\"name\": \"sdgs\", \"children\": [], \"api version\": \"v1\"}']}\n",
      "\n",
      " sfs-2022-760\n",
      "\tjson url: http://data.riksdagen.se/dokument/sfs-2022-760.json\n",
      "\tdoc url: https://www.riksdagen.se/sv/dokument-lagar/dokument/_sfs-2022-760\n",
      "\t "
     ]
    },
    {
     "data": {
      "text/html": [
       "<a href=https://www.riksdagen.se/sv/dokument-lagar/dokument/_sfs-2022-760/></a>"
      ],
      "text/plain": [
       "<IPython.core.display.HTML object>"
      ]
     },
     "metadata": {},
     "output_type": "display_data"
    },
    {
     "name": "stdout",
     "output_type": "stream",
     "text": [
      "\n",
      "{'data': ['{\"name\": \"sdgs\", \"children\": [], \"api version\": \"v1\"}']}\n",
      "\n",
      " sfs-2022-759\n",
      "\tjson url: http://data.riksdagen.se/dokument/sfs-2022-759.json\n",
      "\tdoc url: https://www.riksdagen.se/sv/dokument-lagar/dokument/_sfs-2022-759\n",
      "\t "
     ]
    },
    {
     "data": {
      "text/html": [
       "<a href=https://www.riksdagen.se/sv/dokument-lagar/dokument/_sfs-2022-759/></a>"
      ],
      "text/plain": [
       "<IPython.core.display.HTML object>"
      ]
     },
     "metadata": {},
     "output_type": "display_data"
    },
    {
     "name": "stdout",
     "output_type": "stream",
     "text": [
      "\n",
      "{'data': ['{\"name\": \"sdgs\", \"children\": [], \"api version\": \"v1\"}']}\n",
      "\n",
      " sfs-2022-747\n",
      "\tjson url: http://data.riksdagen.se/dokument/sfs-2022-747.json\n",
      "\tdoc url: https://www.riksdagen.se/sv/dokument-lagar/dokument/_sfs-2022-747\n",
      "\t "
     ]
    },
    {
     "data": {
      "text/html": [
       "<a href=https://www.riksdagen.se/sv/dokument-lagar/dokument/_sfs-2022-747/></a>"
      ],
      "text/plain": [
       "<IPython.core.display.HTML object>"
      ]
     },
     "metadata": {},
     "output_type": "display_data"
    },
    {
     "name": "stdout",
     "output_type": "stream",
     "text": [
      "\n",
      "{'data': ['{\"name\": \"sdgs\", \"children\": [{\"name\": \"SDG 9\", \"n_occurrences\": 2, \"children\": [{\"n_occurrences\": 2, \"name\": \"Target 9.5\"}]}], \"api version\": \"v1\"}']}\n",
      "\n",
      " sfs-2022-760\n",
      "\tjson url: http://data.riksdagen.se/dokument/sfs-2022-760.json\n",
      "\tdoc url: https://www.riksdagen.se/sv/dokument-lagar/dokument/_sfs-2022-760\n",
      "\t "
     ]
    },
    {
     "data": {
      "text/html": [
       "<a href=https://www.riksdagen.se/sv/dokument-lagar/dokument/_sfs-2022-760/></a>"
      ],
      "text/plain": [
       "<IPython.core.display.HTML object>"
      ]
     },
     "metadata": {},
     "output_type": "display_data"
    },
    {
     "name": "stdout",
     "output_type": "stream",
     "text": [
      "\n",
      "{'data': ['{\"name\": \"sdgs\", \"children\": [], \"api version\": \"v1\"}']}\n",
      "\n",
      " sfs-2022-759\n",
      "\tjson url: http://data.riksdagen.se/dokument/sfs-2022-759.json\n",
      "\tdoc url: https://www.riksdagen.se/sv/dokument-lagar/dokument/_sfs-2022-759\n",
      "\t "
     ]
    },
    {
     "data": {
      "text/html": [
       "<a href=https://www.riksdagen.se/sv/dokument-lagar/dokument/_sfs-2022-759/></a>"
      ],
      "text/plain": [
       "<IPython.core.display.HTML object>"
      ]
     },
     "metadata": {},
     "output_type": "display_data"
    },
    {
     "name": "stdout",
     "output_type": "stream",
     "text": [
      "\n",
      "{'data': ['{\"name\": \"sdgs\", \"children\": [], \"api version\": \"v1\"}']}\n",
      "\n",
      " sfs-2022-747\n",
      "\tjson url: http://data.riksdagen.se/dokument/sfs-2022-747.json\n",
      "\tdoc url: https://www.riksdagen.se/sv/dokument-lagar/dokument/_sfs-2022-747\n",
      "\t "
     ]
    },
    {
     "data": {
      "text/html": [
       "<a href=https://www.riksdagen.se/sv/dokument-lagar/dokument/_sfs-2022-747/></a>"
      ],
      "text/plain": [
       "<IPython.core.display.HTML object>"
      ]
     },
     "metadata": {},
     "output_type": "display_data"
    },
    {
     "name": "stdout",
     "output_type": "stream",
     "text": [
      "\n",
      "{'data': ['{\"name\": \"sdgs\", \"children\": [{\"name\": \"SDG 9\", \"n_occurrences\": 2, \"children\": [{\"n_occurrences\": 2, \"name\": \"Target 9.5\"}]}], \"api version\": \"v1\"}']}\n",
      "\n",
      " sfs-2022-739\n",
      "\tjson url: http://data.riksdagen.se/dokument/sfs-2022-739.json\n",
      "\tdoc url: https://www.riksdagen.se/sv/dokument-lagar/dokument/_sfs-2022-739\n",
      "\t "
     ]
    },
    {
     "data": {
      "text/html": [
       "<a href=https://www.riksdagen.se/sv/dokument-lagar/dokument/_sfs-2022-739/></a>"
      ],
      "text/plain": [
       "<IPython.core.display.HTML object>"
      ]
     },
     "metadata": {},
     "output_type": "display_data"
    },
    {
     "name": "stdout",
     "output_type": "stream",
     "text": [
      "\n",
      "{'data': ['{\"name\": \"sdgs\", \"children\": [{\"name\": \"SDG 9\", \"n_occurrences\": 2, \"children\": [{\"n_occurrences\": 2, \"name\": \"Target 9.5\"}]}], \"api version\": \"v1\"}']}\n",
      "\n",
      " sfs-2022-585\n",
      "\tjson url: http://data.riksdagen.se/dokument/sfs-2022-585.json\n",
      "\tdoc url: https://www.riksdagen.se/sv/dokument-lagar/dokument/_sfs-2022-585\n",
      "\t "
     ]
    },
    {
     "data": {
      "text/html": [
       "<a href=https://www.riksdagen.se/sv/dokument-lagar/dokument/_sfs-2022-585/></a>"
      ],
      "text/plain": [
       "<IPython.core.display.HTML object>"
      ]
     },
     "metadata": {},
     "output_type": "display_data"
    },
    {
     "name": "stdout",
     "output_type": "stream",
     "text": [
      "\n",
      "{'data': ['{\"name\": \"sdgs\", \"children\": [], \"api version\": \"v1\"}']}\n",
      "\n",
      " sfs-2022-593\n",
      "\tjson url: http://data.riksdagen.se/dokument/sfs-2022-593.json\n",
      "\tdoc url: https://www.riksdagen.se/sv/dokument-lagar/dokument/_sfs-2022-593\n",
      "\t "
     ]
    },
    {
     "data": {
      "text/html": [
       "<a href=https://www.riksdagen.se/sv/dokument-lagar/dokument/_sfs-2022-593/></a>"
      ],
      "text/plain": [
       "<IPython.core.display.HTML object>"
      ]
     },
     "metadata": {},
     "output_type": "display_data"
    },
    {
     "name": "stdout",
     "output_type": "stream",
     "text": [
      "\n",
      "{'data': ['{\"name\": \"sdgs\", \"children\": [], \"api version\": \"v1\"}']}\n",
      "\n",
      " sfs-2022-629\n",
      "\tjson url: http://data.riksdagen.se/dokument/sfs-2022-629.json\n",
      "\tdoc url: https://www.riksdagen.se/sv/dokument-lagar/dokument/_sfs-2022-629\n",
      "\t "
     ]
    },
    {
     "data": {
      "text/html": [
       "<a href=https://www.riksdagen.se/sv/dokument-lagar/dokument/_sfs-2022-629/></a>"
      ],
      "text/plain": [
       "<IPython.core.display.HTML object>"
      ]
     },
     "metadata": {},
     "output_type": "display_data"
    },
    {
     "name": "stdout",
     "output_type": "stream",
     "text": [
      "\n",
      "{'data': ['{\"name\": \"sdgs\", \"children\": [], \"api version\": \"v1\"}']}\n",
      "\n",
      " sfs-2022-625\n",
      "\tjson url: http://data.riksdagen.se/dokument/sfs-2022-625.json\n",
      "\tdoc url: https://www.riksdagen.se/sv/dokument-lagar/dokument/_sfs-2022-625\n",
      "\t "
     ]
    },
    {
     "data": {
      "text/html": [
       "<a href=https://www.riksdagen.se/sv/dokument-lagar/dokument/_sfs-2022-625/></a>"
      ],
      "text/plain": [
       "<IPython.core.display.HTML object>"
      ]
     },
     "metadata": {},
     "output_type": "display_data"
    },
    {
     "name": "stdout",
     "output_type": "stream",
     "text": [
      "\n",
      "{'data': ['{\"name\": \"sdgs\", \"children\": [], \"api version\": \"v1\"}']}\n",
      "\n",
      " sfs-2022-620\n",
      "\tjson url: http://data.riksdagen.se/dokument/sfs-2022-620.json\n",
      "\tdoc url: https://www.riksdagen.se/sv/dokument-lagar/dokument/_sfs-2022-620\n",
      "\t "
     ]
    },
    {
     "data": {
      "text/html": [
       "<a href=https://www.riksdagen.se/sv/dokument-lagar/dokument/_sfs-2022-620/></a>"
      ],
      "text/plain": [
       "<IPython.core.display.HTML object>"
      ]
     },
     "metadata": {},
     "output_type": "display_data"
    },
    {
     "name": "stdout",
     "output_type": "stream",
     "text": [
      "\n",
      "{'data': ['{\"name\": \"sdgs\", \"children\": [], \"api version\": \"v1\"}']}\n",
      "\n",
      " sfs-2022-613\n",
      "\tjson url: http://data.riksdagen.se/dokument/sfs-2022-613.json\n",
      "\tdoc url: https://www.riksdagen.se/sv/dokument-lagar/dokument/_sfs-2022-613\n",
      "\t "
     ]
    },
    {
     "data": {
      "text/html": [
       "<a href=https://www.riksdagen.se/sv/dokument-lagar/dokument/_sfs-2022-613/></a>"
      ],
      "text/plain": [
       "<IPython.core.display.HTML object>"
      ]
     },
     "metadata": {},
     "output_type": "display_data"
    },
    {
     "name": "stdout",
     "output_type": "stream",
     "text": [
      "\n",
      "{'data': ['{\"name\": \"sdgs\", \"children\": [], \"api version\": \"v1\"}']}\n",
      "\n",
      " sfs-2022-658\n",
      "\tjson url: http://data.riksdagen.se/dokument/sfs-2022-658.json\n",
      "\tdoc url: https://www.riksdagen.se/sv/dokument-lagar/dokument/_sfs-2022-658\n",
      "\t "
     ]
    },
    {
     "data": {
      "text/html": [
       "<a href=https://www.riksdagen.se/sv/dokument-lagar/dokument/_sfs-2022-658/></a>"
      ],
      "text/plain": [
       "<IPython.core.display.HTML object>"
      ]
     },
     "metadata": {},
     "output_type": "display_data"
    },
    {
     "name": "stdout",
     "output_type": "stream",
     "text": [
      "\n",
      "{'data': ['{\"name\": \"sdgs\", \"children\": [], \"api version\": \"v1\"}']}\n",
      "\n",
      " sfs-2022-440\n",
      "\tjson url: http://data.riksdagen.se/dokument/sfs-2022-440.json\n",
      "\tdoc url: https://www.riksdagen.se/sv/dokument-lagar/dokument/_sfs-2022-440\n",
      "\t "
     ]
    },
    {
     "data": {
      "text/html": [
       "<a href=https://www.riksdagen.se/sv/dokument-lagar/dokument/_sfs-2022-440/></a>"
      ],
      "text/plain": [
       "<IPython.core.display.HTML object>"
      ]
     },
     "metadata": {},
     "output_type": "display_data"
    },
    {
     "name": "stdout",
     "output_type": "stream",
     "text": [
      "\n",
      "{'data': ['{\"name\": \"sdgs\", \"children\": [], \"api version\": \"v1\"}']}\n",
      "\n",
      " sfs-2022-525\n",
      "\tjson url: http://data.riksdagen.se/dokument/sfs-2022-525.json\n",
      "\tdoc url: https://www.riksdagen.se/sv/dokument-lagar/dokument/_sfs-2022-525\n",
      "\t "
     ]
    },
    {
     "data": {
      "text/html": [
       "<a href=https://www.riksdagen.se/sv/dokument-lagar/dokument/_sfs-2022-525/></a>"
      ],
      "text/plain": [
       "<IPython.core.display.HTML object>"
      ]
     },
     "metadata": {},
     "output_type": "display_data"
    },
    {
     "name": "stdout",
     "output_type": "stream",
     "text": [
      "\n",
      "{'data': ['{\"name\": \"sdgs\", \"children\": [], \"api version\": \"v1\"}']}\n",
      "\n",
      " sfs-2022-524\n",
      "\tjson url: http://data.riksdagen.se/dokument/sfs-2022-524.json\n",
      "\tdoc url: https://www.riksdagen.se/sv/dokument-lagar/dokument/_sfs-2022-524\n",
      "\t "
     ]
    },
    {
     "data": {
      "text/html": [
       "<a href=https://www.riksdagen.se/sv/dokument-lagar/dokument/_sfs-2022-524/></a>"
      ],
      "text/plain": [
       "<IPython.core.display.HTML object>"
      ]
     },
     "metadata": {},
     "output_type": "display_data"
    },
    {
     "name": "stdout",
     "output_type": "stream",
     "text": [
      "\n",
      "{'data': ['{\"name\": \"sdgs\", \"children\": [{\"name\": \"SDG 9\", \"n_occurrences\": 3, \"children\": [{\"n_occurrences\": 1, \"name\": \"Target 9.5\"}, {\"n_occurrences\": 2, \"name\": \"SDG 9_undetected_target\"}]}], \"api version\": \"v1\"}']}\n",
      "\n",
      " sfs-2022-511\n",
      "\tjson url: http://data.riksdagen.se/dokument/sfs-2022-511.json\n",
      "\tdoc url: https://www.riksdagen.se/sv/dokument-lagar/dokument/_sfs-2022-511\n",
      "\t "
     ]
    },
    {
     "data": {
      "text/html": [
       "<a href=https://www.riksdagen.se/sv/dokument-lagar/dokument/_sfs-2022-511/></a>"
      ],
      "text/plain": [
       "<IPython.core.display.HTML object>"
      ]
     },
     "metadata": {},
     "output_type": "display_data"
    },
    {
     "name": "stdout",
     "output_type": "stream",
     "text": [
      "\n",
      "{'data': ['{\"name\": \"sdgs\", \"children\": [{\"name\": \"SDG 9\", \"n_occurrences\": 3, \"children\": [{\"n_occurrences\": 3, \"name\": \"Target 9.5\"}]}], \"api version\": \"v1\"}']}\n",
      "\n",
      " sfs-2022-469\n",
      "\tjson url: http://data.riksdagen.se/dokument/sfs-2022-469.json\n",
      "\tdoc url: https://www.riksdagen.se/sv/dokument-lagar/dokument/_sfs-2022-469\n",
      "\t "
     ]
    },
    {
     "data": {
      "text/html": [
       "<a href=https://www.riksdagen.se/sv/dokument-lagar/dokument/_sfs-2022-469/></a>"
      ],
      "text/plain": [
       "<IPython.core.display.HTML object>"
      ]
     },
     "metadata": {},
     "output_type": "display_data"
    },
    {
     "name": "stdout",
     "output_type": "stream",
     "text": [
      "\n",
      "{'data': ['{\"name\": \"sdgs\", \"children\": [{\"name\": \"SDG 9\", \"n_occurrences\": 2, \"children\": [{\"n_occurrences\": 2, \"name\": \"Target 9.5\"}]}], \"api version\": \"v1\"}']}\n",
      "\n",
      " sfs-2022-461\n",
      "\tjson url: http://data.riksdagen.se/dokument/sfs-2022-461.json\n",
      "\tdoc url: https://www.riksdagen.se/sv/dokument-lagar/dokument/_sfs-2022-461\n",
      "\t "
     ]
    },
    {
     "data": {
      "text/html": [
       "<a href=https://www.riksdagen.se/sv/dokument-lagar/dokument/_sfs-2022-461/></a>"
      ],
      "text/plain": [
       "<IPython.core.display.HTML object>"
      ]
     },
     "metadata": {},
     "output_type": "display_data"
    },
    {
     "name": "stdout",
     "output_type": "stream",
     "text": [
      "\n",
      "{'data': ['{\"name\": \"sdgs\", \"children\": [{\"name\": \"SDG 9\", \"n_occurrences\": 2, \"children\": [{\"n_occurrences\": 2, \"name\": \"SDG 9_undetected_target\"}]}], \"api version\": \"v1\"}']}\n",
      "\n",
      " sfs-2022-459\n",
      "\tjson url: http://data.riksdagen.se/dokument/sfs-2022-459.json\n",
      "\tdoc url: https://www.riksdagen.se/sv/dokument-lagar/dokument/_sfs-2022-459\n",
      "\t "
     ]
    },
    {
     "data": {
      "text/html": [
       "<a href=https://www.riksdagen.se/sv/dokument-lagar/dokument/_sfs-2022-459/></a>"
      ],
      "text/plain": [
       "<IPython.core.display.HTML object>"
      ]
     },
     "metadata": {},
     "output_type": "display_data"
    },
    {
     "name": "stdout",
     "output_type": "stream",
     "text": [
      "\n",
      "{'data': ['{\"name\": \"sdgs\", \"children\": [{\"name\": \"SDG 9\", \"n_occurrences\": 3, \"children\": [{\"n_occurrences\": 3, \"name\": \"SDG 9_undetected_target\"}]}], \"api version\": \"v1\"}']}\n",
      "\n",
      " sfs-2022-483\n",
      "\tjson url: http://data.riksdagen.se/dokument/sfs-2022-483.json\n",
      "\tdoc url: https://www.riksdagen.se/sv/dokument-lagar/dokument/_sfs-2022-483\n",
      "\t "
     ]
    },
    {
     "data": {
      "text/html": [
       "<a href=https://www.riksdagen.se/sv/dokument-lagar/dokument/_sfs-2022-483/></a>"
      ],
      "text/plain": [
       "<IPython.core.display.HTML object>"
      ]
     },
     "metadata": {},
     "output_type": "display_data"
    },
    {
     "name": "stdout",
     "output_type": "stream",
     "text": [
      "\n",
      "{'data': ['{\"name\": \"sdgs\", \"children\": [], \"api version\": \"v1\"}']}\n",
      "\n",
      " sfs-2022-482\n",
      "\tjson url: http://data.riksdagen.se/dokument/sfs-2022-482.json\n",
      "\tdoc url: https://www.riksdagen.se/sv/dokument-lagar/dokument/_sfs-2022-482\n",
      "\t "
     ]
    },
    {
     "data": {
      "text/html": [
       "<a href=https://www.riksdagen.se/sv/dokument-lagar/dokument/_sfs-2022-482/></a>"
      ],
      "text/plain": [
       "<IPython.core.display.HTML object>"
      ]
     },
     "metadata": {},
     "output_type": "display_data"
    },
    {
     "name": "stdout",
     "output_type": "stream",
     "text": [
      "\n",
      "{'data': []}\n",
      "\n",
      " sfs-2022-419\n",
      "\tjson url: http://data.riksdagen.se/dokument/sfs-2022-419.json\n",
      "\tdoc url: https://www.riksdagen.se/sv/dokument-lagar/dokument/_sfs-2022-419\n",
      "\t "
     ]
    },
    {
     "data": {
      "text/html": [
       "<a href=https://www.riksdagen.se/sv/dokument-lagar/dokument/_sfs-2022-419/></a>"
      ],
      "text/plain": [
       "<IPython.core.display.HTML object>"
      ]
     },
     "metadata": {},
     "output_type": "display_data"
    },
    {
     "name": "stdout",
     "output_type": "stream",
     "text": [
      "\n",
      "{'data': ['{\"name\": \"sdgs\", \"children\": [{\"name\": \"SDG 9\", \"n_occurrences\": 1, \"children\": [{\"n_occurrences\": 1, \"name\": \"Target 9.5\"}]}], \"api version\": \"v1\"}']}\n",
      "\n",
      " sfs-2022-418\n",
      "\tjson url: http://data.riksdagen.se/dokument/sfs-2022-418.json\n",
      "\tdoc url: https://www.riksdagen.se/sv/dokument-lagar/dokument/_sfs-2022-418\n",
      "\t "
     ]
    },
    {
     "data": {
      "text/html": [
       "<a href=https://www.riksdagen.se/sv/dokument-lagar/dokument/_sfs-2022-418/></a>"
      ],
      "text/plain": [
       "<IPython.core.display.HTML object>"
      ]
     },
     "metadata": {},
     "output_type": "display_data"
    },
    {
     "name": "stdout",
     "output_type": "stream",
     "text": [
      "\n",
      "{'data': ['{\"name\": \"sdgs\", \"children\": [{\"name\": \"SDG 9\", \"n_occurrences\": 5, \"children\": [{\"n_occurrences\": 5, \"name\": \"Target 9.5\"}]}], \"api version\": \"v1\"}']}\n",
      "\n",
      " sfs-2022-417\n",
      "\tjson url: http://data.riksdagen.se/dokument/sfs-2022-417.json\n",
      "\tdoc url: https://www.riksdagen.se/sv/dokument-lagar/dokument/_sfs-2022-417\n",
      "\t "
     ]
    },
    {
     "data": {
      "text/html": [
       "<a href=https://www.riksdagen.se/sv/dokument-lagar/dokument/_sfs-2022-417/></a>"
      ],
      "text/plain": [
       "<IPython.core.display.HTML object>"
      ]
     },
     "metadata": {},
     "output_type": "display_data"
    },
    {
     "name": "stdout",
     "output_type": "stream",
     "text": [
      "\n",
      "{'data': ['{\"name\": \"sdgs\", \"children\": [{\"name\": \"SDG 1\", \"n_occurrences\": 1, \"children\": [{\"n_occurrences\": 1, \"name\": \"Target 1.4\"}]}, {\"name\": \"SDG 3\", \"n_occurrences\": 1, \"children\": [{\"n_occurrences\": 1, \"name\": \"Target 3.d\"}]}, {\"name\": \"SDG 8\", \"n_occurrences\": 1, \"children\": [{\"n_occurrences\": 1, \"name\": \"Target 8.8\"}]}, {\"name\": \"SDG 9\", \"n_occurrences\": 11, \"children\": [{\"n_occurrences\": 11, \"name\": \"Target 9.5\"}]}], \"api version\": \"v1\"}']}\n",
      "\n",
      " sfs-2022-416\n",
      "\tjson url: http://data.riksdagen.se/dokument/sfs-2022-416.json\n",
      "\tdoc url: https://www.riksdagen.se/sv/dokument-lagar/dokument/_sfs-2022-416\n",
      "\t "
     ]
    },
    {
     "data": {
      "text/html": [
       "<a href=https://www.riksdagen.se/sv/dokument-lagar/dokument/_sfs-2022-416/></a>"
      ],
      "text/plain": [
       "<IPython.core.display.HTML object>"
      ]
     },
     "metadata": {},
     "output_type": "display_data"
    },
    {
     "name": "stdout",
     "output_type": "stream",
     "text": [
      "\n",
      "{'data': ['{\"name\": \"sdgs\", \"children\": [], \"api version\": \"v1\"}']}\n",
      "\n",
      " sfs-2022-389\n",
      "\tjson url: http://data.riksdagen.se/dokument/sfs-2022-389.json\n",
      "\tdoc url: https://www.riksdagen.se/sv/dokument-lagar/dokument/_sfs-2022-389\n",
      "\t "
     ]
    },
    {
     "data": {
      "text/html": [
       "<a href=https://www.riksdagen.se/sv/dokument-lagar/dokument/_sfs-2022-389/></a>"
      ],
      "text/plain": [
       "<IPython.core.display.HTML object>"
      ]
     },
     "metadata": {},
     "output_type": "display_data"
    },
    {
     "name": "stdout",
     "output_type": "stream",
     "text": [
      "\n",
      "{'data': ['{\"name\": \"sdgs\", \"children\": [{\"name\": \"SDG 9\", \"n_occurrences\": 1, \"children\": [{\"n_occurrences\": 1, \"name\": \"Target 9.5\"}]}], \"api version\": \"v1\"}']}\n",
      "\n",
      " sfs-2022-354\n",
      "\tjson url: http://data.riksdagen.se/dokument/sfs-2022-354.json\n",
      "\tdoc url: https://www.riksdagen.se/sv/dokument-lagar/dokument/_sfs-2022-354\n",
      "\t "
     ]
    },
    {
     "data": {
      "text/html": [
       "<a href=https://www.riksdagen.se/sv/dokument-lagar/dokument/_sfs-2022-354/></a>"
      ],
      "text/plain": [
       "<IPython.core.display.HTML object>"
      ]
     },
     "metadata": {},
     "output_type": "display_data"
    },
    {
     "name": "stdout",
     "output_type": "stream",
     "text": [
      "\n",
      "{'data': ['{\"name\": \"sdgs\", \"children\": [], \"api version\": \"v1\"}']}\n",
      "\n",
      " sfs-2022-365\n",
      "\tjson url: http://data.riksdagen.se/dokument/sfs-2022-365.json\n",
      "\tdoc url: https://www.riksdagen.se/sv/dokument-lagar/dokument/_sfs-2022-365\n",
      "\t "
     ]
    },
    {
     "data": {
      "text/html": [
       "<a href=https://www.riksdagen.se/sv/dokument-lagar/dokument/_sfs-2022-365/></a>"
      ],
      "text/plain": [
       "<IPython.core.display.HTML object>"
      ]
     },
     "metadata": {},
     "output_type": "display_data"
    },
    {
     "name": "stdout",
     "output_type": "stream",
     "text": [
      "\n",
      "{'data': ['{\"name\": \"sdgs\", \"children\": [], \"api version\": \"v1\"}']}\n",
      "\n",
      " sfs-2022-368\n",
      "\tjson url: http://data.riksdagen.se/dokument/sfs-2022-368.json\n",
      "\tdoc url: https://www.riksdagen.se/sv/dokument-lagar/dokument/_sfs-2022-368\n",
      "\t "
     ]
    },
    {
     "data": {
      "text/html": [
       "<a href=https://www.riksdagen.se/sv/dokument-lagar/dokument/_sfs-2022-368/></a>"
      ],
      "text/plain": [
       "<IPython.core.display.HTML object>"
      ]
     },
     "metadata": {},
     "output_type": "display_data"
    },
    {
     "name": "stdout",
     "output_type": "stream",
     "text": [
      "\n",
      "{'data': ['{\"name\": \"sdgs\", \"children\": [{\"name\": \"SDG 9\", \"n_occurrences\": 1, \"children\": [{\"n_occurrences\": 1, \"name\": \"Target 9.5\"}]}], \"api version\": \"v1\"}']}\n",
      "\n",
      " sfs-2022-367\n",
      "\tjson url: http://data.riksdagen.se/dokument/sfs-2022-367.json\n",
      "\tdoc url: https://www.riksdagen.se/sv/dokument-lagar/dokument/_sfs-2022-367\n",
      "\t "
     ]
    },
    {
     "data": {
      "text/html": [
       "<a href=https://www.riksdagen.se/sv/dokument-lagar/dokument/_sfs-2022-367/></a>"
      ],
      "text/plain": [
       "<IPython.core.display.HTML object>"
      ]
     },
     "metadata": {},
     "output_type": "display_data"
    },
    {
     "name": "stdout",
     "output_type": "stream",
     "text": [
      "\n",
      "{'data': ['{\"name\": \"sdgs\", \"children\": [{\"name\": \"SDG 9\", \"n_occurrences\": 1, \"children\": [{\"n_occurrences\": 1, \"name\": \"Target 9.5\"}]}], \"api version\": \"v1\"}']}\n",
      "\n",
      " sfs-2022-366\n",
      "\tjson url: http://data.riksdagen.se/dokument/sfs-2022-366.json\n",
      "\tdoc url: https://www.riksdagen.se/sv/dokument-lagar/dokument/_sfs-2022-366\n",
      "\t "
     ]
    },
    {
     "data": {
      "text/html": [
       "<a href=https://www.riksdagen.se/sv/dokument-lagar/dokument/_sfs-2022-366/></a>"
      ],
      "text/plain": [
       "<IPython.core.display.HTML object>"
      ]
     },
     "metadata": {},
     "output_type": "display_data"
    },
    {
     "name": "stdout",
     "output_type": "stream",
     "text": [
      "\n",
      "{'data': []}\n",
      "\n",
      " sfs-2022-336\n",
      "\tjson url: http://data.riksdagen.se/dokument/sfs-2022-336.json\n",
      "\tdoc url: https://www.riksdagen.se/sv/dokument-lagar/dokument/_sfs-2022-336\n",
      "\t "
     ]
    },
    {
     "data": {
      "text/html": [
       "<a href=https://www.riksdagen.se/sv/dokument-lagar/dokument/_sfs-2022-336/></a>"
      ],
      "text/plain": [
       "<IPython.core.display.HTML object>"
      ]
     },
     "metadata": {},
     "output_type": "display_data"
    },
    {
     "name": "stdout",
     "output_type": "stream",
     "text": [
      "\n",
      "{'data': ['{\"name\": \"sdgs\", \"children\": [], \"api version\": \"v1\"}']}\n",
      "\n",
      " sfs-2022-335\n",
      "\tjson url: http://data.riksdagen.se/dokument/sfs-2022-335.json\n",
      "\tdoc url: https://www.riksdagen.se/sv/dokument-lagar/dokument/_sfs-2022-335\n",
      "\t "
     ]
    },
    {
     "data": {
      "text/html": [
       "<a href=https://www.riksdagen.se/sv/dokument-lagar/dokument/_sfs-2022-335/></a>"
      ],
      "text/plain": [
       "<IPython.core.display.HTML object>"
      ]
     },
     "metadata": {},
     "output_type": "display_data"
    },
    {
     "name": "stdout",
     "output_type": "stream",
     "text": [
      "\n",
      "{'data': ['{\"name\": \"sdgs\", \"children\": [{\"name\": \"SDG 9\", \"n_occurrences\": 1, \"children\": [{\"n_occurrences\": 1, \"name\": \"Target 9.5\"}]}], \"api version\": \"v1\"}']}\n",
      "\n",
      " sfs-2022-333\n",
      "\tjson url: http://data.riksdagen.se/dokument/sfs-2022-333.json\n",
      "\tdoc url: https://www.riksdagen.se/sv/dokument-lagar/dokument/_sfs-2022-333\n",
      "\t "
     ]
    },
    {
     "data": {
      "text/html": [
       "<a href=https://www.riksdagen.se/sv/dokument-lagar/dokument/_sfs-2022-333/></a>"
      ],
      "text/plain": [
       "<IPython.core.display.HTML object>"
      ]
     },
     "metadata": {},
     "output_type": "display_data"
    },
    {
     "name": "stdout",
     "output_type": "stream",
     "text": [
      "\n",
      "{'data': ['{\"name\": \"sdgs\", \"children\": [], \"api version\": \"v1\"}']}\n",
      "\n",
      " sfs-2022-332\n",
      "\tjson url: http://data.riksdagen.se/dokument/sfs-2022-332.json\n",
      "\tdoc url: https://www.riksdagen.se/sv/dokument-lagar/dokument/_sfs-2022-332\n",
      "\t "
     ]
    },
    {
     "data": {
      "text/html": [
       "<a href=https://www.riksdagen.se/sv/dokument-lagar/dokument/_sfs-2022-332/></a>"
      ],
      "text/plain": [
       "<IPython.core.display.HTML object>"
      ]
     },
     "metadata": {},
     "output_type": "display_data"
    },
    {
     "name": "stdout",
     "output_type": "stream",
     "text": [
      "\n",
      "{'data': ['{\"name\": \"sdgs\", \"children\": [{\"name\": \"SDG 9\", \"n_occurrences\": 4, \"children\": [{\"n_occurrences\": 4, \"name\": \"Target 9.5\"}]}], \"api version\": \"v1\"}']}\n",
      "\n",
      " sfs-2022-315\n",
      "\tjson url: http://data.riksdagen.se/dokument/sfs-2022-315.json\n",
      "\tdoc url: https://www.riksdagen.se/sv/dokument-lagar/dokument/_sfs-2022-315\n",
      "\t "
     ]
    },
    {
     "data": {
      "text/html": [
       "<a href=https://www.riksdagen.se/sv/dokument-lagar/dokument/_sfs-2022-315/></a>"
      ],
      "text/plain": [
       "<IPython.core.display.HTML object>"
      ]
     },
     "metadata": {},
     "output_type": "display_data"
    },
    {
     "name": "stdout",
     "output_type": "stream",
     "text": [
      "\n",
      "{'data': ['{\"name\": \"sdgs\", \"children\": [], \"api version\": \"v1\"}']}\n",
      "\n",
      " sfs-2022-302\n",
      "\tjson url: http://data.riksdagen.se/dokument/sfs-2022-302.json\n",
      "\tdoc url: https://www.riksdagen.se/sv/dokument-lagar/dokument/_sfs-2022-302\n",
      "\t "
     ]
    },
    {
     "data": {
      "text/html": [
       "<a href=https://www.riksdagen.se/sv/dokument-lagar/dokument/_sfs-2022-302/></a>"
      ],
      "text/plain": [
       "<IPython.core.display.HTML object>"
      ]
     },
     "metadata": {},
     "output_type": "display_data"
    },
    {
     "name": "stdout",
     "output_type": "stream",
     "text": [
      "\n",
      "{'data': ['{\"name\": \"sdgs\", \"children\": [], \"api version\": \"v1\"}']}\n",
      "\n",
      " sfs-2022-301\n",
      "\tjson url: http://data.riksdagen.se/dokument/sfs-2022-301.json\n",
      "\tdoc url: https://www.riksdagen.se/sv/dokument-lagar/dokument/_sfs-2022-301\n",
      "\t "
     ]
    },
    {
     "data": {
      "text/html": [
       "<a href=https://www.riksdagen.se/sv/dokument-lagar/dokument/_sfs-2022-301/></a>"
      ],
      "text/plain": [
       "<IPython.core.display.HTML object>"
      ]
     },
     "metadata": {},
     "output_type": "display_data"
    },
    {
     "name": "stdout",
     "output_type": "stream",
     "text": [
      "\n",
      "{'data': ['{\"name\": \"sdgs\", \"children\": [{\"name\": \"SDG 1\", \"n_occurrences\": 7, \"children\": [{\"n_occurrences\": 7, \"name\": \"Target 1.3\"}]}, {\"name\": \"SDG 9\", \"n_occurrences\": 3, \"children\": [{\"n_occurrences\": 3, \"name\": \"Target 9.5\"}]}], \"api version\": \"v1\"}']}\n",
      "\n",
      " sfs-2022-298\n",
      "\tjson url: http://data.riksdagen.se/dokument/sfs-2022-298.json\n",
      "\tdoc url: https://www.riksdagen.se/sv/dokument-lagar/dokument/_sfs-2022-298\n",
      "\t "
     ]
    },
    {
     "data": {
      "text/html": [
       "<a href=https://www.riksdagen.se/sv/dokument-lagar/dokument/_sfs-2022-298/></a>"
      ],
      "text/plain": [
       "<IPython.core.display.HTML object>"
      ]
     },
     "metadata": {},
     "output_type": "display_data"
    },
    {
     "name": "stdout",
     "output_type": "stream",
     "text": [
      "\n",
      "{'data': ['{\"name\": \"sdgs\", \"children\": [{\"name\": \"SDG 9\", \"n_occurrences\": 7, \"children\": [{\"n_occurrences\": 7, \"name\": \"Target 9.5\"}]}], \"api version\": \"v1\"}']}\n",
      "\n",
      " sfs-2022-297\n",
      "\tjson url: http://data.riksdagen.se/dokument/sfs-2022-297.json\n",
      "\tdoc url: https://www.riksdagen.se/sv/dokument-lagar/dokument/_sfs-2022-297\n",
      "\t "
     ]
    },
    {
     "data": {
      "text/html": [
       "<a href=https://www.riksdagen.se/sv/dokument-lagar/dokument/_sfs-2022-297/></a>"
      ],
      "text/plain": [
       "<IPython.core.display.HTML object>"
      ]
     },
     "metadata": {},
     "output_type": "display_data"
    },
    {
     "name": "stdout",
     "output_type": "stream",
     "text": [
      "\n",
      "{'data': ['{\"name\": \"sdgs\", \"children\": [{\"name\": \"SDG 9\", \"n_occurrences\": 6, \"children\": [{\"n_occurrences\": 6, \"name\": \"Target 9.5\"}]}], \"api version\": \"v1\"}']}\n",
      "\n",
      " sfs-2022-291\n",
      "\tjson url: http://data.riksdagen.se/dokument/sfs-2022-291.json\n",
      "\tdoc url: https://www.riksdagen.se/sv/dokument-lagar/dokument/_sfs-2022-291\n",
      "\t "
     ]
    },
    {
     "data": {
      "text/html": [
       "<a href=https://www.riksdagen.se/sv/dokument-lagar/dokument/_sfs-2022-291/></a>"
      ],
      "text/plain": [
       "<IPython.core.display.HTML object>"
      ]
     },
     "metadata": {},
     "output_type": "display_data"
    },
    {
     "name": "stdout",
     "output_type": "stream",
     "text": [
      "\n",
      "{'data': ['{\"name\": \"sdgs\", \"children\": [], \"api version\": \"v1\"}']}\n",
      "\n",
      " sfs-N2022-9\n",
      "\tjson url: http://data.riksdagen.se/dokument/sfs-N2022-9.json\n",
      "\tdoc url: https://www.riksdagen.se/sv/dokument-lagar/dokument/_sfs-N2022-9\n",
      "\t "
     ]
    },
    {
     "data": {
      "text/html": [
       "<a href=https://www.riksdagen.se/sv/dokument-lagar/dokument/_sfs-N2022-9/></a>"
      ],
      "text/plain": [
       "<IPython.core.display.HTML object>"
      ]
     },
     "metadata": {},
     "output_type": "display_data"
    },
    {
     "name": "stdout",
     "output_type": "stream",
     "text": [
      "\n",
      "\t No text\n",
      "\n",
      " sfs-N2022-8\n",
      "\tjson url: http://data.riksdagen.se/dokument/sfs-N2022-8.json\n",
      "\tdoc url: https://www.riksdagen.se/sv/dokument-lagar/dokument/_sfs-N2022-8\n",
      "\t "
     ]
    },
    {
     "data": {
      "text/html": [
       "<a href=https://www.riksdagen.se/sv/dokument-lagar/dokument/_sfs-N2022-8/></a>"
      ],
      "text/plain": [
       "<IPython.core.display.HTML object>"
      ]
     },
     "metadata": {},
     "output_type": "display_data"
    },
    {
     "name": "stdout",
     "output_type": "stream",
     "text": [
      "\n",
      "\t No text\n",
      "\n",
      " sfs-N2022-7\n",
      "\tjson url: http://data.riksdagen.se/dokument/sfs-N2022-7.json\n",
      "\tdoc url: https://www.riksdagen.se/sv/dokument-lagar/dokument/_sfs-N2022-7\n",
      "\t "
     ]
    },
    {
     "data": {
      "text/html": [
       "<a href=https://www.riksdagen.se/sv/dokument-lagar/dokument/_sfs-N2022-7/></a>"
      ],
      "text/plain": [
       "<IPython.core.display.HTML object>"
      ]
     },
     "metadata": {},
     "output_type": "display_data"
    },
    {
     "name": "stdout",
     "output_type": "stream",
     "text": [
      "\n",
      "\t No text\n",
      "\n",
      " sfs-N2022-6\n",
      "\tjson url: http://data.riksdagen.se/dokument/sfs-N2022-6.json\n",
      "\tdoc url: https://www.riksdagen.se/sv/dokument-lagar/dokument/_sfs-N2022-6\n",
      "\t "
     ]
    },
    {
     "data": {
      "text/html": [
       "<a href=https://www.riksdagen.se/sv/dokument-lagar/dokument/_sfs-N2022-6/></a>"
      ],
      "text/plain": [
       "<IPython.core.display.HTML object>"
      ]
     },
     "metadata": {},
     "output_type": "display_data"
    },
    {
     "name": "stdout",
     "output_type": "stream",
     "text": [
      "\n",
      "\t No text\n",
      "\n",
      " sfs-N2022-5\n",
      "\tjson url: http://data.riksdagen.se/dokument/sfs-N2022-5.json\n",
      "\tdoc url: https://www.riksdagen.se/sv/dokument-lagar/dokument/_sfs-N2022-5\n",
      "\t "
     ]
    },
    {
     "data": {
      "text/html": [
       "<a href=https://www.riksdagen.se/sv/dokument-lagar/dokument/_sfs-N2022-5/></a>"
      ],
      "text/plain": [
       "<IPython.core.display.HTML object>"
      ]
     },
     "metadata": {},
     "output_type": "display_data"
    },
    {
     "name": "stdout",
     "output_type": "stream",
     "text": [
      "\n",
      "\t No text\n",
      "\n",
      " sfs-N2022-4\n",
      "\tjson url: http://data.riksdagen.se/dokument/sfs-N2022-4.json\n",
      "\tdoc url: https://www.riksdagen.se/sv/dokument-lagar/dokument/_sfs-N2022-4\n",
      "\t "
     ]
    },
    {
     "data": {
      "text/html": [
       "<a href=https://www.riksdagen.se/sv/dokument-lagar/dokument/_sfs-N2022-4/></a>"
      ],
      "text/plain": [
       "<IPython.core.display.HTML object>"
      ]
     },
     "metadata": {},
     "output_type": "display_data"
    },
    {
     "name": "stdout",
     "output_type": "stream",
     "text": [
      "\n",
      "\t No text\n",
      "\n",
      " sfs-N2022-11\n",
      "\tjson url: http://data.riksdagen.se/dokument/sfs-N2022-11.json\n",
      "\tdoc url: https://www.riksdagen.se/sv/dokument-lagar/dokument/_sfs-N2022-11\n",
      "\t "
     ]
    },
    {
     "data": {
      "text/html": [
       "<a href=https://www.riksdagen.se/sv/dokument-lagar/dokument/_sfs-N2022-11/></a>"
      ],
      "text/plain": [
       "<IPython.core.display.HTML object>"
      ]
     },
     "metadata": {},
     "output_type": "display_data"
    },
    {
     "name": "stdout",
     "output_type": "stream",
     "text": [
      "\n",
      "\t No text\n",
      "\n",
      " sfs-N2022-10\n",
      "\tjson url: http://data.riksdagen.se/dokument/sfs-N2022-10.json\n",
      "\tdoc url: https://www.riksdagen.se/sv/dokument-lagar/dokument/_sfs-N2022-10\n",
      "\t "
     ]
    },
    {
     "data": {
      "text/html": [
       "<a href=https://www.riksdagen.se/sv/dokument-lagar/dokument/_sfs-N2022-10/></a>"
      ],
      "text/plain": [
       "<IPython.core.display.HTML object>"
      ]
     },
     "metadata": {},
     "output_type": "display_data"
    },
    {
     "name": "stdout",
     "output_type": "stream",
     "text": [
      "\n",
      "\t No text\n",
      "\n",
      " sfs-2022-266\n",
      "\tjson url: http://data.riksdagen.se/dokument/sfs-2022-266.json\n",
      "\tdoc url: https://www.riksdagen.se/sv/dokument-lagar/dokument/_sfs-2022-266\n",
      "\t "
     ]
    },
    {
     "data": {
      "text/html": [
       "<a href=https://www.riksdagen.se/sv/dokument-lagar/dokument/_sfs-2022-266/></a>"
      ],
      "text/plain": [
       "<IPython.core.display.HTML object>"
      ]
     },
     "metadata": {},
     "output_type": "display_data"
    },
    {
     "name": "stdout",
     "output_type": "stream",
     "text": [
      "\n",
      "{'data': ['{\"name\": \"sdgs\", \"children\": [{\"name\": \"SDG 9\", \"n_occurrences\": 1, \"children\": [{\"n_occurrences\": 1, \"name\": \"Target 9.5\"}]}], \"api version\": \"v1\"}']}\n",
      "\n",
      " sfs-2022-259\n",
      "\tjson url: http://data.riksdagen.se/dokument/sfs-2022-259.json\n",
      "\tdoc url: https://www.riksdagen.se/sv/dokument-lagar/dokument/_sfs-2022-259\n",
      "\t "
     ]
    },
    {
     "data": {
      "text/html": [
       "<a href=https://www.riksdagen.se/sv/dokument-lagar/dokument/_sfs-2022-259/></a>"
      ],
      "text/plain": [
       "<IPython.core.display.HTML object>"
      ]
     },
     "metadata": {},
     "output_type": "display_data"
    },
    {
     "name": "stdout",
     "output_type": "stream",
     "text": [
      "\n",
      "{'data': ['{\"name\": \"sdgs\", \"children\": [], \"api version\": \"v1\"}']}\n",
      "\n",
      " sfs-2022-257\n",
      "\tjson url: http://data.riksdagen.se/dokument/sfs-2022-257.json\n",
      "\tdoc url: https://www.riksdagen.se/sv/dokument-lagar/dokument/_sfs-2022-257\n",
      "\t "
     ]
    },
    {
     "data": {
      "text/html": [
       "<a href=https://www.riksdagen.se/sv/dokument-lagar/dokument/_sfs-2022-257/></a>"
      ],
      "text/plain": [
       "<IPython.core.display.HTML object>"
      ]
     },
     "metadata": {},
     "output_type": "display_data"
    },
    {
     "name": "stdout",
     "output_type": "stream",
     "text": [
      "\n",
      "{'data': ['{\"name\": \"sdgs\", \"children\": [], \"api version\": \"v1\"}']}\n",
      "\n",
      " sfs-2022-260\n",
      "\tjson url: http://data.riksdagen.se/dokument/sfs-2022-260.json\n",
      "\tdoc url: https://www.riksdagen.se/sv/dokument-lagar/dokument/_sfs-2022-260\n",
      "\t "
     ]
    },
    {
     "data": {
      "text/html": [
       "<a href=https://www.riksdagen.se/sv/dokument-lagar/dokument/_sfs-2022-260/></a>"
      ],
      "text/plain": [
       "<IPython.core.display.HTML object>"
      ]
     },
     "metadata": {},
     "output_type": "display_data"
    },
    {
     "name": "stdout",
     "output_type": "stream",
     "text": [
      "\n",
      "{'data': ['{\"name\": \"sdgs\", \"children\": [{\"name\": \"SDG 9\", \"n_occurrences\": 26, \"children\": [{\"n_occurrences\": 9, \"name\": \"Target 9.5\"}, {\"n_occurrences\": 17, \"name\": \"SDG 9_undetected_target\"}]}], \"api version\": \"v1\"}']}\n",
      "\n",
      " sfs-N2022-3\n",
      "\tjson url: http://data.riksdagen.se/dokument/sfs-N2022-3.json\n",
      "\tdoc url: https://www.riksdagen.se/sv/dokument-lagar/dokument/_sfs-N2022-3\n",
      "\t "
     ]
    },
    {
     "data": {
      "text/html": [
       "<a href=https://www.riksdagen.se/sv/dokument-lagar/dokument/_sfs-N2022-3/></a>"
      ],
      "text/plain": [
       "<IPython.core.display.HTML object>"
      ]
     },
     "metadata": {},
     "output_type": "display_data"
    },
    {
     "name": "stdout",
     "output_type": "stream",
     "text": [
      "\n",
      "\t No text\n",
      "\n",
      " sfs-2022-225\n",
      "\tjson url: http://data.riksdagen.se/dokument/sfs-2022-225.json\n",
      "\tdoc url: https://www.riksdagen.se/sv/dokument-lagar/dokument/_sfs-2022-225\n",
      "\t "
     ]
    },
    {
     "data": {
      "text/html": [
       "<a href=https://www.riksdagen.se/sv/dokument-lagar/dokument/_sfs-2022-225/></a>"
      ],
      "text/plain": [
       "<IPython.core.display.HTML object>"
      ]
     },
     "metadata": {},
     "output_type": "display_data"
    },
    {
     "name": "stdout",
     "output_type": "stream",
     "text": [
      "\n",
      "{'data': ['{\"name\": \"sdgs\", \"children\": [], \"api version\": \"v1\"}']}\n",
      "\n",
      " sfs-2022-227\n",
      "\tjson url: http://data.riksdagen.se/dokument/sfs-2022-227.json\n",
      "\tdoc url: https://www.riksdagen.se/sv/dokument-lagar/dokument/_sfs-2022-227\n",
      "\t "
     ]
    },
    {
     "data": {
      "text/html": [
       "<a href=https://www.riksdagen.se/sv/dokument-lagar/dokument/_sfs-2022-227/></a>"
      ],
      "text/plain": [
       "<IPython.core.display.HTML object>"
      ]
     },
     "metadata": {},
     "output_type": "display_data"
    },
    {
     "name": "stdout",
     "output_type": "stream",
     "text": [
      "\n",
      "{'data': ['{\"name\": \"sdgs\", \"children\": [], \"api version\": \"v1\"}']}\n",
      "\n",
      " sfs-2022-222\n",
      "\tjson url: http://data.riksdagen.se/dokument/sfs-2022-222.json\n",
      "\tdoc url: https://www.riksdagen.se/sv/dokument-lagar/dokument/_sfs-2022-222\n",
      "\t "
     ]
    },
    {
     "data": {
      "text/html": [
       "<a href=https://www.riksdagen.se/sv/dokument-lagar/dokument/_sfs-2022-222/></a>"
      ],
      "text/plain": [
       "<IPython.core.display.HTML object>"
      ]
     },
     "metadata": {},
     "output_type": "display_data"
    },
    {
     "name": "stdout",
     "output_type": "stream",
     "text": [
      "\n",
      "{'data': ['{\"name\": \"sdgs\", \"children\": [], \"api version\": \"v1\"}']}\n",
      "\n",
      " sfs-2022-206\n",
      "\tjson url: http://data.riksdagen.se/dokument/sfs-2022-206.json\n",
      "\tdoc url: https://www.riksdagen.se/sv/dokument-lagar/dokument/_sfs-2022-206\n",
      "\t "
     ]
    },
    {
     "data": {
      "text/html": [
       "<a href=https://www.riksdagen.se/sv/dokument-lagar/dokument/_sfs-2022-206/></a>"
      ],
      "text/plain": [
       "<IPython.core.display.HTML object>"
      ]
     },
     "metadata": {},
     "output_type": "display_data"
    },
    {
     "name": "stdout",
     "output_type": "stream",
     "text": [
      "\n",
      "{'data': ['{\"name\": \"sdgs\", \"children\": [{\"name\": \"SDG 9\", \"n_occurrences\": 5, \"children\": [{\"n_occurrences\": 5, \"name\": \"Target 9.5\"}]}], \"api version\": \"v1\"}']}\n",
      "\n",
      " sfs-2022-208\n",
      "\tjson url: http://data.riksdagen.se/dokument/sfs-2022-208.json\n",
      "\tdoc url: https://www.riksdagen.se/sv/dokument-lagar/dokument/_sfs-2022-208\n",
      "\t "
     ]
    },
    {
     "data": {
      "text/html": [
       "<a href=https://www.riksdagen.se/sv/dokument-lagar/dokument/_sfs-2022-208/></a>"
      ],
      "text/plain": [
       "<IPython.core.display.HTML object>"
      ]
     },
     "metadata": {},
     "output_type": "display_data"
    },
    {
     "name": "stdout",
     "output_type": "stream",
     "text": [
      "\n",
      "{'data': ['{\"name\": \"sdgs\", \"children\": [], \"api version\": \"v1\"}']}\n",
      "\n",
      " sfs-N2022-1\n",
      "\tjson url: http://data.riksdagen.se/dokument/sfs-N2022-1.json\n",
      "\tdoc url: https://www.riksdagen.se/sv/dokument-lagar/dokument/_sfs-N2022-1\n",
      "\t "
     ]
    },
    {
     "data": {
      "text/html": [
       "<a href=https://www.riksdagen.se/sv/dokument-lagar/dokument/_sfs-N2022-1/></a>"
      ],
      "text/plain": [
       "<IPython.core.display.HTML object>"
      ]
     },
     "metadata": {},
     "output_type": "display_data"
    },
    {
     "name": "stdout",
     "output_type": "stream",
     "text": [
      "\n",
      "\t No text\n",
      "\n",
      " sfs-N2022-2\n",
      "\tjson url: http://data.riksdagen.se/dokument/sfs-N2022-2.json\n",
      "\tdoc url: https://www.riksdagen.se/sv/dokument-lagar/dokument/_sfs-N2022-2\n",
      "\t "
     ]
    },
    {
     "data": {
      "text/html": [
       "<a href=https://www.riksdagen.se/sv/dokument-lagar/dokument/_sfs-N2022-2/></a>"
      ],
      "text/plain": [
       "<IPython.core.display.HTML object>"
      ]
     },
     "metadata": {},
     "output_type": "display_data"
    },
    {
     "name": "stdout",
     "output_type": "stream",
     "text": [
      "\n",
      "\t No text\n",
      "\n",
      " sfs-2022-190\n",
      "\tjson url: http://data.riksdagen.se/dokument/sfs-2022-190.json\n",
      "\tdoc url: https://www.riksdagen.se/sv/dokument-lagar/dokument/_sfs-2022-190\n",
      "\t "
     ]
    },
    {
     "data": {
      "text/html": [
       "<a href=https://www.riksdagen.se/sv/dokument-lagar/dokument/_sfs-2022-190/></a>"
      ],
      "text/plain": [
       "<IPython.core.display.HTML object>"
      ]
     },
     "metadata": {},
     "output_type": "display_data"
    },
    {
     "name": "stdout",
     "output_type": "stream",
     "text": [
      "\n",
      "{'data': ['{\"name\": \"sdgs\", \"children\": [], \"api version\": \"v1\"}']}\n",
      "\n",
      " sfs-2022-145\n",
      "\tjson url: http://data.riksdagen.se/dokument/sfs-2022-145.json\n",
      "\tdoc url: https://www.riksdagen.se/sv/dokument-lagar/dokument/_sfs-2022-145\n",
      "\t "
     ]
    },
    {
     "data": {
      "text/html": [
       "<a href=https://www.riksdagen.se/sv/dokument-lagar/dokument/_sfs-2022-145/></a>"
      ],
      "text/plain": [
       "<IPython.core.display.HTML object>"
      ]
     },
     "metadata": {},
     "output_type": "display_data"
    },
    {
     "name": "stdout",
     "output_type": "stream",
     "text": [
      "\n",
      "{'data': ['{\"name\": \"sdgs\", \"children\": [], \"api version\": \"v1\"}']}\n",
      "\n",
      " sfs-2022-183\n",
      "\tjson url: http://data.riksdagen.se/dokument/sfs-2022-183.json\n",
      "\tdoc url: https://www.riksdagen.se/sv/dokument-lagar/dokument/_sfs-2022-183\n",
      "\t "
     ]
    },
    {
     "data": {
      "text/html": [
       "<a href=https://www.riksdagen.se/sv/dokument-lagar/dokument/_sfs-2022-183/></a>"
      ],
      "text/plain": [
       "<IPython.core.display.HTML object>"
      ]
     },
     "metadata": {},
     "output_type": "display_data"
    },
    {
     "name": "stdout",
     "output_type": "stream",
     "text": [
      "\n",
      "{'data': ['{\"name\": \"sdgs\", \"children\": [], \"api version\": \"v1\"}']}\n",
      "\n",
      " sfs-2022-155\n",
      "\tjson url: http://data.riksdagen.se/dokument/sfs-2022-155.json\n",
      "\tdoc url: https://www.riksdagen.se/sv/dokument-lagar/dokument/_sfs-2022-155\n",
      "\t "
     ]
    },
    {
     "data": {
      "text/html": [
       "<a href=https://www.riksdagen.se/sv/dokument-lagar/dokument/_sfs-2022-155/></a>"
      ],
      "text/plain": [
       "<IPython.core.display.HTML object>"
      ]
     },
     "metadata": {},
     "output_type": "display_data"
    },
    {
     "name": "stdout",
     "output_type": "stream",
     "text": [
      "\n",
      "{'data': ['{\"name\": \"sdgs\", \"children\": [{\"name\": \"SDG 9\", \"n_occurrences\": 8, \"children\": [{\"n_occurrences\": 8, \"name\": \"Target 9.5\"}]}], \"api version\": \"v1\"}']}\n",
      "\n",
      " sfs-2022-182\n",
      "\tjson url: http://data.riksdagen.se/dokument/sfs-2022-182.json\n",
      "\tdoc url: https://www.riksdagen.se/sv/dokument-lagar/dokument/_sfs-2022-182\n",
      "\t "
     ]
    },
    {
     "data": {
      "text/html": [
       "<a href=https://www.riksdagen.se/sv/dokument-lagar/dokument/_sfs-2022-182/></a>"
      ],
      "text/plain": [
       "<IPython.core.display.HTML object>"
      ]
     },
     "metadata": {},
     "output_type": "display_data"
    },
    {
     "name": "stdout",
     "output_type": "stream",
     "text": [
      "\n",
      "{'data': ['{\"name\": \"sdgs\", \"children\": [], \"api version\": \"v1\"}']}\n",
      "\n",
      " sfs-2022-181\n",
      "\tjson url: http://data.riksdagen.se/dokument/sfs-2022-181.json\n",
      "\tdoc url: https://www.riksdagen.se/sv/dokument-lagar/dokument/_sfs-2022-181\n",
      "\t "
     ]
    },
    {
     "data": {
      "text/html": [
       "<a href=https://www.riksdagen.se/sv/dokument-lagar/dokument/_sfs-2022-181/></a>"
      ],
      "text/plain": [
       "<IPython.core.display.HTML object>"
      ]
     },
     "metadata": {},
     "output_type": "display_data"
    },
    {
     "name": "stdout",
     "output_type": "stream",
     "text": [
      "\n",
      "{'data': ['{\"name\": \"sdgs\", \"children\": [], \"api version\": \"v1\"}']}\n",
      "\n",
      " sfs-2022-157\n",
      "\tjson url: http://data.riksdagen.se/dokument/sfs-2022-157.json\n",
      "\tdoc url: https://www.riksdagen.se/sv/dokument-lagar/dokument/_sfs-2022-157\n",
      "\t "
     ]
    },
    {
     "data": {
      "text/html": [
       "<a href=https://www.riksdagen.se/sv/dokument-lagar/dokument/_sfs-2022-157/></a>"
      ],
      "text/plain": [
       "<IPython.core.display.HTML object>"
      ]
     },
     "metadata": {},
     "output_type": "display_data"
    },
    {
     "name": "stdout",
     "output_type": "stream",
     "text": [
      "\n",
      "{'data': ['{\"name\": \"sdgs\", \"children\": [], \"api version\": \"v1\"}']}\n",
      "\n",
      " sfs-2022-156\n",
      "\tjson url: http://data.riksdagen.se/dokument/sfs-2022-156.json\n",
      "\tdoc url: https://www.riksdagen.se/sv/dokument-lagar/dokument/_sfs-2022-156\n",
      "\t "
     ]
    },
    {
     "data": {
      "text/html": [
       "<a href=https://www.riksdagen.se/sv/dokument-lagar/dokument/_sfs-2022-156/></a>"
      ],
      "text/plain": [
       "<IPython.core.display.HTML object>"
      ]
     },
     "metadata": {},
     "output_type": "display_data"
    },
    {
     "name": "stdout",
     "output_type": "stream",
     "text": [
      "\n",
      "{'data': ['{\"name\": \"sdgs\", \"children\": [{\"name\": \"SDG 9\", \"n_occurrences\": 8, \"children\": [{\"n_occurrences\": 8, \"name\": \"Target 9.5\"}]}], \"api version\": \"v1\"}']}\n",
      "\n",
      " sfs-2022-135\n",
      "\tjson url: http://data.riksdagen.se/dokument/sfs-2022-135.json\n",
      "\tdoc url: https://www.riksdagen.se/sv/dokument-lagar/dokument/_sfs-2022-135\n",
      "\t "
     ]
    },
    {
     "data": {
      "text/html": [
       "<a href=https://www.riksdagen.se/sv/dokument-lagar/dokument/_sfs-2022-135/></a>"
      ],
      "text/plain": [
       "<IPython.core.display.HTML object>"
      ]
     },
     "metadata": {},
     "output_type": "display_data"
    },
    {
     "name": "stdout",
     "output_type": "stream",
     "text": [
      "\n",
      "{'data': ['{\"name\": \"sdgs\", \"children\": [], \"api version\": \"v1\"}']}\n",
      "\n",
      " sfs-2022-133\n",
      "\tjson url: http://data.riksdagen.se/dokument/sfs-2022-133.json\n",
      "\tdoc url: https://www.riksdagen.se/sv/dokument-lagar/dokument/_sfs-2022-133\n",
      "\t "
     ]
    },
    {
     "data": {
      "text/html": [
       "<a href=https://www.riksdagen.se/sv/dokument-lagar/dokument/_sfs-2022-133/></a>"
      ],
      "text/plain": [
       "<IPython.core.display.HTML object>"
      ]
     },
     "metadata": {},
     "output_type": "display_data"
    },
    {
     "name": "stdout",
     "output_type": "stream",
     "text": [
      "\n",
      "{'data': ['{\"name\": \"sdgs\", \"children\": [{\"name\": \"SDG 9\", \"n_occurrences\": 1, \"children\": [{\"n_occurrences\": 1, \"name\": \"Target 9.5\"}]}], \"api version\": \"v1\"}']}\n",
      "\n",
      " sfs-2022-121\n",
      "\tjson url: http://data.riksdagen.se/dokument/sfs-2022-121.json\n",
      "\tdoc url: https://www.riksdagen.se/sv/dokument-lagar/dokument/_sfs-2022-121\n",
      "\t "
     ]
    },
    {
     "data": {
      "text/html": [
       "<a href=https://www.riksdagen.se/sv/dokument-lagar/dokument/_sfs-2022-121/></a>"
      ],
      "text/plain": [
       "<IPython.core.display.HTML object>"
      ]
     },
     "metadata": {},
     "output_type": "display_data"
    },
    {
     "name": "stdout",
     "output_type": "stream",
     "text": [
      "\n",
      "{'data': ['{\"name\": \"sdgs\", \"children\": [], \"api version\": \"v1\"}']}\n",
      "\n",
      " sfs-2022-139\n",
      "\tjson url: http://data.riksdagen.se/dokument/sfs-2022-139.json\n",
      "\tdoc url: https://www.riksdagen.se/sv/dokument-lagar/dokument/_sfs-2022-139\n",
      "\t "
     ]
    },
    {
     "data": {
      "text/html": [
       "<a href=https://www.riksdagen.se/sv/dokument-lagar/dokument/_sfs-2022-139/></a>"
      ],
      "text/plain": [
       "<IPython.core.display.HTML object>"
      ]
     },
     "metadata": {},
     "output_type": "display_data"
    },
    {
     "name": "stdout",
     "output_type": "stream",
     "text": [
      "\n",
      "{'data': ['{\"name\": \"sdgs\", \"children\": [], \"api version\": \"v1\"}']}\n",
      "\n",
      " sfs-2022-126\n",
      "\tjson url: http://data.riksdagen.se/dokument/sfs-2022-126.json\n",
      "\tdoc url: https://www.riksdagen.se/sv/dokument-lagar/dokument/_sfs-2022-126\n",
      "\t "
     ]
    },
    {
     "data": {
      "text/html": [
       "<a href=https://www.riksdagen.se/sv/dokument-lagar/dokument/_sfs-2022-126/></a>"
      ],
      "text/plain": [
       "<IPython.core.display.HTML object>"
      ]
     },
     "metadata": {},
     "output_type": "display_data"
    },
    {
     "name": "stdout",
     "output_type": "stream",
     "text": [
      "\n",
      "{'data': ['{\"name\": \"sdgs\", \"children\": [{\"name\": \"SDG 9\", \"n_occurrences\": 1, \"children\": [{\"n_occurrences\": 1, \"name\": \"SDG 9_undetected_target\"}]}], \"api version\": \"v1\"}']}\n",
      "\n",
      " sfs-2022-127\n",
      "\tjson url: http://data.riksdagen.se/dokument/sfs-2022-127.json\n",
      "\tdoc url: https://www.riksdagen.se/sv/dokument-lagar/dokument/_sfs-2022-127\n",
      "\t "
     ]
    },
    {
     "data": {
      "text/html": [
       "<a href=https://www.riksdagen.se/sv/dokument-lagar/dokument/_sfs-2022-127/></a>"
      ],
      "text/plain": [
       "<IPython.core.display.HTML object>"
      ]
     },
     "metadata": {},
     "output_type": "display_data"
    },
    {
     "name": "stdout",
     "output_type": "stream",
     "text": [
      "\n",
      "{'data': ['{\"name\": \"sdgs\", \"children\": [{\"name\": \"SDG 9\", \"n_occurrences\": 7, \"children\": [{\"n_occurrences\": 1, \"name\": \"Target 9.5\"}, {\"n_occurrences\": 6, \"name\": \"SDG 9_undetected_target\"}]}], \"api version\": \"v1\"}']}\n",
      "\n",
      " sfs-2022-119\n",
      "\tjson url: http://data.riksdagen.se/dokument/sfs-2022-119.json\n",
      "\tdoc url: https://www.riksdagen.se/sv/dokument-lagar/dokument/_sfs-2022-119\n",
      "\t "
     ]
    },
    {
     "data": {
      "text/html": [
       "<a href=https://www.riksdagen.se/sv/dokument-lagar/dokument/_sfs-2022-119/></a>"
      ],
      "text/plain": [
       "<IPython.core.display.HTML object>"
      ]
     },
     "metadata": {},
     "output_type": "display_data"
    },
    {
     "name": "stdout",
     "output_type": "stream",
     "text": [
      "\n",
      "{'data': ['{\"name\": \"sdgs\", \"children\": [], \"api version\": \"v1\"}']}\n",
      "\n",
      " sfs-2022-118\n",
      "\tjson url: http://data.riksdagen.se/dokument/sfs-2022-118.json\n",
      "\tdoc url: https://www.riksdagen.se/sv/dokument-lagar/dokument/_sfs-2022-118\n",
      "\t "
     ]
    },
    {
     "data": {
      "text/html": [
       "<a href=https://www.riksdagen.se/sv/dokument-lagar/dokument/_sfs-2022-118/></a>"
      ],
      "text/plain": [
       "<IPython.core.display.HTML object>"
      ]
     },
     "metadata": {},
     "output_type": "display_data"
    },
    {
     "name": "stdout",
     "output_type": "stream",
     "text": [
      "\n",
      "{'data': ['{\"name\": \"sdgs\", \"children\": [], \"api version\": \"v1\"}']}\n",
      "\n",
      " sfs-2022-107\n",
      "\tjson url: http://data.riksdagen.se/dokument/sfs-2022-107.json\n",
      "\tdoc url: https://www.riksdagen.se/sv/dokument-lagar/dokument/_sfs-2022-107\n",
      "\t "
     ]
    },
    {
     "data": {
      "text/html": [
       "<a href=https://www.riksdagen.se/sv/dokument-lagar/dokument/_sfs-2022-107/></a>"
      ],
      "text/plain": [
       "<IPython.core.display.HTML object>"
      ]
     },
     "metadata": {},
     "output_type": "display_data"
    },
    {
     "name": "stdout",
     "output_type": "stream",
     "text": [
      "\n",
      "{'data': ['{\"name\": \"sdgs\", \"children\": [{\"name\": \"SDG 9\", \"n_occurrences\": 3, \"children\": [{\"n_occurrences\": 3, \"name\": \"Target 9.5\"}]}], \"api version\": \"v1\"}']}\n",
      "\n",
      " sfs-2022-81\n",
      "\tjson url: http://data.riksdagen.se/dokument/sfs-2022-81.json\n",
      "\tdoc url: https://www.riksdagen.se/sv/dokument-lagar/dokument/_sfs-2022-81\n",
      "\t "
     ]
    },
    {
     "data": {
      "text/html": [
       "<a href=https://www.riksdagen.se/sv/dokument-lagar/dokument/_sfs-2022-81/></a>"
      ],
      "text/plain": [
       "<IPython.core.display.HTML object>"
      ]
     },
     "metadata": {},
     "output_type": "display_data"
    },
    {
     "name": "stdout",
     "output_type": "stream",
     "text": [
      "\n",
      "{'data': ['{\"name\": \"sdgs\", \"children\": [{\"name\": \"SDG 3\", \"n_occurrences\": 2, \"children\": [{\"n_occurrences\": 1, \"name\": \"Target 3.3\"}, {\"n_occurrences\": 1, \"name\": \"Target 3.4\"}]}, {\"name\": \"SDG 9\", \"n_occurrences\": 2, \"children\": [{\"n_occurrences\": 2, \"name\": \"Target 9.5\"}]}], \"api version\": \"v1\"}']}\n",
      "\n",
      " sfs-2022-79\n",
      "\tjson url: http://data.riksdagen.se/dokument/sfs-2022-79.json\n",
      "\tdoc url: https://www.riksdagen.se/sv/dokument-lagar/dokument/_sfs-2022-79\n",
      "\t "
     ]
    },
    {
     "data": {
      "text/html": [
       "<a href=https://www.riksdagen.se/sv/dokument-lagar/dokument/_sfs-2022-79/></a>"
      ],
      "text/plain": [
       "<IPython.core.display.HTML object>"
      ]
     },
     "metadata": {},
     "output_type": "display_data"
    },
    {
     "name": "stdout",
     "output_type": "stream",
     "text": [
      "\n",
      "{'data': ['{\"name\": \"sdgs\", \"children\": [], \"api version\": \"v1\"}']}\n",
      "\n",
      " sfs-2022-98\n",
      "\tjson url: http://data.riksdagen.se/dokument/sfs-2022-98.json\n",
      "\tdoc url: https://www.riksdagen.se/sv/dokument-lagar/dokument/_sfs-2022-98\n",
      "\t "
     ]
    },
    {
     "data": {
      "text/html": [
       "<a href=https://www.riksdagen.se/sv/dokument-lagar/dokument/_sfs-2022-98/></a>"
      ],
      "text/plain": [
       "<IPython.core.display.HTML object>"
      ]
     },
     "metadata": {},
     "output_type": "display_data"
    },
    {
     "name": "stdout",
     "output_type": "stream",
     "text": [
      "\n",
      "{'data': ['{\"name\": \"sdgs\", \"children\": [{\"name\": \"SDG 9\", \"n_occurrences\": 20, \"children\": [{\"n_occurrences\": 20, \"name\": \"Target 9.5\"}]}], \"api version\": \"v1\"}']}\n",
      "\n",
      " sfs-2022-101\n",
      "\tjson url: http://data.riksdagen.se/dokument/sfs-2022-101.json\n",
      "\tdoc url: https://www.riksdagen.se/sv/dokument-lagar/dokument/_sfs-2022-101\n",
      "\t "
     ]
    },
    {
     "data": {
      "text/html": [
       "<a href=https://www.riksdagen.se/sv/dokument-lagar/dokument/_sfs-2022-101/></a>"
      ],
      "text/plain": [
       "<IPython.core.display.HTML object>"
      ]
     },
     "metadata": {},
     "output_type": "display_data"
    },
    {
     "name": "stdout",
     "output_type": "stream",
     "text": [
      "\n",
      "{'data': ['{\"name\": \"sdgs\", \"children\": [], \"api version\": \"v1\"}']}\n",
      "\n",
      " sfs-2022-106\n",
      "\tjson url: http://data.riksdagen.se/dokument/sfs-2022-106.json\n",
      "\tdoc url: https://www.riksdagen.se/sv/dokument-lagar/dokument/_sfs-2022-106\n",
      "\t "
     ]
    },
    {
     "data": {
      "text/html": [
       "<a href=https://www.riksdagen.se/sv/dokument-lagar/dokument/_sfs-2022-106/></a>"
      ],
      "text/plain": [
       "<IPython.core.display.HTML object>"
      ]
     },
     "metadata": {},
     "output_type": "display_data"
    },
    {
     "name": "stdout",
     "output_type": "stream",
     "text": [
      "\n",
      "{'data': ['{\"name\": \"sdgs\", \"children\": [], \"api version\": \"v1\"}']}\n",
      "\n",
      " sfs-2022-81\n",
      "\tjson url: http://data.riksdagen.se/dokument/sfs-2022-81.json\n",
      "\tdoc url: https://www.riksdagen.se/sv/dokument-lagar/dokument/_sfs-2022-81\n",
      "\t "
     ]
    },
    {
     "data": {
      "text/html": [
       "<a href=https://www.riksdagen.se/sv/dokument-lagar/dokument/_sfs-2022-81/></a>"
      ],
      "text/plain": [
       "<IPython.core.display.HTML object>"
      ]
     },
     "metadata": {},
     "output_type": "display_data"
    },
    {
     "name": "stdout",
     "output_type": "stream",
     "text": [
      "\n",
      "{'data': ['{\"name\": \"sdgs\", \"children\": [{\"name\": \"SDG 3\", \"n_occurrences\": 2, \"children\": [{\"n_occurrences\": 1, \"name\": \"Target 3.3\"}, {\"n_occurrences\": 1, \"name\": \"Target 3.4\"}]}, {\"name\": \"SDG 9\", \"n_occurrences\": 2, \"children\": [{\"n_occurrences\": 2, \"name\": \"Target 9.5\"}]}], \"api version\": \"v1\"}']}\n",
      "\n",
      " sfs-2022-79\n",
      "\tjson url: http://data.riksdagen.se/dokument/sfs-2022-79.json\n",
      "\tdoc url: https://www.riksdagen.se/sv/dokument-lagar/dokument/_sfs-2022-79\n",
      "\t "
     ]
    },
    {
     "data": {
      "text/html": [
       "<a href=https://www.riksdagen.se/sv/dokument-lagar/dokument/_sfs-2022-79/></a>"
      ],
      "text/plain": [
       "<IPython.core.display.HTML object>"
      ]
     },
     "metadata": {},
     "output_type": "display_data"
    },
    {
     "name": "stdout",
     "output_type": "stream",
     "text": [
      "\n",
      "{'data': ['{\"name\": \"sdgs\", \"children\": [], \"api version\": \"v1\"}']}\n",
      "\n",
      " sfs-2022-70\n",
      "\tjson url: http://data.riksdagen.se/dokument/sfs-2022-70.json\n",
      "\tdoc url: https://www.riksdagen.se/sv/dokument-lagar/dokument/_sfs-2022-70\n",
      "\t "
     ]
    },
    {
     "data": {
      "text/html": [
       "<a href=https://www.riksdagen.se/sv/dokument-lagar/dokument/_sfs-2022-70/></a>"
      ],
      "text/plain": [
       "<IPython.core.display.HTML object>"
      ]
     },
     "metadata": {},
     "output_type": "display_data"
    },
    {
     "name": "stdout",
     "output_type": "stream",
     "text": [
      "\n",
      "{'data': ['{\"name\": \"sdgs\", \"children\": [], \"api version\": \"v1\"}']}\n",
      "\n",
      " sfs-2022-66\n",
      "\tjson url: http://data.riksdagen.se/dokument/sfs-2022-66.json\n",
      "\tdoc url: https://www.riksdagen.se/sv/dokument-lagar/dokument/_sfs-2022-66\n",
      "\t "
     ]
    },
    {
     "data": {
      "text/html": [
       "<a href=https://www.riksdagen.se/sv/dokument-lagar/dokument/_sfs-2022-66/></a>"
      ],
      "text/plain": [
       "<IPython.core.display.HTML object>"
      ]
     },
     "metadata": {},
     "output_type": "display_data"
    },
    {
     "name": "stdout",
     "output_type": "stream",
     "text": [
      "\n",
      "{'data': ['{\"name\": \"sdgs\", \"children\": [], \"api version\": \"v1\"}']}\n",
      "\n",
      " sfs-2022-65\n",
      "\tjson url: http://data.riksdagen.se/dokument/sfs-2022-65.json\n",
      "\tdoc url: https://www.riksdagen.se/sv/dokument-lagar/dokument/_sfs-2022-65\n",
      "\t "
     ]
    },
    {
     "data": {
      "text/html": [
       "<a href=https://www.riksdagen.se/sv/dokument-lagar/dokument/_sfs-2022-65/></a>"
      ],
      "text/plain": [
       "<IPython.core.display.HTML object>"
      ]
     },
     "metadata": {},
     "output_type": "display_data"
    },
    {
     "name": "stdout",
     "output_type": "stream",
     "text": [
      "\n",
      "{'data': ['{\"name\": \"sdgs\", \"children\": [], \"api version\": \"v1\"}']}\n",
      "\n",
      " sfs-2022-41\n",
      "\tjson url: http://data.riksdagen.se/dokument/sfs-2022-41.json\n",
      "\tdoc url: https://www.riksdagen.se/sv/dokument-lagar/dokument/_sfs-2022-41\n",
      "\t "
     ]
    },
    {
     "data": {
      "text/html": [
       "<a href=https://www.riksdagen.se/sv/dokument-lagar/dokument/_sfs-2022-41/></a>"
      ],
      "text/plain": [
       "<IPython.core.display.HTML object>"
      ]
     },
     "metadata": {},
     "output_type": "display_data"
    },
    {
     "name": "stdout",
     "output_type": "stream",
     "text": [
      "\n",
      "{'data': ['{\"name\": \"sdgs\", \"children\": [], \"api version\": \"v1\"}']}\n",
      "\n",
      " sfs-2022-16\n",
      "\tjson url: http://data.riksdagen.se/dokument/sfs-2022-16.json\n",
      "\tdoc url: https://www.riksdagen.se/sv/dokument-lagar/dokument/_sfs-2022-16\n",
      "\t "
     ]
    },
    {
     "data": {
      "text/html": [
       "<a href=https://www.riksdagen.se/sv/dokument-lagar/dokument/_sfs-2022-16/></a>"
      ],
      "text/plain": [
       "<IPython.core.display.HTML object>"
      ]
     },
     "metadata": {},
     "output_type": "display_data"
    },
    {
     "name": "stdout",
     "output_type": "stream",
     "text": [
      "\n",
      "{'data': ['{\"name\": \"sdgs\", \"children\": [], \"api version\": \"v1\"}']}\n",
      "\n",
      " sfs-2022-15\n",
      "\tjson url: http://data.riksdagen.se/dokument/sfs-2022-15.json\n",
      "\tdoc url: https://www.riksdagen.se/sv/dokument-lagar/dokument/_sfs-2022-15\n",
      "\t "
     ]
    },
    {
     "data": {
      "text/html": [
       "<a href=https://www.riksdagen.se/sv/dokument-lagar/dokument/_sfs-2022-15/></a>"
      ],
      "text/plain": [
       "<IPython.core.display.HTML object>"
      ]
     },
     "metadata": {},
     "output_type": "display_data"
    },
    {
     "name": "stdout",
     "output_type": "stream",
     "text": [
      "\n",
      "{'data': ['{\"name\": \"sdgs\", \"children\": [], \"api version\": \"v1\"}']}\n",
      "\n",
      " sfs-2022-1\n",
      "\tjson url: http://data.riksdagen.se/dokument/sfs-2022-1.json\n",
      "\tdoc url: https://www.riksdagen.se/sv/dokument-lagar/dokument/_sfs-2022-1\n",
      "\t "
     ]
    },
    {
     "data": {
      "text/html": [
       "<a href=https://www.riksdagen.se/sv/dokument-lagar/dokument/_sfs-2022-1/></a>"
      ],
      "text/plain": [
       "<IPython.core.display.HTML object>"
      ]
     },
     "metadata": {},
     "output_type": "display_data"
    },
    {
     "name": "stdout",
     "output_type": "stream",
     "text": [
      "\n",
      "{'data': ['{\"name\": \"sdgs\", \"children\": [], \"api version\": \"v1\"}']}\n",
      "\n",
      " sfs-2021-1336\n",
      "\tjson url: http://data.riksdagen.se/dokument/sfs-2021-1336.json\n",
      "\tdoc url: https://www.riksdagen.se/sv/dokument-lagar/dokument/_sfs-2021-1336\n",
      "\t "
     ]
    },
    {
     "data": {
      "text/html": [
       "<a href=https://www.riksdagen.se/sv/dokument-lagar/dokument/_sfs-2021-1336/></a>"
      ],
      "text/plain": [
       "<IPython.core.display.HTML object>"
      ]
     },
     "metadata": {},
     "output_type": "display_data"
    },
    {
     "name": "stdout",
     "output_type": "stream",
     "text": [
      "\n",
      "{'data': ['{\"name\": \"sdgs\", \"children\": [{\"name\": \"SDG 9\", \"n_occurrences\": 4, \"children\": [{\"n_occurrences\": 4, \"name\": \"Target 9.5\"}]}], \"api version\": \"v1\"}']}\n",
      "\n",
      " sfs-2021-1335\n",
      "\tjson url: http://data.riksdagen.se/dokument/sfs-2021-1335.json\n",
      "\tdoc url: https://www.riksdagen.se/sv/dokument-lagar/dokument/_sfs-2021-1335\n",
      "\t "
     ]
    },
    {
     "data": {
      "text/html": [
       "<a href=https://www.riksdagen.se/sv/dokument-lagar/dokument/_sfs-2021-1335/></a>"
      ],
      "text/plain": [
       "<IPython.core.display.HTML object>"
      ]
     },
     "metadata": {},
     "output_type": "display_data"
    },
    {
     "name": "stdout",
     "output_type": "stream",
     "text": [
      "\n",
      "{'data': ['{\"name\": \"sdgs\", \"children\": [], \"api version\": \"v1\"}']}\n",
      "\n",
      " sfs-2021-1313\n",
      "\tjson url: http://data.riksdagen.se/dokument/sfs-2021-1313.json\n",
      "\tdoc url: https://www.riksdagen.se/sv/dokument-lagar/dokument/_sfs-2021-1313\n",
      "\t "
     ]
    },
    {
     "data": {
      "text/html": [
       "<a href=https://www.riksdagen.se/sv/dokument-lagar/dokument/_sfs-2021-1313/></a>"
      ],
      "text/plain": [
       "<IPython.core.display.HTML object>"
      ]
     },
     "metadata": {},
     "output_type": "display_data"
    },
    {
     "name": "stdout",
     "output_type": "stream",
     "text": [
      "\n",
      "{'data': ['{\"name\": \"sdgs\", \"children\": [], \"api version\": \"v1\"}']}\n",
      "\n",
      " sfs-2021-1256\n",
      "\tjson url: http://data.riksdagen.se/dokument/sfs-2021-1256.json\n",
      "\tdoc url: https://www.riksdagen.se/sv/dokument-lagar/dokument/_sfs-2021-1256\n",
      "\t "
     ]
    },
    {
     "data": {
      "text/html": [
       "<a href=https://www.riksdagen.se/sv/dokument-lagar/dokument/_sfs-2021-1256/></a>"
      ],
      "text/plain": [
       "<IPython.core.display.HTML object>"
      ]
     },
     "metadata": {},
     "output_type": "display_data"
    },
    {
     "name": "stdout",
     "output_type": "stream",
     "text": [
      "\n",
      "{'data': ['{\"name\": \"sdgs\", \"children\": [], \"api version\": \"v1\"}']}\n",
      "\n",
      " sfs-2021-1252\n",
      "\tjson url: http://data.riksdagen.se/dokument/sfs-2021-1252.json\n",
      "\tdoc url: https://www.riksdagen.se/sv/dokument-lagar/dokument/_sfs-2021-1252\n",
      "\t "
     ]
    },
    {
     "data": {
      "text/html": [
       "<a href=https://www.riksdagen.se/sv/dokument-lagar/dokument/_sfs-2021-1252/></a>"
      ],
      "text/plain": [
       "<IPython.core.display.HTML object>"
      ]
     },
     "metadata": {},
     "output_type": "display_data"
    },
    {
     "name": "stdout",
     "output_type": "stream",
     "text": [
      "\n",
      "{'data': ['{\"name\": \"sdgs\", \"children\": [], \"api version\": \"v1\"}']}\n",
      "\n",
      " sfs-2021-1238\n",
      "\tjson url: http://data.riksdagen.se/dokument/sfs-2021-1238.json\n",
      "\tdoc url: https://www.riksdagen.se/sv/dokument-lagar/dokument/_sfs-2021-1238\n",
      "\t "
     ]
    },
    {
     "data": {
      "text/html": [
       "<a href=https://www.riksdagen.se/sv/dokument-lagar/dokument/_sfs-2021-1238/></a>"
      ],
      "text/plain": [
       "<IPython.core.display.HTML object>"
      ]
     },
     "metadata": {},
     "output_type": "display_data"
    },
    {
     "name": "stdout",
     "output_type": "stream",
     "text": [
      "\n",
      "{'data': ['{\"name\": \"sdgs\", \"children\": [], \"api version\": \"v1\"}']}\n",
      "\n",
      " sfs-2021-1234\n",
      "\tjson url: http://data.riksdagen.se/dokument/sfs-2021-1234.json\n",
      "\tdoc url: https://www.riksdagen.se/sv/dokument-lagar/dokument/_sfs-2021-1234\n",
      "\t "
     ]
    },
    {
     "data": {
      "text/html": [
       "<a href=https://www.riksdagen.se/sv/dokument-lagar/dokument/_sfs-2021-1234/></a>"
      ],
      "text/plain": [
       "<IPython.core.display.HTML object>"
      ]
     },
     "metadata": {},
     "output_type": "display_data"
    },
    {
     "name": "stdout",
     "output_type": "stream",
     "text": [
      "\n",
      "{'data': ['{\"name\": \"sdgs\", \"children\": [], \"api version\": \"v1\"}']}\n",
      "\n",
      " sfs-2021-1207\n",
      "\tjson url: http://data.riksdagen.se/dokument/sfs-2021-1207.json\n",
      "\tdoc url: https://www.riksdagen.se/sv/dokument-lagar/dokument/_sfs-2021-1207\n",
      "\t "
     ]
    },
    {
     "data": {
      "text/html": [
       "<a href=https://www.riksdagen.se/sv/dokument-lagar/dokument/_sfs-2021-1207/></a>"
      ],
      "text/plain": [
       "<IPython.core.display.HTML object>"
      ]
     },
     "metadata": {},
     "output_type": "display_data"
    },
    {
     "name": "stdout",
     "output_type": "stream",
     "text": [
      "\n",
      "{'data': ['{\"name\": \"sdgs\", \"children\": [{\"name\": \"SDG 9\", \"n_occurrences\": 1, \"children\": [{\"n_occurrences\": 1, \"name\": \"Target 9.5\"}]}], \"api version\": \"v1\"}']}\n",
      "\n",
      " sfs-2021-1205\n",
      "\tjson url: http://data.riksdagen.se/dokument/sfs-2021-1205.json\n",
      "\tdoc url: https://www.riksdagen.se/sv/dokument-lagar/dokument/_sfs-2021-1205\n",
      "\t "
     ]
    },
    {
     "data": {
      "text/html": [
       "<a href=https://www.riksdagen.se/sv/dokument-lagar/dokument/_sfs-2021-1205/></a>"
      ],
      "text/plain": [
       "<IPython.core.display.HTML object>"
      ]
     },
     "metadata": {},
     "output_type": "display_data"
    },
    {
     "name": "stdout",
     "output_type": "stream",
     "text": [
      "\n",
      "{'data': ['{\"name\": \"sdgs\", \"children\": [], \"api version\": \"v1\"}']}\n",
      "\n",
      " sfs-2021-1201\n",
      "\tjson url: http://data.riksdagen.se/dokument/sfs-2021-1201.json\n",
      "\tdoc url: https://www.riksdagen.se/sv/dokument-lagar/dokument/_sfs-2021-1201\n",
      "\t "
     ]
    },
    {
     "data": {
      "text/html": [
       "<a href=https://www.riksdagen.se/sv/dokument-lagar/dokument/_sfs-2021-1201/></a>"
      ],
      "text/plain": [
       "<IPython.core.display.HTML object>"
      ]
     },
     "metadata": {},
     "output_type": "display_data"
    },
    {
     "name": "stdout",
     "output_type": "stream",
     "text": [
      "\n",
      "{'data': ['{\"name\": \"sdgs\", \"children\": [], \"api version\": \"v1\"}']}\n",
      "\n",
      " sfs-2021-1198\n",
      "\tjson url: http://data.riksdagen.se/dokument/sfs-2021-1198.json\n",
      "\tdoc url: https://www.riksdagen.se/sv/dokument-lagar/dokument/_sfs-2021-1198\n",
      "\t "
     ]
    },
    {
     "data": {
      "text/html": [
       "<a href=https://www.riksdagen.se/sv/dokument-lagar/dokument/_sfs-2021-1198/></a>"
      ],
      "text/plain": [
       "<IPython.core.display.HTML object>"
      ]
     },
     "metadata": {},
     "output_type": "display_data"
    },
    {
     "name": "stdout",
     "output_type": "stream",
     "text": [
      "\n",
      "{'data': ['{\"name\": \"sdgs\", \"children\": [], \"api version\": \"v1\"}']}\n",
      "\n",
      " sfs-2021-1234\n",
      "\tjson url: http://data.riksdagen.se/dokument/sfs-2021-1234.json\n",
      "\tdoc url: https://www.riksdagen.se/sv/dokument-lagar/dokument/_sfs-2021-1234\n",
      "\t "
     ]
    },
    {
     "data": {
      "text/html": [
       "<a href=https://www.riksdagen.se/sv/dokument-lagar/dokument/_sfs-2021-1234/></a>"
      ],
      "text/plain": [
       "<IPython.core.display.HTML object>"
      ]
     },
     "metadata": {},
     "output_type": "display_data"
    },
    {
     "name": "stdout",
     "output_type": "stream",
     "text": [
      "\n",
      "{'data': ['{\"name\": \"sdgs\", \"children\": [], \"api version\": \"v1\"}']}\n",
      "\n",
      " sfs-2021-1207\n",
      "\tjson url: http://data.riksdagen.se/dokument/sfs-2021-1207.json\n",
      "\tdoc url: https://www.riksdagen.se/sv/dokument-lagar/dokument/_sfs-2021-1207\n",
      "\t "
     ]
    },
    {
     "data": {
      "text/html": [
       "<a href=https://www.riksdagen.se/sv/dokument-lagar/dokument/_sfs-2021-1207/></a>"
      ],
      "text/plain": [
       "<IPython.core.display.HTML object>"
      ]
     },
     "metadata": {},
     "output_type": "display_data"
    },
    {
     "name": "stdout",
     "output_type": "stream",
     "text": [
      "\n",
      "{'data': ['{\"name\": \"sdgs\", \"children\": [{\"name\": \"SDG 9\", \"n_occurrences\": 1, \"children\": [{\"n_occurrences\": 1, \"name\": \"Target 9.5\"}]}], \"api version\": \"v1\"}']}\n",
      "\n",
      " sfs-2021-1205\n",
      "\tjson url: http://data.riksdagen.se/dokument/sfs-2021-1205.json\n",
      "\tdoc url: https://www.riksdagen.se/sv/dokument-lagar/dokument/_sfs-2021-1205\n",
      "\t "
     ]
    },
    {
     "data": {
      "text/html": [
       "<a href=https://www.riksdagen.se/sv/dokument-lagar/dokument/_sfs-2021-1205/></a>"
      ],
      "text/plain": [
       "<IPython.core.display.HTML object>"
      ]
     },
     "metadata": {},
     "output_type": "display_data"
    },
    {
     "name": "stdout",
     "output_type": "stream",
     "text": [
      "\n",
      "{'data': ['{\"name\": \"sdgs\", \"children\": [], \"api version\": \"v1\"}']}\n",
      "\n",
      " sfs-2021-1188\n",
      "\tjson url: http://data.riksdagen.se/dokument/sfs-2021-1188.json\n",
      "\tdoc url: https://www.riksdagen.se/sv/dokument-lagar/dokument/_sfs-2021-1188\n",
      "\t "
     ]
    },
    {
     "data": {
      "text/html": [
       "<a href=https://www.riksdagen.se/sv/dokument-lagar/dokument/_sfs-2021-1188/></a>"
      ],
      "text/plain": [
       "<IPython.core.display.HTML object>"
      ]
     },
     "metadata": {},
     "output_type": "display_data"
    },
    {
     "name": "stdout",
     "output_type": "stream",
     "text": [
      "\n",
      "{'data': ['{\"name\": \"sdgs\", \"children\": [{\"name\": \"SDG 9\", \"n_occurrences\": 4, \"children\": [{\"n_occurrences\": 4, \"name\": \"Target 9.5\"}]}], \"api version\": \"v1\"}']}\n",
      "\n",
      " sfs-2021-1187\n",
      "\tjson url: http://data.riksdagen.se/dokument/sfs-2021-1187.json\n",
      "\tdoc url: https://www.riksdagen.se/sv/dokument-lagar/dokument/_sfs-2021-1187\n",
      "\t "
     ]
    },
    {
     "data": {
      "text/html": [
       "<a href=https://www.riksdagen.se/sv/dokument-lagar/dokument/_sfs-2021-1187/></a>"
      ],
      "text/plain": [
       "<IPython.core.display.HTML object>"
      ]
     },
     "metadata": {},
     "output_type": "display_data"
    },
    {
     "name": "stdout",
     "output_type": "stream",
     "text": [
      "\n",
      "{'data': ['{\"name\": \"sdgs\", \"children\": [], \"api version\": \"v1\"}']}\n",
      "\n",
      " sfs-2021-1172\n",
      "\tjson url: http://data.riksdagen.se/dokument/sfs-2021-1172.json\n",
      "\tdoc url: https://www.riksdagen.se/sv/dokument-lagar/dokument/_sfs-2021-1172\n",
      "\t "
     ]
    },
    {
     "data": {
      "text/html": [
       "<a href=https://www.riksdagen.se/sv/dokument-lagar/dokument/_sfs-2021-1172/></a>"
      ],
      "text/plain": [
       "<IPython.core.display.HTML object>"
      ]
     },
     "metadata": {},
     "output_type": "display_data"
    },
    {
     "name": "stdout",
     "output_type": "stream",
     "text": [
      "\n",
      "{'data': ['{\"name\": \"sdgs\", \"children\": [{\"name\": \"SDG 9\", \"n_occurrences\": 2, \"children\": [{\"n_occurrences\": 2, \"name\": \"Target 9.5\"}]}], \"api version\": \"v1\"}']}\n",
      "\n",
      " sfs-2021-1129\n",
      "\tjson url: http://data.riksdagen.se/dokument/sfs-2021-1129.json\n",
      "\tdoc url: https://www.riksdagen.se/sv/dokument-lagar/dokument/_sfs-2021-1129\n",
      "\t "
     ]
    },
    {
     "data": {
      "text/html": [
       "<a href=https://www.riksdagen.se/sv/dokument-lagar/dokument/_sfs-2021-1129/></a>"
      ],
      "text/plain": [
       "<IPython.core.display.HTML object>"
      ]
     },
     "metadata": {},
     "output_type": "display_data"
    },
    {
     "name": "stdout",
     "output_type": "stream",
     "text": [
      "\n",
      "{'data': ['{\"name\": \"sdgs\", \"children\": [{\"name\": \"SDG 9\", \"n_occurrences\": 4, \"children\": [{\"n_occurrences\": 4, \"name\": \"Target 9.5\"}]}], \"api version\": \"v1\"}']}\n",
      "\n",
      " sfs-2021-1146\n",
      "\tjson url: http://data.riksdagen.se/dokument/sfs-2021-1146.json\n",
      "\tdoc url: https://www.riksdagen.se/sv/dokument-lagar/dokument/_sfs-2021-1146\n",
      "\t "
     ]
    },
    {
     "data": {
      "text/html": [
       "<a href=https://www.riksdagen.se/sv/dokument-lagar/dokument/_sfs-2021-1146/></a>"
      ],
      "text/plain": [
       "<IPython.core.display.HTML object>"
      ]
     },
     "metadata": {},
     "output_type": "display_data"
    },
    {
     "name": "stdout",
     "output_type": "stream",
     "text": [
      "\n",
      "{'data': ['{\"name\": \"sdgs\", \"children\": [], \"api version\": \"v1\"}']}\n",
      "\n",
      " sfs-2021-1142\n",
      "\tjson url: http://data.riksdagen.se/dokument/sfs-2021-1142.json\n",
      "\tdoc url: https://www.riksdagen.se/sv/dokument-lagar/dokument/_sfs-2021-1142\n",
      "\t "
     ]
    },
    {
     "data": {
      "text/html": [
       "<a href=https://www.riksdagen.se/sv/dokument-lagar/dokument/_sfs-2021-1142/></a>"
      ],
      "text/plain": [
       "<IPython.core.display.HTML object>"
      ]
     },
     "metadata": {},
     "output_type": "display_data"
    },
    {
     "name": "stdout",
     "output_type": "stream",
     "text": [
      "\n",
      "{'data': ['{\"name\": \"sdgs\", \"children\": [], \"api version\": \"v1\"}']}\n",
      "\n",
      " sfs-2021-1171\n",
      "\tjson url: http://data.riksdagen.se/dokument/sfs-2021-1171.json\n",
      "\tdoc url: https://www.riksdagen.se/sv/dokument-lagar/dokument/_sfs-2021-1171\n",
      "\t "
     ]
    },
    {
     "data": {
      "text/html": [
       "<a href=https://www.riksdagen.se/sv/dokument-lagar/dokument/_sfs-2021-1171/></a>"
      ],
      "text/plain": [
       "<IPython.core.display.HTML object>"
      ]
     },
     "metadata": {},
     "output_type": "display_data"
    },
    {
     "name": "stdout",
     "output_type": "stream",
     "text": [
      "\n",
      "{'data': ['{\"name\": \"sdgs\", \"children\": [{\"name\": \"SDG 9\", \"n_occurrences\": 2, \"children\": [{\"n_occurrences\": 2, \"name\": \"Target 9.5\"}]}], \"api version\": \"v1\"}']}\n",
      "\n",
      " sfs-2021-1106\n",
      "\tjson url: http://data.riksdagen.se/dokument/sfs-2021-1106.json\n",
      "\tdoc url: https://www.riksdagen.se/sv/dokument-lagar/dokument/_sfs-2021-1106\n",
      "\t "
     ]
    },
    {
     "data": {
      "text/html": [
       "<a href=https://www.riksdagen.se/sv/dokument-lagar/dokument/_sfs-2021-1106/></a>"
      ],
      "text/plain": [
       "<IPython.core.display.HTML object>"
      ]
     },
     "metadata": {},
     "output_type": "display_data"
    },
    {
     "name": "stdout",
     "output_type": "stream",
     "text": [
      "\n",
      "{'data': ['{\"name\": \"sdgs\", \"children\": [{\"name\": \"SDG 1\", \"n_occurrences\": 2, \"children\": [{\"n_occurrences\": 1, \"name\": \"Target 1.3\"}, {\"n_occurrences\": 1, \"name\": \"Target 1.4\"}]}, {\"name\": \"SDG 4\", \"n_occurrences\": 3, \"children\": [{\"n_occurrences\": 1, \"name\": \"Target 4.b\"}, {\"n_occurrences\": 2, \"name\": \"SDG 4_undetected_target\"}]}, {\"name\": \"SDG 9\", \"n_occurrences\": 1, \"children\": [{\"n_occurrences\": 1, \"name\": \"Target 9.5\"}]}, {\"name\": \"SDG 10\", \"n_occurrences\": 1, \"children\": [{\"n_occurrences\": 1, \"name\": \"Target 10.1\"}]}, {\"name\": \"SDG 15\", \"n_occurrences\": 2, \"children\": [{\"n_occurrences\": 2, \"name\": \"Target 15.2\"}]}, {\"name\": \"SDG 16\", \"n_occurrences\": 1, \"children\": [{\"n_occurrences\": 1, \"name\": \"Target 16.10\"}]}, {\"name\": \"SDG 17\", \"n_occurrences\": 2, \"children\": [{\"n_occurrences\": 2, \"name\": \"Target 17.1\"}]}], \"api version\": \"v1\"}']}\n",
      "\n",
      " sfs-2021-1091\n",
      "\tjson url: http://data.riksdagen.se/dokument/sfs-2021-1091.json\n",
      "\tdoc url: https://www.riksdagen.se/sv/dokument-lagar/dokument/_sfs-2021-1091\n",
      "\t "
     ]
    },
    {
     "data": {
      "text/html": [
       "<a href=https://www.riksdagen.se/sv/dokument-lagar/dokument/_sfs-2021-1091/></a>"
      ],
      "text/plain": [
       "<IPython.core.display.HTML object>"
      ]
     },
     "metadata": {},
     "output_type": "display_data"
    },
    {
     "name": "stdout",
     "output_type": "stream",
     "text": [
      "\n",
      "{'data': ['{\"name\": \"sdgs\", \"children\": [], \"api version\": \"v1\"}']}\n",
      "\n",
      " sfs-2021-1105\n",
      "\tjson url: http://data.riksdagen.se/dokument/sfs-2021-1105.json\n",
      "\tdoc url: https://www.riksdagen.se/sv/dokument-lagar/dokument/_sfs-2021-1105\n",
      "\t "
     ]
    },
    {
     "data": {
      "text/html": [
       "<a href=https://www.riksdagen.se/sv/dokument-lagar/dokument/_sfs-2021-1105/></a>"
      ],
      "text/plain": [
       "<IPython.core.display.HTML object>"
      ]
     },
     "metadata": {},
     "output_type": "display_data"
    },
    {
     "name": "stdout",
     "output_type": "stream",
     "text": [
      "\n",
      "{'data': ['{\"name\": \"sdgs\", \"children\": [{\"name\": \"SDG 9\", \"n_occurrences\": 1, \"children\": [{\"n_occurrences\": 1, \"name\": \"Target 9.5\"}]}], \"api version\": \"v1\"}']}\n",
      "\n",
      " sfs-2021-1092\n",
      "\tjson url: http://data.riksdagen.se/dokument/sfs-2021-1092.json\n",
      "\tdoc url: https://www.riksdagen.se/sv/dokument-lagar/dokument/_sfs-2021-1092\n",
      "\t "
     ]
    },
    {
     "data": {
      "text/html": [
       "<a href=https://www.riksdagen.se/sv/dokument-lagar/dokument/_sfs-2021-1092/></a>"
      ],
      "text/plain": [
       "<IPython.core.display.HTML object>"
      ]
     },
     "metadata": {},
     "output_type": "display_data"
    },
    {
     "name": "stdout",
     "output_type": "stream",
     "text": [
      "\n",
      "{'data': ['{\"name\": \"sdgs\", \"children\": [], \"api version\": \"v1\"}']}\n",
      "\n",
      " sfs-2021-1124\n",
      "\tjson url: http://data.riksdagen.se/dokument/sfs-2021-1124.json\n",
      "\tdoc url: https://www.riksdagen.se/sv/dokument-lagar/dokument/_sfs-2021-1124\n",
      "\t "
     ]
    },
    {
     "data": {
      "text/html": [
       "<a href=https://www.riksdagen.se/sv/dokument-lagar/dokument/_sfs-2021-1124/></a>"
      ],
      "text/plain": [
       "<IPython.core.display.HTML object>"
      ]
     },
     "metadata": {},
     "output_type": "display_data"
    },
    {
     "name": "stdout",
     "output_type": "stream",
     "text": [
      "\n",
      "{'data': ['{\"name\": \"sdgs\", \"children\": [], \"api version\": \"v1\"}']}\n",
      "\n",
      " sfs-2021-1117\n",
      "\tjson url: http://data.riksdagen.se/dokument/sfs-2021-1117.json\n",
      "\tdoc url: https://www.riksdagen.se/sv/dokument-lagar/dokument/_sfs-2021-1117\n",
      "\t "
     ]
    },
    {
     "data": {
      "text/html": [
       "<a href=https://www.riksdagen.se/sv/dokument-lagar/dokument/_sfs-2021-1117/></a>"
      ],
      "text/plain": [
       "<IPython.core.display.HTML object>"
      ]
     },
     "metadata": {},
     "output_type": "display_data"
    },
    {
     "name": "stdout",
     "output_type": "stream",
     "text": [
      "\n",
      "{'data': ['{\"name\": \"sdgs\", \"children\": [], \"api version\": \"v1\"}']}\n",
      "\n",
      " sfs-2021-1085\n",
      "\tjson url: http://data.riksdagen.se/dokument/sfs-2021-1085.json\n",
      "\tdoc url: https://www.riksdagen.se/sv/dokument-lagar/dokument/_sfs-2021-1085\n",
      "\t "
     ]
    },
    {
     "data": {
      "text/html": [
       "<a href=https://www.riksdagen.se/sv/dokument-lagar/dokument/_sfs-2021-1085/></a>"
      ],
      "text/plain": [
       "<IPython.core.display.HTML object>"
      ]
     },
     "metadata": {},
     "output_type": "display_data"
    },
    {
     "name": "stdout",
     "output_type": "stream",
     "text": [
      "\n",
      "{'data': ['{\"name\": \"sdgs\", \"children\": [], \"api version\": \"v1\"}']}\n",
      "\n",
      " sfs-2021-1070\n",
      "\tjson url: http://data.riksdagen.se/dokument/sfs-2021-1070.json\n",
      "\tdoc url: https://www.riksdagen.se/sv/dokument-lagar/dokument/_sfs-2021-1070\n",
      "\t "
     ]
    },
    {
     "data": {
      "text/html": [
       "<a href=https://www.riksdagen.se/sv/dokument-lagar/dokument/_sfs-2021-1070/></a>"
      ],
      "text/plain": [
       "<IPython.core.display.HTML object>"
      ]
     },
     "metadata": {},
     "output_type": "display_data"
    },
    {
     "name": "stdout",
     "output_type": "stream",
     "text": [
      "\n",
      "{'data': ['{\"name\": \"sdgs\", \"children\": [], \"api version\": \"v1\"}']}\n",
      "\n",
      " sfs-2021-1078\n",
      "\tjson url: http://data.riksdagen.se/dokument/sfs-2021-1078.json\n",
      "\tdoc url: https://www.riksdagen.se/sv/dokument-lagar/dokument/_sfs-2021-1078\n",
      "\t "
     ]
    },
    {
     "data": {
      "text/html": [
       "<a href=https://www.riksdagen.se/sv/dokument-lagar/dokument/_sfs-2021-1078/></a>"
      ],
      "text/plain": [
       "<IPython.core.display.HTML object>"
      ]
     },
     "metadata": {},
     "output_type": "display_data"
    },
    {
     "name": "stdout",
     "output_type": "stream",
     "text": [
      "\n",
      "{'data': ['{\"name\": \"sdgs\", \"children\": [], \"api version\": \"v1\"}']}\n",
      "\n",
      " sfs-2021-1081\n",
      "\tjson url: http://data.riksdagen.se/dokument/sfs-2021-1081.json\n",
      "\tdoc url: https://www.riksdagen.se/sv/dokument-lagar/dokument/_sfs-2021-1081\n",
      "\t "
     ]
    },
    {
     "data": {
      "text/html": [
       "<a href=https://www.riksdagen.se/sv/dokument-lagar/dokument/_sfs-2021-1081/></a>"
      ],
      "text/plain": [
       "<IPython.core.display.HTML object>"
      ]
     },
     "metadata": {},
     "output_type": "display_data"
    },
    {
     "name": "stdout",
     "output_type": "stream",
     "text": [
      "\n",
      "{'data': ['{\"name\": \"sdgs\", \"children\": [], \"api version\": \"v1\"}']}\n",
      "\n",
      " sfs-2021-1076\n",
      "\tjson url: http://data.riksdagen.se/dokument/sfs-2021-1076.json\n",
      "\tdoc url: https://www.riksdagen.se/sv/dokument-lagar/dokument/_sfs-2021-1076\n",
      "\t "
     ]
    },
    {
     "data": {
      "text/html": [
       "<a href=https://www.riksdagen.se/sv/dokument-lagar/dokument/_sfs-2021-1076/></a>"
      ],
      "text/plain": [
       "<IPython.core.display.HTML object>"
      ]
     },
     "metadata": {},
     "output_type": "display_data"
    },
    {
     "name": "stdout",
     "output_type": "stream",
     "text": [
      "\n",
      "{'data': ['{\"name\": \"sdgs\", \"children\": [], \"api version\": \"v1\"}']}\n",
      "\n",
      " sfs-2021-1082\n",
      "\tjson url: http://data.riksdagen.se/dokument/sfs-2021-1082.json\n",
      "\tdoc url: https://www.riksdagen.se/sv/dokument-lagar/dokument/_sfs-2021-1082\n",
      "\t "
     ]
    },
    {
     "data": {
      "text/html": [
       "<a href=https://www.riksdagen.se/sv/dokument-lagar/dokument/_sfs-2021-1082/></a>"
      ],
      "text/plain": [
       "<IPython.core.display.HTML object>"
      ]
     },
     "metadata": {},
     "output_type": "display_data"
    },
    {
     "name": "stdout",
     "output_type": "stream",
     "text": [
      "\n",
      "{'data': ['{\"name\": \"sdgs\", \"children\": [], \"api version\": \"v1\"}']}\n",
      "\n",
      " sfs-2021-1080\n",
      "\tjson url: http://data.riksdagen.se/dokument/sfs-2021-1080.json\n",
      "\tdoc url: https://www.riksdagen.se/sv/dokument-lagar/dokument/_sfs-2021-1080\n",
      "\t "
     ]
    },
    {
     "data": {
      "text/html": [
       "<a href=https://www.riksdagen.se/sv/dokument-lagar/dokument/_sfs-2021-1080/></a>"
      ],
      "text/plain": [
       "<IPython.core.display.HTML object>"
      ]
     },
     "metadata": {},
     "output_type": "display_data"
    },
    {
     "name": "stdout",
     "output_type": "stream",
     "text": [
      "\n",
      "{'data': ['{\"name\": \"sdgs\", \"children\": [], \"api version\": \"v1\"}']}\n",
      "\n",
      " sfs-2021-1079\n",
      "\tjson url: http://data.riksdagen.se/dokument/sfs-2021-1079.json\n",
      "\tdoc url: https://www.riksdagen.se/sv/dokument-lagar/dokument/_sfs-2021-1079\n",
      "\t "
     ]
    },
    {
     "data": {
      "text/html": [
       "<a href=https://www.riksdagen.se/sv/dokument-lagar/dokument/_sfs-2021-1079/></a>"
      ],
      "text/plain": [
       "<IPython.core.display.HTML object>"
      ]
     },
     "metadata": {},
     "output_type": "display_data"
    },
    {
     "name": "stdout",
     "output_type": "stream",
     "text": [
      "\n",
      "{'data': ['{\"name\": \"sdgs\", \"children\": [], \"api version\": \"v1\"}']}\n",
      "\n",
      " sfs-2021-1077\n",
      "\tjson url: http://data.riksdagen.se/dokument/sfs-2021-1077.json\n",
      "\tdoc url: https://www.riksdagen.se/sv/dokument-lagar/dokument/_sfs-2021-1077\n",
      "\t "
     ]
    },
    {
     "data": {
      "text/html": [
       "<a href=https://www.riksdagen.se/sv/dokument-lagar/dokument/_sfs-2021-1077/></a>"
      ],
      "text/plain": [
       "<IPython.core.display.HTML object>"
      ]
     },
     "metadata": {},
     "output_type": "display_data"
    },
    {
     "name": "stdout",
     "output_type": "stream",
     "text": [
      "\n",
      "{'data': ['{\"name\": \"sdgs\", \"children\": [], \"api version\": \"v1\"}']}\n",
      "\n",
      " sfs-2021-1083\n",
      "\tjson url: http://data.riksdagen.se/dokument/sfs-2021-1083.json\n",
      "\tdoc url: https://www.riksdagen.se/sv/dokument-lagar/dokument/_sfs-2021-1083\n",
      "\t "
     ]
    },
    {
     "data": {
      "text/html": [
       "<a href=https://www.riksdagen.se/sv/dokument-lagar/dokument/_sfs-2021-1083/></a>"
      ],
      "text/plain": [
       "<IPython.core.display.HTML object>"
      ]
     },
     "metadata": {},
     "output_type": "display_data"
    },
    {
     "name": "stdout",
     "output_type": "stream",
     "text": [
      "\n",
      "{'data': ['{\"name\": \"sdgs\", \"children\": [], \"api version\": \"v1\"}']}\n",
      "\n",
      " sfs-2021-989\n",
      "\tjson url: http://data.riksdagen.se/dokument/sfs-2021-989.json\n",
      "\tdoc url: https://www.riksdagen.se/sv/dokument-lagar/dokument/_sfs-2021-989\n",
      "\t "
     ]
    },
    {
     "data": {
      "text/html": [
       "<a href=https://www.riksdagen.se/sv/dokument-lagar/dokument/_sfs-2021-989/></a>"
      ],
      "text/plain": [
       "<IPython.core.display.HTML object>"
      ]
     },
     "metadata": {},
     "output_type": "display_data"
    },
    {
     "name": "stdout",
     "output_type": "stream",
     "text": [
      "\n",
      "{'data': ['{\"name\": \"sdgs\", \"children\": [{\"name\": \"SDG 1\", \"n_occurrences\": 5, \"children\": [{\"n_occurrences\": 5, \"name\": \"Target 1.3\"}]}, {\"name\": \"SDG 9\", \"n_occurrences\": 1, \"children\": [{\"n_occurrences\": 1, \"name\": \"Target 9.5\"}]}, {\"name\": \"SDG 10\", \"n_occurrences\": 2, \"children\": [{\"n_occurrences\": 2, \"name\": \"Target 10.3\"}]}], \"api version\": \"v1\"}']}\n",
      "\n",
      " sfs-2021-988\n",
      "\tjson url: http://data.riksdagen.se/dokument/sfs-2021-988.json\n",
      "\tdoc url: https://www.riksdagen.se/sv/dokument-lagar/dokument/_sfs-2021-988\n",
      "\t "
     ]
    },
    {
     "data": {
      "text/html": [
       "<a href=https://www.riksdagen.se/sv/dokument-lagar/dokument/_sfs-2021-988/></a>"
      ],
      "text/plain": [
       "<IPython.core.display.HTML object>"
      ]
     },
     "metadata": {},
     "output_type": "display_data"
    },
    {
     "name": "stdout",
     "output_type": "stream",
     "text": [
      "\n",
      "{'data': ['{\"name\": \"sdgs\", \"children\": [], \"api version\": \"v1\"}']}\n",
      "\n",
      " sfs-2021-994\n",
      "\tjson url: http://data.riksdagen.se/dokument/sfs-2021-994.json\n",
      "\tdoc url: https://www.riksdagen.se/sv/dokument-lagar/dokument/_sfs-2021-994\n",
      "\t "
     ]
    },
    {
     "data": {
      "text/html": [
       "<a href=https://www.riksdagen.se/sv/dokument-lagar/dokument/_sfs-2021-994/></a>"
      ],
      "text/plain": [
       "<IPython.core.display.HTML object>"
      ]
     },
     "metadata": {},
     "output_type": "display_data"
    },
    {
     "name": "stdout",
     "output_type": "stream",
     "text": [
      "\n",
      "{'data': ['{\"name\": \"sdgs\", \"children\": [], \"api version\": \"v1\"}']}\n",
      "\n",
      " sfs-2021-993\n",
      "\tjson url: http://data.riksdagen.se/dokument/sfs-2021-993.json\n",
      "\tdoc url: https://www.riksdagen.se/sv/dokument-lagar/dokument/_sfs-2021-993\n",
      "\t "
     ]
    },
    {
     "data": {
      "text/html": [
       "<a href=https://www.riksdagen.se/sv/dokument-lagar/dokument/_sfs-2021-993/></a>"
      ],
      "text/plain": [
       "<IPython.core.display.HTML object>"
      ]
     },
     "metadata": {},
     "output_type": "display_data"
    },
    {
     "name": "stdout",
     "output_type": "stream",
     "text": [
      "\n",
      "{'data': ['{\"name\": \"sdgs\", \"children\": [], \"api version\": \"v1\"}']}\n",
      "\n",
      " sfs-2021-992\n",
      "\tjson url: http://data.riksdagen.se/dokument/sfs-2021-992.json\n",
      "\tdoc url: https://www.riksdagen.se/sv/dokument-lagar/dokument/_sfs-2021-992\n",
      "\t "
     ]
    },
    {
     "data": {
      "text/html": [
       "<a href=https://www.riksdagen.se/sv/dokument-lagar/dokument/_sfs-2021-992/></a>"
      ],
      "text/plain": [
       "<IPython.core.display.HTML object>"
      ]
     },
     "metadata": {},
     "output_type": "display_data"
    },
    {
     "name": "stdout",
     "output_type": "stream",
     "text": [
      "\n",
      "{'data': ['{\"name\": \"sdgs\", \"children\": [], \"api version\": \"v1\"}']}\n",
      "\n",
      " sfs-2021-999\n",
      "\tjson url: http://data.riksdagen.se/dokument/sfs-2021-999.json\n",
      "\tdoc url: https://www.riksdagen.se/sv/dokument-lagar/dokument/_sfs-2021-999\n",
      "\t "
     ]
    },
    {
     "data": {
      "text/html": [
       "<a href=https://www.riksdagen.se/sv/dokument-lagar/dokument/_sfs-2021-999/></a>"
      ],
      "text/plain": [
       "<IPython.core.display.HTML object>"
      ]
     },
     "metadata": {},
     "output_type": "display_data"
    },
    {
     "name": "stdout",
     "output_type": "stream",
     "text": [
      "\n",
      "{'data': ['{\"name\": \"sdgs\", \"children\": [], \"api version\": \"v1\"}']}\n",
      "\n",
      " sfs-2021-1000\n",
      "\tjson url: http://data.riksdagen.se/dokument/sfs-2021-1000.json\n",
      "\tdoc url: https://www.riksdagen.se/sv/dokument-lagar/dokument/_sfs-2021-1000\n",
      "\t "
     ]
    },
    {
     "data": {
      "text/html": [
       "<a href=https://www.riksdagen.se/sv/dokument-lagar/dokument/_sfs-2021-1000/></a>"
      ],
      "text/plain": [
       "<IPython.core.display.HTML object>"
      ]
     },
     "metadata": {},
     "output_type": "display_data"
    },
    {
     "name": "stdout",
     "output_type": "stream",
     "text": [
      "\n",
      "{'data': ['{\"name\": \"sdgs\", \"children\": [], \"api version\": \"v1\"}']}\n",
      "\n",
      " sfs-2021-998\n",
      "\tjson url: http://data.riksdagen.se/dokument/sfs-2021-998.json\n",
      "\tdoc url: https://www.riksdagen.se/sv/dokument-lagar/dokument/_sfs-2021-998\n",
      "\t "
     ]
    },
    {
     "data": {
      "text/html": [
       "<a href=https://www.riksdagen.se/sv/dokument-lagar/dokument/_sfs-2021-998/></a>"
      ],
      "text/plain": [
       "<IPython.core.display.HTML object>"
      ]
     },
     "metadata": {},
     "output_type": "display_data"
    },
    {
     "name": "stdout",
     "output_type": "stream",
     "text": [
      "\n",
      "{'data': ['{\"name\": \"sdgs\", \"children\": [], \"api version\": \"v1\"}']}\n",
      "\n",
      " sfs-2021-996\n",
      "\tjson url: http://data.riksdagen.se/dokument/sfs-2021-996.json\n",
      "\tdoc url: https://www.riksdagen.se/sv/dokument-lagar/dokument/_sfs-2021-996\n",
      "\t "
     ]
    },
    {
     "data": {
      "text/html": [
       "<a href=https://www.riksdagen.se/sv/dokument-lagar/dokument/_sfs-2021-996/></a>"
      ],
      "text/plain": [
       "<IPython.core.display.HTML object>"
      ]
     },
     "metadata": {},
     "output_type": "display_data"
    },
    {
     "name": "stdout",
     "output_type": "stream",
     "text": [
      "\n",
      "{'data': ['{\"name\": \"sdgs\", \"children\": [], \"api version\": \"v1\"}']}\n",
      "\n",
      " sfs-2021-995\n",
      "\tjson url: http://data.riksdagen.se/dokument/sfs-2021-995.json\n",
      "\tdoc url: https://www.riksdagen.se/sv/dokument-lagar/dokument/_sfs-2021-995\n",
      "\t "
     ]
    },
    {
     "data": {
      "text/html": [
       "<a href=https://www.riksdagen.se/sv/dokument-lagar/dokument/_sfs-2021-995/></a>"
      ],
      "text/plain": [
       "<IPython.core.display.HTML object>"
      ]
     },
     "metadata": {},
     "output_type": "display_data"
    },
    {
     "name": "stdout",
     "output_type": "stream",
     "text": [
      "\n",
      "{'data': ['{\"name\": \"sdgs\", \"children\": [], \"api version\": \"v1\"}']}\n",
      "\n",
      " sfs-2021-1046\n",
      "\tjson url: http://data.riksdagen.se/dokument/sfs-2021-1046.json\n",
      "\tdoc url: https://www.riksdagen.se/sv/dokument-lagar/dokument/_sfs-2021-1046\n",
      "\t "
     ]
    },
    {
     "data": {
      "text/html": [
       "<a href=https://www.riksdagen.se/sv/dokument-lagar/dokument/_sfs-2021-1046/></a>"
      ],
      "text/plain": [
       "<IPython.core.display.HTML object>"
      ]
     },
     "metadata": {},
     "output_type": "display_data"
    },
    {
     "name": "stdout",
     "output_type": "stream",
     "text": [
      "\n",
      "{'data': ['{\"name\": \"sdgs\", \"children\": [{\"name\": \"SDG 9\", \"n_occurrences\": 7, \"children\": [{\"n_occurrences\": 7, \"name\": \"SDG 9_undetected_target\"}]}], \"api version\": \"v1\"}']}\n",
      "\n",
      " sfs-2021-1001\n",
      "\tjson url: http://data.riksdagen.se/dokument/sfs-2021-1001.json\n",
      "\tdoc url: https://www.riksdagen.se/sv/dokument-lagar/dokument/_sfs-2021-1001\n",
      "\t "
     ]
    },
    {
     "data": {
      "text/html": [
       "<a href=https://www.riksdagen.se/sv/dokument-lagar/dokument/_sfs-2021-1001/></a>"
      ],
      "text/plain": [
       "<IPython.core.display.HTML object>"
      ]
     },
     "metadata": {},
     "output_type": "display_data"
    },
    {
     "name": "stdout",
     "output_type": "stream",
     "text": [
      "\n",
      "{'data': ['{\"name\": \"sdgs\", \"children\": [], \"api version\": \"v1\"}']}\n",
      "\n",
      " sfs-2021-996\n",
      "\tjson url: http://data.riksdagen.se/dokument/sfs-2021-996.json\n",
      "\tdoc url: https://www.riksdagen.se/sv/dokument-lagar/dokument/_sfs-2021-996\n",
      "\t "
     ]
    },
    {
     "data": {
      "text/html": [
       "<a href=https://www.riksdagen.se/sv/dokument-lagar/dokument/_sfs-2021-996/></a>"
      ],
      "text/plain": [
       "<IPython.core.display.HTML object>"
      ]
     },
     "metadata": {},
     "output_type": "display_data"
    },
    {
     "name": "stdout",
     "output_type": "stream",
     "text": [
      "\n",
      "{'data': ['{\"name\": \"sdgs\", \"children\": [], \"api version\": \"v1\"}']}\n",
      "\n",
      " sfs-2021-995\n",
      "\tjson url: http://data.riksdagen.se/dokument/sfs-2021-995.json\n",
      "\tdoc url: https://www.riksdagen.se/sv/dokument-lagar/dokument/_sfs-2021-995\n",
      "\t "
     ]
    },
    {
     "data": {
      "text/html": [
       "<a href=https://www.riksdagen.se/sv/dokument-lagar/dokument/_sfs-2021-995/></a>"
      ],
      "text/plain": [
       "<IPython.core.display.HTML object>"
      ]
     },
     "metadata": {},
     "output_type": "display_data"
    },
    {
     "name": "stdout",
     "output_type": "stream",
     "text": [
      "\n",
      "{'data': ['{\"name\": \"sdgs\", \"children\": [], \"api version\": \"v1\"}']}\n",
      "\n",
      " sfs-2021-1046\n",
      "\tjson url: http://data.riksdagen.se/dokument/sfs-2021-1046.json\n",
      "\tdoc url: https://www.riksdagen.se/sv/dokument-lagar/dokument/_sfs-2021-1046\n",
      "\t "
     ]
    },
    {
     "data": {
      "text/html": [
       "<a href=https://www.riksdagen.se/sv/dokument-lagar/dokument/_sfs-2021-1046/></a>"
      ],
      "text/plain": [
       "<IPython.core.display.HTML object>"
      ]
     },
     "metadata": {},
     "output_type": "display_data"
    },
    {
     "name": "stdout",
     "output_type": "stream",
     "text": [
      "\n",
      "{'data': ['{\"name\": \"sdgs\", \"children\": [{\"name\": \"SDG 9\", \"n_occurrences\": 7, \"children\": [{\"n_occurrences\": 7, \"name\": \"SDG 9_undetected_target\"}]}], \"api version\": \"v1\"}']}\n",
      "\n",
      " sfs-2021-989\n",
      "\tjson url: http://data.riksdagen.se/dokument/sfs-2021-989.json\n",
      "\tdoc url: https://www.riksdagen.se/sv/dokument-lagar/dokument/_sfs-2021-989\n",
      "\t "
     ]
    },
    {
     "data": {
      "text/html": [
       "<a href=https://www.riksdagen.se/sv/dokument-lagar/dokument/_sfs-2021-989/></a>"
      ],
      "text/plain": [
       "<IPython.core.display.HTML object>"
      ]
     },
     "metadata": {},
     "output_type": "display_data"
    },
    {
     "name": "stdout",
     "output_type": "stream",
     "text": [
      "\n",
      "{'data': ['{\"name\": \"sdgs\", \"children\": [{\"name\": \"SDG 1\", \"n_occurrences\": 5, \"children\": [{\"n_occurrences\": 5, \"name\": \"Target 1.3\"}]}, {\"name\": \"SDG 9\", \"n_occurrences\": 1, \"children\": [{\"n_occurrences\": 1, \"name\": \"Target 9.5\"}]}, {\"name\": \"SDG 10\", \"n_occurrences\": 2, \"children\": [{\"n_occurrences\": 2, \"name\": \"Target 10.3\"}]}], \"api version\": \"v1\"}']}\n",
      "\n",
      " sfs-2021-988\n",
      "\tjson url: http://data.riksdagen.se/dokument/sfs-2021-988.json\n",
      "\tdoc url: https://www.riksdagen.se/sv/dokument-lagar/dokument/_sfs-2021-988\n",
      "\t "
     ]
    },
    {
     "data": {
      "text/html": [
       "<a href=https://www.riksdagen.se/sv/dokument-lagar/dokument/_sfs-2021-988/></a>"
      ],
      "text/plain": [
       "<IPython.core.display.HTML object>"
      ]
     },
     "metadata": {},
     "output_type": "display_data"
    },
    {
     "name": "stdout",
     "output_type": "stream",
     "text": [
      "\n",
      "{'data': ['{\"name\": \"sdgs\", \"children\": [], \"api version\": \"v1\"}']}\n",
      "\n",
      " sfs-2021-950\n",
      "\tjson url: http://data.riksdagen.se/dokument/sfs-2021-950.json\n",
      "\tdoc url: https://www.riksdagen.se/sv/dokument-lagar/dokument/_sfs-2021-950\n",
      "\t "
     ]
    },
    {
     "data": {
      "text/html": [
       "<a href=https://www.riksdagen.se/sv/dokument-lagar/dokument/_sfs-2021-950/></a>"
      ],
      "text/plain": [
       "<IPython.core.display.HTML object>"
      ]
     },
     "metadata": {},
     "output_type": "display_data"
    },
    {
     "name": "stdout",
     "output_type": "stream",
     "text": [
      "\n",
      "{'data': ['{\"name\": \"sdgs\", \"children\": [], \"api version\": \"v1\"}']}\n",
      "\n",
      " sfs-2021-949\n",
      "\tjson url: http://data.riksdagen.se/dokument/sfs-2021-949.json\n",
      "\tdoc url: https://www.riksdagen.se/sv/dokument-lagar/dokument/_sfs-2021-949\n",
      "\t "
     ]
    },
    {
     "data": {
      "text/html": [
       "<a href=https://www.riksdagen.se/sv/dokument-lagar/dokument/_sfs-2021-949/></a>"
      ],
      "text/plain": [
       "<IPython.core.display.HTML object>"
      ]
     },
     "metadata": {},
     "output_type": "display_data"
    },
    {
     "name": "stdout",
     "output_type": "stream",
     "text": [
      "\n",
      "{'data': ['{\"name\": \"sdgs\", \"children\": [{\"name\": \"SDG 9\", \"n_occurrences\": 2, \"children\": [{\"n_occurrences\": 2, \"name\": \"Target 9.5\"}]}], \"api version\": \"v1\"}']}\n",
      "\n",
      " sfs-2021-975\n",
      "\tjson url: http://data.riksdagen.se/dokument/sfs-2021-975.json\n",
      "\tdoc url: https://www.riksdagen.se/sv/dokument-lagar/dokument/_sfs-2021-975\n",
      "\t "
     ]
    },
    {
     "data": {
      "text/html": [
       "<a href=https://www.riksdagen.se/sv/dokument-lagar/dokument/_sfs-2021-975/></a>"
      ],
      "text/plain": [
       "<IPython.core.display.HTML object>"
      ]
     },
     "metadata": {},
     "output_type": "display_data"
    },
    {
     "name": "stdout",
     "output_type": "stream",
     "text": [
      "\n",
      "{'data': ['{\"name\": \"sdgs\", \"children\": [{\"name\": \"SDG 9\", \"n_occurrences\": 4, \"children\": [{\"n_occurrences\": 4, \"name\": \"Target 9.5\"}]}], \"api version\": \"v1\"}']}\n",
      "\n",
      " sfs-2021-955\n",
      "\tjson url: http://data.riksdagen.se/dokument/sfs-2021-955.json\n",
      "\tdoc url: https://www.riksdagen.se/sv/dokument-lagar/dokument/_sfs-2021-955\n",
      "\t "
     ]
    },
    {
     "data": {
      "text/html": [
       "<a href=https://www.riksdagen.se/sv/dokument-lagar/dokument/_sfs-2021-955/></a>"
      ],
      "text/plain": [
       "<IPython.core.display.HTML object>"
      ]
     },
     "metadata": {},
     "output_type": "display_data"
    },
    {
     "name": "stdout",
     "output_type": "stream",
     "text": [
      "\n",
      "{'data': ['{\"name\": \"sdgs\", \"children\": [{\"name\": \"SDG 9\", \"n_occurrences\": 3, \"children\": [{\"n_occurrences\": 1, \"name\": \"Target 9.5\"}, {\"n_occurrences\": 2, \"name\": \"SDG 9_undetected_target\"}]}], \"api version\": \"v1\"}']}\n",
      "\n",
      " sfs-N2020-13\n",
      "\tjson url: http://data.riksdagen.se/dokument/sfs-N2020-13.json\n",
      "\tdoc url: https://www.riksdagen.se/sv/dokument-lagar/dokument/_sfs-N2020-13\n",
      "\t "
     ]
    },
    {
     "data": {
      "text/html": [
       "<a href=https://www.riksdagen.se/sv/dokument-lagar/dokument/_sfs-N2020-13/></a>"
      ],
      "text/plain": [
       "<IPython.core.display.HTML object>"
      ]
     },
     "metadata": {},
     "output_type": "display_data"
    },
    {
     "name": "stdout",
     "output_type": "stream",
     "text": [
      "\n",
      "\t No text\n",
      "\n",
      " sfs-2021-937\n",
      "\tjson url: http://data.riksdagen.se/dokument/sfs-2021-937.json\n",
      "\tdoc url: https://www.riksdagen.se/sv/dokument-lagar/dokument/_sfs-2021-937\n",
      "\t "
     ]
    },
    {
     "data": {
      "text/html": [
       "<a href=https://www.riksdagen.se/sv/dokument-lagar/dokument/_sfs-2021-937/></a>"
      ],
      "text/plain": [
       "<IPython.core.display.HTML object>"
      ]
     },
     "metadata": {},
     "output_type": "display_data"
    },
    {
     "name": "stdout",
     "output_type": "stream",
     "text": [
      "\n",
      "{'data': ['{\"name\": \"sdgs\", \"children\": [], \"api version\": \"v1\"}']}\n",
      "\n",
      " sfs-2021-943\n",
      "\tjson url: http://data.riksdagen.se/dokument/sfs-2021-943.json\n",
      "\tdoc url: https://www.riksdagen.se/sv/dokument-lagar/dokument/_sfs-2021-943\n",
      "\t "
     ]
    },
    {
     "data": {
      "text/html": [
       "<a href=https://www.riksdagen.se/sv/dokument-lagar/dokument/_sfs-2021-943/></a>"
      ],
      "text/plain": [
       "<IPython.core.display.HTML object>"
      ]
     },
     "metadata": {},
     "output_type": "display_data"
    },
    {
     "name": "stdout",
     "output_type": "stream",
     "text": [
      "\n",
      "{'data': ['{\"name\": \"sdgs\", \"children\": [], \"api version\": \"v1\"}']}\n",
      "\n",
      " sfs-2021-930\n",
      "\tjson url: http://data.riksdagen.se/dokument/sfs-2021-930.json\n",
      "\tdoc url: https://www.riksdagen.se/sv/dokument-lagar/dokument/_sfs-2021-930\n",
      "\t "
     ]
    },
    {
     "data": {
      "text/html": [
       "<a href=https://www.riksdagen.se/sv/dokument-lagar/dokument/_sfs-2021-930/></a>"
      ],
      "text/plain": [
       "<IPython.core.display.HTML object>"
      ]
     },
     "metadata": {},
     "output_type": "display_data"
    },
    {
     "name": "stdout",
     "output_type": "stream",
     "text": [
      "\n",
      "{'data': ['{\"name\": \"sdgs\", \"children\": [], \"api version\": \"v1\"}']}\n",
      "\n",
      " sfs-2021-931\n",
      "\tjson url: http://data.riksdagen.se/dokument/sfs-2021-931.json\n",
      "\tdoc url: https://www.riksdagen.se/sv/dokument-lagar/dokument/_sfs-2021-931\n",
      "\t "
     ]
    },
    {
     "data": {
      "text/html": [
       "<a href=https://www.riksdagen.se/sv/dokument-lagar/dokument/_sfs-2021-931/></a>"
      ],
      "text/plain": [
       "<IPython.core.display.HTML object>"
      ]
     },
     "metadata": {},
     "output_type": "display_data"
    },
    {
     "name": "stdout",
     "output_type": "stream",
     "text": [
      "\n",
      "{'data': ['{\"name\": \"sdgs\", \"children\": [], \"api version\": \"v1\"}']}\n",
      "\n",
      " sfs-2021-909\n",
      "\tjson url: http://data.riksdagen.se/dokument/sfs-2021-909.json\n",
      "\tdoc url: https://www.riksdagen.se/sv/dokument-lagar/dokument/_sfs-2021-909\n",
      "\t "
     ]
    },
    {
     "data": {
      "text/html": [
       "<a href=https://www.riksdagen.se/sv/dokument-lagar/dokument/_sfs-2021-909/></a>"
      ],
      "text/plain": [
       "<IPython.core.display.HTML object>"
      ]
     },
     "metadata": {},
     "output_type": "display_data"
    },
    {
     "name": "stdout",
     "output_type": "stream",
     "text": [
      "\n",
      "{'data': ['{\"name\": \"sdgs\", \"children\": [{\"name\": \"SDG 9\", \"n_occurrences\": 1, \"children\": [{\"n_occurrences\": 1, \"name\": \"Target 9.5\"}]}], \"api version\": \"v1\"}']}\n",
      "\n",
      " sfs-2021-905\n",
      "\tjson url: http://data.riksdagen.se/dokument/sfs-2021-905.json\n",
      "\tdoc url: https://www.riksdagen.se/sv/dokument-lagar/dokument/_sfs-2021-905\n",
      "\t "
     ]
    },
    {
     "data": {
      "text/html": [
       "<a href=https://www.riksdagen.se/sv/dokument-lagar/dokument/_sfs-2021-905/></a>"
      ],
      "text/plain": [
       "<IPython.core.display.HTML object>"
      ]
     },
     "metadata": {},
     "output_type": "display_data"
    },
    {
     "name": "stdout",
     "output_type": "stream",
     "text": [
      "\n",
      "{'data': ['{\"name\": \"sdgs\", \"children\": [], \"api version\": \"v1\"}']}\n",
      "\n",
      " sfs-2021-899\n",
      "\tjson url: http://data.riksdagen.se/dokument/sfs-2021-899.json\n",
      "\tdoc url: https://www.riksdagen.se/sv/dokument-lagar/dokument/_sfs-2021-899\n",
      "\t "
     ]
    },
    {
     "data": {
      "text/html": [
       "<a href=https://www.riksdagen.se/sv/dokument-lagar/dokument/_sfs-2021-899/></a>"
      ],
      "text/plain": [
       "<IPython.core.display.HTML object>"
      ]
     },
     "metadata": {},
     "output_type": "display_data"
    },
    {
     "name": "stdout",
     "output_type": "stream",
     "text": [
      "\n",
      "{'data': ['{\"name\": \"sdgs\", \"children\": [{\"name\": \"SDG 9\", \"n_occurrences\": 2, \"children\": [{\"n_occurrences\": 2, \"name\": \"Target 9.5\"}]}], \"api version\": \"v1\"}']}\n",
      "\n",
      " sfs-2021-895\n",
      "\tjson url: http://data.riksdagen.se/dokument/sfs-2021-895.json\n",
      "\tdoc url: https://www.riksdagen.se/sv/dokument-lagar/dokument/_sfs-2021-895\n",
      "\t "
     ]
    },
    {
     "data": {
      "text/html": [
       "<a href=https://www.riksdagen.se/sv/dokument-lagar/dokument/_sfs-2021-895/></a>"
      ],
      "text/plain": [
       "<IPython.core.display.HTML object>"
      ]
     },
     "metadata": {},
     "output_type": "display_data"
    },
    {
     "name": "stdout",
     "output_type": "stream",
     "text": [
      "\n",
      "{'data': ['{\"name\": \"sdgs\", \"children\": [], \"api version\": \"v1\"}']}\n",
      "\n",
      " sfs-2021-936\n",
      "\tjson url: http://data.riksdagen.se/dokument/sfs-2021-936.json\n",
      "\tdoc url: https://www.riksdagen.se/sv/dokument-lagar/dokument/_sfs-2021-936\n",
      "\t "
     ]
    },
    {
     "data": {
      "text/html": [
       "<a href=https://www.riksdagen.se/sv/dokument-lagar/dokument/_sfs-2021-936/></a>"
      ],
      "text/plain": [
       "<IPython.core.display.HTML object>"
      ]
     },
     "metadata": {},
     "output_type": "display_data"
    },
    {
     "name": "stdout",
     "output_type": "stream",
     "text": [
      "\n",
      "{'data': ['{\"name\": \"sdgs\", \"children\": [], \"api version\": \"v1\"}']}\n",
      "\n",
      " sfs-2021-890\n",
      "\tjson url: http://data.riksdagen.se/dokument/sfs-2021-890.json\n",
      "\tdoc url: https://www.riksdagen.se/sv/dokument-lagar/dokument/_sfs-2021-890\n",
      "\t "
     ]
    },
    {
     "data": {
      "text/html": [
       "<a href=https://www.riksdagen.se/sv/dokument-lagar/dokument/_sfs-2021-890/></a>"
      ],
      "text/plain": [
       "<IPython.core.display.HTML object>"
      ]
     },
     "metadata": {},
     "output_type": "display_data"
    },
    {
     "name": "stdout",
     "output_type": "stream",
     "text": [
      "\n",
      "{'data': ['{\"name\": \"sdgs\", \"children\": [], \"api version\": \"v1\"}']}\n"
     ]
    }
   ],
   "source": [
    "\n",
    "for index, row in dftot.iterrows():\n",
    "    urljson = \"http://data.riksdagen.se/dokument/\"+ row['id'] +\".json\"\n",
    "    urldoc = \"https://www.riksdagen.se/sv/dokument-lagar/dokument/_\"+ row['id'] \n",
    "    print(\"\\n\",row['id'])\n",
    "    print(\"\\tjson url:\",urljson)\n",
    "    print(\"\\tdoc url:\",urldoc)\n",
    "    print(\"\\t\",RenderHyperlink(\"\", urldoc))\n",
    "    SDGMapper(urljson)"
   ]
  },
  {
   "cell_type": "code",
   "execution_count": 7,
   "metadata": {},
   "outputs": [
    {
     "name": "stdout",
     "output_type": "stream",
     "text": [
      "End run:  2022-06-20 19:59:06.479196\n"
     ]
    }
   ],
   "source": [
    "print(\"End run: \", datetime.now())"
   ]
  },
  {
   "cell_type": "code",
   "execution_count": null,
   "metadata": {},
   "outputs": [],
   "source": []
  }
 ],
 "metadata": {
  "kernelspec": {
   "display_name": "Python 3",
   "language": "python",
   "name": "python3"
  },
  "language_info": {
   "codemirror_mode": {
    "name": "ipython",
    "version": 3
   },
   "file_extension": ".py",
   "mimetype": "text/x-python",
   "name": "python",
   "nbconvert_exporter": "python",
   "pygments_lexer": "ipython3",
   "version": "3.9.13"
  }
 },
 "nbformat": 4,
 "nbformat_minor": 4
}
